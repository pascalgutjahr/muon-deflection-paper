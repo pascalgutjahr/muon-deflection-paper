{
 "cells": [
  {
   "cell_type": "code",
   "execution_count": 1,
   "id": "896f635e-4dc6-4134-926c-afc7efd162bc",
   "metadata": {},
   "outputs": [],
   "source": [
    "import proposal as pp\n",
    "import numpy as np\n",
    "from tqdm import tqdm\n",
    "import matplotlib as mpl\n",
    "import matplotlib.pyplot as plt\n",
    "import pandas as pd\n",
    "from helper_functions_multi import get_angle_deviation\n",
    "import os"
   ]
  },
  {
   "cell_type": "code",
   "execution_count": 14,
   "id": "06353b45-6743-4b29-a5ce-9d897147e88f",
   "metadata": {},
   "outputs": [],
   "source": [
    "n_events = 2000 # total measured events in akimenko\n",
    "    \n",
    "deflection = [\n",
    "    'bremsginneken', # 'bremstsaiapproximation', \n",
    "    'ioniznaive',\n",
    "    'photoginneken', # 'photoborogpetrukhin',\n",
    "    'epairginneken'] ### same as default\n",
    "    \n",
    "e_cut = 500\n",
    "v_cut = 0.05 \n",
    "cont_rand = False\n",
    "scattering_method = \"moliere\" # \"highland\"\n",
    "  \n",
    "# table_path = \"/Users/pascalgutjahr/.cache/PROPOSAL\" # macbook pro\n",
    "table_path = \"/net/nfshome/home/pgutjahr/.cache/PROPOSAL\" # vollmond\n",
    "    \n",
    "rnd_seed = 71530\n",
    "\n",
    "interpol_nodes = 200\n",
    "\n",
    "initial_direction = [0, 0, 1]\n",
    "\n",
    "beta_brems = 1.0\n",
    "beta_ioniz = 1.0\n",
    "beta_epair = 1.0\n",
    "beta_multiplescatter = 1.0\n",
    "beta_photonuclear = 1.0\n",
    "\n",
    "max_dist = 1e9 # in cm"
   ]
  },
  {
   "cell_type": "code",
   "execution_count": 15,
   "id": "cb49ff9c-1f02-4ab5-9ae7-58cfbce500d1",
   "metadata": {},
   "outputs": [],
   "source": [
    "pp.InterpolationSettings.tables_path = table_path   # version 7\n",
    "    \n",
    "pp.InterpolationSettings.nodes_dndx_e = interpol_nodes\n",
    "pp.InterpolationSettings.nodes_dndx_v = interpol_nodes\n",
    "\n",
    "pp.RandomGenerator.get().set_seed(rnd_seed)\n",
    "args = {\n",
    "        \"particle_def\": pp.particle.MuMinusDef(),\n",
    "        \"target\": pp.medium.Ice(),\n",
    "        \"interpolate\": True,\n",
    "        \"cuts\": pp.EnergyCutSettings(e_cut, v_cut, cont_rand)\n",
    "        }\n",
    "\n",
    "cross = pp.crosssection.make_std_crosssection(**args)\n",
    "multiple_scatter = pp.make_multiple_scattering(scattering_method, args[\"particle_def\"], args[\"target\"], cross, True)\n",
    "\n",
    "stochastic_deflect = []\n",
    "for d in deflection:\n",
    "    stochastic_deflect.append(pp.make_stochastic_deflection(d, \n",
    "    args[\"particle_def\"], args[\"target\"]))\n",
    "\n",
    "\n",
    "collection = pp.PropagationUtilityCollection()\n",
    "collection.displacement = pp.make_displacement(cross, True)\n",
    "collection.interaction = pp.make_interaction(cross, True)\n",
    "collection.time = pp.make_time(cross, args[\"particle_def\"], True)\n",
    "collection.decay = pp.make_decay(cross, args[\"particle_def\"], True)\n",
    "\n",
    "\n",
    "# collection.scattering = pp.scattering.ScatteringMultiplier(multiple_scatter, beta_multiplescatter)\n",
    "# '''\n",
    "collection.scattering = pp.scattering.ScatteringMultiplier(\n",
    "    multiple_scatter, \n",
    "    stochastic_deflect, \n",
    "    beta_multiplescatter, \n",
    "    [(pp.particle.Interaction_Type.brems, beta_brems), (pp.particle.Interaction_Type.ioniz, beta_ioniz), \n",
    "    (pp.particle.Interaction_Type.epair, beta_epair), (pp.particle.Interaction_Type.photonuclear, beta_photonuclear)])\n",
    "# '''\n",
    "\n",
    "utility = pp.PropagationUtility(collection = collection)\n",
    "detector = pp.geometry.Sphere(pp.Cartesian3D(0,0,0), 1e20) # version 7\n",
    "density_distr = pp.density_distribution.density_homogeneous(args[\"target\"].mass_density)\n",
    "\n",
    "\n",
    "prop = pp.Propagator(args[\"particle_def\"], [(detector, utility, density_distr)])\n",
    "\n",
    "init_state = pp.particle.ParticleState()\n",
    "init_state.position = pp.Cartesian3D(0, 0, 0) # version 7\n",
    "init_state.direction = pp.Cartesian3D(initial_direction[0], initial_direction[1], initial_direction[2]) # version 7"
   ]
  },
  {
   "cell_type": "markdown",
   "id": "c90303ac-8826-4357-bc94-59a780ecc755",
   "metadata": {},
   "source": [
    "# 10 TeV to 500 GeV"
   ]
  },
  {
   "cell_type": "code",
   "execution_count": 33,
   "id": "de27bd61-5dc5-486e-9799-9994d5028755",
   "metadata": {},
   "outputs": [
    {
     "name": "stderr",
     "output_type": "stream",
     "text": [
      "100%|██████████| 2000/2000 [00:45<00:00, 43.60it/s]\n"
     ]
    }
   ],
   "source": [
    "E_i = 1e7 # in MeV, 10 TeV\n",
    "E_f = 5e5 # 500 GeV \n",
    "\n",
    "tracks = []\n",
    "deflections_01 = [] # in deg\n",
    "for i in tqdm(range(n_events)):\n",
    "    init_state.energy = E_i # initial energy in MeV\n",
    "    track = prop.propagate(init_state, max_distance = max_dist, min_energy = E_f) # max_dist=1e9    \n",
    "    tracks.append(track)\n",
    "    if track.track_energies()[-1] >= E_f * 0.9:\n",
    "        deflection = get_angle_deviation(track.track_directions()[0].spherical_coordinates[1], track.track_directions()[0].spherical_coordinates[2], track.track_directions()[-1].spherical_coordinates[1], track.track_directions()[-1].spherical_coordinates[2])\n",
    "        deflections_01.append(np.rad2deg(deflection))"
   ]
  },
  {
   "cell_type": "markdown",
   "id": "fe7d692f-bbc0-49d3-b260-d19c72c23289",
   "metadata": {},
   "source": [
    "# 1 PeV to 500 GeV"
   ]
  },
  {
   "cell_type": "code",
   "execution_count": 34,
   "id": "5205f228-3d8b-4d4d-b90b-5863bc026f84",
   "metadata": {},
   "outputs": [
    {
     "name": "stderr",
     "output_type": "stream",
     "text": [
      "100%|██████████| 2000/2000 [05:14<00:00,  6.37it/s]\n"
     ]
    }
   ],
   "source": [
    "E_i = 1e9 # in MeV, 1 PeV\n",
    "E_f = 5e5 # 500 GeV \n",
    "\n",
    "tracks = []\n",
    "deflections_02 = [] # in deg\n",
    "for i in tqdm(range(n_events)):\n",
    "    init_state.energy = E_i # initial energy in MeV\n",
    "    track = prop.propagate(init_state, max_distance = max_dist, min_energy = E_f) # max_dist=1e9    \n",
    "    tracks.append(track)\n",
    "    if track.track_energies()[-1] >= E_f * 0.9:\n",
    "        deflection = get_angle_deviation(track.track_directions()[0].spherical_coordinates[1], track.track_directions()[0].spherical_coordinates[2], track.track_directions()[-1].spherical_coordinates[1], track.track_directions()[-1].spherical_coordinates[2])\n",
    "        deflections_02.append(np.rad2deg(deflection))"
   ]
  },
  {
   "cell_type": "markdown",
   "id": "cca5b186-c935-48ea-bf88-cbb655e3610d",
   "metadata": {},
   "source": [
    "# 1 TeV to 500 GeV"
   ]
  },
  {
   "cell_type": "code",
   "execution_count": 35,
   "id": "e5cfd588-1d95-431e-bfab-044d37fba081",
   "metadata": {},
   "outputs": [
    {
     "name": "stderr",
     "output_type": "stream",
     "text": [
      "100%|██████████| 2000/2000 [00:05<00:00, 386.15it/s]\n"
     ]
    }
   ],
   "source": [
    "E_i = 1e6 # in MeV, 1 TeV\n",
    "E_f = 5e5 # 500 GeV \n",
    "\n",
    "tracks = []\n",
    "deflections_03 = [] # in deg\n",
    "for i in tqdm(range(n_events)):\n",
    "    init_state.energy = E_i # initial energy in MeV\n",
    "    track = prop.propagate(init_state, max_distance = max_dist, min_energy = E_f) # max_dist=1e9    \n",
    "    tracks.append(track)\n",
    "    if track.track_energies()[-1] >= E_f * 0.9:\n",
    "        deflection = get_angle_deviation(track.track_directions()[0].spherical_coordinates[1], track.track_directions()[0].spherical_coordinates[2], track.track_directions()[-1].spherical_coordinates[1], track.track_directions()[-1].spherical_coordinates[2])\n",
    "        deflections_03.append(np.rad2deg(deflection))"
   ]
  },
  {
   "cell_type": "markdown",
   "id": "3f2b16a9-e202-414e-a9e3-066fc45b8567",
   "metadata": {},
   "source": [
    "# 10 PeV to 500 GeV"
   ]
  },
  {
   "cell_type": "code",
   "execution_count": 36,
   "id": "6efbbc30-3f7a-45b2-9c5c-092521e96b89",
   "metadata": {},
   "outputs": [
    {
     "name": "stderr",
     "output_type": "stream",
     "text": [
      "100%|██████████| 2000/2000 [09:13<00:00,  3.61it/s]\n"
     ]
    }
   ],
   "source": [
    "E_i = 1e10 # in MeV, 10 PeV\n",
    "E_f = 5e5 # 500 GeV \n",
    "\n",
    "tracks = []\n",
    "deflections_04 = [] # in deg\n",
    "for i in tqdm(range(n_events)):\n",
    "    init_state.energy = E_i # initial energy in MeV\n",
    "    track = prop.propagate(init_state, max_distance = max_dist, min_energy = E_f) # max_dist=1e9    \n",
    "    tracks.append(track)\n",
    "    if track.track_energies()[-1] >= E_f * 0.9:    \n",
    "        deflection = get_angle_deviation(track.track_directions()[0].spherical_coordinates[1], track.track_directions()[0].spherical_coordinates[2], track.track_directions()[-1].spherical_coordinates[1], track.track_directions()[-1].spherical_coordinates[2])\n",
    "        deflections_04.append(np.rad2deg(deflection))"
   ]
  },
  {
   "cell_type": "markdown",
   "id": "34e297ef-1446-4d0e-b8b3-a62178f64fea",
   "metadata": {},
   "source": [
    "# Plot"
   ]
  },
  {
   "cell_type": "code",
   "execution_count": 37,
   "id": "87809e29-325b-4129-8393-0c5624ea1a0c",
   "metadata": {},
   "outputs": [
    {
     "data": {
      "text/plain": [
       "<matplotlib.legend.Legend at 0x7f83b03abac8>"
      ]
     },
     "execution_count": 37,
     "metadata": {},
     "output_type": "execute_result"
    },
    {
     "data": {
      "image/png": "[encoded data removed]",
      "text/plain": [
       "<Figure size 432x288 with 1 Axes>"
      ]
     },
     "metadata": {
      "needs_background": "light"
     },
     "output_type": "display_data"
    }
   ],
   "source": [
    "bins = np.logspace(-3, 2, 50)\n",
    "plt.hist(deflections_03, bins=bins, histtype='step', label='E_i = 1 TeV')\n",
    "plt.hist(deflections_01, bins=bins, histtype='step', label='E_i = 10 TeV')\n",
    "plt.hist(deflections_02, bins=bins, histtype='step', label='E_i = 1 PeV')\n",
    "plt.hist(deflections_04, bins=bins, histtype='step', label='E_i = 10 PeV')\n",
    "plt.xscale('log')\n",
    "plt.yscale('log')\n",
    "plt.title('E_f = 500 GeV')\n",
    "plt.xlabel('deflection in degree')\n",
    "plt.ylabel('counts')\n",
    "plt.legend()"
   ]
  },
  {
   "cell_type": "code",
   "execution_count": 38,
   "id": "d5195e67-030a-4c3e-b566-39e5209086a5",
   "metadata": {},
   "outputs": [
    {
     "name": "stdout",
     "output_type": "stream",
     "text": [
      "0.103361313104065302725\n",
      "0.09928121937656749292\n",
      "0.08554634195330886852\n",
      "0.10006753744439154658\n"
     ]
    }
   ],
   "source": [
    "print(np.median(deflections_01))\n",
    "print(np.median(deflections_02))\n",
    "print(np.median(deflections_03))\n",
    "print(np.median(deflections_04))"
   ]
  },
  {
   "cell_type": "code",
   "execution_count": null,
   "id": "aa10ba49-c6da-4046-a83a-4f17add9cdc2",
   "metadata": {},
   "outputs": [],
   "source": []
  }
 ],
 "metadata": {
  "kernelspec": {
   "display_name": "Python 3",
   "language": "python",
   "name": "python3"
  },
  "language_info": {
   "codemirror_mode": {
    "name": "ipython",
    "version": 3
   },
   "file_extension": ".py",
   "mimetype": "text/x-python",
   "name": "python",
   "nbconvert_exporter": "python",
   "pygments_lexer": "ipython3",
   "version": "3.6.8"
  }
 },
 "nbformat": 4,
 "nbformat_minor": 5
}
