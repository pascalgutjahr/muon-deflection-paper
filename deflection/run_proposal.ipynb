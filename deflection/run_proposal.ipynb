{
 "cells": [
  {
   "cell_type": "code",
   "execution_count": 2,
   "id": "93bc3ba3-8644-46ef-af47-dd7ff703270c",
   "metadata": {},
   "outputs": [],
   "source": [
    "import proposal as pp\n",
    "import numpy as np\n",
    "from tqdm import tqdm\n",
    "import matplotlib as mpl\n",
    "import matplotlib.pyplot as plt\n",
    "import pandas as pd\n",
    "from helper_functions_multi import get_angle_deviation\n",
    "import os"
   ]
  },
  {
   "cell_type": "code",
   "execution_count": 3,
   "id": "b12d6aa8-8c2b-4ea5-8763-4aff20cd162b",
   "metadata": {},
   "outputs": [],
   "source": [
    "data_dir = 'data/run_proposal/'\n",
    "os.system('mkdir -p {}'.format(data_dir))\n",
    "\n",
    "plot_dir = 'plots/run_proposal/'\n",
    "os.system('mkdir -p {}'.format(plot_dir))\n",
    "\n",
    "save_plot = True"
   ]
  },
  {
   "cell_type": "code",
   "execution_count": 11,
   "id": "b5af9319-b236-4731-b810-e5ae7cba37af",
   "metadata": {},
   "outputs": [],
   "source": [
    "E_i = 1e3\n",
    "E_f = 1e1 \n",
    "n_events = 1000 \n",
    "    \n",
    "deflection = [\n",
    "    'bremsginneken', # 'bremstsaiapproximation', \n",
    "    'ioniznaive',\n",
    "    'photoginneken', # 'photoborogpetrukhin',\n",
    "    'epairginneken'] ### same as default\n",
    "    \n",
    "e_cut = np.inf # 1e10\n",
    "v_cut = 1e-3 # 1e-5\n",
    "cont_rand = True\n",
    "scattering_method = \"moliere\" # \"highland\"\n",
    "# deflection_type = \"m_scat+stochastic\"\n",
    "  \n",
    "# table_path = \"/Users/pascalgutjahr/.cache/PROPOSAL\" # macbook pro\n",
    "table_path = \"/net/nfshome/home/pgutjahr/.cache/PROPOSAL\" # vollmond\n",
    "    \n",
    "rnd_seed = 71530\n",
    "\n",
    "interpol_nodes = 200\n",
    "\n",
    "initial_direction = [0, 0, 1]\n",
    "\n",
    "beta_brems = 1.0\n",
    "beta_ioniz = 1.0\n",
    "beta_epair = 1.0\n",
    "beta_multiplescatter = 1.0\n",
    "beta_photonuclear = 1.0\n",
    "\n",
    "max_dist = 1e2 # in cm"
   ]
  },
  {
   "cell_type": "code",
   "execution_count": 5,
   "id": "120c08d2-6a17-4e97-868a-417df8624441",
   "metadata": {},
   "outputs": [
    {
     "name": "stdout",
     "output_type": "stream",
     "text": [
      "[2023-06-20 17:14:18.992] [TableCreation] [warning] Tables are not available and need to be created. They will be written to '/net/nfshome/home/pgutjahr/.cache/PROPOSAL'. This can take some minutes.\n"
     ]
    }
   ],
   "source": [
    "pp.InterpolationSettings.tables_path = table_path   # version 7\n",
    "    \n",
    "pp.InterpolationSettings.nodes_dndx_e = interpol_nodes\n",
    "pp.InterpolationSettings.nodes_dndx_v = interpol_nodes\n",
    "\n",
    "pp.RandomGenerator.get().set_seed(rnd_seed)\n",
    "args = {\n",
    "        \"particle_def\": pp.particle.MuMinusDef(),\n",
    "        \"target\": pp.medium.Copper(),\n",
    "        \"interpolate\": True,\n",
    "        \"cuts\": pp.EnergyCutSettings(e_cut, v_cut, cont_rand)\n",
    "        }\n",
    "\n",
    "cross = pp.crosssection.make_std_crosssection(**args)\n",
    "multiple_scatter = pp.make_multiple_scattering(scattering_method, args[\"particle_def\"], args[\"target\"], cross, True)\n",
    "\n",
    "stochastic_deflect = []\n",
    "for d in deflection:\n",
    "    stochastic_deflect.append(pp.make_stochastic_deflection(d, \n",
    "    args[\"particle_def\"], args[\"target\"]))\n",
    "\n",
    "\n",
    "collection = pp.PropagationUtilityCollection()\n",
    "collection.displacement = pp.make_displacement(cross, True)\n",
    "collection.interaction = pp.make_interaction(cross, True)\n",
    "collection.time = pp.make_time(cross, args[\"particle_def\"], True)\n",
    "collection.decay = pp.make_decay(cross, args[\"particle_def\"], True)\n",
    "\n",
    "\n",
    "\n",
    "collection.scattering = pp.scattering.ScatteringMultiplier(\n",
    "    multiple_scatter, \n",
    "    stochastic_deflect, \n",
    "    beta_multiplescatter, \n",
    "    [(pp.particle.Interaction_Type.brems, beta_brems), (pp.particle.Interaction_Type.ioniz, beta_ioniz), \n",
    "    (pp.particle.Interaction_Type.epair, beta_epair), (pp.particle.Interaction_Type.photonuclear, beta_photonuclear)])\n",
    "\n",
    "utility = pp.PropagationUtility(collection = collection)\n",
    "detector = pp.geometry.Sphere(pp.Cartesian3D(0,0,0), 1e20) # version 7\n",
    "density_distr = pp.density_distribution.density_homogeneous(args[\"target\"].mass_density)\n",
    "\n",
    "\n",
    "prop = pp.Propagator(args[\"particle_def\"], [(detector, utility, density_distr)])\n",
    "\n",
    "init_state = pp.particle.ParticleState()\n",
    "init_state.position = pp.Cartesian3D(0, 0, 0) # version 7\n",
    "init_state.direction = pp.Cartesian3D(initial_direction[0], initial_direction[1], initial_direction[2]) # version 7"
   ]
  },
  {
   "attachments": {},
   "cell_type": "markdown",
   "id": "e211407c-8c7c-4af7-88a4-c426f5549097",
   "metadata": {},
   "source": [
    "# Run simulation"
   ]
  },
  {
   "cell_type": "code",
   "execution_count": 12,
   "id": "3659b805-ab88-4161-8260-88f5af28ada5",
   "metadata": {},
   "outputs": [
    {
     "name": "stderr",
     "output_type": "stream",
     "text": [
      "  8%|▊         | 78/1000 [00:00<00:02, 373.81it/s]"
     ]
    },
    {
     "name": "stdout",
     "output_type": "stream",
     "text": [
      "[2023-06-20 17:27:58.352] [proposal.interaction] [warning] No stochastic interaction possible for initial energy 112.55637147065514 MeV.\n",
      "[2023-06-20 17:27:58.412] [proposal.interaction] [warning] No stochastic interaction possible for initial energy 112.83651027831924 MeV.\n",
      "[2023-06-20 17:27:58.442] [proposal.interaction] [warning] No stochastic interaction possible for initial energy 112.68595246422912 MeV.\n",
      "[2023-06-20 17:27:58.450] [proposal.interaction] [warning] No stochastic interaction possible for initial energy 112.55110990261693 MeV.\n",
      "[2023-06-20 17:27:58.569] [proposal.interaction] [warning] No stochastic interaction possible for initial energy 112.38633702097796 MeV.\n",
      "[2023-06-20 17:27:58.581] [proposal.interaction] [warning] No stochastic interaction possible for initial energy 111.97706573632267 MeV.\n"
     ]
    },
    {
     "name": "stderr",
     "output_type": "stream",
     "text": [
      " 16%|█▌        | 162/1000 [00:00<00:02, 407.60it/s]"
     ]
    },
    {
     "name": "stdout",
     "output_type": "stream",
     "text": [
      "[2023-06-20 17:27:58.584] [proposal.interaction] [warning] No stochastic interaction possible for initial energy 112.56713239655244 MeV.\n",
      "[2023-06-20 17:27:58.606] [proposal.interaction] [warning] No stochastic interaction possible for initial energy 112.76319244294474 MeV.\n",
      "[2023-06-20 17:27:58.650] [proposal.interaction] [warning] No stochastic interaction possible for initial energy 112.54423118696725 MeV.\n",
      "[2023-06-20 17:27:58.653] [proposal.interaction] [warning] No stochastic interaction possible for initial energy 112.42317875127448 MeV.\n",
      "[2023-06-20 17:27:58.737] [proposal.interaction] [warning] No stochastic interaction possible for initial energy 112.82511184680604 MeV.\n",
      "[2023-06-20 17:27:58.754] [proposal.interaction] [warning] No stochastic interaction possible for initial energy 111.73623109261158 MeV.\n",
      "[2023-06-20 17:27:58.759] [proposal.interaction] [warning] No stochastic interaction possible for initial energy 112.74855273845426 MeV.\n",
      "[2023-06-20 17:27:58.762] [proposal.interaction] [warning] No stochastic interaction possible for initial energy 112.68833644902867 MeV.\n",
      "[2023-06-20 17:27:58.775] [proposal.interaction] [warning] No stochastic interaction possible for initial energy 112.67967277038247 MeV.\n",
      "[2023-06-20 17:27:58.775] [proposal.interaction] [warning] No stochastic interaction possible for initial energy 112.27925389552227 MeV.\n",
      "[2023-06-20 17:27:58.786] [proposal.interaction] [warning] No stochastic interaction possible for initial energy 112.42136743258037 MeV.\n"
     ]
    },
    {
     "name": "stderr",
     "output_type": "stream",
     "text": [
      " 24%|██▍       | 243/1000 [00:00<00:01, 394.30it/s]"
     ]
    },
    {
     "name": "stdout",
     "output_type": "stream",
     "text": [
      "[2023-06-20 17:27:58.815] [proposal.interaction] [warning] No stochastic interaction possible for initial energy 112.41355514152364 MeV.\n",
      "[2023-06-20 17:27:58.856] [proposal.interaction] [warning] No stochastic interaction possible for initial energy 111.75434895405252 MeV.\n",
      "[2023-06-20 17:27:58.874] [proposal.interaction] [warning] No stochastic interaction possible for initial energy 112.173401449095 MeV.\n",
      "[2023-06-20 17:27:58.932] [proposal.interaction] [warning] No stochastic interaction possible for initial energy 112.6474754805658 MeV.\n",
      "[2023-06-20 17:27:58.941] [proposal.interaction] [warning] No stochastic interaction possible for initial energy 112.2116911186332 MeV.\n",
      "[2023-06-20 17:27:58.943] [proposal.interaction] [warning] No stochastic interaction possible for initial energy 112.09894915287228 MeV.\n",
      "[2023-06-20 17:27:58.978] [proposal.interaction] [warning] No stochastic interaction possible for initial energy 112.17484978410779 MeV.\n",
      "[2023-06-20 17:27:58.986] [proposal.interaction] [warning] No stochastic interaction possible for initial energy 112.80148060039875 MeV.\n",
      "[2023-06-20 17:27:59.005] [proposal.interaction] [warning] No stochastic interaction possible for initial energy 112.2698568973282 MeV.\n",
      "[2023-06-20 17:27:59.012] [proposal.interaction] [warning] No stochastic interaction possible for initial energy 111.84368185209455 MeV.\n",
      "[2023-06-20 17:27:59.032] [proposal.interaction] [warning] No stochastic interaction possible for initial energy 112.82143971283439 MeV.\n"
     ]
    },
    {
     "name": "stderr",
     "output_type": "stream",
     "text": [
      " 36%|███▋      | 363/1000 [00:00<00:01, 386.43it/s]"
     ]
    },
    {
     "name": "stdout",
     "output_type": "stream",
     "text": [
      "[2023-06-20 17:27:59.059] [proposal.interaction] [warning] No stochastic interaction possible for initial energy 112.83110291917066 MeV.\n",
      "[2023-06-20 17:27:59.099] [proposal.interaction] [warning] No stochastic interaction possible for initial energy 111.90929122323637 MeV.\n",
      "[2023-06-20 17:27:59.101] [proposal.interaction] [warning] No stochastic interaction possible for initial energy 111.91978659894662 MeV.\n",
      "[2023-06-20 17:27:59.106] [proposal.interaction] [warning] No stochastic interaction possible for initial energy 112.76270090792087 MeV.\n",
      "[2023-06-20 17:27:59.169] [proposal.interaction] [warning] No stochastic interaction possible for initial energy 112.60308535765053 MeV.\n",
      "[2023-06-20 17:27:59.179] [proposal.interaction] [warning] No stochastic interaction possible for initial energy 112.42992124479174 MeV.\n",
      "[2023-06-20 17:27:59.190] [proposal.interaction] [warning] No stochastic interaction possible for initial energy 112.55337216807534 MeV.\n",
      "[2023-06-20 17:27:59.190] [proposal.interaction] [warning] No stochastic interaction possible for initial energy 112.5526961859239 MeV.\n",
      "[2023-06-20 17:27:59.196] [proposal.interaction] [warning] No stochastic interaction possible for initial energy 112.6141652481854 MeV.\n",
      "[2023-06-20 17:27:59.204] [proposal.interaction] [warning] No stochastic interaction possible for initial energy 111.9571103584159 MeV.\n",
      "[2023-06-20 17:27:59.207] [proposal.interaction] [warning] No stochastic interaction possible for initial energy 112.07216710121405 MeV.\n",
      "[2023-06-20 17:27:59.207] [proposal.interaction] [warning] No stochastic interaction possible for initial energy 112.04297270460111 MeV.\n",
      "[2023-06-20 17:27:59.214] [proposal.interaction] [warning] No stochastic interaction possible for initial energy 112.63381725193092 MeV.\n",
      "[2023-06-20 17:27:59.276] [proposal.interaction] [warning] No stochastic interaction possible for initial energy 112.53067424849075 MeV.\n"
     ]
    },
    {
     "name": "stderr",
     "output_type": "stream",
     "text": [
      " 44%|████▍     | 442/1000 [00:01<00:01, 386.35it/s]"
     ]
    },
    {
     "name": "stdout",
     "output_type": "stream",
     "text": [
      "[2023-06-20 17:27:59.291] [proposal.interaction] [warning] No stochastic interaction possible for initial energy 112.37831506173787 MeV.\n",
      "[2023-06-20 17:27:59.350] [proposal.interaction] [warning] No stochastic interaction possible for initial energy 112.5033595427548 MeV.\n",
      "[2023-06-20 17:27:59.367] [proposal.interaction] [warning] No stochastic interaction possible for initial energy 112.78953769598505 MeV.\n",
      "[2023-06-20 17:27:59.389] [proposal.interaction] [warning] No stochastic interaction possible for initial energy 112.75217594715131 MeV.\n",
      "[2023-06-20 17:27:59.426] [proposal.interaction] [warning] No stochastic interaction possible for initial energy 112.73497922911208 MeV.\n",
      "[2023-06-20 17:27:59.452] [proposal.interaction] [warning] No stochastic interaction possible for initial energy 111.82841703414725 MeV.\n",
      "[2023-06-20 17:27:59.452] [proposal.interaction] [warning] No stochastic interaction possible for initial energy 111.78807237043145 MeV.\n",
      "[2023-06-20 17:27:59.459] [proposal.interaction] [warning] No stochastic interaction possible for initial energy 112.8273823382643 MeV.\n",
      "[2023-06-20 17:27:59.467] [proposal.interaction] [warning] No stochastic interaction possible for initial energy 112.0843257620433 MeV.\n",
      "[2023-06-20 17:27:59.514] [proposal.interaction] [warning] No stochastic interaction possible for initial energy 112.73563514414559 MeV.\n"
     ]
    },
    {
     "name": "stderr",
     "output_type": "stream",
     "text": [
      " 56%|█████▌    | 559/1000 [00:01<00:01, 382.84it/s]"
     ]
    },
    {
     "name": "stdout",
     "output_type": "stream",
     "text": [
      "[2023-06-20 17:27:59.575] [proposal.interaction] [warning] No stochastic interaction possible for initial energy 112.18734796180152 MeV.\n",
      "[2023-06-20 17:27:59.677] [proposal.interaction] [warning] No stochastic interaction possible for initial energy 112.53498132026955 MeV.\n",
      "[2023-06-20 17:27:59.680] [proposal.interaction] [warning] No stochastic interaction possible for initial energy 111.78371337265303 MeV.\n",
      "[2023-06-20 17:27:59.690] [proposal.interaction] [warning] No stochastic interaction possible for initial energy 112.090458311508 MeV.\n",
      "[2023-06-20 17:27:59.712] [proposal.interaction] [warning] No stochastic interaction possible for initial energy 112.20464613215877 MeV.\n",
      "[2023-06-20 17:27:59.723] [proposal.interaction] [warning] No stochastic interaction possible for initial energy 112.75111882842646 MeV.\n",
      "[2023-06-20 17:27:59.738] [proposal.interaction] [warning] No stochastic interaction possible for initial energy 112.43765717238986 MeV.\n",
      "[2023-06-20 17:27:59.748] [proposal.interaction] [warning] No stochastic interaction possible for initial energy 112.16258771532324 MeV.\n",
      "[2023-06-20 17:27:59.762] [proposal.interaction] [warning] No stochastic interaction possible for initial energy 111.90603516729057 MeV.\n",
      "[2023-06-20 17:27:59.785] [proposal.interaction] [warning] No stochastic interaction possible for initial energy 111.78343908317578 MeV.\n",
      "[2023-06-20 17:27:59.788] [proposal.interaction] [warning] No stochastic interaction possible for initial energy 112.66635221575987 MeV.\n",
      "[2023-06-20 17:27:59.788] [proposal.interaction] [warning] No stochastic interaction possible for initial energy 112.53204703030238 MeV.\n",
      "[2023-06-20 17:27:59.788] [proposal.interaction] [warning] No stochastic interaction possible for initial energy 112.15541137664133 MeV.\n"
     ]
    },
    {
     "name": "stderr",
     "output_type": "stream",
     "text": [
      " 64%|██████▎   | 636/1000 [00:01<00:00, 376.41it/s]"
     ]
    },
    {
     "name": "stdout",
     "output_type": "stream",
     "text": [
      "[2023-06-20 17:27:59.801] [proposal.interaction] [warning] No stochastic interaction possible for initial energy 112.76170544231013 MeV.\n",
      "[2023-06-20 17:27:59.801] [proposal.interaction] [warning] No stochastic interaction possible for initial energy 112.21013603425214 MeV.\n",
      "[2023-06-20 17:27:59.861] [proposal.interaction] [warning] No stochastic interaction possible for initial energy 112.4284708062288 MeV.\n",
      "[2023-06-20 17:27:59.864] [proposal.interaction] [warning] No stochastic interaction possible for initial energy 112.79231701204384 MeV.\n",
      "[2023-06-20 17:27:59.882] [proposal.interaction] [warning] No stochastic interaction possible for initial energy 111.84211430004856 MeV.\n",
      "[2023-06-20 17:27:59.892] [proposal.interaction] [warning] No stochastic interaction possible for initial energy 112.64708113448808 MeV.\n",
      "[2023-06-20 17:27:59.939] [proposal.interaction] [warning] No stochastic interaction possible for initial energy 112.6218189056956 MeV.\n",
      "[2023-06-20 17:27:59.967] [proposal.interaction] [warning] No stochastic interaction possible for initial energy 112.67513519605504 MeV.\n",
      "[2023-06-20 17:28:00.006] [proposal.interaction] [warning] No stochastic interaction possible for initial energy 112.77240732872849 MeV.\n",
      "[2023-06-20 17:28:00.009] [proposal.interaction] [warning] No stochastic interaction possible for initial energy 112.44274900197222 MeV.\n"
     ]
    },
    {
     "name": "stderr",
     "output_type": "stream",
     "text": [
      " 75%|███████▌  | 750/1000 [00:01<00:00, 376.68it/s]"
     ]
    },
    {
     "name": "stdout",
     "output_type": "stream",
     "text": [
      "[2023-06-20 17:28:00.103] [proposal.interaction] [warning] No stochastic interaction possible for initial energy 112.59718644008123 MeV.\n",
      "[2023-06-20 17:28:00.163] [proposal.interaction] [warning] No stochastic interaction possible for initial energy 112.65621229090983 MeV.\n",
      "[2023-06-20 17:28:00.180] [proposal.interaction] [warning] No stochastic interaction possible for initial energy 112.50396586517111 MeV.\n",
      "[2023-06-20 17:28:00.261] [proposal.interaction] [warning] No stochastic interaction possible for initial energy 111.6890847705337 MeV.\n",
      "[2023-06-20 17:28:00.266] [proposal.interaction] [warning] No stochastic interaction possible for initial energy 112.50496913980454 MeV.\n",
      "[2023-06-20 17:28:00.271] [proposal.interaction] [warning] No stochastic interaction possible for initial energy 112.17573062928314 MeV.\n",
      "[2023-06-20 17:28:00.285] [proposal.interaction] [warning] No stochastic interaction possible for initial energy 111.73431388423536 MeV.\n",
      "[2023-06-20 17:28:00.306] [proposal.interaction] [warning] No stochastic interaction possible for initial energy 112.42060296351241 MeV.\n"
     ]
    },
    {
     "name": "stderr",
     "output_type": "stream",
     "text": [
      " 83%|████████▎ | 828/1000 [00:02<00:00, 381.15it/s]"
     ]
    },
    {
     "name": "stdout",
     "output_type": "stream",
     "text": [
      "[2023-06-20 17:28:00.309] [proposal.interaction] [warning] No stochastic interaction possible for initial energy 112.15823476346995 MeV.\n",
      "[2023-06-20 17:28:00.376] [proposal.interaction] [warning] No stochastic interaction possible for initial energy 112.80806629511945 MeV.\n",
      "[2023-06-20 17:28:00.385] [proposal.interaction] [warning] No stochastic interaction possible for initial energy 112.20877219465532 MeV.\n",
      "[2023-06-20 17:28:00.401] [proposal.interaction] [warning] No stochastic interaction possible for initial energy 111.72434325751915 MeV.\n",
      "[2023-06-20 17:28:00.412] [proposal.interaction] [warning] No stochastic interaction possible for initial energy 112.0526748021913 MeV.\n",
      "[2023-06-20 17:28:00.419] [proposal.interaction] [warning] No stochastic interaction possible for initial energy 112.34087101978673 MeV.\n",
      "[2023-06-20 17:28:00.448] [proposal.interaction] [warning] No stochastic interaction possible for initial energy 112.06930761578752 MeV.\n",
      "[2023-06-20 17:28:00.462] [proposal.interaction] [warning] No stochastic interaction possible for initial energy 112.50818356564662 MeV.\n",
      "[2023-06-20 17:28:00.462] [proposal.interaction] [warning] No stochastic interaction possible for initial energy 111.99379207262535 MeV.\n",
      "[2023-06-20 17:28:00.501] [proposal.interaction] [warning] No stochastic interaction possible for initial energy 111.73376540264564 MeV.\n",
      "[2023-06-20 17:28:00.507] [proposal.interaction] [warning] No stochastic interaction possible for initial energy 112.31847539842701 MeV.\n",
      "[2023-06-20 17:28:00.518] [proposal.interaction] [warning] No stochastic interaction possible for initial energy 112.59249466382718 MeV.\n"
     ]
    },
    {
     "name": "stderr",
     "output_type": "stream",
     "text": [
      " 90%|█████████ | 905/1000 [00:02<00:00, 377.96it/s]"
     ]
    },
    {
     "name": "stdout",
     "output_type": "stream",
     "text": [
      "[2023-06-20 17:28:00.571] [proposal.interaction] [warning] No stochastic interaction possible for initial energy 111.86226685827461 MeV.\n",
      "[2023-06-20 17:28:00.596] [proposal.interaction] [warning] No stochastic interaction possible for initial energy 112.61932362258008 MeV.\n",
      "[2023-06-20 17:28:00.724] [proposal.interaction] [warning] No stochastic interaction possible for initial energy 112.78290413589527 MeV.\n"
     ]
    },
    {
     "name": "stderr",
     "output_type": "stream",
     "text": [
      "100%|██████████| 1000/1000 [00:02<00:00, 381.80it/s]"
     ]
    },
    {
     "name": "stdout",
     "output_type": "stream",
     "text": [
      "[2023-06-20 17:28:00.818] [proposal.interaction] [warning] No stochastic interaction possible for initial energy 112.46315175458739 MeV.\n",
      "[2023-06-20 17:28:00.825] [proposal.interaction] [warning] No stochastic interaction possible for initial energy 112.778654492333 MeV.\n",
      "[2023-06-20 17:28:00.834] [proposal.interaction] [warning] No stochastic interaction possible for initial energy 112.7681805060577 MeV.\n",
      "[2023-06-20 17:28:00.848] [proposal.interaction] [warning] No stochastic interaction possible for initial energy 111.96915544300424 MeV.\n",
      "[2023-06-20 17:28:00.868] [proposal.interaction] [warning] No stochastic interaction possible for initial energy 112.53836761256639 MeV.\n",
      "[2023-06-20 17:28:00.884] [proposal.interaction] [warning] No stochastic interaction possible for initial energy 111.8659605614594 MeV.\n",
      "[2023-06-20 17:28:00.934] [proposal.interaction] [warning] No stochastic interaction possible for initial energy 112.8219279516572 MeV.\n"
     ]
    },
    {
     "name": "stderr",
     "output_type": "stream",
     "text": [
      "\n"
     ]
    }
   ],
   "source": [
    "tracks = []\n",
    "for i in tqdm(range(n_events)):\n",
    "    init_state.energy = E_i # initial energy in MeV\n",
    "    track = prop.propagate(init_state, max_distance = max_dist, min_energy = E_f) # max_dist=1e9\n",
    "    tracks.append(track)"
   ]
  },
  {
   "cell_type": "code",
   "execution_count": 13,
   "id": "eece718e-51a7-4907-9de4-e85210f1929f",
   "metadata": {},
   "outputs": [
    {
     "name": "stderr",
     "output_type": "stream",
     "text": [
      "100%|██████████| 1000/1000 [00:01<00:00, 519.85it/s]\n"
     ]
    }
   ],
   "source": [
    "tracks_zenith = []\n",
    "tracks_azimuth = []\n",
    "tracks_x = []\n",
    "tracks_y = []\n",
    "tracks_z = []\n",
    "tracks_pos_x = []\n",
    "tracks_pos_y = []\n",
    "tracks_pos_z = []\n",
    "for track in tqdm(tracks):\n",
    "    tracks_zenith.append(track.track_directions()[-1].spherical_coordinates[2])\n",
    "    tracks_azimuth.append(track.track_directions()[-1].spherical_coordinates[1])\n",
    "    tracks_x.append(track.track_directions()[-1].x)\n",
    "    tracks_y.append(track.track_directions()[-1].y)\n",
    "    tracks_z.append(track.track_directions()[-1].z)\n",
    "    tracks_pos_x.append(track.track_positions()[-1].x)\n",
    "    tracks_pos_y.append(track.track_positions()[-1].y)\n",
    "    tracks_pos_z.append(track.track_positions()[-1].z)"
   ]
  },
  {
   "cell_type": "code",
   "execution_count": 14,
   "id": "c3054516-f7a6-4a96-9262-60abd61fcefd",
   "metadata": {},
   "outputs": [
    {
     "data": {
      "text/plain": [
       "<matplotlib.legend.Legend at 0x7f32a1ed1d90>"
      ]
     },
     "execution_count": 14,
     "metadata": {},
     "output_type": "execute_result"
    },
    {
     "data": {
      "image/png": "[encoded data removed]",
      "text/plain": [
       "<Figure size 640x480 with 1 Axes>"
      ]
     },
     "metadata": {},
     "output_type": "display_data"
    }
   ],
   "source": [
    "bins = np.linspace(-np.pi, np.pi, 50)\n",
    "plt.hist(tracks_azimuth, bins=bins, histtype='step', label='azimuth')\n",
    "plt.hist(tracks_zenith, bins=bins, histtype='step', label='zenith')\n",
    "plt.xlabel('angle in rad')\n",
    "plt.yscale('log')\n",
    "plt.legend()"
   ]
  },
  {
   "cell_type": "code",
   "execution_count": 15,
   "id": "42bd79a0-629c-42ae-9dc4-6310b31c3f6e",
   "metadata": {},
   "outputs": [
    {
     "data": {
      "text/plain": [
       "6.0"
      ]
     },
     "execution_count": 15,
     "metadata": {},
     "output_type": "execute_result"
    },
    {
     "data": {
      "image/png": "[encoded data removed]",
      "text/plain": [
       "<Figure size 640x480 with 2 Axes>"
      ]
     },
     "metadata": {},
     "output_type": "display_data"
    }
   ],
   "source": [
    "bins = (np.linspace(min(tracks_x), max(tracks_x), 50), np.linspace(min(tracks_y), max(tracks_y), 50))\n",
    "n = plt.hist2d(tracks_x, tracks_y, bins=bins, norm=mpl.colors.LogNorm(), cmap=mpl.cm.gray)\n",
    "plt.colorbar()\n",
    "np.max(n[0])"
   ]
  },
  {
   "cell_type": "code",
   "execution_count": null,
   "id": "3832242e",
   "metadata": {},
   "outputs": [],
   "source": []
  },
  {
   "cell_type": "code",
   "execution_count": null,
   "id": "9df4c413",
   "metadata": {},
   "outputs": [],
   "source": []
  },
  {
   "attachments": {},
   "cell_type": "markdown",
   "id": "daf5c1a5-fe4e-4704-a095-aff4195b86e4",
   "metadata": {},
   "source": [
    "## save data"
   ]
  },
  {
   "cell_type": "code",
   "execution_count": 16,
   "id": "4d51d3c7-bda2-4f5b-8bf2-3ee1394f4085",
   "metadata": {},
   "outputs": [
    {
     "name": "stdout",
     "output_type": "stream",
     "text": [
      "E1000_moliere_v_cut0.001\n"
     ]
    },
    {
     "name": "stderr",
     "output_type": "stream",
     "text": [
      "/scratch/pgutjahr/virtualenvs/proposal_v762/lib64/python3.9/site-packages/tables/path.py:137: NaturalNameWarning: object name is not a valid Python identifier: 'E1000_moliere_v_cut0.001'; it does not match the pattern ``^[a-zA-Z_][a-zA-Z0-9_]*$``; you will not be able to use natural naming to access this object; using ``getattr()`` will still work, though\n",
      "  check_attribute_name(name)\n"
     ]
    }
   ],
   "source": [
    "# '''\n",
    "df = pd.DataFrame()\n",
    "df['tracks_x'] = tracks_x\n",
    "df['tracks_y'] = tracks_y\n",
    "df['tracks_z'] = tracks_z\n",
    "df['tracks_pos_x'] = tracks_pos_x\n",
    "df['tracks_pos_y'] = tracks_pos_y\n",
    "df['tracks_pos_z'] = tracks_pos_z\n",
    "df['tracks_zenith'] = tracks_zenith\n",
    "df['tracks_azimuth'] = tracks_azimuth\n",
    "key = 'E{}_{}_v_cut{}'.format(int(E_i), scattering_method, v_cut)\n",
    "df.to_hdf(data_dir + 'test.hdf5', key=key)\n",
    "print(key)\n",
    "# '''"
   ]
  },
  {
   "attachments": {},
   "cell_type": "markdown",
   "id": "784a2693-92f3-4116-bf03-986dafb32315",
   "metadata": {},
   "source": [
    "## read data"
   ]
  },
  {
   "cell_type": "code",
   "execution_count": 17,
   "id": "c92e6b39-f4f5-43e0-8c99-3b4a653db8e1",
   "metadata": {},
   "outputs": [
    {
     "data": {
      "text/html": [
       "<div>\n",
       "<style scoped>\n",
       "    .dataframe tbody tr th:only-of-type {\n",
       "        vertical-align: middle;\n",
       "    }\n",
       "\n",
       "    .dataframe tbody tr th {\n",
       "        vertical-align: top;\n",
       "    }\n",
       "\n",
       "    .dataframe thead th {\n",
       "        text-align: right;\n",
       "    }\n",
       "</style>\n",
       "<table border=\"1\" class=\"dataframe\">\n",
       "  <thead>\n",
       "    <tr style=\"text-align: right;\">\n",
       "      <th></th>\n",
       "      <th>tracks_x</th>\n",
       "      <th>tracks_y</th>\n",
       "      <th>tracks_z</th>\n",
       "      <th>tracks_pos_x</th>\n",
       "      <th>tracks_pos_y</th>\n",
       "      <th>tracks_pos_z</th>\n",
       "      <th>tracks_zenith</th>\n",
       "      <th>tracks_azimuth</th>\n",
       "    </tr>\n",
       "  </thead>\n",
       "  <tbody>\n",
       "    <tr>\n",
       "      <th>0</th>\n",
       "      <td>-0.420462</td>\n",
       "      <td>0.280452</td>\n",
       "      <td>0.862878</td>\n",
       "      <td>-6.560786</td>\n",
       "      <td>-0.437505</td>\n",
       "      <td>64.774407</td>\n",
       "      <td>0.529860</td>\n",
       "      <td>2.553352</td>\n",
       "    </tr>\n",
       "    <tr>\n",
       "      <th>1</th>\n",
       "      <td>-0.084820</td>\n",
       "      <td>-0.074196</td>\n",
       "      <td>0.993630</td>\n",
       "      <td>-6.395921</td>\n",
       "      <td>2.921765</td>\n",
       "      <td>66.727230</td>\n",
       "      <td>0.112932</td>\n",
       "      <td>-2.422905</td>\n",
       "    </tr>\n",
       "    <tr>\n",
       "      <th>2</th>\n",
       "      <td>-0.029264</td>\n",
       "      <td>-0.856502</td>\n",
       "      <td>0.515314</td>\n",
       "      <td>-7.156137</td>\n",
       "      <td>-5.105387</td>\n",
       "      <td>64.134472</td>\n",
       "      <td>1.029422</td>\n",
       "      <td>-1.604950</td>\n",
       "    </tr>\n",
       "    <tr>\n",
       "      <th>3</th>\n",
       "      <td>0.609816</td>\n",
       "      <td>0.505438</td>\n",
       "      <td>0.610457</td>\n",
       "      <td>-0.218937</td>\n",
       "      <td>4.063705</td>\n",
       "      <td>64.653165</td>\n",
       "      <td>0.914159</td>\n",
       "      <td>0.692079</td>\n",
       "    </tr>\n",
       "    <tr>\n",
       "      <th>4</th>\n",
       "      <td>0.537708</td>\n",
       "      <td>-0.597145</td>\n",
       "      <td>0.595221</td>\n",
       "      <td>-1.398467</td>\n",
       "      <td>-8.770463</td>\n",
       "      <td>61.523139</td>\n",
       "      <td>0.933255</td>\n",
       "      <td>-0.837724</td>\n",
       "    </tr>\n",
       "    <tr>\n",
       "      <th>...</th>\n",
       "      <td>...</td>\n",
       "      <td>...</td>\n",
       "      <td>...</td>\n",
       "      <td>...</td>\n",
       "      <td>...</td>\n",
       "      <td>...</td>\n",
       "      <td>...</td>\n",
       "      <td>...</td>\n",
       "    </tr>\n",
       "    <tr>\n",
       "      <th>995</th>\n",
       "      <td>-0.318902</td>\n",
       "      <td>-0.240623</td>\n",
       "      <td>0.916735</td>\n",
       "      <td>-0.008013</td>\n",
       "      <td>8.037907</td>\n",
       "      <td>65.907033</td>\n",
       "      <td>0.410968</td>\n",
       "      <td>-2.495196</td>\n",
       "    </tr>\n",
       "    <tr>\n",
       "      <th>996</th>\n",
       "      <td>0.462489</td>\n",
       "      <td>-0.301492</td>\n",
       "      <td>0.833791</td>\n",
       "      <td>-2.491889</td>\n",
       "      <td>-2.950777</td>\n",
       "      <td>67.611443</td>\n",
       "      <td>0.584858</td>\n",
       "      <td>-0.577703</td>\n",
       "    </tr>\n",
       "    <tr>\n",
       "      <th>997</th>\n",
       "      <td>0.087567</td>\n",
       "      <td>-0.658126</td>\n",
       "      <td>0.747798</td>\n",
       "      <td>1.762293</td>\n",
       "      <td>-2.355228</td>\n",
       "      <td>61.782514</td>\n",
       "      <td>0.726056</td>\n",
       "      <td>-1.438519</td>\n",
       "    </tr>\n",
       "    <tr>\n",
       "      <th>998</th>\n",
       "      <td>0.566290</td>\n",
       "      <td>-0.092223</td>\n",
       "      <td>0.819031</td>\n",
       "      <td>2.880409</td>\n",
       "      <td>3.353045</td>\n",
       "      <td>62.620465</td>\n",
       "      <td>0.611077</td>\n",
       "      <td>-0.161438</td>\n",
       "    </tr>\n",
       "    <tr>\n",
       "      <th>999</th>\n",
       "      <td>0.659548</td>\n",
       "      <td>-0.325512</td>\n",
       "      <td>0.677524</td>\n",
       "      <td>5.195315</td>\n",
       "      <td>-1.324353</td>\n",
       "      <td>66.210420</td>\n",
       "      <td>0.826405</td>\n",
       "      <td>-0.458465</td>\n",
       "    </tr>\n",
       "  </tbody>\n",
       "</table>\n",
       "<p>1000 rows × 8 columns</p>\n",
       "</div>"
      ],
      "text/plain": [
       "     tracks_x  tracks_y  tracks_z  tracks_pos_x  tracks_pos_y  tracks_pos_z  \\\n",
       "0   -0.420462  0.280452  0.862878     -6.560786     -0.437505     64.774407   \n",
       "1   -0.084820 -0.074196  0.993630     -6.395921      2.921765     66.727230   \n",
       "2   -0.029264 -0.856502  0.515314     -7.156137     -5.105387     64.134472   \n",
       "3    0.609816  0.505438  0.610457     -0.218937      4.063705     64.653165   \n",
       "4    0.537708 -0.597145  0.595221     -1.398467     -8.770463     61.523139   \n",
       "..        ...       ...       ...           ...           ...           ...   \n",
       "995 -0.318902 -0.240623  0.916735     -0.008013      8.037907     65.907033   \n",
       "996  0.462489 -0.301492  0.833791     -2.491889     -2.950777     67.611443   \n",
       "997  0.087567 -0.658126  0.747798      1.762293     -2.355228     61.782514   \n",
       "998  0.566290 -0.092223  0.819031      2.880409      3.353045     62.620465   \n",
       "999  0.659548 -0.325512  0.677524      5.195315     -1.324353     66.210420   \n",
       "\n",
       "     tracks_zenith  tracks_azimuth  \n",
       "0         0.529860        2.553352  \n",
       "1         0.112932       -2.422905  \n",
       "2         1.029422       -1.604950  \n",
       "3         0.914159        0.692079  \n",
       "4         0.933255       -0.837724  \n",
       "..             ...             ...  \n",
       "995       0.410968       -2.495196  \n",
       "996       0.584858       -0.577703  \n",
       "997       0.726056       -1.438519  \n",
       "998       0.611077       -0.161438  \n",
       "999       0.826405       -0.458465  \n",
       "\n",
       "[1000 rows x 8 columns]"
      ]
     },
     "execution_count": 17,
     "metadata": {},
     "output_type": "execute_result"
    }
   ],
   "source": [
    "key_0 = 'E1000_moliere_v_cut0.001'\n",
    "df_0 = pd.read_hdf(data_dir + 'test.hdf5', key=key_0)\n",
    "df_0"
   ]
  },
  {
   "attachments": {},
   "cell_type": "markdown",
   "id": "5be14b96-3fd9-49d9-8297-e733656040e4",
   "metadata": {},
   "source": [
    "# Plot all "
   ]
  },
  {
   "attachments": {},
   "cell_type": "markdown",
   "id": "840d1d64",
   "metadata": {},
   "source": []
  }
 ],
 "metadata": {
  "kernelspec": {
   "display_name": "Python 3",
   "language": "python",
   "name": "python3"
  },
  "language_info": {
   "codemirror_mode": {
    "name": "ipython",
    "version": 3
   },
   "file_extension": ".py",
   "mimetype": "text/x-python",
   "name": "python",
   "nbconvert_exporter": "python",
   "pygments_lexer": "ipython3",
   "version": "3.9.14"
  }
 },
 "nbformat": 4,
 "nbformat_minor": 5
}
