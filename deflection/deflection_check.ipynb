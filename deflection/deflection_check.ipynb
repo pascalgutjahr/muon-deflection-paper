{
 "cells": [
  {
   "cell_type": "code",
   "execution_count": null,
   "id": "32d922f1",
   "metadata": {},
   "outputs": [],
   "source": [
    "%load_ext autoreload\n",
    "%autoreload 2\n",
    "\n",
    "import numpy as np\n",
    "import pandas as pd\n",
    "from tqdm import tqdm\n",
    "import matplotlib.pyplot as plt\n",
    "import os\n",
    "import ipyparams\n",
    "from helper_functions import propagate_deflected_muons_custom, get_angle_deviation, energy_name, get_zenith_deflections_along_track, save_data_along_dict, load_data_along_dict"
   ]
  },
  {
   "cell_type": "code",
   "execution_count": null,
   "id": "da919c12",
   "metadata": {},
   "outputs": [],
   "source": [
    "save_plot = True # False\n",
    "\n",
    "currentNotebook = ipyparams.notebook_name[:len(ipyparams.notebook_name)-6] # get name of currect notebook\n",
    "assert currentNotebook != '', \"no notebook name, run cell again\"\n",
    "\n",
    "plot_dir = 'plots/{}/'.format(currentNotebook)\n",
    "os.system('mkdir -p {}'.format(plot_dir))\n",
    "\n",
    "df_dir = 'data/{}/'.format(currentNotebook)\n",
    "os.system('mkdir -p {}'.format(df_dir))"
   ]
  },
  {
   "cell_type": "code",
   "execution_count": null,
   "id": "7214f090",
   "metadata": {},
   "outputs": [],
   "source": [
    "n_events = 10 # 1\n",
    "E_i = 1e9 # 1 PeV (corresponds to MeV)\n",
    "E_f = 1e6 # 1 TeV (corresponds to MeV)\n",
    "E_i_final = np.ones(n_events) * E_i\n",
    "E_f_final = np.ones(n_events) * E_f\n",
    "\n",
    "table_path=\"/Users/pascalgutjahr/.cache/PROPOSAL\" # lehrstuhl macbook\n",
    "\n",
    "hdf_name = 'df_{}_{}_{}events.hdf'.format(energy_name(E_i), energy_name(E_f), n_events)\n",
    "hdf_name"
   ]
  },
  {
   "cell_type": "markdown",
   "id": "3259616d",
   "metadata": {},
   "source": [
    "# Propagation of default deflection parametrization"
   ]
  },
  {
   "cell_type": "code",
   "execution_count": null,
   "id": "eb7d5001",
   "metadata": {},
   "outputs": [],
   "source": [
    "### run data\n",
    "param_name = 'default'\n",
    "deflection = ['tsaiapproximationbremsstrahlung', \n",
    "              'naivionization',\n",
    "              'borogpetrukhinnuclearinteraction',\n",
    "              'kelnerpairproduction']\n",
    "\n",
    "tracks_default = propagate_deflected_muons_custom(E_i_final, E_f_final, deflection=deflection, table_path=table_path)\n",
    "\n",
    "deflection = [] \n",
    "for track in tqdm(tracks_default):\n",
    "    d = get_angle_deviation(track.track_directions()[0].spherical_coordinates[1], \n",
    "                            track.track_directions()[0].spherical_coordinates[2], \n",
    "                            track.track_directions()[-1].spherical_coordinates[1], \n",
    "                            track.track_directions()[-1].spherical_coordinates[2])\n",
    "    deflection.append(np.rad2deg(d))\n",
    "\n",
    "### save data\n",
    "df = pd.DataFrame()\n",
    "df['E_i'] = E_i_final / 1e3 # in GeV\n",
    "df['E_f'] = [track.track_energies()[-1]/1e3 for track in tracks_default] # in GeV\n",
    "df['total_deflection'] = deflection # in degree\n",
    "df['track_distance'] = [track.track_propagated_distances()[-1]/100 for track in tracks_default] # in m\n",
    "df.to_hdf(df_dir + hdf_name, key=param_name)    "
   ]
  },
  {
   "cell_type": "code",
   "execution_count": null,
   "id": "b5589c15",
   "metadata": {},
   "outputs": [],
   "source": [
    "### load data\n",
    "param_name = 'default'\n",
    "df_default = pd.read_hdf(df_dir + hdf_name, key=param_name)"
   ]
  },
  {
   "cell_type": "code",
   "execution_count": null,
   "id": "9304d1b5",
   "metadata": {},
   "outputs": [],
   "source": [
    "param_name = 'default'\n",
    "bins = np.logspace(-5, 2, 31)\n",
    "plt.hist(df_default['total_deflection'], bins=bins, histtype='step', label=param_name)\n",
    "plt.xlabel('deflection in degree')\n",
    "plt.ylabel('counts')\n",
    "plt.xscale('log')\n",
    "plt.yscale('log')\n",
    "plt.legend()\n",
    "plt.tight_layout()\n",
    "if save_plot:\n",
    "    plt.savefig(plot_dir + '1PeV_10TeV_{}events_{}.pdf'.format(n_events, param_name)) "
   ]
  },
  {
   "cell_type": "markdown",
   "id": "8f687df4",
   "metadata": {},
   "source": [
    "# Propagation of van Ginneken bremsstrahlung and nuclear interaction"
   ]
  },
  {
   "cell_type": "code",
   "execution_count": null,
   "id": "06c07bb5",
   "metadata": {},
   "outputs": [],
   "source": [
    "### run data\n",
    "param_name = 'brems_nuclint'\n",
    "deflection = ['tsaiparametrizationbremsstrahlungginneken', \n",
    "              'naivionization',\n",
    "              'bjorkennuclearinteraction',\n",
    "              'kelnerpairproduction']\n",
    "\n",
    "tracks_brems_nuclint = propagate_deflected_muons_custom(E_i_final, E_f_final, deflection=deflection, table_path=table_path)\n",
    "\n",
    "deflection = [] \n",
    "for track in tqdm(tracks_brems_nuclint):\n",
    "    d = get_angle_deviation(track.track_directions()[0].spherical_coordinates[1], track.track_directions()[0].spherical_coordinates[2], track.track_directions()[-1].spherical_coordinates[1], track.track_directions()[-1].spherical_coordinates[2])\n",
    "    deflection.append(np.rad2deg(d))\n",
    "\n",
    "    \n",
    "### save data\n",
    "df = pd.DataFrame()\n",
    "df['E_i'] = E_i_final / 1e3 # in GeV\n",
    "df['E_f'] = [track.track_energies()[-1]/1e3 for track in tracks_brems_nuclint] # in GeV\n",
    "df['total_deflection'] = deflection # in degree\n",
    "df['track_distance'] = [track.track_propagated_distances()[-1]/100 for track in tracks_brems_nuclint] # in m\n",
    "df.to_hdf(df_dir + hdf_name, key=param_name) "
   ]
  },
  {
   "cell_type": "code",
   "execution_count": null,
   "id": "eb64fe69",
   "metadata": {},
   "outputs": [],
   "source": [
    "### load data\n",
    "param_name = 'brems_nuclint'\n",
    "df_brems_nuclint = pd.read_hdf(df_dir + hdf_name, key=param_name)"
   ]
  },
  {
   "cell_type": "code",
   "execution_count": null,
   "id": "199b773f",
   "metadata": {},
   "outputs": [],
   "source": [
    "param_name = 'brems_nuclint'\n",
    "bins = np.logspace(-5, 2, 31)\n",
    "plt.hist(df_default['total_deflection'], bins=bins, histtype='step', label='default')\n",
    "plt.hist(df_brems_nuclint['total_deflection'], bins=bins, histtype='step', label=param_name)\n",
    "plt.xlabel('deflection in degree')\n",
    "plt.ylabel('counts')\n",
    "plt.xscale('log')\n",
    "plt.yscale('log')\n",
    "plt.legend()\n",
    "plt.tight_layout()\n",
    "if save_plot:\n",
    "    plt.savefig(plot_dir + '1PeV_10TeV_{}events_{}.pdf'.format(n_events, param_name)) "
   ]
  },
  {
   "cell_type": "markdown",
   "id": "961aaa90",
   "metadata": {},
   "source": [
    "# Propagation of van Ginneken bremsstrahlung"
   ]
  },
  {
   "cell_type": "code",
   "execution_count": null,
   "id": "79e530e4",
   "metadata": {},
   "outputs": [],
   "source": [
    "### run data\n",
    "param_name = 'brems'\n",
    "deflection = ['tsaiparametrizationbremsstrahlungginneken', \n",
    "              'naivionization',\n",
    "              'borogpetrukhinnuclearinteraction',\n",
    "              'kelnerpairproduction']\n",
    "\n",
    "tracks_brems = propagate_deflected_muons_custom(E_i_final, E_f_final, deflection=deflection, table_path=table_path)\n",
    "\n",
    "deflection = [] \n",
    "for track in tqdm(tracks_brems):\n",
    "    d = get_angle_deviation(track.track_directions()[0].spherical_coordinates[1], track.track_directions()[0].spherical_coordinates[2], track.track_directions()[-1].spherical_coordinates[1], track.track_directions()[-1].spherical_coordinates[2])\n",
    "    deflection.append(np.rad2deg(d))\n",
    "\n",
    "    \n",
    "### save data\n",
    "df = pd.DataFrame()\n",
    "df['E_i'] = E_i_final / 1e3 # in GeV\n",
    "df['E_f'] = [track.track_energies()[-1]/1e3 for track in tracks_brems_nuclint] # in GeV\n",
    "df['total_deflection'] = deflection # in degree\n",
    "df['track_distance'] = [track.track_propagated_distances()[-1]/100 for track in tracks_brems_nuclint] # in m\n",
    "df.to_hdf(df_dir + hdf_name, key=param_name) "
   ]
  },
  {
   "cell_type": "code",
   "execution_count": null,
   "id": "f3645f54",
   "metadata": {},
   "outputs": [],
   "source": [
    "### load data\n",
    "param_name = 'brems'\n",
    "df_brems = pd.read_hdf(df_dir + hdf_name, key=param_name)"
   ]
  },
  {
   "cell_type": "code",
   "execution_count": null,
   "id": "5a471034",
   "metadata": {},
   "outputs": [],
   "source": [
    "param_name = 'brems'\n",
    "bins = np.logspace(-5, 2, 31)\n",
    "plt.hist(df_default['total_deflection'], bins=bins, histtype='step', label='default')\n",
    "plt.hist(df_brems['total_deflection'], bins=bins, histtype='step', label=param_name)\n",
    "plt.xlabel('deflection in degree')\n",
    "plt.ylabel('counts')\n",
    "plt.xscale('log')\n",
    "plt.yscale('log')\n",
    "plt.legend()\n",
    "plt.tight_layout()\n",
    "if save_plot:\n",
    "    plt.savefig(plot_dir + '1PeV_10TeV_{}events_{}.pdf'.format(n_events, param_name)) "
   ]
  },
  {
   "cell_type": "markdown",
   "id": "b4272df4",
   "metadata": {},
   "source": [
    "# Propagation of van Ginneken nuclear interaction"
   ]
  },
  {
   "cell_type": "code",
   "execution_count": null,
   "id": "887512a0",
   "metadata": {},
   "outputs": [],
   "source": [
    "### run data\n",
    "param_name = 'nuclint'\n",
    "deflection = ['tsaiapproximationbremsstrahlung', \n",
    "              'naivionization',\n",
    "              'bjorkennuclearinteraction',\n",
    "              'kelnerpairproduction']\n",
    "\n",
    "tracks_nuclint = propagate_deflected_muons_custom(E_i_final, E_f_final, deflection=deflection, table_path=table_path)\n",
    "\n",
    "deflection = [] \n",
    "for track in tqdm(tracks_nuclint):\n",
    "    d = get_angle_deviation(track.track_directions()[0].spherical_coordinates[1], track.track_directions()[0].spherical_coordinates[2], track.track_directions()[-1].spherical_coordinates[1], track.track_directions()[-1].spherical_coordinates[2])\n",
    "    deflection.append(np.rad2deg(d))\n",
    "\n",
    "    \n",
    "### save data\n",
    "df = pd.DataFrame()\n",
    "df['E_i'] = E_i_final / 1e3 # in GeV\n",
    "df['E_f'] = [track.track_energies()[-1]/1e3 for track in tracks_brems_nuclint] # in GeV\n",
    "df['total_deflection'] = deflection # in degree\n",
    "df['track_distance'] = [track.track_propagated_distances()[-1]/100 for track in tracks_brems_nuclint] # in m\n",
    "df.to_hdf(df_dir + hdf_name, key=param_name) "
   ]
  },
  {
   "cell_type": "code",
   "execution_count": null,
   "id": "3a06e27d",
   "metadata": {},
   "outputs": [],
   "source": [
    "### load data\n",
    "param_name = 'nuclint'\n",
    "df_nuclint = pd.read_hdf(df_dir + hdf_name, key=param_name)"
   ]
  },
  {
   "cell_type": "code",
   "execution_count": null,
   "id": "75a68510",
   "metadata": {},
   "outputs": [],
   "source": [
    "param_name = 'nuclint'\n",
    "bins = np.logspace(-5, 2, 31)\n",
    "plt.hist(df_default['total_deflection'], bins=bins, histtype='step', label='default')\n",
    "plt.hist(df_nuclint['total_deflection'], bins=bins, histtype='step', label=param_name)\n",
    "plt.xlabel('deflection in degree')\n",
    "plt.ylabel('counts')\n",
    "plt.xscale('log')\n",
    "plt.yscale('log')\n",
    "plt.legend()\n",
    "plt.tight_layout()\n",
    "if save_plot:\n",
    "    plt.savefig(plot_dir + '1PeV_10TeV_{}events_{}.pdf'.format(n_events, param_name)) "
   ]
  },
  {
   "cell_type": "markdown",
   "id": "ec9c0465",
   "metadata": {},
   "source": [
    "# Total comparison"
   ]
  },
  {
   "cell_type": "code",
   "execution_count": null,
   "id": "5351e1dd",
   "metadata": {},
   "outputs": [],
   "source": [
    "bins = np.logspace(-5, 2, 31)\n",
    "plt.hist(df_default['total_deflection'], bins=bins, histtype='step', label='default')\n",
    "plt.hist(df_brems_nuclint['total_deflection'], bins=bins, histtype='step', label='brems_nuclint')\n",
    "plt.hist(df_brems['total_deflection'], bins=bins, histtype='step', label='brems')\n",
    "plt.hist(df_nuclint['total_deflection'], bins=bins, histtype='step', label='nuclint')\n",
    "plt.xlabel('deflection in degree')\n",
    "plt.ylabel('counts')\n",
    "plt.xscale('log')\n",
    "plt.yscale('log')\n",
    "plt.legend()\n",
    "plt.tight_layout()\n",
    "if save_plot:\n",
    "    plt.savefig(plot_dir + '1PeV_10TeV_{}events_total_comparison.pdf'.format(n_events)) "
   ]
  },
  {
   "cell_type": "markdown",
   "id": "5aa92fa3",
   "metadata": {},
   "source": [
    "# Check deflections per interaction along the track "
   ]
  },
  {
   "cell_type": "code",
   "execution_count": null,
   "id": "1f32ed66",
   "metadata": {},
   "outputs": [],
   "source": [
    "dict_along = {}"
   ]
  },
  {
   "cell_type": "markdown",
   "id": "f6eb12ce",
   "metadata": {},
   "source": [
    "## default"
   ]
  },
  {
   "cell_type": "code",
   "execution_count": null,
   "id": "6d5af9dc",
   "metadata": {},
   "outputs": [],
   "source": [
    "### run data\n",
    "param_name = 'default'\n",
    "dict_along.update(get_zenith_deflections_along_track(tracks_default, param_name))\n",
    "\n",
    "### save data\n",
    "save_data_along_dict(df_dir, hdf_name, dict_along)"
   ]
  },
  {
   "cell_type": "code",
   "execution_count": null,
   "id": "c4a32ec6",
   "metadata": {},
   "outputs": [],
   "source": [
    "### load data\n",
    "param_name = 'default'\n",
    "dict_along.update(load_data_along_dict(df_dir, hdf_name, param_name))"
   ]
  },
  {
   "cell_type": "code",
   "execution_count": null,
   "id": "5e1b45cf",
   "metadata": {},
   "outputs": [],
   "source": [
    "param_name = 'default'\n",
    "types_reverse = {\n",
    "            '-1': 'track length too short',\n",
    "            '0': 'cont',\n",
    "            '1': 'epair',\n",
    "            '2': 'brems',\n",
    "            '3': 'nuclInt',\n",
    "            '4': 'ioniz',\n",
    "            '5': 'decay'\n",
    "    }\n",
    "\n",
    "stoch_defl = dict_along['{}_along_defl_stoch'.format(param_name)]\n",
    "stoch_types = dict_along['{}_along_defl_type'.format(param_name)][(dict_along['{}_along_defl_type'.format(param_name)]!=0)]\n",
    "bins = np.logspace(-13, 0, 50)\n",
    "for i,typ in enumerate(np.unique(stoch_types)):\n",
    "    plt.hist(np.deg2rad(stoch_defl[stoch_types==typ]), \\\n",
    "             bins=bins, histtype='step', label=types_reverse[str(typ)])\n",
    "plt.hist(np.deg2rad(dict_along['{}_along_defl_stoch'.format(param_name)]), color='black', histtype='step', bins=bins, label='all events')\n",
    "plt.xscale('log')\n",
    "plt.yscale('log')\n",
    "plt.xlabel('zenith diff in rad')\n",
    "plt.ylabel('counts')\n",
    "plt.legend()\n",
    "plt.tight_layout()\n",
    "if save_plot:\n",
    "    plt.savefig(plot_dir + '1PeV_10TeV_defl_zenith_rad_diff_for_eacht_type_{}events_{}.pdf'.format(n_events, param_name)) "
   ]
  },
  {
   "cell_type": "code",
   "execution_count": null,
   "id": "97b60154",
   "metadata": {
    "scrolled": true
   },
   "outputs": [],
   "source": [
    "angles_stoch = dict_along['{}_along_defl_angle_stoch'.format(param_name)]\n",
    "angles_cont = dict_along['{}_along_defl_angle_cont'.format(param_name)]\n",
    "plt.hist(np.deg2rad(angles_stoch), bins=bins, histtype='step', label='stoch')\n",
    "plt.hist(np.deg2rad(angles_cont), bins=bins, histtype='step', label='m_scat')\n",
    "plt.xscale('log')\n",
    "plt.yscale('log')\n",
    "plt.xlabel('deflection in rad')\n",
    "plt.legend()\n",
    "print(np.min(angles_stoch[angles_stoch!=0]))"
   ]
  },
  {
   "cell_type": "markdown",
   "id": "0d7d048c",
   "metadata": {},
   "source": [
    "## brems and nuclint"
   ]
  },
  {
   "cell_type": "code",
   "execution_count": null,
   "id": "8b62c407",
   "metadata": {},
   "outputs": [],
   "source": [
    "### run data\n",
    "param_name = 'brems_nuclint'\n",
    "dict_along.update(get_zenith_deflections_along_track(tracks_brems_nuclint, param_name))\n",
    "\n",
    "### save data\n",
    "save_data_along_dict(df_dir, hdf_name, dict_along)"
   ]
  },
  {
   "cell_type": "code",
   "execution_count": null,
   "id": "763faf2a",
   "metadata": {},
   "outputs": [],
   "source": [
    "### load data\n",
    "param_name = 'brems_nuclint'\n",
    "dict_along.update(load_data_along_dict(df_dir, hdf_name, param_name))"
   ]
  },
  {
   "cell_type": "code",
   "execution_count": null,
   "id": "5789fab7",
   "metadata": {},
   "outputs": [],
   "source": [
    "param_name = 'brems_nuclint'\n",
    "types_reverse = {\n",
    "            '-1': 'track length too short',\n",
    "            '0': 'cont',\n",
    "            '1': 'epair',\n",
    "            '2': 'brems',\n",
    "            '3': 'nuclInt',\n",
    "            '4': 'ioniz',\n",
    "            '5': 'decay'\n",
    "    }\n",
    "\n",
    "stoch_defl = dict_along['{}_along_defl_stoch'.format(param_name)]\n",
    "stoch_types = dict_along['{}_along_defl_type'.format(param_name)][(dict_along['{}_along_defl_type'.format(param_name)]!=0)]\n",
    "bins = np.logspace(-13, 0, 50)\n",
    "for i,typ in enumerate(np.unique(stoch_types)):\n",
    "    plt.hist(np.deg2rad(stoch_defl[stoch_types==typ]), \\\n",
    "             bins=bins, histtype='step', label=types_reverse[str(typ)])\n",
    "plt.hist(np.deg2rad(dict_along['{}_along_defl_stoch'.format(param_name)]), color='black', histtype='step', bins=bins, label='all events')\n",
    "plt.xscale('log')\n",
    "plt.yscale('log')\n",
    "plt.xlabel('zenith diff in rad')\n",
    "plt.ylabel('counts')\n",
    "plt.legend()\n",
    "plt.tight_layout()\n",
    "if save_plot:\n",
    "    plt.savefig(plot_dir + '1PeV_10TeV_defl_zenith_rad_diff_for_each_type_{}events_{}.pdf'.format(n_events, param_name)) "
   ]
  },
  {
   "cell_type": "code",
   "execution_count": null,
   "id": "f4f46852",
   "metadata": {},
   "outputs": [],
   "source": [
    "angles_stoch = dict_along['{}_along_defl_angle_stoch'.format(param_name)]\n",
    "angles_cont = dict_along['{}_along_defl_angle_cont'.format(param_name)]\n",
    "plt.hist(np.deg2rad(angles_stoch), bins=bins, histtype='step', label='stoch')\n",
    "plt.hist(np.deg2rad(angles_cont), bins=bins, histtype='step', label='m_scat')\n",
    "plt.xscale('log')\n",
    "plt.yscale('log')\n",
    "plt.xlabel('deflection in rad')\n",
    "plt.legend()\n",
    "print(np.min(angles_stoch[angles_stoch!=0]))"
   ]
  },
  {
   "cell_type": "markdown",
   "id": "69c82749",
   "metadata": {},
   "source": [
    "## compare brems parametrization per interaction"
   ]
  },
  {
   "cell_type": "code",
   "execution_count": null,
   "id": "fda81a16",
   "metadata": {},
   "outputs": [],
   "source": [
    "bins = np.logspace(-9, 0, 50)\n",
    "\n",
    "param_name = 'default'\n",
    "angles_stoch = dict_along['{}_along_defl_angle_stoch'.format(param_name)]\n",
    "stoch_types = dict_along['{}_along_defl_type'.format(param_name)][(dict_along['{}_along_defl_type'.format(param_name)]!=0)]\n",
    "typ = 2 # brems\n",
    "plt.hist(np.deg2rad(angles_stoch[stoch_types==typ]), bins=bins, histtype='step', label=types_reverse[str(typ)] + ' ' + param_name)\n",
    "print('{} number of deflections: '.format(param_name), len(angles_stoch[stoch_types==typ]))\n",
    "print('ratio of not zero deflection: ', len(angles_stoch[stoch_types==typ][angles_stoch[stoch_types==typ]!=0]) / len(angles_stoch[stoch_types==typ]))\n",
    "\n",
    "\n",
    "param_name = 'brems_nuclint'\n",
    "angles_stoch = dict_along['{}_along_defl_angle_stoch'.format(param_name)]\n",
    "stoch_types = dict_along['{}_along_defl_type'.format(param_name)][(dict_along['{}_along_defl_type'.format(param_name)]!=0)]\n",
    "typ = 2 # brems\n",
    "plt.hist(np.deg2rad(angles_stoch[stoch_types==typ]), bins=bins, histtype='step', label=types_reverse[str(typ)] + ' ' + param_name)\n",
    "print('{} number of deflections: '.format(param_name), len(angles_stoch[stoch_types==typ]))\n",
    "print('ratio of not zero deflection: ', len(angles_stoch[stoch_types==typ][angles_stoch[stoch_types==typ]!=0]) / len(angles_stoch[stoch_types==typ]))\n",
    "\n",
    "plt.xscale('log')\n",
    "plt.yscale('log')\n",
    "plt.xlabel('deflection in rad')\n",
    "plt.legend()"
   ]
  },
  {
   "cell_type": "markdown",
   "id": "ea234062",
   "metadata": {},
   "source": [
    "## compare nuclint parametrization per interaction"
   ]
  },
  {
   "cell_type": "code",
   "execution_count": null,
   "id": "5128c4bf",
   "metadata": {},
   "outputs": [],
   "source": [
    "bins = np.logspace(-9, 0, 50)\n",
    "\n",
    "param_name = 'default'\n",
    "angles_stoch = dict_along['{}_along_defl_angle_stoch'.format(param_name)]\n",
    "stoch_types = dict_along['{}_along_defl_type'.format(param_name)][(dict_along['{}_along_defl_type'.format(param_name)]!=0)]\n",
    "typ = 3 # nuclint\n",
    "plt.hist(np.deg2rad(angles_stoch[stoch_types==typ]), bins=bins, histtype='step', label=types_reverse[str(typ)] + ' ' + param_name)\n",
    "print('{} number of deflections: '.format(param_name), len(angles_stoch[stoch_types==typ]))\n",
    "print('ratio of not zero deflection: ', len(angles_stoch[stoch_types==typ][angles_stoch[stoch_types==typ]!=0]) / len(angles_stoch[stoch_types==typ]))\n",
    "\n",
    "\n",
    "param_name = 'brems_nuclint'\n",
    "angles_stoch = dict_along['{}_along_defl_angle_stoch'.format(param_name)]\n",
    "stoch_types = dict_along['{}_along_defl_type'.format(param_name)][(dict_along['{}_along_defl_type'.format(param_name)]!=0)]\n",
    "typ = 3 # nuclint\n",
    "plt.hist(np.deg2rad(angles_stoch[stoch_types==typ]), bins=bins, histtype='step', label=types_reverse[str(typ)] + ' ' + param_name)\n",
    "print('{} number of deflections: '.format(param_name), len(angles_stoch[stoch_types==typ]))\n",
    "print('ratio of not zero deflection: ', len(angles_stoch[stoch_types==typ][angles_stoch[stoch_types==typ]!=0]) / len(angles_stoch[stoch_types==typ]))\n",
    "\n",
    "\n",
    "plt.xscale('log')\n",
    "plt.yscale('log')\n",
    "plt.xlabel('deflection in rad')\n",
    "plt.legend()"
   ]
  },
  {
   "cell_type": "code",
   "execution_count": null,
   "id": "90e9e18d",
   "metadata": {},
   "outputs": [],
   "source": []
  }
 ],
 "metadata": {
  "kernelspec": {
   "display_name": "Python 3 (ipykernel)",
   "language": "python",
   "name": "python3"
  },
  "language_info": {
   "codemirror_mode": {
    "name": "ipython",
    "version": 3
   },
   "file_extension": ".py",
   "mimetype": "text/x-python",
   "name": "python",
   "nbconvert_exporter": "python",
   "pygments_lexer": "ipython3",
   "version": "3.8.2"
  }
 },
 "nbformat": 4,
 "nbformat_minor": 5
}
