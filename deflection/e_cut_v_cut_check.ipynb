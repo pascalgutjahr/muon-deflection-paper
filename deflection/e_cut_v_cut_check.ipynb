{
 "cells": [
  {
   "cell_type": "code",
   "execution_count": 1,
   "id": "fcdbcc86-8efc-432e-a4c7-57d627131c2b",
   "metadata": {},
   "outputs": [],
   "source": [
    "import numpy as np\n",
    "import matplotlib.pyplot as plt \n",
    "import os \n",
    "from tqdm import tqdm\n",
    "import pandas as pd"
   ]
  },
  {
   "cell_type": "code",
   "execution_count": null,
   "id": "3f259718-502a-436c-92cd-88d9c01699c4",
   "metadata": {},
   "outputs": [],
   "source": [
    "save_plot = True # False\n",
    "\n",
    "# currentNotebook = ipyparams.notebook_name[:len(ipyparams.notebook_name)-6] # get name of currect notebook\n",
    "# assert currentNotebook != '', \"no notebook name, run cell again\"\n",
    "\n",
    "currentNotebook = \"e_cut_v_cut_check\"\n",
    "\n",
    "plot_dir = 'plots/{}/'.format(currentNotebook)\n",
    "os.system('mkdir -p {}'.format(plot_dir))\n",
    "\n",
    "df_dir = 'data/{}/'.format(currentNotebook)\n",
    "os.system('mkdir -p {}'.format(df_dir))"
   ]
  }
 ],
 "metadata": {
  "kernelspec": {
   "display_name": "Python 3",
   "language": "python",
   "name": "python3"
  },
  "language_info": {
   "codemirror_mode": {
    "name": "ipython",
    "version": 3
   },
   "file_extension": ".py",
   "mimetype": "text/x-python",
   "name": "python",
   "nbconvert_exporter": "python",
   "pygments_lexer": "ipython3",
   "version": "3.6.8"
  }
 },
 "nbformat": 4,
 "nbformat_minor": 5
}
