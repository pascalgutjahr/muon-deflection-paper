{
 "cells": [
  {
   "cell_type": "code",
   "execution_count": 1,
   "id": "c6986bfe-17bf-4e1d-972a-a2424e55e7eb",
   "metadata": {},
   "outputs": [],
   "source": [
    "import numpy as np\n",
    "import matplotlib.pyplot as plt \n",
    "import os \n",
    "from tqdm import tqdm\n",
    "import pandas as pd"
   ]
  },
  {
   "cell_type": "code",
   "execution_count": 2,
   "id": "4dd6c821-a12a-41b0-bdeb-9035d8ffb0c1",
   "metadata": {},
   "outputs": [
    {
     "data": {
      "text/plain": [
       "0"
      ]
     },
     "execution_count": 2,
     "metadata": {},
     "output_type": "execute_result"
    }
   ],
   "source": [
    "save_plot = True # False\n",
    "\n",
    "# currentNotebook = ipyparams.notebook_name[:len(ipyparams.notebook_name)-6] # get name of currect notebook\n",
    "# assert currentNotebook != '', \"no notebook name, run cell again\"\n",
    "\n",
    "currentNotebook = \"cont_rand_check\"\n",
    "\n",
    "plot_dir = 'plots/{}/'.format(currentNotebook)\n",
    "os.system('mkdir -p {}'.format(plot_dir))\n",
    "\n",
    "df_dir = 'data/{}/'.format(currentNotebook)\n",
    "os.system('mkdir -p {}'.format(df_dir))"
   ]
  },
  {
   "cell_type": "code",
   "execution_count": 3,
   "id": "b144b1f9-0900-44f9-abac-8cf25ef556c9",
   "metadata": {},
   "outputs": [],
   "source": [
    "df_true = pd.read_hdf('data/cont_rand_check/total_defl_cont_rand_true.hdf5')\n",
    "df_false = pd.read_hdf('data/cont_rand_check/total_defl_cont_rand_false.hdf5')"
   ]
  },
  {
   "cell_type": "code",
   "execution_count": 4,
   "id": "9f09ec1b-4e1d-43b3-a084-b0c4f71422c9",
   "metadata": {},
   "outputs": [
    {
     "data": {
      "text/html": [
       "<div>\n",
       "<style scoped>\n",
       "    .dataframe tbody tr th:only-of-type {\n",
       "        vertical-align: middle;\n",
       "    }\n",
       "\n",
       "    .dataframe tbody tr th {\n",
       "        vertical-align: top;\n",
       "    }\n",
       "\n",
       "    .dataframe thead th {\n",
       "        text-align: right;\n",
       "    }\n",
       "</style>\n",
       "<table border=\"1\" class=\"dataframe\">\n",
       "  <thead>\n",
       "    <tr style=\"text-align: right;\">\n",
       "      <th></th>\n",
       "      <th>E_i</th>\n",
       "      <th>E_f</th>\n",
       "      <th>distances</th>\n",
       "      <th>deflection</th>\n",
       "      <th>x_dir_i</th>\n",
       "      <th>y_dir_i</th>\n",
       "      <th>z_dir_i</th>\n",
       "      <th>x_i</th>\n",
       "      <th>y_i</th>\n",
       "      <th>z_i</th>\n",
       "      <th>x_f</th>\n",
       "      <th>y_f</th>\n",
       "      <th>z_f</th>\n",
       "    </tr>\n",
       "  </thead>\n",
       "  <tbody>\n",
       "    <tr>\n",
       "      <th>0</th>\n",
       "      <td>1000000.0</td>\n",
       "      <td>98.852194</td>\n",
       "      <td>18487.769583</td>\n",
       "      <td>0.153916</td>\n",
       "      <td>0.0</td>\n",
       "      <td>0.0</td>\n",
       "      <td>1.0</td>\n",
       "      <td>0.0</td>\n",
       "      <td>0.0</td>\n",
       "      <td>0.0</td>\n",
       "      <td>-83.414666</td>\n",
       "      <td>194.857136</td>\n",
       "      <td>1.848777e+06</td>\n",
       "    </tr>\n",
       "    <tr>\n",
       "      <th>1</th>\n",
       "      <td>1000000.0</td>\n",
       "      <td>98.948645</td>\n",
       "      <td>13712.971338</td>\n",
       "      <td>0.297971</td>\n",
       "      <td>0.0</td>\n",
       "      <td>0.0</td>\n",
       "      <td>1.0</td>\n",
       "      <td>0.0</td>\n",
       "      <td>0.0</td>\n",
       "      <td>0.0</td>\n",
       "      <td>40.864664</td>\n",
       "      <td>-142.463048</td>\n",
       "      <td>1.371297e+06</td>\n",
       "    </tr>\n",
       "    <tr>\n",
       "      <th>2</th>\n",
       "      <td>1000000.0</td>\n",
       "      <td>100.000000</td>\n",
       "      <td>23210.394564</td>\n",
       "      <td>0.423221</td>\n",
       "      <td>0.0</td>\n",
       "      <td>0.0</td>\n",
       "      <td>1.0</td>\n",
       "      <td>0.0</td>\n",
       "      <td>0.0</td>\n",
       "      <td>0.0</td>\n",
       "      <td>-24.767119</td>\n",
       "      <td>-189.927408</td>\n",
       "      <td>2.321039e+06</td>\n",
       "    </tr>\n",
       "    <tr>\n",
       "      <th>3</th>\n",
       "      <td>1000000.0</td>\n",
       "      <td>100.000000</td>\n",
       "      <td>19896.535445</td>\n",
       "      <td>0.480081</td>\n",
       "      <td>0.0</td>\n",
       "      <td>0.0</td>\n",
       "      <td>1.0</td>\n",
       "      <td>0.0</td>\n",
       "      <td>0.0</td>\n",
       "      <td>0.0</td>\n",
       "      <td>-265.359244</td>\n",
       "      <td>297.478703</td>\n",
       "      <td>1.989653e+06</td>\n",
       "    </tr>\n",
       "    <tr>\n",
       "      <th>4</th>\n",
       "      <td>1000000.0</td>\n",
       "      <td>100.000000</td>\n",
       "      <td>17771.551565</td>\n",
       "      <td>0.408065</td>\n",
       "      <td>0.0</td>\n",
       "      <td>0.0</td>\n",
       "      <td>1.0</td>\n",
       "      <td>0.0</td>\n",
       "      <td>0.0</td>\n",
       "      <td>0.0</td>\n",
       "      <td>-103.733892</td>\n",
       "      <td>-786.043788</td>\n",
       "      <td>1.777154e+06</td>\n",
       "    </tr>\n",
       "    <tr>\n",
       "      <th>...</th>\n",
       "      <td>...</td>\n",
       "      <td>...</td>\n",
       "      <td>...</td>\n",
       "      <td>...</td>\n",
       "      <td>...</td>\n",
       "      <td>...</td>\n",
       "      <td>...</td>\n",
       "      <td>...</td>\n",
       "      <td>...</td>\n",
       "      <td>...</td>\n",
       "      <td>...</td>\n",
       "      <td>...</td>\n",
       "      <td>...</td>\n",
       "    </tr>\n",
       "    <tr>\n",
       "      <th>49995</th>\n",
       "      <td>1000000.0</td>\n",
       "      <td>99.687373</td>\n",
       "      <td>21607.928178</td>\n",
       "      <td>0.449430</td>\n",
       "      <td>0.0</td>\n",
       "      <td>0.0</td>\n",
       "      <td>1.0</td>\n",
       "      <td>0.0</td>\n",
       "      <td>0.0</td>\n",
       "      <td>0.0</td>\n",
       "      <td>-165.949215</td>\n",
       "      <td>-45.315874</td>\n",
       "      <td>2.160792e+06</td>\n",
       "    </tr>\n",
       "    <tr>\n",
       "      <th>49996</th>\n",
       "      <td>1000000.0</td>\n",
       "      <td>100.000000</td>\n",
       "      <td>25307.688713</td>\n",
       "      <td>0.083040</td>\n",
       "      <td>0.0</td>\n",
       "      <td>0.0</td>\n",
       "      <td>1.0</td>\n",
       "      <td>0.0</td>\n",
       "      <td>0.0</td>\n",
       "      <td>0.0</td>\n",
       "      <td>368.137970</td>\n",
       "      <td>-79.198988</td>\n",
       "      <td>2.530768e+06</td>\n",
       "    </tr>\n",
       "    <tr>\n",
       "      <th>49997</th>\n",
       "      <td>1000000.0</td>\n",
       "      <td>100.000000</td>\n",
       "      <td>16429.854520</td>\n",
       "      <td>0.246950</td>\n",
       "      <td>0.0</td>\n",
       "      <td>0.0</td>\n",
       "      <td>1.0</td>\n",
       "      <td>0.0</td>\n",
       "      <td>0.0</td>\n",
       "      <td>0.0</td>\n",
       "      <td>-12.723663</td>\n",
       "      <td>-340.218754</td>\n",
       "      <td>1.642985e+06</td>\n",
       "    </tr>\n",
       "    <tr>\n",
       "      <th>49998</th>\n",
       "      <td>1000000.0</td>\n",
       "      <td>100.000000</td>\n",
       "      <td>13204.127150</td>\n",
       "      <td>0.198889</td>\n",
       "      <td>0.0</td>\n",
       "      <td>0.0</td>\n",
       "      <td>1.0</td>\n",
       "      <td>0.0</td>\n",
       "      <td>0.0</td>\n",
       "      <td>0.0</td>\n",
       "      <td>-313.788502</td>\n",
       "      <td>-268.792635</td>\n",
       "      <td>1.320412e+06</td>\n",
       "    </tr>\n",
       "    <tr>\n",
       "      <th>49999</th>\n",
       "      <td>1000000.0</td>\n",
       "      <td>100.000000</td>\n",
       "      <td>21520.792388</td>\n",
       "      <td>0.768536</td>\n",
       "      <td>0.0</td>\n",
       "      <td>0.0</td>\n",
       "      <td>1.0</td>\n",
       "      <td>0.0</td>\n",
       "      <td>0.0</td>\n",
       "      <td>0.0</td>\n",
       "      <td>670.343202</td>\n",
       "      <td>1009.839458</td>\n",
       "      <td>2.152075e+06</td>\n",
       "    </tr>\n",
       "  </tbody>\n",
       "</table>\n",
       "<p>50000 rows × 13 columns</p>\n",
       "</div>"
      ],
      "text/plain": [
       "             E_i         E_f     distances  deflection  x_dir_i  y_dir_i  \\\n",
       "0      1000000.0   98.852194  18487.769583    0.153916      0.0      0.0   \n",
       "1      1000000.0   98.948645  13712.971338    0.297971      0.0      0.0   \n",
       "2      1000000.0  100.000000  23210.394564    0.423221      0.0      0.0   \n",
       "3      1000000.0  100.000000  19896.535445    0.480081      0.0      0.0   \n",
       "4      1000000.0  100.000000  17771.551565    0.408065      0.0      0.0   \n",
       "...          ...         ...           ...         ...      ...      ...   \n",
       "49995  1000000.0   99.687373  21607.928178    0.449430      0.0      0.0   \n",
       "49996  1000000.0  100.000000  25307.688713    0.083040      0.0      0.0   \n",
       "49997  1000000.0  100.000000  16429.854520    0.246950      0.0      0.0   \n",
       "49998  1000000.0  100.000000  13204.127150    0.198889      0.0      0.0   \n",
       "49999  1000000.0  100.000000  21520.792388    0.768536      0.0      0.0   \n",
       "\n",
       "       z_dir_i  x_i  y_i  z_i         x_f          y_f           z_f  \n",
       "0          1.0  0.0  0.0  0.0  -83.414666   194.857136  1.848777e+06  \n",
       "1          1.0  0.0  0.0  0.0   40.864664  -142.463048  1.371297e+06  \n",
       "2          1.0  0.0  0.0  0.0  -24.767119  -189.927408  2.321039e+06  \n",
       "3          1.0  0.0  0.0  0.0 -265.359244   297.478703  1.989653e+06  \n",
       "4          1.0  0.0  0.0  0.0 -103.733892  -786.043788  1.777154e+06  \n",
       "...        ...  ...  ...  ...         ...          ...           ...  \n",
       "49995      1.0  0.0  0.0  0.0 -165.949215   -45.315874  2.160792e+06  \n",
       "49996      1.0  0.0  0.0  0.0  368.137970   -79.198988  2.530768e+06  \n",
       "49997      1.0  0.0  0.0  0.0  -12.723663  -340.218754  1.642985e+06  \n",
       "49998      1.0  0.0  0.0  0.0 -313.788502  -268.792635  1.320412e+06  \n",
       "49999      1.0  0.0  0.0  0.0  670.343202  1009.839458  2.152075e+06  \n",
       "\n",
       "[50000 rows x 13 columns]"
      ]
     },
     "execution_count": 4,
     "metadata": {},
     "output_type": "execute_result"
    }
   ],
   "source": [
    "df_true"
   ]
  },
  {
   "cell_type": "code",
   "execution_count": 7,
   "id": "4510115a-03be-433e-9105-239c710eee2c",
   "metadata": {},
   "outputs": [
    {
     "data": {
      "text/plain": [
       "<matplotlib.legend.Legend at 0x7fc83086acf8>"
      ]
     },
     "execution_count": 7,
     "metadata": {},
     "output_type": "execute_result"
    },
    {
     "data": {
      "image/png": "[encoded data removed]",
      "text/plain": [
       "<Figure size 432x288 with 1 Axes>"
      ]
     },
     "metadata": {
      "needs_background": "light"
     },
     "output_type": "display_data"
    }
   ],
   "source": [
    "# Deflection\n",
    "bins = np.logspace(-4, 2, 101)\n",
    "plt.hist(df_true.deflection, bins=bins, histtype='step', label='cont rand on')\n",
    "plt.hist(df_false.deflection, bins=bins, histtype='step', label='cont rand off')\n",
    "plt.xscale('log')\n",
    "plt.yscale('log')\n",
    "plt.xlabel('deflection in degree')\n",
    "plt.legend()"
   ]
  },
  {
   "cell_type": "code",
   "execution_count": 8,
   "id": "dc7d7873-110c-44da-8e7e-589bb7f291bb",
   "metadata": {},
   "outputs": [
    {
     "data": {
      "text/plain": [
       "<matplotlib.legend.Legend at 0x7fc830462470>"
      ]
     },
     "execution_count": 8,
     "metadata": {},
     "output_type": "execute_result"
    },
    {
     "data": {
      "image/png": "[encoded data removed]",
      "text/plain": [
       "<Figure size 432x288 with 1 Axes>"
      ]
     },
     "metadata": {
      "needs_background": "light"
     },
     "output_type": "display_data"
    }
   ],
   "source": [
    "# Distance to shower axis \n",
    "d_shower_true = np.sqrt(df_true.x_f**2 + df_true.y_f**2) / 1e2 # in meter\n",
    "d_shower_false = np.sqrt(df_false.x_f**2 + df_false.y_f**2) / 1e2 # in meter\n",
    "\n",
    "bins = np.linspace(0, 50, 101)\n",
    "plt.hist(d_shower_true, bins=bins, histtype='step', label='cont rand on')\n",
    "plt.hist(d_shower_false, bins=bins, histtype='step', label='cont rand off')\n",
    "plt.yscale('log')\n",
    "plt.xlabel('distance to shower axis in meter')\n",
    "plt.legend()"
   ]
  },
  {
   "cell_type": "code",
   "execution_count": 11,
   "id": "410c4775-f04f-4cf5-9ce4-daa0a792aef0",
   "metadata": {},
   "outputs": [
    {
     "data": {
      "text/plain": [
       "['/bin/bash: float: Kommando nicht gefunden.']"
      ]
     },
     "execution_count": 11,
     "metadata": {},
     "output_type": "execute_result"
    }
   ],
   "source": []
  },
  {
   "cell_type": "code",
   "execution_count": null,
   "id": "be05440c-9997-4631-94ab-bd78ca2a5f75",
   "metadata": {},
   "outputs": [],
   "source": []
  }
 ],
 "metadata": {
  "kernelspec": {
   "display_name": "Python 3",
   "language": "python",
   "name": "python3"
  },
  "language_info": {
   "codemirror_mode": {
    "name": "ipython",
    "version": 3
   },
   "file_extension": ".py",
   "mimetype": "text/x-python",
   "name": "python",
   "nbconvert_exporter": "python",
   "pygments_lexer": "ipython3",
   "version": "3.6.8"
  }
 },
 "nbformat": 4,
 "nbformat_minor": 5
}
