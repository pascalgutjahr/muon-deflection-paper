{
 "cells": [
  {
   "cell_type": "code",
   "execution_count": 1,
   "id": "57ecf672-c0e9-4322-9f03-12901b50515e",
   "metadata": {},
   "outputs": [],
   "source": [
    "import numpy as np \n",
    "import matplotlib.pyplot as plt\n",
    "import math"
   ]
  },
  {
   "cell_type": "markdown",
   "id": "f6a0031e-e4f4-4753-a471-237afc8cfd27",
   "metadata": {},
   "source": [
    "# Define functions "
   ]
  },
  {
   "cell_type": "code",
   "execution_count": 2,
   "id": "baa9acc1-1fec-4dee-a0b2-15c718af890c",
   "metadata": {},
   "outputs": [],
   "source": [
    "# -------- epair ------------\n",
    "def get_new_psi_pairprod_exp(E, E_, rnd_state, is_degree=True):\n",
    "    n = -1\n",
    "    a = 8.9e-4\n",
    "    b = 1.5e-5\n",
    "    c = 0.032\n",
    "    d = 1\n",
    "    e = 0.1\n",
    "    m = 105.7 / 1e3 # in GeV\n",
    "    m_e =   0.5110 / 1e3 # in GeV\n",
    "    nu = (E - E_) / (E - m)\n",
    "    minimum = np.min([a * nu**(1/4) * (1 + b*E) + c * nu / (nu + d), e])\n",
    "    rms_theta = (2.3 + np.log(E)) * (1- nu)**n / E * (nu - 2 * m_e/E)**2 / nu**2 * minimum\n",
    "    ### theta = abs(rnd_state.normal(0, rms_theta/np.sqrt(2), 1)[0])\n",
    "    ### theta = rnd_state.normal(rms_theta**2, rms_theta, 1)[0]\n",
    "    theta_muon = np.sqrt(rnd_state.exponential(rms_theta**2))\n",
    "    # theta_muon = rnd_state.exponential(rms_theta)\n",
    "    ### theta_real = abs(theta - rms_theta**2)\n",
    "    if is_degree:\n",
    "        return np.rad2deg(theta_muon)\n",
    "    else:\n",
    "        return theta_muon"
   ]
  },
  {
   "cell_type": "code",
   "execution_count": 3,
   "id": "edd8962a-8d4b-4340-8f76-faf998d11297",
   "metadata": {},
   "outputs": [
    {
     "name": "stdout",
     "output_type": "stream",
     "text": [
      "angle in rad:  2.059626912031178e-08\n",
      "cos(angle):  0.9999999999999998\n"
     ]
    }
   ],
   "source": [
    "E_i = 1e9 # in GeV  \n",
    "E_f = 1e8 # in GeV \n",
    "\n",
    "rnd_state = np.random.RandomState(3)\n",
    "\n",
    "angle_1 = get_new_psi_pairprod_exp(E_i, E_f, rnd_state, is_degree=False)\n",
    "print('angle in rad: ', angle_1) \n",
    "print('cos(angle): ', np.cos(angle_1))"
   ]
  },
  {
   "cell_type": "code",
   "execution_count": 4,
   "id": "8ecf2ae7-2585-429e-afd6-8a302883cbec",
   "metadata": {},
   "outputs": [
    {
     "name": "stdout",
     "output_type": "stream",
     "text": [
      "angle in rad:  1.0298134554710396e-08\n",
      "cos(angle):  1.0\n"
     ]
    }
   ],
   "source": [
    "E_i = 1e9 # in GeV  \n",
    "E_f = 2e8 # in GeV \n",
    "\n",
    "rnd_state = np.random.RandomState(3)\n",
    "\n",
    "angle_2 = get_new_psi_pairprod_exp(E_i, E_f, rnd_state, is_degree=False)\n",
    "print('angle in rad: ', angle_2) \n",
    "print('cos(angle): ', np.cos(angle_2))"
   ]
  },
  {
   "cell_type": "code",
   "execution_count": 5,
   "id": "bafdf7bb-3b2d-489f-81db-41c76af6760d",
   "metadata": {},
   "outputs": [
    {
     "data": {
      "text/plain": [
       "Text(0.5, 0, 'deflection in rad')"
      ]
     },
     "execution_count": 5,
     "metadata": {},
     "output_type": "execute_result"
    },
    {
     "data": {
      "image/png": "[encoded data removed]",
      "text/plain": [
       "<Figure size 432x288 with 1 Axes>"
      ]
     },
     "metadata": {
      "needs_background": "light"
     },
     "output_type": "display_data"
    }
   ],
   "source": [
    "n_events = 10000\n",
    "E_i = 1e8 * np.ones(n_events)# in GeV  \n",
    "E_f = 1e7 * np.ones(n_events)# in GeV \n",
    "\n",
    "rnd_state = np.random.RandomState(3)\n",
    "\n",
    "angles = [get_new_psi_pairprod_exp(E_i, E_f, rnd_state, is_degree=False) for E_i, E_f in zip(E_i, E_f)]\n",
    "# print('angles in rad: ', angles) \n",
    "# print('angles inprint('cos(angle): ', np.cos(angles))\n",
    "plt.hist(angles, bins=np.logspace(-12, -6, 100), histtype='step')\n",
    "plt.xscale('log')\n",
    "plt.yscale('log')\n",
    "plt.xlabel('deflection in rad')"
   ]
  },
  {
   "cell_type": "code",
   "execution_count": 6,
   "id": "f899a79a-f3b7-41d4-a6f5-b613bdec7562",
   "metadata": {},
   "outputs": [
    {
     "name": "stdout",
     "output_type": "stream",
     "text": [
      "10000.0\n"
     ]
    },
    {
     "data": {
      "image/png": "[encoded data removed]",
      "text/plain": [
       "<Figure size 432x288 with 1 Axes>"
      ]
     },
     "metadata": {
      "needs_background": "light"
     },
     "output_type": "display_data"
    }
   ],
   "source": [
    "n, x, _ = plt.hist(np.cos(angles), bins=np.logspace(-1e-13, 0, 101), histtype='step')\n",
    "plt.xscale('log')\n",
    "plt.yscale('log')\n",
    "print(np.sum(n))"
   ]
  },
  {
   "cell_type": "code",
   "execution_count": 7,
   "id": "830e4fdd-09ff-4114-9cbb-b0f3a8d8718d",
   "metadata": {},
   "outputs": [
    {
     "data": {
      "text/plain": [
       "1.0298134554710396e-08"
      ]
     },
     "execution_count": 7,
     "metadata": {},
     "output_type": "execute_result"
    }
   ],
   "source": [
    "angle_2"
   ]
  },
  {
   "cell_type": "code",
   "execution_count": 8,
   "id": "864b1568-de59-4748-aeac-4347fdbfd36d",
   "metadata": {},
   "outputs": [
    {
     "data": {
      "text/plain": [
       "1.0605157530692029e-16"
      ]
     },
     "execution_count": 8,
     "metadata": {},
     "output_type": "execute_result"
    }
   ],
   "source": [
    "angle_2 * np.tan(angle_2)"
   ]
  },
  {
   "cell_type": "code",
   "execution_count": 9,
   "id": "8ad07331-4627-4291-a306-45be0fd7654e",
   "metadata": {},
   "outputs": [
    {
     "data": {
      "text/plain": [
       "1.0"
      ]
     },
     "execution_count": 9,
     "metadata": {},
     "output_type": "execute_result"
    }
   ],
   "source": [
    "np.cos(angle_2)"
   ]
  },
  {
   "cell_type": "code",
   "execution_count": 10,
   "id": "ca82cd4e-26aa-4856-a174-b456450c0a3a",
   "metadata": {},
   "outputs": [
    {
     "data": {
      "text/plain": [
       "0.9999999999999998"
      ]
     },
     "execution_count": 10,
     "metadata": {},
     "output_type": "execute_result"
    }
   ],
   "source": [
    "np.cos(2 * angle_2) "
   ]
  },
  {
   "cell_type": "code",
   "execution_count": 11,
   "id": "a4dee0bb-6318-44c6-80ba-6c8f8a414cd8",
   "metadata": {},
   "outputs": [
    {
     "data": {
      "text/plain": [
       "0.9999999999999987"
      ]
     },
     "execution_count": 11,
     "metadata": {},
     "output_type": "execute_result"
    }
   ],
   "source": [
    "np.cos(angle_1 * 2) - angle_1/2 * np.sin(angle_1 * 2)"
   ]
  },
  {
   "cell_type": "code",
   "execution_count": 12,
   "id": "3a7a2a24-1e79-43f3-ba0d-0f3be408b76d",
   "metadata": {},
   "outputs": [
    {
     "data": {
      "text/plain": [
       "0.9999999999999998"
      ]
     },
     "execution_count": 12,
     "metadata": {},
     "output_type": "execute_result"
    }
   ],
   "source": [
    "np.cos(angle_1)"
   ]
  },
  {
   "cell_type": "code",
   "execution_count": 13,
   "id": "4545ee6c-ebf2-4019-8bf9-da02f6cf7f7f",
   "metadata": {},
   "outputs": [
    {
     "data": {
      "text/plain": [
       "1"
      ]
     },
     "execution_count": 13,
     "metadata": {},
     "output_type": "execute_result"
    }
   ],
   "source": [
    "10 * 1 - 9 * 1"
   ]
  },
  {
   "cell_type": "code",
   "execution_count": 14,
   "id": "2857bd34-7778-4fbb-8613-c822de54d457",
   "metadata": {},
   "outputs": [
    {
     "data": {
      "text/plain": [
       "0.30000000000000027"
      ]
     },
     "execution_count": 14,
     "metadata": {},
     "output_type": "execute_result"
    }
   ],
   "source": [
    "10 * 0.3 - 9 * 0.3"
   ]
  },
  {
   "cell_type": "code",
   "execution_count": 15,
   "id": "9775d6f4-88de-4e23-8ec1-1b959a229e78",
   "metadata": {},
   "outputs": [
    {
     "data": {
      "text/plain": [
       "-5.73526152708078"
      ]
     },
     "execution_count": 15,
     "metadata": {},
     "output_type": "execute_result"
    }
   ],
   "source": [
    "np.cos(10) + 9 * np.sin(10)"
   ]
  },
  {
   "cell_type": "code",
   "execution_count": 16,
   "id": "876cabbe-9332-4ad6-9913-db3de3d59c9f",
   "metadata": {},
   "outputs": [
    {
     "data": {
      "text/plain": [
       "0.5403023058681398"
      ]
     },
     "execution_count": 16,
     "metadata": {},
     "output_type": "execute_result"
    }
   ],
   "source": [
    "np.cos(1)"
   ]
  },
  {
   "cell_type": "code",
   "execution_count": 17,
   "id": "80da8773-e3ea-4b06-93f2-a75c572fac10",
   "metadata": {},
   "outputs": [
    {
     "data": {
      "text/plain": [
       "1.0298134554710396e-14"
      ]
     },
     "execution_count": 17,
     "metadata": {},
     "output_type": "execute_result"
    }
   ],
   "source": [
    "np.sin(angle_2 * 0.000001)"
   ]
  },
  {
   "cell_type": "code",
   "execution_count": 18,
   "id": "d7865196-159c-4fd2-9983-9a3fc0d72e15",
   "metadata": {},
   "outputs": [
    {
     "data": {
      "text/plain": [
       "True"
      ]
     },
     "execution_count": 18,
     "metadata": {},
     "output_type": "execute_result"
    }
   ],
   "source": [
    "1 - 2 * np.sin(angle_1 / 2)**2 == np.cos(angle_1)"
   ]
  },
  {
   "cell_type": "code",
   "execution_count": 19,
   "id": "2cb7c1d4-c89d-46c6-a48d-59fa65cbed3f",
   "metadata": {},
   "outputs": [
    {
     "data": {
      "text/plain": [
       "True"
      ]
     },
     "execution_count": 19,
     "metadata": {},
     "output_type": "execute_result"
    }
   ],
   "source": [
    "1 - 2 * np.sin(angle_2 / 2)**2 == np.cos(angle_2)"
   ]
  },
  {
   "cell_type": "code",
   "execution_count": 20,
   "id": "79107d47-27f9-4ff4-a1fe-ed338ff1bd35",
   "metadata": {},
   "outputs": [
    {
     "data": {
      "text/plain": [
       "1.0"
      ]
     },
     "execution_count": 20,
     "metadata": {},
     "output_type": "execute_result"
    }
   ],
   "source": [
    "np.cos(angle_2)"
   ]
  },
  {
   "cell_type": "code",
   "execution_count": 21,
   "id": "1b1354c8-d1a1-40b6-9be2-74ff1ba80cb5",
   "metadata": {},
   "outputs": [
    {
     "data": {
      "text/plain": [
       "1.0"
      ]
     },
     "execution_count": 21,
     "metadata": {},
     "output_type": "execute_result"
    }
   ],
   "source": [
    "1 - 2 * np.sin(angle_2 / 2)**2"
   ]
  },
  {
   "cell_type": "code",
   "execution_count": 22,
   "id": "eff00687-7ee3-40de-a7e6-0d8e9be97135",
   "metadata": {},
   "outputs": [
    {
     "data": {
      "text/plain": [
       "5.3025787653460147e-17"
      ]
     },
     "execution_count": 22,
     "metadata": {},
     "output_type": "execute_result"
    }
   ],
   "source": [
    "np.sin(angle_2 / 2)**2 * 2"
   ]
  },
  {
   "cell_type": "code",
   "execution_count": 23,
   "id": "62ac9f3b-53f1-4a22-b1b0-c5071a382211",
   "metadata": {},
   "outputs": [
    {
     "data": {
      "text/plain": [
       "1.0"
      ]
     },
     "execution_count": 23,
     "metadata": {},
     "output_type": "execute_result"
    }
   ],
   "source": [
    "def cos_sum(t, N=1000):\n",
    "    return np.sum([(-1)**n / math.factorial(2 * n) * t**(2 * n) for n in range(N)])\n",
    "cos_sum(angle_2)"
   ]
  },
  {
   "cell_type": "code",
   "execution_count": 24,
   "id": "bcdabfa3-77ad-4620-b029-c272ab03c6c5",
   "metadata": {},
   "outputs": [
    {
     "data": {
      "text/plain": [
       "1.0"
      ]
     },
     "execution_count": 24,
     "metadata": {},
     "output_type": "execute_result"
    }
   ],
   "source": [
    "np.cos(angle_2)"
   ]
  },
  {
   "cell_type": "code",
   "execution_count": null,
   "id": "0d6e2e24-3a1d-435f-b253-cd2c91b4df33",
   "metadata": {},
   "outputs": [],
   "source": []
  }
 ],
 "metadata": {
  "kernelspec": {
   "display_name": "Python 3",
   "language": "python",
   "name": "python3"
  },
  "language_info": {
   "codemirror_mode": {
    "name": "ipython",
    "version": 3
   },
   "file_extension": ".py",
   "mimetype": "text/x-python",
   "name": "python",
   "nbconvert_exporter": "python",
   "pygments_lexer": "ipython3",
   "version": "3.6.8"
  }
 },
 "nbformat": 4,
 "nbformat_minor": 5
}
