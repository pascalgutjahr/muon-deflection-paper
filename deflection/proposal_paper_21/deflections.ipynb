{
 "cells": [
  {
   "cell_type": "code",
   "execution_count": 39,
   "metadata": {},
   "outputs": [],
   "source": [
    "import proposal as pp\n",
    "import numpy as np"
   ]
  },
  {
   "cell_type": "code",
   "execution_count": 67,
   "metadata": {},
   "outputs": [
    {
     "name": "stdout",
     "output_type": "stream",
     "text": [
      "43.982297150257104\n",
      "nan\n",
      "50.26548245743669\n",
      "nan\n",
      "31.41592653589793\n",
      "0.0\n",
      "37.69911184307752\n",
      "nan\n",
      "6.283185307179586\n",
      "nan\n",
      "0.0\n",
      "nan\n",
      "18.84955592153876\n",
      "nan\n",
      "25.132741228718345\n",
      "nan\n",
      "43.982297150257104\n",
      "nan\n",
      "43.982297150257104\n",
      "nan\n"
     ]
    }
   ],
   "source": [
    "bremsginneken = pp.make_stochastic_deflection(\n",
    "    'bremsginneken', \n",
    "    pp.particle.MuMinusDef(), \n",
    "    pp.medium.Ice()\n",
    ")\n",
    "vec = pp.UnitSphericalVector(0, 0)\n",
    "\n",
    "for i in range(10):    \n",
    "    vec = bremsginneken.stochastic_deflection(\n",
    "        1e4, \n",
    "        1e3, \n",
    "        [np.random.randint(10), np.random.randint(10)], \n",
    "        pp.component.Hydrogen(2).hash\n",
    "    )\n",
    "    print(vec.azimuth)\n",
    "    print(vec.zenith)"
   ]
  },
  {
   "cell_type": "code",
   "execution_count": 65,
   "metadata": {},
   "outputs": [
    {
     "name": "stdout",
     "output_type": "stream",
     "text": [
      "43.982297150257104\n",
      "nan\n",
      "31.41592653589793\n",
      "nan\n",
      "31.41592653589793\n",
      "nan\n",
      "37.69911184307752\n",
      "nan\n",
      "6.283185307179586\n",
      "0.0\n",
      "0.0\n",
      "inf\n",
      "31.41592653589793\n",
      "nan\n",
      "18.84955592153876\n",
      "nan\n",
      "12.566370614359172\n",
      "nan\n",
      "12.566370614359172\n",
      "nan\n"
     ]
    }
   ],
   "source": [
    "photoginneken = pp.make_stochastic_deflection(\n",
    "    'photoginneken', \n",
    "    pp.particle.MuMinusDef(), \n",
    "    pp.medium.Ice()\n",
    ")\n",
    "vec = pp.UnitSphericalVector(0, 0)\n",
    "\n",
    "for i in range(10):    \n",
    "    vec = photoginneken.stochastic_deflection(\n",
    "        1e4, \n",
    "        1e3, \n",
    "        [np.random.randint(10), np.random.randint(10), np.random.randint(10)], \n",
    "        pp.component.Hydrogen(2).hash\n",
    "    )\n",
    "    print(vec.azimuth)\n",
    "    print(vec.zenith)"
   ]
  },
  {
   "cell_type": "code",
   "execution_count": 50,
   "metadata": {},
   "outputs": [
    {
     "data": {
      "text/plain": [
       "25.132741228718345"
      ]
     },
     "execution_count": 50,
     "metadata": {},
     "output_type": "execute_result"
    }
   ],
   "source": [
    "vec.azimuth"
   ]
  },
  {
   "cell_type": "code",
   "execution_count": 51,
   "metadata": {},
   "outputs": [
    {
     "data": {
      "text/plain": [
       "nan"
      ]
     },
     "execution_count": 51,
     "metadata": {},
     "output_type": "execute_result"
    }
   ],
   "source": [
    "vec.zenith"
   ]
  },
  {
   "cell_type": "code",
   "execution_count": 48,
   "metadata": {},
   "outputs": [
    {
     "data": {
      "text/plain": [
       "7"
      ]
     },
     "execution_count": 48,
     "metadata": {},
     "output_type": "execute_result"
    }
   ],
   "source": [
    "np.random.randint(10)"
   ]
  },
  {
   "cell_type": "code",
   "execution_count": 59,
   "metadata": {},
   "outputs": [],
   "source": []
  },
  {
   "cell_type": "code",
   "execution_count": 58,
   "metadata": {},
   "outputs": [
    {
     "data": {
      "text/plain": [
       "<proposal.Cartesian3D at 0x1158cb630>"
      ]
     },
     "execution_count": 58,
     "metadata": {},
     "output_type": "execute_result"
    }
   ],
   "source": [
    "vec"
   ]
  },
  {
   "cell_type": "code",
   "execution_count": null,
   "metadata": {},
   "outputs": [],
   "source": []
  }
 ],
 "metadata": {
  "kernelspec": {
   "display_name": "proposal_762",
   "language": "python",
   "name": "python3"
  },
  "language_info": {
   "codemirror_mode": {
    "name": "ipython",
    "version": 3
   },
   "file_extension": ".py",
   "mimetype": "text/x-python",
   "name": "python",
   "nbconvert_exporter": "python",
   "pygments_lexer": "ipython3",
   "version": "3.9.6"
  },
  "orig_nbformat": 4
 },
 "nbformat": 4,
 "nbformat_minor": 2
}
