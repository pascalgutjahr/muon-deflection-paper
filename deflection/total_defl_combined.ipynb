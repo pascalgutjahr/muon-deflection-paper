{
 "cells": [
  {
   "cell_type": "code",
   "execution_count": 162,
   "id": "fca5581b-4db1-4d37-89ce-82b10bd5cf9c",
   "metadata": {},
   "outputs": [],
   "source": [
    "import numpy as np\n",
    "import matplotlib.pyplot as plt \n",
    "import os \n",
    "from tqdm import tqdm\n",
    "import pandas as pd\n",
    "import uncertainties.unumpy as unp\n",
    "from scipy.optimize import curve_fit\n",
    "# import ipyparams # only in notebook, not in jupyter lab"
   ]
  },
  {
   "cell_type": "code",
   "execution_count": 26,
   "id": "4a320670-131f-40b9-b8a3-3d957bbd3384",
   "metadata": {},
   "outputs": [
    {
     "data": {
      "text/plain": [
       "0"
      ]
     },
     "execution_count": 26,
     "metadata": {},
     "output_type": "execute_result"
    }
   ],
   "source": [
    "save_plot = True # False\n",
    "\n",
    "# currentNotebook = ipyparams.notebook_name[:len(ipyparams.notebook_name)-6] # get name of currect notebook\n",
    "# assert currentNotebook != '', \"no notebook name, run cell again\"\n",
    "\n",
    "currentNotebook = \"total_defl_combined\"\n",
    "\n",
    "plot_dir = 'plots/{}/'.format(currentNotebook)\n",
    "os.system('mkdir -p {}'.format(plot_dir))\n",
    "\n",
    "df_dir = 'data/{}/'.format(currentNotebook)\n",
    "os.system('mkdir -p {}'.format(df_dir))"
   ]
  },
  {
   "cell_type": "code",
   "execution_count": 137,
   "id": "52cb22d8-65cd-496e-b533-3d93b8735d5d",
   "metadata": {},
   "outputs": [
    {
     "data": {
      "text/plain": [
       "dict_keys(['df_00', 'df_01', 'df_02', 'df_03'])"
      ]
     },
     "execution_count": 137,
     "metadata": {},
     "output_type": "execute_result"
    }
   ],
   "source": [
    "df_dict = {}\n",
    "for i, hdf in enumerate(sorted(os.listdir('data/total_defl_combined/'))):\n",
    "    df = pd.read_hdf('data/total_defl_combined/{}'.format(hdf), key='seed_3')\n",
    "    df_dict['df_%02d' %i] = df\n",
    "    \n",
    "df_dict.keys()"
   ]
  },
  {
   "cell_type": "code",
   "execution_count": 138,
   "id": "e07de7b6-8dff-4eae-a5f8-0586104efddb",
   "metadata": {},
   "outputs": [],
   "source": [
    "E_f = [1e5, 1e4, 1e3, 1e2] # in GeV"
   ]
  },
  {
   "cell_type": "code",
   "execution_count": 139,
   "id": "fe6dbefe-db3d-48c4-a3b2-d61bd6742a31",
   "metadata": {},
   "outputs": [
    {
     "data": {
      "text/plain": [
       "<matplotlib.legend.Legend at 0x7f001c88a1d0>"
      ]
     },
     "execution_count": 139,
     "metadata": {},
     "output_type": "execute_result"
    },
    {
     "data": {
      "image/png": "[encoded data removed]",
      "text/plain": [
       "<Figure size 432x288 with 1 Axes>"
      ]
     },
     "metadata": {
      "needs_background": "light"
     },
     "output_type": "display_data"
    }
   ],
   "source": [
    "bins = np.logspace(-6, 2, 50)\n",
    "for d in df_dict:\n",
    "    df = df_dict[d]\n",
    "    plt.hist(df.deflection, bins=bins, histtype='step', label=d)\n",
    "plt.xscale('log')\n",
    "plt.yscale('log')\n",
    "plt.xlabel('total deflection in degree')\n",
    "plt.legend()"
   ]
  },
  {
   "cell_type": "code",
   "execution_count": 159,
   "id": "a894d7bd-5fe7-4dcb-bf90-c34b9f8df64d",
   "metadata": {},
   "outputs": [
    {
     "name": "stdout",
     "output_type": "stream",
     "text": [
      "argmax:  25\n",
      "number events:  10000\n",
      "Current CL:  0.7245\n",
      "maxixum:  3.1\n",
      "lower:  2.0\n",
      "upper:  4.0\n",
      "max =  3.1  -  1.1  +  0.8999999999999999\n"
     ]
    },
    {
     "data": {
      "text/plain": [
       "<matplotlib.legend.Legend at 0x7f00198158d0>"
      ]
     },
     "execution_count": 159,
     "metadata": {},
     "output_type": "execute_result"
    },
    {
     "data": {
      "image/png": "[encoded data removed]",
      "text/plain": [
       "<Figure size 432x288 with 1 Axes>"
      ]
     },
     "metadata": {
      "needs_background": "light"
     },
     "output_type": "display_data"
    }
   ],
   "source": [
    "# get 95% smallest interval around the modal \n",
    "def get_smallest_interval_around_mode(values, bins, CL=0.68, show=False, plot=False):\n",
    "    '''Determines smallest interval of x percent located around the modal value.\n",
    "       Fine binnig results to more precise results.\n",
    "    \n",
    "    '''\n",
    "    binned_counts, bin_edges = np.histogram(values, bins=bins)\n",
    "    arg_max = np.argmax(binned_counts)\n",
    "    n_sum = np.sum(binned_counts)\n",
    "    n_sorted = np.sort(binned_counts)[::-1]\n",
    "    n_argsort = np.argsort(binned_counts)[::-1]\n",
    "    c = 0\n",
    "    for id_argsort,i,counts in zip(range(len(n_argsort)), n_argsort, n_sorted):\n",
    "        c += counts\n",
    "        if c/n_sum >= CL:\n",
    "            c_level = np.round(c/n_sum, 3)\n",
    "            if i < arg_max: # lower limit\n",
    "                # print('i < argmax')\n",
    "                lower = bin_edges[i]\n",
    "                while i < arg_max:\n",
    "                    id_argsort += 1\n",
    "                    i = n_argsort[id_argsort]\n",
    "                upper = bin_edges[i]\n",
    "            elif i > arg_max: \n",
    "                # print('i > argmax')\n",
    "                upper = bin_edges[i]\n",
    "                while i > arg_max:\n",
    "                    id_argsort -= 1\n",
    "                    i = n_argsort[id_argsort]\n",
    "                lower = bin_edges[i]\n",
    "            else:\n",
    "                print('ERROR: i == argmax')\n",
    "            break\n",
    "    \n",
    "    maximum = (bin_edges[arg_max] + bin_edges[arg_max + 1])/2\n",
    "    cl = {\n",
    "        'maximum': maximum,\n",
    "        'lower_bound': lower,\n",
    "        'upper_bound': upper,\n",
    "        'CL': c_level,\n",
    "    }        \n",
    "    if show:\n",
    "        print('argmax: ', arg_max)\n",
    "        print('number events: ', np.sum(binned_counts))\n",
    "        print('Current CL: ', c/n_sum)\n",
    "        print('maxixum: ', maximum)\n",
    "        print('lower: ', lower)\n",
    "        print('upper: ', upper)\n",
    "        print('max = ', maximum, ' - ', maximum-lower, ' + ',upper-maximum)\n",
    "    if plot:\n",
    "        plt.vlines(cl['maximum'], 1, np.max(binned_counts), color='red', label='max')\n",
    "        plt.vlines(cl['lower_bound'], 1, np.max(binned_counts), color='green')\n",
    "        plt.vlines(cl['upper_bound'], 1, np.max(binned_counts), color='green', label='CL: {} %'.format(cl['CL']))\n",
    "\n",
    "    return cl\n",
    "\n",
    "gaus = np.random.normal(3, size=10000)\n",
    "bins = np.linspace(-2, 8, 51)\n",
    "plt.hist(gaus, bins=bins, histtype='step')\n",
    "si = get_smallest_interval_around_mode(gaus, bins=bins, CL=0.68, show=True, plot=True)\n",
    "\n",
    "plt.vlines(np.quantile(gaus, 0.155), 0, 850, color='pink')\n",
    "plt.vlines(np.quantile(gaus, 0.5), 0, 850, color='pink')\n",
    "plt.vlines(np.quantile(gaus, 0.835), 0, 850, color='pink')\n",
    "plt.legend()"
   ]
  },
  {
   "cell_type": "code",
   "execution_count": 157,
   "id": "dc9bfa3b-8fa9-4425-a03d-e10a72221f8b",
   "metadata": {},
   "outputs": [
    {
     "name": "stdout",
     "output_type": "stream",
     "text": [
      "argmax:  35\n",
      "number events:  50000\n",
      "Current CL:  0.72826\n",
      "maxixum:  0.0007422729482823851\n",
      "lower:  0.00026560877829466864\n",
      "upper:  0.0014174741629268063\n",
      "max =  0.0007422729482823851  -  0.00047666416998771646  +  0.0006752012146444212\n",
      "argmax:  48\n",
      "number events:  50000\n",
      "Current CL:  0.72872\n",
      "maxixum:  0.008338130418350593\n",
      "lower:  0.0024770763559917113\n",
      "upper:  0.013219411484660314\n",
      "max =  0.008338130418350593  -  0.005861054062358881  +  0.004881281066309721\n",
      "argmax:  59\n",
      "number events:  50000\n",
      "Current CL:  0.71734\n",
      "maxixum:  0.06455911564387659\n",
      "lower:  0.02782559402207126\n",
      "upper:  0.10235310218990269\n",
      "max =  0.06455911564387659  -  0.036733521621805335  +  0.0377939865460261\n",
      "argmax:  68\n",
      "number events:  50000\n",
      "Current CL:  0.71958\n",
      "maxixum:  0.34453258282403565\n",
      "lower:  0.14849682622544666\n",
      "upper:  0.5462277217684348\n",
      "max =  0.34453258282403565  -  0.196035756598589  +  0.20169513894439917\n"
     ]
    },
    {
     "data": {
      "text/plain": [
       "<matplotlib.legend.Legend at 0x7f001890e278>"
      ]
     },
     "execution_count": 157,
     "metadata": {},
     "output_type": "execute_result"
    },
    {
     "data": {
      "image/png": "[encoded data removed]",
      "text/plain": [
       "<Figure size 432x288 with 1 Axes>"
      ]
     },
     "metadata": {
      "needs_background": "light"
     },
     "output_type": "display_data"
    }
   ],
   "source": [
    "bins = np.logspace(-6, 2, 100)\n",
    "\n",
    "deflection_mode = []\n",
    "deflection_mode_lower = []\n",
    "deflection_mode_upper = []\n",
    "for d in df_dict: # ['df_00']:\n",
    "    df = df_dict[d]\n",
    "    si = get_smallest_interval_around_mode(df.deflection, bins=bins, CL=0.68, show=True, plot=False)\n",
    "    # plt.hist(df.deflection, bins=bins, histtype='step', label=d)\n",
    "    \n",
    "    deflection_mode.append(si['maximum'])\n",
    "    deflection_mode_lower.append(si['maximum'] - si['lower_bound'])\n",
    "    deflection_mode_upper.append(si['upper_bound'] - si['maximum'])\n",
    "\n",
    "plt.errorbar(deflection_mode, E_f, xerr=(deflection_mode_lower, deflection_mode_upper), fmt='x', label='mode')\n",
    "plt.xscale('log')\n",
    "plt.yscale('log')\n",
    "plt.xlabel('total deflection in degree')\n",
    "plt.ylabel('final energy in TeV')\n",
    "plt.xlim(1e-5, 10)\n",
    "plt.legend()"
   ]
  },
  {
   "cell_type": "code",
   "execution_count": 155,
   "id": "83e9d4a8-89e7-4876-9456-7d666026ffd1",
   "metadata": {},
   "outputs": [
    {
     "name": "stdout",
     "output_type": "stream",
     "text": [
      "argmax:  35\n",
      "number events:  50000\n",
      "Current CL:  0.95368\n",
      "maxixum:  0.0007422729482823851\n",
      "lower:  8.697490026177834e-05\n",
      "upper:  0.0020565123083486534\n",
      "max =  0.0007422729482823851  -  0.0006552980480206067  +  0.0013142393600662683\n",
      "argmax:  48\n",
      "number events:  50000\n",
      "Current CL:  0.95656\n",
      "maxixum:  0.008338130418350593\n",
      "lower:  0.0008111308307896872\n",
      "upper:  0.019179102616724886\n",
      "max =  0.008338130418350593  -  0.007526999587560906  +  0.010840972198374293\n",
      "argmax:  59\n",
      "number events:  50000\n",
      "Current CL:  0.95942\n",
      "maxixum:  0.06455911564387659\n",
      "lower:  0.007564633275546291\n",
      "upper:  0.1788649529057435\n",
      "max =  0.06455911564387659  -  0.0569944823683303  +  0.11430583726186691\n",
      "argmax:  68\n",
      "number events:  50000\n",
      "Current CL:  0.95244\n",
      "maxixum:  0.34453258282403565\n",
      "lower:  0.058570208180566734\n",
      "upper:  0.7924828983539186\n",
      "max =  0.34453258282403565  -  0.2859623746434689  +  0.44795031552988296\n"
     ]
    },
    {
     "data": {
      "text/plain": [
       "<matplotlib.legend.Legend at 0x7f0018e9d470>"
      ]
     },
     "execution_count": 155,
     "metadata": {},
     "output_type": "execute_result"
    },
    {
     "data": {
      "image/png": "[encoded data removed]",
      "text/plain": [
       "<Figure size 432x288 with 1 Axes>"
      ]
     },
     "metadata": {
      "needs_background": "light"
     },
     "output_type": "display_data"
    }
   ],
   "source": [
    "bins = np.logspace(-6, 2, 100)\n",
    "\n",
    "deflection_mode = []\n",
    "deflection_mode_lower = []\n",
    "deflection_mode_upper = []\n",
    "for d in df_dict: # ['df_00']:\n",
    "    df = df_dict[d]\n",
    "    si = get_smallest_interval_around_mode(df.deflection, bins=bins, CL=0.95, show=True, plot=False)\n",
    "    # plt.hist(df.deflection, bins=bins, histtype='step', label=d)\n",
    "    \n",
    "    deflection_mode.append(si['maximum'])\n",
    "    deflection_mode_lower.append(si['maximum'] - si['lower_bound'])\n",
    "    deflection_mode_upper.append(si['upper_bound'] - si['maximum'])\n",
    "\n",
    "plt.errorbar(deflection_mode, E_f, xerr=(deflection_mode_lower, deflection_mode_upper), fmt='x', label='mode')\n",
    "plt.xscale('log')\n",
    "plt.yscale('log')\n",
    "plt.xlabel('total deflection in degree')\n",
    "plt.ylabel('final energy in TeV')\n",
    "plt.xlim(1e-5, 10)\n",
    "plt.legend()"
   ]
  },
  {
   "cell_type": "code",
   "execution_count": 152,
   "id": "1d73a8f0-97e3-4051-876a-1bb157acb636",
   "metadata": {},
   "outputs": [
    {
     "name": "stdout",
     "output_type": "stream",
     "text": [
      "argmax:  35\n",
      "number events:  50000\n",
      "Current CL:  0.95368\n",
      "maxixum:  0.0007422729482823851\n",
      "lower:  8.697490026177834e-05\n",
      "upper:  0.0020565123083486534\n",
      "max =  0.0007422729482823851  -  0.0006552980480206067  +  0.0013142393600662683\n"
     ]
    },
    {
     "data": {
      "text/plain": [
       "<matplotlib.legend.Legend at 0x7f001955efd0>"
      ]
     },
     "execution_count": 152,
     "metadata": {},
     "output_type": "execute_result"
    },
    {
     "data": {
      "image/png": "[encoded data removed]",
      "text/plain": [
       "<Figure size 432x288 with 1 Axes>"
      ]
     },
     "metadata": {
      "needs_background": "light"
     },
     "output_type": "display_data"
    }
   ],
   "source": [
    "bins = np.logspace(-6, 2, 100)\n",
    "\n",
    "deflection_mode = []\n",
    "deflection_mode_lower = []\n",
    "deflection_mode_upper = []\n",
    "for d in ['df_00']:\n",
    "    df = df_dict[d]\n",
    "    # si = get_smallest_interval_around_mode(df.deflection, bins=bins, CL=0.3, show=True, plot=True)\n",
    "    si = get_smallest_interval_around_mode(df.deflection, bins=bins, CL=0.95, show=True, plot=True)\n",
    "    plt.hist(df.deflection, bins=bins, histtype='step', label=d)\n",
    "    \n",
    "    deflection_mode.append(si['maximum'])\n",
    "    deflection_mode_lower.append(si['maximum'] - si['lower_bound'])\n",
    "    deflection_mode_upper.append(si['upper_bound'] - si['maximum'])\n",
    "\n",
    "plt.errorbar(deflection_mode, 3000, xerr=(deflection_mode_lower, deflection_mode_upper), fmt='x', label='mode')\n",
    "plt.xscale('log')\n",
    "# plt.yscale('log')\n",
    "plt.xlabel('total deflection in degree')\n",
    "plt.ylabel('final energy in TeV')\n",
    "plt.xlim(1e-6, 10)\n",
    "plt.legend()"
   ]
  },
  {
   "cell_type": "code",
   "execution_count": 174,
   "id": "81c05646-4bac-4ab0-a8a7-a3e8164e3cf7",
   "metadata": {},
   "outputs": [
    {
     "name": "stderr",
     "output_type": "stream",
     "text": [
      "/home/pgutjahr/proposal_env/lib64/python3.6/site-packages/ipykernel_launcher.py:7: RuntimeWarning: invalid value encountered in sqrt\n",
      "  import sys\n"
     ]
    },
    {
     "data": {
      "text/plain": [
       "[<matplotlib.lines.Line2D at 0x7eff9926a940>]"
      ]
     },
     "execution_count": 174,
     "metadata": {},
     "output_type": "execute_result"
    },
    {
     "data": {
      "image/png": "[encoded data removed]",
      "text/plain": [
       "<Figure size 432x288 with 1 Axes>"
      ]
     },
     "metadata": {
      "needs_background": "light"
     },
     "output_type": "display_data"
    }
   ],
   "source": [
    "### fit deflection modes \n",
    "def efit(x, a, b, c):\n",
    "    return a * np.exp(-b * x) + c\n",
    "\n",
    "\n",
    "params, cov = curve_fit(efit, deflection_mode, E_f)\n",
    "errors = np.sqrt(np.diag(cov))\n",
    "\n",
    "x = np.logspace(-4, 0, 100)\n",
    "plt.plot(x, efit(x, *params))\n",
    "plt.plot(deflection_mode, E_f, 'x')\n",
    "# plt.xscale('log')\n",
    "# plt.yscale('log')"
   ]
  },
  {
   "cell_type": "code",
   "execution_count": null,
   "id": "778cd7b1-da34-4238-820d-0f0f20a80fba",
   "metadata": {},
   "outputs": [],
   "source": []
  }
 ],
 "metadata": {
  "kernelspec": {
   "display_name": "Python 3",
   "language": "python",
   "name": "python3"
  },
  "language_info": {
   "codemirror_mode": {
    "name": "ipython",
    "version": 3
   },
   "file_extension": ".py",
   "mimetype": "text/x-python",
   "name": "python",
   "nbconvert_exporter": "python",
   "pygments_lexer": "ipython3",
   "version": "3.6.8"
  }
 },
 "nbformat": 4,
 "nbformat_minor": 5
}
