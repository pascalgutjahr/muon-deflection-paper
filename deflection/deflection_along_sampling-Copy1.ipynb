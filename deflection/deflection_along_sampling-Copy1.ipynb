{
 "cells": [
  {
   "cell_type": "code",
   "execution_count": 1,
   "id": "d468ab3b",
   "metadata": {},
   "outputs": [
    {
     "data": {
      "application/javascript": [
       "\n",
       "console.log('Starting front end url_querystring_target comm target');\n",
       "const comm = Jupyter.notebook.kernel.comm_manager.new_comm('url_querystring_target', {'init': 1});\n",
       "comm.send({'ipyparams_browser_url': window.location.href});\n",
       "console.log('Sent window.location.href on url_querystring_target comm target');\n",
       "\n",
       "comm.on_msg(function(msg) {\n",
       "    console.log(msg.content.data);\n",
       "});\n"
      ],
      "text/plain": [
       "<IPython.core.display.Javascript object>"
      ]
     },
     "metadata": {},
     "output_type": "display_data"
    }
   ],
   "source": [
    "import pandas as pd \n",
    "import numpy as np \n",
    "import matplotlib.pyplot as plt \n",
    "import os \n",
    "from tqdm import tqdm\n",
    "from matplotlib import cm\n",
    "\n",
    "from iteration_utilities import flatten\n",
    "import ipyparams\n",
    "from helper_functions import propagate_deflected_muons_custom, get_angle_deviation, energy_name, get_zenith_deflections_along_track, save_data_along_dict, load_data_along_dict"
   ]
  },
  {
   "cell_type": "code",
   "execution_count": 2,
   "id": "e33b6777",
   "metadata": {},
   "outputs": [],
   "source": [
    "save_plot = False\n",
    "\n",
    "# currentNotebook = ipyparams.notebook_name[:len(ipyparams.notebook_name)-6] # get name of currect notebook\n",
    "# assert currentNotebook != '', \"no notebook name, run cell again\"\n",
    "\n",
    "currentNotebook = \"deflection_along_sampling_test\"\n",
    "\n",
    "plot_dir = 'plots/{}/'.format(currentNotebook)\n",
    "os.system('mkdir -p {}'.format(plot_dir))\n",
    "\n",
    "df_dir = 'data/{}/'.format(currentNotebook)\n",
    "os.system('mkdir -p {}'.format(df_dir))\n",
    "\n",
    "\n",
    "colors = {\n",
    "    'brems': cm.tab10(0),\n",
    "    'nuclint': cm.tab10(1), \n",
    "    'epair': cm.tab10(2),\n",
    "    'ioniz': cm.tab10(3) \n",
    "}"
   ]
  },
  {
   "cell_type": "code",
   "execution_count": 3,
   "id": "0ee15716-2640-449c-aa9f-2c5448d8794a",
   "metadata": {},
   "outputs": [
    {
     "data": {
      "image/png": "[encoded data removed]",
      "text/html": [
       "<div style=\"vertical-align: middle;\"><strong>tab10</strong> </div><div class=\"cmap\"><img alt=\"tab10 colormap\" title=\"tab10\" style=\"border: 1px solid #555;\" src=\"data:image/png;base64,iVBORw0KGgoAAAANSUhEUgAAAgAAAABACAYAAABsv8+/AAAAFHRFWHRUaXRsZQB0YWIxMCBjb2xvcm1hcFeJcQsAAAAadEVYdERlc2NyaXB0aW9uAHRhYjEwIGNvbG9ybWFwqdbY7QAAADB0RVh0QXV0aG9yAE1hdHBsb3RsaWIgdjMuNC4zLCBodHRwczovL21hdHBsb3RsaWIub3JnCV3z0wAAADJ0RVh0U29mdHdhcmUATWF0cGxvdGxpYiB2My40LjMsIGh0dHBzOi8vbWF0cGxvdGxpYi5vcmcn+2z0AAABeklEQVR4nO3WsS0EcBxAYae6KcgNYARiCwmD3AjX6a67TifRaZnFBlqFhCX+8Uu875vglW9zuX/9OftHPrb30wnLXO0uphOWeT58Tycs8357nE5Y5uvzcTphmbvdfjphmdP2bTphmeubp+mEZR42L9MJS51PBwAAf88AAECQAQCAIAMAAEEGAACCDAAABBkAAAgyAAAQZAAAIMgAAECQAQCAIAMAAEEGAACCDAAABBkAAAgyAAAQZAAAIMgAAECQAQCAIAMAAEEGAACCDAAABBkAAAgyAAAQZAAAIMgAAECQAQCAIAMAAEEGAACCDAAABBkAAAgyAAAQZAAAIMgAAECQAQCAIAMAAEEGAACCDAAABBkAAAgyAAAQZAAAIMgAAECQAQCAIAMAAEEGAACCDAAABBkAAAgyAAAQZAAAIMgAAECQAQCAIAMAAEEGAACCDAAABBkAAAgyAAAQZAAAIMgAAECQAQCAIAMAAEEGAACCDAAABBkAAAj6BcEgDyNmiQL1AAAAAElFTkSuQmCC\"></div><div style=\"vertical-align: middle; max-width: 514px; display: flex; justify-content: space-between;\"><div style=\"float: left;\"><div title=\"#1f77b4ff\" style=\"display: inline-block; width: 1em; height: 1em; margin: 0; vertical-align: middle; border: 1px solid #555; background-color: #1f77b4ff;\"></div> under</div><div style=\"margin: 0 auto; display: inline-block;\">bad <div title=\"#00000000\" style=\"display: inline-block; width: 1em; height: 1em; margin: 0; vertical-align: middle; border: 1px solid #555; background-color: #00000000;\"></div></div><div style=\"float: right;\">over <div title=\"#17becfff\" style=\"display: inline-block; width: 1em; height: 1em; margin: 0; vertical-align: middle; border: 1px solid #555; background-color: #17becfff;\"></div></div>"
      ],
      "text/plain": [
       "<matplotlib.colors.ListedColormap at 0x1198ff130>"
      ]
     },
     "execution_count": 3,
     "metadata": {},
     "output_type": "execute_result"
    }
   ],
   "source": [
    "cm.tab10"
   ]
  },
  {
   "cell_type": "code",
   "execution_count": 4,
   "id": "0c4518ab",
   "metadata": {},
   "outputs": [
    {
     "data": {
      "text/plain": [
       "'df_1PeV_1TeV_100events.hdf'"
      ]
     },
     "execution_count": 4,
     "metadata": {},
     "output_type": "execute_result"
    }
   ],
   "source": [
    "n_events = 100 # 5000 # 1\n",
    "E_i = 1e9 # 1 PeV (corresponds to MeV)\n",
    "E_f = 1e6 # 1 TeV (corresponds to MeV)\n",
    "E_i_final = np.ones(n_events) * E_i\n",
    "E_f_final = np.ones(n_events) * E_f\n",
    "\n",
    "table_path=\"/Users/pascalgutjahr/.cache/PROPOSAL\" # lehrstuhl macbook\n",
    "\n",
    "hdf_name = 'df_{}_{}_{}events.hdf'.format(energy_name(E_i), energy_name(E_f), n_events)\n",
    "hdf_name"
   ]
  },
  {
   "cell_type": "markdown",
   "id": "5881e0f6",
   "metadata": {},
   "source": [
    "# Sample deflections along extern using energies of propagation"
   ]
  },
  {
   "cell_type": "markdown",
   "id": "4bcba852",
   "metadata": {},
   "source": [
    "## Check energies!! GeV or MeV?!"
   ]
  },
  {
   "cell_type": "code",
   "execution_count": 5,
   "id": "7c480593",
   "metadata": {},
   "outputs": [],
   "source": [
    "### deflection parametrizations\n",
    "\n",
    "# ------- bremsstrahlung --------\n",
    "### Van Ginneken\n",
    "def get_brems_rms_theta_vG_final(E, E_, Z=82, m=0.10566):\n",
    "    nu = (E - E_) / (E - m)\n",
    "    if nu <= 0.5:\n",
    "        k_1 = 0.092 * E**(-1/3)\n",
    "        k_2 = 0.052 / E * Z**(-1/4)\n",
    "        k_3 = 0.22 * E**(-0.92)\n",
    "        rms_theta = np.max([np.min([k_1 * np.sqrt(nu), k_2]), k_3 * nu])\n",
    "        return rms_theta\n",
    "    if nu > 0.5:\n",
    "        k_4 = 0.26 * E**(-0.91)\n",
    "        m = 0.5\n",
    "        d = 1.8\n",
    "        n = 0.81 * E**m / (E**m + d)\n",
    "        rms_theta = k_4 * nu**(1+n) * (1 - nu)**(-n)\n",
    "        if rms_theta < 0.2:\n",
    "            return rms_theta\n",
    "    if nu > 0.5:\n",
    "        # k_5 = k_4 * nu**(1+n) * (1-nu)**(0.5-n)\n",
    "        ###\n",
    "        # x_min = 5e-5 # 5e-3\n",
    "        # v = np.logspace(np.log10(x_min), np.log10(0.5), int(1e6))\n",
    "        # nu_lin = 1 - v \n",
    "        # nu_g = nu_lin[np.argmin(abs(f_nu_g(nu_lin, f_n(E), f_k_4(E))))]\n",
    "        ###\n",
    "        nu_g = get_nu_g(E)\n",
    "        ### nu_g = get_nu_g_1(E) # no relevant speed difference\n",
    "        k_5 = k_4 * nu_g**(1+n) * (1-nu_g)**(0.5-n)\n",
    "        rms_theta = k_5 * (1 - nu)**(-0.5)\n",
    "        if rms_theta >= 0.2:\n",
    "            return rms_theta\n",
    "    else:\n",
    "        assert False, 'nu_g = {}'.format(nu_g)\n",
    "        \n",
    "def f_nu_g(nu_g, n, k_4):\n",
    "    return (nu_g**(1/n + 1) + (0.2/k_4)**(1/n) * nu_g - (0.2/k_4)**(1/n))\n",
    "\n",
    "def f_n(E, m=0.5, d=1.8):\n",
    "    return 0.81 * E**m / (E**m + d)\n",
    "\n",
    "def f_k_4(E):\n",
    "    return 0.26 * E**(-0.91)\n",
    "\n",
    "def get_nu_g(E, x_min=5e-5):\n",
    "    v = np.logspace(np.log10(x_min), np.log10(0.5), int(1e6))\n",
    "    nu_lin = 1 - v \n",
    "    nu_g = nu_lin[np.argmin(abs(f_nu_g(nu_lin, f_n(E), f_k_4(E))))]\n",
    "    return nu_g\n",
    "\n",
    "def get_nu_g_1(E, x_min=5e-5):\n",
    "    v = np.logspace(np.log10(x_min), np.log10(0.5), int(1e6))\n",
    "    nu_lin = 1 - v \n",
    "    n = 0.81 * E**0.5 / (E**0.5 + 1.8)\n",
    "    k_4 = 0.26 * E**(-0.91)\n",
    "    nu_g = nu_lin[np.argmin(abs(f_nu_g(nu_lin, n, k_4)))]\n",
    "    return nu_g\n",
    "\n",
    "# sample from van Ginneken\n",
    "def get_brems_theta_vG(E, E_, rnd_state, Z=1, is_degree=True):\n",
    "    rms_theta = get_brems_rms_theta_vG_final(E, E_, Z=Z)\n",
    "    theta_muon = np.sqrt(rnd_state.exponential(rms_theta**2))\n",
    "    if is_degree:\n",
    "        return np.rad2deg(theta_muon)\n",
    "    else:\n",
    "        return theta_muon\n",
    "\n",
    "### Geant4 sampling \n",
    "def get_new_psi_brems(E, E_, rnd_state, is_degree=True, theta_star=1):\n",
    "    epsilon = E - E_\n",
    "    mu = 0.1057  # muon mass\n",
    "    p = rnd_state.uniform(0, 1)\n",
    "    r_max = np.minimum(1, E_/epsilon) * E * theta_star / mu\n",
    "    a = p * r_max**2 / (1+r_max**2)\n",
    "    r = np.sqrt(a/(1-a))\n",
    "    theta_photon = mu / E * r\n",
    "    theta_mu = epsilon / E_ * theta_photon\n",
    "    \n",
    "    if is_degree:\n",
    "        return np.rad2deg(theta_mu)\n",
    "    else:\n",
    "        return theta_mu\n",
    "    \n",
    "# ----------- nuclint ----------\n",
    "def get_new_psi_nuclint(E, E_, rnd_state, is_degree=True, nu_min=None, nu_max=True):\n",
    "    M = 0.9383 # Proton mass\n",
    "    mu = 0.1057 # Muon mass\n",
    "    if nu_min is not None:\n",
    "        if E - E_ < nu_min:\n",
    "            print('minimum energy transfer is 0.2 GeV')\n",
    "            return 0\n",
    "    if nu_max:\n",
    "        nu_max = E - M / 2\n",
    "        if E - E_ > nu_max:\n",
    "            print('maximum energy transfer is (E - mass_nucleon/2)={}, but here: ', E - E_)\n",
    "            return 0\n",
    "    m_0=np.sqrt(0.4)\n",
    "    p = rnd_state.uniform(0, 1)\n",
    "    # nu = epsilon\n",
    "    epsilon = E - E_\n",
    "    y = epsilon / E\n",
    "    t_max = 2 * M * epsilon\n",
    "    t_min = (mu * y)**2 / (1 - y)\n",
    "    t_1 = np.minimum(epsilon**2, m_0**2)\n",
    "    t_p = (t_max * t_1) / ((t_max + t_1) * ((t_max * (t_min + t_1))\\\n",
    "                    / (t_min * (t_max + t_1)))**p - t_max)\n",
    "    sin2 = (t_p - t_min) / (4 * (E * E_ - mu**2) - 2 * t_min)\n",
    "    theta_mu = 2 * np.arcsin(np.sqrt(sin2))\n",
    "    \n",
    "    if is_degree:\n",
    "        return np.rad2deg(theta_mu)\n",
    "    else:\n",
    "        return theta_mu\n",
    "    \n",
    "def get_new_psi_nuclint_ginneken(E, E_, rnd_state, m=0.1057, is_degree=True):\n",
    "    nu = (E - E_) / (E - m)\n",
    "    rms_theta = (0.39 / (E * (1 - nu))) * (np.sqrt(E) * nu * (1 - nu))**0.17 * (1 - 0.135/(E * nu))\n",
    "    theta_mu = np.sqrt(rnd_state.exponential(rms_theta**2))\n",
    "    if is_degree:\n",
    "        return np.rad2deg(theta_mu)\n",
    "    else: return theta_mu  \n",
    "    \n",
    "# -------- epair ------------\n",
    "def get_new_psi_pairprod_exp(E, E_, rnd_state, is_degree=True):\n",
    "    n = -1\n",
    "    a = 8.9e-4\n",
    "    b = 1.5e-5\n",
    "    c = 0.032\n",
    "    d = 1\n",
    "    e = 0.1\n",
    "    m = 105.7 / 1e3 # in GeV\n",
    "    m_e =   0.5110 / 1e3 # in GeV\n",
    "    nu = (E - E_) / (E - m)\n",
    "    minimum = np.min([a * nu**(1/4) * (1 + b*E) + c * nu / (nu + d), e])\n",
    "    rms_theta = (2.3 + np.log(E)) * (1- nu)**n / E * (nu - 2 * m_e/E)**2 / nu**2 * minimum\n",
    "    # theta = abs(rnd_state.normal(0, rms_theta/np.sqrt(2), 1)[0])\n",
    "    # theta = rnd_state.normal(rms_theta**2, rms_theta, 1)[0]\n",
    "    theta_muon = np.sqrt(rnd_state.exponential(rms_theta**2))\n",
    "    # theta_real = abs(theta - rms_theta**2)\n",
    "    if is_degree:\n",
    "        return np.rad2deg(theta_muon)\n",
    "    else:\n",
    "        return theta_muon\n",
    "    \n",
    "    \n",
    "# --------- ioniz ----------\n",
    "def get_new_psi_deltaE_NEW(E_mu, E_mu_prime, m_e=0.000511, m_mu=0.105658, is_degree=True):\n",
    "    # m_e = 0.511\n",
    "    # m_mu = 105.658\n",
    "    assert E_mu > m_mu, 'incoming energy lower than muon mass'\n",
    "    \n",
    "    gamma = E_mu / m_mu\n",
    "    epsilon_max = 2 * m_e * (gamma**2 - 1) / (1 + 2*gamma*m_e/m_mu + (m_e/m_mu)**2) \n",
    "    assert E_mu_prime > E_mu - epsilon_max\n",
    "    \n",
    "    p_mu = np.sqrt((E_mu + m_mu) * (E_mu - m_mu))\n",
    "    p_mu_prime = np.sqrt((E_mu_prime + m_mu) * (E_mu_prime - m_mu))\n",
    "    \n",
    "    cos_theta = ((E_mu + m_e) * E_mu_prime - E_mu*m_e - m_mu**2) / (p_mu * p_mu_prime)\n",
    "    theta_mu = np.arccos(cos_theta)\n",
    "    if is_degree:\n",
    "        return np.rad2deg(theta_mu)\n",
    "    else:\n",
    "        return theta_mu"
   ]
  },
  {
   "cell_type": "code",
   "execution_count": 6,
   "id": "b0512f72",
   "metadata": {},
   "outputs": [],
   "source": [
    "rnd_state = np.random.RandomState(1)"
   ]
  },
  {
   "cell_type": "markdown",
   "id": "1a73ffb0",
   "metadata": {},
   "source": [
    "# Check default tracks"
   ]
  },
  {
   "cell_type": "code",
   "execution_count": 7,
   "id": "1464a9fb",
   "metadata": {},
   "outputs": [
    {
     "name": "stdout",
     "output_type": "stream",
     "text": [
      "Costum deflection\n",
      "multiple scattering and stochastic deflection\n"
     ]
    },
    {
     "name": "stderr",
     "output_type": "stream",
     "text": [
      "100%|███████████████████████████████████████████████████████████████████████████████████████████████████████████████████████████████████████████████████████████████████| 100/100 [00:04<00:00, 21.06it/s]\n",
      "100%|███████████████████████████████████████████████████████████████████████████████████████████████████████████████████████████████████████████████████████████████████| 100/100 [00:03<00:00, 29.44it/s]\n"
     ]
    }
   ],
   "source": [
    "### run data\n",
    "param_name = 'default'\n",
    "deflection = ['tsaiapproximationbremsstrahlung', \n",
    "              'naivionization',\n",
    "              'borogpetrukhinnuclearinteraction',\n",
    "              'kelnerpairproduction']\n",
    "\n",
    "tracks_default = propagate_deflected_muons_custom(E_i_final, E_f_final, deflection=deflection, table_path=table_path)\n",
    "\n",
    "deflection_default = [] \n",
    "for track in tqdm(tracks_default):\n",
    "    d = get_angle_deviation(track.track_directions()[0].spherical_coordinates[1], \n",
    "                            track.track_directions()[0].spherical_coordinates[2], \n",
    "                            track.track_directions()[-1].spherical_coordinates[1], \n",
    "                            track.track_directions()[-1].spherical_coordinates[2])\n",
    "    deflection_default.append(np.rad2deg(d))"
   ]
  },
  {
   "cell_type": "code",
   "execution_count": 8,
   "id": "6feaea02",
   "metadata": {},
   "outputs": [
    {
     "name": "stderr",
     "output_type": "stream",
     "text": [
      "100%|███████████████████████████████████████████████████████████████████████████████████████████████████████████████████████████████████████████████████████████████████| 100/100 [01:13<00:00,  1.36it/s]\n"
     ]
    }
   ],
   "source": [
    "### check default tracks\n",
    "stoch_loss = []\n",
    "cont_loss = []\n",
    "stoch_defl = []\n",
    "cont_defl = []\n",
    "brems_loss = []\n",
    "brems_e = []\n",
    "brems_defl = []\n",
    "epair_loss = []\n",
    "epair_e = []\n",
    "epair_defl = []\n",
    "nuclint_loss = []\n",
    "nuclint_e = []\n",
    "nuclint_defl = []\n",
    "ioniz_loss = []\n",
    "ioniz_e = []\n",
    "ioniz_defl = []\n",
    "for track in tqdm(tracks_default): # [:1]): ### choose only first track\n",
    "    e_last = track.track_energies()[0]\n",
    "    theta_last = track.track_directions()[0].spherical_coordinates[2]\n",
    "    phi_last = track.track_directions()[0].spherical_coordinates[1]\n",
    "    for typ, e, direction in zip(track.track_types()[1:], track.track_energies()[1:], track.track_directions()[1:]):\n",
    "        e_lost = (e_last - e) / 1e3\n",
    "        e_last /= 1e3\n",
    "        defl_angle = get_angle_deviation(phi_last, theta_last, direction.spherical_coordinates[1], direction.spherical_coordinates[2])\n",
    "        if str(typ) in ['Interaction_Type.epair',\\\n",
    "                            'Interaction_Type.brems',\\\n",
    "                            'Interaction_Type.photonuclear',\\\n",
    "                            'Interaction_Type.ioniz']:\n",
    "            stoch_loss.append(e_lost)\n",
    "            stoch_defl.append(defl_angle)\n",
    "            if str(typ) == 'Interaction_Type.brems':\n",
    "                brems_loss.append(e_lost)\n",
    "                brems_e.append(e_last) #### MUST BE CHECKED FIRST!!\n",
    "                brems_defl.append(defl_angle)\n",
    "            if str(typ) == 'Interaction_Type.epair':\n",
    "                epair_loss.append(e_lost)\n",
    "                epair_e.append(e_last) #### MUST BE CHECKED FIRST!!\n",
    "                epair_defl.append(defl_angle)\n",
    "            if str(typ) == 'Interaction_Type.photonuclear':\n",
    "                nuclint_loss.append(e_lost)\n",
    "                nuclint_e.append(e_last) #### MUST BE CHECKED FIRST!!\n",
    "                nuclint_defl.append(defl_angle)\n",
    "            if str(typ) == 'Interaction_Type.ioniz':\n",
    "                ioniz_loss.append(e_lost)\n",
    "                ioniz_e.append(e_last) #### MUST BE CHECKED FIRST!!\n",
    "                ioniz_defl.append(defl_angle)\n",
    "        elif str(typ) == 'Interaction_Type.continuousenergyloss': \n",
    "            cont_loss.append(e_lost)\n",
    "            cont_defl.append(defl_angle)\n",
    "        e_last = e\n",
    "        theta_last = direction.spherical_coordinates[2]\n",
    "        phi_last = direction.spherical_coordinates[1]"
   ]
  },
  {
   "cell_type": "markdown",
   "id": "608c19e5",
   "metadata": {},
   "source": [
    "# Check brems nuclint tracks"
   ]
  },
  {
   "cell_type": "code",
   "execution_count": 9,
   "id": "76b47f07",
   "metadata": {},
   "outputs": [
    {
     "name": "stdout",
     "output_type": "stream",
     "text": [
      "Costum deflection\n",
      "multiple scattering and stochastic deflection\n"
     ]
    },
    {
     "name": "stderr",
     "output_type": "stream",
     "text": [
      "100%|███████████████████████████████████████████████████████████████████████████████████████████████████████████████████████████████████████████████████████████████████| 100/100 [00:04<00:00, 21.61it/s]\n",
      "100%|███████████████████████████████████████████████████████████████████████████████████████████████████████████████████████████████████████████████████████████████████| 100/100 [00:03<00:00, 29.76it/s]\n"
     ]
    }
   ],
   "source": [
    "### run data\n",
    "param_name = 'brems_nuclint'\n",
    "deflection = ['tsaiparametrizationbremsstrahlungginneken', \n",
    "              'naivionization',\n",
    "              'bjorkennuclearinteraction',\n",
    "              'kelnerpairproduction']\n",
    "\n",
    "tracks_brems_nuclint = propagate_deflected_muons_custom(E_i_final, E_f_final, deflection=deflection, table_path=table_path)\n",
    "\n",
    "deflection_brems_nuclint = [] \n",
    "for track in tqdm(tracks_brems_nuclint):\n",
    "    d = get_angle_deviation(track.track_directions()[0].spherical_coordinates[1], track.track_directions()[0].spherical_coordinates[2], track.track_directions()[-1].spherical_coordinates[1], track.track_directions()[-1].spherical_coordinates[2])\n",
    "    deflection_brems_nuclint.append(np.rad2deg(d))"
   ]
  },
  {
   "cell_type": "code",
   "execution_count": 10,
   "id": "07e4209e",
   "metadata": {},
   "outputs": [
    {
     "name": "stderr",
     "output_type": "stream",
     "text": [
      "100%|███████████████████████████████████████████████████████████████████████████████████████████████████████████████████████████████████████████████████████████████████| 100/100 [01:10<00:00,  1.42it/s]\n"
     ]
    }
   ],
   "source": [
    "### check brems nuclint tracks\n",
    "stoch_loss_vG = []\n",
    "cont_loss_vG = []\n",
    "stoch_defl_vG = []\n",
    "cont_defl_vG = []\n",
    "brems_loss_vG = []\n",
    "brems_e_vG = []\n",
    "brems_defl_vG = []\n",
    "epair_loss_vG = []\n",
    "epair_e_vG = []\n",
    "epair_defl_vG = []\n",
    "nuclint_loss_vG = []\n",
    "nuclint_e_vG = []\n",
    "nuclint_defl_vG = []\n",
    "ioniz_loss_vG = [] \n",
    "ioniz_e_vG = [] \n",
    "ioniz_defl_vG = []\n",
    "for track in tqdm(tracks_brems_nuclint): # [:1]): ### choose only first track\n",
    "    e_last = track.track_energies()[0]\n",
    "    theta_last = track.track_directions()[0].spherical_coordinates[2]\n",
    "    phi_last = track.track_directions()[0].spherical_coordinates[1]\n",
    "    for typ, e, direction in zip(track.track_types()[1:], track.track_energies()[1:], track.track_directions()[1:]):\n",
    "        e_lost = (e_last - e) / 1e3\n",
    "        e_last /= 1e3\n",
    "        defl_angle = get_angle_deviation(phi_last, theta_last, direction.spherical_coordinates[1], direction.spherical_coordinates[2])\n",
    "        if str(typ) in ['Interaction_Type.epair',\\\n",
    "                            'Interaction_Type.brems',\\\n",
    "                            'Interaction_Type.photonuclear',\\\n",
    "                            'Interaction_Type.ioniz']:\n",
    "            stoch_loss_vG.append(e_lost)\n",
    "            stoch_defl_vG.append(defl_angle)\n",
    "            if str(typ) == 'Interaction_Type.brems':\n",
    "                brems_loss_vG.append(e_lost)\n",
    "                brems_e_vG.append(e_last) #### MUST BE CHECKED FIRST!!\n",
    "                brems_defl_vG.append(defl_angle)\n",
    "            if str(typ) == 'Interaction_Type.epair':\n",
    "                epair_loss_vG.append(e_lost)\n",
    "                epair_e_vG.append(e_last) #### MUST BE CHECKED FIRST!!\n",
    "                epair_defl_vG.append(defl_angle)\n",
    "            if str(typ) == 'Interaction_Type.photonuclear':\n",
    "                nuclint_loss_vG.append(e_lost)\n",
    "                nuclint_e_vG.append(e_last) #### MUST BE CHECKED FIRST!!\n",
    "                nuclint_defl_vG.append(defl_angle)\n",
    "            if str(typ) == 'Interaction_Type.ioniz':\n",
    "                ioniz_loss_vG.append(e_lost)\n",
    "                ioniz_e_vG.append(e_last) #### MUST BE CHECKED FIRST!!\n",
    "                ioniz_defl_vG.append(defl_angle)\n",
    "        elif str(typ) == 'Interaction_Type.continuousenergyloss': \n",
    "            cont_loss_vG.append(e_lost)\n",
    "            cont_defl_vG.append(defl_angle)\n",
    "        e_last = e\n",
    "        theta_last = direction.spherical_coordinates[2]\n",
    "        phi_last = direction.spherical_coordinates[1]"
   ]
  },
  {
   "cell_type": "markdown",
   "id": "ffea1fa0",
   "metadata": {},
   "source": [
    "# Sample deflections"
   ]
  },
  {
   "cell_type": "code",
   "execution_count": 11,
   "id": "1c03082e",
   "metadata": {},
   "outputs": [],
   "source": [
    "### brems\n",
    "brems_defl_default_ex = []\n",
    "brems_defl_vG_ex = []\n",
    "brems_defl_vG_ex_Z8 = []\n",
    "brems_defl_vG_ex_Z82 = []\n",
    "for e, e_loss in zip(brems_e, brems_loss):\n",
    "    brems_defl_default_ex.append(get_new_psi_brems(e, e-e_loss, rnd_state, is_degree=False))\n",
    "    brems_defl_vG_ex.append(get_brems_theta_vG(e, e-e_loss, rnd_state, is_degree=False))\n",
    "    brems_defl_vG_ex_Z8.append(get_brems_theta_vG(e, e-e_loss, rnd_state, Z=8, is_degree=False))\n",
    "    brems_defl_vG_ex_Z82.append(get_brems_theta_vG(e, e-e_loss, rnd_state, Z=82, is_degree=False))\n",
    "\n",
    "### epair    \n",
    "epair_defl_default_ex = []\n",
    "for e, e_loss in zip(epair_e, epair_loss):\n",
    "    epair_defl_default_ex.append(get_new_psi_pairprod_exp(e, e-e_loss, rnd_state, is_degree=False))\n",
    "\n",
    "### nuclint    \n",
    "nuclint_defl_default_ex = []\n",
    "nuclint_defl_vG_ex = []\n",
    "for e, e_loss in zip(nuclint_e, nuclint_loss):\n",
    "    nuclint_defl_default_ex.append(get_new_psi_nuclint(e, e-e_loss, rnd_state, is_degree=False))\n",
    "    nuclint_defl_vG_ex.append(get_new_psi_nuclint_ginneken(e, e-e_loss, rnd_state, is_degree=False))\n",
    "    \n",
    "### ioniz    \n",
    "ioniz_defl_default_ex = []\n",
    "for e, e_loss in zip(ioniz_e, ioniz_loss):\n",
    "    ioniz_defl_default_ex.append(get_new_psi_deltaE_NEW(e, e-e_loss, is_degree=False))"
   ]
  },
  {
   "cell_type": "markdown",
   "id": "98876a01",
   "metadata": {},
   "source": [
    "## Plot default tracks"
   ]
  },
  {
   "cell_type": "code",
   "execution_count": 12,
   "id": "45e46145",
   "metadata": {},
   "outputs": [
    {
     "name": "stdout",
     "output_type": "stream",
     "text": [
      "ratio of zeros:  0.23227257280006797\n",
      "ratio of zeros (extern):  7.168496845861388e-05\n"
     ]
    },
    {
     "data": {
      "image/png": "[encoded data removed]",
      "text/plain": [
       "<Figure size 432x288 with 1 Axes>"
      ]
     },
     "metadata": {
      "needs_background": "light"
     },
     "output_type": "display_data"
    }
   ],
   "source": [
    "bins = np.logspace(-15, 2, 100)\n",
    "\n",
    "plt.hist(np.rad2deg(brems_defl_default_ex), bins=bins, histtype='step', color=colors['brems'], label='brems default')\n",
    "plt.hist(np.rad2deg(nuclint_defl_default_ex), bins=bins, histtype='step', color=colors['nuclint'], label='nuclint default')\n",
    "plt.hist(np.rad2deg(epair_defl_default_ex), bins=bins, histtype='step', color=colors['epair'], label='epair')\n",
    "plt.hist(np.rad2deg(ioniz_defl_default_ex), bins=bins, histtype='step', color=colors['ioniz'], label='ioniz')\n",
    "\n",
    "total_defl_default = list(flatten([brems_defl_default_ex, nuclint_defl_default_ex, epair_defl_default_ex, ioniz_defl_default_ex]))\n",
    "plt.hist(np.rad2deg(total_defl_default), bins=bins, histtype='step', color='black', label='total')\n",
    "\n",
    "\n",
    "plt.xscale('log')\n",
    "plt.yscale('log')\n",
    "plt.xlabel('deflection in deg')\n",
    "plt.ylabel('counts')\n",
    "plt.legend(loc='upper left')\n",
    "plt.tight_layout()\n",
    "if save_plot:\n",
    "    plt.savefig(plot_dir + '{}_{}_{}events_default.pdf'.format(energy_name(E_i), energy_name(E_f), n_events))\n",
    "\n",
    "# ratio of zeros\n",
    "print('ratio of zeros: ', np.sum(np.array(stoch_defl)==0)/len(stoch_defl)) # angle calculated in propagation\n",
    "print('ratio of zeros (extern): ', np.sum(np.array(total_defl_default)==0)/len(total_defl_default))"
   ]
  },
  {
   "cell_type": "markdown",
   "id": "2765bfa1",
   "metadata": {},
   "source": [
    "## Plots brems nuclint tracks"
   ]
  },
  {
   "cell_type": "code",
   "execution_count": 13,
   "id": "6fdbc6ce",
   "metadata": {},
   "outputs": [
    {
     "name": "stdout",
     "output_type": "stream",
     "text": [
      "ratio of zeros:  0.22562976572290308\n",
      "ratio of zeros (extern):  7.168496845861388e-05\n"
     ]
    },
    {
     "data": {
      "image/png": "[encoded data removed]",
      "text/plain": [
       "<Figure size 432x288 with 1 Axes>"
      ]
     },
     "metadata": {
      "needs_background": "light"
     },
     "output_type": "display_data"
    }
   ],
   "source": [
    "bins = np.logspace(-15, 2, 100)\n",
    "\n",
    "plt.hist(np.rad2deg(brems_defl_vG_ex), bins=bins, histtype='step', color=colors['brems'], label='brems vG')\n",
    "plt.hist(np.rad2deg(nuclint_defl_vG_ex), bins=bins, histtype='step', color=colors['nuclint'], label='nuclint vG')\n",
    "plt.hist(np.rad2deg(epair_defl_default_ex), bins=bins, histtype='step', color=colors['epair'], label='epair')\n",
    "plt.hist(np.rad2deg(ioniz_defl_default_ex), bins=bins, histtype='step', color=colors['ioniz'], label='ioniz')\n",
    "\n",
    "total_defl_vG = list(flatten([brems_defl_vG_ex, nuclint_defl_vG_ex, epair_defl_default_ex, ioniz_defl_default_ex]))\n",
    "plt.hist(np.rad2deg(total_defl_vG), bins=bins, histtype='step', color='black', label='total')\n",
    "\n",
    "plt.xscale('log')\n",
    "plt.yscale('log')\n",
    "plt.xlabel('deflection in deg')\n",
    "plt.ylabel('counts')\n",
    "plt.legend(loc='upper left')\n",
    "plt.tight_layout()\n",
    "if save_plot:\n",
    "    plt.savefig(plot_dir + '{}_{}_{}events_vG.pdf'.format(energy_name(E_i), energy_name(E_f), n_events))\n",
    "\n",
    "# ratio of zeros\n",
    "print('ratio of zeros: ', np.sum(np.array(stoch_defl_vG)==0)/len(stoch_defl_vG)) # angle calculated in propagation\n",
    "print('ratio of zeros (extern): ', np.sum(np.array(total_defl_vG)==0)/len(total_defl_vG))"
   ]
  },
  {
   "cell_type": "markdown",
   "id": "e57ccba2",
   "metadata": {},
   "source": [
    "# Comparison"
   ]
  },
  {
   "cell_type": "markdown",
   "id": "4b28440a",
   "metadata": {},
   "source": [
    "## brems"
   ]
  },
  {
   "cell_type": "code",
   "execution_count": 14,
   "id": "b7717106",
   "metadata": {},
   "outputs": [
    {
     "name": "stdout",
     "output_type": "stream",
     "text": [
      "1210.0\n",
      "2683.0\n",
      "2711.0\n",
      "2711.0\n"
     ]
    },
    {
     "data": {
      "image/png": "[encoded data removed]",
      "text/plain": [
       "<Figure size 432x288 with 1 Axes>"
      ]
     },
     "metadata": {
      "needs_background": "light"
     },
     "output_type": "display_data"
    }
   ],
   "source": [
    "bins = np.logspace(-15, 2, 100)\n",
    "\n",
    "n_0 = plt.hist(brems_defl, bins=bins, histtype='step', label='brems default proposal')\n",
    "n_00 = plt.hist(brems_defl_vG, bins=bins, histtype='step', label='brems vG proposal')\n",
    "\n",
    "n_1 = plt.hist(brems_defl_default_ex, bins=bins, histtype='step', label='brems default python')\n",
    "n_2 = plt.hist(brems_defl_vG_ex, bins=bins, histtype='step', label='brems vG python')\n",
    "\n",
    "plt.xscale('log')\n",
    "plt.yscale('log')\n",
    "plt.xlabel('deflection in rad')\n",
    "plt.legend(loc='best')\n",
    "plt.tight_layout()\n",
    "if save_plot:\n",
    "    plt.savefig(plot_dir + '{}_{}_{}events_compare_brems.pdf'.format(energy_name(E_i), energy_name(E_f), n_events))\n",
    "print(np.sum(n_0[0]))\n",
    "print(np.sum(n_00[0]))\n",
    "print(np.sum(n_1[0]))\n",
    "print(np.sum(n_2[0]))"
   ]
  },
  {
   "cell_type": "markdown",
   "id": "e3a9d656",
   "metadata": {},
   "source": [
    "## epair "
   ]
  },
  {
   "cell_type": "code",
   "execution_count": 15,
   "id": "18a1fc78",
   "metadata": {},
   "outputs": [
    {
     "name": "stdout",
     "output_type": "stream",
     "text": [
      "255175.0\n",
      "340123.0\n"
     ]
    },
    {
     "data": {
      "image/png": "[encoded data removed]",
      "text/plain": [
       "<Figure size 432x288 with 1 Axes>"
      ]
     },
     "metadata": {
      "needs_background": "light"
     },
     "output_type": "display_data"
    }
   ],
   "source": [
    "bins = np.logspace(-15, 2, 100)\n",
    "\n",
    "n_0 = plt.hist(epair_defl, bins=bins, histtype='step', label='epair default proposal')\n",
    "# n_00 = plt.hist(epair_defl_vG, bins=bins, histtype='step', label='epair vG proposal')\n",
    "\n",
    "n_1 = plt.hist(epair_defl_default_ex, bins=bins, histtype='step', label='epair default python')\n",
    "\n",
    "\n",
    "plt.xscale('log')\n",
    "plt.yscale('log')\n",
    "plt.xlabel('deflection in rad')\n",
    "plt.legend(loc='best')\n",
    "plt.tight_layout\n",
    "if save_plot:\n",
    "    plt.savefig(plot_dir + '{}_{}_{}events_compare_epair.pdf'.format(energy_name(E_i), energy_name(E_f), n_events))\n",
    "print(np.sum(n_0[0]))\n",
    "# print(np.sum(n_00[0]))\n",
    "print(np.sum(n_1[0]))"
   ]
  },
  {
   "cell_type": "markdown",
   "id": "e998a49b",
   "metadata": {},
   "source": [
    "## nuclint"
   ]
  },
  {
   "cell_type": "code",
   "execution_count": 16,
   "id": "5350e87f",
   "metadata": {},
   "outputs": [
    {
     "name": "stdout",
     "output_type": "stream",
     "text": [
      "2554.0\n",
      "3583.0\n",
      "3585.0\n",
      "3585.0\n"
     ]
    },
    {
     "data": {
      "image/png": "[encoded data removed]",
      "text/plain": [
       "<Figure size 432x288 with 1 Axes>"
      ]
     },
     "metadata": {
      "needs_background": "light"
     },
     "output_type": "display_data"
    }
   ],
   "source": [
    "bins = np.logspace(-15, 2, 100)\n",
    "\n",
    "n_0 = plt.hist(nuclint_defl, bins=bins, histtype='step', label='nuclint default proposal')\n",
    "n_00 = plt.hist(nuclint_defl_vG, bins=bins, histtype='step', label='nuclint vG proposal')\n",
    "\n",
    "\n",
    "n_1 = plt.hist(nuclint_defl_default_ex, bins=bins, histtype='step', label='nuclint default python')\n",
    "n_2 = plt.hist(nuclint_defl_vG_ex, bins=bins, histtype='step', label='nuclint vG python')\n",
    "\n",
    "plt.xscale('log')\n",
    "plt.yscale('log')\n",
    "plt.xlabel('deflection in rad')\n",
    "plt.legend(loc='upper left')\n",
    "plt.tight_layout()\n",
    "if save_plot:\n",
    "    plt.savefig(plot_dir + '{}_{}_{}events_compare_nuclint.pdf'.format(energy_name(E_i), energy_name(E_f), n_events))\n",
    "print(np.sum(n_0[0]))\n",
    "print(np.sum(n_00[0]))\n",
    "print(np.sum(n_1[0]))\n",
    "print(np.sum(n_2[0]))"
   ]
  },
  {
   "cell_type": "markdown",
   "id": "cfa711ef",
   "metadata": {},
   "source": [
    "## ioniz"
   ]
  },
  {
   "cell_type": "code",
   "execution_count": 17,
   "id": "2a5cac9f",
   "metadata": {},
   "outputs": [
    {
     "name": "stdout",
     "output_type": "stream",
     "text": [
      "30224.0\n",
      "30202.0\n"
     ]
    },
    {
     "data": {
      "image/png": "[encoded data removed]",
      "text/plain": [
       "<Figure size 432x288 with 1 Axes>"
      ]
     },
     "metadata": {
      "needs_background": "light"
     },
     "output_type": "display_data"
    }
   ],
   "source": [
    "bins = np.logspace(-15, 2, 100)\n",
    "\n",
    "n_0 = plt.hist(ioniz_defl, bins=bins, histtype='step', label='ioniz default proposal')\n",
    "# n_00 = plt.hist(ioniz_defl_vG, bins=bins, histtype='step', label='ioniz vG proposal')\n",
    "\n",
    "n_1 = plt.hist(ioniz_defl_default_ex, bins=bins, histtype='step', label='ioniz default python')\n",
    "\n",
    "\n",
    "plt.xscale('log')\n",
    "plt.yscale('log')\n",
    "plt.xlabel('deflection in rad')\n",
    "plt.legend(loc='upper left')\n",
    "plt.tight_layout()\n",
    "if save_plot:\n",
    "    plt.savefig(plot_dir + '{}_{}_{}events_compare_ioniz.pdf'.format(energy_name(E_i), energy_name(E_f), n_events))\n",
    "print(np.sum(n_0[0]))\n",
    "# print(np.sum(n_00[0]))\n",
    "print(np.sum(n_1[0]))"
   ]
  },
  {
   "cell_type": "markdown",
   "id": "14edc27f-b1e1-48ad-bed0-158169e0c709",
   "metadata": {},
   "source": [
    "# Check brems vG different Z"
   ]
  },
  {
   "cell_type": "code",
   "execution_count": 18,
   "id": "bba54ed8-af80-49b9-9fae-af750f20b75d",
   "metadata": {},
   "outputs": [
    {
     "data": {
      "image/png": "[encoded data removed]",
      "text/plain": [
       "<Figure size 432x288 with 1 Axes>"
      ]
     },
     "metadata": {
      "needs_background": "light"
     },
     "output_type": "display_data"
    }
   ],
   "source": [
    "bins = np.logspace(-15, 2, 100)\n",
    "\n",
    "plt.hist(brems_defl_vG, bins=bins, histtype='step', label='brems vG Ice proposal')\n",
    "plt.hist(brems_defl_vG_ex, bins=bins, histtype='step', label='brems vG Z=1 python')\n",
    "plt.hist(brems_defl_vG_ex_Z8, bins=bins, histtype='step', label='brems vG Z=8 python')\n",
    "plt.hist(brems_defl_vG_ex_Z82, bins=bins, histtype='step', label='brems vG Z=82 python')\n",
    "\n",
    "plt.xscale('log')\n",
    "plt.yscale('log')\n",
    "plt.xlabel('deflection in rad')\n",
    "plt.legend(loc='lower left')\n",
    "plt.tight_layout()\n",
    "if save_plot:\n",
    "    plt.savefig(plot_dir + '{}_{}_{}events_compare_brems_differentZ.pdf'.format(energy_name(E_i), energy_name(E_f), n_events))"
   ]
  },
  {
   "cell_type": "code",
   "execution_count": null,
   "id": "df562d15-6fd3-43c5-ad71-cce964aa4354",
   "metadata": {},
   "outputs": [],
   "source": []
  }
 ],
 "metadata": {
  "kernelspec": {
   "display_name": "Python 3",
   "language": "python",
   "name": "python3"
  },
  "language_info": {
   "codemirror_mode": {
    "name": "ipython",
    "version": 3
   },
   "file_extension": ".py",
   "mimetype": "text/x-python",
   "name": "python",
   "nbconvert_exporter": "python",
   "pygments_lexer": "ipython3",
   "version": "3.6.8"
  }
 },
 "nbformat": 4,
 "nbformat_minor": 5
}
