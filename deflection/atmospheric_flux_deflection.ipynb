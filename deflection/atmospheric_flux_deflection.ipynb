{
 "cells": [
  {
   "cell_type": "code",
   "execution_count": 1,
   "id": "f39e00b3-48e4-4748-9d91-472cf189946e",
   "metadata": {},
   "outputs": [],
   "source": [
    "import proposal as pp\n",
    "import numpy as np\n",
    "from tqdm import tqdm\n",
    "import matplotlib as mpl\n",
    "import matplotlib.pyplot as plt\n",
    "import pandas as pd\n",
    "from helper_functions_multi import get_angle_deviation\n",
    "import os\n",
    "from crflux.models import H3a_polygonato\n",
    "import crflux.models as crf\n",
    "from MCEq.core import MCEqRun"
   ]
  },
  {
   "cell_type": "code",
   "execution_count": 2,
   "id": "a1465842-2302-4619-8f01-26ae1fd55696",
   "metadata": {},
   "outputs": [],
   "source": [
    "data_dir = 'data/atmospheric_flux_deflection/'\n",
    "os.system('mkdir -p {}'.format(data_dir))\n",
    "\n",
    "plot_dir = 'plots/atmospheric_flux_deflection/'\n",
    "os.system('mkdir -p {}'.format(plot_dir))\n",
    "\n",
    "save_plot = True"
   ]
  },
  {
   "cell_type": "code",
   "execution_count": 3,
   "id": "c5ae8e8c-999b-4315-9f1b-ef19cec7c3d6",
   "metadata": {},
   "outputs": [
    {
     "data": {
      "text/plain": [
       "<matplotlib.legend.Legend at 0x7f18feb68b38>"
      ]
     },
     "execution_count": 3,
     "metadata": {},
     "output_type": "execute_result"
    },
    {
     "data": {
      "image/png": "[encoded data removed]",
      "text/plain": [
       "<Figure size 432x288 with 1 Axes>"
      ]
     },
     "metadata": {
      "needs_background": "light"
     },
     "output_type": "display_data"
    }
   ],
   "source": [
    "# Gaisser 1990\n",
    "\n",
    "def muon_flux_gaisser(E_sea, E_top=None, theta=0):\n",
    "    '''\n",
    "        Parameters\n",
    "        ----------\n",
    "        E_sea: muon energy at sea level\n",
    "        E_top: muon energy at the top of the atmosphere\n",
    "        theta: muon zenith angle\n",
    "        A_G: scale factory\n",
    "    '''\n",
    "    A_G = 0.14\n",
    "    gamma = 2.7\n",
    "    E_top = E_sea # at high energies\n",
    "    epsilon_pi = 115/1.1 # GeV\n",
    "    epsilon_kaon = 810/1.1 # GeV\n",
    "    B_G = 0.054\n",
    "    return A_G * E_sea**(-gamma) * ((1/(1 + E_top * np.cos(theta)/epsilon_pi)) + (B_G / (1 + E_top * np.cos(theta)/epsilon_kaon)))\n",
    "\n",
    "\n",
    "# TIG model\n",
    "def TIG(energies):\n",
    "    E_list = []\n",
    "    for E in energies:\n",
    "        if E < 5e6:\n",
    "            E_list.append(1.7e4 * E**(-2.7))\n",
    "        elif E >= 5e6:\n",
    "            E_list.append(174e4 * E**(-3))\n",
    "    return np.array(E_list)\n",
    "\n",
    "# https://arxiv.org/pdf/1907.00640.pdf\n",
    "def muon_flux_icecube(E_mu):\n",
    "    '''\n",
    "        Parameters\n",
    "        ----------\n",
    "        E_mu: muon energy in GeV\n",
    "    '''\n",
    "    gamma = 3.74\n",
    "    return 9e-17 * (E_mu / 50e3)**(-gamma)\n",
    "\n",
    "    \n",
    "energies = np.logspace(1, 10, 10)\n",
    "plt.plot(energies, muon_flux_gaisser(energies) * energies**3, label='Gaisser')\n",
    "plt.plot(energies, TIG(energies) * 1e-4 * energies**3, label='TIG')\n",
    "plt.plot(energies, H3a_polygonato().total_flux(energies) * 1e-4 * energies**3, label='H3a crflux')\n",
    "energies = np.logspace(4, 6, 10)\n",
    "plt.plot(energies, muon_flux_icecube(energies) * energies**3, label='IceCube fit')\n",
    "plt.yscale('log')\n",
    "plt.xscale('log')\n",
    "plt.xlabel('muon energy at sea level in GeV')\n",
    "plt.ylabel(r'$E^3 \\times$ muon flux per cm^2 s sr GeV')\n",
    "plt.legend()"
   ]
  },
  {
   "cell_type": "code",
   "execution_count": 55,
   "id": "a27924b5-86a6-42ce-80bf-1c1190c0d34f",
   "metadata": {},
   "outputs": [
    {
     "name": "stdout",
     "output_type": "stream",
     "text": [
      "MCEqRun::set_interaction_model(): SIBYLL23C\n",
      "ParticleManager::_init_default_tracking(): Initializing default tracking categories (pi, K, mu)\n",
      "MCEqRun::set_density_model(): Setting density profile to CORSIKA ('BK_USStd', None)\n",
      "MCEqRun::set_primary_model(): HillasGaisser2012 H3a\n"
     ]
    }
   ],
   "source": [
    "mceq_90 = MCEqRun(interaction_model='SIBYLL23C', primary_model=(crf.HillasGaisser2012, 'H3a'), theta_deg=90.)"
   ]
  },
  {
   "cell_type": "code",
   "execution_count": 56,
   "id": "f3f48f43-de9d-4fea-af72-e01104a3bc49",
   "metadata": {},
   "outputs": [],
   "source": [
    "# h_grid = np.linspace(50 * 1e3 * 1e2, 0) # altitudes from 50km to 0cm\n",
    "# X_grid = mceq.density_model.h2X(h_grid)\n",
    "# mceq.solve(int_grid=X_grid)\n",
    "mceq_90.solve()"
   ]
  },
  {
   "cell_type": "code",
   "execution_count": 6,
   "id": "674ce304-55c6-47f5-b261-1e0f4c143720",
   "metadata": {},
   "outputs": [
    {
     "name": "stdout",
     "output_type": "stream",
     "text": [
      "MCEqRun::set_interaction_model(): SIBYLL23C\n",
      "ParticleManager::_init_default_tracking(): Initializing default tracking categories (pi, K, mu)\n",
      "MCEqRun::set_density_model(): Setting density profile to CORSIKA ('BK_USStd', None)\n",
      "MCEqRun::set_primary_model(): HillasGaisser2012 H3a\n"
     ]
    }
   ],
   "source": [
    "mceq_0 = MCEqRun(interaction_model='SIBYLL23C', primary_model=(crf.HillasGaisser2012, 'H3a'), theta_deg=0.)\n",
    "mceq_0.solve()"
   ]
  },
  {
   "cell_type": "code",
   "execution_count": 53,
   "id": "e94eebd0-7e4b-4e09-9a1f-0ce78adb2d48",
   "metadata": {},
   "outputs": [
    {
     "name": "stdout",
     "output_type": "stream",
     "text": [
      "MCEqRun::set_interaction_model(): SIBYLL23C\n",
      "ParticleManager::_init_default_tracking(): Initializing default tracking categories (pi, K, mu)\n",
      "MCEqRun::set_density_model(): Setting density profile to CORSIKA ('BK_USStd', None)\n",
      "MCEqRun::set_primary_model(): HillasGaisser2012 H3a\n"
     ]
    }
   ],
   "source": [
    "mceq_60 = MCEqRun(interaction_model='SIBYLL23C', primary_model=(crf.HillasGaisser2012, 'H3a'), theta_deg=60.)\n",
    "mceq_60.solve()"
   ]
  },
  {
   "cell_type": "code",
   "execution_count": 42,
   "id": "6ef88419-b5a8-4092-acc9-a01d77e6a2d4",
   "metadata": {},
   "outputs": [],
   "source": [
    "e_bin_mids = np.array([])\n",
    "for i in range(len(mceq.e_bins))[:-1]:\n",
    "    e_bin_mids = np.append(e_bin_mids, mceq.e_bins[i] + (mceq.e_bins[i+1] - mceq.e_bins[i])/2)"
   ]
  },
  {
   "cell_type": "code",
   "execution_count": 57,
   "id": "883e83a5-9f45-419c-9f50-0b24e7595fd4",
   "metadata": {},
   "outputs": [
    {
     "data": {
      "text/plain": [
       "Text(0.5, 1.0, 'mu+ and mu-')"
      ]
     },
     "execution_count": 57,
     "metadata": {},
     "output_type": "execute_result"
    },
    {
     "data": {
      "image/png": "[encoded data removed]",
      "text/plain": [
       "<Figure size 432x288 with 1 Axes>"
      ]
     },
     "metadata": {
      "needs_background": "light"
     },
     "output_type": "display_data"
    }
   ],
   "source": [
    "# MCEq\n",
    "plt.plot(e_bin_mids, mceq_90.get_solution('mu-', mag=3) + mceq_90.get_solution('mu+', mag=3), label='MCEq H3a 90°')\n",
    "plt.plot(e_bin_mids, mceq_60.get_solution('mu-', mag=3) + mceq_60.get_solution('mu+', mag=3), label='MCEq H3a 60°')\n",
    "plt.plot(e_bin_mids, mceq_0.get_solution('mu-', mag=3) + mceq_0.get_solution('mu+', mag=3), label='MCEq H3a 0°')\n",
    "# plt.plot(e_bin_mids, (mceq_0.get_solution('mu-') + mceq_0.get_solution('mu+')) * e_bin_mids**3, label='MCEq H3a 0°')\n",
    "\n",
    "# gaisser\n",
    "energies = np.logspace(1, 10, 10)\n",
    "plt.plot(energies, muon_flux_gaisser(energies, theta=0.) * energies**3, label='Gaisser 0°')\n",
    "plt.plot(energies, muon_flux_gaisser(energies, theta=np.deg2rad(60.)) * energies**3, label='Gaisser 60°')\n",
    "# icecube fit\n",
    "energies = np.logspace(4, 6, 10)\n",
    "plt.plot(energies, muon_flux_icecube(energies) * energies**3, label='IceCube fit')\n",
    "plt.xscale('log')\n",
    "plt.yscale('log')\n",
    "plt.xlabel('energy in GeV')\n",
    "plt.ylabel(r'$E^3 \\times \\Phi$ ')\n",
    "plt.xlim(None, 1e9)\n",
    "plt.ylim(1e-8, 1)\n",
    "plt.legend()\n",
    "plt.title('mu+ and mu-')"
   ]
  },
  {
   "cell_type": "code",
   "execution_count": 72,
   "id": "2d26e02c-2f87-44da-9579-506a1da3870e",
   "metadata": {},
   "outputs": [
    {
     "data": {
      "text/plain": [
       "4.1590234864581985"
      ]
     },
     "execution_count": 72,
     "metadata": {},
     "output_type": "execute_result"
    },
    {
     "data": {
      "image/png": "[encoded data removed]",
      "text/plain": [
       "<Figure size 432x288 with 1 Axes>"
      ]
     },
     "metadata": {
      "needs_background": "light"
     },
     "output_type": "display_data"
    }
   ],
   "source": [
    "from sklearn import preprocessing\n",
    "plt.plot(e_bin_mids, mceq_0.get_solution('mu-') + mceq_0.get_solution('mu+'), label='MCEq')\n",
    "plt.plot(e_bin_mids, preprocessing.normalize([mceq_0.get_solution('mu-') + mceq_0.get_solution('mu+')])[0], label='normalized')\n",
    "plt.yscale('log')\n",
    "plt.xscale('log')\n",
    "np.sum(preprocessing.normalize([mceq_0.get_solution('mu-') + mceq_0.get_solution('mu+')])[0])"
   ]
  },
  {
   "cell_type": "code",
   "execution_count": null,
   "id": "fb2d7d20-c8fb-4013-8e17-5ad5520117ba",
   "metadata": {},
   "outputs": [],
   "source": [
    "momentum = 7.3e3 # GeV/c , \n",
    "m = 105.7 # MeV\n",
    "E = np.round(np.sqrt(momentum**2 + m**2))\n",
    "print('energy E = {} MeV'.format(E) )\n",
    "\n",
    "\n",
    "E_i = E # momentum # 1e9 # 1 PeV \n",
    "E_f = 1e1 # 1e5 # 100 GeV\n",
    "n_events = 31125 # total measured events in akimenko\n",
    "    \n",
    "deflection = [\n",
    "    'bremsginneken', # 'bremstsaiapproximation', \n",
    "    'ioniznaive',\n",
    "    'photoginneken', # 'photoborogpetrukhin',\n",
    "    'epairginneken'] ### same as default\n",
    "    \n",
    "e_cut = np.inf # 1e10\n",
    "v_cut = 1e-3 # 1e-5\n",
    "cont_rand = False\n",
    "scattering_method = \"moliere\" # \"highland\"\n",
    "# deflection_type = \"m_scat+stochastic\"\n",
    "  \n",
    "# table_path = \"/Users/pascalgutjahr/.cache/PROPOSAL\" # macbook pro\n",
    "table_path = \"/net/nfshome/home/pgutjahr/.cache/PROPOSAL\" # vollmond\n",
    "    \n",
    "rnd_seed = 33\n",
    "\n",
    "interpol_nodes = 200\n",
    "\n",
    "initial_direction = [0, 0, 1]\n",
    "\n",
    "beta_brems = 1.0\n",
    "beta_ioniz = 1.0\n",
    "beta_epair = 1.0\n",
    "beta_multiplescatter = 1.0\n",
    "beta_photonuclear = 1.0\n",
    "\n",
    "max_dist = 1.44 # in cm"
   ]
  },
  {
   "cell_type": "code",
   "execution_count": null,
   "id": "84ae6592-b8b8-4929-a62c-f7b1665db3fc",
   "metadata": {},
   "outputs": [],
   "source": [
    "pp.InterpolationSettings.tables_path = table_path   # version 7\n",
    "    \n",
    "pp.InterpolationSettings.nodes_dndx_e = interpol_nodes\n",
    "pp.InterpolationSettings.nodes_dndx_v = interpol_nodes\n",
    "\n",
    "pp.RandomGenerator.get().set_seed(rnd_seed)\n",
    "args = {\n",
    "        \"particle_def\": pp.particle.MuMinusDef(),\n",
    "        \"target\": pp.medium.Copper(),\n",
    "        \"interpolate\": True,\n",
    "        \"cuts\": pp.EnergyCutSettings(e_cut, v_cut, cont_rand)\n",
    "        }\n",
    "\n",
    "cross = pp.crosssection.make_std_crosssection(**args)\n",
    "multiple_scatter = pp.make_multiple_scattering(scattering_method, args[\"particle_def\"], args[\"target\"], cross, True)\n",
    "\n",
    "stochastic_deflect = []\n",
    "for d in deflection:\n",
    "    stochastic_deflect.append(pp.make_stochastic_deflection(d, \n",
    "    args[\"particle_def\"], args[\"target\"]))\n",
    "\n",
    "\n",
    "collection = pp.PropagationUtilityCollection()\n",
    "collection.displacement = pp.make_displacement(cross, True)\n",
    "collection.interaction = pp.make_interaction(cross, True)\n",
    "collection.time = pp.make_time(cross, args[\"particle_def\"], True)\n",
    "collection.decay = pp.make_decay(cross, args[\"particle_def\"], True)\n",
    "\n",
    "\n",
    "# collection.scattering = pp.scattering.ScatteringMultiplier(multiple_scatter, beta_multiplescatter)\n",
    "# '''\n",
    "collection.scattering = pp.scattering.ScatteringMultiplier(\n",
    "    multiple_scatter, \n",
    "    stochastic_deflect, \n",
    "    beta_multiplescatter, \n",
    "    [(pp.particle.Interaction_Type.brems, beta_brems), (pp.particle.Interaction_Type.ioniz, beta_ioniz), \n",
    "    (pp.particle.Interaction_Type.epair, beta_epair), (pp.particle.Interaction_Type.photonuclear, beta_photonuclear)])\n",
    "# '''\n",
    "\n",
    "utility = pp.PropagationUtility(collection = collection)\n",
    "detector = pp.geometry.Sphere(pp.Cartesian3D(0,0,0), 1e20) # version 7\n",
    "density_distr = pp.density_distribution.density_homogeneous(args[\"target\"].mass_density)\n",
    "\n",
    "\n",
    "prop = pp.Propagator(args[\"particle_def\"], [(detector, utility, density_distr)])\n",
    "\n",
    "init_state = pp.particle.ParticleState()\n",
    "init_state.position = pp.Cartesian3D(0, 0, 0) # version 7\n",
    "init_state.direction = pp.Cartesian3D(initial_direction[0], initial_direction[1], initial_direction[2]) # version 7"
   ]
  },
  {
   "cell_type": "code",
   "execution_count": null,
   "id": "56f0a820-667a-4c78-b3b0-a283c072601c",
   "metadata": {},
   "outputs": [],
   "source": [
    "tracks = []\n",
    "for i in tqdm(range(n_events)):\n",
    "    init_state.energy = E_i # initial energy in MeV\n",
    "    track = prop.propagate(init_state, max_distance = max_dist, min_energy = E_f) # max_dist=1e9\n",
    "    tracks.append(track)"
   ]
  },
  {
   "cell_type": "code",
   "execution_count": null,
   "id": "5884e224-54cd-481b-8f44-6c49bfbeee1b",
   "metadata": {},
   "outputs": [],
   "source": []
  },
  {
   "cell_type": "code",
   "execution_count": null,
   "id": "ccb590fe-aa01-4428-9828-808acbefc789",
   "metadata": {},
   "outputs": [],
   "source": []
  },
  {
   "cell_type": "code",
   "execution_count": null,
   "id": "70206268-1530-4c12-8b02-492538d0b310",
   "metadata": {},
   "outputs": [],
   "source": []
  },
  {
   "cell_type": "code",
   "execution_count": null,
   "id": "585e8b11-a7ab-4ef9-b535-20aab7b83423",
   "metadata": {},
   "outputs": [],
   "source": []
  },
  {
   "cell_type": "code",
   "execution_count": null,
   "id": "d54a0fa7-cf96-44bd-8be1-80c3fd3742af",
   "metadata": {},
   "outputs": [],
   "source": []
  },
  {
   "cell_type": "code",
   "execution_count": null,
   "id": "8a4c83e0-edf4-4e2a-8962-e7ca36ca3049",
   "metadata": {},
   "outputs": [],
   "source": []
  },
  {
   "cell_type": "code",
   "execution_count": null,
   "id": "95ee1787-dd29-4b05-907f-8888a3d6b1f1",
   "metadata": {},
   "outputs": [],
   "source": []
  },
  {
   "cell_type": "code",
   "execution_count": null,
   "id": "abff8a95-22cc-4a24-845b-5158573aa61e",
   "metadata": {},
   "outputs": [],
   "source": []
  }
 ],
 "metadata": {
  "kernelspec": {
   "display_name": "Python 3",
   "language": "python",
   "name": "python3"
  },
  "language_info": {
   "codemirror_mode": {
    "name": "ipython",
    "version": 3
   },
   "file_extension": ".py",
   "mimetype": "text/x-python",
   "name": "python",
   "nbconvert_exporter": "python",
   "pygments_lexer": "ipython3",
   "version": "3.6.8"
  }
 },
 "nbformat": 4,
 "nbformat_minor": 5
}
