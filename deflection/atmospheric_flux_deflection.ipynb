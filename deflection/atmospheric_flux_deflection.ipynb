{
 "cells": [
  {
   "cell_type": "code",
   "execution_count": 1,
   "id": "f39e00b3-48e4-4748-9d91-472cf189946e",
   "metadata": {},
   "outputs": [],
   "source": [
    "import proposal as pp\n",
    "import numpy as np\n",
    "from tqdm import tqdm\n",
    "import matplotlib as mpl\n",
    "import matplotlib.pyplot as plt\n",
    "import pandas as pd\n",
    "from helper_functions_multi import get_angle_deviation\n",
    "import os\n",
    "from crflux.models import H3a_polygonato\n",
    "import crflux.models as crf\n",
    "from MCEq.core import MCEqRun\n",
    "import scipy.integrate as integrate\n",
    "from scipy.optimize import fmin, minimize"
   ]
  },
  {
   "cell_type": "code",
   "execution_count": 2,
   "id": "a1465842-2302-4619-8f01-26ae1fd55696",
   "metadata": {},
   "outputs": [],
   "source": [
    "data_dir = 'data/atmospheric_flux_deflection/'\n",
    "os.system('mkdir -p {}'.format(data_dir))\n",
    "\n",
    "plot_dir = 'plots/atmospheric_flux_deflection/'\n",
    "os.system('mkdir -p {}'.format(plot_dir))\n",
    "\n",
    "save_plot = True"
   ]
  },
  {
   "cell_type": "code",
   "execution_count": 3,
   "id": "c5ae8e8c-999b-4315-9f1b-ef19cec7c3d6",
   "metadata": {},
   "outputs": [
    {
     "data": {
      "text/plain": [
       "<matplotlib.legend.Legend at 0x7f11f526c9b0>"
      ]
     },
     "execution_count": 3,
     "metadata": {},
     "output_type": "execute_result"
    },
    {
     "data": {
      "image/png": "[encoded data removed]",
      "text/plain": [
       "<Figure size 432x288 with 1 Axes>"
      ]
     },
     "metadata": {
      "needs_background": "light"
     },
     "output_type": "display_data"
    }
   ],
   "source": [
    "# Gaisser 1990\n",
    "\n",
    "def muon_flux_gaisser(E_sea, E_top=None, theta=0):\n",
    "    '''\n",
    "        Parameters\n",
    "        ----------\n",
    "        E_sea: muon energy at sea level\n",
    "        E_top: muon energy at the top of the atmosphere\n",
    "        theta: muon zenith angle\n",
    "        A_G: scale factory\n",
    "    '''\n",
    "    A_G = 0.14\n",
    "    gamma = 2.7\n",
    "    E_top = E_sea # at high energies\n",
    "    epsilon_pi = 115/1.1 # GeV\n",
    "    epsilon_kaon = 810/1.1 # GeV\n",
    "    B_G = 0.054\n",
    "    return A_G * E_sea**(-gamma) * ((1/(1 + E_top * np.cos(theta)/epsilon_pi)) + (B_G / (1 + E_top * np.cos(theta)/epsilon_kaon)))\n",
    "\n",
    "muon_flux_gaisser_lambda = lambda E_sea, theta: 0.14 * E_sea**(-2.7) * ((1/(1 + E_sea * np.cos(theta)/115/1.1)) + (0.054 / (1 + E_sea * np.cos(theta)/810/1.1)))\n",
    "\n",
    "\n",
    "# TIG model\n",
    "def TIG(energies):\n",
    "    E_list = []\n",
    "    for E in energies:\n",
    "        if E < 5e6:\n",
    "            E_list.append(1.7e4 * E**(-2.7))\n",
    "        elif E >= 5e6:\n",
    "            E_list.append(174e4 * E**(-3))\n",
    "    return np.array(E_list)\n",
    "\n",
    "# https://arxiv.org/pdf/1907.00640.pdf\n",
    "def muon_flux_icecube(E_mu):\n",
    "    '''\n",
    "        Parameters\n",
    "        ----------\n",
    "        E_mu: muon energy in GeV\n",
    "    '''\n",
    "    gamma = 3.74\n",
    "    return 9e-17 * (E_mu / 50e3)**(-gamma)\n",
    "\n",
    "    \n",
    "energies = np.logspace(1, 10, 10)\n",
    "plt.plot(energies, muon_flux_gaisser(energies) * energies**3, label='Gaisser')\n",
    "plt.plot(energies, TIG(energies) * 1e-4 * energies**3, label='TIG')\n",
    "plt.plot(energies, H3a_polygonato().total_flux(energies) * 1e-4 * energies**3, label='H3a crflux')\n",
    "energies = np.logspace(4, 6, 10)\n",
    "plt.plot(energies, muon_flux_icecube(energies) * energies**3, label='IceCube fit')\n",
    "plt.yscale('log')\n",
    "plt.xscale('log')\n",
    "plt.xlabel('muon energy at sea level in GeV')\n",
    "plt.ylabel(r'$E^3 \\times$ muon flux per cm^2 s sr GeV')\n",
    "plt.legend()"
   ]
  },
  {
   "cell_type": "code",
   "execution_count": null,
   "id": "a27924b5-86a6-42ce-80bf-1c1190c0d34f",
   "metadata": {},
   "outputs": [],
   "source": [
    "mceq_90 = MCEqRun(interaction_model='SIBYLL23C', primary_model=(crf.HillasGaisser2012, 'H3a'), theta_deg=90.)"
   ]
  },
  {
   "cell_type": "code",
   "execution_count": null,
   "id": "f3f48f43-de9d-4fea-af72-e01104a3bc49",
   "metadata": {},
   "outputs": [],
   "source": [
    "# h_grid = np.linspace(50 * 1e3 * 1e2, 0) # altitudes from 50km to 0cm\n",
    "# X_grid = mceq.density_model.h2X(h_grid)\n",
    "# mceq.solve(int_grid=X_grid)\n",
    "mceq_90.solve()"
   ]
  },
  {
   "cell_type": "code",
   "execution_count": null,
   "id": "674ce304-55c6-47f5-b261-1e0f4c143720",
   "metadata": {},
   "outputs": [],
   "source": [
    "mceq_0 = MCEqRun(interaction_model='SIBYLL23C', primary_model=(crf.HillasGaisser2012, 'H3a'), theta_deg=0.)\n",
    "mceq_0.solve()"
   ]
  },
  {
   "cell_type": "code",
   "execution_count": null,
   "id": "e94eebd0-7e4b-4e09-9a1f-0ce78adb2d48",
   "metadata": {},
   "outputs": [],
   "source": [
    "mceq_60 = MCEqRun(interaction_model='SIBYLL23C', primary_model=(crf.HillasGaisser2012, 'H3a'), theta_deg=60.)\n",
    "mceq_60.solve()"
   ]
  },
  {
   "cell_type": "code",
   "execution_count": null,
   "id": "6ef88419-b5a8-4092-acc9-a01d77e6a2d4",
   "metadata": {},
   "outputs": [],
   "source": [
    "e_bin_mids = np.array([])\n",
    "for i in range(len(mceq_0.e_bins))[:-1]:\n",
    "    e_bin_mids = np.append(e_bin_mids, mceq_0.e_bins[i] + (mceq_0.e_bins[i+1] - mceq_0.e_bins[i])/2)"
   ]
  },
  {
   "cell_type": "code",
   "execution_count": null,
   "id": "883e83a5-9f45-419c-9f50-0b24e7595fd4",
   "metadata": {},
   "outputs": [],
   "source": [
    "# MCEq\n",
    "plt.plot(e_bin_mids, mceq_90.get_solution('mu-', mag=3) + mceq_90.get_solution('mu+', mag=3), label='MCEq H3a 90°')\n",
    "plt.plot(e_bin_mids, mceq_60.get_solution('mu-', mag=3) + mceq_60.get_solution('mu+', mag=3), label='MCEq H3a 60°')\n",
    "plt.plot(e_bin_mids, mceq_0.get_solution('mu-', mag=3) + mceq_0.get_solution('mu+', mag=3), label='MCEq H3a 0°')\n",
    "# plt.plot(e_bin_mids, (mceq_0.get_solution('mu-') + mceq_0.get_solution('mu+')) * e_bin_mids**3, label='MCEq H3a 0°')\n",
    "\n",
    "# gaisser\n",
    "energies = np.logspace(1, 10, 10)\n",
    "plt.plot(energies, muon_flux_gaisser(energies, theta=0.) * energies**3, label='Gaisser 0°')\n",
    "plt.plot(energies, muon_flux_gaisser(energies, theta=np.deg2rad(60.)) * energies**3, label='Gaisser 60°')\n",
    "# icecube fit\n",
    "energies = np.logspace(4, 6, 10)\n",
    "plt.plot(energies, muon_flux_icecube(energies) * energies**3, label='IceCube fit')\n",
    "plt.xscale('log')\n",
    "plt.yscale('log')\n",
    "plt.xlabel('energy in GeV')\n",
    "plt.ylabel(r'$E^3 \\times \\Phi$ ')\n",
    "plt.xlim(None, 1e9)\n",
    "plt.ylim(1e-8, 1)\n",
    "plt.legend()\n",
    "plt.title('mu+ and mu-')"
   ]
  },
  {
   "cell_type": "code",
   "execution_count": null,
   "id": "2d26e02c-2f87-44da-9579-506a1da3870e",
   "metadata": {},
   "outputs": [],
   "source": [
    "from sklearn import preprocessing\n",
    "plt.plot(e_bin_mids, mceq_0.get_solution('mu-') + mceq_0.get_solution('mu+'), label='MCEq')\n",
    "plt.plot(e_bin_mids, muon_flux_gaisser(e_bin_mids), label='Gaisser')\n",
    "plt.plot(e_bin_mids, preprocessing.normalize([mceq_0.get_solution('mu-') + mceq_0.get_solution('mu+')])[0], label='normalized')\n",
    "plt.yscale('log')\n",
    "plt.xscale('log')\n",
    "plt.legend()\n",
    "print(np.sum(preprocessing.normalize([mceq_0.get_solution('mu-') + mceq_0.get_solution('mu+')])[0]))\n",
    "print(np.sum(preprocessing.normalize([muon_flux_gaisser(e_bin_mids)])))"
   ]
  },
  {
   "cell_type": "code",
   "execution_count": null,
   "id": "4a48f335-eff0-4ecc-a3ff-3fa1d2b3ba07",
   "metadata": {},
   "outputs": [],
   "source": [
    "mceq_0.get_solution('mu-') + mceq_0.get_solution('mu+')"
   ]
  },
  {
   "cell_type": "markdown",
   "id": "9ea2bc75-a4f1-4d85-b5eb-5fdb2cbbd341",
   "metadata": {},
   "source": [
    "# sample energies from gaisser "
   ]
  },
  {
   "cell_type": "code",
   "execution_count": 19,
   "id": "2b25490d-df5e-49fd-bb4c-b981e2e0a935",
   "metadata": {},
   "outputs": [],
   "source": [
    "def sample_from_gaisser(n_events, e_min_log, e_max_log, p_max, weighting=None, rnd_seed=33):\n",
    "    rnd = np.random.RandomState(rnd_seed)\n",
    "    sample = []\n",
    "    if weighting == None:\n",
    "        while len(sample) < n_events:\n",
    "            p = rnd.random.uniform(0, p_max)\n",
    "            e = rnd.uniform(e_min_log, e_max_log)\n",
    "            # print(p)\n",
    "            # print(e)\n",
    "            # print(muon_flux_gaisser(10**e))\n",
    "            # print('-------')\n",
    "            if p < muon_flux_gaisser(10**e):\n",
    "                # print('ok')\n",
    "                sample.append(e)\n",
    "    else:\n",
    "        while len(sample) < n_events:\n",
    "            p = rnd.uniform(0, p_max)\n",
    "            e = rnd.uniform(e_min_log, e_max_log)\n",
    "            # print(p)\n",
    "            # print(muon_flux_gaisser(10**e) * (10**e)**weighting)\n",
    "            # print('-------')\n",
    "            if p < muon_flux_gaisser(10**e) * (10**e)**weighting:\n",
    "                # print('ok')\n",
    "                sample.append(e)\n",
    "    return sample"
   ]
  },
  {
   "cell_type": "code",
   "execution_count": null,
   "id": "05adcf1f-8928-4d64-b4c1-7dd669435722",
   "metadata": {},
   "outputs": [],
   "source": [
    "int_res = integrate.quad(muon_flux_gaisser, 10, 10**10)\n",
    "int_res"
   ]
  },
  {
   "cell_type": "code",
   "execution_count": null,
   "id": "f89dccb3-1d5f-4846-90ea-e01386751f8e",
   "metadata": {},
   "outputs": [],
   "source": [
    "integrate.dblquad(muon_flux_gaisser_lambda, 0, np.deg2rad(60.), 10, 10**10)"
   ]
  },
  {
   "cell_type": "code",
   "execution_count": 49,
   "id": "e918483d-030e-40de-86e1-6807d6582028",
   "metadata": {},
   "outputs": [
    {
     "data": {
      "text/plain": [
       "      fun: -20.17607763667171\n",
       " hess_inv: array([[1.46620933e+11]])\n",
       "      jac: array([0.])\n",
       "  message: 'Optimization terminated successfully.'\n",
       "     nfev: 58\n",
       "      nit: 24\n",
       "     njev: 29\n",
       "   status: 0\n",
       "  success: True\n",
       "        x: array([206437.63004533])"
      ]
     },
     "execution_count": 49,
     "metadata": {},
     "output_type": "execute_result"
    }
   ],
   "source": [
    "def minus_muon_flux_gaisser(E):\n",
    "    return -muon_flux_gaisser(E)*E**3.7\n",
    "result = minimize(minus_muon_flux_gaisser, 1, options={'gtol': 1e-10})\n",
    "result"
   ]
  },
  {
   "cell_type": "code",
   "execution_count": 50,
   "id": "5295b562-4913-431b-aa4e-f4ae65223b29",
   "metadata": {
    "tags": []
   },
   "outputs": [],
   "source": [
    "weighting = 3.7\n",
    "p_max = muon_flux_gaisser(result.x)*result.x**3.7\n",
    "n_events = 10000\n",
    "sample = sample_from_gaisser(n_events=n_events, e_min_log=1, e_max_log=10, p_max=p_max, weighting=weighting)\n",
    "sampled_energies = 10**np.array(sample)"
   ]
  },
  {
   "cell_type": "code",
   "execution_count": 51,
   "id": "6421e344-c407-49c9-8a87-e3a54a7778d0",
   "metadata": {},
   "outputs": [
    {
     "data": {
      "text/plain": [
       "<matplotlib.legend.Legend at 0x7f11e522bdd8>"
      ]
     },
     "execution_count": 51,
     "metadata": {},
     "output_type": "execute_result"
    },
    {
     "data": {
      "image/png": "[encoded data removed]",
      "text/plain": [
       "<Figure size 432x288 with 1 Axes>"
      ]
     },
     "metadata": {
      "needs_background": "light"
     },
     "output_type": "display_data"
    }
   ],
   "source": [
    "bins = np.logspace(1, 10, 30)\n",
    "plt.hist(sampled_energies, bins=bins, histtype='step', label='sampled energies')\n",
    "plt.hist(sampled_energies, bins=bins, histtype='step', weights=np.ones(n_events)*1/n_events, label='sampled energies / n_events')\n",
    "plt.plot(bins, muon_flux_gaisser(bins)*bins**weighting, label='Gaisser H3a')\n",
    "plt.plot(result.x, muon_flux_gaisser(result.x)*result.x**weighting, 'x')\n",
    "plt.yscale('log')\n",
    "plt.xscale('log')\n",
    "plt.xlabel('muon energy in GeV')\n",
    "plt.ylabel(r'$E^3 \\times \\Phi$ ')\n",
    "plt.legend()"
   ]
  },
  {
   "cell_type": "code",
   "execution_count": 52,
   "id": "3f79c184-e75c-4bab-b6d8-f0a45e036781",
   "metadata": {},
   "outputs": [
    {
     "data": {
      "text/plain": [
       "<matplotlib.legend.Legend at 0x7f11e64a54e0>"
      ]
     },
     "execution_count": 52,
     "metadata": {},
     "output_type": "execute_result"
    },
    {
     "data": {
      "image/png": "[encoded data removed]",
      "text/plain": [
       "<Figure size 432x288 with 1 Axes>"
      ]
     },
     "metadata": {
      "needs_background": "light"
     },
     "output_type": "display_data"
    }
   ],
   "source": [
    "bins = np.logspace(1, 10, 30)\n",
    "plt.hist(sampled_energies, bins=bins, weights=1/sampled_energies**weighting, histtype='step', label='sampled energies')\n",
    "plt.plot(bins, muon_flux_gaisser(bins), label='Gaisser H3a')\n",
    "plt.plot(bins, 1/bins**weighting, label=r'$1/E**${}'.format(weighting))\n",
    "plt.yscale('log')\n",
    "plt.xscale('log')\n",
    "plt.xlabel('muon energy in GeV')\n",
    "plt.ylabel(r'$\\Phi$ ')\n",
    "plt.legend()"
   ]
  },
  {
   "cell_type": "code",
   "execution_count": null,
   "id": "d49b20fe-25cb-4dd5-a396-930ec823e1f2",
   "metadata": {},
   "outputs": [],
   "source": [
    "detector = 1e10 # from cm^2 to km^2\n",
    "\n",
    "bins = np.logspace(1, 10, 30)\n",
    "plt.hist(sampled_energies, bins=bins, weights=1/sampled_energies**weighting, histtype='step', label='sampled energies')\n",
    "plt.plot(bins, muon_flux_gaisser(bins) * detector, label='Gaisser H3a')\n",
    "plt.yscale('log')\n",
    "plt.xscale('log')\n",
    "plt.xlabel('muon energy in GeV')\n",
    "plt.ylabel(r'$E^3 \\times \\Phi \\times A_{\\mathrm{detector}}$ ')\n",
    "plt.legend()"
   ]
  },
  {
   "cell_type": "code",
   "execution_count": null,
   "id": "ff398b23-cc65-47af-8803-261e8437370a",
   "metadata": {},
   "outputs": [],
   "source": [
    "livetime = 60 * 60 * 24 * 365 * 10 # from 1 second to 10 years\n",
    "print('livetime: ', livetime)\n",
    "detector = 1e10 # from cm^2 to km^2\n",
    "print('detector: ', detector)\n",
    "total_weight = livetime * detector\n",
    "print('total factor: ', total_weight)\n",
    "\n",
    "exp_events = (mceq_0.get_solution('mu-') + mceq_0.get_solution('mu+')) * total_weight\n",
    "exp_e = e_bin_mids[exp_events > 1]\n",
    "plt.plot(exp_e, exp_events[exp_events>1], 'x')\n",
    "plt.xscale('log')\n",
    "plt.yscale('log')\n",
    "plt.xlabel('muon energy in GeV')\n",
    "plt.ylabel('absolute events for 1km^2 detector in 10 years')"
   ]
  },
  {
   "cell_type": "code",
   "execution_count": null,
   "id": "7022447f-0e0d-4a96-bfa4-6205fd689609",
   "metadata": {},
   "outputs": [],
   "source": [
    "livetime = 60 * 60 * 24 * 365 * 10 # from 1 second to 10 years\n",
    "print('livetime: ', livetime)\n",
    "detector = 1e10 # from cm^2 to km^2\n",
    "print('detector: ', detector)\n",
    "total_weight = 60 * 60 * 24\n",
    "print('total factor: ', total_weight)\n",
    "\n",
    "exp_events = (mceq_0.get_solution('mu-') + mceq_0.get_solution('mu+')) * total_weight * e_bin_mids**3\n",
    "exp_e = e_bin_mids[exp_events > 1]\n",
    "plt.plot(e_bin_mids, exp_events, 'x')\n",
    "plt.xscale('log')\n",
    "plt.yscale('log')\n",
    "plt.xlabel('muon energy in GeV')\n",
    "plt.ylabel('absolute events for 1km^2 detector in 1 year')"
   ]
  },
  {
   "cell_type": "code",
   "execution_count": null,
   "id": "e37457fc-4043-4213-b88b-181fe8dea83d",
   "metadata": {},
   "outputs": [],
   "source": [
    "initial_energies = []\n",
    "for e, n in zip(exp_e, exp_events[exp_events>1]):\n",
    "    if e > 1:\n",
    "        initial_energies.append(np.ones(int(n)) * e * 1e3)\n",
    "    \n",
    "from iteration_utilities import flatten\n",
    "initial_energies = list(flatten(initial_energies))\n",
    "len(initial_energies)"
   ]
  },
  {
   "cell_type": "markdown",
   "id": "1558981a-d069-4cf8-9936-a6b50dd9256e",
   "metadata": {},
   "source": [
    "# run PROPOSAL"
   ]
  },
  {
   "cell_type": "code",
   "execution_count": 69,
   "id": "a5e32843-16fc-4b4b-8b23-5eff86f666eb",
   "metadata": {},
   "outputs": [],
   "source": [
    "weighting = 3.7\n",
    "p_max = muon_flux_gaisser(result.x)*result.x**3.7\n",
    "n_events = 100000\n",
    "\n",
    "# gaisser 1990 flux\n",
    "sample = sample_from_gaisser(n_events=n_events, e_min_log=1, e_max_log=10, p_max=p_max, weighting=weighting, rnd_seed=1) # 3) # 33)\n",
    "E_i_sampled_energies = 10**np.array(sample)\n",
    "sample = sample_from_gaisser(n_events=n_events, e_min_log=1, e_max_log=10, p_max=p_max, weighting=weighting, rnd_seed=11) # 2) # 22)\n",
    "E_f_sampled_energies = 10**np.array(sample)"
   ]
  },
  {
   "cell_type": "code",
   "execution_count": 70,
   "id": "c5e2f861-c97a-4598-82f7-3b7a62bfc4cc",
   "metadata": {},
   "outputs": [],
   "source": [
    "# monoenergetic\n",
    "# E_i_sampled_energies = np.ones(n_events) * 1e7 # 10 PeV in GeV\n",
    "# E_i_sampled_energies = np.ones(n_events) * 10e4 # 10 TeV in GeV"
   ]
  },
  {
   "cell_type": "code",
   "execution_count": 71,
   "id": "22d1de81-c082-4397-88cf-f72ca2d3750b",
   "metadata": {},
   "outputs": [
    {
     "data": {
      "image/png": "[encoded data removed]",
      "text/plain": [
       "<Figure size 432x288 with 1 Axes>"
      ]
     },
     "metadata": {
      "needs_background": "light"
     },
     "output_type": "display_data"
    }
   ],
   "source": [
    "plt.hist(E_f_sampled_energies, bins=np.logspace(0, 11, 20))\n",
    "plt.xscale('log')\n",
    "plt.yscale('log')"
   ]
  },
  {
   "cell_type": "code",
   "execution_count": 72,
   "id": "fb2d7d20-c8fb-4013-8e17-5ad5520117ba",
   "metadata": {},
   "outputs": [],
   "source": [
    "E_i = E_i_sampled_energies[E_i_sampled_energies>E_f_sampled_energies] * 1e3\n",
    "E_f = E_f_sampled_energies[E_i_sampled_energies>E_f_sampled_energies] * 1e3\n",
    "# E_i = sampled_energies * 1e3 # from GeV to MeV \n",
    "# E_f = 1e1 # 1e5 # 100 GeV\n",
    "n_events = len(E_i_sampled_energies[E_i_sampled_energies>E_f_sampled_energies])\n",
    "    \n",
    "deflection = [\n",
    "    'bremsginneken', # 'bremstsaiapproximation', \n",
    "    'ioniznaive',\n",
    "    'photoginneken', # 'photoborogpetrukhin',\n",
    "    'epairginneken'] ### same as default\n",
    "    \n",
    "e_cut = np.inf # 1e10\n",
    "v_cut = 1e-3 # 1e-5\n",
    "cont_rand = False\n",
    "scattering_method = \"moliere\" # \"highland\"\n",
    "# deflection_type = \"m_scat+stochastic\"\n",
    "  \n",
    "# table_path = \"/Users/pascalgutjahr/.cache/PROPOSAL\" # macbook pro\n",
    "table_path = \"/net/nfshome/home/pgutjahr/.cache/PROPOSAL\" # vollmond\n",
    "    \n",
    "rnd_seed = 33\n",
    "\n",
    "interpol_nodes = 200\n",
    "\n",
    "initial_direction = [0, 0, 1]\n",
    "\n",
    "beta_brems = 1.0\n",
    "beta_ioniz = 1.0\n",
    "beta_epair = 1.0\n",
    "beta_multiplescatter = 1.0\n",
    "beta_photonuclear = 1.0\n",
    "\n",
    "max_dist = 3e10 # 3km deep --> behind icecube # 1.45e5 # in cm = 1.45km = depth of icecube at zenith=0"
   ]
  },
  {
   "cell_type": "code",
   "execution_count": 73,
   "id": "84ae6592-b8b8-4929-a62c-f7b1665db3fc",
   "metadata": {},
   "outputs": [],
   "source": [
    "pp.InterpolationSettings.tables_path = table_path   # version 7\n",
    "    \n",
    "pp.InterpolationSettings.nodes_dndx_e = interpol_nodes\n",
    "pp.InterpolationSettings.nodes_dndx_v = interpol_nodes\n",
    "\n",
    "pp.RandomGenerator.get().set_seed(rnd_seed)\n",
    "args = {\n",
    "        \"particle_def\": pp.particle.MuMinusDef(),\n",
    "        \"target\": pp.medium.Ice(),\n",
    "        \"interpolate\": True,\n",
    "        \"cuts\": pp.EnergyCutSettings(e_cut, v_cut, cont_rand)\n",
    "        }\n",
    "\n",
    "cross = pp.crosssection.make_std_crosssection(**args)\n",
    "multiple_scatter = pp.make_multiple_scattering(scattering_method, args[\"particle_def\"], args[\"target\"], cross, True)\n",
    "\n",
    "stochastic_deflect = []\n",
    "for d in deflection:\n",
    "    stochastic_deflect.append(pp.make_stochastic_deflection(d, \n",
    "    args[\"particle_def\"], args[\"target\"]))\n",
    "\n",
    "\n",
    "collection = pp.PropagationUtilityCollection()\n",
    "collection.displacement = pp.make_displacement(cross, True)\n",
    "collection.interaction = pp.make_interaction(cross, True)\n",
    "collection.time = pp.make_time(cross, args[\"particle_def\"], True)\n",
    "collection.decay = pp.make_decay(cross, args[\"particle_def\"], True)\n",
    "\n",
    "\n",
    "# collection.scattering = pp.scattering.ScatteringMultiplier(multiple_scatter, beta_multiplescatter)\n",
    "# '''\n",
    "collection.scattering = pp.scattering.ScatteringMultiplier(\n",
    "    multiple_scatter, \n",
    "    stochastic_deflect, \n",
    "    beta_multiplescatter, \n",
    "    [(pp.particle.Interaction_Type.brems, beta_brems), (pp.particle.Interaction_Type.ioniz, beta_ioniz), \n",
    "    (pp.particle.Interaction_Type.epair, beta_epair), (pp.particle.Interaction_Type.photonuclear, beta_photonuclear)])\n",
    "# '''\n",
    "\n",
    "utility = pp.PropagationUtility(collection = collection)\n",
    "detector = pp.geometry.Sphere(pp.Cartesian3D(0,0,0), 1e20) # version 7\n",
    "density_distr = pp.density_distribution.density_homogeneous(args[\"target\"].mass_density)\n",
    "\n",
    "\n",
    "prop = pp.Propagator(args[\"particle_def\"], [(detector, utility, density_distr)])\n",
    "\n",
    "init_state = pp.particle.ParticleState()\n",
    "init_state.position = pp.Cartesian3D(0, 0, 0) # version 7\n",
    "init_state.direction = pp.Cartesian3D(initial_direction[0], initial_direction[1], initial_direction[2]) # version 7"
   ]
  },
  {
   "cell_type": "code",
   "execution_count": 74,
   "id": "56f0a820-667a-4c78-b3b0-a283c072601c",
   "metadata": {},
   "outputs": [
    {
     "name": "stderr",
     "output_type": "stream",
     "text": [
      "100%|██████████| 50370/50370 [11:19<00:00, 74.18it/s] \n"
     ]
    }
   ],
   "source": [
    "tracks = []\n",
    "for e_i, e_f in zip(tqdm(E_i), E_f):\n",
    "    init_state.energy = e_i # initial energy in MeV\n",
    "    track = prop.propagate(init_state, max_distance = max_dist, min_energy = e_f) # max_dist=1e9\n",
    "    tracks.append(track)"
   ]
  },
  {
   "cell_type": "code",
   "execution_count": 75,
   "id": "ccb590fe-aa01-4428-9828-808acbefc789",
   "metadata": {},
   "outputs": [
    {
     "name": "stderr",
     "output_type": "stream",
     "text": [
      "100%|██████████| 50370/50370 [03:06<00:00, 270.01it/s]\n"
     ]
    }
   ],
   "source": [
    "deflections = []\n",
    "distances = []\n",
    "E_f_mins = []\n",
    "for track in tqdm(tracks):\n",
    "    deflection = get_angle_deviation(\n",
    "        track.track_directions()[0].spherical_coordinates[1], \n",
    "        track.track_directions()[0].spherical_coordinates[2], \n",
    "        track.track_directions()[-1].spherical_coordinates[1], \n",
    "        track.track_directions()[-1].spherical_coordinates[2]\n",
    "    )\n",
    "    deflections.append(deflection)\n",
    "    distances.append(track.track_propagated_distances()[-1] / 100) # in meter\n",
    "    E_f_mins.append(track.track_energies()[-1] / 1e3) # in GeV\n",
    "    \n",
    "E_f_mins = np.array(E_f_mins)"
   ]
  },
  {
   "cell_type": "code",
   "execution_count": null,
   "id": "70206268-1530-4c12-8b02-492538d0b310",
   "metadata": {},
   "outputs": [],
   "source": [
    "bins = np.logspace(-8, 3, 40)\n",
    "plt.hist(np.rad2deg(deflections), bins=bins, histtype='step', label='all events')\n",
    "plt.hist(np.rad2deg(deflections)[np.array(distances)>245000.0], bins=bins, histtype='step', label='d > 2.45km (through-going muons)')\n",
    "plt.hist(np.rad2deg(deflections)[(np.array(distances)>145000.0) & (np.array(distances)<245000.0)], bins=bins, histtype='step', label='1.45km < d < 2.45km (stopping muons)')\n",
    "plt.xlabel('deflection in degree')\n",
    "plt.xscale('log')\n",
    "plt.yscale('log')\n",
    "plt.legend(loc='upper left')"
   ]
  },
  {
   "cell_type": "code",
   "execution_count": null,
   "id": "0d7a325e-e009-4b0e-b183-10b22aff944d",
   "metadata": {},
   "outputs": [],
   "source": [
    "bins = (np.logspace(1, 10, 30), np.logspace(-8, 3, 30))\n",
    "plt.hist2d(E_f_mins, np.rad2deg(deflections), bins=bins)\n",
    "plt.xscale('log')\n",
    "plt.yscale('log')\n",
    "plt.xlabel('energy in GeV')\n",
    "plt.ylabel('deflection in degree')\n",
    "plt.colorbar()"
   ]
  },
  {
   "cell_type": "code",
   "execution_count": null,
   "id": "585e8b11-a7ab-4ef9-b535-20aab7b83423",
   "metadata": {},
   "outputs": [],
   "source": [
    "plt.hist(np.array(distances)/100)"
   ]
  },
  {
   "cell_type": "markdown",
   "id": "e5a1beef-40f0-4ba6-aa91-a07e2e3538f6",
   "metadata": {},
   "source": [
    "## re-weighting"
   ]
  },
  {
   "cell_type": "code",
   "execution_count": null,
   "id": "6e718e2a-44d3-4a13-8c9a-19182f80139d",
   "metadata": {},
   "outputs": [],
   "source": [
    "weights = (1/E_i_sampled_energies**weighting)[E_i_sampled_energies>E_f_sampled_energies]"
   ]
  },
  {
   "cell_type": "code",
   "execution_count": null,
   "id": "95ee1787-dd29-4b05-907f-8888a3d6b1f1",
   "metadata": {},
   "outputs": [],
   "source": [
    "bins = np.logspace(-8, 3, 50)\n",
    "plt.hist(np.rad2deg(deflections), bins=bins, histtype='step', weights=weights, label='all events')\n",
    "plt.hist(np.rad2deg(deflections)[np.array(distances)>245000.0], bins=bins, histtype='step', weights=weights[np.array(distances)>245000.0], label='d > 2.45km (through-going muons)')\n",
    "plt.hist(np.rad2deg(deflections)[(np.array(distances)>145000.0) & (np.array(distances)<245000.0)], bins=bins, histtype='step', weights=(1/sampled_energies**weighting)[(np.array(distances)>145000.0) & (np.array(distances)<245000.0)], label='1.45km < d < 2.45km (stopping muons)')\n",
    "plt.xlabel('deflection in degree')\n",
    "plt.xscale('log')\n",
    "plt.yscale('log')\n",
    "plt.legend(loc='upper left')"
   ]
  },
  {
   "cell_type": "code",
   "execution_count": null,
   "id": "ce3bced0-a110-4986-a565-31a4d3a6c04a",
   "metadata": {},
   "outputs": [],
   "source": [
    "# all events\n",
    "bins = (np.logspace(-2, 10, 30), np.logspace(-8, 3, 30))\n",
    "plt.hist2d(E_f_mins, np.rad2deg(deflections), bins=bins, weights=1/sampled_energies**weighting, norm=mpl.colors.LogNorm())\n",
    "plt.xscale('log')\n",
    "plt.yscale('log')\n",
    "plt.xlabel('energy in GeV')\n",
    "plt.ylabel('deflection in degree')\n",
    "plt.colorbar()\n",
    "plt.title('all events')"
   ]
  },
  {
   "cell_type": "code",
   "execution_count": null,
   "id": "a4e5302e-a6d3-45a6-aca7-26352c7b5c28",
   "metadata": {},
   "outputs": [],
   "source": [
    "# through-going events\n",
    "bins = (np.logspace(-2, 10, 30), np.logspace(-8, 3, 30))\n",
    "plt.hist2d(E_f_mins[np.array(distances)>245000.0], np.rad2deg(deflections)[np.array(distances)>245000.0], bins=bins, weights=(1/sampled_energies**weighting)[np.array(distances)>245000.0], norm=mpl.colors.LogNorm())\n",
    "plt.xscale('log')\n",
    "plt.yscale('log')\n",
    "plt.xlabel('energy in GeV')\n",
    "plt.ylabel('deflection in degree')\n",
    "cbar = plt.colorbar()\n",
    "cbar.ax.set_ylabel('muon flux in arbitrary units')\n",
    "plt.title('through-going events')"
   ]
  },
  {
   "cell_type": "code",
   "execution_count": null,
   "id": "abff8a95-22cc-4a24-845b-5158573aa61e",
   "metadata": {},
   "outputs": [],
   "source": [
    "bins = np.logspace(1, 4, 40)\n",
    "plt.hist(np.array(distances)/100, bins=bins, weights=1/sampled_energies**weighting, label='all')\n",
    "plt.vlines(1450, 1e-9, 1e-3, color='red')\n",
    "plt.vlines(2450, 1e-9, 1e-3, color='purple')\n",
    "plt.yscale('log')\n",
    "plt.xscale('log')\n",
    "plt.xlabel('propagation distance in meter')\n",
    "plt.legend()"
   ]
  },
  {
   "cell_type": "markdown",
   "id": "5e3da045-edc3-4d87-b4e5-2bf5dc21b2ec",
   "metadata": {},
   "source": [
    "# 3D deflection"
   ]
  },
  {
   "cell_type": "markdown",
   "id": "b4b2cf38-b709-494f-8e48-db3e66efcbd2",
   "metadata": {},
   "source": [
    "# don't forget weights"
   ]
  },
  {
   "cell_type": "code",
   "execution_count": null,
   "id": "e0f1b52a-e05d-4b6d-a233-db48eb5a3412",
   "metadata": {},
   "outputs": [],
   "source": [
    "df_01 = pd.DataFrame()\n",
    "df_01['E_i'] = E_i\n",
    "df_01['E_f'] = E_f_mins\n",
    "df_01['distances'] = distances\n",
    "df_01['deflection'] = deflections\n",
    "df_dict = {}\n",
    "df_dict['df_01'] = df_01\n",
    "df_dict['df_01']"
   ]
  },
  {
   "cell_type": "code",
   "execution_count": null,
   "id": "a1ffdf8d-e899-44a6-afa3-04753aab0c6b",
   "metadata": {},
   "outputs": [],
   "source": [
    "key = 'df_01'\n",
    "\n",
    "\n",
    "bins = (np.logspace(0, 10, 10), np.logspace(2, 5, 10))\n",
    "n = plt.hist2d(df_dict[key].E_f, df_dict[key].distances, bins=bins)\n",
    "plt.xscale('log')\n",
    "plt.yscale('log')\n",
    "plt.colorbar()\n",
    "plt.xlabel('final energy in GeV')\n",
    "plt.ylabel('propagation distance in m')"
   ]
  },
  {
   "cell_type": "code",
   "execution_count": null,
   "id": "2fb1aa6b-6547-42a8-ab73-327febd6fcb3",
   "metadata": {},
   "outputs": [],
   "source": [
    "x, y = np.meshgrid(n[1], n[2])\n",
    "z = n[0] \n",
    "\n",
    "fig, ax = plt.subplots()\n",
    "\n",
    "# c = ax.pcolormesh(x, y, z)\n",
    "c = ax.pcolormesh(x.T, y.T, z)\n",
    "ax.set_yscale('log')\n",
    "ax.set_xscale('log')\n",
    "ax.axis([x.min(), x.max(), y.min(), y.max()])\n",
    "cbar = fig.colorbar(c, ax=ax)\n",
    "cbar.ax.set_ylabel('counts')\n",
    "plt.xlabel('final energy in GeV')\n",
    "plt.ylabel('propagation distance in m')"
   ]
  },
  {
   "cell_type": "code",
   "execution_count": null,
   "id": "526c6b11-93a2-4646-a460-bef48ebf145a",
   "metadata": {},
   "outputs": [],
   "source": [
    "x, y = np.meshgrid(n[1], n[2])\n",
    "print(len(x), len(y))\n",
    "z = n[0] \n",
    "print(len(z))\n",
    "print(np.shape(z))\n",
    "\n",
    "fig, ax = plt.subplots()\n",
    "\n",
    "z = [np.linspace(0, 8, 9)] * 9\n",
    "\n",
    "# c = ax.pcolormesh(x, y, z)\n",
    "c = ax.pcolormesh(x.T, y.T, z)\n",
    "ax.set_yscale('log')\n",
    "ax.set_xscale('log')\n",
    "ax.axis([x.min(), x.max(), y.min(), y.max()])\n",
    "cbar = fig.colorbar(c, ax=ax)\n",
    "cbar.ax.set_ylabel('counts')\n",
    "plt.xlabel('final energy in GeV')\n",
    "plt.ylabel('propagation distance in m')\n",
    "z"
   ]
  },
  {
   "cell_type": "code",
   "execution_count": null,
   "id": "b536fc0a-eb60-48cb-b237-279e5064a1a0",
   "metadata": {},
   "outputs": [],
   "source": [
    "x_uni = np.unique(x)\n",
    "y_uni = np.unique(y)"
   ]
  },
  {
   "cell_type": "code",
   "execution_count": null,
   "id": "efe19f0e-c44a-46ad-84b4-2a5725150f53",
   "metadata": {},
   "outputs": [],
   "source": [
    "y_uni"
   ]
  },
  {
   "cell_type": "code",
   "execution_count": null,
   "id": "dd30f78b-fd14-4925-8bc5-701599614063",
   "metadata": {},
   "outputs": [],
   "source": [
    "x_uni"
   ]
  },
  {
   "cell_type": "code",
   "execution_count": null,
   "id": "a49a7637-7569-47f6-b56a-b70502a264a6",
   "metadata": {},
   "outputs": [],
   "source": [
    "defl = []\n",
    "test = []\n",
    "for i_y in range(len(y_uni)-1):\n",
    "    defl_per_y = []\n",
    "    test_y = []\n",
    "    for i_x in range(len(x_uni)-1):\n",
    "        d = df_dict[key].deflection[(df_dict[key].E_f >= x_uni[i_x]) & (df_dict[key].E_f < x_uni[i_x+1])\n",
    "                                  & (df_dict[key].distances >= y_uni[i_y]) & (df_dict[key].distances < y_uni[i_y+1])].values\n",
    "        if len(d) != 0:\n",
    "            defl_per_y.append(np.median(np.abs(d)))\n",
    "            test_y.append(len(d))\n",
    "        else:\n",
    "            defl_per_y.append(0)\n",
    "            test_y.append(0)\n",
    "            \n",
    "    defl.append(defl_per_y)\n",
    "    test.append(test_y)\n",
    "    \n",
    "fig, ax = plt.subplots()\n",
    "c = ax.pcolormesh(x, y, test) \n",
    "# c = ax.pcolormesh(x, y, defl, norm=mpl.colors.LogNorm())\n",
    "ax.set_yscale('log')\n",
    "ax.set_xscale('log')\n",
    "# ax.axis([x.min(), x.max(), y.min(), y.max()])\n",
    "cbar = fig.colorbar(c, ax=ax)\n",
    "cbar.ax.set_ylabel('counts')\n",
    "plt.xlabel('final energy in GeV')\n",
    "plt.ylabel('propagation distance in m')\n",
    "plt.title('test')"
   ]
  },
  {
   "cell_type": "code",
   "execution_count": null,
   "id": "d8b1a6a2-c770-407f-8be2-b0c8dbb6cb7e",
   "metadata": {},
   "outputs": [],
   "source": [
    "fig, ax = plt.subplots()\n",
    "c = ax.pcolormesh(x, y, defl, norm=mpl.colors.LogNorm())\n",
    "ax.set_yscale('log')\n",
    "ax.set_xscale('log')\n",
    "ax.axis([x.min(), x.max(), y.min(), y.max()])\n",
    "cbar = fig.colorbar(c, ax=ax)\n",
    "cbar.ax.set_ylabel('median deflection in degree')\n",
    "plt.xlabel('final energy in GeV')\n",
    "plt.ylabel('propagation distance in m')\n",
    "plt.title('median')"
   ]
  },
  {
   "cell_type": "code",
   "execution_count": null,
   "id": "bd3c3b1c-93a8-4329-8d1e-352186d9d067",
   "metadata": {},
   "outputs": [],
   "source": [
    "defl = []\n",
    "defl_upper = []\n",
    "for i_y in range(len(y_uni)-1):\n",
    "    defl_per_y = []\n",
    "    defl_upper_per_y = []\n",
    "    for i_x in range(len(x_uni)-1):\n",
    "        d = df_dict[key].deflection[(df_dict[key].E_f >= x_uni[i_x]) & (df_dict[key].E_f < x_uni[i_x+1])\n",
    "                                  & (df_dict[key].distances >= y_uni[i_y]) & (df_dict[key].distances < y_uni[i_y+1])].values\n",
    "        if len(d) != 0:\n",
    "            defl_per_y.append(np.median(d))\n",
    "            defl_upper_per_y.append(np.quantile(d, 0.995))\n",
    "        else:\n",
    "            defl_per_y.append(0)\n",
    "            defl_upper_per_y.append(0)\n",
    "            \n",
    "    defl.append(defl_per_y)\n",
    "    defl_upper.append(defl_upper_per_y)\n",
    "    \n",
    "fig, ax = plt.subplots()\n",
    "c = ax.pcolormesh(x, y, defl_upper, norm=mpl.colors.LogNorm())\n",
    "ax.set_yscale('log')\n",
    "ax.set_xscale('log')\n",
    "# ax.axis([x.min(), x.max(), y.min(), y.max()])\n",
    "cbar = fig.colorbar(c, ax=ax)\n",
    "cbar.ax.set_ylabel('median deflection in degree')\n",
    "plt.xlabel('final energy in GeV')\n",
    "plt.ylabel('propagation distance in m')\n",
    "plt.title('upper 99% level')"
   ]
  },
  {
   "cell_type": "code",
   "execution_count": null,
   "id": "f24757a7-5801-4acc-9395-f6cc859679fe",
   "metadata": {},
   "outputs": [],
   "source": [
    "defl = []\n",
    "defl_upper = []\n",
    "for i_y in range(len(y_uni)-1):\n",
    "    defl_per_y = []\n",
    "    defl_upper_per_y = []\n",
    "    for i_x in range(len(x_uni)-1):\n",
    "        d = df_dict[key].deflection[(df_dict[key].E_f >= x_uni[i_x]) & (df_dict[key].E_f < x_uni[i_x+1])\n",
    "                                  & (df_dict[key].distances >= y_uni[i_y]) & (df_dict[key].distances < y_uni[i_y+1])].values\n",
    "        if len(d) != 0:\n",
    "            defl_per_y.append(np.median(d))\n",
    "            defl_upper_per_y.append(np.quantile(d, 0.995))\n",
    "        else:\n",
    "            defl_per_y.append(0)\n",
    "            defl_upper_per_y.append(0)\n",
    "            \n",
    "    defl.append(defl_per_y)\n",
    "    defl_upper.append(defl_upper_per_y)\n",
    "    \n",
    "fig, ax = plt.subplots()\n",
    "c = ax.pcolormesh(x, y, defl_upper, norm=mpl.colors.LogNorm(vmin=1e-3))\n",
    "ax.set_yscale('log')\n",
    "ax.set_xscale('log')\n",
    "# ax.axis([x.min(), x.max(), y.min(), y.max()])\n",
    "cbar = fig.colorbar(c, ax=ax)\n",
    "cbar.ax.set_ylabel('median deflection in degree')\n",
    "plt.xlabel('final energy in GeV')\n",
    "plt.ylabel('propagation distance in m')\n",
    "plt.title('upper 99% level')"
   ]
  },
  {
   "cell_type": "markdown",
   "id": "9c9dbabb-836e-455d-9559-039cc604d7f6",
   "metadata": {},
   "source": [
    "# read and save data"
   ]
  },
  {
   "cell_type": "code",
   "execution_count": 76,
   "id": "2746669a-ed8a-4afd-b7ad-f87f9b400930",
   "metadata": {},
   "outputs": [
    {
     "data": {
      "text/html": [
       "<div>\n",
       "<style scoped>\n",
       "    .dataframe tbody tr th:only-of-type {\n",
       "        vertical-align: middle;\n",
       "    }\n",
       "\n",
       "    .dataframe tbody tr th {\n",
       "        vertical-align: top;\n",
       "    }\n",
       "\n",
       "    .dataframe thead th {\n",
       "        text-align: right;\n",
       "    }\n",
       "</style>\n",
       "<table border=\"1\" class=\"dataframe\">\n",
       "  <thead>\n",
       "    <tr style=\"text-align: right;\">\n",
       "      <th></th>\n",
       "      <th>E_i</th>\n",
       "      <th>E_f</th>\n",
       "      <th>distances</th>\n",
       "      <th>deflection</th>\n",
       "    </tr>\n",
       "  </thead>\n",
       "  <tbody>\n",
       "    <tr>\n",
       "      <th>0</th>\n",
       "      <td>1.468843e+10</td>\n",
       "      <td>3.350743e+06</td>\n",
       "      <td>2321.676391</td>\n",
       "      <td>7.076091e-07</td>\n",
       "    </tr>\n",
       "    <tr>\n",
       "      <th>1</th>\n",
       "      <td>7.999391e+11</td>\n",
       "      <td>1.345733e+01</td>\n",
       "      <td>30688.036450</td>\n",
       "      <td>8.668135e-03</td>\n",
       "    </tr>\n",
       "    <tr>\n",
       "      <th>2</th>\n",
       "      <td>1.081951e+10</td>\n",
       "      <td>2.631339e+02</td>\n",
       "      <td>30141.424501</td>\n",
       "      <td>2.287996e-03</td>\n",
       "    </tr>\n",
       "    <tr>\n",
       "      <th>3</th>\n",
       "      <td>5.180291e+12</td>\n",
       "      <td>5.679844e+01</td>\n",
       "      <td>33332.593291</td>\n",
       "      <td>3.096059e-03</td>\n",
       "    </tr>\n",
       "    <tr>\n",
       "      <th>4</th>\n",
       "      <td>1.701780e+10</td>\n",
       "      <td>2.092947e+06</td>\n",
       "      <td>191.498069</td>\n",
       "      <td>9.064022e-08</td>\n",
       "    </tr>\n",
       "    <tr>\n",
       "      <th>...</th>\n",
       "      <td>...</td>\n",
       "      <td>...</td>\n",
       "      <td>...</td>\n",
       "      <td>...</td>\n",
       "    </tr>\n",
       "    <tr>\n",
       "      <th>50365</th>\n",
       "      <td>3.967944e+12</td>\n",
       "      <td>1.030573e+04</td>\n",
       "      <td>23403.792146</td>\n",
       "      <td>5.752683e-05</td>\n",
       "    </tr>\n",
       "    <tr>\n",
       "      <th>50366</th>\n",
       "      <td>1.838565e+11</td>\n",
       "      <td>7.500287e+03</td>\n",
       "      <td>14959.602454</td>\n",
       "      <td>2.024798e-04</td>\n",
       "    </tr>\n",
       "    <tr>\n",
       "      <th>50367</th>\n",
       "      <td>1.724877e+11</td>\n",
       "      <td>5.904873e+05</td>\n",
       "      <td>10608.348155</td>\n",
       "      <td>6.071195e-07</td>\n",
       "    </tr>\n",
       "    <tr>\n",
       "      <th>50368</th>\n",
       "      <td>1.320067e+06</td>\n",
       "      <td>3.792329e+02</td>\n",
       "      <td>2132.953234</td>\n",
       "      <td>8.660839e-04</td>\n",
       "    </tr>\n",
       "    <tr>\n",
       "      <th>50369</th>\n",
       "      <td>5.716423e+05</td>\n",
       "      <td>5.642777e+02</td>\n",
       "      <td>23.613866</td>\n",
       "      <td>3.272748e-04</td>\n",
       "    </tr>\n",
       "  </tbody>\n",
       "</table>\n",
       "<p>50370 rows × 4 columns</p>\n",
       "</div>"
      ],
      "text/plain": [
       "                E_i           E_f     distances    deflection\n",
       "0      1.468843e+10  3.350743e+06   2321.676391  7.076091e-07\n",
       "1      7.999391e+11  1.345733e+01  30688.036450  8.668135e-03\n",
       "2      1.081951e+10  2.631339e+02  30141.424501  2.287996e-03\n",
       "3      5.180291e+12  5.679844e+01  33332.593291  3.096059e-03\n",
       "4      1.701780e+10  2.092947e+06    191.498069  9.064022e-08\n",
       "...             ...           ...           ...           ...\n",
       "50365  3.967944e+12  1.030573e+04  23403.792146  5.752683e-05\n",
       "50366  1.838565e+11  7.500287e+03  14959.602454  2.024798e-04\n",
       "50367  1.724877e+11  5.904873e+05  10608.348155  6.071195e-07\n",
       "50368  1.320067e+06  3.792329e+02   2132.953234  8.660839e-04\n",
       "50369  5.716423e+05  5.642777e+02     23.613866  3.272748e-04\n",
       "\n",
       "[50370 rows x 4 columns]"
      ]
     },
     "execution_count": 76,
     "metadata": {},
     "output_type": "execute_result"
    }
   ],
   "source": [
    "df = pd.DataFrame()\n",
    "df['E_i'] = E_i\n",
    "df['E_f'] = E_f_mins\n",
    "df['distances'] = distances\n",
    "df['deflection'] = deflections\n",
    "df_dict = {}\n",
    "df_dict['df_04'] = df\n",
    "df_dict['df_04']"
   ]
  },
  {
   "cell_type": "code",
   "execution_count": 77,
   "id": "bd3bf732-7369-43c8-b63a-6542a8868b6f",
   "metadata": {},
   "outputs": [],
   "source": [
    "# save data\n",
    "# df_dict['df_01'].to_hdf('data/atmospheric/monoenergetic_10PeV_E_f_random.hdf5', key='df_01')\n",
    "# df_dict['df_02'].to_hdf('data/atmospheric/monoenergetic_10TeV_E_f_random.hdf5', key='df_02')\n",
    "# df_dict['df_03'].to_hdf('data/atmospheric/gaisser37_E_f_random.hdf5', key='df_03')\n",
    "df_dict['df_04'].to_hdf('data/atmospheric/gaisser37_E_f_random2.hdf5', key='df_04')"
   ]
  },
  {
   "cell_type": "code",
   "execution_count": 4,
   "id": "eb7c0106-959d-4d45-92de-ab0cff83919c",
   "metadata": {},
   "outputs": [
    {
     "data": {
      "text/plain": [
       "{'df_01':                 E_i           E_f     distances    deflection\n",
       " 0      1.000000e+10  1.135880e+05   8624.548165  1.145646e-06\n",
       " 1      1.000000e+10  1.117033e+04  17605.094452  1.407408e-04\n",
       " 2      1.000000e+10  1.108271e+06   3411.065094  7.295484e-07\n",
       " 3      1.000000e+10  4.747604e+03  16675.957614  6.924383e-05\n",
       " 4      1.000000e+10  3.402186e+06   3127.576028  5.200484e-07\n",
       " ...             ...           ...           ...           ...\n",
       " 30254  1.000000e+10  4.172277e+06   1859.236438  2.644694e-07\n",
       " 30255  1.000000e+10  1.894564e+05   7786.398912  3.693685e-06\n",
       " 30256  1.000000e+10  3.482077e+06   2005.873435  6.196088e-07\n",
       " 30257  1.000000e+10  1.418077e+05  12193.876265  1.156119e-05\n",
       " 30258  1.000000e+10  1.056145e+05   4084.975124  8.891986e-06\n",
       " \n",
       " [30259 rows x 4 columns],\n",
       " 'df_02':                E_i           E_f     distances  deflection\n",
       " 0      100000000.0  10310.066155   1885.637112    0.000139\n",
       " 1      100000000.0   4766.552730  10962.891118    0.000291\n",
       " 2      100000000.0     27.422838  11275.548627    0.006232\n",
       " 3      100000000.0  97545.051301     34.719798    0.000001\n",
       " 4      100000000.0    321.658241  10857.810361    0.006100\n",
       " ...            ...           ...           ...         ...\n",
       " 34858  100000000.0   2380.195041  12171.131944    0.000649\n",
       " 34859  100000000.0  34194.190751   2362.339907    0.000042\n",
       " 34860  100000000.0    180.185444  10753.432698    0.003787\n",
       " 34861  100000000.0   5150.697224   1712.627272    0.000113\n",
       " 34862  100000000.0   4137.783805  11500.288134    0.000167\n",
       " \n",
       " [34863 rows x 4 columns],\n",
       " 'df_03':                 E_i           E_f     distances    deflection\n",
       " 0      3.795494e+12  1.099870e+04  26813.971222  1.865780e-04\n",
       " 1      7.055071e+12  1.834541e+07   4371.945281  1.010646e-07\n",
       " 2      1.152453e+08  3.470170e+03   4599.500226  4.275812e-04\n",
       " 3      3.213503e+10  1.793520e+06   9512.433564  2.301783e-06\n",
       " 4      3.676854e+11  3.933922e+07   3825.323492  7.742870e-08\n",
       " ...             ...           ...           ...           ...\n",
       " 24842  6.571279e+11  3.679436e+07   5211.916602  3.950916e-07\n",
       " 24843  1.711579e+11  7.675943e+06   6045.228761  8.432003e-07\n",
       " 24844  1.310142e+12  1.043320e+06   9563.591114  7.967594e-07\n",
       " 24845  1.995086e+11  2.766405e+05  15760.958904  3.347194e-06\n",
       " 24846  9.386624e+10  1.408689e+05  20447.215008  1.208836e-05\n",
       " \n",
       " [24847 rows x 4 columns]}"
      ]
     },
     "execution_count": 4,
     "metadata": {},
     "output_type": "execute_result"
    }
   ],
   "source": [
    "# load data\n",
    "df_dict = {}\n",
    "df_dict['df_01'] = pd.read_hdf('data/atmospheric/monoenergetic_10PeV_E_f_random.hdf5', key='df_01')\n",
    "df_dict['df_02'] = pd.read_hdf('data/atmospheric/monoenergetic_10TeV_E_f_random.hdf5', key='df_02')\n",
    "df_dict['df_03'] = pd.read_hdf('data/atmospheric/gaisser37_E_f_random.hdf5', key='df_03')\n",
    "df_dict['df_04'] = pd.read_hdf('data/atmospheric/gaisser37_E_f_random2.hdf5', key='df_04')\n",
    "df_dict"
   ]
  },
  {
   "cell_type": "markdown",
   "id": "b597f963-4b34-4886-8561-66428412e298",
   "metadata": {},
   "source": [
    "# gaisser E3.7"
   ]
  },
  {
   "cell_type": "code",
   "execution_count": 87,
   "id": "bce063f2-aa47-4773-844b-26724cfdd855",
   "metadata": {},
   "outputs": [
    {
     "data": {
      "text/plain": [
       "Text(0, 0.5, 'propagation distance in m')"
      ]
     },
     "execution_count": 87,
     "metadata": {},
     "output_type": "execute_result"
    },
    {
     "data": {
      "image/png": "[encoded data removed]",
      "text/plain": [
       "<Figure size 432x288 with 2 Axes>"
      ]
     },
     "metadata": {
      "needs_background": "light"
     },
     "output_type": "display_data"
    },
    {
     "data": {
      "image/png": "[encoded data removed]",
      "text/plain": [
       "<Figure size 432x288 with 2 Axes>"
      ]
     },
     "metadata": {
      "needs_background": "light"
     },
     "output_type": "display_data"
    }
   ],
   "source": [
    "key = 'df_04'\n",
    "\n",
    "bins = (np.logspace(0, 9, 10), np.logspace(2, 5, 10))\n",
    "n = plt.hist2d(df_dict[key].E_f, df_dict[key].distances, bins=bins)\n",
    "plt.xscale('log')\n",
    "plt.yscale('log')\n",
    "plt.colorbar()\n",
    "plt.xlabel('final energy in GeV')\n",
    "plt.ylabel('propagation distance in m')\n",
    "\n",
    "x, y = np.meshgrid(n[1], n[2])\n",
    "z = n[0] \n",
    "\n",
    "fig, ax = plt.subplots()\n",
    "\n",
    "# c = ax.pcolormesh(x, y, z)\n",
    "c = ax.pcolormesh(x.T, y.T, z)\n",
    "ax.set_yscale('log')\n",
    "ax.set_xscale('log')\n",
    "ax.axis([x.min(), x.max(), y.min(), y.max()])\n",
    "cbar = fig.colorbar(c, ax=ax)\n",
    "cbar.ax.set_ylabel('counts')\n",
    "plt.xlabel('final energy in GeV')\n",
    "plt.ylabel('propagation distance in m')"
   ]
  },
  {
   "cell_type": "code",
   "execution_count": 88,
   "id": "0e0fc5a4-d405-482d-910a-b05b330c702d",
   "metadata": {},
   "outputs": [
    {
     "data": {
      "image/png": "[encoded data removed]",
      "text/plain": [
       "<Figure size 432x288 with 2 Axes>"
      ]
     },
     "metadata": {
      "needs_background": "light"
     },
     "output_type": "display_data"
    }
   ],
   "source": [
    "x_uni = np.unique(x)\n",
    "y_uni = np.unique(y)\n",
    "\n",
    "defl = []\n",
    "defl_upper = []\n",
    "for i_y in range(len(y_uni)-1):\n",
    "    defl_per_y = []\n",
    "    defl_upper_per_y = []\n",
    "    for i_x in range(len(x_uni)-1):\n",
    "        d = df_dict[key].deflection[(df_dict[key].E_f >= x_uni[i_x]) & (df_dict[key].E_f < x_uni[i_x+1])\n",
    "                                  & (df_dict[key].distances >= y_uni[i_y]) & (df_dict[key].distances < y_uni[i_y+1])].values\n",
    "        \n",
    "        if len(d) != 0:\n",
    "            defl_per_y.append(np.median(d))\n",
    "            defl_upper_per_y.append(np.quantile(d, 0.995))\n",
    "        else:\n",
    "            defl_per_y.append(0)\n",
    "            defl_upper_per_y.append(0)\n",
    "            \n",
    "    defl.append(defl_per_y)\n",
    "    defl_upper.append(defl_upper_per_y)\n",
    "\n",
    "fig, ax = plt.subplots()\n",
    "c = ax.pcolormesh(x, y, np.rad2deg(defl), norm=mpl.colors.LogNorm(vmin=1e-7, vmax=0.5))\n",
    "ax.set_yscale('log')\n",
    "ax.set_xscale('log')\n",
    "ax.axis([x.min(), x.max(), y.min(), y.max()])\n",
    "cbar = fig.colorbar(c, ax=ax)\n",
    "cbar.ax.set_ylabel('median deflection in degree')\n",
    "plt.xlabel('final energy in GeV')\n",
    "plt.ylabel('propagation distance in m')\n",
    "plt.title('median')\n",
    "plt.savefig(plot_dir + 'gaisserE37_median.pdf')"
   ]
  },
  {
   "cell_type": "code",
   "execution_count": 89,
   "id": "a35646cb-238b-4095-9447-23e401852074",
   "metadata": {},
   "outputs": [
    {
     "data": {
      "image/png": "[encoded data removed]",
      "text/plain": [
       "<Figure size 432x288 with 2 Axes>"
      ]
     },
     "metadata": {
      "needs_background": "light"
     },
     "output_type": "display_data"
    }
   ],
   "source": [
    "x_uni = np.unique(x)\n",
    "y_uni = np.unique(y)\n",
    "\n",
    "defl = []\n",
    "defl_upper = []\n",
    "for i_y in range(len(y_uni)-1):\n",
    "    defl_per_y = []\n",
    "    defl_upper_per_y = []\n",
    "    for i_x in range(len(x_uni)-1):\n",
    "        d = df_dict[key].deflection[(df_dict[key].E_f >= x_uni[i_x]) & (df_dict[key].E_f < x_uni[i_x+1])\n",
    "                                  & (df_dict[key].distances >= y_uni[i_y]) & (df_dict[key].distances < y_uni[i_y+1])].values\n",
    "        \n",
    "        if len(d) != 0:\n",
    "            defl_per_y.append(np.median(d))\n",
    "            defl_upper_per_y.append(np.quantile(d, 0.995))\n",
    "        else:\n",
    "            defl_per_y.append(0)\n",
    "            defl_upper_per_y.append(0)\n",
    "            \n",
    "    defl.append(defl_per_y)\n",
    "    defl_upper.append(defl_upper_per_y)\n",
    "\n",
    "fig, ax = plt.subplots()\n",
    "c = ax.pcolormesh(x, y, np.rad2deg(defl), norm=mpl.colors.LogNorm(vmin=1e-7, vmax=0.5))\n",
    "ax.set_yscale('log')\n",
    "ax.set_xscale('log')\n",
    "ax.axis([x.min(), x.max(), y.min(), y.max()])\n",
    "cbar = fig.colorbar(c, ax=ax)\n",
    "cbar.ax.set_ylabel(r'median of $\\theta_{\\mathrm{acc}}\\,/\\,°$')\n",
    "plt.xlabel(r'$E_{\\mathrm{f,\\,min}}\\,/\\,\\mathrm{GeV}$')\n",
    "plt.ylabel(r'$d\\,/\\,m$')\n",
    "plt.savefig(plot_dir + 'gaisserE37_median_paper.pdf')"
   ]
  },
  {
   "cell_type": "code",
   "execution_count": 84,
   "id": "e1ec49bf-abde-43df-9371-c9646fb5a8a5",
   "metadata": {},
   "outputs": [
    {
     "data": {
      "text/plain": [
       "Text(0.5, 1.0, 'upper 99% level')"
      ]
     },
     "execution_count": 84,
     "metadata": {},
     "output_type": "execute_result"
    },
    {
     "data": {
      "image/png": "[encoded data removed]",
      "text/plain": [
       "<Figure size 432x288 with 2 Axes>"
      ]
     },
     "metadata": {
      "needs_background": "light"
     },
     "output_type": "display_data"
    },
    {
     "data": {
      "image/png": "[encoded data removed]",
      "text/plain": [
       "<Figure size 432x288 with 2 Axes>"
      ]
     },
     "metadata": {
      "needs_background": "light"
     },
     "output_type": "display_data"
    }
   ],
   "source": [
    "fig, ax = plt.subplots()\n",
    "c = ax.pcolormesh(x, y, np.rad2deg(defl_upper), norm=mpl.colors.LogNorm(vmin=1e-7, vmax=0.5))\n",
    "ax.set_yscale('log')\n",
    "ax.set_xscale('log')\n",
    "# ax.axis([x.min(), x.max(), y.min(), y.max()])\n",
    "cbar = fig.colorbar(c, ax=ax)\n",
    "cbar.ax.set_ylabel('upper 99% level deflection in degree')\n",
    "plt.xlabel('final energy in GeV')\n",
    "plt.ylabel('propagation distance in m')\n",
    "plt.title('upper 99% level')\n",
    "plt.savefig(plot_dir + 'gaisserE37_99level.pdf')\n",
    "\n",
    "# cut log norm\n",
    "fig, ax = plt.subplots()\n",
    "c = ax.pcolormesh(x, y, np.rad2deg(defl_upper), norm=mpl.colors.LogNorm(vmin=1e-3, vmax=0.5))\n",
    "ax.set_yscale('log')\n",
    "ax.set_xscale('log')\n",
    "# ax.axis([x.min(), x.max(), y.min(), y.max()])\n",
    "cbar = fig.colorbar(c, ax=ax)\n",
    "cbar.ax.set_ylabel('median deflection in degree')\n",
    "plt.xlabel('final energy in GeV')\n",
    "plt.ylabel('propagation distance in m')\n",
    "plt.title('upper 99% level')"
   ]
  },
  {
   "cell_type": "markdown",
   "id": "27000241-90a1-4b32-b5a5-ae8cb096d101",
   "metadata": {},
   "source": [
    "# monoenergetic plots"
   ]
  },
  {
   "cell_type": "markdown",
   "id": "c6f32845-5815-4e69-82dc-edb7c9f5101c",
   "metadata": {},
   "source": [
    "# E_i = 10 PeV"
   ]
  },
  {
   "cell_type": "code",
   "execution_count": 37,
   "id": "1a140c04-7074-4507-adb1-d2e8edf18463",
   "metadata": {},
   "outputs": [
    {
     "data": {
      "text/plain": [
       "Text(0, 0.5, 'propagation distance in m')"
      ]
     },
     "execution_count": 37,
     "metadata": {},
     "output_type": "execute_result"
    },
    {
     "data": {
      "image/png": "[encoded data removed]",
      "text/plain": [
       "<Figure size 432x288 with 2 Axes>"
      ]
     },
     "metadata": {
      "needs_background": "light"
     },
     "output_type": "display_data"
    },
    {
     "data": {
      "image/png": "[encoded data removed]",
      "text/plain": [
       "<Figure size 432x288 with 2 Axes>"
      ]
     },
     "metadata": {
      "needs_background": "light"
     },
     "output_type": "display_data"
    }
   ],
   "source": [
    "key = 'df_01'\n",
    "\n",
    "bins = (np.logspace(0, 10, 10), np.logspace(2, 5, 10))\n",
    "n = plt.hist2d(df_dict[key].E_f, df_dict[key].distances, bins=bins)\n",
    "plt.xscale('log')\n",
    "plt.yscale('log')\n",
    "plt.colorbar()\n",
    "plt.xlabel('final energy in GeV')\n",
    "plt.ylabel('propagation distance in m')\n",
    "\n",
    "x, y = np.meshgrid(n[1], n[2])\n",
    "z = n[0] \n",
    "\n",
    "fig, ax = plt.subplots()\n",
    "\n",
    "# c = ax.pcolormesh(x, y, z)\n",
    "c = ax.pcolormesh(x.T, y.T, z)\n",
    "ax.set_yscale('log')\n",
    "ax.set_xscale('log')\n",
    "ax.axis([x.min(), x.max(), y.min(), y.max()])\n",
    "cbar = fig.colorbar(c, ax=ax)\n",
    "cbar.ax.set_ylabel('counts')\n",
    "plt.xlabel('final energy in GeV')\n",
    "plt.ylabel('propagation distance in m')"
   ]
  },
  {
   "cell_type": "code",
   "execution_count": 38,
   "id": "ac564a04-3e97-4781-a7f3-1316c997d528",
   "metadata": {},
   "outputs": [
    {
     "data": {
      "image/png": "[encoded data removed]",
      "text/plain": [
       "<Figure size 432x288 with 2 Axes>"
      ]
     },
     "metadata": {
      "needs_background": "light"
     },
     "output_type": "display_data"
    }
   ],
   "source": [
    "x_uni = np.unique(x)\n",
    "y_uni = np.unique(y)\n",
    "\n",
    "defl = []\n",
    "defl_upper = []\n",
    "for i_y in range(len(y_uni)-1):\n",
    "    defl_per_y = []\n",
    "    defl_upper_per_y = []\n",
    "    for i_x in range(len(x_uni)-1):\n",
    "        d = df_dict[key].deflection[(df_dict[key].E_f >= x_uni[i_x]) & (df_dict[key].E_f < x_uni[i_x+1])\n",
    "                                  & (df_dict[key].distances >= y_uni[i_y]) & (df_dict[key].distances < y_uni[i_y+1])].values\n",
    "        if len(d) != 0:\n",
    "            defl_per_y.append(np.median(d))\n",
    "            defl_upper_per_y.append(np.quantile(d, 0.995))\n",
    "        else:\n",
    "            defl_per_y.append(0)\n",
    "            defl_upper_per_y.append(0)\n",
    "            \n",
    "    defl.append(defl_per_y)\n",
    "    defl_upper.append(defl_upper_per_y)\n",
    "\n",
    "fig, ax = plt.subplots()\n",
    "c = ax.pcolormesh(x, y, np.rad2deg(defl), norm=mpl.colors.LogNorm(vmin=1e-7, vmax=0.5))\n",
    "ax.set_yscale('log')\n",
    "ax.set_xscale('log')\n",
    "ax.axis([x.min(), x.max(), y.min(), y.max()])\n",
    "cbar = fig.colorbar(c, ax=ax)\n",
    "cbar.ax.set_ylabel('median deflection in degree')\n",
    "plt.xlabel('final energy in GeV')\n",
    "plt.ylabel('propagation distance in m')\n",
    "plt.title('median')\n",
    "plt.savefig(plot_dir + 'E_i_10PeV_median.pdf')"
   ]
  },
  {
   "cell_type": "code",
   "execution_count": 39,
   "id": "e9a09122-4120-473b-911e-4e8cfd10b4ef",
   "metadata": {},
   "outputs": [
    {
     "data": {
      "text/plain": [
       "Text(0.5, 1.0, 'upper 99% level')"
      ]
     },
     "execution_count": 39,
     "metadata": {},
     "output_type": "execute_result"
    },
    {
     "data": {
      "image/png": "[encoded data removed]",
      "text/plain": [
       "<Figure size 432x288 with 2 Axes>"
      ]
     },
     "metadata": {
      "needs_background": "light"
     },
     "output_type": "display_data"
    },
    {
     "data": {
      "image/png": "[encoded data removed]",
      "text/plain": [
       "<Figure size 432x288 with 2 Axes>"
      ]
     },
     "metadata": {
      "needs_background": "light"
     },
     "output_type": "display_data"
    }
   ],
   "source": [
    "fig, ax = plt.subplots()\n",
    "c = ax.pcolormesh(x, y, np.rad2deg(defl_upper), norm=mpl.colors.LogNorm(vmin=1e-7, vmax=0.5))\n",
    "ax.set_yscale('log')\n",
    "ax.set_xscale('log')\n",
    "# ax.axis([x.min(), x.max(), y.min(), y.max()])\n",
    "cbar = fig.colorbar(c, ax=ax)\n",
    "cbar.ax.set_ylabel('upper 99% level deflection in degree')\n",
    "plt.xlabel('final energy in GeV')\n",
    "plt.ylabel('propagation distance in m')\n",
    "plt.title('upper 99% level')\n",
    "plt.savefig(plot_dir + 'E_i_10PeV_99level.pdf')\n",
    "\n",
    "# cut log norm\n",
    "fig, ax = plt.subplots()\n",
    "c = ax.pcolormesh(x, y, np.rad2deg(defl_upper), norm=mpl.colors.LogNorm(vmin=1e-3, vmax=0.5))\n",
    "ax.set_yscale('log')\n",
    "ax.set_xscale('log')\n",
    "# ax.axis([x.min(), x.max(), y.min(), y.max()])\n",
    "cbar = fig.colorbar(c, ax=ax)\n",
    "cbar.ax.set_ylabel('median deflection in degree')\n",
    "plt.xlabel('final energy in GeV')\n",
    "plt.ylabel('propagation distance in m')\n",
    "plt.title('upper 99% level')"
   ]
  },
  {
   "cell_type": "markdown",
   "id": "14f9ca01-3290-408a-93be-3f0a42fdfc47",
   "metadata": {},
   "source": [
    "# E_i = 10 TeV"
   ]
  },
  {
   "cell_type": "code",
   "execution_count": 40,
   "id": "3fd0c223-bb8d-4593-9f28-faf981965aba",
   "metadata": {},
   "outputs": [
    {
     "data": {
      "text/plain": [
       "Text(0, 0.5, 'propagation distance in m')"
      ]
     },
     "execution_count": 40,
     "metadata": {},
     "output_type": "execute_result"
    },
    {
     "data": {
      "image/png": "[encoded data removed]",
      "text/plain": [
       "<Figure size 432x288 with 2 Axes>"
      ]
     },
     "metadata": {
      "needs_background": "light"
     },
     "output_type": "display_data"
    },
    {
     "data": {
      "image/png": "[encoded data removed]",
      "text/plain": [
       "<Figure size 432x288 with 2 Axes>"
      ]
     },
     "metadata": {
      "needs_background": "light"
     },
     "output_type": "display_data"
    }
   ],
   "source": [
    "key = 'df_02'\n",
    "\n",
    "bins = (np.logspace(0, 10, 10), np.logspace(2, 5, 10))\n",
    "n = plt.hist2d(df_dict[key].E_f, df_dict[key].distances, bins=bins)\n",
    "plt.xscale('log')\n",
    "plt.yscale('log')\n",
    "plt.colorbar()\n",
    "plt.xlabel('final energy in GeV')\n",
    "plt.ylabel('propagation distance in m')\n",
    "\n",
    "x, y = np.meshgrid(n[1], n[2])\n",
    "z = n[0] \n",
    "\n",
    "fig, ax = plt.subplots()\n",
    "\n",
    "# c = ax.pcolormesh(x, y, z)\n",
    "c = ax.pcolormesh(x.T, y.T, z)\n",
    "ax.set_yscale('log')\n",
    "ax.set_xscale('log')\n",
    "ax.axis([x.min(), x.max(), y.min(), y.max()])\n",
    "cbar = fig.colorbar(c, ax=ax)\n",
    "cbar.ax.set_ylabel('counts')\n",
    "plt.xlabel('final energy in GeV')\n",
    "plt.ylabel('propagation distance in m')"
   ]
  },
  {
   "cell_type": "code",
   "execution_count": 41,
   "id": "f2d64d64-3c19-4c16-a47d-662b30bed1ae",
   "metadata": {},
   "outputs": [
    {
     "data": {
      "text/plain": [
       "Text(0.5, 1.0, 'median')"
      ]
     },
     "execution_count": 41,
     "metadata": {},
     "output_type": "execute_result"
    },
    {
     "data": {
      "image/png": "[encoded data removed]",
      "text/plain": [
       "<Figure size 432x288 with 2 Axes>"
      ]
     },
     "metadata": {
      "needs_background": "light"
     },
     "output_type": "display_data"
    }
   ],
   "source": [
    "x_uni = np.unique(x)\n",
    "y_uni = np.unique(y)\n",
    "\n",
    "defl = []\n",
    "defl_upper = []\n",
    "for i_y in range(len(y_uni)-1):\n",
    "    defl_per_y = []\n",
    "    defl_upper_per_y = []\n",
    "    for i_x in range(len(x_uni)-1):\n",
    "        d = df_dict[key].deflection[(df_dict[key].E_f >= x_uni[i_x]) & (df_dict[key].E_f < x_uni[i_x+1])\n",
    "                                  & (df_dict[key].distances >= y_uni[i_y]) & (df_dict[key].distances < y_uni[i_y+1])].values\n",
    "        if len(d) != 0:\n",
    "            defl_per_y.append(np.median(d))\n",
    "            defl_upper_per_y.append(np.quantile(d, 0.995))\n",
    "        else:\n",
    "            defl_per_y.append(0)\n",
    "            defl_upper_per_y.append(0)\n",
    "            \n",
    "    defl.append(defl_per_y)\n",
    "    defl_upper.append(defl_upper_per_y)\n",
    "\n",
    "fig, ax = plt.subplots()\n",
    "c = ax.pcolormesh(x, y, np.rad2deg(defl), norm=mpl.colors.LogNorm(vmin=1e-7, vmax=0.5))\n",
    "ax.set_yscale('log')\n",
    "ax.set_xscale('log')\n",
    "ax.axis([x.min(), x.max(), y.min(), y.max()])\n",
    "cbar = fig.colorbar(c, ax=ax)\n",
    "cbar.ax.set_ylabel('median deflection in degree')\n",
    "plt.xlabel('final energy in GeV')\n",
    "plt.ylabel('propagation distance in m')\n",
    "plt.title('median')"
   ]
  },
  {
   "cell_type": "code",
   "execution_count": 42,
   "id": "16ec9419-437e-48a1-b85e-f6ed4281a96f",
   "metadata": {},
   "outputs": [
    {
     "data": {
      "text/plain": [
       "Text(0.5, 1.0, 'upper 99% level')"
      ]
     },
     "execution_count": 42,
     "metadata": {},
     "output_type": "execute_result"
    },
    {
     "data": {
      "image/png": "[encoded data removed]",
      "text/plain": [
       "<Figure size 432x288 with 2 Axes>"
      ]
     },
     "metadata": {
      "needs_background": "light"
     },
     "output_type": "display_data"
    },
    {
     "data": {
      "image/png": "[encoded data removed]",
      "text/plain": [
       "<Figure size 432x288 with 2 Axes>"
      ]
     },
     "metadata": {
      "needs_background": "light"
     },
     "output_type": "display_data"
    }
   ],
   "source": [
    "fig, ax = plt.subplots()\n",
    "c = ax.pcolormesh(x, y, np.rad2deg(defl_upper), norm=mpl.colors.LogNorm(vmin=1e-7, vmax=0.5))\n",
    "ax.set_yscale('log')\n",
    "ax.set_xscale('log')\n",
    "# ax.axis([x.min(), x.max(), y.min(), y.max()])\n",
    "cbar = fig.colorbar(c, ax=ax)\n",
    "cbar.ax.set_ylabel('median deflection in degree')\n",
    "plt.xlabel('final energy in GeV')\n",
    "plt.ylabel('propagation distance in m')\n",
    "plt.title('upper 99% level')\n",
    "\n",
    "# cut log norm\n",
    "fig, ax = plt.subplots()\n",
    "c = ax.pcolormesh(x, y, np.rad2deg(defl_upper), norm=mpl.colors.LogNorm(vmin=1e-3, vmax=0.5))\n",
    "ax.set_yscale('log')\n",
    "ax.set_xscale('log')\n",
    "# ax.axis([x.min(), x.max(), y.min(), y.max()])\n",
    "cbar = fig.colorbar(c, ax=ax)\n",
    "cbar.ax.set_ylabel('median deflection in degree')\n",
    "plt.xlabel('final energy in GeV')\n",
    "plt.ylabel('propagation distance in m')\n",
    "plt.title('upper 99% level')"
   ]
  },
  {
   "cell_type": "markdown",
   "id": "004fe7ff-e089-42c0-a89b-b76a19b4da96",
   "metadata": {},
   "source": [
    "# with weighting, using E_i sampled"
   ]
  },
  {
   "cell_type": "code",
   "execution_count": 78,
   "id": "e2382318-3f64-4c91-8e77-7ef166f605b7",
   "metadata": {},
   "outputs": [
    {
     "data": {
      "text/html": [
       "<div>\n",
       "<style scoped>\n",
       "    .dataframe tbody tr th:only-of-type {\n",
       "        vertical-align: middle;\n",
       "    }\n",
       "\n",
       "    .dataframe tbody tr th {\n",
       "        vertical-align: top;\n",
       "    }\n",
       "\n",
       "    .dataframe thead th {\n",
       "        text-align: right;\n",
       "    }\n",
       "</style>\n",
       "<table border=\"1\" class=\"dataframe\">\n",
       "  <thead>\n",
       "    <tr style=\"text-align: right;\">\n",
       "      <th></th>\n",
       "      <th>E_i</th>\n",
       "      <th>E_f</th>\n",
       "      <th>distances</th>\n",
       "      <th>deflection</th>\n",
       "    </tr>\n",
       "  </thead>\n",
       "  <tbody>\n",
       "    <tr>\n",
       "      <th>0</th>\n",
       "      <td>1.468843e+10</td>\n",
       "      <td>3.350743e+06</td>\n",
       "      <td>2321.676391</td>\n",
       "      <td>7.076091e-07</td>\n",
       "    </tr>\n",
       "    <tr>\n",
       "      <th>1</th>\n",
       "      <td>7.999391e+11</td>\n",
       "      <td>1.345733e+01</td>\n",
       "      <td>30688.036450</td>\n",
       "      <td>8.668135e-03</td>\n",
       "    </tr>\n",
       "    <tr>\n",
       "      <th>2</th>\n",
       "      <td>1.081951e+10</td>\n",
       "      <td>2.631339e+02</td>\n",
       "      <td>30141.424501</td>\n",
       "      <td>2.287996e-03</td>\n",
       "    </tr>\n",
       "    <tr>\n",
       "      <th>3</th>\n",
       "      <td>5.180291e+12</td>\n",
       "      <td>5.679844e+01</td>\n",
       "      <td>33332.593291</td>\n",
       "      <td>3.096059e-03</td>\n",
       "    </tr>\n",
       "    <tr>\n",
       "      <th>4</th>\n",
       "      <td>1.701780e+10</td>\n",
       "      <td>2.092947e+06</td>\n",
       "      <td>191.498069</td>\n",
       "      <td>9.064022e-08</td>\n",
       "    </tr>\n",
       "    <tr>\n",
       "      <th>...</th>\n",
       "      <td>...</td>\n",
       "      <td>...</td>\n",
       "      <td>...</td>\n",
       "      <td>...</td>\n",
       "    </tr>\n",
       "    <tr>\n",
       "      <th>50365</th>\n",
       "      <td>3.967944e+12</td>\n",
       "      <td>1.030573e+04</td>\n",
       "      <td>23403.792146</td>\n",
       "      <td>5.752683e-05</td>\n",
       "    </tr>\n",
       "    <tr>\n",
       "      <th>50366</th>\n",
       "      <td>1.838565e+11</td>\n",
       "      <td>7.500287e+03</td>\n",
       "      <td>14959.602454</td>\n",
       "      <td>2.024798e-04</td>\n",
       "    </tr>\n",
       "    <tr>\n",
       "      <th>50367</th>\n",
       "      <td>1.724877e+11</td>\n",
       "      <td>5.904873e+05</td>\n",
       "      <td>10608.348155</td>\n",
       "      <td>6.071195e-07</td>\n",
       "    </tr>\n",
       "    <tr>\n",
       "      <th>50368</th>\n",
       "      <td>1.320067e+06</td>\n",
       "      <td>3.792329e+02</td>\n",
       "      <td>2132.953234</td>\n",
       "      <td>8.660839e-04</td>\n",
       "    </tr>\n",
       "    <tr>\n",
       "      <th>50369</th>\n",
       "      <td>5.716423e+05</td>\n",
       "      <td>5.642777e+02</td>\n",
       "      <td>23.613866</td>\n",
       "      <td>3.272748e-04</td>\n",
       "    </tr>\n",
       "  </tbody>\n",
       "</table>\n",
       "<p>50370 rows × 4 columns</p>\n",
       "</div>"
      ],
      "text/plain": [
       "                E_i           E_f     distances    deflection\n",
       "0      1.468843e+10  3.350743e+06   2321.676391  7.076091e-07\n",
       "1      7.999391e+11  1.345733e+01  30688.036450  8.668135e-03\n",
       "2      1.081951e+10  2.631339e+02  30141.424501  2.287996e-03\n",
       "3      5.180291e+12  5.679844e+01  33332.593291  3.096059e-03\n",
       "4      1.701780e+10  2.092947e+06    191.498069  9.064022e-08\n",
       "...             ...           ...           ...           ...\n",
       "50365  3.967944e+12  1.030573e+04  23403.792146  5.752683e-05\n",
       "50366  1.838565e+11  7.500287e+03  14959.602454  2.024798e-04\n",
       "50367  1.724877e+11  5.904873e+05  10608.348155  6.071195e-07\n",
       "50368  1.320067e+06  3.792329e+02   2132.953234  8.660839e-04\n",
       "50369  5.716423e+05  5.642777e+02     23.613866  3.272748e-04\n",
       "\n",
       "[50370 rows x 4 columns]"
      ]
     },
     "execution_count": 78,
     "metadata": {},
     "output_type": "execute_result"
    }
   ],
   "source": [
    "df_dict['df_04']"
   ]
  },
  {
   "cell_type": "code",
   "execution_count": 79,
   "id": "fc0dfc93-7aa8-4a03-a8d0-54d60efbcd90",
   "metadata": {},
   "outputs": [
    {
     "data": {
      "text/plain": [
       "Text(0.5, 1.0, 'all events')"
      ]
     },
     "execution_count": 79,
     "metadata": {},
     "output_type": "execute_result"
    },
    {
     "data": {
      "image/png": "[encoded data removed]",
      "text/plain": [
       "<Figure size 432x288 with 2 Axes>"
      ]
     },
     "metadata": {
      "needs_background": "light"
     },
     "output_type": "display_data"
    }
   ],
   "source": [
    "key = 'df_04'\n",
    "\n",
    "weighting = 3.7\n",
    "weights = (1/df_dict[key].E_i**weighting)\n",
    "\n",
    "# through-going events\n",
    "bins = (np.logspace(-2, 10, 30), np.logspace(-8, 3, 30))\n",
    "plt.hist2d(df_dict[key].E_f, np.rad2deg(df_dict[key].deflection), bins=bins, weights=weights, norm=mpl.colors.LogNorm())\n",
    "plt.xscale('log')\n",
    "plt.yscale('log')\n",
    "plt.xlabel('energy in GeV')\n",
    "plt.ylabel('deflection in degree')\n",
    "cbar = plt.colorbar()\n",
    "cbar.ax.set_ylabel('muon flux in arbitrary units')\n",
    "plt.title('all events')"
   ]
  },
  {
   "cell_type": "code",
   "execution_count": 80,
   "id": "0e31e30a-763b-4f80-abfd-027e971f95d0",
   "metadata": {},
   "outputs": [
    {
     "data": {
      "text/plain": [
       "Text(0.5, 1.0, 'through-going events')"
      ]
     },
     "execution_count": 80,
     "metadata": {},
     "output_type": "execute_result"
    },
    {
     "data": {
      "image/png": "[encoded data removed]",
      "text/plain": [
       "<Figure size 432x288 with 2 Axes>"
      ]
     },
     "metadata": {
      "needs_background": "light"
     },
     "output_type": "display_data"
    }
   ],
   "source": [
    "key = 'df_04'\n",
    "\n",
    "weighting = 3.7\n",
    "weights = (1/df_dict[key].E_i**weighting)\n",
    "\n",
    "# through-going events\n",
    "bins = (np.logspace(-2, 10, 30), np.logspace(-8, 3, 30))\n",
    "plt.hist2d(df_dict[key].E_f[df_dict[key].distances>2450.0], np.rad2deg(df_dict[key].deflection[df_dict[key].distances>2450.0]), bins=bins, weights=weights[df_dict[key].distances>2450.0], norm=mpl.colors.LogNorm())\n",
    "plt.xscale('log')\n",
    "plt.yscale('log')\n",
    "plt.xlabel('energy in GeV')\n",
    "plt.ylabel('deflection in degree')\n",
    "cbar = plt.colorbar()\n",
    "cbar.ax.set_ylabel('muon flux in arbitrary units')\n",
    "plt.title('through-going events')"
   ]
  },
  {
   "cell_type": "code",
   "execution_count": 81,
   "id": "4609d9ea-da22-4c3c-b6d6-3cefcdabd0d7",
   "metadata": {},
   "outputs": [
    {
     "data": {
      "text/plain": [
       "Text(0.5, 1.0, 'all events')"
      ]
     },
     "execution_count": 81,
     "metadata": {},
     "output_type": "execute_result"
    },
    {
     "data": {
      "image/png": "[encoded data removed]",
      "text/plain": [
       "<Figure size 432x288 with 2 Axes>"
      ]
     },
     "metadata": {
      "needs_background": "light"
     },
     "output_type": "display_data"
    }
   ],
   "source": [
    "key = 'df_04'\n",
    "\n",
    "weighting = 3.7\n",
    "weights = (1/df_dict[key].E_i**weighting)\n",
    "\n",
    "# through-going events\n",
    "bins = (np.logspace(-2, 10, 20), np.logspace(0, 5, 20))\n",
    "plt.hist2d(df_dict[key].E_f, df_dict[key].distances, bins=bins, weights=weights, norm=mpl.colors.LogNorm())\n",
    "plt.xscale('log')\n",
    "plt.yscale('log')\n",
    "plt.xlabel('final muon energy in GeV')\n",
    "plt.ylabel('propagation distance in meter')\n",
    "cbar = plt.colorbar()\n",
    "cbar.ax.set_ylabel('muon flux in arbitrary units')\n",
    "plt.title('all events')"
   ]
  },
  {
   "cell_type": "markdown",
   "id": "7825327f-0a5d-44a5-8fe9-88cd44ee0e6a",
   "metadata": {},
   "source": [
    "# below is trash"
   ]
  },
  {
   "cell_type": "code",
   "execution_count": 21,
   "id": "e0e4c7e9-64dc-45e4-9684-bef98dcf9cd7",
   "metadata": {},
   "outputs": [
    {
     "data": {
      "text/plain": [
       "Text(0, 0.5, 'propagation distance in m')"
      ]
     },
     "execution_count": 21,
     "metadata": {},
     "output_type": "execute_result"
    },
    {
     "data": {
      "image/png": "[encoded data removed]",
      "text/plain": [
       "<Figure size 432x288 with 2 Axes>"
      ]
     },
     "metadata": {
      "needs_background": "light"
     },
     "output_type": "display_data"
    }
   ],
   "source": [
    "key = 'df_03'\n",
    "\n",
    "weighting = 3.7\n",
    "weights = (1/df_dict[key].E_i**weighting)# [E_i_sampled_energies>E_f_sampled_energies]\n",
    "\n",
    "bins = (np.logspace(0, 10, 10), np.logspace(1, 5, 10))\n",
    "n = plt.hist2d(df_dict[key].E_f, df_dict[key].distances, bins=bins, weights=weights, norm=mpl.colors.LogNorm()) \n",
    "plt.xscale('log')\n",
    "plt.yscale('log')\n",
    "cbar = plt.colorbar()\n",
    "cbar.ax.set_ylabel('weighted counts')\n",
    "plt.xlabel('final energy in GeV')\n",
    "plt.ylabel('propagation distance in m')"
   ]
  },
  {
   "cell_type": "code",
   "execution_count": 22,
   "id": "670f8087-024b-49df-857a-27e1c600248a",
   "metadata": {},
   "outputs": [
    {
     "name": "stdout",
     "output_type": "stream",
     "text": [
      "10 10\n",
      "9\n",
      "(9, 9)\n"
     ]
    },
    {
     "data": {
      "text/plain": [
       "Text(0, 0.5, 'propagation distance in m')"
      ]
     },
     "execution_count": 22,
     "metadata": {},
     "output_type": "execute_result"
    },
    {
     "data": {
      "image/png": "[encoded data removed]",
      "text/plain": [
       "<Figure size 432x288 with 2 Axes>"
      ]
     },
     "metadata": {
      "needs_background": "light"
     },
     "output_type": "display_data"
    }
   ],
   "source": [
    "x, y = np.meshgrid(n[1], n[2])\n",
    "print(len(x), len(y))\n",
    "z = n[0] \n",
    "print(len(z))\n",
    "print(np.shape(z))\n",
    "\n",
    "fig, ax = plt.subplots()\n",
    "\n",
    "# c = ax.pcolormesh(x, y, z)\n",
    "c = ax.pcolormesh(x.T, y.T, z, norm=mpl.colors.LogNorm())\n",
    "ax.set_yscale('log')\n",
    "ax.set_xscale('log')\n",
    "ax.axis([x.min(), x.max(), y.min(), y.max()])\n",
    "cbar = fig.colorbar(c, ax=ax)\n",
    "cbar.ax.set_ylabel('weighted counts')\n",
    "plt.xlabel('final energy in GeV')\n",
    "plt.ylabel('propagation distance in m')"
   ]
  },
  {
   "cell_type": "code",
   "execution_count": 23,
   "id": "9e9f3c4e-851c-4e3b-9c13-ebe9b18ed214",
   "metadata": {},
   "outputs": [],
   "source": [
    "x_uni = np.unique(x)\n",
    "y_uni = np.unique(y)"
   ]
  },
  {
   "cell_type": "code",
   "execution_count": 24,
   "id": "ec88f7ae-08d1-40e9-9156-14ec125b6fae",
   "metadata": {},
   "outputs": [
    {
     "data": {
      "text/plain": [
       "Text(0, 0.5, 'propagation distance in m')"
      ]
     },
     "execution_count": 24,
     "metadata": {},
     "output_type": "execute_result"
    },
    {
     "data": {
      "image/png": "[encoded data removed]",
      "text/plain": [
       "<Figure size 432x288 with 2 Axes>"
      ]
     },
     "metadata": {
      "needs_background": "light"
     },
     "output_type": "display_data"
    }
   ],
   "source": [
    "defl = []\n",
    "test = []\n",
    "for i_y in range(len(y_uni)-1):\n",
    "    defl_per_y = []\n",
    "    test_y = []\n",
    "    for i_x in range(len(x_uni)-1):\n",
    "        d = df_dict[key].deflection[(df_dict[key].E_f >= x_uni[i_x]) & (df_dict[key].E_f < x_uni[i_x+1])\n",
    "                                  & (df_dict[key].distances >= y_uni[i_y]) & (df_dict[key].distances < y_uni[i_y+1])].values\n",
    "        if len(d) != 0:\n",
    "            defl_per_y.append(np.median(np.abs(d)))\n",
    "            test_y.append(len(d))\n",
    "        else:\n",
    "            defl_per_y.append(0)\n",
    "            test_y.append(0)\n",
    "            \n",
    "    defl.append(defl_per_y)\n",
    "    test.append(test_y)\n",
    "    \n",
    "fig, ax = plt.subplots()\n",
    "c = ax.pcolormesh(x, y, test) \n",
    "# c = ax.pcolormesh(x, y, defl, norm=mpl.colors.LogNorm())\n",
    "ax.set_yscale('log')\n",
    "ax.set_xscale('log')\n",
    "# ax.axis([x.min(), x.max(), y.min(), y.max()])\n",
    "cbar = fig.colorbar(c, ax=ax)\n",
    "cbar.ax.set_ylabel('median deflection in degree')\n",
    "plt.xlabel('final energy in GeV')\n",
    "plt.ylabel('propagation distance in m')"
   ]
  },
  {
   "cell_type": "code",
   "execution_count": null,
   "id": "08fe6ad1-e668-42a4-8b64-b7829c492636",
   "metadata": {},
   "outputs": [],
   "source": []
  }
 ],
 "metadata": {
  "kernelspec": {
   "display_name": "Python 3",
   "language": "python",
   "name": "python3"
  },
  "language_info": {
   "codemirror_mode": {
    "name": "ipython",
    "version": 3
   },
   "file_extension": ".py",
   "mimetype": "text/x-python",
   "name": "python",
   "nbconvert_exporter": "python",
   "pygments_lexer": "ipython3",
   "version": "3.6.8"
  }
 },
 "nbformat": 4,
 "nbformat_minor": 5
}
