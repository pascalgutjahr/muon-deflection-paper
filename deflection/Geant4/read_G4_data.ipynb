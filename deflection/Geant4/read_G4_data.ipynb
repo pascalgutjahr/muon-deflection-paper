{
 "cells": [
  {
   "cell_type": "code",
   "execution_count": 1,
   "id": "2186c4ca-283a-4dde-aab8-b7aa08f13bb2",
   "metadata": {},
   "outputs": [],
   "source": [
    "import numpy as np\n",
    "import pandas as pd\n",
    "import matplotlib.pyplot as plt"
   ]
  },
  {
   "cell_type": "code",
   "execution_count": 29,
   "id": "4447332d-ea6b-4582-87d1-1150736b872d",
   "metadata": {},
   "outputs": [
    {
     "data": {
      "text/html": [
       "<div>\n",
       "<style scoped>\n",
       "    .dataframe tbody tr th:only-of-type {\n",
       "        vertical-align: middle;\n",
       "    }\n",
       "\n",
       "    .dataframe tbody tr th {\n",
       "        vertical-align: top;\n",
       "    }\n",
       "\n",
       "    .dataframe thead th {\n",
       "        text-align: right;\n",
       "    }\n",
       "</style>\n",
       "<table border=\"1\" class=\"dataframe\">\n",
       "  <thead>\n",
       "    <tr style=\"text-align: right;\">\n",
       "      <th></th>\n",
       "      <th>x</th>\n",
       "      <th>y</th>\n",
       "      <th>z</th>\n",
       "      <th>TrackLength</th>\n",
       "      <th>TrackID</th>\n",
       "      <th>ParentID</th>\n",
       "    </tr>\n",
       "  </thead>\n",
       "  <tbody>\n",
       "    <tr>\n",
       "      <th>0</th>\n",
       "      <td>0.000000</td>\n",
       "      <td>0.000000</td>\n",
       "      <td>14.40000</td>\n",
       "      <td>14.40000</td>\n",
       "      <td>1</td>\n",
       "      <td>0</td>\n",
       "    </tr>\n",
       "    <tr>\n",
       "      <th>1</th>\n",
       "      <td>0.000000</td>\n",
       "      <td>0.000000</td>\n",
       "      <td>12.17580</td>\n",
       "      <td>12.17580</td>\n",
       "      <td>1</td>\n",
       "      <td>0</td>\n",
       "    </tr>\n",
       "    <tr>\n",
       "      <th>2</th>\n",
       "      <td>0.000000</td>\n",
       "      <td>0.000000</td>\n",
       "      <td>13.19170</td>\n",
       "      <td>13.19180</td>\n",
       "      <td>1</td>\n",
       "      <td>0</td>\n",
       "    </tr>\n",
       "    <tr>\n",
       "      <th>3</th>\n",
       "      <td>0.000000</td>\n",
       "      <td>0.000000</td>\n",
       "      <td>5.09733</td>\n",
       "      <td>5.09733</td>\n",
       "      <td>1</td>\n",
       "      <td>0</td>\n",
       "    </tr>\n",
       "    <tr>\n",
       "      <th>4</th>\n",
       "      <td>0.036854</td>\n",
       "      <td>0.001895</td>\n",
       "      <td>50.00000</td>\n",
       "      <td>50.00000</td>\n",
       "      <td>1</td>\n",
       "      <td>0</td>\n",
       "    </tr>\n",
       "    <tr>\n",
       "      <th>...</th>\n",
       "      <td>...</td>\n",
       "      <td>...</td>\n",
       "      <td>...</td>\n",
       "      <td>...</td>\n",
       "      <td>...</td>\n",
       "      <td>...</td>\n",
       "    </tr>\n",
       "    <tr>\n",
       "      <th>165581</th>\n",
       "      <td>-0.006229</td>\n",
       "      <td>0.002079</td>\n",
       "      <td>14.40000</td>\n",
       "      <td>14.40000</td>\n",
       "      <td>1</td>\n",
       "      <td>0</td>\n",
       "    </tr>\n",
       "    <tr>\n",
       "      <th>165582</th>\n",
       "      <td>-0.012686</td>\n",
       "      <td>0.020027</td>\n",
       "      <td>21.67920</td>\n",
       "      <td>21.67930</td>\n",
       "      <td>1</td>\n",
       "      <td>0</td>\n",
       "    </tr>\n",
       "    <tr>\n",
       "      <th>165583</th>\n",
       "      <td>-0.025483</td>\n",
       "      <td>0.053109</td>\n",
       "      <td>36.83220</td>\n",
       "      <td>36.83220</td>\n",
       "      <td>1</td>\n",
       "      <td>0</td>\n",
       "    </tr>\n",
       "    <tr>\n",
       "      <th>165584</th>\n",
       "      <td>-0.027694</td>\n",
       "      <td>0.086862</td>\n",
       "      <td>50.00000</td>\n",
       "      <td>50.00010</td>\n",
       "      <td>1</td>\n",
       "      <td>0</td>\n",
       "    </tr>\n",
       "    <tr>\n",
       "      <th>165585</th>\n",
       "      <td>-0.028073</td>\n",
       "      <td>0.117012</td>\n",
       "      <td>60.00000</td>\n",
       "      <td>60.00020</td>\n",
       "      <td>1</td>\n",
       "      <td>0</td>\n",
       "    </tr>\n",
       "  </tbody>\n",
       "</table>\n",
       "<p>165586 rows × 6 columns</p>\n",
       "</div>"
      ],
      "text/plain": [
       "               x         y         z  TrackLength  TrackID  ParentID\n",
       "0       0.000000  0.000000  14.40000     14.40000        1         0\n",
       "1       0.000000  0.000000  12.17580     12.17580        1         0\n",
       "2       0.000000  0.000000  13.19170     13.19180        1         0\n",
       "3       0.000000  0.000000   5.09733      5.09733        1         0\n",
       "4       0.036854  0.001895  50.00000     50.00000        1         0\n",
       "...          ...       ...       ...          ...      ...       ...\n",
       "165581 -0.006229  0.002079  14.40000     14.40000        1         0\n",
       "165582 -0.012686  0.020027  21.67920     21.67930        1         0\n",
       "165583 -0.025483  0.053109  36.83220     36.83220        1         0\n",
       "165584 -0.027694  0.086862  50.00000     50.00010        1         0\n",
       "165585 -0.028073  0.117012  60.00000     60.00020        1         0\n",
       "\n",
       "[165586 rows x 6 columns]"
      ]
     },
     "execution_count": 29,
     "metadata": {},
     "output_type": "execute_result"
    }
   ],
   "source": [
    "data = pd.read_csv('deflection-build/data.txt', sep=r'\\s*,\\s*', engine='python')\n",
    "data"
   ]
  },
  {
   "cell_type": "code",
   "execution_count": 30,
   "id": "24baf74e-9a86-40f1-aeae-df9adc9d5fcb",
   "metadata": {},
   "outputs": [
    {
     "data": {
      "text/plain": [
       "Index(['x', 'y', 'z', 'TrackLength', 'TrackID', 'ParentID'], dtype='object')"
      ]
     },
     "execution_count": 30,
     "metadata": {},
     "output_type": "execute_result"
    }
   ],
   "source": [
    "data.keys()"
   ]
  },
  {
   "cell_type": "code",
   "execution_count": 38,
   "id": "df75f929-bfe4-4996-a923-075d65f56a3d",
   "metadata": {},
   "outputs": [
    {
     "name": "stdout",
     "output_type": "stream",
     "text": [
      "total events:  31125.0\n"
     ]
    },
    {
     "data": {
      "image/png": "[encoded data removed]",
      "text/plain": [
       "<Figure size 640x480 with 1 Axes>"
      ]
     },
     "metadata": {},
     "output_type": "display_data"
    }
   ],
   "source": [
    "bins = np.linspace(-0.25, 0.25, 100)\n",
    "n = plt.hist(data['x'][data.z==14.4], bins=bins, histtype='step', label='x')\n",
    "n = plt.hist(data['y'][data.z==14.4], bins=bins, histtype='step', label='y')\n",
    "plt.yscale('log')\n",
    "plt.ylabel('Counts')\n",
    "plt.xlabel('lateral displacement in mm')\n",
    "plt.legend()\n",
    "\n",
    "\n",
    "print('total events: ', np.sum(n[0]))"
   ]
  },
  {
   "cell_type": "code",
   "execution_count": 40,
   "id": "81df2cc5-11d2-4d2b-b574-8fe175f9401f",
   "metadata": {},
   "outputs": [
    {
     "data": {
      "text/plain": [
       "0         0.000000\n",
       "1         0.000000\n",
       "2         0.000000\n",
       "3         0.000000\n",
       "4         0.042232\n",
       "            ...   \n",
       "165581   -0.024784\n",
       "165582   -0.033527\n",
       "165583   -0.039641\n",
       "165584   -0.031735\n",
       "165585   -0.026808\n",
       "Length: 165586, dtype: float64"
      ]
     },
     "execution_count": 40,
     "metadata": {},
     "output_type": "execute_result"
    }
   ],
   "source": [
    "theta_x = np.rad2deg(np.arctan(data.x / data.z))\n",
    "theta_y = np.rad2deg(np.arctan(data.y / data.z))\n",
    "theta_x"
   ]
  },
  {
   "cell_type": "code",
   "execution_count": 42,
   "id": "0e569949-8199-417a-a2f8-f2c7b9d71d72",
   "metadata": {},
   "outputs": [
    {
     "name": "stdout",
     "output_type": "stream",
     "text": [
      "total events:  31125.0\n"
     ]
    },
    {
     "data": {
      "image/png": "[encoded data removed]",
      "text/plain": [
       "<Figure size 640x480 with 1 Axes>"
      ]
     },
     "metadata": {},
     "output_type": "display_data"
    }
   ],
   "source": [
    "bins = np.linspace(-1, 1, 100)\n",
    "n = plt.hist(theta_x[data.z==14.4], bins=bins, histtype='step', label='x')\n",
    "n = plt.hist(theta_y[data.z==14.4], bins=bins, histtype='step', label='y')\n",
    "plt.yscale('log')\n",
    "plt.ylabel('Counts')\n",
    "plt.xlabel('projected deflection angle in degree')\n",
    "plt.legend()\n",
    "\n",
    "\n",
    "print('total events: ', np.sum(n[0]))"
   ]
  },
  {
   "cell_type": "code",
   "execution_count": null,
   "id": "b155b081-ae4d-4bfc-866b-851922016d9d",
   "metadata": {},
   "outputs": [],
   "source": []
  }
 ],
 "metadata": {
  "kernelspec": {
   "display_name": "Python 3",
   "language": "python",
   "name": "python3"
  },
  "language_info": {
   "codemirror_mode": {
    "name": "ipython",
    "version": 3
   },
   "file_extension": ".py",
   "mimetype": "text/x-python",
   "name": "python",
   "nbconvert_exporter": "python",
   "pygments_lexer": "ipython3",
   "version": "3.6.8"
  }
 },
 "nbformat": 4,
 "nbformat_minor": 5
}
