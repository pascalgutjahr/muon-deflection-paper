{
 "cells": [
  {
   "cell_type": "code",
   "execution_count": 1,
   "id": "93bc3ba3-8644-46ef-af47-dd7ff703270c",
   "metadata": {},
   "outputs": [],
   "source": [
    "import proposal as pp\n",
    "import numpy as np\n",
    "from tqdm import tqdm\n",
    "import matplotlib as mpl\n",
    "import matplotlib.pyplot as plt\n",
    "import pandas as pd\n",
    "from helper_functions_multi import get_angle_deviation\n",
    "import os"
   ]
  },
  {
   "cell_type": "code",
   "execution_count": 2,
   "id": "b12d6aa8-8c2b-4ea5-8763-4aff20cd162b",
   "metadata": {},
   "outputs": [
    {
     "data": {
      "text/plain": [
       "0"
      ]
     },
     "execution_count": 2,
     "metadata": {},
     "output_type": "execute_result"
    }
   ],
   "source": [
    "data_dir = 'data/akimenko/'\n",
    "os.system('mkdir -p {}'.format(data_dir))\n",
    "\n",
    "plot_dir = 'plots/akimenko/'\n",
    "os.system('mkdir -p {}'.format(plot_dir))"
   ]
  },
  {
   "cell_type": "code",
   "execution_count": 63,
   "id": "b5af9319-b236-4731-b810-e5ae7cba37af",
   "metadata": {},
   "outputs": [
    {
     "name": "stdout",
     "output_type": "stream",
     "text": [
      "energy E = 7301.0 MeV\n"
     ]
    }
   ],
   "source": [
    "momentum = 7.3e3 # GeV/c , \n",
    "m = 105.7 # MeV\n",
    "E = np.round(np.sqrt(momentum**2 + m**2))\n",
    "print('energy E = {} MeV'.format(E) )\n",
    "\n",
    "\n",
    "E_i = E # momentum # 1e9 # 1 PeV \n",
    "E_f = 1e1 # 1e5 # 100 GeV\n",
    "n_events = 31125 # total measured events in akimenko\n",
    "    \n",
    "deflection = [\n",
    "    'bremsginneken', # 'bremstsaiapproximation', \n",
    "    'ioniznaive',\n",
    "    'photoginneken', # 'photoborogpetrukhin',\n",
    "    'epairginneken'] ### same as default\n",
    "    \n",
    "e_cut = np.inf # 1e10\n",
    "v_cut = 1e-3 # 1e-5\n",
    "cont_rand = False\n",
    "scattering_method = \"moliere\" # \"highland\"\n",
    "# deflection_type = \"m_scat+stochastic\"\n",
    "  \n",
    "# table_path = \"/Users/pascalgutjahr/.cache/PROPOSAL\" # macbook pro\n",
    "table_path = \"/net/nfshome/home/pgutjahr/.cache/PROPOSAL\" # vollmond\n",
    "    \n",
    "rnd_seed = 71530\n",
    "\n",
    "interpol_nodes = 200\n",
    "\n",
    "initial_direction = [0, 0, 1]\n",
    "\n",
    "beta_brems = 1.0\n",
    "beta_ioniz = 1.0\n",
    "beta_epair = 1.0\n",
    "beta_multiplescatter = 1.0\n",
    "beta_photonuclear = 1.0\n",
    "\n",
    "max_dist = 1.44 # in cm"
   ]
  },
  {
   "cell_type": "code",
   "execution_count": 64,
   "id": "120c08d2-6a17-4e97-868a-417df8624441",
   "metadata": {},
   "outputs": [],
   "source": [
    "pp.InterpolationSettings.tables_path = table_path   # version 7\n",
    "    \n",
    "pp.InterpolationSettings.nodes_dndx_e = interpol_nodes\n",
    "pp.InterpolationSettings.nodes_dndx_v = interpol_nodes\n",
    "\n",
    "pp.RandomGenerator.get().set_seed(rnd_seed)\n",
    "args = {\n",
    "        \"particle_def\": pp.particle.MuMinusDef(),\n",
    "        \"target\": pp.medium.Copper(),\n",
    "        \"interpolate\": True,\n",
    "        \"cuts\": pp.EnergyCutSettings(e_cut, v_cut, cont_rand)\n",
    "        }\n",
    "\n",
    "cross = pp.crosssection.make_std_crosssection(**args)\n",
    "multiple_scatter = pp.make_multiple_scattering(scattering_method, args[\"particle_def\"], args[\"target\"], cross, True)\n",
    "\n",
    "stochastic_deflect = []\n",
    "for d in deflection:\n",
    "    stochastic_deflect.append(pp.make_stochastic_deflection(d, \n",
    "    args[\"particle_def\"], args[\"target\"]))\n",
    "\n",
    "\n",
    "collection = pp.PropagationUtilityCollection()\n",
    "collection.displacement = pp.make_displacement(cross, True)\n",
    "collection.interaction = pp.make_interaction(cross, True)\n",
    "collection.time = pp.make_time(cross, args[\"particle_def\"], True)\n",
    "collection.decay = pp.make_decay(cross, args[\"particle_def\"], True)\n",
    "\n",
    "\n",
    "# collection.scattering = pp.scattering.ScatteringMultiplier(multiple_scatter, beta_multiplescatter)\n",
    "# '''\n",
    "collection.scattering = pp.scattering.ScatteringMultiplier(\n",
    "    multiple_scatter, \n",
    "    stochastic_deflect, \n",
    "    beta_multiplescatter, \n",
    "    [(pp.particle.Interaction_Type.brems, beta_brems), (pp.particle.Interaction_Type.ioniz, beta_ioniz), \n",
    "    (pp.particle.Interaction_Type.epair, beta_epair), (pp.particle.Interaction_Type.photonuclear, beta_photonuclear)])\n",
    "# '''\n",
    "\n",
    "utility = pp.PropagationUtility(collection = collection)\n",
    "detector = pp.geometry.Sphere(pp.Cartesian3D(0,0,0), 1e20) # version 7\n",
    "density_distr = pp.density_distribution.density_homogeneous(args[\"target\"].mass_density)\n",
    "\n",
    "\n",
    "prop = pp.Propagator(args[\"particle_def\"], [(detector, utility, density_distr)])\n",
    "\n",
    "init_state = pp.particle.ParticleState()\n",
    "init_state.position = pp.Cartesian3D(0, 0, 0) # version 7\n",
    "init_state.direction = pp.Cartesian3D(initial_direction[0], initial_direction[1], initial_direction[2]) # version 7"
   ]
  },
  {
   "cell_type": "markdown",
   "id": "e211407c-8c7c-4af7-88a4-c426f5549097",
   "metadata": {},
   "source": [
    "# Run simulation"
   ]
  },
  {
   "cell_type": "code",
   "execution_count": 65,
   "id": "3659b805-ab88-4161-8260-88f5af28ada5",
   "metadata": {},
   "outputs": [
    {
     "name": "stderr",
     "output_type": "stream",
     "text": [
      "100%|██████████| 31125/31125 [00:01<00:00, 24500.02it/s]\n"
     ]
    }
   ],
   "source": [
    "tracks = []\n",
    "for i in tqdm(range(n_events)):\n",
    "    init_state.energy = E_i # initial energy in MeV\n",
    "    track = prop.propagate(init_state, max_distance = max_dist, min_energy = E_f) # max_dist=1e9\n",
    "    tracks.append(track)"
   ]
  },
  {
   "cell_type": "code",
   "execution_count": 66,
   "id": "11c66a00-90c7-43b3-8fec-c10b77aaf512",
   "metadata": {},
   "outputs": [],
   "source": [
    "tracks_144 = []\n",
    "for track in tracks:\n",
    "    if track.track_propagated_distances()[-1] == max_dist:\n",
    "        tracks_144.append(track)"
   ]
  },
  {
   "cell_type": "code",
   "execution_count": 67,
   "id": "eece718e-51a7-4907-9de4-e85210f1929f",
   "metadata": {},
   "outputs": [
    {
     "name": "stderr",
     "output_type": "stream",
     "text": [
      "100%|██████████| 31125/31125 [00:00<00:00, 42710.96it/s]\n"
     ]
    }
   ],
   "source": [
    "tracks_144_zenith = []\n",
    "tracks_144_azimuth = []\n",
    "tracks_144_x = []\n",
    "tracks_144_y = []\n",
    "tracks_144_z = []\n",
    "tracks_144_pos_x = []\n",
    "tracks_144_pos_y = []\n",
    "tracks_144_pos_z = []\n",
    "for track in tqdm(tracks_144):\n",
    "    tracks_144_zenith.append(track.track_directions()[-1].spherical_coordinates[2])\n",
    "    tracks_144_azimuth.append(track.track_directions()[-1].spherical_coordinates[1])\n",
    "    tracks_144_x.append(track.track_directions()[-1].x)\n",
    "    tracks_144_y.append(track.track_directions()[-1].y)\n",
    "    tracks_144_z.append(track.track_directions()[-1].z)\n",
    "    tracks_144_pos_x.append(track.track_positions()[-1].x)\n",
    "    tracks_144_pos_y.append(track.track_positions()[-1].y)\n",
    "    tracks_144_pos_z.append(track.track_positions()[-1].z)"
   ]
  },
  {
   "cell_type": "code",
   "execution_count": 68,
   "id": "c3054516-f7a6-4a96-9262-60abd61fcefd",
   "metadata": {},
   "outputs": [
    {
     "data": {
      "text/plain": [
       "<matplotlib.legend.Legend at 0x7f3fdfd49978>"
      ]
     },
     "execution_count": 68,
     "metadata": {},
     "output_type": "execute_result"
    },
    {
     "data": {
      "image/png": "[encoded data removed]",
      "text/plain": [
       "<Figure size 432x288 with 1 Axes>"
      ]
     },
     "metadata": {
      "needs_background": "light"
     },
     "output_type": "display_data"
    }
   ],
   "source": [
    "bins = np.linspace(-np.pi, np.pi, 50)\n",
    "plt.hist(tracks_144_azimuth, bins=bins, histtype='step', label='azimuth')\n",
    "plt.hist(tracks_144_zenith, bins=bins, histtype='step', label='zenith')\n",
    "plt.xlabel('angle in rad')\n",
    "plt.yscale('log')\n",
    "plt.legend()"
   ]
  },
  {
   "cell_type": "code",
   "execution_count": 47,
   "id": "0a922460-692d-40d2-8a69-6503195f08be",
   "metadata": {},
   "outputs": [],
   "source": [
    "# reproduziere den plot von attwood -> irgendwie muss der winkel noch berücksichtigt werden, wie?\n",
    "# lese schon mal die daten von attwood ein und erzeuge dann einen auf 100% normierten bar plot"
   ]
  },
  {
   "cell_type": "code",
   "execution_count": 48,
   "id": "19a7b72b-1462-4c0f-ab88-dc34340c6b68",
   "metadata": {},
   "outputs": [
    {
     "name": "stdout",
     "output_type": "stream",
     "text": [
      "total counts akimenko:  31129.540066072026\n"
     ]
    }
   ],
   "source": [
    "# read in unfoled data of Attwood, angle in rad and probability in percent\n",
    "Akimenko = pd.read_csv('data/akimenko/Akimenko_data.csv', sep=';', decimal=',', names=['angle', 'probability']) \n",
    "print('total counts akimenko: ', np.sum(Akimenko.probability))"
   ]
  },
  {
   "cell_type": "code",
   "execution_count": 49,
   "id": "42bd79a0-629c-42ae-9dc4-6310b31c3f6e",
   "metadata": {},
   "outputs": [
    {
     "data": {
      "text/plain": [
       "15840.0"
      ]
     },
     "execution_count": 49,
     "metadata": {},
     "output_type": "execute_result"
    },
    {
     "data": {
      "image/png": "[encoded data removed]",
      "text/plain": [
       "<Figure size 432x288 with 2 Axes>"
      ]
     },
     "metadata": {
      "needs_background": "light"
     },
     "output_type": "display_data"
    }
   ],
   "source": [
    "bins = (np.linspace(-0.1, 0.1, 50), np.linspace(-0.1, 0.1, 50))\n",
    "n = plt.hist2d(tracks_144_x, tracks_144_y, bins=bins, norm=mpl.colors.LogNorm(), cmap=mpl.cm.gray)\n",
    "plt.colorbar()\n",
    "np.max(n[0])"
   ]
  },
  {
   "cell_type": "markdown",
   "id": "daf5c1a5-fe4e-4704-a095-aff4195b86e4",
   "metadata": {},
   "source": [
    "## save data"
   ]
  },
  {
   "cell_type": "code",
   "execution_count": 69,
   "id": "4d51d3c7-bda2-4f5b-8bf2-3ee1394f4085",
   "metadata": {},
   "outputs": [
    {
     "name": "stdout",
     "output_type": "stream",
     "text": [
      "E7301_moliere_v_cut0.001\n"
     ]
    },
    {
     "name": "stderr",
     "output_type": "stream",
     "text": [
      "/home/pgutjahr/proposal_7_3_0/lib64/python3.6/site-packages/tables/path.py:137: NaturalNameWarning: object name is not a valid Python identifier: 'E7301_moliere_v_cut0.001'; it does not match the pattern ``^[a-zA-Z_][a-zA-Z0-9_]*$``; you will not be able to use natural naming to access this object; using ``getattr()`` will still work, though\n",
      "  check_attribute_name(name)\n"
     ]
    }
   ],
   "source": [
    "# '''\n",
    "df = pd.DataFrame()\n",
    "df['tracks_144_x'] = tracks_144_x\n",
    "df['tracks_144_y'] = tracks_144_y\n",
    "df['tracks_144_z'] = tracks_144_z\n",
    "df['tracks_144_pos_x'] = tracks_144_pos_x\n",
    "df['tracks_144_pos_y'] = tracks_144_pos_y\n",
    "df['tracks_144_pos_z'] = tracks_144_pos_z\n",
    "df['tracks_144_zenith'] = tracks_144_zenith\n",
    "df['tracks_144_azimuth'] = tracks_144_azimuth\n",
    "key = 'E{}_{}_v_cut{}'.format(int(E_i), scattering_method, v_cut)\n",
    "df.to_hdf(data_dir + 'sim_data.hdf5', key=key)\n",
    "print(key)\n",
    "# '''"
   ]
  },
  {
   "cell_type": "markdown",
   "id": "784a2693-92f3-4116-bf03-986dafb32315",
   "metadata": {},
   "source": [
    "## read data"
   ]
  },
  {
   "cell_type": "code",
   "execution_count": 70,
   "id": "c92e6b39-f4f5-43e0-8c99-3b4a653db8e1",
   "metadata": {},
   "outputs": [
    {
     "name": "stderr",
     "output_type": "stream",
     "text": [
      "/home/pgutjahr/proposal_7_3_0/lib64/python3.6/site-packages/tables/path.py:137: NaturalNameWarning: object name is not a valid Python identifier: 'E7301_moliere_v_cut1e-05'; it does not match the pattern ``^[a-zA-Z_][a-zA-Z0-9_]*$``; you will not be able to use natural naming to access this object; using ``getattr()`` will still work, though\n",
      "  check_attribute_name(name)\n"
     ]
    }
   ],
   "source": [
    "key_0 = 'E7301_moliere_v_cut0.001'\n",
    "df_0 = pd.read_hdf(data_dir + 'sim_data.hdf5', key=key_0)\n",
    "df_0.to_hdf(data_dir + 'sim_data.hdf5', key=key_0)\n",
    "\n",
    "# key_2 = 'E199_highland_v_cut0.001'\n",
    "# df_2 = pd.read_hdf(data_dir + 'sim_data.hdf5', key=key_2)\n",
    "# df_2.to_hdf(data_dir + 'sim_data.hdf5', key=key_2)\n",
    "\n",
    "key_5 = 'E7301_moliere_v_cut1e-05'\n",
    "df_5 = pd.read_hdf(data_dir + 'sim_data.hdf5', key=key_5)\n",
    "df_5.to_hdf(data_dir + 'sim_data.hdf5', key=key_5)\n",
    "\n",
    "# key_6 = 'E199_moliere_v_cut1e-05_G4defl'\n",
    "# df_6 = pd.read_hdf(data_dir + 'sim_data.hdf5', key=key_6) # not relevant because there are only ionizations -> hence the\n",
    "# deflection parametrization for brems and nuclint does not effect anything\n",
    "\n",
    "key_7 = 'E7301_only_moliere_v_cut1e-05'\n",
    "df_7 = pd.read_hdf(data_dir + 'sim_data.hdf5', key=key_7)"
   ]
  },
  {
   "cell_type": "markdown",
   "id": "5be14b96-3fd9-49d9-8297-e733656040e4",
   "metadata": {},
   "source": [
    "# Plot all "
   ]
  },
  {
   "cell_type": "code",
   "execution_count": 37,
   "id": "44026f4c-8833-48bd-b88e-aadd0fb9d052",
   "metadata": {},
   "outputs": [
    {
     "data": {
      "text/plain": [
       "[-0.020008250937143476,\n",
       " -0.015950487586244358,\n",
       " -0.011256689031346773,\n",
       " -0.007971423914815014,\n",
       " -0.007019408377247783,\n",
       " -0.006033064866626825,\n",
       " -0.004982173901233223,\n",
       " -0.003964762047047314,\n",
       " -0.003011558102895636,\n",
       " -0.002027455587548211,\n",
       " -0.000979790297169554,\n",
       " 2.614494485790597e-06,\n",
       " 0.0010479369261693905,\n",
       " 0.002060085836909878,\n",
       " 0.002990608192535451,\n",
       " 0.004034029173683928,\n",
       " 0.005026382626174825,\n",
       " 0.006019890530776345,\n",
       " 0.005776199272016078,\n",
       " 0.008976544249470319]"
      ]
     },
     "execution_count": 37,
     "metadata": {},
     "output_type": "execute_result"
    }
   ],
   "source": [
    "# binning = [Akimenko.angle[i] - abs(Akimenko.angle[i+1] - Akimenko.angle[i])/2 for i in range(len(Akimenko)-1)]\n",
    "# binning.append(Akimenko.angle.values[-1] - abs(Akimenko.angle.values[-1] - Akimenko.angle.values[-2])/2)\n",
    "# binning.append(Akimenko.angle.values[-1] + abs(Akimenko.angle.values[-1] - Akimenko.angle.values[-2])/2)\n",
    "# binning"
   ]
  },
  {
   "cell_type": "code",
   "execution_count": 52,
   "id": "fe4f2842-2f70-4119-a1fd-06ca961c71e0",
   "metadata": {},
   "outputs": [
    {
     "data": {
      "text/plain": [
       "[-0.020008250937143476,\n",
       " -0.015980774976910955,\n",
       " -0.01198358640734503,\n",
       " -0.00874358260444396,\n",
       " -0.007002634867170095,\n",
       " -0.00601707230944749,\n",
       " -0.0049987436844678625,\n",
       " -0.003980992285543539,\n",
       " -0.002996040908350081,\n",
       " -0.002011802575107294,\n",
       " -0.000996394034878034,\n",
       " 1.806378008366305e-05,\n",
       " 0.0010313671429347526,\n",
       " 0.0020435500081490768,\n",
       " 0.003022627261367962,\n",
       " 0.004017187754658556,\n",
       " 0.005026925897756291,\n",
       " 0.00602036589341012,\n",
       " 0.00701482452327919,\n",
       " 0.009248383767045149,\n",
       " 0.012992407779649051,\n",
       " 0.017008271309827787]"
      ]
     },
     "execution_count": 52,
     "metadata": {},
     "output_type": "execute_result"
    }
   ],
   "source": [
    "binning = [Akimenko.angle[0] - abs(Akimenko.angle[1] - Akimenko.angle[0])/2]\n",
    "binning_h = [Akimenko.angle[i] + abs(Akimenko.angle[i+1] - Akimenko.angle[i])/2 for i in range(len(Akimenko)-1)]\n",
    "for b in binning_h:\n",
    "    binning.append(b)\n",
    "binning.append(Akimenko.angle.values[-1] + abs(Akimenko.angle.values[-1] - Akimenko.angle.values[-2])/2 )\n",
    "binning"
   ]
  },
  {
   "cell_type": "code",
   "execution_count": 74,
   "id": "b5fec8b8-e922-46a2-890c-7cd348f3bd8d",
   "metadata": {},
   "outputs": [
    {
     "name": "stdout",
     "output_type": "stream",
     "text": [
      "moliere, E = 7301.0 MeV\n"
     ]
    },
    {
     "data": {
      "image/png": "[encoded data removed]",
      "text/plain": [
       "<Figure size 432x288 with 1 Axes>"
      ]
     },
     "metadata": {
      "needs_background": "light"
     },
     "output_type": "display_data"
    }
   ],
   "source": [
    "# plot y direction\n",
    "\n",
    "plt.plot(Akimenko.angle, Akimenko.probability, 'o', color='black', alpha=0.7, label='Akimenko')\n",
    "\n",
    "bins = binning\n",
    "plt.hist(df_0.tracks_144_y, bins=bins, histtype='step', label='PROPOSAL v = 1e-3')\n",
    "plt.hist(df_5.tracks_144_y, bins=bins, histtype='step', label='PROPOSAL v = 1e-5')\n",
    "plt.hist(df_7.tracks_144_y, bins=bins, histtype='step', label='PROPOSAL v = 1e-5 M.') # only Molière \n",
    "\n",
    "\n",
    "\n",
    "plt.ylabel('counts')\n",
    "# plt.xlabel('y angle in rad')\n",
    "plt.xlabel(r'$\\theta_{\\mathrm{y}}\\,/\\,$rad')\n",
    "plt.yscale('log')\n",
    "plt.legend(loc='upper right', fontsize='small')\n",
    "print('moliere, E = {} MeV'.format(E))\n",
    "plt.savefig(plot_dir + 'akimenko_comparison_moliere_E7301MeV_final.pdf', bbox_inches='tight')"
   ]
  },
  {
   "cell_type": "code",
   "execution_count": null,
   "id": "c58cb1cd-64b6-46f2-b9d0-a4d1ad4c4f3b",
   "metadata": {},
   "outputs": [],
   "source": [
    "x Achse beachten! was ist mit total scattering angle theta in dunsch gemeint???"
   ]
  },
  {
   "cell_type": "code",
   "execution_count": null,
   "id": "96aeecce-b379-41a5-a08e-81c825b83288",
   "metadata": {},
   "outputs": [],
   "source": []
  }
 ],
 "metadata": {
  "kernelspec": {
   "display_name": "Python 3",
   "language": "python",
   "name": "python3"
  },
  "language_info": {
   "codemirror_mode": {
    "name": "ipython",
    "version": 3
   },
   "file_extension": ".py",
   "mimetype": "text/x-python",
   "name": "python",
   "nbconvert_exporter": "python",
   "pygments_lexer": "ipython3",
   "version": "3.6.8"
  }
 },
 "nbformat": 4,
 "nbformat_minor": 5
}
