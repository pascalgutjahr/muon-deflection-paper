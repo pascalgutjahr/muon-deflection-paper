{
 "cells": [
  {
   "cell_type": "code",
   "execution_count": 1,
   "id": "93bc3ba3-8644-46ef-af47-dd7ff703270c",
   "metadata": {},
   "outputs": [],
   "source": [
    "import proposal as pp\n",
    "import numpy as np\n",
    "from tqdm import tqdm\n",
    "import matplotlib as mpl\n",
    "import matplotlib.pyplot as plt\n",
    "import pandas as pd\n",
    "from helper_functions_multi import get_angle_deviation\n",
    "import os"
   ]
  },
  {
   "cell_type": "code",
   "execution_count": 2,
   "id": "b12d6aa8-8c2b-4ea5-8763-4aff20cd162b",
   "metadata": {},
   "outputs": [],
   "source": [
    "data_dir = 'data/akimenko/'\n",
    "os.system('mkdir -p {}'.format(data_dir))\n",
    "\n",
    "plot_dir = 'plots/akimenko/'\n",
    "os.system('mkdir -p {}'.format(plot_dir))\n",
    "\n",
    "save_plot = True"
   ]
  },
  {
   "cell_type": "code",
   "execution_count": null,
   "id": "b5af9319-b236-4731-b810-e5ae7cba37af",
   "metadata": {},
   "outputs": [],
   "source": [
    "momentum = 7.3e3 # GeV/c , \n",
    "m = 105.7 # MeV\n",
    "E = np.round(np.sqrt(momentum**2 + m**2))\n",
    "print('energy E = {} MeV'.format(E) )\n",
    "\n",
    "\n",
    "E_i = E # momentum # 1e9 # 1 PeV \n",
    "E_f = 1e1 # 1e5 # 100 GeV\n",
    "n_events = 31125 # total measured events in akimenko\n",
    "    \n",
    "deflection = [\n",
    "    'bremsginneken', # 'bremstsaiapproximation', \n",
    "    'ioniznaive',\n",
    "    'photoginneken', # 'photoborogpetrukhin',\n",
    "    'epairginneken'] ### same as default\n",
    "    \n",
    "e_cut = np.inf # 1e10\n",
    "v_cut = 1e-3 # 1e-5\n",
    "cont_rand = False\n",
    "scattering_method = \"moliere\" # \"highland\"\n",
    "# deflection_type = \"m_scat+stochastic\"\n",
    "  \n",
    "# table_path = \"/Users/pascalgutjahr/.cache/PROPOSAL\" # macbook pro\n",
    "table_path = \"/net/nfshome/home/pgutjahr/.cache/PROPOSAL\" # vollmond\n",
    "    \n",
    "rnd_seed = 71530\n",
    "\n",
    "interpol_nodes = 200\n",
    "\n",
    "initial_direction = [0, 0, 1]\n",
    "\n",
    "beta_brems = 1.0\n",
    "beta_ioniz = 1.0\n",
    "beta_epair = 1.0\n",
    "beta_multiplescatter = 1.0\n",
    "beta_photonuclear = 1.0\n",
    "\n",
    "max_dist = 1.44 # in cm"
   ]
  },
  {
   "cell_type": "code",
   "execution_count": null,
   "id": "120c08d2-6a17-4e97-868a-417df8624441",
   "metadata": {},
   "outputs": [],
   "source": [
    "pp.InterpolationSettings.tables_path = table_path   # version 7\n",
    "    \n",
    "pp.InterpolationSettings.nodes_dndx_e = interpol_nodes\n",
    "pp.InterpolationSettings.nodes_dndx_v = interpol_nodes\n",
    "\n",
    "pp.RandomGenerator.get().set_seed(rnd_seed)\n",
    "args = {\n",
    "        \"particle_def\": pp.particle.MuMinusDef(),\n",
    "        \"target\": pp.medium.Copper(),\n",
    "        \"interpolate\": True,\n",
    "        \"cuts\": pp.EnergyCutSettings(e_cut, v_cut, cont_rand)\n",
    "        }\n",
    "\n",
    "cross = pp.crosssection.make_std_crosssection(**args)\n",
    "multiple_scatter = pp.make_multiple_scattering(scattering_method, args[\"particle_def\"], args[\"target\"], cross, True)\n",
    "\n",
    "stochastic_deflect = []\n",
    "for d in deflection:\n",
    "    stochastic_deflect.append(pp.make_stochastic_deflection(d, \n",
    "    args[\"particle_def\"], args[\"target\"]))\n",
    "\n",
    "\n",
    "collection = pp.PropagationUtilityCollection()\n",
    "collection.displacement = pp.make_displacement(cross, True)\n",
    "collection.interaction = pp.make_interaction(cross, True)\n",
    "collection.time = pp.make_time(cross, args[\"particle_def\"], True)\n",
    "collection.decay = pp.make_decay(cross, args[\"particle_def\"], True)\n",
    "\n",
    "\n",
    "# collection.scattering = pp.scattering.ScatteringMultiplier(multiple_scatter, beta_multiplescatter)\n",
    "# '''\n",
    "collection.scattering = pp.scattering.ScatteringMultiplier(\n",
    "    multiple_scatter, \n",
    "    stochastic_deflect, \n",
    "    beta_multiplescatter, \n",
    "    [(pp.particle.Interaction_Type.brems, beta_brems), (pp.particle.Interaction_Type.ioniz, beta_ioniz), \n",
    "    (pp.particle.Interaction_Type.epair, beta_epair), (pp.particle.Interaction_Type.photonuclear, beta_photonuclear)])\n",
    "# '''\n",
    "\n",
    "utility = pp.PropagationUtility(collection = collection)\n",
    "detector = pp.geometry.Sphere(pp.Cartesian3D(0,0,0), 1e20) # version 7\n",
    "density_distr = pp.density_distribution.density_homogeneous(args[\"target\"].mass_density)\n",
    "\n",
    "\n",
    "prop = pp.Propagator(args[\"particle_def\"], [(detector, utility, density_distr)])\n",
    "\n",
    "init_state = pp.particle.ParticleState()\n",
    "init_state.position = pp.Cartesian3D(0, 0, 0) # version 7\n",
    "init_state.direction = pp.Cartesian3D(initial_direction[0], initial_direction[1], initial_direction[2]) # version 7"
   ]
  },
  {
   "cell_type": "markdown",
   "id": "e211407c-8c7c-4af7-88a4-c426f5549097",
   "metadata": {},
   "source": [
    "# Run simulation"
   ]
  },
  {
   "cell_type": "code",
   "execution_count": null,
   "id": "3659b805-ab88-4161-8260-88f5af28ada5",
   "metadata": {},
   "outputs": [],
   "source": [
    "tracks = []\n",
    "for i in tqdm(range(n_events)):\n",
    "    init_state.energy = E_i # initial energy in MeV\n",
    "    track = prop.propagate(init_state, max_distance = max_dist, min_energy = E_f) # max_dist=1e9\n",
    "    tracks.append(track)"
   ]
  },
  {
   "cell_type": "code",
   "execution_count": null,
   "id": "11c66a00-90c7-43b3-8fec-c10b77aaf512",
   "metadata": {},
   "outputs": [],
   "source": [
    "tracks_144 = []\n",
    "for track in tracks:\n",
    "    if track.track_propagated_distances()[-1] == max_dist:\n",
    "        tracks_144.append(track)"
   ]
  },
  {
   "cell_type": "code",
   "execution_count": null,
   "id": "eece718e-51a7-4907-9de4-e85210f1929f",
   "metadata": {},
   "outputs": [],
   "source": [
    "tracks_144_zenith = []\n",
    "tracks_144_azimuth = []\n",
    "tracks_144_x = []\n",
    "tracks_144_y = []\n",
    "tracks_144_z = []\n",
    "tracks_144_pos_x = []\n",
    "tracks_144_pos_y = []\n",
    "tracks_144_pos_z = []\n",
    "for track in tqdm(tracks_144):\n",
    "    tracks_144_zenith.append(track.track_directions()[-1].spherical_coordinates[2])\n",
    "    tracks_144_azimuth.append(track.track_directions()[-1].spherical_coordinates[1])\n",
    "    tracks_144_x.append(track.track_directions()[-1].x)\n",
    "    tracks_144_y.append(track.track_directions()[-1].y)\n",
    "    tracks_144_z.append(track.track_directions()[-1].z)\n",
    "    tracks_144_pos_x.append(track.track_positions()[-1].x)\n",
    "    tracks_144_pos_y.append(track.track_positions()[-1].y)\n",
    "    tracks_144_pos_z.append(track.track_positions()[-1].z)"
   ]
  },
  {
   "cell_type": "code",
   "execution_count": null,
   "id": "c3054516-f7a6-4a96-9262-60abd61fcefd",
   "metadata": {},
   "outputs": [],
   "source": [
    "bins = np.linspace(-np.pi, np.pi, 50)\n",
    "plt.hist(tracks_144_azimuth, bins=bins, histtype='step', label='azimuth')\n",
    "plt.hist(tracks_144_zenith, bins=bins, histtype='step', label='zenith')\n",
    "plt.xlabel('angle in rad')\n",
    "plt.yscale('log')\n",
    "plt.legend()"
   ]
  },
  {
   "cell_type": "code",
   "execution_count": null,
   "id": "42bd79a0-629c-42ae-9dc4-6310b31c3f6e",
   "metadata": {},
   "outputs": [],
   "source": [
    "bins = (np.linspace(-0.1, 0.1, 50), np.linspace(-0.1, 0.1, 50))\n",
    "n = plt.hist2d(tracks_144_x, tracks_144_y, bins=bins, norm=mpl.colors.LogNorm(), cmap=mpl.cm.gray)\n",
    "plt.colorbar()\n",
    "np.max(n[0])"
   ]
  },
  {
   "cell_type": "markdown",
   "id": "daf5c1a5-fe4e-4704-a095-aff4195b86e4",
   "metadata": {},
   "source": [
    "## save data"
   ]
  },
  {
   "cell_type": "code",
   "execution_count": null,
   "id": "4d51d3c7-bda2-4f5b-8bf2-3ee1394f4085",
   "metadata": {},
   "outputs": [],
   "source": [
    "# '''\n",
    "df = pd.DataFrame()\n",
    "df['tracks_144_x'] = tracks_144_x\n",
    "df['tracks_144_y'] = tracks_144_y\n",
    "df['tracks_144_z'] = tracks_144_z\n",
    "df['tracks_144_pos_x'] = tracks_144_pos_x\n",
    "df['tracks_144_pos_y'] = tracks_144_pos_y\n",
    "df['tracks_144_pos_z'] = tracks_144_pos_z\n",
    "df['tracks_144_zenith'] = tracks_144_zenith\n",
    "df['tracks_144_azimuth'] = tracks_144_azimuth\n",
    "key = 'E{}_{}_v_cut{}'.format(int(E_i), scattering_method, v_cut)\n",
    "df.to_hdf(data_dir + 'sim_data.hdf5', key=key)\n",
    "print(key)\n",
    "# '''"
   ]
  },
  {
   "cell_type": "markdown",
   "id": "784a2693-92f3-4116-bf03-986dafb32315",
   "metadata": {},
   "source": [
    "## read data"
   ]
  },
  {
   "cell_type": "code",
   "execution_count": null,
   "id": "c92e6b39-f4f5-43e0-8c99-3b4a653db8e1",
   "metadata": {},
   "outputs": [],
   "source": [
    "key_0 = 'E7301_moliere_v_cut0.001'\n",
    "df_0 = pd.read_hdf(data_dir + 'sim_data.hdf5', key=key_0)\n",
    "df_0.to_hdf(data_dir + 'sim_data.hdf5', key=key_0)\n",
    "\n",
    "# key_2 = 'E199_highland_v_cut0.001'\n",
    "# df_2 = pd.read_hdf(data_dir + 'sim_data.hdf5', key=key_2)\n",
    "# df_2.to_hdf(data_dir + 'sim_data.hdf5', key=key_2)\n",
    "\n",
    "key_5 = 'E7301_moliere_v_cut1e-05'\n",
    "df_5 = pd.read_hdf(data_dir + 'sim_data.hdf5', key=key_5)\n",
    "df_5.to_hdf(data_dir + 'sim_data.hdf5', key=key_5)\n",
    "\n",
    "# key_6 = 'E199_moliere_v_cut1e-05_G4defl'\n",
    "# df_6 = pd.read_hdf(data_dir + 'sim_data.hdf5', key=key_6) # not relevant because there are only ionizations -> hence the\n",
    "# deflection parametrization for brems and nuclint does not effect anything\n",
    "\n",
    "key_7 = 'E7301_only_moliere_v_cut1e-05'\n",
    "df_7 = pd.read_hdf(data_dir + 'sim_data.hdf5', key=key_7)"
   ]
  },
  {
   "cell_type": "markdown",
   "id": "5be14b96-3fd9-49d9-8297-e733656040e4",
   "metadata": {},
   "source": [
    "# Plot all "
   ]
  },
  {
   "cell_type": "code",
   "execution_count": null,
   "id": "44026f4c-8833-48bd-b88e-aadd0fb9d052",
   "metadata": {},
   "outputs": [],
   "source": [
    "# binning = [Akimenko.angle[i] - abs(Akimenko.angle[i+1] - Akimenko.angle[i])/2 for i in range(len(Akimenko)-1)]\n",
    "# binning.append(Akimenko.angle.values[-1] - abs(Akimenko.angle.values[-1] - Akimenko.angle.values[-2])/2)\n",
    "# binning.append(Akimenko.angle.values[-1] + abs(Akimenko.angle.values[-1] - Akimenko.angle.values[-2])/2)\n",
    "# binning"
   ]
  },
  {
   "cell_type": "code",
   "execution_count": null,
   "id": "fe4f2842-2f70-4119-a1fd-06ca961c71e0",
   "metadata": {},
   "outputs": [],
   "source": [
    "binning = [Akimenko.angle[0] - abs(Akimenko.angle[1] - Akimenko.angle[0])/2]\n",
    "binning_h = [Akimenko.angle[i] + abs(Akimenko.angle[i+1] - Akimenko.angle[i])/2 for i in range(len(Akimenko)-1)]\n",
    "for b in binning_h:\n",
    "    binning.append(b)\n",
    "binning.append(Akimenko.angle.values[-1] + abs(Akimenko.angle.values[-1] - Akimenko.angle.values[-2])/2 )\n",
    "binning"
   ]
  },
  {
   "cell_type": "code",
   "execution_count": null,
   "id": "b5fec8b8-e922-46a2-890c-7cd348f3bd8d",
   "metadata": {},
   "outputs": [],
   "source": [
    "# plot y direction\n",
    "\n",
    "plt.plot(Akimenko.angle, Akimenko.probability, 'o', color='black', alpha=0.7, label='Akimenko')\n",
    "\n",
    "bins = binning\n",
    "plt.hist(df_0.tracks_144_y, bins=bins, histtype='step', label='PROPOSAL v = 1e-3')\n",
    "plt.hist(df_5.tracks_144_y, bins=bins, histtype='step', label='PROPOSAL v = 1e-5')\n",
    "plt.hist(df_7.tracks_144_y, bins=bins, histtype='step', label='PROPOSAL v = 1e-5 M.') # only Molière \n",
    "\n",
    "\n",
    "\n",
    "plt.ylabel('counts')\n",
    "# plt.xlabel('y angle in rad')\n",
    "plt.xlabel(r'$\\theta_{\\mathrm{y}}\\,/\\,$rad')\n",
    "plt.yscale('log')\n",
    "plt.legend(loc='upper right', fontsize='small')\n",
    "print('moliere, E = {} MeV'.format(E))\n",
    "plt.savefig(plot_dir + 'akimenko_comparison_moliere_E7301MeV_final.pdf', bbox_inches='tight')"
   ]
  },
  {
   "cell_type": "code",
   "execution_count": null,
   "id": "c58cb1cd-64b6-46f2-b9d0-a4d1ad4c4f3b",
   "metadata": {},
   "outputs": [],
   "source": [
    "x Achse beachten! was ist mit total scattering angle theta in dunsch gemeint???"
   ]
  },
  {
   "cell_type": "markdown",
   "id": "d4055073-8d30-472c-93ac-dd362e5b3c29",
   "metadata": {},
   "source": [
    "# Akimenko multiprocessing"
   ]
  },
  {
   "cell_type": "code",
   "execution_count": 3,
   "id": "a8e1fb72-21bb-4247-8ef8-bb9a972315f4",
   "metadata": {},
   "outputs": [],
   "source": [
    "AKIMENKO = pd.read_csv('data/akimenko/Akimenko_true_data.txt', sep='\\s+', names=['angle_low', 'angle_high', 'counts'], skiprows=1)"
   ]
  },
  {
   "cell_type": "code",
   "execution_count": 5,
   "id": "be1a6548-e2d6-4154-80ec-ff0403ba0e55",
   "metadata": {},
   "outputs": [
    {
     "name": "stdout",
     "output_type": "stream",
     "text": [
      "[0.0144]\n",
      "[0.00817724 0.0144    ]\n",
      "[0.00256256 0.0144    ]\n",
      "[0.00463499 0.00928377 0.0144    ]\n",
      "[0.00256077 0.01003908 0.0144    ]\n",
      "[0.0144]\n"
     ]
    }
   ],
   "source": [
    "df_01 = pd.read_hdf('data/akimenko_7301MeV_copper/akimenko_run_01.hdf5') # v_cut = 1e-5\n",
    "df_02 = pd.read_hdf('data/akimenko_7301MeV_copper/akimenko_run_02.hdf5') # v_cut = 1e-5 only Moliere\n",
    "df_03 = pd.read_hdf('data/akimenko_7301MeV_copper/akimenko_run_03.hdf5') # v_cut = 1e-3\n",
    "df_04 = pd.read_hdf('data/akimenko_7301MeV_copper/akimenko_run_04.hdf5') # v_cut = 1e-3 only Moliere\n",
    "df_05 = pd.read_hdf('data/akimenko_7301MeV_copper/akimenko_run_05.hdf5') # v_cut = 0.05, e_cut = 500 MeV\n",
    "df_06 = pd.read_hdf('data/akimenko_7301MeV_copper/akimenko_run_06.hdf5') # v_cut = 1e-5, only highland\n",
    "\n",
    "# distance should be 1.44 cm\n",
    "print(np.unique(df_01.distances))\n",
    "print(np.unique(df_02.distances))\n",
    "print(np.unique(df_03.distances))\n",
    "print(np.unique(df_04.distances))\n",
    "print(np.unique(df_05.distances))\n",
    "print(np.unique(df_06.distances))\n",
    "\n",
    "df_01 = df_01[df_01.distances == 0.0144]\n",
    "df_02 = df_02[df_02.distances == 0.0144]\n",
    "df_03 = df_03[df_03.distances == 0.0144]\n",
    "df_04 = df_04[df_04.distances == 0.0144]\n",
    "df_05 = df_05[df_05.distances == 0.0144]\n",
    "df_06 = df_06[df_06.distances == 0.0144]"
   ]
  },
  {
   "cell_type": "code",
   "execution_count": 6,
   "id": "030776f3-0dd9-41d2-aedf-8e814436ca22",
   "metadata": {},
   "outputs": [],
   "source": [
    "df_dict_01 = {}\n",
    "for seed in np.unique(df_01.rnd_seed):\n",
    "    key = \"df_{}\".format(int(seed))\n",
    "    df_dict_01[key] = df_01[df_01.rnd_seed == seed]\n",
    "    \n",
    "df_dict_02 = {}\n",
    "for seed in np.unique(df_02.rnd_seed):\n",
    "    key = \"df_{}\".format(int(seed))\n",
    "    df_dict_02[key] = df_02[df_02.rnd_seed == seed]\n",
    "    \n",
    "df_dict_03 = {}\n",
    "for seed in np.unique(df_03.rnd_seed):\n",
    "    key = \"df_{}\".format(int(seed))\n",
    "    df_dict_03[key] = df_03[df_03.rnd_seed == seed]\n",
    "    \n",
    "df_dict_04 = {}\n",
    "for seed in np.unique(df_04.rnd_seed):\n",
    "    key = \"df_{}\".format(int(seed))\n",
    "    df_dict_04[key] = df_04[df_04.rnd_seed == seed]\n",
    "    \n",
    "df_dict_05 = {}\n",
    "for seed in np.unique(df_05.rnd_seed):\n",
    "    key = \"df_{}\".format(int(seed))\n",
    "    df_dict_05[key] = df_05[df_05.rnd_seed == seed]\n",
    "    \n",
    "df_dict_06 = {}\n",
    "for seed in np.unique(df_06.rnd_seed):\n",
    "    key = \"df_{}\".format(int(seed))\n",
    "    df_dict_06[key] = df_06[df_06.rnd_seed == seed]"
   ]
  },
  {
   "cell_type": "code",
   "execution_count": 7,
   "id": "0cf5a658-1bf7-49d6-bf4b-d59bbdf0644f",
   "metadata": {},
   "outputs": [],
   "source": [
    "bin_mids = [AKIMENKO.angle_low[i] - (AKIMENKO.angle_low[i] - AKIMENKO.angle_low[i+1])/2 for i in range(len(AKIMENKO)-1)]\n",
    "bin_mids.append(AKIMENKO.angle_low.values[-1] - (AKIMENKO.angle_low.values[-1] - AKIMENKO.angle_high.values[-1])/2)"
   ]
  },
  {
   "cell_type": "code",
   "execution_count": 8,
   "id": "d5fb945f-5f9c-40f6-8a2a-1d441a3ab8ba",
   "metadata": {},
   "outputs": [],
   "source": [
    "hist_data_n_01 = []\n",
    "bins = np.append(AKIMENKO.angle_low.values/1000, AKIMENKO.angle_high.values[-1]/1000)\n",
    "for df in df_dict_01:\n",
    "    n, x = np.histogram(df_dict_01[df].y_dir_f, bins=bins)\n",
    "    hist_data_n_01.append(n)\n",
    "    hist_data_n_mean_01 = np.mean(hist_data_n_01, axis=0)\n",
    "hist_data_n_std_01 = np.std(hist_data_n_01, axis=0)\n",
    "hist_data_n_median_01 = np.median(hist_data_n_01, axis=0)\n",
    "\n",
    "hist_data_n_02 = []\n",
    "for df in df_dict_02:\n",
    "    n, x = np.histogram(df_dict_02[df].y_dir_f, bins=bins)\n",
    "    hist_data_n_02.append(n)\n",
    "    hist_data_n_mean_02 = np.mean(hist_data_n_02, axis=0)\n",
    "hist_data_n_std_02 = np.std(hist_data_n_02, axis=0)\n",
    "hist_data_n_median_02 = np.median(hist_data_n_02, axis=0)\n",
    "\n",
    "hist_data_n_03 = []\n",
    "for df in df_dict_03:\n",
    "    n, x = np.histogram(df_dict_03[df].y_dir_f, bins=bins)\n",
    "    hist_data_n_03.append(n)\n",
    "    hist_data_n_mean_03 = np.mean(hist_data_n_03, axis=0)\n",
    "hist_data_n_std_03 = np.std(hist_data_n_03, axis=0)\n",
    "hist_data_n_median_03 = np.median(hist_data_n_03, axis=0)\n",
    "\n",
    "hist_data_n_04 = []\n",
    "for df in df_dict_04:\n",
    "    n, x = np.histogram(df_dict_04[df].y_dir_f, bins=bins)\n",
    "    hist_data_n_04.append(n)\n",
    "    hist_data_n_mean_04 = np.mean(hist_data_n_04, axis=0)\n",
    "hist_data_n_std_04 = np.std(hist_data_n_04, axis=0)\n",
    "hist_data_n_median_04 = np.median(hist_data_n_04, axis=0)\n",
    "\n",
    "hist_data_n_05 = []\n",
    "for df in df_dict_05:\n",
    "    n, x = np.histogram(df_dict_05[df].y_dir_f, bins=bins)\n",
    "    hist_data_n_05.append(n)\n",
    "    hist_data_n_mean_05 = np.mean(hist_data_n_05, axis=0)\n",
    "hist_data_n_std_05 = np.std(hist_data_n_05, axis=0)\n",
    "hist_data_n_median_05 = np.median(hist_data_n_05, axis=0)\n",
    "\n",
    "hist_data_n_06 = []\n",
    "for df in df_dict_06:\n",
    "    n, x = np.histogram(df_dict_06[df].y_dir_f, bins=bins)\n",
    "    hist_data_n_06.append(n)\n",
    "    hist_data_n_mean_06 = np.mean(hist_data_n_06, axis=0)\n",
    "hist_data_n_std_06 = np.std(hist_data_n_06, axis=0)\n",
    "hist_data_n_median_06 = np.median(hist_data_n_06, axis=0)"
   ]
  },
  {
   "cell_type": "code",
   "execution_count": 13,
   "id": "417e8ea2-56a5-4203-93f2-50d275c87d8d",
   "metadata": {},
   "outputs": [
    {
     "data": {
      "image/png": "[encoded data removed]",
      "text/plain": [
       "<Figure size 432x288 with 1 Axes>"
      ]
     },
     "metadata": {
      "needs_background": "light"
     },
     "output_type": "display_data"
    }
   ],
   "source": [
    "# akimenko data\n",
    "plt.errorbar(bin_mids, AKIMENKO.counts, fmt='o', color='black', alpha=0.9, yerr=np.sqrt(AKIMENKO.counts), xerr=AKIMENKO.angle_low-bin_mids, label='Akimenko')\n",
    "\n",
    "# run 03\n",
    "plt.errorbar(bin_mids, hist_data_n_mean_03, fmt='.', yerr=hist_data_n_std_03, xerr=AKIMENKO.angle_low-bin_mids, label='v = 1e-3')\n",
    "# plt.errorbar(bin_mids, hist_data_n_median_03, fmt='.', \n",
    "#              yerr=[hist_data_n_median_03-np.quantile(hist_data_n_03, 0.159, axis=0), np.quantile(hist_data_n_03, 0.841, axis=0)-hist_data_n_median_03],\n",
    "#              xerr=AKIMENKO.angle_low-bin_mids,\n",
    "#             label='median+68%')\n",
    "\n",
    "# run 01\n",
    "plt.errorbar(bin_mids, hist_data_n_mean_01, fmt='.', yerr=hist_data_n_std_01, xerr=AKIMENKO.angle_low-bin_mids, label='v = 1e-5')\n",
    "# plt.errorbar(bin_mids, hist_data_n_median_01, fmt='.', \n",
    "#              yerr=[hist_data_n_median_01-np.quantile(hist_data_n_01, 0.159, axis=0), np.quantile(hist_data_n_01, 0.841, axis=0)-hist_data_n_median_01],\n",
    "#              xerr=AKIMENKO.angle_low-bin_mids,\n",
    "#             label='median+68%')\n",
    "\n",
    "# run 04\n",
    "plt.errorbar(bin_mids, hist_data_n_mean_04, fmt='.', yerr=hist_data_n_std_04, xerr=AKIMENKO.angle_low-bin_mids, label='v = 1e-3 Mol.')\n",
    "# plt.errorbar(bin_mids, hist_data_n_median_04, fmt='.', \n",
    "#              yerr=[hist_data_n_median_04-np.quantile(hist_data_n_04, 0.159, axis=0), np.quantile(hist_data_n_04, 0.841, axis=0)-hist_data_n_median_04],\n",
    "#              xerr=AKIMENKO.angle_low-bin_mids,\n",
    "#             label='median+68%')\n",
    "\n",
    "# run 02\n",
    "plt.errorbar(bin_mids, hist_data_n_mean_02, fmt='.', yerr=hist_data_n_std_02, xerr=AKIMENKO.angle_low-bin_mids, label='v = 1e-5 Mol.')\n",
    "# plt.errorbar(bin_mids, hist_data_n_median_02, fmt='.', \n",
    "#              yerr=[hist_data_n_median_02-np.quantile(hist_data_n_02, 0.159, axis=0), np.quantile(hist_data_n_02, 0.841, axis=0)-hist_data_n_median_02],\n",
    "#              xerr=AKIMENKO.angle_low-bin_mids,\n",
    "#             label='median+68%')\n",
    "\n",
    "# run 05\n",
    "plt.errorbar(bin_mids, hist_data_n_mean_05, fmt='.', yerr=hist_data_n_std_05, xerr=AKIMENKO.angle_low-bin_mids, label='v = 0.05, e = 500')\n",
    "# plt.errorbar(bin_mids, hist_data_n_median_05, fmt='.', \n",
    "#              yerr=[hist_data_n_median_05-np.quantile(hist_data_n_05, 0.159, axis=0), np.quantile(hist_data_n_05, 0.841, axis=0)-hist_data_n_median_05],\n",
    "#              xerr=AKIMENKO.angle_low-bin_mids,\n",
    "#             label='median+68%')\n",
    "\n",
    "# run 06\n",
    "plt.errorbar(bin_mids, hist_data_n_mean_06, fmt='-.', yerr=hist_data_n_std_06, xerr=AKIMENKO.angle_low-bin_mids, label='v = 1e-5, Highl.')\n",
    "\n",
    "\n",
    "plt.yscale('log')\n",
    "plt.xlabel(r'$\\theta_{\\mathrm{y}}\\,/\\,$mrad')\n",
    "plt.ylabel('counts')\n",
    "plt.legend(bbox_to_anchor=(1,1))\n",
    "#plt.tight_layout()\n",
    "plt.savefig(plot_dir + 'akimenko_comparison_moliere_E7301MeV_final_multi_mean.pdf', bbox_inches='tight')"
   ]
  },
  {
   "cell_type": "code",
   "execution_count": null,
   "id": "d56ceed4-ebfb-4f22-b259-311dde60590e",
   "metadata": {},
   "outputs": [],
   "source": []
  },
  {
   "cell_type": "code",
   "execution_count": null,
   "id": "65165ce3-2fed-4da2-ba27-dc9c9f329323",
   "metadata": {},
   "outputs": [],
   "source": []
  }
 ],
 "metadata": {
  "kernelspec": {
   "display_name": "Python 3",
   "language": "python",
   "name": "python3"
  },
  "language_info": {
   "codemirror_mode": {
    "name": "ipython",
    "version": 3
   },
   "file_extension": ".py",
   "mimetype": "text/x-python",
   "name": "python",
   "nbconvert_exporter": "python",
   "pygments_lexer": "ipython3",
   "version": "3.6.8"
  }
 },
 "nbformat": 4,
 "nbformat_minor": 5
}
