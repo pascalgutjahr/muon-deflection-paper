{
 "cells": [
  {
   "cell_type": "code",
   "execution_count": 1,
   "id": "93bc3ba3-8644-46ef-af47-dd7ff703270c",
   "metadata": {},
   "outputs": [],
   "source": [
    "import proposal as pp\n",
    "import numpy as np\n",
    "from tqdm import tqdm\n",
    "import matplotlib as mpl\n",
    "import matplotlib.pyplot as plt\n",
    "import pandas as pd\n",
    "# from helper_functions_multi import get_angle_deviation\n",
    "import os\n",
    "import shutil"
   ]
  },
  {
   "cell_type": "code",
   "execution_count": 2,
   "id": "b12d6aa8-8c2b-4ea5-8763-4aff20cd162b",
   "metadata": {},
   "outputs": [],
   "source": [
    "data_dir = 'data/deflection_method_shower_dist/'\n",
    "os.system('mkdir -p {}'.format(data_dir))\n",
    "\n",
    "plot_dir = 'plots/deflection_method_shower_dist/'\n",
    "os.system('mkdir -p {}'.format(plot_dir))\n",
    "\n",
    "save_plot = True"
   ]
  },
  {
   "cell_type": "code",
   "execution_count": 3,
   "id": "f16ab499",
   "metadata": {},
   "outputs": [],
   "source": [
    "# table_path = \"/Users/pgutjahr/.cache/PROPOSAL\" # macbook pro\n",
    "table_path = \"/net/nfshome/home/pgutjahr/.cache/PROPOSAL\" # vollmond"
   ]
  },
  {
   "cell_type": "code",
   "execution_count": 4,
   "id": "cd1423c9",
   "metadata": {},
   "outputs": [],
   "source": [
    "# remove old tables\n",
    "if False:\n",
    "    print(f'Removing {table_path}')\n",
    "    shutil.rmtree(table_path)"
   ]
  },
  {
   "cell_type": "code",
   "execution_count": 5,
   "id": "cc0e0251",
   "metadata": {},
   "outputs": [],
   "source": [
    "if 'table_path' in locals():\n",
    "    os.makedirs(table_path, exist_ok=True)"
   ]
  },
  {
   "cell_type": "code",
   "execution_count": 6,
   "id": "b5af9319-b236-4731-b810-e5ae7cba37af",
   "metadata": {},
   "outputs": [],
   "source": [
    "E_i = 1e3\n",
    "E_f = 200 \n",
    "n_events = 1000 \n",
    "    \n",
    "deflection = [\n",
    "    'bremsginneken', # 'bremstsaiapproximation', \n",
    "    'ioniznaive',\n",
    "    'photoginneken', # 'photoborogpetrukhin',\n",
    "    'epairginneken'] ### same as default\n",
    "    \n",
    "e_cut = 500 # np.inf \n",
    "v_cut = 0.01 # 1e-5\n",
    "cont_rand = True\n",
    "scattering_method = \"moliere\" # \"highland\"\n",
    "# deflection_type = \"m_scat+stochastic\"\n",
    "    \n",
    "rnd_seed = 71530\n",
    "\n",
    "interpol_nodes = 100 # 200\n",
    "\n",
    "initial_direction = [0, 0, 1]\n",
    "\n",
    "beta_brems = 1.0\n",
    "beta_ioniz = 1.0\n",
    "beta_epair = 1.0\n",
    "beta_multiplescatter = 1.0\n",
    "beta_photonuclear = 1.0\n",
    "\n",
    "max_dist = 1e9 # in cm"
   ]
  },
  {
   "cell_type": "code",
   "execution_count": 7,
   "id": "7703213c",
   "metadata": {},
   "outputs": [],
   "source": [
    "pp.InterpolationSettings.tables_path = table_path   # version 7\n",
    "    \n",
    "pp.InterpolationSettings.nodes_dndx_e = interpol_nodes\n",
    "pp.InterpolationSettings.nodes_dndx_v = interpol_nodes\n",
    "\n",
    "pp.RandomGenerator.get().set_seed(rnd_seed)\n",
    "args = {\n",
    "        \"particle_def\": pp.particle.MuMinusDef(),\n",
    "        \"target\": pp.medium.Ice(),\n",
    "        \"interpolate\": True,\n",
    "        \"cuts\": pp.EnergyCutSettings(e_cut, v_cut, cont_rand)\n",
    "        }"
   ]
  },
  {
   "cell_type": "code",
   "execution_count": 8,
   "id": "ea19b13b",
   "metadata": {},
   "outputs": [],
   "source": [
    "cross = pp.crosssection.make_std_crosssection(**args)\n"
   ]
  },
  {
   "cell_type": "code",
   "execution_count": 9,
   "id": "afc5cb0f",
   "metadata": {},
   "outputs": [],
   "source": [
    "multiple_scatter = pp.make_multiple_scattering(scattering_method, args[\"particle_def\"], args[\"target\"], cross, True)\n",
    "stochastic_deflect = []\n",
    "for d in deflection:\n",
    "    stochastic_deflect.append(pp.make_stochastic_deflection(d, \n",
    "    args[\"particle_def\"], args[\"target\"]))\n",
    "\n"
   ]
  },
  {
   "cell_type": "code",
   "execution_count": null,
   "id": "4837e2fa",
   "metadata": {},
   "outputs": [],
   "source": [
    "collection = pp.PropagationUtilityCollection()\n",
    "collection.displacement = pp.make_displacement(cross, True)\n",
    "collection.interaction = pp.make_interaction(cross, True)\n"
   ]
  },
  {
   "cell_type": "code",
   "execution_count": null,
   "id": "180bcc38",
   "metadata": {},
   "outputs": [],
   "source": [
    "collection.time = pp.make_time(cross, args[\"particle_def\"], True)\n",
    "collection.decay = pp.make_decay(cross, args[\"particle_def\"], True)"
   ]
  },
  {
   "cell_type": "code",
   "execution_count": null,
   "id": "120c08d2-6a17-4e97-868a-417df8624441",
   "metadata": {},
   "outputs": [],
   "source": [
    "collection.scattering = pp.scattering.ScatteringMultiplier(\n",
    "    multiple_scatter, \n",
    "    stochastic_deflect, \n",
    "    beta_multiplescatter, \n",
    "    [(pp.particle.Interaction_Type.brems, beta_brems), (pp.particle.Interaction_Type.ioniz, beta_ioniz), \n",
    "    (pp.particle.Interaction_Type.epair, beta_epair), (pp.particle.Interaction_Type.photonuclear, beta_photonuclear)])\n",
    "\n",
    "utility = pp.PropagationUtility(collection = collection)\n",
    "detector = pp.geometry.Sphere(pp.Cartesian3D(0,0,0), 1e20) # version 7\n",
    "density_distr = pp.density_distribution.density_homogeneous(args[\"target\"].mass_density)\n",
    "\n",
    "\n",
    "prop = pp.Propagator(args[\"particle_def\"], [(detector, utility, density_distr)])\n",
    "\n",
    "init_state = pp.particle.ParticleState()\n",
    "init_state.position = pp.Cartesian3D(0, 0, 0) # version 7\n",
    "init_state.direction = pp.Cartesian3D(initial_direction[0], initial_direction[1], initial_direction[2]) # version 7"
   ]
  },
  {
   "attachments": {},
   "cell_type": "markdown",
   "id": "e211407c-8c7c-4af7-88a4-c426f5549097",
   "metadata": {},
   "source": [
    "# Run simulation"
   ]
  },
  {
   "cell_type": "code",
   "execution_count": null,
   "id": "3659b805-ab88-4161-8260-88f5af28ada5",
   "metadata": {},
   "outputs": [],
   "source": [
    "tracks = []\n",
    "for i in tqdm(range(n_events)):\n",
    "    init_state.energy = E_i # initial energy in MeV\n",
    "    track = prop.propagate(init_state, max_distance = max_dist, min_energy = E_f) # max_dist=1e9\n",
    "    tracks.append(track)"
   ]
  },
  {
   "cell_type": "code",
   "execution_count": null,
   "id": "eece718e-51a7-4907-9de4-e85210f1929f",
   "metadata": {},
   "outputs": [],
   "source": [
    "tracks_zenith = []\n",
    "tracks_azimuth = []\n",
    "tracks_x = []\n",
    "tracks_y = []\n",
    "tracks_z = []\n",
    "tracks_pos_x = []\n",
    "tracks_pos_y = []\n",
    "tracks_pos_z = []\n",
    "for track in tqdm(tracks):\n",
    "    tracks_zenith.append(track.track_directions()[-1].spherical_coordinates[2])\n",
    "    tracks_azimuth.append(track.track_directions()[-1].spherical_coordinates[1])\n",
    "    tracks_x.append(track.track_directions()[-1].x)\n",
    "    tracks_y.append(track.track_directions()[-1].y)\n",
    "    tracks_z.append(track.track_directions()[-1].z)\n",
    "    tracks_pos_x.append(track.track_positions()[-1].x)\n",
    "    tracks_pos_y.append(track.track_positions()[-1].y)\n",
    "    tracks_pos_z.append(track.track_positions()[-1].z)"
   ]
  },
  {
   "cell_type": "code",
   "execution_count": null,
   "id": "c3054516-f7a6-4a96-9262-60abd61fcefd",
   "metadata": {},
   "outputs": [],
   "source": [
    "bins = np.linspace(-np.pi, np.pi, 50)\n",
    "plt.hist(tracks_azimuth, bins=bins, histtype='step', label='azimuth')\n",
    "plt.hist(tracks_zenith, bins=bins, histtype='step', label='zenith')\n",
    "plt.xlabel('angle in rad')\n",
    "plt.yscale('log')\n",
    "plt.legend()"
   ]
  },
  {
   "cell_type": "code",
   "execution_count": null,
   "id": "42bd79a0-629c-42ae-9dc4-6310b31c3f6e",
   "metadata": {},
   "outputs": [],
   "source": [
    "bins = (np.linspace(min(tracks_x), max(tracks_x), 50), np.linspace(min(tracks_y), max(tracks_y), 50))\n",
    "n = plt.hist2d(tracks_x, tracks_y, bins=bins, norm=mpl.colors.LogNorm(), cmap=mpl.cm.gray)\n",
    "plt.colorbar()\n",
    "np.max(n[0])"
   ]
  },
  {
   "cell_type": "code",
   "execution_count": null,
   "id": "3832242e",
   "metadata": {},
   "outputs": [],
   "source": []
  },
  {
   "cell_type": "code",
   "execution_count": null,
   "id": "9df4c413",
   "metadata": {},
   "outputs": [],
   "source": []
  },
  {
   "attachments": {},
   "cell_type": "markdown",
   "id": "daf5c1a5-fe4e-4704-a095-aff4195b86e4",
   "metadata": {},
   "source": [
    "## save data"
   ]
  },
  {
   "cell_type": "code",
   "execution_count": null,
   "id": "4d51d3c7-bda2-4f5b-8bf2-3ee1394f4085",
   "metadata": {},
   "outputs": [],
   "source": [
    "# '''\n",
    "df = pd.DataFrame()\n",
    "df['tracks_x'] = tracks_x\n",
    "df['tracks_y'] = tracks_y\n",
    "df['tracks_z'] = tracks_z\n",
    "df['tracks_pos_x'] = tracks_pos_x\n",
    "df['tracks_pos_y'] = tracks_pos_y\n",
    "df['tracks_pos_z'] = tracks_pos_z\n",
    "df['tracks_zenith'] = tracks_zenith\n",
    "df['tracks_azimuth'] = tracks_azimuth\n",
    "key = 'E{}_{}_v_cut{}'.format(int(E_i), scattering_method, v_cut)\n",
    "df.to_hdf(data_dir + 'test.hdf5', key=key)\n",
    "print(key)\n",
    "# '''"
   ]
  },
  {
   "attachments": {},
   "cell_type": "markdown",
   "id": "784a2693-92f3-4116-bf03-986dafb32315",
   "metadata": {},
   "source": [
    "## read data"
   ]
  },
  {
   "cell_type": "code",
   "execution_count": null,
   "id": "c92e6b39-f4f5-43e0-8c99-3b4a653db8e1",
   "metadata": {},
   "outputs": [],
   "source": [
    "key_0 = 'E1000_moliere_v_cut0.001'\n",
    "df_0 = pd.read_hdf(data_dir + 'test.hdf5', key=key_0)\n",
    "df_0"
   ]
  },
  {
   "attachments": {},
   "cell_type": "markdown",
   "id": "5be14b96-3fd9-49d9-8297-e733656040e4",
   "metadata": {},
   "source": [
    "# Plot all "
   ]
  },
  {
   "attachments": {},
   "cell_type": "markdown",
   "id": "840d1d64",
   "metadata": {},
   "source": []
  }
 ],
 "metadata": {
  "kernelspec": {
   "display_name": "Python 3",
   "language": "python",
   "name": "python3"
  },
  "language_info": {
   "codemirror_mode": {
    "name": "ipython",
    "version": 3
   },
   "file_extension": ".py",
   "mimetype": "text/x-python",
   "name": "python",
   "nbconvert_exporter": "python",
   "pygments_lexer": "ipython3",
   "version": "3.9.14"
  }
 },
 "nbformat": 4,
 "nbformat_minor": 5
}
