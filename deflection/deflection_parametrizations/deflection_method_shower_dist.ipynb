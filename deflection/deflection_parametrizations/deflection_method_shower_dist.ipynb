{
 "cells": [
  {
   "cell_type": "code",
   "execution_count": 1,
   "id": "93bc3ba3-8644-46ef-af47-dd7ff703270c",
   "metadata": {},
   "outputs": [],
   "source": [
    "import proposal as pp\n",
    "import numpy as np\n",
    "from tqdm import tqdm\n",
    "import matplotlib as mpl\n",
    "import matplotlib.pyplot as plt\n",
    "import pandas as pd\n",
    "import sys \n",
    "sys.path.append('../')\n",
    "from helper_functions_multi import get_angle_deviation\n",
    "import os\n",
    "import shutil"
   ]
  },
  {
   "cell_type": "code",
   "execution_count": 2,
   "id": "b12d6aa8-8c2b-4ea5-8763-4aff20cd162b",
   "metadata": {},
   "outputs": [],
   "source": [
    "data_dir = 'data/deflection_method_shower_dist/'\n",
    "os.system('mkdir -p {}'.format(data_dir))\n",
    "\n",
    "plot_dir = 'plots/deflection_method_shower_dist/'\n",
    "os.system('mkdir -p {}'.format(plot_dir))\n",
    "\n",
    "save_plot = True"
   ]
  },
  {
   "cell_type": "code",
   "execution_count": 3,
   "id": "f16ab499",
   "metadata": {},
   "outputs": [],
   "source": [
    "table_path = \"/Users/pgutjahr/.cache/PROPOSAL\" # macbook pro\n",
    "# table_path = \"/net/nfshome/home/pgutjahr/.cache/PROPOSAL\" # vollmond"
   ]
  },
  {
   "cell_type": "code",
   "execution_count": 4,
   "id": "cd1423c9",
   "metadata": {},
   "outputs": [],
   "source": [
    "# remove old tables\n",
    "if False:\n",
    "    print(f'Removing {table_path}')\n",
    "    shutil.rmtree(table_path)"
   ]
  },
  {
   "cell_type": "code",
   "execution_count": 5,
   "id": "cc0e0251",
   "metadata": {},
   "outputs": [],
   "source": [
    "if 'table_path' in locals():\n",
    "    os.makedirs(table_path, exist_ok=True)"
   ]
  },
  {
   "cell_type": "code",
   "execution_count": 21,
   "id": "b5af9319-b236-4731-b810-e5ae7cba37af",
   "metadata": {},
   "outputs": [],
   "source": [
    "deflection = [\n",
    "    'bremsginneken', # 'bremstsaiapproximation', \n",
    "    'ioniznaive',\n",
    "    'photoginneken', # 'photoborogpetrukhin',\n",
    "    'epairginneken'] ### same as default\n",
    "    \n",
    "e_cut = 500 # np.inf \n",
    "v_cut = 0.05 # 1e-5\n",
    "cont_rand = True\n",
    "scattering_method = \"moliere\" # \"highland\"\n",
    "# deflection_type = \"m_scat+stochastic\"\n",
    "    \n",
    "rnd_seed = 71530\n",
    "\n",
    "interpol_nodes = 100 # 200\n",
    "\n",
    "initial_direction = [0, 0, 1]\n",
    "\n",
    "beta_brems = 1.0\n",
    "beta_ioniz = 1.0\n",
    "beta_epair = 1.0\n",
    "beta_photonuclear = 1.0\n",
    "beta_multiplescatter = 1.0"
   ]
  },
  {
   "cell_type": "code",
   "execution_count": 22,
   "id": "7703213c",
   "metadata": {},
   "outputs": [],
   "source": [
    "pp.InterpolationSettings.tables_path = table_path   # version 7\n",
    "    \n",
    "pp.InterpolationSettings.nodes_dndx_e = interpol_nodes\n",
    "pp.InterpolationSettings.nodes_dndx_v = interpol_nodes\n",
    "\n",
    "pp.RandomGenerator.get().set_seed(rnd_seed)\n",
    "args = {\n",
    "        \"particle_def\": pp.particle.MuMinusDef(),\n",
    "        \"target\": pp.medium.Ice(),\n",
    "        \"interpolate\": True,\n",
    "        \"cuts\": pp.EnergyCutSettings(e_cut, v_cut, cont_rand)\n",
    "        }\n",
    "\n",
    "cross = pp.crosssection.make_std_crosssection(**args)\n",
    "\n",
    "multiple_scatter = pp.make_multiple_scattering(scattering_method, args[\"particle_def\"], args[\"target\"], cross, True)\n",
    "stochastic_deflect = []\n",
    "for d in deflection:\n",
    "    stochastic_deflect.append(pp.make_stochastic_deflection(d, \n",
    "    args[\"particle_def\"], args[\"target\"]))\n",
    "\n",
    "\n",
    "collection = pp.PropagationUtilityCollection()\n",
    "collection.displacement = pp.make_displacement(cross, True)\n",
    "collection.interaction = pp.make_interaction(cross, True)\n",
    "collection.time = pp.make_time(cross, args[\"particle_def\"], True)\n",
    "collection.decay = pp.make_decay(cross, args[\"particle_def\"], True)\n",
    "\n",
    "collection.scattering = pp.scattering.ScatteringMultiplier(\n",
    "    multiple_scatter, \n",
    "    stochastic_deflect, \n",
    "    beta_multiplescatter, \n",
    "    [(pp.particle.Interaction_Type.brems, beta_brems), (pp.particle.Interaction_Type.ioniz, beta_ioniz), \n",
    "    (pp.particle.Interaction_Type.epair, beta_epair), (pp.particle.Interaction_Type.photonuclear, beta_photonuclear)])\n",
    "\n",
    "\n",
    "# collection.scattering = pp.scattering.ScatteringMultiplier(\n",
    "#     multiple_scatter, \n",
    "#     beta_multiplescatter)\n",
    "\n",
    "utility = pp.PropagationUtility(collection = collection)\n",
    "detector = pp.geometry.Sphere(pp.Cartesian3D(0,0,0), 1e20) # version 7\n",
    "density_distr = pp.density_distribution.density_homogeneous(args[\"target\"].mass_density)\n",
    "\n",
    "\n",
    "prop = pp.Propagator(args[\"particle_def\"], [(detector, utility, density_distr)])\n",
    "\n",
    "init_state = pp.particle.ParticleState()\n",
    "init_state.position = pp.Cartesian3D(0, 0, 0) # version 7\n",
    "init_state.direction = pp.Cartesian3D(initial_direction[0], initial_direction[1], initial_direction[2]) # version 7\n"
   ]
  },
  {
   "attachments": {},
   "cell_type": "markdown",
   "id": "e211407c-8c7c-4af7-88a4-c426f5549097",
   "metadata": {},
   "source": [
    "# Run simulation"
   ]
  },
  {
   "cell_type": "code",
   "execution_count": 23,
   "id": "3659b805-ab88-4161-8260-88f5af28ada5",
   "metadata": {},
   "outputs": [
    {
     "name": "stderr",
     "output_type": "stream",
     "text": [
      "100%|██████████| 100/100 [00:03<00:00, 26.00it/s]\n"
     ]
    }
   ],
   "source": [
    "E_i = 1e9 # in MeV\n",
    "E_f = 1e6 # in MeV\n",
    "n_events = 100\n",
    "\n",
    "max_dist = 1e9 # in cm\n",
    "\n",
    "tracks = []\n",
    "for i in tqdm(range(n_events)):\n",
    "    init_state.energy = E_i # initial energy in MeV\n",
    "    track = prop.propagate(init_state, max_distance = max_dist, min_energy = E_f) # max_dist=1e9\n",
    "    tracks.append(track)"
   ]
  },
  {
   "cell_type": "code",
   "execution_count": null,
   "id": "4b755936",
   "metadata": {},
   "outputs": [
    {
     "data": {
      "text/plain": [
       "[0.99999999999989, -2.0339012404323062, 0.0011121568071021707]"
      ]
     },
     "execution_count": 9,
     "metadata": {},
     "output_type": "execute_result"
    }
   ],
   "source": [
    "tracks[0].track_directions()[-1].spherical_coordinates\n"
   ]
  },
  {
   "cell_type": "code",
   "execution_count": 9,
   "id": "c6af233d",
   "metadata": {},
   "outputs": [
    {
     "data": {
      "text/plain": [
       "[0.9999999999999454, 1.2279532949320213, 0.00015286988569512602]"
      ]
     },
     "execution_count": 9,
     "metadata": {},
     "output_type": "execute_result"
    }
   ],
   "source": [
    "tracks[0].track_directions()[-1].spherical_coordinates"
   ]
  },
  {
   "cell_type": "code",
   "execution_count": null,
   "id": "30a9c657",
   "metadata": {},
   "outputs": [],
   "source": []
  },
  {
   "cell_type": "code",
   "execution_count": null,
   "id": "f9322830",
   "metadata": {},
   "outputs": [],
   "source": []
  },
  {
   "cell_type": "code",
   "execution_count": null,
   "id": "109fc293",
   "metadata": {},
   "outputs": [],
   "source": []
  },
  {
   "cell_type": "code",
   "execution_count": 24,
   "id": "eece718e-51a7-4907-9de4-e85210f1929f",
   "metadata": {},
   "outputs": [
    {
     "name": "stderr",
     "output_type": "stream",
     "text": [
      "100%|██████████| 100/100 [00:02<00:00, 35.85it/s]\n"
     ]
    }
   ],
   "source": [
    "tracks_zenith = np.array([])\n",
    "tracks_azimuth = np.array([])\n",
    "tracks_x = np.array([])\n",
    "tracks_y = np.array([])\n",
    "tracks_z = np.array([])\n",
    "tracks_pos_x = np.array([])\n",
    "tracks_pos_y = np.array([])\n",
    "tracks_pos_z = np.array([])\n",
    "tracks_propagated_distances = np.array([])\n",
    "tracks_deflection = np.array([])\n",
    "for track in tqdm(tracks):\n",
    "    tracks_zenith = np.append(tracks_zenith, track.track_directions()[-1].spherical_coordinates[2])\n",
    "    tracks_azimuth = np.append(tracks_azimuth, track.track_directions()[-1].spherical_coordinates[1])\n",
    "    tracks_x = np.append(tracks_x, track.track_directions()[-1].x)\n",
    "    tracks_y = np.append(tracks_y, track.track_directions()[-1].y)\n",
    "    tracks_z = np.append(tracks_z, track.track_directions()[-1].z)\n",
    "    tracks_pos_x = np.append(tracks_pos_x, track.track_positions()[-1].x)\n",
    "    tracks_pos_y = np.append(tracks_pos_y, track.track_positions()[-1].y)\n",
    "    tracks_pos_z = np.append(tracks_pos_z, track.track_positions()[-1].z)\n",
    "    tracks_propagated_distances = np.append(tracks_propagated_distances, track.track_propagated_distances()[-1])\n",
    "    tracks_deflection = np.append(tracks_deflection, get_angle_deviation(\n",
    "        track.track_directions()[0].spherical_coordinates[1],\n",
    "        track.track_directions()[0].spherical_coordinates[2],\n",
    "        track.track_directions()[-1].spherical_coordinates[1],\n",
    "        track.track_directions()[-1].spherical_coordinates[2],\n",
    "        dtype='float64'\n",
    "    ))"
   ]
  },
  {
   "cell_type": "code",
   "execution_count": 11,
   "id": "c3054516-f7a6-4a96-9262-60abd61fcefd",
   "metadata": {},
   "outputs": [
    {
     "data": {
      "text/plain": [
       "<matplotlib.legend.Legend at 0x11ff89650>"
      ]
     },
     "execution_count": 11,
     "metadata": {},
     "output_type": "execute_result"
    },
    {
     "data": {
      "image/png": "[encoded data removed]",
      "text/plain": [
       "<Figure size 640x480 with 1 Axes>"
      ]
     },
     "metadata": {},
     "output_type": "display_data"
    }
   ],
   "source": [
    "bins = np.linspace(-np.pi, np.pi, 50)\n",
    "plt.hist(tracks_azimuth, bins=bins, histtype='step', label='azimuth')\n",
    "plt.hist(tracks_zenith, bins=bins, histtype='step', label='zenith')\n",
    "plt.xlabel('angle in rad')\n",
    "plt.yscale('log')\n",
    "plt.legend()"
   ]
  },
  {
   "cell_type": "code",
   "execution_count": 12,
   "id": "42bd79a0-629c-42ae-9dc4-6310b31c3f6e",
   "metadata": {},
   "outputs": [
    {
     "name": "stderr",
     "output_type": "stream",
     "text": [
      "/var/folders/pc/v24ktpt115qc820xwmy79pv40000gn/T/ipykernel_4337/4238873149.py:2: UserWarning: Attempting to set identical low and high xlims makes transformation singular; automatically expanding.\n",
      "  n = plt.hist2d(tracks_x, tracks_y, bins=bins, norm=mpl.colors.LogNorm(), cmap=mpl.cm.gray)\n",
      "/var/folders/pc/v24ktpt115qc820xwmy79pv40000gn/T/ipykernel_4337/4238873149.py:2: UserWarning: Attempting to set identical low and high ylims makes transformation singular; automatically expanding.\n",
      "  n = plt.hist2d(tracks_x, tracks_y, bins=bins, norm=mpl.colors.LogNorm(), cmap=mpl.cm.gray)\n"
     ]
    },
    {
     "data": {
      "text/plain": [
       "1.0"
      ]
     },
     "execution_count": 12,
     "metadata": {},
     "output_type": "execute_result"
    },
    {
     "data": {
      "image/png": "[encoded data removed]",
      "text/plain": [
       "<Figure size 640x480 with 2 Axes>"
      ]
     },
     "metadata": {},
     "output_type": "display_data"
    }
   ],
   "source": [
    "bins = (np.linspace(min(tracks_x), max(tracks_x), 50), np.linspace(min(tracks_y), max(tracks_y), 50))\n",
    "n = plt.hist2d(tracks_x, tracks_y, bins=bins, norm=mpl.colors.LogNorm(), cmap=mpl.cm.gray) \n",
    "plt.colorbar()\n",
    "plt.xlabel('$x\\,/\\,$cm')\n",
    "plt.ylabel('$y\\,/\\,$cm')\n",
    "plt.scatter(0, 0, color='red')   \n",
    "np.max(n[0])"
   ]
  },
  {
   "cell_type": "code",
   "execution_count": 115,
   "id": "b4d39d13",
   "metadata": {},
   "outputs": [
    {
     "data": {
      "text/plain": [
       "array([2284075.78964152, 1918963.50606242, 2036632.77906299,\n",
       "       2262568.15903133, 1224020.82770425, 2331156.35967805,\n",
       "       1702587.92859942, 2102761.58371951, 1843600.89739061,\n",
       "       1804210.00563016, 2009739.1176833 , 1485715.66664515,\n",
       "       1857086.53816851, 1479458.75598008, 1542821.57396725,\n",
       "       1054840.33744235, 1837403.2486176 , 1596770.84206398,\n",
       "       1312830.67810782, 1739534.088529  , 1283894.4732961 ,\n",
       "       1535199.83987977, 1308282.3241635 , 1984218.76930349,\n",
       "       2020681.6177632 , 1592683.678648  , 1941403.5539749 ,\n",
       "       1288467.28870348, 1691133.52568581, 1764564.56601706,\n",
       "       1618553.7341151 , 1618755.37463066, 2088165.63351907,\n",
       "       1814046.73461698, 1524831.61585954, 2312844.28753252,\n",
       "       1125810.33877819, 1398342.63709364, 1141136.6146752 ,\n",
       "       1527056.60813059, 1674479.15788988, 1868429.82946982,\n",
       "       1703981.62421914, 1327856.80706835, 1521055.5695893 ,\n",
       "       1554731.67878608, 1159400.66500787, 1159609.33573643,\n",
       "       2008527.67487889, 1652018.66778432, 1752402.56008801,\n",
       "        522226.71809199, 1011044.25364753, 2519788.01184789,\n",
       "       2066194.60674495, 1243585.14616782, 2373919.18734613,\n",
       "       2436927.07929297, 1957698.02536904,  753746.80683679,\n",
       "       1947248.59004593, 2194467.05694382, 2128619.29219508,\n",
       "       1437719.60693832, 1612719.36744158, 1781095.3939215 ,\n",
       "       1317544.70408521, 1549044.49124063, 2441535.30869868,\n",
       "       1346704.34384344, 1155906.56794539, 1396016.55879143,\n",
       "       1608734.33718967, 1800226.30204124, 2141178.40058877,\n",
       "       1625206.1523369 ,  998564.88033154, 1517045.48048441,\n",
       "       1909011.33310175, 2090845.52882217, 2302623.78427766,\n",
       "       2312611.93326193, 1268419.50009831, 1730713.16576644,\n",
       "       1853624.1058628 , 2180197.87532047, 2376600.63925152,\n",
       "       1380941.0984864 , 1413066.43836516, 1836936.92637306,\n",
       "       2643676.24553789, 2037532.1798312 , 2541732.88418351,\n",
       "       1276732.3576724 , 1636796.85200273, 1330292.67540792,\n",
       "       1738824.78942862, 1670926.2364712 , 2036970.58227154,\n",
       "       1516194.45317319])"
      ]
     },
     "execution_count": 115,
     "metadata": {},
     "output_type": "execute_result"
    }
   ],
   "source": [
    "tracks_propagated_distances"
   ]
  },
  {
   "cell_type": "code",
   "execution_count": 118,
   "id": "3832242e",
   "metadata": {},
   "outputs": [
    {
     "data": {
      "image/png": "[encoded data removed]",
      "text/plain": [
       "<Figure size 640x480 with 1 Axes>"
      ]
     },
     "metadata": {},
     "output_type": "display_data"
    }
   ],
   "source": [
    "bins = np.logspace(2, 5, 20)\n",
    "plt.hist(np.array(tracks_propagated_distances)/100, bins=bins)\n",
    "plt.yscale('log')\n",
    "plt.xlabel('$d\\,/\\,$m')\n",
    "plt.xscale('log')"
   ]
  },
  {
   "cell_type": "code",
   "execution_count": 13,
   "id": "9df4c413",
   "metadata": {},
   "outputs": [],
   "source": [
    "def d_shower(x, y, in_meter=True):\n",
    "    d = np.sqrt(x**2 + y**2)\n",
    "    if in_meter:\n",
    "        return d / 100 # distance in meter\n",
    "    else:\n",
    "        return  d "
   ]
  },
  {
   "cell_type": "code",
   "execution_count": 19,
   "id": "3614abe5",
   "metadata": {},
   "outputs": [
    {
     "data": {
      "text/plain": [
       "Text(0.5, 0, 'lateral displacement in cm')"
      ]
     },
     "execution_count": 19,
     "metadata": {},
     "output_type": "execute_result"
    },
    {
     "data": {
      "image/png": "[encoded data removed]",
      "text/plain": [
       "<Figure size 640x480 with 1 Axes>"
      ]
     },
     "metadata": {},
     "output_type": "display_data"
    }
   ],
   "source": [
    "plt.hist(d_shower(tracks_x, tracks_y, in_meter=False))\n",
    "plt.yscale('log')\n",
    "plt.xlabel('lateral displacement in cm')"
   ]
  },
  {
   "cell_type": "code",
   "execution_count": 20,
   "id": "b622b1fe",
   "metadata": {},
   "outputs": [
    {
     "data": {
      "text/plain": [
       "Text(0.5, 0, '$\\\\theta\\\\,/\\\\,°$')"
      ]
     },
     "execution_count": 20,
     "metadata": {},
     "output_type": "execute_result"
    },
    {
     "data": {
      "image/png": "[encoded data removed]",
      "text/plain": [
       "<Figure size 640x480 with 1 Axes>"
      ]
     },
     "metadata": {},
     "output_type": "display_data"
    }
   ],
   "source": [
    "bins = np.logspace(-6, 2, 20)\n",
    "plt.hist(np.rad2deg(tracks_deflection), bins=bins)\n",
    "plt.yscale('log')\n",
    "plt.xscale('log')\n",
    "plt.xlabel(r'$\\theta\\,/\\,°$')"
   ]
  },
  {
   "cell_type": "code",
   "execution_count": 25,
   "id": "c20d00cc",
   "metadata": {},
   "outputs": [
    {
     "data": {
      "text/plain": [
       "Text(0.5, 0, 'lateral displacement in cm')"
      ]
     },
     "execution_count": 25,
     "metadata": {},
     "output_type": "execute_result"
    },
    {
     "data": {
      "image/png": "[encoded data removed]",
      "text/plain": [
       "<Figure size 640x480 with 1 Axes>"
      ]
     },
     "metadata": {},
     "output_type": "display_data"
    }
   ],
   "source": [
    "plt.hist(d_shower(tracks_x, tracks_y, in_meter=False))\n",
    "plt.yscale('log')\n",
    "plt.xlabel('lateral displacement in cm')"
   ]
  },
  {
   "cell_type": "code",
   "execution_count": 26,
   "id": "925fef57",
   "metadata": {},
   "outputs": [
    {
     "data": {
      "text/plain": [
       "Text(0.5, 0, '$\\\\theta\\\\,/\\\\,°$')"
      ]
     },
     "execution_count": 26,
     "metadata": {},
     "output_type": "execute_result"
    },
    {
     "data": {
      "image/png": "[encoded data removed]",
      "text/plain": [
       "<Figure size 640x480 with 1 Axes>"
      ]
     },
     "metadata": {},
     "output_type": "display_data"
    }
   ],
   "source": [
    "bins = np.logspace(-6, 2, 20)\n",
    "plt.hist(np.rad2deg(tracks_deflection), bins=bins)\n",
    "plt.yscale('log')\n",
    "plt.xscale('log')\n",
    "plt.xlabel(r'$\\theta\\,/\\,°$')"
   ]
  },
  {
   "attachments": {},
   "cell_type": "markdown",
   "id": "daf5c1a5-fe4e-4704-a095-aff4195b86e4",
   "metadata": {},
   "source": [
    "## save data"
   ]
  },
  {
   "cell_type": "code",
   "execution_count": 133,
   "id": "4d51d3c7-bda2-4f5b-8bf2-3ee1394f4085",
   "metadata": {},
   "outputs": [
    {
     "name": "stdout",
     "output_type": "stream",
     "text": [
      "E1000000_moliere_v_cut0_05_e_cut500\n"
     ]
    }
   ],
   "source": [
    "# '''\n",
    "df = pd.DataFrame()\n",
    "df['x'] = tracks_x\n",
    "df['y'] = tracks_y\n",
    "df['z'] = tracks_z\n",
    "df['pos_x'] = tracks_pos_x\n",
    "df['pos_y'] = tracks_pos_y\n",
    "df['pos_z'] = tracks_pos_z\n",
    "df['zenith'] = tracks_zenith\n",
    "df['azimuth'] = tracks_azimuth\n",
    "df['propagated_distances'] = tracks_propagated_distances\n",
    "df['deflection'] = tracks_deflection\n",
    "\n",
    "key = 'E{}_{}_v_cut{}_e_cut{}'.format(int(E_i/1e3), scattering_method, v_cut, e_cut).replace('.', '_') # E_i in GeV\n",
    "df.to_hdf(data_dir + 'proposal.hdf5', key=key)\n",
    "print(key)\n",
    "# '''"
   ]
  },
  {
   "attachments": {},
   "cell_type": "markdown",
   "id": "784a2693-92f3-4116-bf03-986dafb32315",
   "metadata": {},
   "source": [
    "## read data"
   ]
  },
  {
   "cell_type": "code",
   "execution_count": 132,
   "id": "c92e6b39-f4f5-43e0-8c99-3b4a653db8e1",
   "metadata": {},
   "outputs": [
    {
     "data": {
      "text/html": [
       "<div>\n",
       "<style scoped>\n",
       "    .dataframe tbody tr th:only-of-type {\n",
       "        vertical-align: middle;\n",
       "    }\n",
       "\n",
       "    .dataframe tbody tr th {\n",
       "        vertical-align: top;\n",
       "    }\n",
       "\n",
       "    .dataframe thead th {\n",
       "        text-align: right;\n",
       "    }\n",
       "</style>\n",
       "<table border=\"1\" class=\"dataframe\">\n",
       "  <thead>\n",
       "    <tr style=\"text-align: right;\">\n",
       "      <th></th>\n",
       "      <th>x</th>\n",
       "      <th>y</th>\n",
       "      <th>z</th>\n",
       "      <th>pos_x</th>\n",
       "      <th>pos_y</th>\n",
       "      <th>pos_z</th>\n",
       "      <th>zenith</th>\n",
       "      <th>azimuth</th>\n",
       "      <th>propagated_distances</th>\n",
       "      <th>deflection</th>\n",
       "    </tr>\n",
       "  </thead>\n",
       "  <tbody>\n",
       "    <tr>\n",
       "      <th>0</th>\n",
       "      <td>0.000429</td>\n",
       "      <td>0.000223</td>\n",
       "      <td>1.000000</td>\n",
       "      <td>-23.873137</td>\n",
       "      <td>68.470705</td>\n",
       "      <td>2.284076e+06</td>\n",
       "      <td>0.000484</td>\n",
       "      <td>0.478161</td>\n",
       "      <td>2.284076e+06</td>\n",
       "      <td>0.000484</td>\n",
       "    </tr>\n",
       "    <tr>\n",
       "      <th>1</th>\n",
       "      <td>-0.000930</td>\n",
       "      <td>-0.000713</td>\n",
       "      <td>0.999999</td>\n",
       "      <td>-70.064454</td>\n",
       "      <td>-12.439169</td>\n",
       "      <td>1.918963e+06</td>\n",
       "      <td>0.001172</td>\n",
       "      <td>-2.487667</td>\n",
       "      <td>1.918964e+06</td>\n",
       "      <td>0.001172</td>\n",
       "    </tr>\n",
       "    <tr>\n",
       "      <th>2</th>\n",
       "      <td>0.001416</td>\n",
       "      <td>0.000425</td>\n",
       "      <td>0.999999</td>\n",
       "      <td>604.713131</td>\n",
       "      <td>-15.218533</td>\n",
       "      <td>2.036632e+06</td>\n",
       "      <td>0.001479</td>\n",
       "      <td>0.291396</td>\n",
       "      <td>2.036633e+06</td>\n",
       "      <td>0.001479</td>\n",
       "    </tr>\n",
       "    <tr>\n",
       "      <th>3</th>\n",
       "      <td>-0.000589</td>\n",
       "      <td>0.000291</td>\n",
       "      <td>1.000000</td>\n",
       "      <td>20.176724</td>\n",
       "      <td>302.237134</td>\n",
       "      <td>2.262568e+06</td>\n",
       "      <td>0.000657</td>\n",
       "      <td>2.682381</td>\n",
       "      <td>2.262568e+06</td>\n",
       "      <td>0.000657</td>\n",
       "    </tr>\n",
       "    <tr>\n",
       "      <th>4</th>\n",
       "      <td>-0.000211</td>\n",
       "      <td>0.000924</td>\n",
       "      <td>1.000000</td>\n",
       "      <td>21.238000</td>\n",
       "      <td>51.762025</td>\n",
       "      <td>1.224021e+06</td>\n",
       "      <td>0.000948</td>\n",
       "      <td>1.795281</td>\n",
       "      <td>1.224021e+06</td>\n",
       "      <td>0.000948</td>\n",
       "    </tr>\n",
       "    <tr>\n",
       "      <th>...</th>\n",
       "      <td>...</td>\n",
       "      <td>...</td>\n",
       "      <td>...</td>\n",
       "      <td>...</td>\n",
       "      <td>...</td>\n",
       "      <td>...</td>\n",
       "      <td>...</td>\n",
       "      <td>...</td>\n",
       "      <td>...</td>\n",
       "      <td>...</td>\n",
       "    </tr>\n",
       "    <tr>\n",
       "      <th>95</th>\n",
       "      <td>0.000479</td>\n",
       "      <td>0.000689</td>\n",
       "      <td>1.000000</td>\n",
       "      <td>16.547724</td>\n",
       "      <td>100.837430</td>\n",
       "      <td>1.330293e+06</td>\n",
       "      <td>0.000840</td>\n",
       "      <td>0.962944</td>\n",
       "      <td>1.330293e+06</td>\n",
       "      <td>0.000840</td>\n",
       "    </tr>\n",
       "    <tr>\n",
       "      <th>96</th>\n",
       "      <td>-0.000176</td>\n",
       "      <td>-0.000494</td>\n",
       "      <td>1.000000</td>\n",
       "      <td>-34.512308</td>\n",
       "      <td>-238.261085</td>\n",
       "      <td>1.738825e+06</td>\n",
       "      <td>0.000525</td>\n",
       "      <td>-1.912331</td>\n",
       "      <td>1.738825e+06</td>\n",
       "      <td>0.000525</td>\n",
       "    </tr>\n",
       "    <tr>\n",
       "      <th>97</th>\n",
       "      <td>-0.001511</td>\n",
       "      <td>-0.001058</td>\n",
       "      <td>0.999998</td>\n",
       "      <td>-132.013795</td>\n",
       "      <td>-81.125442</td>\n",
       "      <td>1.670926e+06</td>\n",
       "      <td>0.001844</td>\n",
       "      <td>-2.530660</td>\n",
       "      <td>1.670926e+06</td>\n",
       "      <td>0.001844</td>\n",
       "    </tr>\n",
       "    <tr>\n",
       "      <th>98</th>\n",
       "      <td>0.000302</td>\n",
       "      <td>-0.000080</td>\n",
       "      <td>1.000000</td>\n",
       "      <td>13.280076</td>\n",
       "      <td>-8.053183</td>\n",
       "      <td>2.036971e+06</td>\n",
       "      <td>0.000312</td>\n",
       "      <td>-0.258522</td>\n",
       "      <td>2.036971e+06</td>\n",
       "      <td>0.000312</td>\n",
       "    </tr>\n",
       "    <tr>\n",
       "      <th>99</th>\n",
       "      <td>-0.000606</td>\n",
       "      <td>-0.000636</td>\n",
       "      <td>1.000000</td>\n",
       "      <td>-202.353623</td>\n",
       "      <td>11.992463</td>\n",
       "      <td>1.516194e+06</td>\n",
       "      <td>0.000879</td>\n",
       "      <td>-2.332055</td>\n",
       "      <td>1.516194e+06</td>\n",
       "      <td>0.000879</td>\n",
       "    </tr>\n",
       "  </tbody>\n",
       "</table>\n",
       "<p>100 rows × 10 columns</p>\n",
       "</div>"
      ],
      "text/plain": [
       "           x         y         z       pos_x       pos_y         pos_z  \\\n",
       "0   0.000429  0.000223  1.000000  -23.873137   68.470705  2.284076e+06   \n",
       "1  -0.000930 -0.000713  0.999999  -70.064454  -12.439169  1.918963e+06   \n",
       "2   0.001416  0.000425  0.999999  604.713131  -15.218533  2.036632e+06   \n",
       "3  -0.000589  0.000291  1.000000   20.176724  302.237134  2.262568e+06   \n",
       "4  -0.000211  0.000924  1.000000   21.238000   51.762025  1.224021e+06   \n",
       "..       ...       ...       ...         ...         ...           ...   \n",
       "95  0.000479  0.000689  1.000000   16.547724  100.837430  1.330293e+06   \n",
       "96 -0.000176 -0.000494  1.000000  -34.512308 -238.261085  1.738825e+06   \n",
       "97 -0.001511 -0.001058  0.999998 -132.013795  -81.125442  1.670926e+06   \n",
       "98  0.000302 -0.000080  1.000000   13.280076   -8.053183  2.036971e+06   \n",
       "99 -0.000606 -0.000636  1.000000 -202.353623   11.992463  1.516194e+06   \n",
       "\n",
       "      zenith   azimuth  propagated_distances  deflection  \n",
       "0   0.000484  0.478161          2.284076e+06    0.000484  \n",
       "1   0.001172 -2.487667          1.918964e+06    0.001172  \n",
       "2   0.001479  0.291396          2.036633e+06    0.001479  \n",
       "3   0.000657  2.682381          2.262568e+06    0.000657  \n",
       "4   0.000948  1.795281          1.224021e+06    0.000948  \n",
       "..       ...       ...                   ...         ...  \n",
       "95  0.000840  0.962944          1.330293e+06    0.000840  \n",
       "96  0.000525 -1.912331          1.738825e+06    0.000525  \n",
       "97  0.001844 -2.530660          1.670926e+06    0.001844  \n",
       "98  0.000312 -0.258522          2.036971e+06    0.000312  \n",
       "99  0.000879 -2.332055          1.516194e+06    0.000879  \n",
       "\n",
       "[100 rows x 10 columns]"
      ]
     },
     "execution_count": 132,
     "metadata": {},
     "output_type": "execute_result"
    }
   ],
   "source": [
    "df = pd.read_hdf(data_dir + 'proposal.hdf5', key=key)\n",
    "df"
   ]
  },
  {
   "attachments": {},
   "cell_type": "markdown",
   "id": "5be14b96-3fd9-49d9-8297-e733656040e4",
   "metadata": {},
   "source": [
    "# Plot all "
   ]
  },
  {
   "attachments": {},
   "cell_type": "markdown",
   "id": "840d1d64",
   "metadata": {},
   "source": []
  }
 ],
 "metadata": {
  "kernelspec": {
   "display_name": "Python 3",
   "language": "python",
   "name": "python3"
  },
  "language_info": {
   "codemirror_mode": {
    "name": "ipython",
    "version": 3
   },
   "file_extension": ".py",
   "mimetype": "text/x-python",
   "name": "python",
   "nbconvert_exporter": "python",
   "pygments_lexer": "ipython3",
   "version": "3.9.6"
  }
 },
 "nbformat": 4,
 "nbformat_minor": 5
}
