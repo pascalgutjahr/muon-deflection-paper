{
 "cells": [
  {
   "cell_type": "code",
   "execution_count": 9,
   "metadata": {},
   "outputs": [],
   "source": [
    "import numpy as np\n",
    "import pandas as pd\n",
    "import matplotlib.pyplot as plt\n",
    "import h5py"
   ]
  },
  {
   "cell_type": "code",
   "execution_count": 10,
   "metadata": {},
   "outputs": [
    {
     "data": {
      "text/plain": [
       "['E1000000_moliere_v_cut0.05_e_cut500',\n",
       " 'E1000000_moliere_v_cut0_05_e_cut500',\n",
       " 'E1000_highland_v_cut0_05_e_cut500',\n",
       " 'E1000_highlandintegral_v_cut0_05_e_cut500',\n",
       " 'E1000_moliere_v_cut0_05_e_cut500',\n",
       " 'E1000_moliere_v_cut0_05_e_cutinf',\n",
       " 'E1000_moliere_v_cut0_05_e_cutnp_inf',\n",
       " 'E1000_moliereinterpol_v_cut0_05_e_cut500']"
      ]
     },
     "execution_count": 10,
     "metadata": {},
     "output_type": "execute_result"
    }
   ],
   "source": [
    "file_path = 'data/deflection_method_shower_dist/ginneken.hdf5'\n",
    "f = h5py.File(file_path)\n",
    "keys = [key for key in f.keys()]\n",
    "f.close()\n",
    "keys"
   ]
  },
  {
   "cell_type": "code",
   "execution_count": 11,
   "metadata": {},
   "outputs": [
    {
     "name": "stdout",
     "output_type": "stream",
     "text": [
      "E1000000_moliere_v_cut0.05_e_cut500\n",
      "E1000000_moliere_v_cut0_05_e_cut500\n",
      "E1000_highland_v_cut0_05_e_cut500\n",
      "E1000_highlandintegral_v_cut0_05_e_cut500\n",
      "E1000_moliere_v_cut0_05_e_cut500\n",
      "E1000_moliere_v_cut0_05_e_cutinf\n",
      "E1000_moliere_v_cut0_05_e_cutnp_inf\n",
      "E1000_moliereinterpol_v_cut0_05_e_cut500\n"
     ]
    }
   ],
   "source": [
    "df_dict = {}\n",
    "for key in keys:\n",
    "    print(key)\n",
    "    df_dict[key] = pd.read_hdf(file_path, key=key)"
   ]
  },
  {
   "cell_type": "code",
   "execution_count": 12,
   "metadata": {},
   "outputs": [
    {
     "data": {
      "text/html": [
       "<div>\n",
       "<style scoped>\n",
       "    .dataframe tbody tr th:only-of-type {\n",
       "        vertical-align: middle;\n",
       "    }\n",
       "\n",
       "    .dataframe tbody tr th {\n",
       "        vertical-align: top;\n",
       "    }\n",
       "\n",
       "    .dataframe thead th {\n",
       "        text-align: right;\n",
       "    }\n",
       "</style>\n",
       "<table border=\"1\" class=\"dataframe\">\n",
       "  <thead>\n",
       "    <tr style=\"text-align: right;\">\n",
       "      <th></th>\n",
       "      <th>x</th>\n",
       "      <th>y</th>\n",
       "      <th>z</th>\n",
       "      <th>pos_x</th>\n",
       "      <th>pos_y</th>\n",
       "      <th>pos_z</th>\n",
       "      <th>zenith</th>\n",
       "      <th>azimuth</th>\n",
       "      <th>propagated_distances</th>\n",
       "      <th>deflection</th>\n",
       "    </tr>\n",
       "  </thead>\n",
       "  <tbody>\n",
       "    <tr>\n",
       "      <th>0</th>\n",
       "      <td>-0.000497</td>\n",
       "      <td>-0.000995</td>\n",
       "      <td>0.999999</td>\n",
       "      <td>-31.024778</td>\n",
       "      <td>-133.861955</td>\n",
       "      <td>1.582539e+06</td>\n",
       "      <td>0.001112</td>\n",
       "      <td>-2.033901</td>\n",
       "      <td>1.582539e+06</td>\n",
       "      <td>0.001112</td>\n",
       "    </tr>\n",
       "    <tr>\n",
       "      <th>1</th>\n",
       "      <td>0.000018</td>\n",
       "      <td>-0.000642</td>\n",
       "      <td>1.000000</td>\n",
       "      <td>6.749789</td>\n",
       "      <td>57.048724</td>\n",
       "      <td>1.541778e+06</td>\n",
       "      <td>0.000643</td>\n",
       "      <td>-1.542208</td>\n",
       "      <td>1.541778e+06</td>\n",
       "      <td>0.000643</td>\n",
       "    </tr>\n",
       "    <tr>\n",
       "      <th>2</th>\n",
       "      <td>0.000308</td>\n",
       "      <td>-0.000185</td>\n",
       "      <td>1.000000</td>\n",
       "      <td>273.223068</td>\n",
       "      <td>333.017347</td>\n",
       "      <td>1.744259e+06</td>\n",
       "      <td>0.000359</td>\n",
       "      <td>-0.541749</td>\n",
       "      <td>1.744259e+06</td>\n",
       "      <td>0.000359</td>\n",
       "    </tr>\n",
       "    <tr>\n",
       "      <th>3</th>\n",
       "      <td>0.000856</td>\n",
       "      <td>0.000651</td>\n",
       "      <td>0.999999</td>\n",
       "      <td>155.393443</td>\n",
       "      <td>-97.562813</td>\n",
       "      <td>1.510906e+06</td>\n",
       "      <td>0.001075</td>\n",
       "      <td>0.650161</td>\n",
       "      <td>1.510906e+06</td>\n",
       "      <td>0.001075</td>\n",
       "    </tr>\n",
       "    <tr>\n",
       "      <th>4</th>\n",
       "      <td>0.001403</td>\n",
       "      <td>0.001085</td>\n",
       "      <td>0.999998</td>\n",
       "      <td>206.594766</td>\n",
       "      <td>186.949755</td>\n",
       "      <td>1.528761e+06</td>\n",
       "      <td>0.001774</td>\n",
       "      <td>0.658285</td>\n",
       "      <td>1.528761e+06</td>\n",
       "      <td>0.001774</td>\n",
       "    </tr>\n",
       "    <tr>\n",
       "      <th>...</th>\n",
       "      <td>...</td>\n",
       "      <td>...</td>\n",
       "      <td>...</td>\n",
       "      <td>...</td>\n",
       "      <td>...</td>\n",
       "      <td>...</td>\n",
       "      <td>...</td>\n",
       "      <td>...</td>\n",
       "      <td>...</td>\n",
       "      <td>...</td>\n",
       "    </tr>\n",
       "    <tr>\n",
       "      <th>95</th>\n",
       "      <td>0.000108</td>\n",
       "      <td>-0.000056</td>\n",
       "      <td>1.000000</td>\n",
       "      <td>-76.579876</td>\n",
       "      <td>-159.446134</td>\n",
       "      <td>1.880731e+06</td>\n",
       "      <td>0.000122</td>\n",
       "      <td>-0.477001</td>\n",
       "      <td>1.880731e+06</td>\n",
       "      <td>0.000122</td>\n",
       "    </tr>\n",
       "    <tr>\n",
       "      <th>96</th>\n",
       "      <td>-0.002245</td>\n",
       "      <td>0.000344</td>\n",
       "      <td>0.999997</td>\n",
       "      <td>67.720182</td>\n",
       "      <td>-48.689442</td>\n",
       "      <td>2.273224e+06</td>\n",
       "      <td>0.002271</td>\n",
       "      <td>2.989464</td>\n",
       "      <td>2.273224e+06</td>\n",
       "      <td>0.002271</td>\n",
       "    </tr>\n",
       "    <tr>\n",
       "      <th>97</th>\n",
       "      <td>0.000178</td>\n",
       "      <td>0.001025</td>\n",
       "      <td>0.999999</td>\n",
       "      <td>19.125407</td>\n",
       "      <td>29.167312</td>\n",
       "      <td>5.843697e+05</td>\n",
       "      <td>0.001040</td>\n",
       "      <td>1.398945</td>\n",
       "      <td>5.843697e+05</td>\n",
       "      <td>0.001040</td>\n",
       "    </tr>\n",
       "    <tr>\n",
       "      <th>98</th>\n",
       "      <td>0.002351</td>\n",
       "      <td>0.001116</td>\n",
       "      <td>0.999997</td>\n",
       "      <td>421.977520</td>\n",
       "      <td>465.972730</td>\n",
       "      <td>1.867482e+06</td>\n",
       "      <td>0.002602</td>\n",
       "      <td>0.443101</td>\n",
       "      <td>1.867483e+06</td>\n",
       "      <td>0.002602</td>\n",
       "    </tr>\n",
       "    <tr>\n",
       "      <th>99</th>\n",
       "      <td>-0.001462</td>\n",
       "      <td>0.001497</td>\n",
       "      <td>0.999998</td>\n",
       "      <td>-159.099522</td>\n",
       "      <td>256.640728</td>\n",
       "      <td>2.205984e+06</td>\n",
       "      <td>0.002092</td>\n",
       "      <td>2.344614</td>\n",
       "      <td>2.205984e+06</td>\n",
       "      <td>0.002092</td>\n",
       "    </tr>\n",
       "  </tbody>\n",
       "</table>\n",
       "<p>100 rows × 10 columns</p>\n",
       "</div>"
      ],
      "text/plain": [
       "           x         y         z       pos_x       pos_y         pos_z  \\\n",
       "0  -0.000497 -0.000995  0.999999  -31.024778 -133.861955  1.582539e+06   \n",
       "1   0.000018 -0.000642  1.000000    6.749789   57.048724  1.541778e+06   \n",
       "2   0.000308 -0.000185  1.000000  273.223068  333.017347  1.744259e+06   \n",
       "3   0.000856  0.000651  0.999999  155.393443  -97.562813  1.510906e+06   \n",
       "4   0.001403  0.001085  0.999998  206.594766  186.949755  1.528761e+06   \n",
       "..       ...       ...       ...         ...         ...           ...   \n",
       "95  0.000108 -0.000056  1.000000  -76.579876 -159.446134  1.880731e+06   \n",
       "96 -0.002245  0.000344  0.999997   67.720182  -48.689442  2.273224e+06   \n",
       "97  0.000178  0.001025  0.999999   19.125407   29.167312  5.843697e+05   \n",
       "98  0.002351  0.001116  0.999997  421.977520  465.972730  1.867482e+06   \n",
       "99 -0.001462  0.001497  0.999998 -159.099522  256.640728  2.205984e+06   \n",
       "\n",
       "      zenith   azimuth  propagated_distances  deflection  \n",
       "0   0.001112 -2.033901          1.582539e+06    0.001112  \n",
       "1   0.000643 -1.542208          1.541778e+06    0.000643  \n",
       "2   0.000359 -0.541749          1.744259e+06    0.000359  \n",
       "3   0.001075  0.650161          1.510906e+06    0.001075  \n",
       "4   0.001774  0.658285          1.528761e+06    0.001774  \n",
       "..       ...       ...                   ...         ...  \n",
       "95  0.000122 -0.477001          1.880731e+06    0.000122  \n",
       "96  0.002271  2.989464          2.273224e+06    0.002271  \n",
       "97  0.001040  1.398945          5.843697e+05    0.001040  \n",
       "98  0.002602  0.443101          1.867483e+06    0.002602  \n",
       "99  0.002092  2.344614          2.205984e+06    0.002092  \n",
       "\n",
       "[100 rows x 10 columns]"
      ]
     },
     "execution_count": 12,
     "metadata": {},
     "output_type": "execute_result"
    }
   ],
   "source": [
    "df_dict['E1000000_moliere_v_cut0.05_e_cut500']"
   ]
  },
  {
   "cell_type": "code",
   "execution_count": 13,
   "metadata": {},
   "outputs": [
    {
     "data": {
      "text/plain": [
       "<matplotlib.legend.Legend at 0x13d81e6d0>"
      ]
     },
     "execution_count": 13,
     "metadata": {},
     "output_type": "execute_result"
    },
    {
     "data": {
      "image/png": "[encoded data removed]",
      "text/plain": [
       "<Figure size 640x480 with 1 Axes>"
      ]
     },
     "metadata": {},
     "output_type": "display_data"
    }
   ],
   "source": [
    "bins = np.logspace(-5, 2, 20)\n",
    "for key in df_dict.keys():\n",
    "    plt.hist(df_dict[key].deflection, bins=bins, histtype='step', label=key)\n",
    "\n",
    "plt.xscale('log')\n",
    "plt.yscale('log')\n",
    "plt.legend(bbox_to_anchor=(1,1))"
   ]
  },
  {
   "cell_type": "code",
   "execution_count": null,
   "metadata": {},
   "outputs": [],
   "source": []
  }
 ],
 "metadata": {
  "kernelspec": {
   "display_name": "proposal_762",
   "language": "python",
   "name": "python3"
  },
  "language_info": {
   "codemirror_mode": {
    "name": "ipython",
    "version": 3
   },
   "file_extension": ".py",
   "mimetype": "text/x-python",
   "name": "python",
   "nbconvert_exporter": "python",
   "pygments_lexer": "ipython3",
   "version": "3.9.6"
  },
  "orig_nbformat": 4
 },
 "nbformat": 4,
 "nbformat_minor": 2
}
