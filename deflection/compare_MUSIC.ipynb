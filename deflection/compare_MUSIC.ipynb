{
 "cells": [
  {
   "cell_type": "code",
   "execution_count": 56,
   "id": "58e54a43-9ba5-40b4-841f-58fcfde6594d",
   "metadata": {},
   "outputs": [],
   "source": [
    "import numpy as np\n",
    "import matplotlib.pyplot as plt \n",
    "import os \n",
    "from tqdm import tqdm\n",
    "import pandas as pd\n",
    "from statistics import mode\n",
    "from helper_functions import energy_name"
   ]
  },
  {
   "cell_type": "code",
   "execution_count": 57,
   "id": "4084c955-dfb8-40f0-8b80-1dd29f0f1702",
   "metadata": {},
   "outputs": [],
   "source": [
    "%matplotlib inline"
   ]
  },
  {
   "cell_type": "code",
   "execution_count": 58,
   "id": "7fc53f9f",
   "metadata": {},
   "outputs": [
    {
     "data": {
      "text/plain": [
       "0"
      ]
     },
     "execution_count": 58,
     "metadata": {},
     "output_type": "execute_result"
    }
   ],
   "source": [
    "save_plot = True # False\n",
    "\n",
    "# currentNotebook = ipyparams.notebook_name[:len(ipyparams.notebook_name)-6] # get name of currect notebook\n",
    "# assert currentNotebook != '', \"no notebook name, run cell again\"\n",
    "\n",
    "currentNotebook = \"compare_MUSIC\"\n",
    "\n",
    "plot_dir = 'plots/{}/'.format(currentNotebook)\n",
    "os.system('mkdir -p {}'.format(plot_dir))\n",
    "\n",
    "df_dir = 'data/{}/'.format(currentNotebook)\n",
    "os.system('mkdir -p {}'.format(df_dir))"
   ]
  },
  {
   "cell_type": "code",
   "execution_count": 59,
   "id": "c7759299-6000-4405-ad2d-da90614af923",
   "metadata": {},
   "outputs": [
    {
     "data": {
      "text/html": [
       "<div>\n",
       "<style scoped>\n",
       "    .dataframe tbody tr th:only-of-type {\n",
       "        vertical-align: middle;\n",
       "    }\n",
       "\n",
       "    .dataframe tbody tr th {\n",
       "        vertical-align: top;\n",
       "    }\n",
       "\n",
       "    .dataframe thead th {\n",
       "        text-align: right;\n",
       "    }\n",
       "</style>\n",
       "<table border=\"1\" class=\"dataframe\">\n",
       "  <thead>\n",
       "    <tr style=\"text-align: right;\">\n",
       "      <th></th>\n",
       "      <th>E_i</th>\n",
       "      <th>E_f</th>\n",
       "      <th>distances</th>\n",
       "      <th>deflection</th>\n",
       "      <th>x_dir_i</th>\n",
       "      <th>y_dir_i</th>\n",
       "      <th>z_dir_i</th>\n",
       "      <th>x_i</th>\n",
       "      <th>y_i</th>\n",
       "      <th>z_i</th>\n",
       "      <th>x_f</th>\n",
       "      <th>y_f</th>\n",
       "      <th>z_f</th>\n",
       "    </tr>\n",
       "  </thead>\n",
       "  <tbody>\n",
       "    <tr>\n",
       "      <th>0</th>\n",
       "      <td>2000.0</td>\n",
       "      <td>0.200000</td>\n",
       "      <td>1604.874964</td>\n",
       "      <td>8.847735</td>\n",
       "      <td>0.0</td>\n",
       "      <td>0.0</td>\n",
       "      <td>1.0</td>\n",
       "      <td>0.0</td>\n",
       "      <td>0.0</td>\n",
       "      <td>0.0</td>\n",
       "      <td>-524.662556</td>\n",
       "      <td>201.134609</td>\n",
       "      <td>160479.941499</td>\n",
       "    </tr>\n",
       "    <tr>\n",
       "      <th>1</th>\n",
       "      <td>2000.0</td>\n",
       "      <td>687.083800</td>\n",
       "      <td>3000.000000</td>\n",
       "      <td>0.137316</td>\n",
       "      <td>0.0</td>\n",
       "      <td>0.0</td>\n",
       "      <td>1.0</td>\n",
       "      <td>0.0</td>\n",
       "      <td>0.0</td>\n",
       "      <td>0.0</td>\n",
       "      <td>313.408525</td>\n",
       "      <td>-105.517592</td>\n",
       "      <td>299999.641344</td>\n",
       "    </tr>\n",
       "    <tr>\n",
       "      <th>2</th>\n",
       "      <td>2000.0</td>\n",
       "      <td>470.082908</td>\n",
       "      <td>3000.000000</td>\n",
       "      <td>0.093675</td>\n",
       "      <td>0.0</td>\n",
       "      <td>0.0</td>\n",
       "      <td>1.0</td>\n",
       "      <td>0.0</td>\n",
       "      <td>0.0</td>\n",
       "      <td>0.0</td>\n",
       "      <td>114.018856</td>\n",
       "      <td>-31.357471</td>\n",
       "      <td>299999.912964</td>\n",
       "    </tr>\n",
       "    <tr>\n",
       "      <th>3</th>\n",
       "      <td>2000.0</td>\n",
       "      <td>488.508415</td>\n",
       "      <td>3000.000000</td>\n",
       "      <td>0.077297</td>\n",
       "      <td>0.0</td>\n",
       "      <td>0.0</td>\n",
       "      <td>1.0</td>\n",
       "      <td>0.0</td>\n",
       "      <td>0.0</td>\n",
       "      <td>0.0</td>\n",
       "      <td>-112.197193</td>\n",
       "      <td>-54.858427</td>\n",
       "      <td>299999.912052</td>\n",
       "    </tr>\n",
       "    <tr>\n",
       "      <th>4</th>\n",
       "      <td>2000.0</td>\n",
       "      <td>33.516930</td>\n",
       "      <td>3000.000000</td>\n",
       "      <td>0.790317</td>\n",
       "      <td>0.0</td>\n",
       "      <td>0.0</td>\n",
       "      <td>1.0</td>\n",
       "      <td>0.0</td>\n",
       "      <td>0.0</td>\n",
       "      <td>0.0</td>\n",
       "      <td>518.874108</td>\n",
       "      <td>140.390981</td>\n",
       "      <td>299997.966962</td>\n",
       "    </tr>\n",
       "    <tr>\n",
       "      <th>...</th>\n",
       "      <td>...</td>\n",
       "      <td>...</td>\n",
       "      <td>...</td>\n",
       "      <td>...</td>\n",
       "      <td>...</td>\n",
       "      <td>...</td>\n",
       "      <td>...</td>\n",
       "      <td>...</td>\n",
       "      <td>...</td>\n",
       "      <td>...</td>\n",
       "      <td>...</td>\n",
       "      <td>...</td>\n",
       "      <td>...</td>\n",
       "    </tr>\n",
       "    <tr>\n",
       "      <th>999995</th>\n",
       "      <td>2000.0</td>\n",
       "      <td>0.199750</td>\n",
       "      <td>2836.812539</td>\n",
       "      <td>7.010748</td>\n",
       "      <td>0.0</td>\n",
       "      <td>0.0</td>\n",
       "      <td>1.0</td>\n",
       "      <td>0.0</td>\n",
       "      <td>0.0</td>\n",
       "      <td>0.0</td>\n",
       "      <td>347.559914</td>\n",
       "      <td>235.456335</td>\n",
       "      <td>283674.318813</td>\n",
       "    </tr>\n",
       "    <tr>\n",
       "      <th>999996</th>\n",
       "      <td>2000.0</td>\n",
       "      <td>356.101734</td>\n",
       "      <td>3000.000000</td>\n",
       "      <td>0.065811</td>\n",
       "      <td>0.0</td>\n",
       "      <td>0.0</td>\n",
       "      <td>1.0</td>\n",
       "      <td>0.0</td>\n",
       "      <td>0.0</td>\n",
       "      <td>0.0</td>\n",
       "      <td>-323.701793</td>\n",
       "      <td>210.717255</td>\n",
       "      <td>299999.535188</td>\n",
       "    </tr>\n",
       "    <tr>\n",
       "      <th>999997</th>\n",
       "      <td>2000.0</td>\n",
       "      <td>615.548507</td>\n",
       "      <td>3000.000000</td>\n",
       "      <td>0.032227</td>\n",
       "      <td>0.0</td>\n",
       "      <td>0.0</td>\n",
       "      <td>1.0</td>\n",
       "      <td>0.0</td>\n",
       "      <td>0.0</td>\n",
       "      <td>0.0</td>\n",
       "      <td>-128.971485</td>\n",
       "      <td>-47.462755</td>\n",
       "      <td>299999.936531</td>\n",
       "    </tr>\n",
       "    <tr>\n",
       "      <th>999998</th>\n",
       "      <td>2000.0</td>\n",
       "      <td>103.086678</td>\n",
       "      <td>3000.000000</td>\n",
       "      <td>0.133853</td>\n",
       "      <td>0.0</td>\n",
       "      <td>0.0</td>\n",
       "      <td>1.0</td>\n",
       "      <td>0.0</td>\n",
       "      <td>0.0</td>\n",
       "      <td>0.0</td>\n",
       "      <td>-17.664694</td>\n",
       "      <td>115.545034</td>\n",
       "      <td>299999.754015</td>\n",
       "    </tr>\n",
       "    <tr>\n",
       "      <th>999999</th>\n",
       "      <td>2000.0</td>\n",
       "      <td>370.723904</td>\n",
       "      <td>3000.000000</td>\n",
       "      <td>0.096285</td>\n",
       "      <td>0.0</td>\n",
       "      <td>0.0</td>\n",
       "      <td>1.0</td>\n",
       "      <td>0.0</td>\n",
       "      <td>0.0</td>\n",
       "      <td>0.0</td>\n",
       "      <td>88.602564</td>\n",
       "      <td>294.476065</td>\n",
       "      <td>299999.688911</td>\n",
       "    </tr>\n",
       "  </tbody>\n",
       "</table>\n",
       "<p>1000000 rows × 13 columns</p>\n",
       "</div>"
      ],
      "text/plain": [
       "           E_i         E_f    distances  deflection  x_dir_i  y_dir_i  \\\n",
       "0       2000.0    0.200000  1604.874964    8.847735      0.0      0.0   \n",
       "1       2000.0  687.083800  3000.000000    0.137316      0.0      0.0   \n",
       "2       2000.0  470.082908  3000.000000    0.093675      0.0      0.0   \n",
       "3       2000.0  488.508415  3000.000000    0.077297      0.0      0.0   \n",
       "4       2000.0   33.516930  3000.000000    0.790317      0.0      0.0   \n",
       "...        ...         ...          ...         ...      ...      ...   \n",
       "999995  2000.0    0.199750  2836.812539    7.010748      0.0      0.0   \n",
       "999996  2000.0  356.101734  3000.000000    0.065811      0.0      0.0   \n",
       "999997  2000.0  615.548507  3000.000000    0.032227      0.0      0.0   \n",
       "999998  2000.0  103.086678  3000.000000    0.133853      0.0      0.0   \n",
       "999999  2000.0  370.723904  3000.000000    0.096285      0.0      0.0   \n",
       "\n",
       "        z_dir_i  x_i  y_i  z_i         x_f         y_f            z_f  \n",
       "0           1.0  0.0  0.0  0.0 -524.662556  201.134609  160479.941499  \n",
       "1           1.0  0.0  0.0  0.0  313.408525 -105.517592  299999.641344  \n",
       "2           1.0  0.0  0.0  0.0  114.018856  -31.357471  299999.912964  \n",
       "3           1.0  0.0  0.0  0.0 -112.197193  -54.858427  299999.912052  \n",
       "4           1.0  0.0  0.0  0.0  518.874108  140.390981  299997.966962  \n",
       "...         ...  ...  ...  ...         ...         ...            ...  \n",
       "999995      1.0  0.0  0.0  0.0  347.559914  235.456335  283674.318813  \n",
       "999996      1.0  0.0  0.0  0.0 -323.701793  210.717255  299999.535188  \n",
       "999997      1.0  0.0  0.0  0.0 -128.971485  -47.462755  299999.936531  \n",
       "999998      1.0  0.0  0.0  0.0  -17.664694  115.545034  299999.754015  \n",
       "999999      1.0  0.0  0.0  0.0   88.602564  294.476065  299999.688911  \n",
       "\n",
       "[1000000 rows x 13 columns]"
      ]
     },
     "execution_count": 59,
     "metadata": {},
     "output_type": "execute_result"
    }
   ],
   "source": [
    "df = pd.read_hdf('data/compare_MUSIC/MUSIC_2TeV_3km_water.hdf5')\n",
    "# !!!!!! simulation in ice  - not water !!!!!!!!!!!!\n",
    "df"
   ]
  },
  {
   "cell_type": "code",
   "execution_count": 60,
   "id": "f88bf6fe-4c76-41f5-ad13-4978acf76835",
   "metadata": {},
   "outputs": [],
   "source": [
    "E_i = df.E_i[0] * 1e3 # in MeV\n",
    "E_f = mode(df.E_f) * 1e3 # in MeV \n",
    "n_events = len(df)"
   ]
  },
  {
   "cell_type": "code",
   "execution_count": 61,
   "id": "bcd59be0-1449-4e71-afaa-a27618c6fbfc",
   "metadata": {},
   "outputs": [
    {
     "data": {
      "text/html": [
       "<div>\n",
       "<style scoped>\n",
       "    .dataframe tbody tr th:only-of-type {\n",
       "        vertical-align: middle;\n",
       "    }\n",
       "\n",
       "    .dataframe tbody tr th {\n",
       "        vertical-align: top;\n",
       "    }\n",
       "\n",
       "    .dataframe thead th {\n",
       "        text-align: right;\n",
       "    }\n",
       "</style>\n",
       "<table border=\"1\" class=\"dataframe\">\n",
       "  <thead>\n",
       "    <tr style=\"text-align: right;\">\n",
       "      <th></th>\n",
       "      <th>d_shower</th>\n",
       "      <th>counts</th>\n",
       "    </tr>\n",
       "  </thead>\n",
       "  <tbody>\n",
       "    <tr>\n",
       "      <th>0</th>\n",
       "      <td>0.115607</td>\n",
       "      <td>4219.808475</td>\n",
       "    </tr>\n",
       "    <tr>\n",
       "      <th>1</th>\n",
       "      <td>0.231214</td>\n",
       "      <td>12274.193745</td>\n",
       "    </tr>\n",
       "    <tr>\n",
       "      <th>2</th>\n",
       "      <td>0.393064</td>\n",
       "      <td>13525.319750</td>\n",
       "    </tr>\n",
       "    <tr>\n",
       "      <th>3</th>\n",
       "      <td>0.393064</td>\n",
       "      <td>20597.633683</td>\n",
       "    </tr>\n",
       "    <tr>\n",
       "      <th>4</th>\n",
       "      <td>0.624277</td>\n",
       "      <td>28466.400333</td>\n",
       "    </tr>\n",
       "    <tr>\n",
       "      <th>...</th>\n",
       "      <td>...</td>\n",
       "      <td>...</td>\n",
       "    </tr>\n",
       "    <tr>\n",
       "      <th>102</th>\n",
       "      <td>18.913295</td>\n",
       "      <td>5.041690</td>\n",
       "    </tr>\n",
       "    <tr>\n",
       "      <th>103</th>\n",
       "      <td>19.052023</td>\n",
       "      <td>1.972795</td>\n",
       "    </tr>\n",
       "    <tr>\n",
       "      <th>104</th>\n",
       "      <td>19.167630</td>\n",
       "      <td>2.908709</td>\n",
       "    </tr>\n",
       "    <tr>\n",
       "      <th>105</th>\n",
       "      <td>19.722543</td>\n",
       "      <td>3.103154</td>\n",
       "    </tr>\n",
       "    <tr>\n",
       "      <th>106</th>\n",
       "      <td>19.884393</td>\n",
       "      <td>5.926984</td>\n",
       "    </tr>\n",
       "  </tbody>\n",
       "</table>\n",
       "<p>107 rows × 2 columns</p>\n",
       "</div>"
      ],
      "text/plain": [
       "      d_shower        counts\n",
       "0     0.115607   4219.808475\n",
       "1     0.231214  12274.193745\n",
       "2     0.393064  13525.319750\n",
       "3     0.393064  20597.633683\n",
       "4     0.624277  28466.400333\n",
       "..         ...           ...\n",
       "102  18.913295      5.041690\n",
       "103  19.052023      1.972795\n",
       "104  19.167630      2.908709\n",
       "105  19.722543      3.103154\n",
       "106  19.884393      5.926984\n",
       "\n",
       "[107 rows x 2 columns]"
      ]
     },
     "execution_count": 61,
     "metadata": {},
     "output_type": "execute_result"
    }
   ],
   "source": [
    "df_MUSIC = pd.read_csv('data/compare_MUSIC/MUSIC_displacement.csv', sep=';', names=['d_shower', 'counts'], decimal=',')\n",
    "df_MUSIC"
   ]
  },
  {
   "cell_type": "code",
   "execution_count": 62,
   "id": "074e8e6d-1248-4e93-9168-fc757e292658",
   "metadata": {},
   "outputs": [
    {
     "data": {
      "text/html": [
       "<div>\n",
       "<style scoped>\n",
       "    .dataframe tbody tr th:only-of-type {\n",
       "        vertical-align: middle;\n",
       "    }\n",
       "\n",
       "    .dataframe tbody tr th {\n",
       "        vertical-align: top;\n",
       "    }\n",
       "\n",
       "    .dataframe thead th {\n",
       "        text-align: right;\n",
       "    }\n",
       "</style>\n",
       "<table border=\"1\" class=\"dataframe\">\n",
       "  <thead>\n",
       "    <tr style=\"text-align: right;\">\n",
       "      <th></th>\n",
       "      <th>d_shower</th>\n",
       "      <th>counts</th>\n",
       "    </tr>\n",
       "  </thead>\n",
       "  <tbody>\n",
       "    <tr>\n",
       "      <th>0</th>\n",
       "      <td>0.115607</td>\n",
       "      <td>2770.913387</td>\n",
       "    </tr>\n",
       "    <tr>\n",
       "      <th>1</th>\n",
       "      <td>0.184971</td>\n",
       "      <td>7677.960997</td>\n",
       "    </tr>\n",
       "    <tr>\n",
       "      <th>2</th>\n",
       "      <td>0.393064</td>\n",
       "      <td>8460.586469</td>\n",
       "    </tr>\n",
       "    <tr>\n",
       "      <th>3</th>\n",
       "      <td>0.508671</td>\n",
       "      <td>12884.579740</td>\n",
       "    </tr>\n",
       "    <tr>\n",
       "      <th>4</th>\n",
       "      <td>0.578035</td>\n",
       "      <td>16159.611420</td>\n",
       "    </tr>\n",
       "    <tr>\n",
       "      <th>...</th>\n",
       "      <td>...</td>\n",
       "      <td>...</td>\n",
       "    </tr>\n",
       "    <tr>\n",
       "      <th>105</th>\n",
       "      <td>19.468208</td>\n",
       "      <td>20.933560</td>\n",
       "    </tr>\n",
       "    <tr>\n",
       "      <th>106</th>\n",
       "      <td>19.583815</td>\n",
       "      <td>12.677818</td>\n",
       "    </tr>\n",
       "    <tr>\n",
       "      <th>107</th>\n",
       "      <td>19.676301</td>\n",
       "      <td>10.440838</td>\n",
       "    </tr>\n",
       "    <tr>\n",
       "      <th>108</th>\n",
       "      <td>19.768786</td>\n",
       "      <td>14.429477</td>\n",
       "    </tr>\n",
       "    <tr>\n",
       "      <th>109</th>\n",
       "      <td>20.000000</td>\n",
       "      <td>1.084248</td>\n",
       "    </tr>\n",
       "  </tbody>\n",
       "</table>\n",
       "<p>110 rows × 2 columns</p>\n",
       "</div>"
      ],
      "text/plain": [
       "      d_shower        counts\n",
       "0     0.115607   2770.913387\n",
       "1     0.184971   7677.960997\n",
       "2     0.393064   8460.586469\n",
       "3     0.508671  12884.579740\n",
       "4     0.578035  16159.611420\n",
       "..         ...           ...\n",
       "105  19.468208     20.933560\n",
       "106  19.583815     12.677818\n",
       "107  19.676301     10.440838\n",
       "108  19.768786     14.429477\n",
       "109  20.000000      1.084248\n",
       "\n",
       "[110 rows x 2 columns]"
      ]
     },
     "execution_count": 62,
     "metadata": {},
     "output_type": "execute_result"
    }
   ],
   "source": [
    "df_GEANT4 = pd.read_csv('data/compare_MUSIC/Geant4_displacement.csv', sep=';', names=['d_shower', 'counts'], decimal=',')\n",
    "df_GEANT4"
   ]
  },
  {
   "cell_type": "code",
   "execution_count": 63,
   "id": "1f70003c-e0be-4ac0-b659-a3a6d76e9817",
   "metadata": {},
   "outputs": [
    {
     "data": {
      "text/html": [
       "<div>\n",
       "<style scoped>\n",
       "    .dataframe tbody tr th:only-of-type {\n",
       "        vertical-align: middle;\n",
       "    }\n",
       "\n",
       "    .dataframe tbody tr th {\n",
       "        vertical-align: top;\n",
       "    }\n",
       "\n",
       "    .dataframe thead th {\n",
       "        text-align: right;\n",
       "    }\n",
       "</style>\n",
       "<table border=\"1\" class=\"dataframe\">\n",
       "  <thead>\n",
       "    <tr style=\"text-align: right;\">\n",
       "      <th></th>\n",
       "      <th>angle</th>\n",
       "      <th>counts</th>\n",
       "    </tr>\n",
       "  </thead>\n",
       "  <tbody>\n",
       "    <tr>\n",
       "      <th>0</th>\n",
       "      <td>0.017241</td>\n",
       "      <td>64118.000</td>\n",
       "    </tr>\n",
       "    <tr>\n",
       "      <th>1</th>\n",
       "      <td>0.045977</td>\n",
       "      <td>98935.000</td>\n",
       "    </tr>\n",
       "    <tr>\n",
       "      <th>2</th>\n",
       "      <td>0.097701</td>\n",
       "      <td>114320.000</td>\n",
       "    </tr>\n",
       "    <tr>\n",
       "      <th>3</th>\n",
       "      <td>0.109200</td>\n",
       "      <td>150230.000</td>\n",
       "    </tr>\n",
       "    <tr>\n",
       "      <th>4</th>\n",
       "      <td>0.155170</td>\n",
       "      <td>150230.000</td>\n",
       "    </tr>\n",
       "    <tr>\n",
       "      <th>...</th>\n",
       "      <td>...</td>\n",
       "      <td>...</td>\n",
       "    </tr>\n",
       "    <tr>\n",
       "      <th>103</th>\n",
       "      <td>4.821800</td>\n",
       "      <td>25.254</td>\n",
       "    </tr>\n",
       "    <tr>\n",
       "      <th>104</th>\n",
       "      <td>4.856300</td>\n",
       "      <td>20.826</td>\n",
       "    </tr>\n",
       "    <tr>\n",
       "      <th>105</th>\n",
       "      <td>4.902300</td>\n",
       "      <td>26.078</td>\n",
       "    </tr>\n",
       "    <tr>\n",
       "      <th>106</th>\n",
       "      <td>4.948300</td>\n",
       "      <td>26.930</td>\n",
       "    </tr>\n",
       "    <tr>\n",
       "      <th>107</th>\n",
       "      <td>5.000000</td>\n",
       "      <td>24.455</td>\n",
       "    </tr>\n",
       "  </tbody>\n",
       "</table>\n",
       "<p>108 rows × 2 columns</p>\n",
       "</div>"
      ],
      "text/plain": [
       "        angle      counts\n",
       "0    0.017241   64118.000\n",
       "1    0.045977   98935.000\n",
       "2    0.097701  114320.000\n",
       "3    0.109200  150230.000\n",
       "4    0.155170  150230.000\n",
       "..        ...         ...\n",
       "103  4.821800      25.254\n",
       "104  4.856300      20.826\n",
       "105  4.902300      26.078\n",
       "106  4.948300      26.930\n",
       "107  5.000000      24.455\n",
       "\n",
       "[108 rows x 2 columns]"
      ]
     },
     "execution_count": 63,
     "metadata": {},
     "output_type": "execute_result"
    }
   ],
   "source": [
    "df_GEANT4_angle = pd.read_csv('data/compare_MUSIC/GEANT4_angle.csv', sep=';', names=['angle', 'counts'], decimal=',')\n",
    "df_GEANT4_angle"
   ]
  },
  {
   "cell_type": "code",
   "execution_count": 64,
   "id": "3d4870be-24bf-415b-a0f5-2a6438084f7a",
   "metadata": {},
   "outputs": [
    {
     "data": {
      "text/html": [
       "<div>\n",
       "<style scoped>\n",
       "    .dataframe tbody tr th:only-of-type {\n",
       "        vertical-align: middle;\n",
       "    }\n",
       "\n",
       "    .dataframe tbody tr th {\n",
       "        vertical-align: top;\n",
       "    }\n",
       "\n",
       "    .dataframe thead th {\n",
       "        text-align: right;\n",
       "    }\n",
       "</style>\n",
       "<table border=\"1\" class=\"dataframe\">\n",
       "  <thead>\n",
       "    <tr style=\"text-align: right;\">\n",
       "      <th></th>\n",
       "      <th>angle</th>\n",
       "      <th>counts</th>\n",
       "    </tr>\n",
       "  </thead>\n",
       "  <tbody>\n",
       "    <tr>\n",
       "      <th>0</th>\n",
       "      <td>0.022989</td>\n",
       "      <td>82910.000</td>\n",
       "    </tr>\n",
       "    <tr>\n",
       "      <th>1</th>\n",
       "      <td>0.040230</td>\n",
       "      <td>176410.000</td>\n",
       "    </tr>\n",
       "    <tr>\n",
       "      <th>2</th>\n",
       "      <td>0.097701</td>\n",
       "      <td>176410.000</td>\n",
       "    </tr>\n",
       "    <tr>\n",
       "      <th>3</th>\n",
       "      <td>0.149430</td>\n",
       "      <td>165430.000</td>\n",
       "    </tr>\n",
       "    <tr>\n",
       "      <th>4</th>\n",
       "      <td>0.155170</td>\n",
       "      <td>116180.000</td>\n",
       "    </tr>\n",
       "    <tr>\n",
       "      <th>...</th>\n",
       "      <td>...</td>\n",
       "      <td>...</td>\n",
       "    </tr>\n",
       "    <tr>\n",
       "      <th>98</th>\n",
       "      <td>4.787400</td>\n",
       "      <td>21.163</td>\n",
       "    </tr>\n",
       "    <tr>\n",
       "      <th>99</th>\n",
       "      <td>4.839100</td>\n",
       "      <td>21.854</td>\n",
       "    </tr>\n",
       "    <tr>\n",
       "      <th>100</th>\n",
       "      <td>4.879300</td>\n",
       "      <td>17.735</td>\n",
       "    </tr>\n",
       "    <tr>\n",
       "      <th>101</th>\n",
       "      <td>4.925300</td>\n",
       "      <td>12.061</td>\n",
       "    </tr>\n",
       "    <tr>\n",
       "      <th>102</th>\n",
       "      <td>4.977000</td>\n",
       "      <td>14.863</td>\n",
       "    </tr>\n",
       "  </tbody>\n",
       "</table>\n",
       "<p>103 rows × 2 columns</p>\n",
       "</div>"
      ],
      "text/plain": [
       "        angle      counts\n",
       "0    0.022989   82910.000\n",
       "1    0.040230  176410.000\n",
       "2    0.097701  176410.000\n",
       "3    0.149430  165430.000\n",
       "4    0.155170  116180.000\n",
       "..        ...         ...\n",
       "98   4.787400      21.163\n",
       "99   4.839100      21.854\n",
       "100  4.879300      17.735\n",
       "101  4.925300      12.061\n",
       "102  4.977000      14.863\n",
       "\n",
       "[103 rows x 2 columns]"
      ]
     },
     "execution_count": 64,
     "metadata": {},
     "output_type": "execute_result"
    }
   ],
   "source": [
    "df_MUSIC_angle = pd.read_csv('data/compare_MUSIC/MUSIC_angle.csv', sep=';', names=['angle', 'counts'], decimal=',')\n",
    "df_MUSIC_angle"
   ]
  },
  {
   "cell_type": "code",
   "execution_count": 65,
   "id": "a1402856-3918-4371-a3e4-c11fee9871dc",
   "metadata": {},
   "outputs": [
    {
     "data": {
      "text/plain": [
       "<matplotlib.legend.Legend at 0x7f1ee4f8aeb8>"
      ]
     },
     "execution_count": 65,
     "metadata": {},
     "output_type": "execute_result"
    },
    {
     "data": {
      "image/png": "[encoded data removed]",
      "text/plain": [
       "<Figure size 432x288 with 1 Axes>"
      ]
     },
     "metadata": {
      "needs_background": "light"
     },
     "output_type": "display_data"
    }
   ],
   "source": [
    "# energy\n",
    "bins = np.logspace(-2, 8, 51)\n",
    "\n",
    "plt.hist(df.E_i, bins=bins, histtype='step', label='E_i')\n",
    "plt.hist(df.E_f, bins=bins, histtype='step', label='E_f')\n",
    "plt.xscale('log')\n",
    "plt.yscale('log')\n",
    "plt.xlabel('energy in GeV')\n",
    "plt.ylabel('counts')\n",
    "plt.legend()"
   ]
  },
  {
   "cell_type": "code",
   "execution_count": 66,
   "id": "05561fa7-5eb0-4fa7-95db-c59d5113432f",
   "metadata": {},
   "outputs": [
    {
     "data": {
      "text/plain": [
       "Text(0.5, 0, 'propagation distance in meter')"
      ]
     },
     "execution_count": 66,
     "metadata": {},
     "output_type": "execute_result"
    },
    {
     "data": {
      "image/png": "[encoded data removed]",
      "text/plain": [
       "<Figure size 432x288 with 1 Axes>"
      ]
     },
     "metadata": {
      "needs_background": "light"
     },
     "output_type": "display_data"
    }
   ],
   "source": [
    "# propagation distance\n",
    "bins = np.linspace(0, 3500, 51)\n",
    "\n",
    "plt.hist(df.distances, bins=bins, histtype='step')\n",
    "plt.yscale('log')\n",
    "# plt.xscale('log')\n",
    "plt.ylabel('counts')\n",
    "plt.xlabel('propagation distance in meter')\n"
   ]
  },
  {
   "cell_type": "code",
   "execution_count": 67,
   "id": "b7c10943-73e7-4fa7-a8d5-c2ee27dc2e53",
   "metadata": {},
   "outputs": [
    {
     "data": {
      "image/png": "[encoded data removed]",
      "text/plain": [
       "<Figure size 864x432 with 2 Axes>"
      ]
     },
     "metadata": {
      "needs_background": "light"
     },
     "output_type": "display_data"
    }
   ],
   "source": [
    "# Deflection\n",
    "fig, ax = plt.subplots(1, 2, figsize=(12, 6), sharey=True)\n",
    "\n",
    "bins = np.logspace(-4, 3, 101)\n",
    "ax[0].hist(df.deflection, bins=bins, histtype='step', label='all')\n",
    "ax[0].hist(df.deflection[df.distances==3e3], bins=bins, histtype='step', label='d = 3 km')\n",
    "ax[0].set_xscale('log')\n",
    "ax[0].set_yscale('log')\n",
    "ax[0].set_xlabel('accumulated deflection in degree')\n",
    "ax[0].set_ylabel('counts')\n",
    "ax[0].legend(loc='upper left')\n",
    "\n",
    "bins = np.linspace(0, 5, 101)\n",
    "ax[1].hist(df.deflection, bins=bins, histtype='step', label='all')\n",
    "ax[1].hist(df.deflection[df.distances==3e3], bins=bins, histtype='step', label='d = 3 km')\n",
    "ax[1].set_yscale('log')\n",
    "ax[1].set_xlabel('accumulated deflection in degree')\n",
    "ax[1].set_ylabel('counts')\n",
    "\n",
    "\n",
    "ax[1].plot(df_MUSIC_angle['angle'], df_MUSIC_angle['counts'], color='black', linewidth=0.8, label='MUSIC')\n",
    "ax[1].plot(df_GEANT4_angle['angle'], df_GEANT4_angle['counts'], color='red', linewidth=0.8, label='GEANT4')\n",
    "\n",
    "ax[1].legend(loc='upper right')\n",
    "\n",
    "\n",
    "plt.tight_layout()\n",
    "if save_plot:\n",
    "    plt.savefig(plot_dir + '{}_{}_{}events_accumulated_defl.pdf'.format(energy_name(E_i), energy_name(E_f), n_events))"
   ]
  },
  {
   "cell_type": "code",
   "execution_count": 68,
   "id": "d01c7493-bf69-4f6c-a121-7ad6e9dc8e05",
   "metadata": {},
   "outputs": [
    {
     "data": {
      "image/png": "[encoded data removed]",
      "text/plain": [
       "<Figure size 864x432 with 2 Axes>"
      ]
     },
     "metadata": {
      "needs_background": "light"
     },
     "output_type": "display_data"
    }
   ],
   "source": [
    "# Distance to shower axis \n",
    "fig, ax = plt.subplots(1, 2, figsize=(12, 6))\n",
    "\n",
    "d_shower = np.sqrt(df.x_f**2 + df.y_f**2) / 1e2 # in meter\n",
    "\n",
    "bins = np.logspace(0, 2, 101)\n",
    "ax[0].hist(d_shower, bins=bins, histtype='step', label='all')\n",
    "ax[0].hist(d_shower[df.distances==3e3], bins=bins, histtype='step', label='d = 3 km')\n",
    "ax[0].set_xscale('log')\n",
    "ax[0].set_yscale('log')\n",
    "ax[0].set_xlabel('distance to shower axis in meter')\n",
    "ax[0].set_ylabel('counts')\n",
    "ax[0].legend(loc='upper right')\n",
    "\n",
    "bins = np.linspace(0, 20, 101)\n",
    "ax[1].hist(d_shower, bins=bins, histtype='step', label='all')\n",
    "ax[1].hist(d_shower[df.distances==3e3], bins=bins, histtype='step', label='d = 3 km')\n",
    "ax[1].set_yscale('log')\n",
    "ax[1].set_xlabel('distance to shower axis in meter')\n",
    "ax[1].set_ylabel('counts')\n",
    "\n",
    "\n",
    "ax[1].plot(df_MUSIC['d_shower'], df_MUSIC['counts'], color='black', linewidth=0.8, label='MUSIC')\n",
    "ax[1].plot(df_GEANT4['d_shower'], df_GEANT4['counts'], color='red', linewidth=0.8, label='GEANT4')\n",
    "\n",
    "ax[1].legend(loc='upper right')                   \n",
    "\n",
    "\n",
    "plt.tight_layout()\n",
    "if save_plot:\n",
    "    plt.savefig(plot_dir + '{}_{}_{}events_distance_showeraxis.pdf'.format(energy_name(E_i), energy_name(E_f), n_events))"
   ]
  },
  {
   "cell_type": "code",
   "execution_count": 69,
   "id": "8473cf3a-cab8-4e61-9e58-c1bc1be2e51f",
   "metadata": {},
   "outputs": [
    {
     "data": {
      "text/plain": [
       "112.6400409394922717"
      ]
     },
     "execution_count": 69,
     "metadata": {},
     "output_type": "execute_result"
    }
   ],
   "source": [
    "max(df.deflection)"
   ]
  },
  {
   "cell_type": "code",
   "execution_count": 70,
   "id": "3ea629d8-c8c0-4ea6-a367-81369742cc56",
   "metadata": {},
   "outputs": [
    {
     "data": {
      "text/plain": [
       "3000.0"
      ]
     },
     "execution_count": 70,
     "metadata": {},
     "output_type": "execute_result"
    }
   ],
   "source": [
    "max(df.distances)"
   ]
  },
  {
   "cell_type": "code",
   "execution_count": null,
   "id": "f0803f5e-8f5c-40b7-8418-2fbe414465b4",
   "metadata": {},
   "outputs": [],
   "source": [
    "calculate mean and survival ratio to compare with paper\n",
    "1. wie survival probability ausrechnen? len(df) / len(df.distances==3000)??"
   ]
  },
  {
   "cell_type": "code",
   "execution_count": 74,
   "id": "cdbb8eeb-e749-412c-8b50-f5a5bbe4db3d",
   "metadata": {},
   "outputs": [
    {
     "name": "stdout",
     "output_type": "stream",
     "text": [
      "proposal:  0.822\n",
      "music:  0.779\n",
      "geant4:  0.793\n"
     ]
    }
   ],
   "source": [
    "# survival probability with E_f = 200 MeV\n",
    "surv_proposal = np.round(len(df[df.distances==3e3]) / len(df), 3)\n",
    "surv_music = 0.779\n",
    "surv_geant4 = 0.793\n",
    "\n",
    "print('proposal: ', surv_proposal)\n",
    "print('music: ', surv_music)\n",
    "print('geant4: ', surv_geant4)"
   ]
  },
  {
   "cell_type": "code",
   "execution_count": 81,
   "id": "6a09e498-7a42-4684-b76b-d82e73038564",
   "metadata": {},
   "outputs": [
    {
     "name": "stdout",
     "output_type": "stream",
     "text": [
      "proposal:  0.21\n",
      "music:  0.22\n",
      "geant4:  0.27\n"
     ]
    }
   ],
   "source": [
    "# mean scattered angle in degree\n",
    "mean_angle_proposal = np.round(np.mean(df.deflection[df.distances==3e3]), 3)\n",
    "mean_angle_music = 0.22 \n",
    "mean_angle_geant4 = 0.27\n",
    "\n",
    "print('proposal: ', mean_angle_proposal)\n",
    "print('music: ', mean_angle_music)\n",
    "print('geant4: ', mean_angle_geant4)"
   ]
  },
  {
   "cell_type": "code",
   "execution_count": 80,
   "id": "647e6681-6660-41ad-b788-ff1688f9961b",
   "metadata": {},
   "outputs": [
    {
     "name": "stdout",
     "output_type": "stream",
     "text": [
      "proposal:  395.0\n",
      "music:  323\n",
      "geant4:  317\n"
     ]
    }
   ],
   "source": [
    "# mean survived energy in GeV\n",
    "mean_energy_proposal = np.round(np.mean(df.E_f[df.distances==3e3]), 0)\n",
    "mean_energy_music = 323 \n",
    "mean_energy_geant4 = 317\n",
    "\n",
    "print('proposal: ', mean_energy_proposal)\n",
    "print('music: ', mean_energy_music)\n",
    "print('geant4: ', mean_energy_geant4)"
   ]
  },
  {
   "cell_type": "code",
   "execution_count": 83,
   "id": "5bd30aad-0efa-4e83-a7d2-05b25da39f7a",
   "metadata": {},
   "outputs": [
    {
     "name": "stdout",
     "output_type": "stream",
     "text": [
      "proposal:  2.8\n",
      "music:  2.6\n",
      "geant4:  3.3\n"
     ]
    }
   ],
   "source": [
    "# mean shower axis distance in meter\n",
    "mean_dist_proposal = np.round(np.mean(d_shower[df.distances==3e3]), 1)\n",
    "mean_dist_music = 2.6\n",
    "mean_dist_geant4 = 3.3\n",
    "\n",
    "print('proposal: ', mean_dist_proposal)\n",
    "print('music: ', mean_dist_music)\n",
    "print('geant4: ', mean_dist_geant4)"
   ]
  },
  {
   "cell_type": "code",
   "execution_count": null,
   "id": "55f16196-7244-4285-958f-c56cd9675624",
   "metadata": {},
   "outputs": [],
   "source": []
  }
 ],
 "metadata": {
  "kernelspec": {
   "display_name": "Python 3",
   "language": "python",
   "name": "python3"
  },
  "language_info": {
   "codemirror_mode": {
    "name": "ipython",
    "version": 3
   },
   "file_extension": ".py",
   "mimetype": "text/x-python",
   "name": "python",
   "nbconvert_exporter": "python",
   "pygments_lexer": "ipython3",
   "version": "3.6.8"
  }
 },
 "nbformat": 4,
 "nbformat_minor": 5
}
