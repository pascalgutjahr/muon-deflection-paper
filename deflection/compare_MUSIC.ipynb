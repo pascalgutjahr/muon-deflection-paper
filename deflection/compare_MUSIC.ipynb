{
 "cells": [
  {
   "cell_type": "code",
   "execution_count": 1,
   "id": "58e54a43-9ba5-40b4-841f-58fcfde6594d",
   "metadata": {},
   "outputs": [],
   "source": [
    "import numpy as np\n",
    "import matplotlib.pyplot as plt \n",
    "import os \n",
    "from tqdm import tqdm\n",
    "import pandas as pd\n",
    "from statistics import mode\n",
    "from helper_functions import energy_name"
   ]
  },
  {
   "cell_type": "code",
   "execution_count": 47,
   "id": "4084c955-dfb8-40f0-8b80-1dd29f0f1702",
   "metadata": {},
   "outputs": [],
   "source": [
    "%matplotlib inline"
   ]
  },
  {
   "cell_type": "code",
   "execution_count": 2,
   "id": "7fc53f9f",
   "metadata": {},
   "outputs": [
    {
     "data": {
      "text/plain": [
       "0"
      ]
     },
     "execution_count": 2,
     "metadata": {},
     "output_type": "execute_result"
    }
   ],
   "source": [
    "save_plot = True # False\n",
    "\n",
    "# currentNotebook = ipyparams.notebook_name[:len(ipyparams.notebook_name)-6] # get name of currect notebook\n",
    "# assert currentNotebook != '', \"no notebook name, run cell again\"\n",
    "\n",
    "currentNotebook = \"compare_MUSIC\"\n",
    "\n",
    "plot_dir = 'plots/{}/'.format(currentNotebook)\n",
    "os.system('mkdir -p {}'.format(plot_dir))\n",
    "\n",
    "df_dir = 'data/{}/'.format(currentNotebook)\n",
    "os.system('mkdir -p {}'.format(df_dir))"
   ]
  },
  {
   "cell_type": "code",
   "execution_count": 11,
   "id": "c7759299-6000-4405-ad2d-da90614af923",
   "metadata": {},
   "outputs": [
    {
     "data": {
      "text/html": [
       "<div>\n",
       "<style scoped>\n",
       "    .dataframe tbody tr th:only-of-type {\n",
       "        vertical-align: middle;\n",
       "    }\n",
       "\n",
       "    .dataframe tbody tr th {\n",
       "        vertical-align: top;\n",
       "    }\n",
       "\n",
       "    .dataframe thead th {\n",
       "        text-align: right;\n",
       "    }\n",
       "</style>\n",
       "<table border=\"1\" class=\"dataframe\">\n",
       "  <thead>\n",
       "    <tr style=\"text-align: right;\">\n",
       "      <th></th>\n",
       "      <th>E_i</th>\n",
       "      <th>E_f</th>\n",
       "      <th>distances</th>\n",
       "      <th>deflection</th>\n",
       "      <th>x_dir_i</th>\n",
       "      <th>y_dir_i</th>\n",
       "      <th>z_dir_i</th>\n",
       "      <th>x_i</th>\n",
       "      <th>y_i</th>\n",
       "      <th>z_i</th>\n",
       "      <th>x_f</th>\n",
       "      <th>y_f</th>\n",
       "      <th>z_f</th>\n",
       "    </tr>\n",
       "  </thead>\n",
       "  <tbody>\n",
       "    <tr>\n",
       "      <th>0</th>\n",
       "      <td>2000.0</td>\n",
       "      <td>0.2</td>\n",
       "      <td>1604.874964</td>\n",
       "      <td>8.847735</td>\n",
       "      <td>0.0</td>\n",
       "      <td>0.0</td>\n",
       "      <td>1.0</td>\n",
       "      <td>0.0</td>\n",
       "      <td>0.0</td>\n",
       "      <td>0.0</td>\n",
       "      <td>-524.662556</td>\n",
       "      <td>201.134609</td>\n",
       "      <td>160479.941499</td>\n",
       "    </tr>\n",
       "    <tr>\n",
       "      <th>1</th>\n",
       "      <td>2000.0</td>\n",
       "      <td>0.2</td>\n",
       "      <td>5001.984264</td>\n",
       "      <td>11.262297</td>\n",
       "      <td>0.0</td>\n",
       "      <td>0.0</td>\n",
       "      <td>1.0</td>\n",
       "      <td>0.0</td>\n",
       "      <td>0.0</td>\n",
       "      <td>0.0</td>\n",
       "      <td>959.036653</td>\n",
       "      <td>-351.602582</td>\n",
       "      <td>500191.605985</td>\n",
       "    </tr>\n",
       "    <tr>\n",
       "      <th>2</th>\n",
       "      <td>2000.0</td>\n",
       "      <td>0.2</td>\n",
       "      <td>4323.797781</td>\n",
       "      <td>24.866346</td>\n",
       "      <td>0.0</td>\n",
       "      <td>0.0</td>\n",
       "      <td>1.0</td>\n",
       "      <td>0.0</td>\n",
       "      <td>0.0</td>\n",
       "      <td>0.0</td>\n",
       "      <td>326.716993</td>\n",
       "      <td>-226.031745</td>\n",
       "      <td>432331.260626</td>\n",
       "    </tr>\n",
       "    <tr>\n",
       "      <th>3</th>\n",
       "      <td>2000.0</td>\n",
       "      <td>0.2</td>\n",
       "      <td>4658.270289</td>\n",
       "      <td>8.931603</td>\n",
       "      <td>0.0</td>\n",
       "      <td>0.0</td>\n",
       "      <td>1.0</td>\n",
       "      <td>0.0</td>\n",
       "      <td>0.0</td>\n",
       "      <td>0.0</td>\n",
       "      <td>110.702651</td>\n",
       "      <td>-828.740873</td>\n",
       "      <td>465816.321289</td>\n",
       "    </tr>\n",
       "    <tr>\n",
       "      <th>4</th>\n",
       "      <td>2000.0</td>\n",
       "      <td>0.2</td>\n",
       "      <td>3294.264222</td>\n",
       "      <td>10.651663</td>\n",
       "      <td>0.0</td>\n",
       "      <td>0.0</td>\n",
       "      <td>1.0</td>\n",
       "      <td>0.0</td>\n",
       "      <td>0.0</td>\n",
       "      <td>0.0</td>\n",
       "      <td>-761.422580</td>\n",
       "      <td>544.367219</td>\n",
       "      <td>329418.726534</td>\n",
       "    </tr>\n",
       "    <tr>\n",
       "      <th>...</th>\n",
       "      <td>...</td>\n",
       "      <td>...</td>\n",
       "      <td>...</td>\n",
       "      <td>...</td>\n",
       "      <td>...</td>\n",
       "      <td>...</td>\n",
       "      <td>...</td>\n",
       "      <td>...</td>\n",
       "      <td>...</td>\n",
       "      <td>...</td>\n",
       "      <td>...</td>\n",
       "      <td>...</td>\n",
       "      <td>...</td>\n",
       "    </tr>\n",
       "    <tr>\n",
       "      <th>19995</th>\n",
       "      <td>2000.0</td>\n",
       "      <td>0.2</td>\n",
       "      <td>1988.186577</td>\n",
       "      <td>15.292583</td>\n",
       "      <td>0.0</td>\n",
       "      <td>0.0</td>\n",
       "      <td>1.0</td>\n",
       "      <td>0.0</td>\n",
       "      <td>0.0</td>\n",
       "      <td>0.0</td>\n",
       "      <td>572.197869</td>\n",
       "      <td>208.803509</td>\n",
       "      <td>198801.059847</td>\n",
       "    </tr>\n",
       "    <tr>\n",
       "      <th>19996</th>\n",
       "      <td>2000.0</td>\n",
       "      <td>0.2</td>\n",
       "      <td>4233.243759</td>\n",
       "      <td>11.597078</td>\n",
       "      <td>0.0</td>\n",
       "      <td>0.0</td>\n",
       "      <td>1.0</td>\n",
       "      <td>0.0</td>\n",
       "      <td>0.0</td>\n",
       "      <td>0.0</td>\n",
       "      <td>-384.760501</td>\n",
       "      <td>-97.106699</td>\n",
       "      <td>423319.831809</td>\n",
       "    </tr>\n",
       "    <tr>\n",
       "      <th>19997</th>\n",
       "      <td>2000.0</td>\n",
       "      <td>0.2</td>\n",
       "      <td>3984.375462</td>\n",
       "      <td>12.129346</td>\n",
       "      <td>0.0</td>\n",
       "      <td>0.0</td>\n",
       "      <td>1.0</td>\n",
       "      <td>0.0</td>\n",
       "      <td>0.0</td>\n",
       "      <td>0.0</td>\n",
       "      <td>27.101109</td>\n",
       "      <td>-774.941409</td>\n",
       "      <td>398433.848916</td>\n",
       "    </tr>\n",
       "    <tr>\n",
       "      <th>19998</th>\n",
       "      <td>2000.0</td>\n",
       "      <td>0.2</td>\n",
       "      <td>5314.761719</td>\n",
       "      <td>25.378319</td>\n",
       "      <td>0.0</td>\n",
       "      <td>0.0</td>\n",
       "      <td>1.0</td>\n",
       "      <td>0.0</td>\n",
       "      <td>0.0</td>\n",
       "      <td>0.0</td>\n",
       "      <td>-543.182433</td>\n",
       "      <td>349.537572</td>\n",
       "      <td>531440.802623</td>\n",
       "    </tr>\n",
       "    <tr>\n",
       "      <th>19999</th>\n",
       "      <td>2000.0</td>\n",
       "      <td>0.2</td>\n",
       "      <td>4713.124261</td>\n",
       "      <td>27.618169</td>\n",
       "      <td>0.0</td>\n",
       "      <td>0.0</td>\n",
       "      <td>1.0</td>\n",
       "      <td>0.0</td>\n",
       "      <td>0.0</td>\n",
       "      <td>0.0</td>\n",
       "      <td>-510.299719</td>\n",
       "      <td>578.764406</td>\n",
       "      <td>471289.225043</td>\n",
       "    </tr>\n",
       "  </tbody>\n",
       "</table>\n",
       "<p>20000 rows × 13 columns</p>\n",
       "</div>"
      ],
      "text/plain": [
       "          E_i  E_f    distances  deflection  x_dir_i  y_dir_i  z_dir_i  x_i  \\\n",
       "0      2000.0  0.2  1604.874964    8.847735      0.0      0.0      1.0  0.0   \n",
       "1      2000.0  0.2  5001.984264   11.262297      0.0      0.0      1.0  0.0   \n",
       "2      2000.0  0.2  4323.797781   24.866346      0.0      0.0      1.0  0.0   \n",
       "3      2000.0  0.2  4658.270289    8.931603      0.0      0.0      1.0  0.0   \n",
       "4      2000.0  0.2  3294.264222   10.651663      0.0      0.0      1.0  0.0   \n",
       "...       ...  ...          ...         ...      ...      ...      ...  ...   \n",
       "19995  2000.0  0.2  1988.186577   15.292583      0.0      0.0      1.0  0.0   \n",
       "19996  2000.0  0.2  4233.243759   11.597078      0.0      0.0      1.0  0.0   \n",
       "19997  2000.0  0.2  3984.375462   12.129346      0.0      0.0      1.0  0.0   \n",
       "19998  2000.0  0.2  5314.761719   25.378319      0.0      0.0      1.0  0.0   \n",
       "19999  2000.0  0.2  4713.124261   27.618169      0.0      0.0      1.0  0.0   \n",
       "\n",
       "       y_i  z_i         x_f         y_f            z_f  \n",
       "0      0.0  0.0 -524.662556  201.134609  160479.941499  \n",
       "1      0.0  0.0  959.036653 -351.602582  500191.605985  \n",
       "2      0.0  0.0  326.716993 -226.031745  432331.260626  \n",
       "3      0.0  0.0  110.702651 -828.740873  465816.321289  \n",
       "4      0.0  0.0 -761.422580  544.367219  329418.726534  \n",
       "...    ...  ...         ...         ...            ...  \n",
       "19995  0.0  0.0  572.197869  208.803509  198801.059847  \n",
       "19996  0.0  0.0 -384.760501  -97.106699  423319.831809  \n",
       "19997  0.0  0.0   27.101109 -774.941409  398433.848916  \n",
       "19998  0.0  0.0 -543.182433  349.537572  531440.802623  \n",
       "19999  0.0  0.0 -510.299719  578.764406  471289.225043  \n",
       "\n",
       "[20000 rows x 13 columns]"
      ]
     },
     "execution_count": 11,
     "metadata": {},
     "output_type": "execute_result"
    }
   ],
   "source": [
    "df = pd.read_hdf('data/compare_MUSIC/MUSIC_2TeV_3km_water.hdf5')\n",
    "df"
   ]
  },
  {
   "cell_type": "code",
   "execution_count": 4,
   "id": "f88bf6fe-4c76-41f5-ad13-4978acf76835",
   "metadata": {},
   "outputs": [],
   "source": [
    "E_i = df.E_i[0] * 1e3 # in MeV\n",
    "E_f = mode(df.E_f) * 1e3 # in MeV \n",
    "n_events = len(df)"
   ]
  },
  {
   "cell_type": "code",
   "execution_count": 5,
   "id": "a1402856-3918-4371-a3e4-c11fee9871dc",
   "metadata": {},
   "outputs": [
    {
     "data": {
      "text/plain": [
       "<matplotlib.legend.Legend at 0x7ff1ebd3d438>"
      ]
     },
     "execution_count": 5,
     "metadata": {},
     "output_type": "execute_result"
    },
    {
     "data": {
      "image/png": "[encoded data removed]",
      "text/plain": [
       "<Figure size 432x288 with 1 Axes>"
      ]
     },
     "metadata": {
      "needs_background": "light"
     },
     "output_type": "display_data"
    }
   ],
   "source": [
    "# energy\n",
    "bins = np.logspace(-2, 8, 51)\n",
    "\n",
    "plt.hist(df.E_i, bins=bins, histtype='step', label='E_i')\n",
    "plt.hist(df.E_f, bins=bins, histtype='step', label='E_f')\n",
    "plt.xscale('log')\n",
    "plt.yscale('log')\n",
    "plt.xlabel('energy in GeV')\n",
    "plt.ylabel('counts')\n",
    "plt.legend()"
   ]
  },
  {
   "cell_type": "code",
   "execution_count": 19,
   "id": "05561fa7-5eb0-4fa7-95db-c59d5113432f",
   "metadata": {},
   "outputs": [
    {
     "data": {
      "text/plain": [
       "Text(0.5, 0, 'propagation distance in meter')"
      ]
     },
     "execution_count": 19,
     "metadata": {},
     "output_type": "execute_result"
    },
    {
     "data": {
      "image/png": "[encoded data removed]",
      "text/plain": [
       "<Figure size 432x288 with 1 Axes>"
      ]
     },
     "metadata": {
      "needs_background": "light"
     },
     "output_type": "display_data"
    }
   ],
   "source": [
    "# propagation distance\n",
    "bins = np.logspace(0, 3, 51)\n",
    "\n",
    "plt.hist(df.distances/1e2, bins=bins, histtype='step')\n",
    "plt.yscale('log')\n",
    "plt.xscale('log')\n",
    "plt.ylabel('counts')\n",
    "plt.xlabel('propagation distance in meter')\n"
   ]
  },
  {
   "cell_type": "code",
   "execution_count": 53,
   "id": "b7c10943-73e7-4fa7-a8d5-c2ee27dc2e53",
   "metadata": {},
   "outputs": [
    {
     "data": {
      "image/png": "[encoded data removed]",
      "text/plain": [
       "<Figure size 864x432 with 2 Axes>"
      ]
     },
     "metadata": {
      "needs_background": "light"
     },
     "output_type": "display_data"
    }
   ],
   "source": [
    "# Deflection\n",
    "fig, ax = plt.subplots(1, 2, figsize=(12, 6))\n",
    "\n",
    "bins = np.logspace(-4, 3, 101)\n",
    "ax[0].hist(df.deflection, bins=bins, histtype='step', label='df')\n",
    "ax[0].set_xscale('log')\n",
    "ax[0].set_yscale('log')\n",
    "ax[0].set_xlabel('accumulated deflection in degree')\n",
    "ax[0].set_ylabel('counts')\n",
    "ax[0].legend(loc='upper left')\n",
    "\n",
    "bins = np.linspace(0, 5, 101)\n",
    "ax[1].hist(df.deflection, bins=bins, histtype='step', label='df')\n",
    "ax[1].set_yscale('log')\n",
    "ax[1].set_xlabel('accumulated deflection in degree')\n",
    "ax[1].set_ylabel('counts')\n",
    "ax[1].legend(loc='upper left')\n",
    "\n",
    "\n",
    "plt.tight_layout()\n",
    "if save_plot:\n",
    "    plt.savefig(plot_dir + '{}_{}_{}events_accumulated_defl.pdf'.format(energy_name(E_i), energy_name(E_f), n_events))"
   ]
  },
  {
   "cell_type": "code",
   "execution_count": 52,
   "id": "d01c7493-bf69-4f6c-a121-7ad6e9dc8e05",
   "metadata": {},
   "outputs": [
    {
     "data": {
      "image/png": "[encoded data removed]",
      "text/plain": [
       "<Figure size 864x432 with 2 Axes>"
      ]
     },
     "metadata": {
      "needs_background": "light"
     },
     "output_type": "display_data"
    }
   ],
   "source": [
    "# Distance to shower axis \n",
    "fig, ax = plt.subplots(1, 2, figsize=(12, 6))\n",
    "\n",
    "d_shower = np.sqrt(df.x_f**2 + df.y_f**2) / 1e2 # in meter\n",
    "\n",
    "bins = np.logspace(0, 2, 101)\n",
    "ax[0].hist(d_shower, bins=bins, histtype='step', label='df')\n",
    "ax[0].set_xscale('log')\n",
    "ax[0].set_yscale('log')\n",
    "ax[0].set_xlabel('distance to shower axis in meter')\n",
    "ax[0].set_ylabel('counts')\n",
    "ax[0].legend(loc='upper left')\n",
    "\n",
    "bins = np.linspace(0, 20, 101)\n",
    "ax[1].hist(d_shower, bins=bins, histtype='step', label='df')\n",
    "ax[1].set_yscale('log')\n",
    "ax[1].set_xlabel('distance to shower axis in meter')\n",
    "ax[1].set_ylabel('counts')\n",
    "ax[1].legend(loc='upper left')\n",
    "\n",
    "\n",
    "plt.tight_layout()\n",
    "if save_plot:\n",
    "    plt.savefig(plot_dir + '{}_{}_{}events_distance_showeraxis.pdf'.format(energy_name(E_i), energy_name(E_f), n_events))"
   ]
  },
  {
   "cell_type": "code",
   "execution_count": 10,
   "id": "8473cf3a-cab8-4e61-9e58-c1bc1be2e51f",
   "metadata": {},
   "outputs": [
    {
     "data": {
      "text/plain": [
       "100.555816211742994136"
      ]
     },
     "execution_count": 10,
     "metadata": {},
     "output_type": "execute_result"
    }
   ],
   "source": [
    "max(df.deflection)"
   ]
  },
  {
   "cell_type": "code",
   "execution_count": null,
   "id": "4e685cf7-fa2f-49e7-94d4-857424e995d6",
   "metadata": {},
   "outputs": [],
   "source": []
  }
 ],
 "metadata": {
  "kernelspec": {
   "display_name": "Python 3",
   "language": "python",
   "name": "python3"
  },
  "language_info": {
   "codemirror_mode": {
    "name": "ipython",
    "version": 3
   },
   "file_extension": ".py",
   "mimetype": "text/x-python",
   "name": "python",
   "nbconvert_exporter": "python",
   "pygments_lexer": "ipython3",
   "version": "3.6.8"
  }
 },
 "nbformat": 4,
 "nbformat_minor": 5
}
