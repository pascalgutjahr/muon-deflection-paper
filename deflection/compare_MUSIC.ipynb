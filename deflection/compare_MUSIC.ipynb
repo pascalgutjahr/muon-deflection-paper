{
 "cells": [
  {
   "cell_type": "code",
   "execution_count": 1,
   "id": "58e54a43-9ba5-40b4-841f-58fcfde6594d",
   "metadata": {},
   "outputs": [],
   "source": [
    "import numpy as np\n",
    "import matplotlib.pyplot as plt \n",
    "import os \n",
    "from tqdm import tqdm\n",
    "import pandas as pd\n",
    "from statistics import mode\n",
    "from helper_functions import energy_name"
   ]
  },
  {
   "cell_type": "code",
   "execution_count": 2,
   "id": "4084c955-dfb8-40f0-8b80-1dd29f0f1702",
   "metadata": {},
   "outputs": [],
   "source": [
    "%matplotlib inline"
   ]
  },
  {
   "cell_type": "code",
   "execution_count": 3,
   "id": "7fc53f9f",
   "metadata": {},
   "outputs": [
    {
     "data": {
      "text/plain": [
       "0"
      ]
     },
     "execution_count": 3,
     "metadata": {},
     "output_type": "execute_result"
    }
   ],
   "source": [
    "save_plot = True # False\n",
    "\n",
    "# currentNotebook = ipyparams.notebook_name[:len(ipyparams.notebook_name)-6] # get name of currect notebook\n",
    "# assert currentNotebook != '', \"no notebook name, run cell again\"\n",
    "\n",
    "currentNotebook = \"compare_MUSIC\"\n",
    "\n",
    "plot_dir = 'plots/{}/'.format(currentNotebook)\n",
    "os.system('mkdir -p {}'.format(plot_dir))\n",
    "\n",
    "df_dir = 'data/{}/'.format(currentNotebook)\n",
    "os.system('mkdir -p {}'.format(df_dir))"
   ]
  },
  {
   "cell_type": "code",
   "execution_count": 4,
   "id": "c7759299-6000-4405-ad2d-da90614af923",
   "metadata": {},
   "outputs": [
    {
     "data": {
      "text/html": [
       "<div>\n",
       "<style scoped>\n",
       "    .dataframe tbody tr th:only-of-type {\n",
       "        vertical-align: middle;\n",
       "    }\n",
       "\n",
       "    .dataframe tbody tr th {\n",
       "        vertical-align: top;\n",
       "    }\n",
       "\n",
       "    .dataframe thead th {\n",
       "        text-align: right;\n",
       "    }\n",
       "</style>\n",
       "<table border=\"1\" class=\"dataframe\">\n",
       "  <thead>\n",
       "    <tr style=\"text-align: right;\">\n",
       "      <th></th>\n",
       "      <th>E_i</th>\n",
       "      <th>E_f</th>\n",
       "      <th>distances</th>\n",
       "      <th>deflection</th>\n",
       "      <th>x_dir_i</th>\n",
       "      <th>y_dir_i</th>\n",
       "      <th>z_dir_i</th>\n",
       "      <th>x_i</th>\n",
       "      <th>y_i</th>\n",
       "      <th>z_i</th>\n",
       "      <th>x_f</th>\n",
       "      <th>y_f</th>\n",
       "      <th>z_f</th>\n",
       "    </tr>\n",
       "  </thead>\n",
       "  <tbody>\n",
       "    <tr>\n",
       "      <th>0</th>\n",
       "      <td>2000.0</td>\n",
       "      <td>0.200000</td>\n",
       "      <td>1604.874964</td>\n",
       "      <td>8.847735</td>\n",
       "      <td>0.0</td>\n",
       "      <td>0.0</td>\n",
       "      <td>1.0</td>\n",
       "      <td>0.0</td>\n",
       "      <td>0.0</td>\n",
       "      <td>0.0</td>\n",
       "      <td>-524.662556</td>\n",
       "      <td>201.134609</td>\n",
       "      <td>160479.941499</td>\n",
       "    </tr>\n",
       "    <tr>\n",
       "      <th>1</th>\n",
       "      <td>2000.0</td>\n",
       "      <td>687.083800</td>\n",
       "      <td>3000.000000</td>\n",
       "      <td>0.137316</td>\n",
       "      <td>0.0</td>\n",
       "      <td>0.0</td>\n",
       "      <td>1.0</td>\n",
       "      <td>0.0</td>\n",
       "      <td>0.0</td>\n",
       "      <td>0.0</td>\n",
       "      <td>313.408525</td>\n",
       "      <td>-105.517592</td>\n",
       "      <td>299999.641344</td>\n",
       "    </tr>\n",
       "    <tr>\n",
       "      <th>2</th>\n",
       "      <td>2000.0</td>\n",
       "      <td>470.082908</td>\n",
       "      <td>3000.000000</td>\n",
       "      <td>0.093675</td>\n",
       "      <td>0.0</td>\n",
       "      <td>0.0</td>\n",
       "      <td>1.0</td>\n",
       "      <td>0.0</td>\n",
       "      <td>0.0</td>\n",
       "      <td>0.0</td>\n",
       "      <td>114.018856</td>\n",
       "      <td>-31.357471</td>\n",
       "      <td>299999.912964</td>\n",
       "    </tr>\n",
       "    <tr>\n",
       "      <th>3</th>\n",
       "      <td>2000.0</td>\n",
       "      <td>488.508415</td>\n",
       "      <td>3000.000000</td>\n",
       "      <td>0.077297</td>\n",
       "      <td>0.0</td>\n",
       "      <td>0.0</td>\n",
       "      <td>1.0</td>\n",
       "      <td>0.0</td>\n",
       "      <td>0.0</td>\n",
       "      <td>0.0</td>\n",
       "      <td>-112.197193</td>\n",
       "      <td>-54.858427</td>\n",
       "      <td>299999.912052</td>\n",
       "    </tr>\n",
       "    <tr>\n",
       "      <th>4</th>\n",
       "      <td>2000.0</td>\n",
       "      <td>33.516930</td>\n",
       "      <td>3000.000000</td>\n",
       "      <td>0.790317</td>\n",
       "      <td>0.0</td>\n",
       "      <td>0.0</td>\n",
       "      <td>1.0</td>\n",
       "      <td>0.0</td>\n",
       "      <td>0.0</td>\n",
       "      <td>0.0</td>\n",
       "      <td>518.874108</td>\n",
       "      <td>140.390981</td>\n",
       "      <td>299997.966962</td>\n",
       "    </tr>\n",
       "    <tr>\n",
       "      <th>...</th>\n",
       "      <td>...</td>\n",
       "      <td>...</td>\n",
       "      <td>...</td>\n",
       "      <td>...</td>\n",
       "      <td>...</td>\n",
       "      <td>...</td>\n",
       "      <td>...</td>\n",
       "      <td>...</td>\n",
       "      <td>...</td>\n",
       "      <td>...</td>\n",
       "      <td>...</td>\n",
       "      <td>...</td>\n",
       "      <td>...</td>\n",
       "    </tr>\n",
       "    <tr>\n",
       "      <th>19995</th>\n",
       "      <td>2000.0</td>\n",
       "      <td>229.296663</td>\n",
       "      <td>3000.000000</td>\n",
       "      <td>0.146525</td>\n",
       "      <td>0.0</td>\n",
       "      <td>0.0</td>\n",
       "      <td>1.0</td>\n",
       "      <td>0.0</td>\n",
       "      <td>0.0</td>\n",
       "      <td>0.0</td>\n",
       "      <td>-79.062846</td>\n",
       "      <td>-237.807638</td>\n",
       "      <td>299999.383767</td>\n",
       "    </tr>\n",
       "    <tr>\n",
       "      <th>19996</th>\n",
       "      <td>2000.0</td>\n",
       "      <td>361.535478</td>\n",
       "      <td>3000.000000</td>\n",
       "      <td>0.028278</td>\n",
       "      <td>0.0</td>\n",
       "      <td>0.0</td>\n",
       "      <td>1.0</td>\n",
       "      <td>0.0</td>\n",
       "      <td>0.0</td>\n",
       "      <td>0.0</td>\n",
       "      <td>24.659560</td>\n",
       "      <td>-49.241266</td>\n",
       "      <td>299999.942537</td>\n",
       "    </tr>\n",
       "    <tr>\n",
       "      <th>19997</th>\n",
       "      <td>2000.0</td>\n",
       "      <td>687.624286</td>\n",
       "      <td>3000.000000</td>\n",
       "      <td>0.064488</td>\n",
       "      <td>0.0</td>\n",
       "      <td>0.0</td>\n",
       "      <td>1.0</td>\n",
       "      <td>0.0</td>\n",
       "      <td>0.0</td>\n",
       "      <td>0.0</td>\n",
       "      <td>133.190386</td>\n",
       "      <td>-55.838471</td>\n",
       "      <td>299999.938702</td>\n",
       "    </tr>\n",
       "    <tr>\n",
       "      <th>19998</th>\n",
       "      <td>2000.0</td>\n",
       "      <td>142.311117</td>\n",
       "      <td>3000.000000</td>\n",
       "      <td>0.376657</td>\n",
       "      <td>0.0</td>\n",
       "      <td>0.0</td>\n",
       "      <td>1.0</td>\n",
       "      <td>0.0</td>\n",
       "      <td>0.0</td>\n",
       "      <td>0.0</td>\n",
       "      <td>-586.390252</td>\n",
       "      <td>124.331768</td>\n",
       "      <td>299998.927287</td>\n",
       "    </tr>\n",
       "    <tr>\n",
       "      <th>19999</th>\n",
       "      <td>2000.0</td>\n",
       "      <td>356.518288</td>\n",
       "      <td>3000.000000</td>\n",
       "      <td>0.087108</td>\n",
       "      <td>0.0</td>\n",
       "      <td>0.0</td>\n",
       "      <td>1.0</td>\n",
       "      <td>0.0</td>\n",
       "      <td>0.0</td>\n",
       "      <td>0.0</td>\n",
       "      <td>49.580387</td>\n",
       "      <td>50.638109</td>\n",
       "      <td>299999.819927</td>\n",
       "    </tr>\n",
       "  </tbody>\n",
       "</table>\n",
       "<p>20000 rows × 13 columns</p>\n",
       "</div>"
      ],
      "text/plain": [
       "          E_i         E_f    distances  deflection  x_dir_i  y_dir_i  z_dir_i  \\\n",
       "0      2000.0    0.200000  1604.874964    8.847735      0.0      0.0      1.0   \n",
       "1      2000.0  687.083800  3000.000000    0.137316      0.0      0.0      1.0   \n",
       "2      2000.0  470.082908  3000.000000    0.093675      0.0      0.0      1.0   \n",
       "3      2000.0  488.508415  3000.000000    0.077297      0.0      0.0      1.0   \n",
       "4      2000.0   33.516930  3000.000000    0.790317      0.0      0.0      1.0   \n",
       "...       ...         ...          ...         ...      ...      ...      ...   \n",
       "19995  2000.0  229.296663  3000.000000    0.146525      0.0      0.0      1.0   \n",
       "19996  2000.0  361.535478  3000.000000    0.028278      0.0      0.0      1.0   \n",
       "19997  2000.0  687.624286  3000.000000    0.064488      0.0      0.0      1.0   \n",
       "19998  2000.0  142.311117  3000.000000    0.376657      0.0      0.0      1.0   \n",
       "19999  2000.0  356.518288  3000.000000    0.087108      0.0      0.0      1.0   \n",
       "\n",
       "       x_i  y_i  z_i         x_f         y_f            z_f  \n",
       "0      0.0  0.0  0.0 -524.662556  201.134609  160479.941499  \n",
       "1      0.0  0.0  0.0  313.408525 -105.517592  299999.641344  \n",
       "2      0.0  0.0  0.0  114.018856  -31.357471  299999.912964  \n",
       "3      0.0  0.0  0.0 -112.197193  -54.858427  299999.912052  \n",
       "4      0.0  0.0  0.0  518.874108  140.390981  299997.966962  \n",
       "...    ...  ...  ...         ...         ...            ...  \n",
       "19995  0.0  0.0  0.0  -79.062846 -237.807638  299999.383767  \n",
       "19996  0.0  0.0  0.0   24.659560  -49.241266  299999.942537  \n",
       "19997  0.0  0.0  0.0  133.190386  -55.838471  299999.938702  \n",
       "19998  0.0  0.0  0.0 -586.390252  124.331768  299998.927287  \n",
       "19999  0.0  0.0  0.0   49.580387   50.638109  299999.819927  \n",
       "\n",
       "[20000 rows x 13 columns]"
      ]
     },
     "execution_count": 4,
     "metadata": {},
     "output_type": "execute_result"
    }
   ],
   "source": [
    "df = pd.read_hdf('data/compare_MUSIC/MUSIC_2TeV_3km_water.hdf5')\n",
    "df"
   ]
  },
  {
   "cell_type": "code",
   "execution_count": 5,
   "id": "f88bf6fe-4c76-41f5-ad13-4978acf76835",
   "metadata": {},
   "outputs": [],
   "source": [
    "E_i = df.E_i[0] * 1e3 # in MeV\n",
    "E_f = mode(df.E_f) * 1e3 # in MeV \n",
    "n_events = len(df)"
   ]
  },
  {
   "cell_type": "code",
   "execution_count": 6,
   "id": "a1402856-3918-4371-a3e4-c11fee9871dc",
   "metadata": {},
   "outputs": [
    {
     "data": {
      "text/plain": [
       "<matplotlib.legend.Legend at 0x7f2e5f01f940>"
      ]
     },
     "execution_count": 6,
     "metadata": {},
     "output_type": "execute_result"
    },
    {
     "data": {
      "image/png": "[encoded data removed]",
      "text/plain": [
       "<Figure size 432x288 with 1 Axes>"
      ]
     },
     "metadata": {
      "needs_background": "light"
     },
     "output_type": "display_data"
    }
   ],
   "source": [
    "# energy\n",
    "bins = np.logspace(-2, 8, 51)\n",
    "\n",
    "plt.hist(df.E_i, bins=bins, histtype='step', label='E_i')\n",
    "plt.hist(df.E_f, bins=bins, histtype='step', label='E_f')\n",
    "plt.xscale('log')\n",
    "plt.yscale('log')\n",
    "plt.xlabel('energy in GeV')\n",
    "plt.ylabel('counts')\n",
    "plt.legend()"
   ]
  },
  {
   "cell_type": "code",
   "execution_count": 13,
   "id": "05561fa7-5eb0-4fa7-95db-c59d5113432f",
   "metadata": {},
   "outputs": [
    {
     "data": {
      "text/plain": [
       "Text(0.5, 0, 'propagation distance in meter')"
      ]
     },
     "execution_count": 13,
     "metadata": {},
     "output_type": "execute_result"
    },
    {
     "data": {
      "image/png": "[encoded data removed]",
      "text/plain": [
       "<Figure size 432x288 with 1 Axes>"
      ]
     },
     "metadata": {
      "needs_background": "light"
     },
     "output_type": "display_data"
    }
   ],
   "source": [
    "# propagation distance\n",
    "bins = np.linspace(0, 3500, 51)\n",
    "\n",
    "plt.hist(df.distances, bins=bins, histtype='step')\n",
    "plt.yscale('log')\n",
    "# plt.xscale('log')\n",
    "plt.ylabel('counts')\n",
    "plt.xlabel('propagation distance in meter')\n"
   ]
  },
  {
   "cell_type": "code",
   "execution_count": 8,
   "id": "b7c10943-73e7-4fa7-a8d5-c2ee27dc2e53",
   "metadata": {},
   "outputs": [
    {
     "data": {
      "image/png": "[encoded data removed]",
      "text/plain": [
       "<Figure size 864x432 with 2 Axes>"
      ]
     },
     "metadata": {
      "needs_background": "light"
     },
     "output_type": "display_data"
    }
   ],
   "source": [
    "# Deflection\n",
    "fig, ax = plt.subplots(1, 2, figsize=(12, 6))\n",
    "\n",
    "bins = np.logspace(-4, 3, 101)\n",
    "ax[0].hist(df.deflection, bins=bins, histtype='step', label='df')\n",
    "ax[0].set_xscale('log')\n",
    "ax[0].set_yscale('log')\n",
    "ax[0].set_xlabel('accumulated deflection in degree')\n",
    "ax[0].set_ylabel('counts')\n",
    "ax[0].legend(loc='upper left')\n",
    "\n",
    "bins = np.linspace(0, 5, 101)\n",
    "ax[1].hist(df.deflection, bins=bins, histtype='step', label='df')\n",
    "ax[1].set_yscale('log')\n",
    "ax[1].set_xlabel('accumulated deflection in degree')\n",
    "ax[1].set_ylabel('counts')\n",
    "ax[1].legend(loc='upper left')\n",
    "\n",
    "\n",
    "plt.tight_layout()\n",
    "if save_plot:\n",
    "    plt.savefig(plot_dir + '{}_{}_{}events_accumulated_defl.pdf'.format(energy_name(E_i), energy_name(E_f), n_events))"
   ]
  },
  {
   "cell_type": "code",
   "execution_count": 9,
   "id": "d01c7493-bf69-4f6c-a121-7ad6e9dc8e05",
   "metadata": {},
   "outputs": [
    {
     "data": {
      "image/png": "[encoded data removed]",
      "text/plain": [
       "<Figure size 864x432 with 2 Axes>"
      ]
     },
     "metadata": {
      "needs_background": "light"
     },
     "output_type": "display_data"
    }
   ],
   "source": [
    "# Distance to shower axis \n",
    "fig, ax = plt.subplots(1, 2, figsize=(12, 6))\n",
    "\n",
    "d_shower = np.sqrt(df.x_f**2 + df.y_f**2) / 1e2 # in meter\n",
    "\n",
    "bins = np.logspace(0, 2, 101)\n",
    "ax[0].hist(d_shower, bins=bins, histtype='step', label='df')\n",
    "ax[0].set_xscale('log')\n",
    "ax[0].set_yscale('log')\n",
    "ax[0].set_xlabel('distance to shower axis in meter')\n",
    "ax[0].set_ylabel('counts')\n",
    "ax[0].legend(loc='upper left')\n",
    "\n",
    "bins = np.linspace(0, 20, 101)\n",
    "ax[1].hist(d_shower, bins=bins, histtype='step', label='df')\n",
    "ax[1].set_yscale('log')\n",
    "ax[1].set_xlabel('distance to shower axis in meter')\n",
    "ax[1].set_ylabel('counts')\n",
    "ax[1].legend(loc='upper left')\n",
    "\n",
    "\n",
    "plt.tight_layout()\n",
    "if save_plot:\n",
    "    plt.savefig(plot_dir + '{}_{}_{}events_distance_showeraxis.pdf'.format(energy_name(E_i), energy_name(E_f), n_events))"
   ]
  },
  {
   "cell_type": "code",
   "execution_count": null,
   "id": "8473cf3a-cab8-4e61-9e58-c1bc1be2e51f",
   "metadata": {},
   "outputs": [],
   "source": [
    "max(df.deflection)"
   ]
  },
  {
   "cell_type": "code",
   "execution_count": null,
   "id": "4e685cf7-fa2f-49e7-94d4-857424e995d6",
   "metadata": {},
   "outputs": [],
   "source": []
  }
 ],
 "metadata": {
  "kernelspec": {
   "display_name": "Python 3",
   "language": "python",
   "name": "python3"
  },
  "language_info": {
   "codemirror_mode": {
    "name": "ipython",
    "version": 3
   },
   "file_extension": ".py",
   "mimetype": "text/x-python",
   "name": "python",
   "nbconvert_exporter": "python",
   "pygments_lexer": "ipython3",
   "version": "3.6.8"
  }
 },
 "nbformat": 4,
 "nbformat_minor": 5
}
