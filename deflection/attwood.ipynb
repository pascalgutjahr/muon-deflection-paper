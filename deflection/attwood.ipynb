{
 "cells": [
  {
   "cell_type": "code",
   "execution_count": 38,
   "id": "93bc3ba3-8644-46ef-af47-dd7ff703270c",
   "metadata": {},
   "outputs": [],
   "source": [
    "import proposal as pp\n",
    "import numpy as np\n",
    "from tqdm import tqdm\n",
    "import matplotlib.pyplot as plt\n",
    "from helper_functions_multi import get_angle_deviation"
   ]
  },
  {
   "cell_type": "code",
   "execution_count": 2,
   "id": "b5af9319-b236-4731-b810-e5ae7cba37af",
   "metadata": {},
   "outputs": [],
   "source": [
    "momentum = 168.9 # MeV/c , 172\n",
    "m = 105.7 # MeV\n",
    "E = np.sqrt(momentum**2 + m**2)\n",
    "\n",
    "\n",
    "E_i = momentum # 1e9 # 1 PeV \n",
    "E_f = 1e1 # 1e5 # 100 GeV\n",
    "n_events = 10000 # 2500\n",
    "    \n",
    "deflection = [\n",
    "    'bremsginneken', \n",
    "    'ioniznaive',\n",
    "    'photoginneken',\n",
    "    'epairginneken'] ### same as default\n",
    "    \n",
    "e_cut = np.inf # 1e10\n",
    "v_cut = 0.001 # 1e-5\n",
    "cont_rand = False\n",
    "scattering_method = \"moliere\" # \"highland\"\n",
    "deflection_type = \"m_scat+stochastic\"\n",
    "  \n",
    "# table_path = \"/Users/pascalgutjahr/.cache/PROPOSAL\" # macbook pro\n",
    "table_path = \"/net/nfshome/home/pgutjahr/.cache/PROPOSAL\" # vollmond\n",
    "    \n",
    "rnd_seed = 71530\n",
    "\n",
    "interpol_nodes = 200\n",
    "\n",
    "initial_direction = [0, 0, 1]\n",
    "\n",
    "beta_brems = 1.0\n",
    "beta_ioniz = 1.0\n",
    "beta_epair = 1.0\n",
    "beta_multiplescatter = 1.0\n",
    "beta_photonuclear = 1.0\n",
    "\n",
    "max_dist = 10.9 # in cm = 109 mm"
   ]
  },
  {
   "cell_type": "code",
   "execution_count": 3,
   "id": "120c08d2-6a17-4e97-868a-417df8624441",
   "metadata": {},
   "outputs": [],
   "source": [
    "pp.InterpolationSettings.tables_path = table_path   # version 7\n",
    "    \n",
    "pp.InterpolationSettings.nodes_dndx_e = interpol_nodes\n",
    "pp.InterpolationSettings.nodes_dndx_v = interpol_nodes\n",
    "\n",
    "pp.RandomGenerator.get().set_seed(rnd_seed)\n",
    "args = {\n",
    "        \"particle_def\": pp.particle.MuMinusDef(),\n",
    "        \"target\": pp.medium.Hydrogen(),\n",
    "        \"interpolate\": True,\n",
    "        \"cuts\": pp.EnergyCutSettings(e_cut, v_cut, cont_rand)\n",
    "        }\n",
    "\n",
    "cross = pp.crosssection.make_std_crosssection(**args)\n",
    "multiple_scatter = pp.make_multiple_scattering(scattering_method, args[\"particle_def\"], args[\"target\"], cross, True)\n",
    "\n",
    "stochastic_deflect = []\n",
    "for d in deflection:\n",
    "    stochastic_deflect.append(pp.make_stochastic_deflection(d, \n",
    "    args[\"particle_def\"], args[\"target\"]))\n",
    "\n",
    "\n",
    "collection = pp.PropagationUtilityCollection()\n",
    "collection.displacement = pp.make_displacement(cross, True)\n",
    "collection.interaction = pp.make_interaction(cross, True)\n",
    "collection.time = pp.make_time(cross, args[\"particle_def\"], True)\n",
    "collection.decay = pp.make_decay(cross, args[\"particle_def\"], True)\n",
    "\n",
    "\n",
    "\n",
    "collection.scattering = pp.scattering.ScatteringMultiplier(\n",
    "    multiple_scatter, \n",
    "    stochastic_deflect, \n",
    "    beta_multiplescatter, \n",
    "    [(pp.particle.Interaction_Type.brems, beta_brems), (pp.particle.Interaction_Type.ioniz, beta_ioniz), \n",
    "    (pp.particle.Interaction_Type.epair, beta_epair), (pp.particle.Interaction_Type.photonuclear, beta_photonuclear)])\n",
    "\n",
    "\n",
    "utility = pp.PropagationUtility(collection = collection)\n",
    "detector = pp.geometry.Sphere(pp.Cartesian3D(0,0,0), 1e20) # version 7\n",
    "density_distr = pp.density_distribution.density_homogeneous(args[\"target\"].mass_density)\n",
    "\n",
    "\n",
    "prop = pp.Propagator(args[\"particle_def\"], [(detector, utility, density_distr)])\n",
    "\n",
    "init_state = pp.particle.ParticleState()\n",
    "init_state.position = pp.Cartesian3D(0, 0, 0) # version 7\n",
    "init_state.direction = pp.Cartesian3D(initial_direction[0], initial_direction[1], initial_direction[2]) # version 7"
   ]
  },
  {
   "cell_type": "code",
   "execution_count": 4,
   "id": "3659b805-ab88-4161-8260-88f5af28ada5",
   "metadata": {},
   "outputs": [
    {
     "name": "stderr",
     "output_type": "stream",
     "text": [
      "100%|██████████| 10000/10000 [00:00<00:00, 13038.88it/s]\n"
     ]
    }
   ],
   "source": [
    "tracks = []\n",
    "for i in tqdm(range(n_events)):\n",
    "    init_state.energy = E_i # initial energy in MeV\n",
    "    track = prop.propagate(init_state, max_distance = max_dist, min_energy = E_f) # max_dist=1e9\n",
    "    tracks.append(track)"
   ]
  },
  {
   "cell_type": "code",
   "execution_count": 5,
   "id": "11c66a00-90c7-43b3-8fec-c10b77aaf512",
   "metadata": {},
   "outputs": [],
   "source": [
    "tracks_109 = []\n",
    "for track in tracks:\n",
    "    if track.track_propagated_distances()[-1] == 10.9:\n",
    "        tracks_109.append(track)"
   ]
  },
  {
   "cell_type": "code",
   "execution_count": 6,
   "id": "956cda29-1e80-416d-a505-a242f432822f",
   "metadata": {},
   "outputs": [
    {
     "data": {
      "text/plain": [
       "9846"
      ]
     },
     "execution_count": 6,
     "metadata": {},
     "output_type": "execute_result"
    }
   ],
   "source": [
    "len(tracks_109)"
   ]
  },
  {
   "cell_type": "code",
   "execution_count": 16,
   "id": "56282d8d-774e-4530-98ab-451bba688999",
   "metadata": {},
   "outputs": [
    {
     "name": "stdout",
     "output_type": "stream",
     "text": [
      "=================== Vector3D (0x47197c0) ===================\n",
      "x: 0.0106193\ty: -0.0128231\tz: 0.999861\n",
      "============================================================\n"
     ]
    }
   ],
   "source": [
    "print(track.track_directions()[-1])"
   ]
  },
  {
   "cell_type": "code",
   "execution_count": 45,
   "id": "18176649-1dcb-4a67-88bf-a3cd4a40d3c6",
   "metadata": {},
   "outputs": [
    {
     "name": "stdout",
     "output_type": "stream",
     "text": [
      "=================== Vector3D (0x4bd73a0) ===================\n",
      "radius: 1\tazimuth: -0.879131\tzenith: 0.0166502\n",
      "============================================================\n"
     ]
    }
   ],
   "source": [
    "print(pp.Spherical3D(track.track_directions()[1]))"
   ]
  },
  {
   "cell_type": "code",
   "execution_count": 9,
   "id": "7b4809d1-0b11-4a5c-bd69-b001bb88a2d9",
   "metadata": {},
   "outputs": [
    {
     "data": {
      "text/plain": [
       "[1.0, -0.8791310141186945, 0.016650191975939737]"
      ]
     },
     "execution_count": 9,
     "metadata": {},
     "output_type": "execute_result"
    }
   ],
   "source": [
    "\n",
    "track.track_directions()[1].spherical_coordinates"
   ]
  },
  {
   "cell_type": "code",
   "execution_count": 19,
   "id": "eece718e-51a7-4907-9de4-e85210f1929f",
   "metadata": {},
   "outputs": [],
   "source": [
    "tracks_109_zenith = []\n",
    "tracks_109_azimuth = []\n",
    "tracks_109_x = []\n",
    "tracks_109_y = []\n",
    "tracks_109_z = []\n",
    "for track in tracks_109:\n",
    "    tracks_109_zenith.append(track.track_directions()[-1].spherical_coordinates[2])\n",
    "    tracks_109_azimuth.append(track.track_directions()[-1].spherical_coordinates[1])\n",
    "    tracks_109_x.append(track.track_directions()[-1].x)\n",
    "    tracks_109_y.append(track.track_directions()[-1].y)\n",
    "    tracks_109_z.append(track.track_directions()[-1].z)"
   ]
  },
  {
   "cell_type": "code",
   "execution_count": 20,
   "id": "c3054516-f7a6-4a96-9262-60abd61fcefd",
   "metadata": {},
   "outputs": [
    {
     "data": {
      "text/plain": [
       "<matplotlib.legend.Legend at 0x7f4fff088c18>"
      ]
     },
     "execution_count": 20,
     "metadata": {},
     "output_type": "execute_result"
    },
    {
     "data": {
      "image/png": "[encoded data removed]",
      "text/plain": [
       "<Figure size 432x288 with 1 Axes>"
      ]
     },
     "metadata": {
      "needs_background": "light"
     },
     "output_type": "display_data"
    }
   ],
   "source": [
    "bins = np.linspace(-np.pi, np.pi, 50)\n",
    "plt.hist(tracks_109_azimuth, bins=bins, histtype='step', label='azimuth')\n",
    "plt.hist(tracks_109_zenith, bins=bins, histtype='step', label='zenith')\n",
    "plt.xlabel('angle in rad')\n",
    "plt.yscale('log')\n",
    "plt.legend()"
   ]
  },
  {
   "cell_type": "code",
   "execution_count": 21,
   "id": "2f189b16-edc9-4989-8b3a-27900d5fc51c",
   "metadata": {},
   "outputs": [
    {
     "data": {
      "text/plain": [
       "<matplotlib.legend.Legend at 0x7f4fff00db70>"
      ]
     },
     "execution_count": 21,
     "metadata": {},
     "output_type": "execute_result"
    },
    {
     "data": {
      "image/png": "[encoded data removed]",
      "text/plain": [
       "<Figure size 432x288 with 1 Axes>"
      ]
     },
     "metadata": {
      "needs_background": "light"
     },
     "output_type": "display_data"
    }
   ],
   "source": [
    "bins = np.linspace(-0.1, 0.1, 50)\n",
    "plt.hist(tracks_109_zenith, bins=bins, histtype='step', density=True, label='zenith')\n",
    "plt.ylabel('normalized counts')\n",
    "plt.xlabel('angle in rad')\n",
    "plt.legend()"
   ]
  },
  {
   "cell_type": "code",
   "execution_count": 31,
   "id": "97572031-ab23-4eec-8c4a-b1d3e02910a6",
   "metadata": {},
   "outputs": [],
   "source": [
    "def projection(y, z):\n",
    "    if not isinstance(y, np.ndarray):\n",
    "        y = np.array(y)\n",
    "    if not isinstance(z, np.ndarray):\n",
    "        z = np.array(z)\n",
    "    return np.tan(y / z)"
   ]
  },
  {
   "cell_type": "code",
   "execution_count": 32,
   "id": "65dfa0f1-5f3b-40c4-903d-5dbf0246f1a6",
   "metadata": {},
   "outputs": [
    {
     "data": {
      "text/plain": [
       "array([-0.00072148,  0.01330111, -0.01099777, ...,  0.01035809,\n",
       "        0.00697737, -0.01282562])"
      ]
     },
     "execution_count": 32,
     "metadata": {},
     "output_type": "execute_result"
    }
   ],
   "source": [
    "projection(tracks_109_y, tracks_109_z)"
   ]
  },
  {
   "cell_type": "code",
   "execution_count": 47,
   "id": "9e8f424c-aeb5-4d62-a982-40ea518b7db8",
   "metadata": {},
   "outputs": [
    {
     "data": {
      "text/plain": [
       "array([0.01644556, 0.01546471, 0.01217058, ..., 0.0155244 , 0.00718501,\n",
       "       0.01665019], dtype=float128)"
      ]
     },
     "execution_count": 47,
     "metadata": {},
     "output_type": "execute_result"
    }
   ],
   "source": [
    "angles = get_angle_deviation(0, 0, np.array(tracks_109_azimuth), np.array(tracks_109_zenith))\n",
    "angles"
   ]
  },
  {
   "cell_type": "code",
   "execution_count": 49,
   "id": "9cb759ee-25c8-4dd8-9551-0f833c418d52",
   "metadata": {},
   "outputs": [
    {
     "name": "stderr",
     "output_type": "stream",
     "text": [
      "/home/pgutjahr/proposal_7_3_0/lib64/python3.6/site-packages/numpy/lib/histograms.py:905: RuntimeWarning: invalid value encountered in true_divide\n",
      "  return n/db/n.sum(), bin_edges\n"
     ]
    },
    {
     "data": {
      "text/plain": [
       "<matplotlib.legend.Legend at 0x7f4feac85cf8>"
      ]
     },
     "execution_count": 49,
     "metadata": {},
     "output_type": "execute_result"
    },
    {
     "data": {
      "image/png": "[encoded data removed]",
      "text/plain": [
       "<Figure size 432x288 with 1 Axes>"
      ]
     },
     "metadata": {
      "needs_background": "light"
     },
     "output_type": "display_data"
    }
   ],
   "source": [
    "bins = np.linspace(-0.1, 0.1, 30)\n",
    "plt.hist(projection(tracks_109_y, tracks_109_z), bins=bins, histtype='step', density=True, label='tan(y/z)')\n",
    "plt.hist(projection(tracks_109_y, tracks_109_z) * angles, bins=bins, histtype='step', density=True, label='tan(y/z)*phi')\n",
    "plt.hist(angles/projection(tracks_109_y, tracks_109_z), bins=bins, histtype='step', density=True, label='tan(y/z)*phi')\n",
    "plt.ylabel('normalized counts')\n",
    "plt.xlabel('angle in rad')\n",
    "plt.legend()"
   ]
  },
  {
   "cell_type": "code",
   "execution_count": 43,
   "id": "39aa7e5f-eea2-4e53-8c78-bf6b1cb9e7ee",
   "metadata": {},
   "outputs": [
    {
     "name": "stdout",
     "output_type": "stream",
     "text": [
      "=================== Vector3D (0x5129700) ===================\n",
      "x: 0\ty: 0\tz: 1\n",
      "============================================================\n"
     ]
    }
   ],
   "source": [
    "print(track.track_directions()[0])"
   ]
  },
  {
   "cell_type": "code",
   "execution_count": 50,
   "id": "0a922460-692d-40d2-8a69-6503195f08be",
   "metadata": {},
   "outputs": [
    {
     "ename": "SyntaxError",
     "evalue": "invalid syntax (<ipython-input-50-9302cf18156a>, line 2)",
     "output_type": "error",
     "traceback": [
      "\u001b[0;36m  File \u001b[0;32m\"<ipython-input-50-9302cf18156a>\"\u001b[0;36m, line \u001b[0;32m2\u001b[0m\n\u001b[0;31m    lese schon mal die daten von attwood ein und erzeuge dann einen auf 100% normierten bar plot\u001b[0m\n\u001b[0m             ^\u001b[0m\n\u001b[0;31mSyntaxError\u001b[0m\u001b[0;31m:\u001b[0m invalid syntax\n"
     ]
    }
   ],
   "source": [
    "reproduziere den plot von attwood -> irgendwie muss der winkel noch berücksichtigt werden, wie?\n",
    "lese schon mal die daten von attwood ein und erzeuge dann einen auf 100% normierten bar plot"
   ]
  },
  {
   "cell_type": "code",
   "execution_count": null,
   "id": "19a7b72b-1462-4c0f-ab88-dc34340c6b68",
   "metadata": {},
   "outputs": [],
   "source": []
  }
 ],
 "metadata": {
  "kernelspec": {
   "display_name": "Python 3",
   "language": "python",
   "name": "python3"
  },
  "language_info": {
   "codemirror_mode": {
    "name": "ipython",
    "version": 3
   },
   "file_extension": ".py",
   "mimetype": "text/x-python",
   "name": "python",
   "nbconvert_exporter": "python",
   "pygments_lexer": "ipython3",
   "version": "3.6.8"
  }
 },
 "nbformat": 4,
 "nbformat_minor": 5
}
