{
 "cells": [
  {
   "cell_type": "code",
   "execution_count": 1,
   "id": "8d45c92f-8886-47e8-9050-f60ba8e55d2a",
   "metadata": {},
   "outputs": [],
   "source": [
    "# Use only one interactiontype to deflect the muon, no multiple scattering "
   ]
  },
  {
   "cell_type": "code",
   "execution_count": 2,
   "id": "a88909f7-d005-4d31-9be0-b441398ea3f8",
   "metadata": {},
   "outputs": [],
   "source": [
    "import numpy as np\n",
    "import matplotlib.pyplot as plt \n",
    "import os \n",
    "from tqdm import tqdm\n",
    "import pandas as pd"
   ]
  },
  {
   "cell_type": "code",
   "execution_count": 4,
   "id": "d460eb96-c319-4e51-8abb-f0bd37510ee3",
   "metadata": {},
   "outputs": [
    {
     "data": {
      "text/plain": [
       "0"
      ]
     },
     "execution_count": 4,
     "metadata": {},
     "output_type": "execute_result"
    }
   ],
   "source": [
    "save_plot = True # False\n",
    "\n",
    "# currentNotebook = ipyparams.notebook_name[:len(ipyparams.notebook_name)-6] # get name of currect notebook\n",
    "# assert currentNotebook != '', \"no notebook name, run cell again\"\n",
    "\n",
    "currentNotebook = \"only_one_interactiontype\"\n",
    "\n",
    "plot_dir = 'plots/{}/'.format(currentNotebook)\n",
    "os.system('mkdir -p {}'.format(plot_dir))\n",
    "\n",
    "df_dir = 'data/{}/'.format(currentNotebook)\n",
    "os.system('mkdir -p {}'.format(df_dir))"
   ]
  },
  {
   "cell_type": "code",
   "execution_count": 7,
   "id": "d4d877fb-6f5f-4208-bc38-61e011e50788",
   "metadata": {},
   "outputs": [],
   "source": [
    "df_brems = pd.read_hdf('data/only_one_interactiontype/total_defl_brems.hdf5')\n",
    "df_ioniz = pd.read_hdf('data/only_one_interactiontype/total_defl_ioniz.hdf5')\n",
    "df_nuclint = pd.read_hdf('data/only_one_interactiontype/total_defl_nuclint.hdf5')\n",
    "df_epair = pd.read_hdf('data/only_one_interactiontype/total_defl_epair.hdf5')"
   ]
  },
  {
   "cell_type": "code",
   "execution_count": 8,
   "id": "490dff1e-1a5b-4fa9-900f-8f3dfef499ed",
   "metadata": {},
   "outputs": [
    {
     "data": {
      "text/plain": [
       "<matplotlib.legend.Legend at 0x7f7082c10f28>"
      ]
     },
     "execution_count": 8,
     "metadata": {},
     "output_type": "execute_result"
    },
    {
     "data": {
      "image/png": "[encoded data removed]",
      "text/plain": [
       "<Figure size 432x288 with 1 Axes>"
      ]
     },
     "metadata": {
      "needs_background": "light"
     },
     "output_type": "display_data"
    }
   ],
   "source": [
    "bins = np.logspace(-6, 2, 101)\n",
    "plt.hist(df_brems.deflection, bins=bins, histtype='step', label='brems')\n",
    "plt.hist(df_ioniz.deflection, bins=bins, histtype='step', label='ioniz')\n",
    "plt.hist(df_nuclint.deflection, bins=bins, histtype='step', label='nuclint')\n",
    "plt.hist(df_epair.deflection, bins=bins, histtype='step', label='epair')\n",
    "plt.xscale('log')\n",
    "plt.yscale('log')\n",
    "plt.xlabel('deflection in degree')\n",
    "plt.legend(bbox_to_anchor=(1,1))"
   ]
  },
  {
   "cell_type": "code",
   "execution_count": 9,
   "id": "769bc9e3-5795-4728-a687-b965426ff58d",
   "metadata": {
    "tags": []
   },
   "outputs": [],
   "source": [
    "def d_shower(x, y): \n",
    "    return np.sqrt(x**2 + y**2) / 100 # distance in meter"
   ]
  },
  {
   "cell_type": "code",
   "execution_count": 10,
   "id": "89ea40a4-ddd9-4367-8ad5-4ec721d01dee",
   "metadata": {},
   "outputs": [],
   "source": [
    "d_shower_brems = d_shower(df_brems.x_f, df_brems.y_f)\n",
    "d_shower_ioniz = d_shower(df_ioniz.x_f, df_ioniz.y_f)\n",
    "d_shower_nuclint = d_shower(df_nuclint.x_f, df_nuclint.y_f)\n",
    "d_shower_epair = d_shower(df_epair.x_f, df_epair.y_f)"
   ]
  },
  {
   "cell_type": "code",
   "execution_count": 12,
   "id": "9aeef8e5-ff44-449e-a969-dc9cef50377a",
   "metadata": {},
   "outputs": [
    {
     "data": {
      "text/plain": [
       "<matplotlib.legend.Legend at 0x7f7082995748>"
      ]
     },
     "execution_count": 12,
     "metadata": {},
     "output_type": "execute_result"
    },
    {
     "data": {
      "image/png": "[encoded data removed]",
      "text/plain": [
       "<Figure size 432x288 with 1 Axes>"
      ]
     },
     "metadata": {
      "needs_background": "light"
     },
     "output_type": "display_data"
    }
   ],
   "source": [
    "bins = np.linspace(0, 40, 101)\n",
    "plt.hist(d_shower_brems, bins=bins, histtype='step', label='brems')\n",
    "plt.hist(d_shower_ioniz, bins=bins, histtype='step', label='ioniz')\n",
    "plt.hist(d_shower_nuclint, bins=bins, histtype='step', label='nuclint')\n",
    "plt.hist(d_shower_epair, bins=bins, histtype='step', label='epair')\n",
    "plt.xlabel('distance to shower axis in meter')\n",
    "# plt.xscale('log')\n",
    "plt.yscale('log')\n",
    "plt.legend(bbox_to_anchor=(1,1))"
   ]
  },
  {
   "cell_type": "code",
   "execution_count": null,
   "id": "e916ed67-1d0b-4dab-85f6-895d07187830",
   "metadata": {},
   "outputs": [],
   "source": []
  }
 ],
 "metadata": {
  "kernelspec": {
   "display_name": "Python 3 (ipykernel)",
   "language": "python",
   "name": "python3"
  },
  "language_info": {
   "codemirror_mode": {
    "name": "ipython",
    "version": 3
   },
   "file_extension": ".py",
   "mimetype": "text/x-python",
   "name": "python",
   "nbconvert_exporter": "python",
   "pygments_lexer": "ipython3",
   "version": "3.8.2"
  }
 },
 "nbformat": 4,
 "nbformat_minor": 5
}
