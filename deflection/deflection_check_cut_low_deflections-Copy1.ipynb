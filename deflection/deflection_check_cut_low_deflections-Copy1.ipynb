{
 "cells": [
  {
   "cell_type": "code",
   "execution_count": 1,
   "id": "9da245f6",
   "metadata": {},
   "outputs": [
    {
     "data": {
      "application/javascript": [
       "\n",
       "console.log('Starting front end url_querystring_target comm target');\n",
       "const comm = Jupyter.notebook.kernel.comm_manager.new_comm('url_querystring_target', {'init': 1});\n",
       "comm.send({'ipyparams_browser_url': window.location.href});\n",
       "console.log('Sent window.location.href on url_querystring_target comm target');\n",
       "\n",
       "comm.on_msg(function(msg) {\n",
       "    console.log(msg.content.data);\n",
       "});\n"
      ],
      "text/plain": [
       "<IPython.core.display.Javascript object>"
      ]
     },
     "metadata": {},
     "output_type": "display_data"
    }
   ],
   "source": [
    "%load_ext autoreload\n",
    "%autoreload 2\n",
    "\n",
    "import numpy as np\n",
    "import pandas as pd\n",
    "from tqdm import tqdm\n",
    "import matplotlib.pyplot as plt\n",
    "import os\n",
    "import ipyparams\n",
    "from helper_functions import propagate_deflected_muons_custom, get_angle_deviation, energy_name, get_zenith_deflections_along_track, save_data_along_dict, load_data_along_dict"
   ]
  },
  {
   "cell_type": "code",
   "execution_count": 5,
   "id": "013036bb",
   "metadata": {},
   "outputs": [
    {
     "data": {
      "text/plain": [
       "0"
      ]
     },
     "execution_count": 5,
     "metadata": {},
     "output_type": "execute_result"
    }
   ],
   "source": [
    "save_plot = True # False\n",
    "\n",
    "currentNotebook = ipyparams.notebook_name[:len(ipyparams.notebook_name)-6] # get name of currect notebook\n",
    "assert currentNotebook != '', \"no notebook name, run cell again\"\n",
    "\n",
    "currentNotebook = 'deflection_check_cut_low_deflections'\n",
    "\n",
    "plot_dir = 'plots/{}/'.format(currentNotebook)\n",
    "os.system('mkdir -p {}'.format(plot_dir))\n",
    "\n",
    "df_dir = 'data/{}/'.format(currentNotebook)\n",
    "os.system('mkdir -p {}'.format(df_dir))"
   ]
  },
  {
   "cell_type": "code",
   "execution_count": 6,
   "id": "1ba68a7d",
   "metadata": {},
   "outputs": [
    {
     "data": {
      "text/plain": [
       "'df_1PeV_1TeV_500events.hdf'"
      ]
     },
     "execution_count": 6,
     "metadata": {},
     "output_type": "execute_result"
    }
   ],
   "source": [
    "n_events = 500 # 1\n",
    "E_i = 1e9 # 1 PeV (corresponds to MeV)\n",
    "E_f = 1e6 # 1 TeV (corresponds to MeV)\n",
    "E_i_final = np.ones(n_events) * E_i\n",
    "E_f_final = np.ones(n_events) * E_f\n",
    "\n",
    "table_path=\"/Users/pascalgutjahr/.cache/PROPOSAL\" # lehrstuhl macbook\n",
    "\n",
    "hdf_name = 'df_{}_{}_{}events.hdf'.format(energy_name(E_i), energy_name(E_f), n_events)\n",
    "hdf_name"
   ]
  },
  {
   "cell_type": "markdown",
   "id": "193a0eb1",
   "metadata": {},
   "source": [
    "# Propagation of default deflection parametrization"
   ]
  },
  {
   "cell_type": "code",
   "execution_count": null,
   "id": "5f99deb0",
   "metadata": {},
   "outputs": [],
   "source": [
    "### run data\n",
    "param_name = 'default'\n",
    "deflection = ['tsaiapproximationbremsstrahlung', \n",
    "              'naivionization',\n",
    "              'borogpetrukhinnuclearinteraction',\n",
    "              'kelnerpairproduction']\n",
    "\n",
    "tracks_default = propagate_deflected_muons_custom(E_i_final, E_f_final, deflection=deflection, table_path=table_path)\n",
    "\n",
    "deflection = [] \n",
    "for track in tqdm(tracks_default):\n",
    "    d = get_angle_deviation(track.track_directions()[0].spherical_coordinates[1], \n",
    "                            track.track_directions()[0].spherical_coordinates[2], \n",
    "                            track.track_directions()[-1].spherical_coordinates[1], \n",
    "                            track.track_directions()[-1].spherical_coordinates[2])\n",
    "    deflection.append(np.rad2deg(d))\n",
    "\n",
    "### save data\n",
    "df = pd.DataFrame()\n",
    "df['E_i'] = E_i_final / 1e3 # in GeV\n",
    "df['E_f'] = [track.track_energies()[-1]/1e3 for track in tracks_default] # in GeV\n",
    "df['total_deflection'] = deflection # in degree\n",
    "df['track_distance'] = [track.track_propagated_distances()[-1]/100 for track in tracks_default] # in m\n",
    "df.to_hdf(df_dir + hdf_name, key=param_name)    "
   ]
  },
  {
   "cell_type": "code",
   "execution_count": 7,
   "id": "f73ea5c5",
   "metadata": {},
   "outputs": [],
   "source": [
    "### load data\n",
    "param_name = 'default'\n",
    "df_default = pd.read_hdf(df_dir + hdf_name, key=param_name)"
   ]
  },
  {
   "cell_type": "code",
   "execution_count": 8,
   "id": "e23e997e",
   "metadata": {},
   "outputs": [
    {
     "data": {
      "image/png": "[encoded data removed]",
      "text/plain": [
       "<Figure size 432x288 with 1 Axes>"
      ]
     },
     "metadata": {
      "needs_background": "light"
     },
     "output_type": "display_data"
    }
   ],
   "source": [
    "param_name = 'default'\n",
    "bins = np.logspace(-5, 2, 31)\n",
    "plt.hist(df_default['total_deflection'], bins=bins, histtype='step', label=param_name)\n",
    "plt.xlabel('deflection in degree')\n",
    "plt.ylabel('counts')\n",
    "plt.xscale('log')\n",
    "plt.yscale('log')\n",
    "plt.legend()\n",
    "plt.tight_layout()\n",
    "if save_plot:\n",
    "    plt.savefig(plot_dir + '1PeV_10TeV_{}events_{}.pdf'.format(n_events, param_name)) "
   ]
  },
  {
   "cell_type": "markdown",
   "id": "d5eb5582",
   "metadata": {},
   "source": [
    "# Propagation of van Ginneken bremsstrahlung and nuclear interaction"
   ]
  },
  {
   "cell_type": "code",
   "execution_count": null,
   "id": "97ba0205",
   "metadata": {},
   "outputs": [],
   "source": [
    "### run data\n",
    "param_name = 'brems_nuclint'\n",
    "deflection = ['tsaiparametrizationbremsstrahlungginneken', \n",
    "              'naivionization',\n",
    "              'bjorkennuclearinteraction',\n",
    "              'kelnerpairproduction']\n",
    "\n",
    "tracks_brems_nuclint = propagate_deflected_muons_custom(E_i_final, E_f_final, deflection=deflection, table_path=table_path)\n",
    "\n",
    "deflection = [] \n",
    "for track in tqdm(tracks_brems_nuclint):\n",
    "    d = get_angle_deviation(track.track_directions()[0].spherical_coordinates[1], track.track_directions()[0].spherical_coordinates[2], track.track_directions()[-1].spherical_coordinates[1], track.track_directions()[-1].spherical_coordinates[2])\n",
    "    deflection.append(np.rad2deg(d))\n",
    "\n",
    "    \n",
    "### save data\n",
    "df = pd.DataFrame()\n",
    "df['E_i'] = E_i_final / 1e3 # in GeV\n",
    "df['E_f'] = [track.track_energies()[-1]/1e3 for track in tracks_brems_nuclint] # in GeV\n",
    "df['total_deflection'] = deflection # in degree\n",
    "df['track_distance'] = [track.track_propagated_distances()[-1]/100 for track in tracks_brems_nuclint] # in m\n",
    "df.to_hdf(df_dir + hdf_name, key=param_name) "
   ]
  },
  {
   "cell_type": "code",
   "execution_count": 9,
   "id": "4d0ab66f",
   "metadata": {},
   "outputs": [],
   "source": [
    "### load data\n",
    "param_name = 'brems_nuclint'\n",
    "df_brems_nuclint = pd.read_hdf(df_dir + hdf_name, key=param_name)"
   ]
  },
  {
   "cell_type": "code",
   "execution_count": 10,
   "id": "b65941c0",
   "metadata": {},
   "outputs": [
    {
     "data": {
      "image/png": "[encoded data removed]",
      "text/plain": [
       "<Figure size 432x288 with 1 Axes>"
      ]
     },
     "metadata": {
      "needs_background": "light"
     },
     "output_type": "display_data"
    }
   ],
   "source": [
    "param_name = 'brems_nuclint'\n",
    "bins = np.logspace(-5, 2, 31)\n",
    "plt.hist(df_default['total_deflection'], bins=bins, histtype='step', label='default')\n",
    "plt.hist(df_brems_nuclint['total_deflection'], bins=bins, histtype='step', label=param_name)\n",
    "plt.xlabel('deflection in degree')\n",
    "plt.ylabel('counts')\n",
    "plt.xscale('log')\n",
    "plt.yscale('log')\n",
    "plt.legend()\n",
    "plt.tight_layout()\n",
    "if save_plot:\n",
    "    plt.savefig(plot_dir + '1PeV_10TeV_{}events_{}.pdf'.format(n_events, param_name)) "
   ]
  },
  {
   "cell_type": "markdown",
   "id": "c57cabdb",
   "metadata": {},
   "source": [
    "# Propagation of van Ginneken bremsstrahlung"
   ]
  },
  {
   "cell_type": "code",
   "execution_count": null,
   "id": "2028acc2",
   "metadata": {},
   "outputs": [],
   "source": [
    "### run data\n",
    "param_name = 'brems'\n",
    "deflection = ['tsaiparametrizationbremsstrahlungginneken', \n",
    "              'naivionization',\n",
    "              'borogpetrukhinnuclearinteraction',\n",
    "              'kelnerpairproduction']\n",
    "\n",
    "tracks_brems = propagate_deflected_muons_custom(E_i_final, E_f_final, deflection=deflection, table_path=table_path)\n",
    "\n",
    "deflection = [] \n",
    "for track in tqdm(tracks_brems):\n",
    "    d = get_angle_deviation(track.track_directions()[0].spherical_coordinates[1], track.track_directions()[0].spherical_coordinates[2], track.track_directions()[-1].spherical_coordinates[1], track.track_directions()[-1].spherical_coordinates[2])\n",
    "    deflection.append(np.rad2deg(d))\n",
    "\n",
    "    \n",
    "### save data\n",
    "df = pd.DataFrame()\n",
    "df['E_i'] = E_i_final / 1e3 # in GeV\n",
    "df['E_f'] = [track.track_energies()[-1]/1e3 for track in tracks_brems_nuclint] # in GeV\n",
    "df['total_deflection'] = deflection # in degree\n",
    "df['track_distance'] = [track.track_propagated_distances()[-1]/100 for track in tracks_brems_nuclint] # in m\n",
    "df.to_hdf(df_dir + hdf_name, key=param_name) "
   ]
  },
  {
   "cell_type": "code",
   "execution_count": 11,
   "id": "42c91e42",
   "metadata": {},
   "outputs": [],
   "source": [
    "### load data\n",
    "param_name = 'brems'\n",
    "df_brems = pd.read_hdf(df_dir + hdf_name, key=param_name)"
   ]
  },
  {
   "cell_type": "code",
   "execution_count": 12,
   "id": "269fcc8e",
   "metadata": {},
   "outputs": [
    {
     "data": {
      "image/png": "[encoded data removed]",
      "text/plain": [
       "<Figure size 432x288 with 1 Axes>"
      ]
     },
     "metadata": {
      "needs_background": "light"
     },
     "output_type": "display_data"
    }
   ],
   "source": [
    "param_name = 'brems'\n",
    "bins = np.logspace(-5, 2, 31)\n",
    "plt.hist(df_default['total_deflection'], bins=bins, histtype='step', label='default')\n",
    "plt.hist(df_brems['total_deflection'], bins=bins, histtype='step', label=param_name)\n",
    "plt.xlabel('deflection in degree')\n",
    "plt.ylabel('counts')\n",
    "plt.xscale('log')\n",
    "plt.yscale('log')\n",
    "plt.legend()\n",
    "plt.tight_layout()\n",
    "if save_plot:\n",
    "    plt.savefig(plot_dir + '1PeV_10TeV_{}events_{}.pdf'.format(n_events, param_name)) "
   ]
  },
  {
   "cell_type": "markdown",
   "id": "c02d8727",
   "metadata": {},
   "source": [
    "# Propagation of van Ginneken nuclear interaction"
   ]
  },
  {
   "cell_type": "code",
   "execution_count": null,
   "id": "c3eebded",
   "metadata": {},
   "outputs": [],
   "source": [
    "### run data\n",
    "param_name = 'nuclint'\n",
    "deflection = ['tsaiapproximationbremsstrahlung', \n",
    "              'naivionization',\n",
    "              'bjorkennuclearinteraction',\n",
    "              'kelnerpairproduction']\n",
    "\n",
    "tracks_nuclint = propagate_deflected_muons_custom(E_i_final, E_f_final, deflection=deflection, table_path=table_path)\n",
    "\n",
    "deflection = [] \n",
    "for track in tqdm(tracks_nuclint):\n",
    "    d = get_angle_deviation(track.track_directions()[0].spherical_coordinates[1], track.track_directions()[0].spherical_coordinates[2], track.track_directions()[-1].spherical_coordinates[1], track.track_directions()[-1].spherical_coordinates[2])\n",
    "    deflection.append(np.rad2deg(d))\n",
    "\n",
    "    \n",
    "### save data\n",
    "df = pd.DataFrame()\n",
    "df['E_i'] = E_i_final / 1e3 # in GeV\n",
    "df['E_f'] = [track.track_energies()[-1]/1e3 for track in tracks_brems_nuclint] # in GeV\n",
    "df['total_deflection'] = deflection # in degree\n",
    "df['track_distance'] = [track.track_propagated_distances()[-1]/100 for track in tracks_brems_nuclint] # in m\n",
    "df.to_hdf(df_dir + hdf_name, key=param_name) "
   ]
  },
  {
   "cell_type": "code",
   "execution_count": 13,
   "id": "0f1d6dff",
   "metadata": {},
   "outputs": [],
   "source": [
    "### load data\n",
    "param_name = 'nuclint'\n",
    "df_nuclint = pd.read_hdf(df_dir + hdf_name, key=param_name)"
   ]
  },
  {
   "cell_type": "code",
   "execution_count": 14,
   "id": "3e053d81",
   "metadata": {},
   "outputs": [
    {
     "data": {
      "image/png": "[encoded data removed]",
      "text/plain": [
       "<Figure size 432x288 with 1 Axes>"
      ]
     },
     "metadata": {
      "needs_background": "light"
     },
     "output_type": "display_data"
    }
   ],
   "source": [
    "param_name = 'nuclint'\n",
    "bins = np.logspace(-5, 2, 31)\n",
    "plt.hist(df_default['total_deflection'], bins=bins, histtype='step', label='default')\n",
    "plt.hist(df_nuclint['total_deflection'], bins=bins, histtype='step', label=param_name)\n",
    "plt.xlabel('deflection in degree')\n",
    "plt.ylabel('counts')\n",
    "plt.xscale('log')\n",
    "plt.yscale('log')\n",
    "plt.legend()\n",
    "plt.tight_layout()\n",
    "if save_plot:\n",
    "    plt.savefig(plot_dir + '1PeV_10TeV_{}events_{}.pdf'.format(n_events, param_name)) "
   ]
  },
  {
   "cell_type": "markdown",
   "id": "5f80b964",
   "metadata": {},
   "source": [
    "# Total comparison"
   ]
  },
  {
   "cell_type": "code",
   "execution_count": 15,
   "id": "1834da55",
   "metadata": {},
   "outputs": [
    {
     "data": {
      "image/png": "[encoded data removed]",
      "text/plain": [
       "<Figure size 432x288 with 1 Axes>"
      ]
     },
     "metadata": {
      "needs_background": "light"
     },
     "output_type": "display_data"
    }
   ],
   "source": [
    "bins = np.logspace(-5, 2, 31)\n",
    "plt.hist(df_default['total_deflection'], bins=bins, histtype='step', label='default')\n",
    "plt.hist(df_brems_nuclint['total_deflection'], bins=bins, histtype='step', label='brems_nuclint')\n",
    "plt.hist(df_brems['total_deflection'], bins=bins, histtype='step', label='brems')\n",
    "plt.hist(df_nuclint['total_deflection'], bins=bins, histtype='step', label='nuclint')\n",
    "plt.xlabel('deflection in degree')\n",
    "plt.ylabel('counts')\n",
    "plt.xscale('log')\n",
    "plt.yscale('log')\n",
    "plt.legend()\n",
    "plt.tight_layout()\n",
    "if save_plot:\n",
    "    plt.savefig(plot_dir + '1PeV_10TeV_{}events_total_comparison.pdf'.format(n_events)) "
   ]
  },
  {
   "cell_type": "markdown",
   "id": "397d89ed",
   "metadata": {},
   "source": [
    "# Check deflections per interaction along the track "
   ]
  },
  {
   "cell_type": "code",
   "execution_count": 16,
   "id": "8b72703f",
   "metadata": {},
   "outputs": [],
   "source": [
    "dict_along = {}"
   ]
  },
  {
   "cell_type": "markdown",
   "id": "a9fdabef",
   "metadata": {},
   "source": [
    "## default"
   ]
  },
  {
   "cell_type": "code",
   "execution_count": null,
   "id": "86254a7d",
   "metadata": {},
   "outputs": [],
   "source": [
    "### run data\n",
    "param_name = 'default'\n",
    "dict_along.update(get_zenith_deflections_along_track(tracks_default, param_name))\n",
    "\n",
    "### save data\n",
    "save_data_along_dict(df_dir, hdf_name, dict_along)"
   ]
  },
  {
   "cell_type": "code",
   "execution_count": 17,
   "id": "4d6e5f04",
   "metadata": {},
   "outputs": [],
   "source": [
    "### load data\n",
    "param_name = 'default'\n",
    "dict_along.update(load_data_along_dict(df_dir, hdf_name, param_name))"
   ]
  },
  {
   "cell_type": "code",
   "execution_count": 18,
   "id": "39c0035b",
   "metadata": {},
   "outputs": [
    {
     "data": {
      "image/png": "[encoded data removed]",
      "text/plain": [
       "<Figure size 432x288 with 1 Axes>"
      ]
     },
     "metadata": {
      "needs_background": "light"
     },
     "output_type": "display_data"
    }
   ],
   "source": [
    "param_name = 'default'\n",
    "types_reverse = {\n",
    "            '-1': 'track length too short',\n",
    "            '0': 'cont',\n",
    "            '1': 'epair',\n",
    "            '2': 'brems',\n",
    "            '3': 'nuclInt',\n",
    "            '4': 'ioniz',\n",
    "            '5': 'decay'\n",
    "    }\n",
    "\n",
    "stoch_defl = dict_along['{}_along_defl_stoch'.format(param_name)]\n",
    "stoch_types = dict_along['{}_along_defl_type'.format(param_name)][(dict_along['{}_along_defl_type'.format(param_name)]!=0)]\n",
    "bins = np.logspace(-13, 0, 50)\n",
    "for i,typ in enumerate(np.unique(stoch_types)):\n",
    "    plt.hist(np.deg2rad(stoch_defl[stoch_types==typ]), \\\n",
    "             bins=bins, histtype='step', label=types_reverse[str(typ)])\n",
    "plt.hist(np.deg2rad(dict_along['{}_along_defl_stoch'.format(param_name)]), color='black', histtype='step', bins=bins, label='all events')\n",
    "plt.xscale('log')\n",
    "plt.yscale('log')\n",
    "plt.xlabel('zenith diff in rad')\n",
    "plt.ylabel('counts')\n",
    "plt.legend()\n",
    "plt.tight_layout()\n",
    "if save_plot:\n",
    "    plt.savefig(plot_dir + '1PeV_10TeV_defl_zenith_rad_diff_for_eacht_type_{}events_{}.pdf'.format(n_events, param_name)) "
   ]
  },
  {
   "cell_type": "code",
   "execution_count": null,
   "id": "2319f131",
   "metadata": {
    "scrolled": true
   },
   "outputs": [],
   "source": [
    "angles_stoch = dict_along['{}_along_defl_angle_stoch'.format(param_name)]\n",
    "angles_cont = dict_along['{}_along_defl_angle_cont'.format(param_name)]\n",
    "plt.hist(np.deg2rad(angles_stoch), bins=bins, histtype='step', label='stoch')\n",
    "plt.hist(np.deg2rad(angles_cont), bins=bins, histtype='step', label='m_scat')\n",
    "plt.xscale('log')\n",
    "plt.yscale('log')\n",
    "plt.xlabel('deflection in rad')\n",
    "plt.legend()\n",
    "print(np.min(angles_stoch[angles_stoch!=0]))"
   ]
  },
  {
   "cell_type": "markdown",
   "id": "d4f4846d",
   "metadata": {},
   "source": [
    "## brems and nuclint"
   ]
  },
  {
   "cell_type": "code",
   "execution_count": null,
   "id": "7c2ecb6f",
   "metadata": {},
   "outputs": [],
   "source": [
    "### run data\n",
    "param_name = 'brems_nuclint'\n",
    "dict_along.update(get_zenith_deflections_along_track(tracks_brems_nuclint, param_name))\n",
    "\n",
    "### save data\n",
    "save_data_along_dict(df_dir, hdf_name, dict_along)"
   ]
  },
  {
   "cell_type": "code",
   "execution_count": 19,
   "id": "759383f6",
   "metadata": {},
   "outputs": [],
   "source": [
    "### load data\n",
    "param_name = 'brems_nuclint'\n",
    "dict_along.update(load_data_along_dict(df_dir, hdf_name, param_name))"
   ]
  },
  {
   "cell_type": "code",
   "execution_count": 20,
   "id": "6eb2cf1a",
   "metadata": {},
   "outputs": [
    {
     "data": {
      "image/png": "[encoded data removed]",
      "text/plain": [
       "<Figure size 432x288 with 1 Axes>"
      ]
     },
     "metadata": {
      "needs_background": "light"
     },
     "output_type": "display_data"
    }
   ],
   "source": [
    "param_name = 'brems_nuclint'\n",
    "types_reverse = {\n",
    "            '-1': 'track length too short',\n",
    "            '0': 'cont',\n",
    "            '1': 'epair',\n",
    "            '2': 'brems',\n",
    "            '3': 'nuclInt',\n",
    "            '4': 'ioniz',\n",
    "            '5': 'decay'\n",
    "    }\n",
    "\n",
    "stoch_defl = dict_along['{}_along_defl_stoch'.format(param_name)]\n",
    "stoch_types = dict_along['{}_along_defl_type'.format(param_name)][(dict_along['{}_along_defl_type'.format(param_name)]!=0)]\n",
    "bins = np.logspace(-13, 0, 50)\n",
    "for i,typ in enumerate(np.unique(stoch_types)):\n",
    "    plt.hist(np.deg2rad(stoch_defl[stoch_types==typ]), \\\n",
    "             bins=bins, histtype='step', label=types_reverse[str(typ)])\n",
    "plt.hist(np.deg2rad(dict_along['{}_along_defl_stoch'.format(param_name)]), color='black', histtype='step', bins=bins, label='all events')\n",
    "plt.xscale('log')\n",
    "plt.yscale('log')\n",
    "plt.xlabel('zenith diff in rad')\n",
    "plt.ylabel('counts')\n",
    "plt.legend()\n",
    "plt.tight_layout()\n",
    "if save_plot:\n",
    "    plt.savefig(plot_dir + '1PeV_10TeV_defl_zenith_rad_diff_for_each_type_{}events_{}.pdf'.format(n_events, param_name)) "
   ]
  },
  {
   "cell_type": "code",
   "execution_count": 21,
   "id": "54889ec4",
   "metadata": {},
   "outputs": [
    {
     "name": "stdout",
     "output_type": "stream",
     "text": [
      "1.8865910464464581167e-08\n"
     ]
    },
    {
     "data": {
      "image/png": "[encoded data removed]",
      "text/plain": [
       "<Figure size 432x288 with 1 Axes>"
      ]
     },
     "metadata": {
      "needs_background": "light"
     },
     "output_type": "display_data"
    }
   ],
   "source": [
    "angles_stoch = dict_along['{}_along_defl_angle_stoch'.format(param_name)]\n",
    "angles_cont = dict_along['{}_along_defl_angle_cont'.format(param_name)]\n",
    "plt.hist(np.deg2rad(angles_stoch), bins=bins, histtype='step', label='stoch')\n",
    "plt.hist(np.deg2rad(angles_cont), bins=bins, histtype='step', label='m_scat')\n",
    "plt.xscale('log')\n",
    "plt.yscale('log')\n",
    "plt.xlabel('deflection in rad')\n",
    "plt.legend()\n",
    "print(np.min(angles_stoch[angles_stoch!=0]))"
   ]
  },
  {
   "cell_type": "markdown",
   "id": "64d5a267",
   "metadata": {},
   "source": [
    "## compare brems parametrization per interaction"
   ]
  },
  {
   "cell_type": "code",
   "execution_count": 22,
   "id": "268a6e3f",
   "metadata": {},
   "outputs": [
    {
     "name": "stdout",
     "output_type": "stream",
     "text": [
      "default number of deflections:  13544\n",
      "ratio of not zero deflection:  0.11613998818665092\n",
      "brems_nuclint number of deflections:  13544\n",
      "ratio of not zero deflection:  0.4337714116952156\n"
     ]
    },
    {
     "data": {
      "text/plain": [
       "<matplotlib.legend.Legend at 0x1276fa2e0>"
      ]
     },
     "execution_count": 22,
     "metadata": {},
     "output_type": "execute_result"
    },
    {
     "data": {
      "image/png": "[encoded data removed]",
      "text/plain": [
       "<Figure size 432x288 with 1 Axes>"
      ]
     },
     "metadata": {
      "needs_background": "light"
     },
     "output_type": "display_data"
    }
   ],
   "source": [
    "bins = np.logspace(-9, 0, 50)\n",
    "\n",
    "param_name = 'default'\n",
    "angles_stoch = dict_along['{}_along_defl_angle_stoch'.format(param_name)]\n",
    "stoch_types = dict_along['{}_along_defl_type'.format(param_name)][(dict_along['{}_along_defl_type'.format(param_name)]!=0)]\n",
    "typ = 2 # brems\n",
    "plt.hist(np.deg2rad(angles_stoch[stoch_types==typ]), bins=bins, histtype='step', label=types_reverse[str(typ)] + ' ' + param_name)\n",
    "print('{} number of deflections: '.format(param_name), len(angles_stoch[stoch_types==typ]))\n",
    "print('ratio of not zero deflection: ', len(angles_stoch[stoch_types==typ][angles_stoch[stoch_types==typ]!=0]) / len(angles_stoch[stoch_types==typ]))\n",
    "\n",
    "\n",
    "param_name = 'brems_nuclint'\n",
    "angles_stoch = dict_along['{}_along_defl_angle_stoch'.format(param_name)]\n",
    "stoch_types = dict_along['{}_along_defl_type'.format(param_name)][(dict_along['{}_along_defl_type'.format(param_name)]!=0)]\n",
    "typ = 2 # brems\n",
    "plt.hist(np.deg2rad(angles_stoch[stoch_types==typ]), bins=bins, histtype='step', label=types_reverse[str(typ)] + ' ' + param_name)\n",
    "print('{} number of deflections: '.format(param_name), len(angles_stoch[stoch_types==typ]))\n",
    "print('ratio of not zero deflection: ', len(angles_stoch[stoch_types==typ][angles_stoch[stoch_types==typ]!=0]) / len(angles_stoch[stoch_types==typ]))\n",
    "\n",
    "plt.xscale('log')\n",
    "plt.yscale('log')\n",
    "plt.xlabel('deflection in rad')\n",
    "plt.legend()"
   ]
  },
  {
   "cell_type": "markdown",
   "id": "5993268b",
   "metadata": {},
   "source": [
    "## compare nuclint parametrization per interaction"
   ]
  },
  {
   "cell_type": "code",
   "execution_count": 23,
   "id": "eb69d9fd",
   "metadata": {},
   "outputs": [
    {
     "name": "stdout",
     "output_type": "stream",
     "text": [
      "default number of deflections:  18353\n",
      "ratio of not zero deflection:  0.28082602299351606\n",
      "brems_nuclint number of deflections:  18353\n",
      "ratio of not zero deflection:  0.6183185310303493\n"
     ]
    },
    {
     "data": {
      "text/plain": [
       "<matplotlib.legend.Legend at 0x127700f10>"
      ]
     },
     "execution_count": 23,
     "metadata": {},
     "output_type": "execute_result"
    },
    {
     "data": {
      "image/png": "[encoded data removed]",
      "text/plain": [
       "<Figure size 432x288 with 1 Axes>"
      ]
     },
     "metadata": {
      "needs_background": "light"
     },
     "output_type": "display_data"
    }
   ],
   "source": [
    "bins = np.logspace(-9, 0, 50)\n",
    "\n",
    "param_name = 'default'\n",
    "angles_stoch = dict_along['{}_along_defl_angle_stoch'.format(param_name)]\n",
    "stoch_types = dict_along['{}_along_defl_type'.format(param_name)][(dict_along['{}_along_defl_type'.format(param_name)]!=0)]\n",
    "typ = 3 # nuclint\n",
    "plt.hist(np.deg2rad(angles_stoch[stoch_types==typ]), bins=bins, histtype='step', label=types_reverse[str(typ)] + ' ' + param_name)\n",
    "print('{} number of deflections: '.format(param_name), len(angles_stoch[stoch_types==typ]))\n",
    "print('ratio of not zero deflection: ', len(angles_stoch[stoch_types==typ][angles_stoch[stoch_types==typ]!=0]) / len(angles_stoch[stoch_types==typ]))\n",
    "\n",
    "\n",
    "param_name = 'brems_nuclint'\n",
    "angles_stoch = dict_along['{}_along_defl_angle_stoch'.format(param_name)]\n",
    "stoch_types = dict_along['{}_along_defl_type'.format(param_name)][(dict_along['{}_along_defl_type'.format(param_name)]!=0)]\n",
    "typ = 3 # nuclint\n",
    "plt.hist(np.deg2rad(angles_stoch[stoch_types==typ]), bins=bins, histtype='step', label=types_reverse[str(typ)] + ' ' + param_name)\n",
    "print('{} number of deflections: '.format(param_name), len(angles_stoch[stoch_types==typ]))\n",
    "print('ratio of not zero deflection: ', len(angles_stoch[stoch_types==typ][angles_stoch[stoch_types==typ]!=0]) / len(angles_stoch[stoch_types==typ]))\n",
    "\n",
    "\n",
    "plt.xscale('log')\n",
    "plt.yscale('log')\n",
    "plt.xlabel('deflection in rad')\n",
    "plt.legend()"
   ]
  },
  {
   "cell_type": "code",
   "execution_count": null,
   "id": "fe1773ec",
   "metadata": {},
   "outputs": [],
   "source": []
  },
  {
   "cell_type": "markdown",
   "id": "4833d106",
   "metadata": {},
   "source": [
    "# Compare total deflection using cut of phi > 1e-6 in propagation"
   ]
  },
  {
   "cell_type": "code",
   "execution_count": 24,
   "id": "a2c5ce8e",
   "metadata": {},
   "outputs": [
    {
     "data": {
      "image/png": "[encoded data removed]",
      "text/plain": [
       "<Figure size 432x288 with 1 Axes>"
      ]
     },
     "metadata": {
      "needs_background": "light"
     },
     "output_type": "display_data"
    }
   ],
   "source": [
    "### cut phi < 1e-6\n",
    "param_name = 'brems_nuclint'\n",
    "bins = np.logspace(-5, 2, 31)\n",
    "plt.hist(df_default['total_deflection'], bins=bins, histtype='step', label='default')\n",
    "plt.hist(df_brems_nuclint['total_deflection'], bins=bins, histtype='step', label=param_name)\n",
    "\n",
    "### use all phi\n",
    "### load data\n",
    "df_default_all = pd.read_hdf('data/deflection_check/' + hdf_name, key='default')\n",
    "plt.hist(df_default_all['total_deflection'], bins=bins, histtype='step', label='default all')\n",
    "\n",
    "df_brems_nuclint_all = pd.read_hdf('data/deflection_check/' + hdf_name, key='brems_nuclint')\n",
    "plt.hist(df_brems_nuclint_all['total_deflection'], bins=bins, histtype='step', label='brems_nuclint all')\n",
    "\n",
    "\n",
    "plt.xlabel('deflection in degree')\n",
    "plt.ylabel('counts')\n",
    "plt.xscale('log')\n",
    "plt.yscale('log')\n",
    "plt.legend()\n",
    "plt.tight_layout()\n",
    "if save_plot:\n",
    "    plt.savefig(plot_dir + '1PeV_10TeV_{}events_{}_compare_phi_1e-6_cut.pdf'.format(n_events, param_name)) "
   ]
  },
  {
   "cell_type": "code",
   "execution_count": null,
   "id": "61705ec2",
   "metadata": {},
   "outputs": [],
   "source": []
  }
 ],
 "metadata": {
  "kernelspec": {
   "display_name": "Python 3 (ipykernel)",
   "language": "python",
   "name": "python3"
  },
  "language_info": {
   "codemirror_mode": {
    "name": "ipython",
    "version": 3
   },
   "file_extension": ".py",
   "mimetype": "text/x-python",
   "name": "python",
   "nbconvert_exporter": "python",
   "pygments_lexer": "ipython3",
   "version": "3.8.2"
  }
 },
 "nbformat": 4,
 "nbformat_minor": 5
}
