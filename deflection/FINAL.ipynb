{
 "cells": [
  {
   "cell_type": "markdown",
   "id": "50b69262-74e7-4b3b-9fec-97ea5611b46d",
   "metadata": {},
   "source": [
    "# THIS IS THE FINAL NOTEBOOK THAT MAKES ALL PLOTS USED IN THE PAPER --> data are stored on Vollmond"
   ]
  },
  {
   "cell_type": "code",
   "execution_count": 1,
   "id": "b3b25438-075e-4862-87b7-f9ee7ee99487",
   "metadata": {},
   "outputs": [],
   "source": [
    "# Imports\n",
    "import numpy as np\n",
    "import matplotlib.pyplot as plt \n",
    "import os \n",
    "import pandas as pd\n",
    "from scipy.optimize import curve_fit\n",
    "from scipy.interpolate import UnivariateSpline\n",
    "from statistics import mode\n",
    "from matplotlib import cm\n",
    "from iteration_utilities import flatten\n",
    "from mpl_toolkits.axes_grid1.inset_locator import inset_axes\n",
    "from matplotlib.ticker import MultipleLocator\n",
    "import matplotlib.ticker"
   ]
  },
  {
   "cell_type": "code",
   "execution_count": 2,
   "id": "b43300af-35ea-48d0-8c11-416150ddf0b9",
   "metadata": {},
   "outputs": [],
   "source": [
    "save_plot = True\n",
    "\n",
    "plot_dir = 'plots/FINAL/'\n",
    "os.system('mkdir -p {}'.format(plot_dir))\n",
    "\n",
    "colors = {\n",
    "    'brems': cm.tab10(0),\n",
    "    'nuclint': cm.tab10(1), \n",
    "    'epair': cm.tab10(2),\n",
    "    'ioniz': cm.tab10(3) \n",
    "}\n"
   ]
  },
  {
   "cell_type": "markdown",
   "id": "09786c26-1be9-4377-b25e-6cf59d20bd5a",
   "metadata": {},
   "source": [
    "### Paper style"
   ]
  },
  {
   "cell_type": "code",
   "execution_count": 3,
   "id": "0637b29d-adca-4918-bb94-92a7bb075f8b",
   "metadata": {},
   "outputs": [],
   "source": [
    "plt.rcParams.update({\n",
    "    \"text.usetex\": True,\n",
    "    \"font.size\": 12,\n",
    "    \"font.family\": \"serif\",\n",
    "#     \"font.serif\": \"Times\",\n",
    "    'axes.labelsize': 12,\n",
    "    \"legend.fontsize\":11,\n",
    "    \"font.sans-serif\": [\"Helvetica\"],\n",
    "#    \"text.latex.preamble\": [r'\"\\usepackage{amsmath}\"'],\n",
    "})\n"
   ]
  },
  {
   "cell_type": "markdown",
   "id": "1eac35b9-3195-4a77-b14e-c860bd238c55",
   "metadata": {},
   "source": [
    "## Deflection per interaction plot"
   ]
  },
  {
   "cell_type": "code",
   "execution_count": null,
   "id": "3f50238e-fc69-47dd-adaf-90925d386d12",
   "metadata": {},
   "outputs": [],
   "source": [
    "# Read data\n",
    "# save deflections of each interaction type for final paper notebook, using van Ginneken\n",
    "\n",
    "brems_defl_vG_ex = list(flatten(pd.read_hdf('plots/deflection_along_sampling/' + 'FINAL_defl_along_sampling_1PeV_1TeV_1000events.hdf5', key='brems_defl_vG_ex').values))\n",
    "nuclint_defl_vG_ex = list(flatten(pd.read_hdf('plots/deflection_along_sampling/' + 'FINAL_defl_along_sampling_1PeV_1TeV_1000events.hdf5', key='nuclint_defl_vG_ex').values))\n",
    "epair_defl_default_ex = list(flatten(pd.read_hdf('plots/deflection_along_sampling/' + 'FINAL_defl_along_sampling_1PeV_1TeV_1000events.hdf5', key='epair_defl_default_ex').values))\n",
    "ioniz_defl_default_ex = list(flatten(pd.read_hdf('plots/deflection_along_sampling/' + 'FINAL_defl_along_sampling_1PeV_1TeV_1000events.hdf5', key='ioniz_defl_default_ex').values))\n",
    "\n",
    "df_moliere = pd.read_hdf('plots/deflection_along_sampling/' + 'FINAL_defl_along_sampling_1PeV_1TeV_1000events.hdf5', key='cont_moliere')\n",
    "df_highland = pd.read_hdf('plots/deflection_along_sampling/' + 'FINAL_defl_along_sampling_1PeV_1TeV_1000events.hdf5', key='cont_highland')"
   ]
  },
  {
   "cell_type": "code",
   "execution_count": null,
   "id": "ffa46881-e74b-40b8-b2a6-a2f82c83c174",
   "metadata": {},
   "outputs": [],
   "source": [
    "bins = np.logspace(-9, 1, 61)\n",
    "\n",
    "plt.hist(np.rad2deg(brems_defl_vG_ex), bins=bins, histtype='step', color=colors['brems'], label='Brems')\n",
    "plt.hist(np.rad2deg(nuclint_defl_vG_ex), bins=bins, histtype='step', color=colors['nuclint'], label='Nuclint')\n",
    "plt.hist(np.rad2deg(epair_defl_default_ex), bins=bins, histtype='step', color=colors['epair'], label='Epair')\n",
    "plt.hist(np.rad2deg(ioniz_defl_default_ex), bins=bins, histtype='step', color=colors['ioniz'], label='Ioniz')\n",
    "\n",
    "plt.hist(np.rad2deg(df_moliere.cont_moliere), bins=bins, histtype='step', color='pink', label='Molière')\n",
    "plt.hist(np.rad2deg(df_highland.cont_highland), bins=bins, histtype='step', color='gray', label='Highland')\n",
    "\n",
    "\n",
    "\n",
    "# total with moliere\n",
    "total_defl_vG_cont = list(flatten([brems_defl_vG_ex, nuclint_defl_vG_ex, epair_defl_default_ex, ioniz_defl_default_ex, df_moliere.cont_moliere]))\n",
    "plt.hist(np.rad2deg(total_defl_vG_cont), bins=bins, histtype='step', color='black', label='Total')\n",
    "\n",
    "total_defl_vG = list(flatten([brems_defl_vG_ex, nuclint_defl_vG_ex, epair_defl_default_ex, ioniz_defl_default_ex])) \n",
    "\n",
    "print('median brems: ', np.median(np.rad2deg(brems_defl_vG_ex)), ', low 95%: {}, high 95: {}'.format(np.quantile(np.rad2deg(brems_defl_vG_ex), 0.025), np.quantile(np.rad2deg(brems_defl_vG_ex), 0.975)))\n",
    "print('median nuclint: ', np.median(np.rad2deg(nuclint_defl_vG_ex)), ', low 95%: {}, high 95: {}'.format(np.quantile(np.rad2deg(nuclint_defl_vG_ex), 0.025), np.quantile(np.rad2deg(nuclint_defl_vG_ex), 0.975)))\n",
    "print('median epair: ', np.median(np.rad2deg(epair_defl_default_ex)), ', low 95%: {}, high 95: {}'.format(np.quantile(np.rad2deg(epair_defl_default_ex), 0.025), np.quantile(np.rad2deg(epair_defl_default_ex), 0.975)))\n",
    "print('median ioniz: ', np.median(np.rad2deg(ioniz_defl_default_ex)), ', low 95%: {}, high 95: {}'.format(np.quantile(np.rad2deg(ioniz_defl_default_ex), 0.025), np.quantile(np.rad2deg(ioniz_defl_default_ex), 0.975)))\n",
    "print('median total: ', np.median(np.rad2deg(total_defl_vG)), ', low 95%: {}, high 95: {}'.format(np.quantile(np.rad2deg(total_defl_vG), 0.025), np.quantile(np.rad2deg(total_defl_vG), 0.975)))\n",
    "print('median total cont: ', np.median(np.rad2deg(total_defl_vG_cont)), ', low 95%: {}, high 95: {}'.format(np.quantile(np.rad2deg(total_defl_vG_cont), 0.025), np.quantile(np.rad2deg(total_defl_vG_cont), 0.975)))\n",
    "print('median moliere: ', np.median(np.rad2deg(df_moliere.cont_moliere)), ', low 95%: {}, high 95: {}'.format(np.quantile(np.rad2deg(df_moliere.cont_moliere), 0.025), np.quantile(np.rad2deg(df_moliere.cont_moliere), 0.975)))\n",
    "print('median highland: ', np.median(np.rad2deg(df_highland.cont_highland)), ', low 95%: {}, high 95: {}'.format(np.quantile(np.rad2deg(df_highland.cont_highland), 0.025), np.quantile(np.rad2deg(df_highland.cont_highland), 0.975)))\n",
    "\n",
    "plt.xscale('log')\n",
    "plt.yscale('log')\n",
    "plt.xlabel(r'$\\theta\\,/\\,$°')\n",
    "plt.ylabel('Counts')\n",
    "plt.legend(loc='upper right')\n",
    "plt.tight_layout()\n",
    "if save_plot:\n",
    "    plt.savefig(plot_dir + '1PeV_1TeV_1000events_deflection_along_sampling.pdf')\n",
    "\n",
    "# ratio of zeros\n",
    "print('ratio of zeros (extern): ', np.sum(np.array(total_defl_vG)==0)/len(total_defl_vG))"
   ]
  },
  {
   "cell_type": "code",
   "execution_count": null,
   "id": "2a785cf5-5261-4e57-9e27-6108a7a7c91b",
   "metadata": {},
   "outputs": [],
   "source": [
    "bins = np.logspace(-9, 1, 61)\n",
    "\n",
    "fig, ax = plt.subplots()\n",
    "\n",
    "ax.hist(np.rad2deg(brems_defl_vG_ex), bins=bins, histtype='step', color=colors['brems'], label='Brems')\n",
    "ax.hist(np.rad2deg(nuclint_defl_vG_ex), bins=bins, histtype='step', color=colors['nuclint'], label='Nuclint')\n",
    "ax.hist(np.rad2deg(epair_defl_default_ex), bins=bins, histtype='step', color=colors['epair'], label='Epair')\n",
    "ax.hist(np.rad2deg(ioniz_defl_default_ex), bins=bins, histtype='step', color=colors['ioniz'], label='Ioniz')\n",
    "\n",
    "ax.hist(np.rad2deg(df_moliere.cont_moliere), bins=bins, histtype='step', color='pink', label='MSM')\n",
    "ax.hist(np.rad2deg(df_highland.cont_highland), bins=bins, histtype='step', color='gray', label='MSH')\n",
    "\n",
    "\n",
    "\n",
    "# total with moliere\n",
    "total_defl_vG_cont = list(flatten([brems_defl_vG_ex, nuclint_defl_vG_ex, epair_defl_default_ex, ioniz_defl_default_ex, df_moliere.cont_moliere]))\n",
    "ax.hist(np.rad2deg(total_defl_vG_cont), bins=bins, histtype='step', color='black', label='Total')\n",
    "\n",
    "total_defl_vG = list(flatten([brems_defl_vG_ex, nuclint_defl_vG_ex, epair_defl_default_ex, ioniz_defl_default_ex])) \n",
    "\n",
    "print('median brems: ', np.median(np.rad2deg(brems_defl_vG_ex)), ', low 95%: {}, high 95: {}'.format(np.quantile(np.rad2deg(brems_defl_vG_ex), 0.025), np.quantile(np.rad2deg(brems_defl_vG_ex), 0.975)))\n",
    "print('median nuclint: ', np.median(np.rad2deg(nuclint_defl_vG_ex)), ', low 95%: {}, high 95: {}'.format(np.quantile(np.rad2deg(nuclint_defl_vG_ex), 0.025), np.quantile(np.rad2deg(nuclint_defl_vG_ex), 0.975)))\n",
    "print('median epair: ', np.median(np.rad2deg(epair_defl_default_ex)), ', low 95%: {}, high 95: {}'.format(np.quantile(np.rad2deg(epair_defl_default_ex), 0.025), np.quantile(np.rad2deg(epair_defl_default_ex), 0.975)))\n",
    "print('median ioniz: ', np.median(np.rad2deg(ioniz_defl_default_ex)), ', low 95%: {}, high 95: {}'.format(np.quantile(np.rad2deg(ioniz_defl_default_ex), 0.025), np.quantile(np.rad2deg(ioniz_defl_default_ex), 0.975)))\n",
    "print('median total: ', np.median(np.rad2deg(total_defl_vG)), ', low 95%: {}, high 95: {}'.format(np.quantile(np.rad2deg(total_defl_vG), 0.025), np.quantile(np.rad2deg(total_defl_vG), 0.975)))\n",
    "print('median total cont: ', np.median(np.rad2deg(total_defl_vG_cont)), ', low 95%: {}, high 95: {}'.format(np.quantile(np.rad2deg(total_defl_vG_cont), 0.025), np.quantile(np.rad2deg(total_defl_vG_cont), 0.975)))\n",
    "print('median moliere: ', np.median(np.rad2deg(df_moliere.cont_moliere)), ', low 95%: {}, high 95: {}'.format(np.quantile(np.rad2deg(df_moliere.cont_moliere), 0.025), np.quantile(np.rad2deg(df_moliere.cont_moliere), 0.975)))\n",
    "print('median highland: ', np.median(np.rad2deg(df_highland.cont_highland)), ', low 95%: {}, high 95: {}'.format(np.quantile(np.rad2deg(df_highland.cont_highland), 0.025), np.quantile(np.rad2deg(df_highland.cont_highland), 0.975)))\n",
    "\n",
    "\n",
    "ax.set_xscale('log')\n",
    "ax.set_yscale('log')\n",
    "ax.set_xlabel(r'$\\theta\\,/\\,$deg')\n",
    "ax.set_ylabel('Counts')\n",
    "locmaj = matplotlib.ticker.LogLocator(base=10,numticks=12) \n",
    "ax.xaxis.set_major_locator(locmaj)\n",
    "locmin = matplotlib.ticker.LogLocator(base=10.0,subs=(0.2,0.3, 0.4, 0.5, 0.6, 0.7, 0.8, 0.9),numticks=12)\n",
    "ax.xaxis.set_minor_locator(locmin)\n",
    "ax.xaxis.set_minor_formatter(matplotlib.ticker.NullFormatter())\n",
    "plt.legend(loc='upper right')\n",
    "plt.tight_layout()\n",
    "if save_plot:\n",
    "    plt.savefig(plot_dir + '1PeV_1TeV_1000events_deflection_along_sampling_minorticks.pdf')\n",
    "\n",
    "# ratio of zeros\n",
    "print('ratio of zeros (extern): ', np.sum(np.array(total_defl_vG)==0)/len(total_defl_vG))"
   ]
  },
  {
   "cell_type": "markdown",
   "id": "b88b3197-f3c7-4748-a493-7f2ba4f2cd77",
   "metadata": {},
   "source": [
    "## Attwood data comparison "
   ]
  },
  {
   "cell_type": "code",
   "execution_count": 69,
   "id": "3e98d668-54be-4775-88a9-e481d75326f9",
   "metadata": {},
   "outputs": [],
   "source": [
    "Attwood_data = pd.read_csv('data/attwood/attwood_true_data.txt',sep='\\s+', names=['upper_bin_edge', 'data', 'data_unc', 'G4', 'G4_unc'], engine='python', skiprows=1, skipfooter=1)\n",
    "\n",
    "full_data = {}\n",
    "for key in Attwood_data:\n",
    "    if 'bin' in key:\n",
    "        full_data[key] = [-b for b in Attwood_data[key][::-1]]\n",
    "    else:\n",
    "        full_data[key] = [b for b in Attwood_data[key][::-1]]\n",
    "    for b in Attwood_data[key]:\n",
    "        full_data[key].append(b)\n",
    "        \n",
    "ATTWOOD = pd.DataFrame()\n",
    "ATTWOOD['upper_bin_edge'] = full_data['upper_bin_edge']\n",
    "ATTWOOD['data'] = full_data['data']\n",
    "ATTWOOD['data_unc'] = full_data['data_unc']\n",
    "ATTWOOD['G4'] = full_data['G4']\n",
    "ATTWOOD['G4_unc'] = full_data['G4_unc']\n",
    "\n",
    "hist_binning = ATTWOOD.upper_bin_edge\n",
    "\n",
    "bin_mids = []\n",
    "# bin_mids = [ATTWOOD.upper_bin_edge[0] - abs(ATTWOOD.upper_bin_edge[1] - ATTWOOD.upper_bin_edge[0])/2]\n",
    "bin_mids_h = [ATTWOOD.upper_bin_edge[i] + abs(ATTWOOD.upper_bin_edge[i+1] - ATTWOOD.upper_bin_edge[i])/2 for i in range(len(ATTWOOD)-1)] \n",
    "for b in bin_mids_h:\n",
    "    bin_mids.append(b)\n",
    "# bin_mids.append(ATTWOOD.upper_bin_edge.values[-1] + abs(ATTWOOD.upper_bin_edge.values[-1] - ATTWOOD.upper_bin_edge.values[-2])/2 )\n",
    "\n",
    "ATTWOOD = ATTWOOD.drop(10, axis=0)\n",
    "ATTWOOD['bin_mids'] = bin_mids"
   ]
  },
  {
   "cell_type": "code",
   "execution_count": 70,
   "id": "6fb108de-1cc4-4596-9db8-2ae31a5cd2e7",
   "metadata": {},
   "outputs": [
    {
     "name": "stdout",
     "output_type": "stream",
     "text": [
      "[0.00022575 0.00027958 0.00040491 ... 0.10844248 0.10861772 0.109     ]\n",
      "[0.00023931 0.00036267 0.00045276 ... 0.10873776 0.10880655 0.109     ]\n",
      "[4.13154889e-05 1.53319662e-04 1.97968296e-04 ... 1.09000000e-01\n",
      " 1.09000000e-01 1.09000000e-01]\n"
     ]
    }
   ],
   "source": [
    "df_01 = pd.read_hdf('data/attwood_199MeV_hydrogen/attwood_run_01.hdf5') # v_cut = 1e-5\n",
    "df_02 = pd.read_hdf('data/attwood_199MeV_hydrogen/attwood_run_02.hdf5') # v_cut = 1e-5 only Moliere\n",
    "df_03 = pd.read_hdf('data/attwood_199MeV_hydrogen/attwood_run_03.hdf5') # v_cut = 1e-3\n",
    "\n",
    "# distance should be 10.9 cm\n",
    "print(np.unique(df_01.distances))\n",
    "print(np.unique(df_02.distances))\n",
    "print(np.unique(df_03.distances))\n",
    "\n",
    "df_01 = df_01[df_01.distances == 0.109]\n",
    "df_02 = df_02[df_02.distances == 0.109]\n",
    "df_03 = df_03[df_03.distances == 0.109]"
   ]
  },
  {
   "cell_type": "code",
   "execution_count": 71,
   "id": "a6c530ce-835a-4b12-838d-9117c05a676e",
   "metadata": {},
   "outputs": [],
   "source": [
    "df_dict_01 = {}\n",
    "for seed in np.unique(df_01.rnd_seed):\n",
    "    key = \"df_{}\".format(int(seed))\n",
    "    df_dict_01[key] = df_01[df_01.rnd_seed == seed]\n",
    "    \n",
    "df_dict_02 = {}\n",
    "for seed in np.unique(df_02.rnd_seed):\n",
    "    key = \"df_{}\".format(int(seed))\n",
    "    df_dict_02[key] = df_02[df_02.rnd_seed == seed]\n",
    "    \n",
    "df_dict_03 = {}\n",
    "for seed in np.unique(df_03.rnd_seed):\n",
    "    key = \"df_{}\".format(int(seed))\n",
    "    df_dict_03[key] = df_03[df_03.rnd_seed == seed]\n",
    "    \n",
    "hist_data_n_01 = []\n",
    "bins = hist_binning\n",
    "for df in df_dict_01:\n",
    "    n, x = np.histogram(df_dict_01[df].y_dir_f, bins=bins, density=True)\n",
    "    hist_data_n_01.append(n)\n",
    "    hist_data_n_mean_01 = np.mean(hist_data_n_01, axis=0)\n",
    "hist_data_n_std_01 = np.std(hist_data_n_01, axis=0)\n",
    "hist_data_n_median_01 = np.median(hist_data_n_01, axis=0)\n",
    "\n",
    "hist_data_n_02 = []\n",
    "for df in df_dict_02:\n",
    "    n, x = np.histogram(df_dict_02[df].y_dir_f, bins=bins, density=True)\n",
    "    hist_data_n_02.append(n)\n",
    "    hist_data_n_mean_02 = np.mean(hist_data_n_02, axis=0)\n",
    "hist_data_n_std_02 = np.std(hist_data_n_02, axis=0)\n",
    "hist_data_n_median_02 = np.median(hist_data_n_02, axis=0)\n",
    "\n",
    "hist_data_n_03 = []\n",
    "for df in df_dict_03:\n",
    "    n, x = np.histogram(df_dict_03[df].y_dir_f, bins=bins, density=True)\n",
    "    hist_data_n_03.append(n)\n",
    "    hist_data_n_mean_03 = np.mean(hist_data_n_03, axis=0)\n",
    "hist_data_n_std_03 = np.std(hist_data_n_03, axis=0)\n",
    "hist_data_n_median_03 = np.median(hist_data_n_03, axis=0)"
   ]
  },
  {
   "cell_type": "code",
   "execution_count": 72,
   "id": "4ddea043-3c0d-4c05-9d0d-ad62833565c2",
   "metadata": {},
   "outputs": [
    {
     "name": "stdout",
     "output_type": "stream",
     "text": [
      "           z        px        py        pz\n",
      "0       10.9 -0.001190  0.000567  0.999999\n",
      "1       10.9  0.000025 -0.002216  0.999998\n",
      "2       10.9  0.001036  0.000814  0.999999\n",
      "3       10.9  0.001103  0.000675  0.999999\n",
      "4       10.9  0.001866  0.000417  0.999998\n",
      "...      ...       ...       ...       ...\n",
      "299992  10.9 -0.000643  0.000340  1.000000\n",
      "299993  10.9 -0.000124  0.002681  0.999996\n",
      "299994  10.9 -0.000009 -0.001233  0.999999\n",
      "299995  10.9  0.000126  0.000097  1.000000\n",
      "299996  10.9  0.001166 -0.002321  0.999997\n",
      "\n",
      "[299997 rows x 4 columns]\n"
     ]
    },
    {
     "data": {
      "text/plain": [
       "array([0.00000000e+00, 3.70376543e-04, 4.14085576e-04, 1.24380182e-03,\n",
       "       1.43680556e-03, 5.05058923e-03, 1.70545478e-02, 8.13806667e-02,\n",
       "       3.04797412e+00, 1.78533955e+02, 3.00430992e+00, 7.08057778e-02,\n",
       "       2.01553747e-02, 3.36705948e-03, 1.43680556e-03, 4.97520730e-04,\n",
       "       8.28171153e-04, 3.70376543e-04, 1.56497131e-04])"
      ]
     },
     "execution_count": 72,
     "metadata": {},
     "output_type": "execute_result"
    }
   ],
   "source": [
    "# Geant4 selfmade\n",
    "data = pd.read_csv('Geant4/data/data_attwood.txt', sep=r'\\s*,\\s*', engine='python')\n",
    "print(data)\n",
    "nn, x = np.histogram(data.py, bins=bins, density=True)\n",
    "nn"
   ]
  },
  {
   "cell_type": "code",
   "execution_count": 73,
   "id": "6806ec20-db78-4e82-ab36-4402c7e9f1ca",
   "metadata": {},
   "outputs": [
    {
     "data": {
      "image/png": "[encoded data removed]",
      "text/plain": [
       "<Figure size 432x288 with 1 Axes>"
      ]
     },
     "metadata": {
      "needs_background": "light"
     },
     "output_type": "display_data"
    }
   ],
   "source": [
    "\n",
    "plt.hist(data.px, bins=bins, histtype='step', density=True, label='G4 x')\n",
    "plt.hist(data.py, bins=bins, histtype='step', density=True, label='G4 y')\n",
    "\n",
    "\n",
    "# attwood data\n",
    "plt.errorbar(ATTWOOD.bin_mids, ATTWOOD.data, fmt='o', color='black', alpha=0.9, yerr=ATTWOOD.data_unc, xerr=ATTWOOD.upper_bin_edge - ATTWOOD.bin_mids, label='ATTWOOD')\n",
    "plt.errorbar(ATTWOOD.bin_mids, ATTWOOD.G4, fmt='.', color='black', alpha=0.9, yerr=ATTWOOD.G4_unc, xerr=ATTWOOD.upper_bin_edge - ATTWOOD.bin_mids, label='Geant4')\n",
    "\n",
    "# run 03\n",
    "plt.errorbar(ATTWOOD.bin_mids, hist_data_n_mean_03, fmt='.', yerr=hist_data_n_std_03, xerr=ATTWOOD.upper_bin_edge - ATTWOOD.bin_mids, label='v = 1e-3')\n",
    "# plt.errorbar(ATTWOOD.bin_mids, hist_data_n_median_03, fmt='.', \n",
    "#              yerr=[hist_data_n_median_03-np.quantile(hist_data_n_03, 0.159, axis=0), np.quantile(hist_data_n_03, 0.841, axis=0)-hist_data_n_median_03],\n",
    "#              xerr=ATTWOOD.upper_bin_edge - ATTWOOD.bin_mids,\n",
    "#             label='median+68%')\n",
    "\n",
    "# run 01\n",
    "plt.errorbar(ATTWOOD.bin_mids, hist_data_n_mean_01, fmt='.', yerr=hist_data_n_std_01, xerr=ATTWOOD.upper_bin_edge - ATTWOOD.bin_mids, label='v = 1e-5')\n",
    "# plt.errorbar(ATTWOOD.bin_mids, hist_data_n_median_01, fmt='.', \n",
    "#              yerr=[hist_data_n_median_01-np.quantile(hist_data_n_01, 0.159, axis=0), np.quantile(hist_data_n_01, 0.841, axis=0)-hist_data_n_median_01],\n",
    "#              xerr=ATTWOOD.upper_bin_edge - ATTWOOD.bin_mids,\n",
    "#             label='median+68%')\n",
    "\n",
    "# run 02\n",
    "plt.errorbar(ATTWOOD.bin_mids, hist_data_n_mean_02, fmt='.', yerr=hist_data_n_std_02, xerr=ATTWOOD.upper_bin_edge - ATTWOOD.bin_mids, label='v = 1e-5 Mol.')\n",
    "# plt.errorbar(ATTWOOD.bin_mids, hist_data_n_median_02, fmt='.', \n",
    "#              yerr=[hist_data_n_median_02-np.quantile(hist_data_n_02, 0.159, axis=0), np.quantile(hist_data_n_02, 0.841, axis=0)-hist_data_n_median_02],\n",
    "#              xerr=ATTWOOD.upper_bin_edge - ATTWOOD.bin_mids,\n",
    "#             label='median+68%')\n",
    "\n",
    "plt.yscale('log')\n",
    "plt.xlabel(r'$\\theta_{\\mathrm{y}}\\,/\\,$rad')\n",
    "plt.ylabel('Normalized counts')\n",
    "plt.legend()\n",
    "plt.tight_layout()\n",
    "plt.savefig(plot_dir + 'attwood_comparison_moliere_199MeV_final_multi_mean.pdf', bbox_inches='tight')"
   ]
  },
  {
   "cell_type": "code",
   "execution_count": 45,
   "id": "ed4befb9-1141-4fa4-b120-08b9bfca373a",
   "metadata": {},
   "outputs": [
    {
     "data": {
      "image/png": "[encoded data removed]",
      "text/plain": [
       "<Figure size 432x288 with 1 Axes>"
      ]
     },
     "metadata": {
      "needs_background": "light"
     },
     "output_type": "display_data"
    }
   ],
   "source": [
    "# attwood data\n",
    "plt.errorbar(np.rad2deg(ATTWOOD.bin_mids), ATTWOOD.data, fmt='o', color='black', alpha=0.9, yerr=ATTWOOD.data_unc, xerr=np.rad2deg(ATTWOOD.upper_bin_edge - ATTWOOD.bin_mids), label='Attwood')\n",
    "plt.errorbar(np.rad2deg(ATTWOOD.bin_mids), ATTWOOD.G4, fmt='^', color='black', alpha=0.9, yerr=ATTWOOD.G4_unc, xerr=np.rad2deg(ATTWOOD.upper_bin_edge - ATTWOOD.bin_mids), label=r'\\textsc{Geant4}')\n",
    "\n",
    "# run 03\n",
    "# plt.errorbar(ATTWOOD.bin_mids, hist_data_n_mean_03, fmt='.', yerr=hist_data_n_std_03, xerr=ATTWOOD.upper_bin_edge - ATTWOOD.bin_mids, label='v = 1e-3')\n",
    "# plt.errorbar(ATTWOOD.bin_mids, hist_data_n_median_03, fmt='.', \n",
    "#              yerr=[hist_data_n_median_03-np.quantile(hist_data_n_03, 0.159, axis=0), np.quantile(hist_data_n_03, 0.841, axis=0)-hist_data_n_median_03],\n",
    "#              xerr=ATTWOOD.upper_bin_edge - ATTWOOD.bin_mids,\n",
    "#             label='median+68%')\n",
    "\n",
    "# run 01\n",
    "plt.errorbar(np.rad2deg(ATTWOOD.bin_mids), hist_data_n_mean_01, fmt='.', yerr=hist_data_n_std_01, xerr=np.rad2deg(ATTWOOD.upper_bin_edge - ATTWOOD.bin_mids), label=r'\\raggedleft PROPOSAL')\n",
    "# plt.errorbar(ATTWOOD.bin_mids, hist_data_n_median_01, fmt='.', \n",
    "#              yerr=[hist_data_n_median_01-np.quantile(hist_data_n_01, 0.159, axis=0), np.quantile(hist_data_n_01, 0.841, axis=0)-hist_data_n_median_01],\n",
    "#              xerr=ATTWOOD.upper_bin_edge - ATTWOOD.bin_mids,\n",
    "#             label='median+68%')\n",
    "\n",
    "# run 02\n",
    "plt.errorbar(np.rad2deg(ATTWOOD.bin_mids), hist_data_n_mean_02, fmt='.', yerr=hist_data_n_std_02, xerr=np.rad2deg(ATTWOOD.upper_bin_edge - ATTWOOD.bin_mids), label=r'\\raggedleft PROPOSAL \\newline MSM only')\n",
    "# plt.errorbar(ATTWOOD.bin_mids, hist_data_n_median_02, fmt='.', \n",
    "#              yerr=[hist_data_n_median_02-np.quantile(hist_data_n_02, 0.159, axis=0), np.quantile(hist_data_n_02, 0.841, axis=0)-hist_data_n_median_02],\n",
    "#              xerr=ATTWOOD.upper_bin_edge - ATTWOOD.bin_mids,\n",
    "#             label='median+68%')\n",
    "\n",
    "plt.yscale('log')\n",
    "plt.xlabel(r'$\\theta_{\\mathrm{y}}\\,/\\,$deg')\n",
    "plt.ylabel('Counts')\n",
    "plt.minorticks_on()\n",
    "plt.legend(fontsize=12)\n",
    "plt.tight_layout()\n",
    "plt.savefig(plot_dir + 'attwood_comparison_moliere_199MeV_final_multi_mean_deg.pdf', bbox_inches='tight')"
   ]
  },
  {
   "cell_type": "markdown",
   "id": "3e98e438-341f-4ece-af5d-0c86a3700f03",
   "metadata": {},
   "source": [
    "### Attwood ratio plot"
   ]
  },
  {
   "cell_type": "code",
   "execution_count": 46,
   "id": "ae31e167-6fdd-4b2a-9e99-73eac9de2c09",
   "metadata": {},
   "outputs": [
    {
     "data": {
      "text/plain": [
       "168.60756210799087"
      ]
     },
     "execution_count": 46,
     "metadata": {},
     "output_type": "execute_result"
    }
   ],
   "source": [
    "a = 105.7\n",
    "b = 199 \n",
    "c = np.sqrt(b**2 - a**2)\n",
    "c"
   ]
  },
  {
   "cell_type": "code",
   "execution_count": 47,
   "id": "debeedc2-af51-48f8-8871-925fff97a353",
   "metadata": {},
   "outputs": [
    {
     "data": {
      "text/plain": [
       "7300.23482567513"
      ]
     },
     "execution_count": 47,
     "metadata": {},
     "output_type": "execute_result"
    }
   ],
   "source": [
    "np.sqrt(7301**2 - 105.7**2)"
   ]
  },
  {
   "cell_type": "code",
   "execution_count": 48,
   "id": "d53fbff9-3230-44c8-9ea0-715a91cb7f8d",
   "metadata": {},
   "outputs": [
    {
     "name": "stdout",
     "output_type": "stream",
     "text": [
      "           z        px        py        pz\n",
      "0       10.9 -0.001190  0.000567  0.999999\n",
      "1       10.9  0.000025 -0.002216  0.999998\n",
      "2       10.9  0.001036  0.000814  0.999999\n",
      "3       10.9  0.001103  0.000675  0.999999\n",
      "4       10.9  0.001866  0.000417  0.999998\n",
      "...      ...       ...       ...       ...\n",
      "299992  10.9 -0.000643  0.000340  1.000000\n",
      "299993  10.9 -0.000124  0.002681  0.999996\n",
      "299994  10.9 -0.000009 -0.001233  0.999999\n",
      "299995  10.9  0.000126  0.000097  1.000000\n",
      "299996  10.9  0.001166 -0.002321  0.999997\n",
      "\n",
      "[299997 rows x 4 columns]\n"
     ]
    },
    {
     "data": {
      "text/plain": [
       "array([0.00000000e+00, 3.70376543e-04, 4.14085576e-04, 1.24380182e-03,\n",
       "       1.43680556e-03, 5.05058923e-03, 1.70545478e-02, 8.13806667e-02,\n",
       "       3.04797412e+00, 1.78533955e+02, 3.00430992e+00, 7.08057778e-02,\n",
       "       2.01553747e-02, 3.36705948e-03, 1.43680556e-03, 4.97520730e-04,\n",
       "       8.28171153e-04, 3.70376543e-04, 1.56497131e-04])"
      ]
     },
     "execution_count": 48,
     "metadata": {},
     "output_type": "execute_result"
    }
   ],
   "source": [
    "# Geant4 selfmade\n",
    "data = pd.read_csv('Geant4/data/data_attwood.txt', sep=r'\\s*,\\s*', engine='python')\n",
    "print(data)\n",
    "nn, x = np.histogram(data.py, bins=hist_binning, density=True)\n",
    "nn"
   ]
  },
  {
   "cell_type": "code",
   "execution_count": 49,
   "id": "d4d592bc-631e-4fd3-bfc2-0c4f6878a7ca",
   "metadata": {},
   "outputs": [
    {
     "name": "stdout",
     "output_type": "stream",
     "text": [
      "           z        px        py        pz\n",
      "0       10.9 -0.001190  0.000567  0.999999\n",
      "1       10.9  0.000025 -0.002216  0.999998\n",
      "2       10.9  0.001036  0.000814  0.999999\n",
      "3       10.9  0.001103  0.000675  0.999999\n",
      "4       10.9  0.001866  0.000417  0.999998\n",
      "...      ...       ...       ...       ...\n",
      "299992  10.9 -0.000643  0.000340  1.000000\n",
      "299993  10.9 -0.000124  0.002681  0.999996\n",
      "299994  10.9 -0.000009 -0.001233  0.999999\n",
      "299995  10.9  0.000126  0.000097  1.000000\n",
      "299996  10.9  0.001166 -0.002321  0.999997\n",
      "\n",
      "[299997 rows x 4 columns]\n",
      "G4 total events:  3.2441048961960743\n"
     ]
    },
    {
     "data": {
      "image/png": "[encoded data removed]",
      "text/plain": [
       "<Figure size 432x288 with 2 Axes>"
      ]
     },
     "metadata": {
      "needs_background": "light"
     },
     "output_type": "display_data"
    }
   ],
   "source": [
    "# Geant4 selfmade\n",
    "data = pd.read_csv('Geant4/data/data_attwood.txt', sep=r'\\s*,\\s*', engine='python')\n",
    "print(data)\n",
    "\n",
    "\n",
    "# attwood data\n",
    "f, (ax0, ax1) = plt.subplots(2, 1, sharex=True, gridspec_kw={'height_ratios': [4, 1]})\n",
    "ax0.errorbar(np.rad2deg(ATTWOOD.bin_mids), ATTWOOD.data, fmt='o', color='black', alpha=0.9, yerr=ATTWOOD.data_unc, xerr=np.rad2deg(ATTWOOD.upper_bin_edge - ATTWOOD.bin_mids), label='Attwood')\n",
    "ax0.errorbar(np.rad2deg(ATTWOOD.bin_mids), ATTWOOD.G4, fmt='^', color='black', alpha=0.9, yerr=ATTWOOD.G4_unc, xerr=np.rad2deg(ATTWOOD.upper_bin_edge - ATTWOOD.bin_mids), label=r'\\textsc{Geant4}')\n",
    "\n",
    "\n",
    "ax0.plot(np.rad2deg(ATTWOOD.bin_mids), nn, color='purple')\n",
    "\n",
    "n = ax0.hist(data.px, bins=np.rad2deg(bins), density=True, histtype='step', label='Geant4 x')\n",
    "ax0.hist(np.rad2deg(data.py[data.z==10.9]), bins=np.rad2deg(bins), density=True, histtype='step', label='Geant4 y')\n",
    "print('G4 total events: ', np.sum(n[0]))\n",
    "\n",
    "\n",
    "# run 01\n",
    "ax0.errorbar(np.rad2deg(ATTWOOD.bin_mids), hist_data_n_mean_01, fmt='.', yerr=hist_data_n_std_01, xerr=np.rad2deg(ATTWOOD.upper_bin_edge - ATTWOOD.bin_mids), label=r'\\raggedleft PROPOSAL')\n",
    "\n",
    "# run 02\n",
    "ax0.errorbar(np.rad2deg(ATTWOOD.bin_mids), hist_data_n_mean_02, fmt='.', yerr=hist_data_n_std_02, xerr=np.rad2deg(ATTWOOD.upper_bin_edge - ATTWOOD.bin_mids), label=r'\\raggedleft PROPOSAL \\newline MSM only')\n",
    "\n",
    "ax0.set_yscale('log')\n",
    "ax0.set_ylabel('Counts')\n",
    "ax0.minorticks_on()\n",
    "ax0.legend(bbox_to_anchor=(1,1), fontsize=12)\n",
    "ax0.set_xlim(-7, 7)\n",
    "\n",
    "\n",
    "ax1.plot(np.linspace(-7, 7, 100), np.ones(100), '--', color='grey')\n",
    "ax1.plot(np.rad2deg(ATTWOOD.bin_mids), ATTWOOD.data/ATTWOOD.G4, color='black')\n",
    "ax1.plot(np.rad2deg(ATTWOOD.bin_mids), ATTWOOD.data/hist_data_n_mean_01)#, color='blue')\n",
    "ax1.plot(np.rad2deg(ATTWOOD.bin_mids), ATTWOOD.data/hist_data_n_mean_02)#, color='orange')\n",
    "ax1.set_xlabel(r'$\\theta_{\\mathrm{y}}\\,/\\,$deg')\n",
    "ax1.set_ylabel('Data/MC')\n",
    "\n",
    "f.tight_layout() # plt.subplots_adjust(hspace=0)\n",
    "f.savefig(plot_dir + 'attwood_comparison_moliere_199MeV_final_multi_mean_deg_ratio.pdf', bbox_inches='tight')"
   ]
  },
  {
   "cell_type": "markdown",
   "id": "5495ef5a-a35f-4ea8-8392-f7aca9baa3f6",
   "metadata": {},
   "source": [
    "## Check Attwood Geant4 PhysicsLists"
   ]
  },
  {
   "cell_type": "code",
   "execution_count": 74,
   "id": "cae4b688-3fa3-42e6-8151-c22599c977c0",
   "metadata": {},
   "outputs": [
    {
     "name": "stdout",
     "output_type": "stream",
     "text": [
      "[10.9]\n",
      "           z        px        py        pz\n",
      "0       10.9  0.001727 -0.000931  0.999998\n",
      "1       10.9  0.000565  0.000359  1.000000\n",
      "2       10.9 -0.001190  0.000567  0.999999\n",
      "3       10.9  0.000790 -0.000221  1.000000\n",
      "4       10.9 -0.001267  0.000186  0.999999\n",
      "...      ...       ...       ...       ...\n",
      "199992  10.9  0.000032 -0.000728  1.000000\n",
      "199993  10.9  0.000111 -0.000423  1.000000\n",
      "199994  10.9 -0.002133 -0.001329  0.999997\n",
      "199995  10.9 -0.001727 -0.000634  0.999998\n",
      "199996  10.9 -0.000162 -0.000458  1.000000\n",
      "\n",
      "[199997 rows x 4 columns]\n",
      "[10.9]\n",
      "           z        px        py        pz\n",
      "0       10.9 -0.001793  0.000321  0.999998\n",
      "1       10.9  0.000995 -0.001986  0.999998\n",
      "2       10.9  0.002190 -0.000378  0.999998\n",
      "3       10.9  0.000487  0.001214  0.999999\n",
      "4       10.9  0.000154  0.001519  0.999999\n",
      "...      ...       ...       ...       ...\n",
      "199992  10.9  0.000435 -0.001492  0.999999\n",
      "199993  10.9  0.000837 -0.000455  1.000000\n",
      "199994  10.9  0.002826 -0.010530  0.999941\n",
      "199995  10.9  0.000163  0.001407  0.999999\n",
      "199996  10.9  0.000459 -0.000320  1.000000\n",
      "\n",
      "[199997 rows x 4 columns]\n",
      "[10.9]\n",
      "           z        px        py        pz\n",
      "0       10.9  0.000565  0.000359  1.000000\n",
      "1       10.9  0.001727 -0.000931  0.999998\n",
      "2       10.9 -0.001190  0.000567  0.999999\n",
      "3       10.9  0.000790 -0.000221  1.000000\n",
      "4       10.9 -0.000071  0.001832  0.999998\n",
      "...      ...       ...       ...       ...\n",
      "199992  10.9  0.000032 -0.000728  1.000000\n",
      "199993  10.9  0.000111 -0.000423  1.000000\n",
      "199994  10.9 -0.002133 -0.001329  0.999997\n",
      "199995  10.9 -0.001727 -0.000634  0.999998\n",
      "199996  10.9 -0.000162 -0.000458  1.000000\n",
      "\n",
      "[199997 rows x 4 columns]\n"
     ]
    }
   ],
   "source": [
    "bins = hist_binning\n",
    "\n",
    "data = pd.read_csv('Geant4/data/attwood/data_n2.txt', sep=r'\\s*,\\s*', engine='python') # QBBC.hh\n",
    "print(np.unique(data.z))\n",
    "data = data[data.z == 10.9]\n",
    "print(data)\n",
    "\n",
    "# get x and y directions\n",
    "px = data['px'].values\n",
    "py = data['py'].values\n",
    "\n",
    "# append zeros for decaying muons to set correct array length\n",
    "px = np.append(px, [0, 0, 0])\n",
    "py = np.append(py, [0, 0, 0])\n",
    "\n",
    "# reshape arrays to get single data sets\n",
    "px_shaped = px.reshape(int(len(px)/100000), 100000)\n",
    "py_shaped = py.reshape(int(len(py)/100000), 100000)\n",
    "\n",
    "# get binnend means and stds\n",
    "hist_data_n_G4_x = []\n",
    "for px in px_shaped:\n",
    "    n, x = np.histogram(px, bins=bins, density=True)\n",
    "    hist_data_n_G4_x.append(n)\n",
    "hist_data_n_mean_G4_x = np.mean(hist_data_n_G4_x, axis=0)\n",
    "hist_data_n_std_G4_x = np.std(hist_data_n_G4_x, axis=0)\n",
    "\n",
    "hist_data_n_G4_y = []\n",
    "for py in py_shaped:\n",
    "    n, x = np.histogram(py, bins=bins, density=True)\n",
    "    hist_data_n_G4_y.append(n)\n",
    "hist_data_n_mean_G4_y = np.mean(hist_data_n_G4_y, axis=0)\n",
    "hist_data_n_std_G4_y = np.std(hist_data_n_G4_y, axis=0)\n",
    "\n",
    "data_2 = pd.read_csv('Geant4/data/attwood/data_2_n2.txt', sep=r'\\s*,\\s*', engine='python') # QBBC.hh\n",
    "print(np.unique(data_2.z))\n",
    "data_2 = data_2[data_2.z == 10.9]\n",
    "print(data_2)\n",
    "\n",
    "# get x and y directions\n",
    "px = data_2['px'].values\n",
    "py = data_2['py'].values\n",
    "\n",
    "# append zeros for decaying muons to set correct array length\n",
    "px = np.append(px, [0, 0, 0])\n",
    "py = np.append(py, [0, 0, 0])\n",
    "\n",
    "# reshape arrays to get single data sets\n",
    "px_shaped = px.reshape(int(len(px)/100000), 100000)\n",
    "py_shaped = py.reshape(int(len(py)/100000), 100000)\n",
    "\n",
    "# get binnend means and stds\n",
    "hist_data_n_G4_x_2 = []\n",
    "for px in px_shaped:\n",
    "    n, x = np.histogram(px, bins=bins, density=True)\n",
    "    hist_data_n_G4_x_2.append(n)\n",
    "hist_data_n_mean_G4_x_2 = np.mean(hist_data_n_G4_x_2, axis=0)\n",
    "hist_data_n_std_G4_x_2 = np.std(hist_data_n_G4_x_2, axis=0)\n",
    "\n",
    "hist_data_n_G4_y_2 = []\n",
    "for py in py_shaped:\n",
    "    n, x = np.histogram(py, bins=bins, density=True)\n",
    "    hist_data_n_G4_y_2.append(n)\n",
    "hist_data_n_mean_G4_y_2 = np.mean(hist_data_n_G4_y_2, axis=0)\n",
    "hist_data_n_std_G4_y_2 = np.std(hist_data_n_G4_y_2, axis=0)\n",
    "\n",
    "data_3 = pd.read_csv('Geant4/data/attwood/data_3_n2.txt', sep=r'\\s*,\\s*', engine='python') # QBBC.hh\n",
    "print(np.unique(data_3.z))\n",
    "data_3 = data_3[data_3.z == 10.9]\n",
    "print(data_3)\n",
    "\n",
    "# get x and y directions\n",
    "px = data_3['px'].values\n",
    "py = data_3['py'].values\n",
    "\n",
    "# append zeros for decaying muons to set correct array length\n",
    "px = np.append(px, [0, 0, 0])\n",
    "py = np.append(py, [0, 0, 0])\n",
    "\n",
    "# reshape arrays to get single data sets\n",
    "px_shaped = px.reshape(int(len(px)/100000), 100000)\n",
    "py_shaped = py.reshape(int(len(py)/100000), 100000)\n",
    "\n",
    "# get binnend means and stds\n",
    "hist_data_n_G4_x_3 = []\n",
    "for px in px_shaped:\n",
    "    n, x = np.histogram(px, bins=bins, density=True)\n",
    "    hist_data_n_G4_x_3.append(n)\n",
    "hist_data_n_mean_G4_x_3 = np.mean(hist_data_n_G4_x_3, axis=0)\n",
    "hist_data_n_std_G4_x_3 = np.std(hist_data_n_G4_x_3, axis=0)\n",
    "\n",
    "hist_data_n_G4_y_3 = []\n",
    "for py in py_shaped:\n",
    "    n, x = np.histogram(py, bins=bins, density=True)\n",
    "    hist_data_n_G4_y_3.append(n)\n",
    "hist_data_n_mean_G4_y_3 = np.mean(hist_data_n_G4_y_3, axis=0)\n",
    "hist_data_n_std_G4_y_3 = np.std(hist_data_n_G4_y_3, axis=0)"
   ]
  },
  {
   "cell_type": "code",
   "execution_count": 81,
   "id": "d2e9149a-7761-4d39-b1ab-ea5fce622923",
   "metadata": {},
   "outputs": [
    {
     "data": {
      "image/png": "[encoded data removed]",
      "text/plain": [
       "<Figure size 432x288 with 2 Axes>"
      ]
     },
     "metadata": {
      "needs_background": "light"
     },
     "output_type": "display_data"
    }
   ],
   "source": [
    "# attwood data\n",
    "f, (ax0, ax1) = plt.subplots(2, 1, sharex=True, gridspec_kw={'height_ratios': [4, 1]})\n",
    "ax0.errorbar(np.rad2deg(ATTWOOD.bin_mids), ATTWOOD.data, fmt='o', color='black', alpha=0.9, yerr=ATTWOOD.data_unc, xerr=np.rad2deg(ATTWOOD.upper_bin_edge - ATTWOOD.bin_mids), label='Attwood')\n",
    "ax0.errorbar(np.rad2deg(ATTWOOD.bin_mids), ATTWOOD.G4, fmt='^', color='black', alpha=0.9, yerr=ATTWOOD.G4_unc, xerr=np.rad2deg(ATTWOOD.upper_bin_edge - ATTWOOD.bin_mids), label=r'\\textsc{Geant4}')\n",
    "\n",
    "# Geant4 selfmade\n",
    "ax0.errorbar(np.rad2deg(ATTWOOD.bin_mids), hist_data_n_mean_G4_y, fmt='.', yerr=hist_data_n_std_G4_y, xerr=np.rad2deg(ATTWOOD.upper_bin_edge - ATTWOOD.bin_mids), color='purple', label='Geant')\n",
    "ax0.errorbar(np.rad2deg(ATTWOOD.bin_mids), hist_data_n_mean_G4_y_2, fmt='.', yerr=hist_data_n_std_G4_y_2, xerr=np.rad2deg(ATTWOOD.upper_bin_edge - ATTWOOD.bin_mids), color='red', label='Geant 2')\n",
    "ax0.errorbar(np.rad2deg(ATTWOOD.bin_mids), hist_data_n_mean_G4_y_3, fmt='.', yerr=hist_data_n_std_G4_y_3, xerr=np.rad2deg(ATTWOOD.upper_bin_edge - ATTWOOD.bin_mids), color='blue', label='Geant 3')\n",
    "\n",
    "# run 01\n",
    "ax0.errorbar(np.rad2deg(ATTWOOD.bin_mids), hist_data_n_mean_01, fmt='.', yerr=hist_data_n_std_01, xerr=np.rad2deg(ATTWOOD.upper_bin_edge - ATTWOOD.bin_mids), label=r'\\raggedleft PROPOSAL')\n",
    "\n",
    "# run 02\n",
    "ax0.errorbar(np.rad2deg(ATTWOOD.bin_mids), hist_data_n_mean_02, fmt='.', yerr=hist_data_n_std_02, xerr=np.rad2deg(ATTWOOD.upper_bin_edge - ATTWOOD.bin_mids), label=r'\\raggedleft PROPOSAL \\newline MSM only')\n",
    "\n",
    "ax0.set_yscale('log')\n",
    "ax0.set_ylabel('Counts')\n",
    "ax0.minorticks_on()\n",
    "ax0.legend(bbox_to_anchor=(1,1), fontsize=12)\n",
    "ax0.set_xlim(-7, 7)\n",
    "\n",
    "\n",
    "ax1.plot(np.linspace(-7, 7, 100), np.ones(100), '--', color='grey')\n",
    "ax1.plot(np.rad2deg(ATTWOOD.bin_mids), ATTWOOD.data/ATTWOOD.G4, color='black')\n",
    "ax1.plot(np.rad2deg(ATTWOOD.bin_mids), ATTWOOD.data/hist_data_n_mean_01)#, color='blue')\n",
    "ax1.plot(np.rad2deg(ATTWOOD.bin_mids), ATTWOOD.data/hist_data_n_mean_02)#, color='orange')\n",
    "ax1.set_xlabel(r'$\\theta_{\\mathrm{y}}\\,/\\,$deg')\n",
    "ax1.set_ylabel('Data/MC')\n",
    "\n",
    "f.tight_layout() # plt.subplots_adjust(hspace=0)\n",
    "f.savefig(plot_dir + 'attwood_comparison_moliere_199MeV_final_multi_mean_deg_ratio_PhysicsLists.pdf', bbox_inches='tight')"
   ]
  },
  {
   "cell_type": "code",
   "execution_count": 82,
   "id": "75cb9227-8eeb-4633-a71d-05045be48eaf",
   "metadata": {},
   "outputs": [
    {
     "data": {
      "text/plain": [
       "array([0.00000000e+00, 5.55555556e-04, 6.21121118e-04, 1.49253731e-03,\n",
       "       4.31038793e-04, 4.54546970e-03, 1.51163314e-02, 8.13798000e-02,\n",
       "       3.03675669e+00, 1.78541785e+02, 3.00800220e+00, 7.10348621e-02,\n",
       "       2.38373140e-02, 3.03032323e-03, 1.29310345e-03, 7.46276119e-04,\n",
       "       6.21124224e-04, 5.55558333e-04, 0.00000000e+00])"
      ]
     },
     "execution_count": 82,
     "metadata": {},
     "output_type": "execute_result"
    }
   ],
   "source": [
    "hist_data_n_mean_G4_y"
   ]
  },
  {
   "cell_type": "markdown",
   "id": "bb75f096-c615-4bd5-9d71-749534e98151",
   "metadata": {},
   "source": [
    "# Akimenko data comparison"
   ]
  },
  {
   "cell_type": "code",
   "execution_count": 4,
   "id": "cc74f5e3-f128-46aa-979f-6ac0b798cea8",
   "metadata": {},
   "outputs": [
    {
     "name": "stdout",
     "output_type": "stream",
     "text": [
      "[0.0144]\n",
      "[0.00817724 0.0144    ]\n",
      "[0.00256256 0.0144    ]\n",
      "[0.00463499 0.00928377 0.0144    ]\n",
      "[0.00463499 0.00928377 0.0144    ]\n"
     ]
    }
   ],
   "source": [
    "AKIMENKO = pd.read_csv('data/akimenko/Akimenko_true_data.txt', sep='\\s+', names=['angle_low', 'angle_high', 'counts'], skiprows=1)\n",
    "df_01 = pd.read_hdf('data/akimenko_7301MeV_copper/akimenko_run_01.hdf5') # v_cut = 1e-5\n",
    "df_02 = pd.read_hdf('data/akimenko_7301MeV_copper/akimenko_run_02.hdf5') # v_cut = 1e-5 only Moliere\n",
    "df_03 = pd.read_hdf('data/akimenko_7301MeV_copper/akimenko_run_03.hdf5') # v_cut = 1e-3\n",
    "df_04 = pd.read_hdf('data/akimenko_7301MeV_copper/akimenko_run_04.hdf5') # v_cut = 1e-3 only Moliere\n",
    "df_05 = pd.read_hdf('data/akimenko_7301MeV_copper/akimenko_run_04.hdf5') # v_cut = 0.05, e_cut = 500 MeV\n",
    "\n",
    "# distance should be 1.44 cm\n",
    "print(np.unique(df_01.distances))\n",
    "print(np.unique(df_02.distances))\n",
    "print(np.unique(df_03.distances))\n",
    "print(np.unique(df_04.distances))\n",
    "print(np.unique(df_05.distances))\n",
    "\n",
    "df_01 = df_01[df_01.distances == 0.0144]\n",
    "df_02 = df_02[df_02.distances == 0.0144]\n",
    "df_03 = df_03[df_03.distances == 0.0144]\n",
    "df_04 = df_04[df_04.distances == 0.0144]\n",
    "df_05 = df_05[df_05.distances == 0.0144]"
   ]
  },
  {
   "cell_type": "code",
   "execution_count": 5,
   "id": "0027ee73-c877-4636-bb2e-0f95322a52d7",
   "metadata": {},
   "outputs": [],
   "source": [
    "df_dict_01 = {}\n",
    "for seed in np.unique(df_01.rnd_seed):\n",
    "    key = \"df_{}\".format(int(seed))\n",
    "    df_dict_01[key] = df_01[df_01.rnd_seed == seed]\n",
    "    \n",
    "df_dict_02 = {}\n",
    "for seed in np.unique(df_02.rnd_seed):\n",
    "    key = \"df_{}\".format(int(seed))\n",
    "    df_dict_02[key] = df_02[df_02.rnd_seed == seed]\n",
    "    \n",
    "df_dict_03 = {}\n",
    "for seed in np.unique(df_03.rnd_seed):\n",
    "    key = \"df_{}\".format(int(seed))\n",
    "    df_dict_03[key] = df_03[df_03.rnd_seed == seed]\n",
    "    \n",
    "df_dict_04 = {}\n",
    "for seed in np.unique(df_04.rnd_seed):\n",
    "    key = \"df_{}\".format(int(seed))\n",
    "    df_dict_04[key] = df_04[df_04.rnd_seed == seed]\n",
    "    \n",
    "df_dict_05 = {}\n",
    "for seed in np.unique(df_05.rnd_seed):\n",
    "    key = \"df_{}\".format(int(seed))\n",
    "    df_dict_05[key] = df_05[df_05.rnd_seed == seed]"
   ]
  },
  {
   "cell_type": "code",
   "execution_count": 6,
   "id": "d98644ff-17d4-40b4-81f5-69cf005b14a3",
   "metadata": {},
   "outputs": [],
   "source": [
    "bin_mids = [AKIMENKO.angle_low[i] - (AKIMENKO.angle_low[i] - AKIMENKO.angle_low[i+1])/2 for i in range(len(AKIMENKO)-1)]\n",
    "bin_mids.append(AKIMENKO.angle_low.values[-1] - (AKIMENKO.angle_low.values[-1] - AKIMENKO.angle_high.values[-1])/2)"
   ]
  },
  {
   "cell_type": "code",
   "execution_count": 7,
   "id": "8c9fc6c3-97da-41c7-8492-47ee351b06e1",
   "metadata": {},
   "outputs": [],
   "source": [
    "hist_data_n_01 = []\n",
    "bins = np.append(AKIMENKO.angle_low.values/1000, AKIMENKO.angle_high.values[-1]/1000)\n",
    "for df in df_dict_01:\n",
    "    n, x = np.histogram(df_dict_01[df].y_dir_f, bins=bins)\n",
    "    hist_data_n_01.append(n)\n",
    "hist_data_n_mean_01 = np.mean(hist_data_n_01, axis=0)\n",
    "hist_data_n_std_01 = np.std(hist_data_n_01, axis=0)\n",
    "hist_data_n_median_01 = np.median(hist_data_n_01, axis=0)\n",
    "\n",
    "hist_data_n_02 = []\n",
    "for df in df_dict_02:\n",
    "    n, x = np.histogram(df_dict_02[df].y_dir_f, bins=bins)\n",
    "    hist_data_n_02.append(n)\n",
    "hist_data_n_mean_02 = np.mean(hist_data_n_02, axis=0)\n",
    "hist_data_n_std_02 = np.std(hist_data_n_02, axis=0)\n",
    "hist_data_n_median_02 = np.median(hist_data_n_02, axis=0)\n",
    "\n",
    "hist_data_n_03 = []\n",
    "for df in df_dict_03:\n",
    "    n, x = np.histogram(df_dict_03[df].y_dir_f, bins=bins)\n",
    "    hist_data_n_03.append(n)\n",
    "hist_data_n_mean_03 = np.mean(hist_data_n_03, axis=0)\n",
    "hist_data_n_std_03 = np.std(hist_data_n_03, axis=0)\n",
    "hist_data_n_median_03 = np.median(hist_data_n_03, axis=0)\n",
    "\n",
    "hist_data_n_04 = []\n",
    "for df in df_dict_04:\n",
    "    n, x = np.histogram(df_dict_04[df].y_dir_f, bins=bins)\n",
    "    hist_data_n_04.append(n)\n",
    "hist_data_n_mean_04 = np.mean(hist_data_n_04, axis=0)\n",
    "hist_data_n_std_04 = np.std(hist_data_n_04, axis=0)\n",
    "hist_data_n_median_04 = np.median(hist_data_n_04, axis=0)\n",
    "\n",
    "hist_data_n_05 = []\n",
    "for df in df_dict_05:\n",
    "    n, x = np.histogram(df_dict_05[df].y_dir_f, bins=bins)\n",
    "    hist_data_n_05.append(n)\n",
    "hist_data_n_mean_05 = np.mean(hist_data_n_05, axis=0)\n",
    "hist_data_n_std_05 = np.std(hist_data_n_05, axis=0)\n",
    "hist_data_n_median_05 = np.median(hist_data_n_05, axis=0)"
   ]
  },
  {
   "cell_type": "code",
   "execution_count": 8,
   "id": "84ba1305-ae42-4061-baff-7a4bab71cf8d",
   "metadata": {},
   "outputs": [
    {
     "data": {
      "image/png": "[encoded data removed]",
      "text/plain": [
       "<Figure size 432x288 with 1 Axes>"
      ]
     },
     "metadata": {
      "needs_background": "light"
     },
     "output_type": "display_data"
    }
   ],
   "source": [
    "# akimenko data\n",
    "plt.errorbar(bin_mids, AKIMENKO.counts, fmt='o', color='black', alpha=0.9, yerr=np.sqrt(AKIMENKO.counts), xerr=AKIMENKO.angle_low-bin_mids, label='Akimenko')\n",
    "\n",
    "# run 03\n",
    "# plt.errorbar(bin_mids, hist_data_n_mean_03, fmt='.', yerr=hist_data_n_std_03, xerr=AKIMENKO.angle_low-bin_mids, label='v = 1e-3')\n",
    "# plt.errorbar(bin_mids, hist_data_n_median_03, fmt='.', \n",
    "#              yerr=[hist_data_n_median_03-np.quantile(hist_data_n_03, 0.159, axis=0), np.quantile(hist_data_n_03, 0.841, axis=0)-hist_data_n_median_03],\n",
    "#              xerr=AKIMENKO.angle_low-bin_mids,\n",
    "#             label='median+68%')\n",
    "\n",
    "# run 01\n",
    "plt.errorbar(bin_mids, hist_data_n_mean_01, fmt='.', yerr=hist_data_n_std_01, xerr=AKIMENKO.angle_low-bin_mids, label='v = 1e-5')\n",
    "# plt.errorbar(bin_mids, hist_data_n_median_01, fmt='.', \n",
    "#              yerr=[hist_data_n_median_01-np.quantile(hist_data_n_01, 0.159, axis=0), np.quantile(hist_data_n_01, 0.841, axis=0)-hist_data_n_median_01],\n",
    "#              xerr=AKIMENKO.angle_low-bin_mids,\n",
    "#             label='median+68%')\n",
    "\n",
    "# run 04\n",
    "# plt.errorbar(bin_mids, hist_data_n_mean_04, fmt='.', yerr=hist_data_n_std_04, xerr=AKIMENKO.angle_low-bin_mids, label='v = 1e-3 Mol.')\n",
    "# plt.errorbar(bin_mids, hist_data_n_median_04, fmt='.', \n",
    "#              yerr=[hist_data_n_median_04-np.quantile(hist_data_n_04, 0.159, axis=0), np.quantile(hist_data_n_04, 0.841, axis=0)-hist_data_n_median_04],\n",
    "#              xerr=AKIMENKO.angle_low-bin_mids,\n",
    "#             label='median+68%')\n",
    "\n",
    "# run 02\n",
    "plt.errorbar(bin_mids, hist_data_n_mean_02, fmt='.', yerr=hist_data_n_std_02, xerr=AKIMENKO.angle_low-bin_mids, label='v = 1e-5 Mol.')\n",
    "# plt.errorbar(bin_mids, hist_data_n_median_02, fmt='.', \n",
    "#              yerr=[hist_data_n_median_02-np.quantile(hist_data_n_02, 0.159, axis=0), np.quantile(hist_data_n_02, 0.841, axis=0)-hist_data_n_median_02],\n",
    "#              xerr=AKIMENKO.angle_low-bin_mids,\n",
    "#             label='median+68%')\n",
    "\n",
    "# run 05\n",
    "# plt.errorbar(bin_mids, hist_data_n_mean_05, fmt='.', yerr=hist_data_n_std_05, xerr=AKIMENKO.angle_low-bin_mids, label='v = 1e-5, e = 500')\n",
    "# plt.errorbar(bin_mids, hist_data_n_median_05, fmt='.', \n",
    "#              yerr=[hist_data_n_median_05-np.quantile(hist_data_n_05, 0.159, axis=0), np.quantile(hist_data_n_05, 0.841, axis=0)-hist_data_n_median_05],\n",
    "#              xerr=AKIMENKO.angle_low-bin_mids,\n",
    "#             label='median+68%')\n",
    "\n",
    "plt.yscale('log')\n",
    "plt.xlabel(r'$\\theta_{\\mathrm{y}}\\,/\\,$mrad')\n",
    "plt.ylabel('Counts')\n",
    "plt.legend()\n",
    "plt.tight_layout()\n",
    "plt.savefig(plot_dir + 'akimenko_comparison_moliere_E7301MeV_final_multi_mean.pdf', bbox_inches='tight')"
   ]
  },
  {
   "cell_type": "code",
   "execution_count": 9,
   "id": "61227670-2bdb-424f-b09c-5e4d67ac1380",
   "metadata": {},
   "outputs": [
    {
     "data": {
      "image/png": "[encoded data removed]",
      "text/plain": [
       "<Figure size 432x288 with 1 Axes>"
      ]
     },
     "metadata": {
      "needs_background": "light"
     },
     "output_type": "display_data"
    }
   ],
   "source": [
    "# akimenko data\n",
    "plt.errorbar(np.rad2deg(bin_mids)/1e3, AKIMENKO.counts, fmt='o', color='black', alpha=0.9, yerr=np.sqrt(AKIMENKO.counts), xerr=np.rad2deg(AKIMENKO.angle_low-bin_mids)/1e3, label='Akimenko')\n",
    "\n",
    "# run 03\n",
    "# plt.errorbar(bin_mids, hist_data_n_mean_03, fmt='.', yerr=hist_data_n_std_03, xerr=AKIMENKO.angle_low-bin_mids, label='v = 1e-3')\n",
    "# plt.errorbar(bin_mids, hist_data_n_median_03, fmt='.', \n",
    "#              yerr=[hist_data_n_median_03-np.quantile(hist_data_n_03, 0.159, axis=0), np.quantile(hist_data_n_03, 0.841, axis=0)-hist_data_n_median_03],\n",
    "#              xerr=AKIMENKO.angle_low-bin_mids,\n",
    "#             label='median+68%')\n",
    "\n",
    "# run 01\n",
    "plt.errorbar(np.rad2deg(bin_mids)/1e3, hist_data_n_mean_01, fmt='.', yerr=hist_data_n_std_01, xerr=np.rad2deg(AKIMENKO.angle_low-bin_mids)/1e3, label=r'\\raggedleft PROPOSAL \\newline')\n",
    "# plt.errorbar(bin_mids, hist_data_n_median_01, fmt='.', \n",
    "#              yerr=[hist_data_n_median_01-np.quantile(hist_data_n_01, 0.159, axis=0), np.quantile(hist_data_n_01, 0.841, axis=0)-hist_data_n_median_01],\n",
    "#              xerr=AKIMENKO.angle_low-bin_mids,\n",
    "#             label='median+68%')\n",
    "\n",
    "# run 04\n",
    "# plt.errorbar(bin_mids, hist_data_n_mean_04, fmt='.', yerr=hist_data_n_std_04, xerr=AKIMENKO.angle_low-bin_mids, label='v = 1e-3 Mol.')\n",
    "# plt.errorbar(bin_mids, hist_data_n_median_04, fmt='.', \n",
    "#              yerr=[hist_data_n_median_04-np.quantile(hist_data_n_04, 0.159, axis=0), np.quantile(hist_data_n_04, 0.841, axis=0)-hist_data_n_median_04],\n",
    "#              xerr=AKIMENKO.angle_low-bin_mids,\n",
    "#             label='median+68%')\n",
    "\n",
    "# run 02\n",
    "plt.errorbar(np.rad2deg(bin_mids)/1e3, hist_data_n_mean_02, fmt='.', yerr=hist_data_n_std_02, xerr=np.rad2deg(AKIMENKO.angle_low-bin_mids)/1e3, label=r'\\raggedleft PROPOSAL \\newline MSM only')\n",
    "# plt.errorbar(bin_mids, hist_data_n_median_02, fmt='.', \n",
    "#              yerr=[hist_data_n_median_02-np.quantile(hist_data_n_02, 0.159, axis=0), np.quantile(hist_data_n_02, 0.841, axis=0)-hist_data_n_median_02],\n",
    "#              xerr=AKIMENKO.angle_low-bin_mids,\n",
    "#             label='median+68%')\n",
    "\n",
    "# run 05\n",
    "# plt.errorbar(bin_mids, hist_data_n_mean_05, fmt='.', yerr=hist_data_n_std_05, xerr=AKIMENKO.angle_low-bin_mids, label='v = 1e-5, e = 500')\n",
    "# plt.errorbar(bin_mids, hist_data_n_median_05, fmt='.', \n",
    "#              yerr=[hist_data_n_median_05-np.quantile(hist_data_n_05, 0.159, axis=0), np.quantile(hist_data_n_05, 0.841, axis=0)-hist_data_n_median_05],\n",
    "#              xerr=AKIMENKO.angle_low-bin_mids,\n",
    "#             label='median+68%')\n",
    "\n",
    "plt.yscale('log')\n",
    "plt.xlabel(r'$\\theta_{\\mathrm{y}}\\,/\\,$deg')\n",
    "plt.ylabel('Counts')\n",
    "plt.legend(fontsize=12)\n",
    "plt.minorticks_on()\n",
    "plt.tight_layout()\n",
    "plt.savefig(plot_dir + 'akimenko_comparison_moliere_E7301MeV_final_multi_mean_deg.pdf', bbox_inches='tight')"
   ]
  },
  {
   "cell_type": "markdown",
   "id": "f88e18ff-d934-4f33-9191-a1aba04625f8",
   "metadata": {},
   "source": [
    "### Akimenko ratio plot"
   ]
  },
  {
   "cell_type": "code",
   "execution_count": 10,
   "id": "f9e947cf-3e5d-4d89-bdbf-9b68a6cc2a6a",
   "metadata": {},
   "outputs": [
    {
     "data": {
      "image/png": "[encoded data removed]",
      "text/plain": [
       "<Figure size 432x288 with 2 Axes>"
      ]
     },
     "metadata": {
      "needs_background": "light"
     },
     "output_type": "display_data"
    }
   ],
   "source": [
    "# akimenko data\n",
    "f, (ax0, ax1) = plt.subplots(2, 1, sharex=True, gridspec_kw={'height_ratios': [4, 1]})\n",
    "\n",
    "ax0.errorbar(np.rad2deg(bin_mids)/1e3, AKIMENKO.counts, fmt='o', color='black', alpha=0.9, yerr=np.sqrt(AKIMENKO.counts), xerr=np.rad2deg(AKIMENKO.angle_low-bin_mids)/1e3, label='Akimenko')\n",
    "# run 01\n",
    "ax0.errorbar(np.rad2deg(bin_mids)/1e3, hist_data_n_mean_01, fmt='.', yerr=hist_data_n_std_01, xerr=np.rad2deg(AKIMENKO.angle_low-bin_mids)/1e3, label=r'\\raggedleft PROPOSAL \\newline')\n",
    "# run 02\n",
    "ax0.errorbar(np.rad2deg(bin_mids)/1e3, hist_data_n_mean_02, fmt='.', yerr=hist_data_n_std_02, xerr=np.rad2deg(AKIMENKO.angle_low-bin_mids)/1e3, label=r'\\raggedleft PROPOSAL \\newline MSM only')\n",
    "\n",
    "ax0.set_yscale('log')\n",
    "ax0.set_ylabel('Counts')\n",
    "ax0.legend(fontsize=12)\n",
    "ax0.minorticks_on()\n",
    "ax0.set_xlim(-1.2, 1.2)\n",
    "\n",
    "\n",
    "ax1.plot(np.linspace(-1.2, 1.2, 100), np.ones(100), '--', color='grey')\n",
    "ax1.plot(np.rad2deg(bin_mids)/1e3, AKIMENKO.counts/hist_data_n_mean_01)#, color='blue')\n",
    "ax1.plot(np.rad2deg(bin_mids)/1e3, AKIMENKO.counts/hist_data_n_mean_02)#, color='orange')\n",
    "ax1.set_xlabel(r'$\\theta_{\\mathrm{y}}\\,/\\,$deg')\n",
    "ax1.set_ylabel('Data/MC')\n",
    "ax1.set_xlabel(r'$\\theta_{\\mathrm{y}}\\,/\\,$deg')\n",
    "\n",
    "f.tight_layout()\n",
    "f.savefig(plot_dir + 'akimenko_comparison_moliere_E7301MeV_final_multi_mean_deg_ratio.pdf', bbox_inches='tight')"
   ]
  },
  {
   "cell_type": "code",
   "execution_count": 23,
   "id": "10cea4c9-0a9b-424f-828b-6b4974649608",
   "metadata": {},
   "outputs": [
    {
     "name": "stdout",
     "output_type": "stream",
     "text": [
      "[14.4]\n",
      "           z        px        py        pz\n",
      "0       14.4 -0.001023  0.000204  0.999999\n",
      "1       14.4  0.001005 -0.002199  0.999997\n",
      "2       14.4 -0.001306  0.001025  0.999999\n",
      "3       14.4 -0.001268 -0.002686  0.999996\n",
      "4       14.4 -0.001628  0.000669  0.999998\n",
      "...      ...       ...       ...       ...\n",
      "311245  14.4 -0.000705  0.001858  0.999998\n",
      "311246  14.4  0.001623 -0.001472  0.999998\n",
      "311247  14.4 -0.000463  0.002838  0.999996\n",
      "311248  14.4 -0.000381 -0.003932  0.999992\n",
      "311249  14.4 -0.001805  0.000391  0.999998\n",
      "\n",
      "[311250 rows x 4 columns]\n"
     ]
    }
   ],
   "source": [
    "data = pd.read_csv('Geant4/data/akimenko/data_n10.txt', sep=r'\\s*,\\s*', engine='python') # QBBC.hh\n",
    "print(np.unique(data.z))\n",
    "data = data[data.z == 14.4]\n",
    "print(data)\n",
    "\n",
    "# get x and y directions\n",
    "px = data['px'].values\n",
    "py = data['py'].values\n",
    "\n",
    "# reshape arrays to get single data sets\n",
    "px_shaped = px.reshape(int(len(px)/31125), 31125)\n",
    "py_shaped = py.reshape(int(len(py)/31125), 31125)\n",
    "\n",
    "# get binnend means and stds\n",
    "hist_data_n_G4_x = []\n",
    "for px in px_shaped:\n",
    "    n, x = np.histogram(px, bins=bins)\n",
    "    hist_data_n_G4_x.append(n)\n",
    "hist_data_n_mean_G4_x = np.mean(hist_data_n_G4_x, axis=0)\n",
    "hist_data_n_std_G4_x = np.std(hist_data_n_G4_x, axis=0)\n",
    "\n",
    "hist_data_n_G4_y = []\n",
    "for py in py_shaped:\n",
    "    n, x = np.histogram(py, bins=bins)\n",
    "    hist_data_n_G4_y.append(n)\n",
    "hist_data_n_mean_G4_y = np.mean(hist_data_n_G4_y, axis=0)\n",
    "hist_data_n_std_G4_y = np.std(hist_data_n_G4_y, axis=0)"
   ]
  },
  {
   "cell_type": "code",
   "execution_count": 24,
   "id": "258cda4a-2c0f-4b89-af09-c2f52bf16e4d",
   "metadata": {
    "tags": []
   },
   "outputs": [
    {
     "data": {
      "image/png": "[encoded data removed]",
      "text/plain": [
       "<Figure size 432x288 with 2 Axes>"
      ]
     },
     "metadata": {
      "needs_background": "light"
     },
     "output_type": "display_data"
    }
   ],
   "source": [
    "# Geant4\n",
    "# data = pd.read_csv('Geant4/data/data.txt', sep=r'\\s*,\\s*', engine='python') # data_water.txt # data.txt\n",
    "# data = pd.read_csv('Geant4/data/deflection_2_data.txt', sep=r'\\s*,\\s*', engine='python') # data_water.txt # data.txt\n",
    "# theta_x = data.px\n",
    "# theta_y = data.py\n",
    "\n",
    "# akimenko data\n",
    "f, (ax0, ax1) = plt.subplots(2, 1, sharex=True, gridspec_kw={'height_ratios': [4, 1]})\n",
    "\n",
    "ax0.errorbar(np.rad2deg(bin_mids)/1e3, AKIMENKO.counts, fmt='o', color='black', alpha=0.9, yerr=np.sqrt(AKIMENKO.counts), xerr=np.rad2deg(AKIMENKO.angle_low-bin_mids)/1e3, label='Akimenko')\n",
    "\n",
    "# Geant4\n",
    "# n = ax0.hist(np.rad2deg(theta_x[data.z==14.4]), bins=np.rad2deg(bins), histtype='step', label='Geant4 x')\n",
    "# ax0.hist(np.rad2deg(theta_y[data.z==14.4]), bins=np.rad2deg(bins), histtype='step', label='Geant4 y')\n",
    "# ax0.hist(np.rad2deg(px), bins=np.rad2deg(bins), histtype='step', label='Geant4 x')\n",
    "# ax0.hist(np.rad2deg(py), bins=np.rad2deg(bins), histtype='step', label='Geant4 y')\n",
    "# ax0.errorbar(np.rad2deg(bin_mids)/1e3, hist_data_n_mean_G4_x, fmt='^', yerr=hist_data_n_std_G4_x, xerr=np.rad2deg(AKIMENKO.angle_low-bin_mids)/1e3, color='red', label=r'Geant4 $x$')\n",
    "ax0.errorbar(np.rad2deg(bin_mids)/1e3, hist_data_n_mean_G4_y, fmt='.', yerr=hist_data_n_std_G4_y, xerr=np.rad2deg(AKIMENKO.angle_low-bin_mids)/1e3, color='purple', label=r'Geant4')\n",
    "\n",
    "\n",
    "# run 01\n",
    "ax0.errorbar(np.rad2deg(bin_mids)/1e3, hist_data_n_mean_01, fmt='.', yerr=hist_data_n_std_01, xerr=np.rad2deg(AKIMENKO.angle_low-bin_mids)/1e3, label=r'\\raggedleft PROPOSAL \\newline')\n",
    "# run 02\n",
    "ax0.errorbar(np.rad2deg(bin_mids)/1e3, hist_data_n_mean_02, fmt='.', yerr=hist_data_n_std_02, xerr=np.rad2deg(AKIMENKO.angle_low-bin_mids)/1e3, label=r'\\raggedleft PROPOSAL \\newline MSM only')\n",
    "\n",
    "ax0.set_yscale('log')\n",
    "ax0.set_ylabel('Counts')\n",
    "ax0.legend(fontsize=12)\n",
    "ax0.minorticks_on()\n",
    "ax0.set_xlim(-1.2, 1.2)\n",
    "\n",
    "\n",
    "ax1.plot(np.linspace(-1.2, 1.2, 100), np.ones(100), '--', color='grey')\n",
    "ax1.plot(np.rad2deg(bin_mids)/1e3, AKIMENKO.counts/hist_data_n_mean_G4_y, color='purple')\n",
    "ax1.plot(np.rad2deg(bin_mids)/1e3, AKIMENKO.counts/hist_data_n_mean_01)#, color='blue')\n",
    "ax1.plot(np.rad2deg(bin_mids)/1e3, AKIMENKO.counts/hist_data_n_mean_02)#, color='orange')\n",
    "ax1.set_xlabel(r'$\\theta_{\\mathrm{y}}\\,/\\,$deg')\n",
    "ax1.set_ylabel('Data/MC')\n",
    "ax1.set_xlabel(r'$\\theta_{\\mathrm{y}}\\,/\\,$deg')\n",
    "ax1.set_ylim(0.25, 3)\n",
    "\n",
    "f.tight_layout()\n",
    "f.savefig(plot_dir + 'akimenko_comparison_moliere_E7301MeV_final_multi_mean_deg_ratio_G4.pdf', bbox_inches='tight')"
   ]
  },
  {
   "cell_type": "code",
   "execution_count": 20,
   "id": "7ea39b36-2cf1-4f21-96b7-d4756ee9ef96",
   "metadata": {},
   "outputs": [
    {
     "name": "stdout",
     "output_type": "stream",
     "text": [
      "[14.4]\n",
      "           z        px        py        pz\n",
      "0       14.4  0.002127 -0.001037  0.999997\n",
      "1       14.4 -0.003186 -0.003854  0.999987\n",
      "2       14.4  0.000194  0.000020  1.000000\n",
      "3       14.4  0.000300 -0.000353  1.000000\n",
      "4       14.4  0.001059  0.000649  0.999999\n",
      "...      ...       ...       ...       ...\n",
      "311245  14.4 -0.002550  0.002729  0.999993\n",
      "311246  14.4 -0.001054  0.001243  0.999999\n",
      "311247  14.4  0.000246 -0.000205  1.000000\n",
      "311248  14.4 -0.001578 -0.003129  0.999994\n",
      "311249  14.4  0.004696 -0.002380  0.999986\n",
      "\n",
      "[311250 rows x 4 columns]\n"
     ]
    }
   ],
   "source": [
    "data = pd.read_csv('Geant4/data/akimenko/data_2_n10.txt', sep=r'\\s*,\\s*', engine='python') # QBBC.hh\n",
    "print(np.unique(data.z))\n",
    "data = data[data.z == 14.4]\n",
    "print(data)\n",
    "\n",
    "# get x and y directions\n",
    "px = data['px'].values\n",
    "py = data['py'].values\n",
    "\n",
    "# reshape arrays to get single data sets\n",
    "px_shaped = px.reshape(int(len(px)/31125), 31125)\n",
    "py_shaped = py.reshape(int(len(py)/31125), 31125)\n",
    "\n",
    "# get binnend means and stds\n",
    "hist_data_n_G4_x = []\n",
    "for px in px_shaped:\n",
    "    n, x = np.histogram(px, bins=bins)\n",
    "    hist_data_n_G4_x.append(n)\n",
    "hist_data_n_mean_G4_x = np.mean(hist_data_n_G4_x, axis=0)\n",
    "hist_data_n_std_G4_x = np.std(hist_data_n_G4_x, axis=0)\n",
    "\n",
    "hist_data_n_G4_y = []\n",
    "for py in py_shaped:\n",
    "    n, x = np.histogram(py, bins=bins)\n",
    "    hist_data_n_G4_y.append(n)\n",
    "hist_data_n_mean_G4_y = np.mean(hist_data_n_G4_y, axis=0)\n",
    "hist_data_n_std_G4_y = np.std(hist_data_n_G4_y, axis=0)"
   ]
  },
  {
   "cell_type": "code",
   "execution_count": 21,
   "id": "2157b66e-29e2-4dda-8870-8be3aaf579e2",
   "metadata": {},
   "outputs": [
    {
     "data": {
      "image/png": "[encoded data removed]",
      "text/plain": [
       "<Figure size 432x288 with 2 Axes>"
      ]
     },
     "metadata": {
      "needs_background": "light"
     },
     "output_type": "display_data"
    }
   ],
   "source": [
    "# Geant4\n",
    "# data = pd.read_csv('Geant4/data/data.txt', sep=r'\\s*,\\s*', engine='python') # data_water.txt # data.txt\n",
    "# data = pd.read_csv('Geant4/data/deflection_2_data.txt', sep=r'\\s*,\\s*', engine='python') # data_water.txt # data.txt\n",
    "# theta_x = data.px\n",
    "# theta_y = data.py\n",
    "\n",
    "# akimenko data\n",
    "f, (ax0, ax1) = plt.subplots(2, 1, sharex=True, gridspec_kw={'height_ratios': [4, 1]})\n",
    "\n",
    "ax0.errorbar(np.rad2deg(bin_mids)/1e3, AKIMENKO.counts, fmt='o', color='black', alpha=0.9, yerr=np.sqrt(AKIMENKO.counts), xerr=np.rad2deg(AKIMENKO.angle_low-bin_mids)/1e3, label='Akimenko')\n",
    "\n",
    "# Geant4\n",
    "# n = ax0.hist(np.rad2deg(theta_x[data.z==14.4]), bins=np.rad2deg(bins), histtype='step', label='Geant4 x')\n",
    "# ax0.hist(np.rad2deg(theta_y[data.z==14.4]), bins=np.rad2deg(bins), histtype='step', label='Geant4 y')\n",
    "# ax0.hist(np.rad2deg(px), bins=np.rad2deg(bins), histtype='step', label='Geant4 x')\n",
    "# ax0.hist(np.rad2deg(py), bins=np.rad2deg(bins), histtype='step', label='Geant4 y')\n",
    "# ax0.errorbar(np.rad2deg(bin_mids)/1e3, hist_data_n_mean_G4_x, fmt='^', yerr=hist_data_n_std_G4_x, xerr=np.rad2deg(AKIMENKO.angle_low-bin_mids)/1e3, color='red', label=r'Geant4 $x$')\n",
    "ax0.errorbar(np.rad2deg(bin_mids)/1e3, hist_data_n_mean_G4_y, fmt='.', yerr=hist_data_n_std_G4_y, xerr=np.rad2deg(AKIMENKO.angle_low-bin_mids)/1e3, color='purple', label=r'Geant4')\n",
    "\n",
    "\n",
    "# run 01\n",
    "ax0.errorbar(np.rad2deg(bin_mids)/1e3, hist_data_n_mean_01, fmt='.', yerr=hist_data_n_std_01, xerr=np.rad2deg(AKIMENKO.angle_low-bin_mids)/1e3, label=r'\\raggedleft PROPOSAL \\newline')\n",
    "# run 02\n",
    "ax0.errorbar(np.rad2deg(bin_mids)/1e3, hist_data_n_mean_02, fmt='.', yerr=hist_data_n_std_02, xerr=np.rad2deg(AKIMENKO.angle_low-bin_mids)/1e3, label=r'\\raggedleft PROPOSAL \\newline MSM only')\n",
    "\n",
    "ax0.set_yscale('log')\n",
    "ax0.set_ylabel('Counts')\n",
    "ax0.legend(fontsize=12)\n",
    "ax0.minorticks_on()\n",
    "ax0.set_xlim(-1.2, 1.2)\n",
    "\n",
    "\n",
    "ax1.plot(np.linspace(-1.2, 1.2, 100), np.ones(100), '--', color='grey')\n",
    "ax1.plot(np.rad2deg(bin_mids)/1e3, AKIMENKO.counts/hist_data_n_mean_G4_y, color='purple')\n",
    "ax1.plot(np.rad2deg(bin_mids)/1e3, AKIMENKO.counts/hist_data_n_mean_01)#, color='blue')\n",
    "ax1.plot(np.rad2deg(bin_mids)/1e3, AKIMENKO.counts/hist_data_n_mean_02)#, color='orange')\n",
    "ax1.set_xlabel(r'$\\theta_{\\mathrm{y}}\\,/\\,$deg')\n",
    "ax1.set_ylabel('Data/MC')\n",
    "ax1.set_xlabel(r'$\\theta_{\\mathrm{y}}\\,/\\,$deg')\n",
    "ax1.set_ylim(0.25, 3)\n",
    "\n",
    "f.tight_layout()\n",
    "f.savefig(plot_dir + 'akimenko_comparison_moliere_E7301MeV_final_multi_mean_deg_ratio_G4_checkPhysicsLists.pdf', bbox_inches='tight')"
   ]
  },
  {
   "cell_type": "markdown",
   "id": "a4544618-b969-40bd-8db6-960fca6e617e",
   "metadata": {
    "tags": []
   },
   "source": [
    "## Check Akimenko Geant4 PhysicsLists"
   ]
  },
  {
   "cell_type": "code",
   "execution_count": 35,
   "id": "e79f5030-7060-4075-9ac1-1c4b3617fac5",
   "metadata": {},
   "outputs": [
    {
     "name": "stdout",
     "output_type": "stream",
     "text": [
      "[14.4]\n",
      "           z        px        py        pz\n",
      "0       14.4 -0.001023  0.000204  0.999999\n",
      "1       14.4  0.001005 -0.002199  0.999997\n",
      "2       14.4 -0.001306  0.001025  0.999999\n",
      "3       14.4 -0.001268 -0.002686  0.999996\n",
      "4       14.4 -0.001628  0.000669  0.999998\n",
      "...      ...       ...       ...       ...\n",
      "311245  14.4 -0.000705  0.001858  0.999998\n",
      "311246  14.4  0.001623 -0.001472  0.999998\n",
      "311247  14.4 -0.000463  0.002838  0.999996\n",
      "311248  14.4 -0.000381 -0.003932  0.999992\n",
      "311249  14.4 -0.001805  0.000391  0.999998\n",
      "\n",
      "[311250 rows x 4 columns]\n",
      "[14.4]\n",
      "           z        px        py        pz\n",
      "0       14.4  0.002127 -0.001037  0.999997\n",
      "1       14.4 -0.003186 -0.003854  0.999987\n",
      "2       14.4  0.000194  0.000020  1.000000\n",
      "3       14.4  0.000300 -0.000353  1.000000\n",
      "4       14.4  0.001059  0.000649  0.999999\n",
      "...      ...       ...       ...       ...\n",
      "311245  14.4 -0.002550  0.002729  0.999993\n",
      "311246  14.4 -0.001054  0.001243  0.999999\n",
      "311247  14.4  0.000246 -0.000205  1.000000\n",
      "311248  14.4 -0.001578 -0.003129  0.999994\n",
      "311249  14.4  0.004696 -0.002380  0.999986\n",
      "\n",
      "[311250 rows x 4 columns]\n",
      "[14.4]\n",
      "           z        px        py        pz\n",
      "0       14.4 -0.001268 -0.002686  0.999996\n",
      "1       14.4 -0.001023  0.000204  0.999999\n",
      "2       14.4  0.001005 -0.002199  0.999997\n",
      "3       14.4 -0.001306  0.001026  0.999999\n",
      "4       14.4  0.003084  0.001214  0.999995\n",
      "...      ...       ...       ...       ...\n",
      "311245  14.4 -0.000705  0.001858  0.999998\n",
      "311246  14.4  0.001623 -0.001472  0.999998\n",
      "311247  14.4 -0.000463  0.002839  0.999996\n",
      "311248  14.4 -0.000381 -0.003932  0.999992\n",
      "311249  14.4 -0.001805  0.000391  0.999998\n",
      "\n",
      "[311250 rows x 4 columns]\n"
     ]
    }
   ],
   "source": [
    "data = pd.read_csv('Geant4/data/akimenko/data_n10.txt', sep=r'\\s*,\\s*', engine='python') # QBBC.hh\n",
    "print(np.unique(data.z))\n",
    "data = data[data.z == 14.4]\n",
    "print(data)\n",
    "\n",
    "# get x and y directions\n",
    "px = data['px'].values\n",
    "py = data['py'].values\n",
    "\n",
    "# reshape arrays to get single data sets\n",
    "px_shaped = px.reshape(int(len(px)/31125), 31125)\n",
    "py_shaped = py.reshape(int(len(py)/31125), 31125)\n",
    "\n",
    "# get binnend means and stds\n",
    "hist_data_n_G4_x = []\n",
    "for px in px_shaped:\n",
    "    n, x = np.histogram(px, bins=bins)\n",
    "    hist_data_n_G4_x.append(n)\n",
    "hist_data_n_mean_G4_x = np.mean(hist_data_n_G4_x, axis=0)\n",
    "hist_data_n_std_G4_x = np.std(hist_data_n_G4_x, axis=0)\n",
    "\n",
    "hist_data_n_G4_y = []\n",
    "for py in py_shaped:\n",
    "    n, x = np.histogram(py, bins=bins)\n",
    "    hist_data_n_G4_y.append(n)\n",
    "hist_data_n_mean_G4_y = np.mean(hist_data_n_G4_y, axis=0)\n",
    "hist_data_n_std_G4_y = np.std(hist_data_n_G4_y, axis=0)\n",
    "\n",
    "data_2 = pd.read_csv('Geant4/data/akimenko/data_2_n10.txt', sep=r'\\s*,\\s*', engine='python') # QBBC.hh\n",
    "print(np.unique(data_2.z))\n",
    "data_2 = data_2[data_2.z == 14.4]\n",
    "print(data_2)\n",
    "\n",
    "# get x and y directions\n",
    "px = data_2['px'].values\n",
    "py = data_2['py'].values\n",
    "\n",
    "# reshape arrays to get single data sets\n",
    "px_shaped = px.reshape(int(len(px)/31125), 31125)\n",
    "py_shaped = py.reshape(int(len(py)/31125), 31125)\n",
    "\n",
    "# get binnend means and stds\n",
    "hist_data_n_G4_x_2 = []\n",
    "for px in px_shaped:\n",
    "    n, x = np.histogram(px, bins=bins)\n",
    "    hist_data_n_G4_x_2.append(n)\n",
    "hist_data_n_mean_G4_x_2 = np.mean(hist_data_n_G4_x_2, axis=0)\n",
    "hist_data_n_std_G4_x_2 = np.std(hist_data_n_G4_x_2, axis=0)\n",
    "\n",
    "hist_data_n_G4_y_2 = []\n",
    "for py in py_shaped:\n",
    "    n, x = np.histogram(py, bins=bins)\n",
    "    hist_data_n_G4_y_2.append(n)\n",
    "hist_data_n_mean_G4_y_2 = np.mean(hist_data_n_G4_y_2, axis=0)\n",
    "hist_data_n_std_G4_y_2 = np.std(hist_data_n_G4_y_2, axis=0)\n",
    "\n",
    "data_3 = pd.read_csv('Geant4/data/akimenko/data_3_n10.txt', sep=r'\\s*,\\s*', engine='python') # QBBC.hh\n",
    "print(np.unique(data_3.z))\n",
    "data_3 = data_3[data_3.z == 14.4]\n",
    "print(data_3)\n",
    "\n",
    "# get x and y directions\n",
    "px = data_3['px'].values\n",
    "py = data_3['py'].values\n",
    "\n",
    "# reshape arrays to get single data sets\n",
    "px_shaped = px.reshape(int(len(px)/31125), 31125)\n",
    "py_shaped = py.reshape(int(len(py)/31125), 31125)\n",
    "\n",
    "# get binnend means and stds\n",
    "hist_data_n_G4_x_3 = []\n",
    "for px in px_shaped:\n",
    "    n, x = np.histogram(px, bins=bins)\n",
    "    hist_data_n_G4_x_3.append(n)\n",
    "hist_data_n_mean_G4_x_3 = np.mean(hist_data_n_G4_x_3, axis=0)\n",
    "hist_data_n_std_G4_x_3 = np.std(hist_data_n_G4_x_3, axis=0)\n",
    "\n",
    "hist_data_n_G4_y_3 = []\n",
    "for py in py_shaped:\n",
    "    n, x = np.histogram(py, bins=bins)\n",
    "    hist_data_n_G4_y_3.append(n)\n",
    "hist_data_n_mean_G4_y_3 = np.mean(hist_data_n_G4_y_3, axis=0)\n",
    "hist_data_n_std_G4_y_3 = np.std(hist_data_n_G4_y_3, axis=0)"
   ]
  },
  {
   "cell_type": "code",
   "execution_count": 36,
   "id": "b99518fc-b7b9-4593-9bcf-283cbc2807da",
   "metadata": {},
   "outputs": [
    {
     "data": {
      "image/png": "[encoded data removed]",
      "text/plain": [
       "<Figure size 432x288 with 2 Axes>"
      ]
     },
     "metadata": {
      "needs_background": "light"
     },
     "output_type": "display_data"
    }
   ],
   "source": [
    "# Geant4\n",
    "\n",
    "# akimenko data\n",
    "f, (ax0, ax1) = plt.subplots(2, 1, sharex=True, gridspec_kw={'height_ratios': [4, 1]})\n",
    "\n",
    "ax0.errorbar(np.rad2deg(bin_mids)/1e3, AKIMENKO.counts, fmt='o', color='black', alpha=0.9, yerr=np.sqrt(AKIMENKO.counts), xerr=np.rad2deg(AKIMENKO.angle_low-bin_mids)/1e3, label='Akimenko')\n",
    "\n",
    "# Geant4\n",
    "\n",
    "ax0.errorbar(np.rad2deg(bin_mids)/1e3, hist_data_n_mean_G4_y, fmt='.', yerr=hist_data_n_std_G4_y, xerr=np.rad2deg(AKIMENKO.angle_low-bin_mids)/1e3, color='purple', label=r'Geant4')\n",
    "ax0.errorbar(np.rad2deg(bin_mids)/1e3, hist_data_n_mean_G4_y_2, fmt='.', yerr=hist_data_n_std_G4_y_2, xerr=np.rad2deg(AKIMENKO.angle_low-bin_mids)/1e3, color='red', label=r'Geant4 2')\n",
    "ax0.errorbar(np.rad2deg(bin_mids)/1e3, hist_data_n_mean_G4_y_3, fmt='.', yerr=hist_data_n_std_G4_y_3, xerr=np.rad2deg(AKIMENKO.angle_low-bin_mids)/1e3, color='blue', label=r'Geant4 3')\n",
    "ax0.errorbar(np.rad2deg(bin_mids)/1e3, hist_data_n_mean_G4_y_3, fmt='.', yerr=hist_data_n_std_G4_y_3, xerr=np.rad2deg(AKIMENKO.angle_low-bin_mids)/1e3, color='blue', label=r'Geant4 3')\n",
    "\n",
    "\n",
    "ax0.set_yscale('log')\n",
    "ax0.set_ylabel('Counts')\n",
    "ax0.legend(fontsize=12)\n",
    "ax0.minorticks_on()\n",
    "ax0.set_xlim(-1.2, 1.2)\n",
    "\n",
    "\n",
    "ax1.plot(np.linspace(-1.2, 1.2, 100), np.ones(100), '--', color='grey')\n",
    "ax1.plot(np.rad2deg(bin_mids)/1e3, AKIMENKO.counts/hist_data_n_mean_G4_y, color='purple')\n",
    "ax1.plot(np.rad2deg(bin_mids)/1e3, AKIMENKO.counts/hist_data_n_mean_G4_y_2, color='red')\n",
    "ax1.plot(np.rad2deg(bin_mids)/1e3, AKIMENKO.counts/hist_data_n_mean_G4_y_3, color='blue')\n",
    "ax1.set_xlabel(r'$\\theta_{\\mathrm{y}}\\,/\\,$deg')\n",
    "ax1.set_ylabel('Data/MC')\n",
    "ax1.set_xlabel(r'$\\theta_{\\mathrm{y}}\\,/\\,$deg')\n",
    "ax1.set_ylim(0.25, 3)\n",
    "\n",
    "f.tight_layout()\n",
    "f.savefig(plot_dir + 'akimenko_comparison_moliere_E7301MeV_final_multi_mean_deg_ratio_G4_checkPhysicsLists.pdf', bbox_inches='tight')"
   ]
  },
  {
   "cell_type": "code",
   "execution_count": 38,
   "id": "be43d7b9-69bc-4bcf-8ec1-d2065309d391",
   "metadata": {},
   "outputs": [
    {
     "data": {
      "image/png": "[encoded data removed]",
      "text/plain": [
       "<Figure size 432x288 with 2 Axes>"
      ]
     },
     "metadata": {
      "needs_background": "light"
     },
     "output_type": "display_data"
    }
   ],
   "source": [
    "# Geant4\n",
    "\n",
    "# akimenko data\n",
    "f, (ax0, ax1) = plt.subplots(2, 1, sharex=True, gridspec_kw={'height_ratios': [4, 1]})\n",
    "\n",
    "ax0.errorbar(np.rad2deg(bin_mids)/1e3, AKIMENKO.counts, fmt='o', color='black', alpha=0.9, yerr=np.sqrt(AKIMENKO.counts), xerr=np.rad2deg(AKIMENKO.angle_low-bin_mids)/1e3, label='Akimenko')\n",
    "\n",
    "\n",
    "# Geant4\n",
    "ax0.errorbar(np.rad2deg(bin_mids)/1e3, hist_data_n_mean_G4_y, fmt='.', yerr=hist_data_n_std_G4_y, xerr=np.rad2deg(AKIMENKO.angle_low-bin_mids)/1e3, color='purple', label=r'Geant4')\n",
    "ax0.errorbar(np.rad2deg(bin_mids)/1e3, hist_data_n_mean_G4_y_2, fmt='.', yerr=hist_data_n_std_G4_y_2, xerr=np.rad2deg(AKIMENKO.angle_low-bin_mids)/1e3, color='red', label=r'Geant4 2')\n",
    "ax0.errorbar(np.rad2deg(bin_mids)/1e3, hist_data_n_mean_G4_y_3, fmt='.', yerr=hist_data_n_std_G4_y_3, xerr=np.rad2deg(AKIMENKO.angle_low-bin_mids)/1e3, color='blue', label=r'Geant4 3')\n",
    "\n",
    "\n",
    "ax0.set_yscale('log')\n",
    "ax0.set_ylabel('Counts')\n",
    "ax0.legend(fontsize=12)\n",
    "ax0.minorticks_on()\n",
    "ax0.set_xlim(-1.2, 1.2)\n",
    "\n",
    "\n",
    "ax1.plot(np.linspace(-1.2, 1.2, 100), np.ones(100), '--', color='grey')\n",
    "ax1.plot(np.rad2deg(bin_mids)/1e3, hist_data_n_mean_G4_y/hist_data_n_mean_G4_y_2, color='red')\n",
    "ax1.plot(np.rad2deg(bin_mids)/1e3, hist_data_n_mean_G4_y/hist_data_n_mean_G4_y_3, color='blue')\n",
    "ax1.set_xlabel(r'$\\theta_{\\mathrm{y}}\\,/\\,$deg')\n",
    "ax1.set_ylabel('MC1/MC2')\n",
    "ax1.set_xlabel(r'$\\theta_{\\mathrm{y}}\\,/\\,$deg')\n",
    "#ax1.set_ylim(0.25, 3)\n",
    "\n",
    "f.tight_layout()\n",
    "f.savefig(plot_dir + 'akimenko_comparison_moliere_E7301MeV_final_multi_mean_deg_ratio_G4_checkPhysicsLists_noData.pdf', bbox_inches='tight')"
   ]
  },
  {
   "cell_type": "markdown",
   "id": "3d09981a-effe-4a0a-b1ed-c7fae75d2a1c",
   "metadata": {
    "tags": []
   },
   "source": [
    "## GEANT4 and MUSIC comparison"
   ]
  },
  {
   "cell_type": "code",
   "execution_count": null,
   "id": "7ce70e6c-4835-4ea7-88c6-4c76bc1f9d22",
   "metadata": {},
   "outputs": [],
   "source": [
    "# Read data\n",
    "df_moliere = pd.read_hdf('data/compare_MUSIC/MUSIC_2TeV_3km_water_final.hdf5')\n",
    "df_highland = pd.read_hdf('data/compare_MUSIC/MUSIC_2TeV_3km_water_final_highland.hdf5')\n",
    "df_GEANT4_moliere = pd.read_hdf('data/compare_MUSIC/MUSIC_2TeV_3km_water_final_GEANT4.hdf5')\n",
    "df_GEANT4_highland = pd.read_hdf('data/compare_MUSIC/MUSIC_2TeV_3km_water_final_GEANT4_highland.hdf5')\n",
    "df_MUSIC = pd.read_csv('data/compare_MUSIC/MUSIC_displacement.csv', sep=';', names=['d_shower', 'counts'], decimal=',')\n",
    "df_GEANT4 = pd.read_csv('data/compare_MUSIC/Geant4_displacement.csv', sep=';', names=['d_shower', 'counts'], decimal=',')\n",
    "df_GEANT4_angle = pd.read_csv('data/compare_MUSIC/GEANT4_angle.csv', sep=';', names=['angle', 'counts'], decimal=',')\n",
    "df_MUSIC_angle = pd.read_csv('data/compare_MUSIC/MUSIC_angle.csv', sep=';', names=['angle', 'counts'], decimal=',')"
   ]
  },
  {
   "cell_type": "code",
   "execution_count": null,
   "id": "3fce5b32-2f1e-41dd-b9b7-eea5ab8b0781",
   "metadata": {},
   "outputs": [],
   "source": [
    "E_i = df_moliere.E_i[0] * 1e3 # in MeV\n",
    "E_f = mode(df_moliere.E_f) * 1e3 # in MeV \n",
    "n_events = len(df_moliere)\n",
    "print('number events: ', n_events)\n",
    "\n",
    "d_shower_moliere = np.sqrt(df_moliere.x_f**2 + df_moliere.y_f**2) / 1e2 # in meter\n",
    "d_shower_GEANT4_moliere = np.sqrt(df_GEANT4_moliere.x_f**2 + df_GEANT4_moliere.y_f**2) / 1e2 # in meter\n",
    "d_shower_highland = np.sqrt(df_highland.x_f**2 + df_highland.y_f**2) / 1e2 # in meter\n",
    "d_shower_GEANT4_highland = np.sqrt(df_GEANT4_highland.x_f**2 + df_GEANT4_highland.y_f**2) / 1e2 # in meter"
   ]
  },
  {
   "cell_type": "code",
   "execution_count": null,
   "id": "a80bdde2-86c2-48fe-ba23-b125bf0aab75",
   "metadata": {},
   "outputs": [],
   "source": [
    "# make combined plot\n",
    "\n",
    "fig, (ax1, ax2) = plt.subplots(1, 2, figsize=[6, 4.5])\n",
    "\n",
    "bins = np.linspace(0, 5, 101)\n",
    "ax1.hist(df_moliere.deflection[df_moliere.distances==3e3], bins=bins, histtype='step', label='PROPOSAL (vG, Molière)')\n",
    "ax1.hist(df_GEANT4_moliere.deflection[df_GEANT4_moliere.distances==3e3], bins=bins, histtype='step', label='PROPOSAL (Geant4, Molière)')\n",
    "ax1.hist(df_highland.deflection[df_highland.distances==3e3], bins=bins, histtype='step', label='PROPOSAL (vG, Highland)')\n",
    "ax1.hist(df_GEANT4_highland.deflection[df_GEANT4_highland.distances==3e3], bins=bins, histtype='step', color=\"pink\", label='PROPOSAL (Geant4, Highland)')\n",
    "\n",
    "ax1.set_yscale('log')\n",
    "ax1.set_xlabel(r'$\\theta_{\\mathrm{acc}}\\,/\\,$°')\n",
    "ax1.set_ylabel('Counts')\n",
    "\n",
    "\n",
    "ax1.plot(df_MUSIC_angle['angle'], df_MUSIC_angle['counts'], color='black', linewidth=0.8, label='MUSIC')\n",
    "ax1.plot(df_GEANT4_angle['angle'], df_GEANT4_angle['counts'], color='red', linewidth=0.8, label='Geant4')\n",
    "\n",
    "\n",
    "\n",
    "bins = np.linspace(0, 20, 101)\n",
    "ax2.hist(d_shower_moliere[df_moliere.distances==3e3], bins=bins, histtype='step') # , label='vG moliere')\n",
    "ax2.hist(d_shower_GEANT4_moliere[df_GEANT4_moliere.distances==3e3], bins=bins, histtype='step') # , label='GEANT4 moliere')\n",
    "ax2.hist(d_shower_highland[df_highland.distances==3e3], bins=bins, histtype='step') # , label='vG highland')\n",
    "ax2.hist(d_shower_GEANT4_highland[df_GEANT4_highland.distances==3e3], bins=bins, color='pink', histtype='step') # , label='GEANT4 highland')\n",
    "\n",
    "ax2.set_yscale('log')\n",
    "ax2.set_xlabel(r'$x\\,/\\,$m') \n",
    "ax2.set_ylabel('Counts')\n",
    "\n",
    "\n",
    "ax2.plot(df_MUSIC['d_shower'], df_MUSIC['counts'], color='black', linewidth=0.8) # , label='MUSIC')\n",
    "ax2.plot(df_GEANT4['d_shower'], df_GEANT4['counts'], color='red', linewidth=0.8) # , label='GEANT4')\n",
    "\n",
    "ax1.legend(loc='lower left', bbox_to_anchor=(-0.05, 1, 2.4, 0.2), ncol=2, mode='expand')      \n",
    "\n",
    "\n",
    "\n",
    "plt.tight_layout()\n",
    "if save_plot:\n",
    "    plt.savefig(plot_dir + '{}_{}events_accumulated_defl_paper_combined.pdf'.format('2TeV', '1e6'), bbox_inches='tight')"
   ]
  },
  {
   "cell_type": "code",
   "execution_count": null,
   "id": "aa0684e6-fbc6-4ebc-b59e-db85ea5b9052",
   "metadata": {},
   "outputs": [],
   "source": [
    "# make combined plot with zoom\n",
    "\n",
    "fig, (ax1, ax2) = plt.subplots(1, 2, figsize=(6, 4.5))\n",
    "\n",
    "bins = np.linspace(0, 5, 101)\n",
    "ax1.hist(df_moliere.deflection[df_moliere.distances==3e3], bins=bins, histtype='step', label='PROPOSAL (vG, MSM)')\n",
    "ax1.hist(df_GEANT4_moliere.deflection[df_GEANT4_moliere.distances==3e3], bins=bins, histtype='step', label=r'PROPOSAL (\\textsc{Geant4}, MSM)')\n",
    "ax1.hist(df_highland.deflection[df_highland.distances==3e3], bins=bins, histtype='step', label='PROPOSAL (vG, MSH)')\n",
    "ax1.hist(df_GEANT4_highland.deflection[df_GEANT4_highland.distances==3e3], bins=bins, histtype='step', color=\"pink\", label=r'PROPOSAL (\\textsc{Geant4}, MSH)')\n",
    "\n",
    "ax1.set_yscale('log')\n",
    "ax1.set_xlabel(r'$\\theta_{\\mathrm{acc}}\\,/\\,$deg')\n",
    "ax1.set_ylabel('Counts')\n",
    "ax1.minorticks_on()\n",
    "\n",
    "ax1.plot(df_MUSIC_angle['angle'], df_MUSIC_angle['counts'], color='black', linewidth=0.8, label='MUSIC')\n",
    "ax1.plot(df_GEANT4_angle['angle'], df_GEANT4_angle['counts'], color='red', linewidth=0.8, label=r'\\textsc{Geant4}')\n",
    "\n",
    "\n",
    "\n",
    "bins = np.linspace(0, 20, 101)\n",
    "ax2.hist(d_shower_moliere[df_moliere.distances==3e3], bins=bins, histtype='step') # , label='vG moliere')\n",
    "ax2.hist(d_shower_GEANT4_moliere[df_GEANT4_moliere.distances==3e3], bins=bins, histtype='step') # , label='GEANT4 moliere')\n",
    "ax2.hist(d_shower_highland[df_highland.distances==3e3], bins=bins, histtype='step') # , label='vG highland')\n",
    "ax2.hist(d_shower_GEANT4_highland[df_GEANT4_highland.distances==3e3], bins=bins, color='pink', histtype='step') # , label='GEANT4 highland')\n",
    "\n",
    "ax2.set_yscale('log')\n",
    "ax2.set_xlabel(r'$x\\,/\\,$m') \n",
    "# ax2.set_ylabel('counts')\n",
    "ax2.set_ylim(0.6, None)\n",
    "ax2.minorticks_on()\n",
    "\n",
    "ax2.plot(df_MUSIC['d_shower'], df_MUSIC['counts'], color='black', linewidth=0.8) # , label='MUSIC')\n",
    "ax2.plot(df_GEANT4['d_shower'], df_GEANT4['counts'], color='red', linewidth=0.8) # , label='GEANT4')\n",
    "\n",
    "ax1.legend(loc='lower left', bbox_to_anchor=(-0.19, 1, 2.45, 0.2), ncol=2, mode='expand')      \n",
    "\n",
    "\n",
    "# axins = inset_axes(ax2, loc=\"upper left\", width=1, height=1.2, bbox_to_anchor=[-1, 38], bbox_transform=ax2.transData, borderpad=0)\n",
    "axins = inset_axes(ax2, loc=\"lower left\", width=1, height=1.2, bbox_to_anchor=[-1, 0.6], bbox_transform=ax2.transData, borderpad=0)\n",
    "axins.plot(df_MUSIC['d_shower'], df_MUSIC['counts'], color='black', linewidth=0.8)\n",
    "axins.plot(df_GEANT4['d_shower'], df_GEANT4['counts'], color='red', linewidth=0.8) \n",
    "axins.hist(d_shower_moliere[df_moliere.distances==3e3], bins=bins, histtype='step')\n",
    "axins.hist(d_shower_GEANT4_moliere[df_GEANT4_moliere.distances==3e3], bins=bins, histtype='step') \n",
    "axins.hist(d_shower_highland[df_highland.distances==3e3], bins=bins, histtype='step')\n",
    "axins.hist(d_shower_GEANT4_highland[df_GEANT4_highland.distances==3e3], bins=bins, color='pink', histtype='step')\n",
    "axins.set_yscale('log')\n",
    "axins.set_xlim(0, 4)\n",
    "axins.set_ylim(2.8e4, 5.2e4)\n",
    "axins.set_yticks([3e4, 4e4, 5e4])\n",
    "axins.set_yticklabels([r'$3\\cdot 10^{4}$', r'$4\\cdot 10^{4}$', ''], rotation=-10)\n",
    "# axins.set_yticks([3e4, 4e4, 5e4])\n",
    "# axins.set_yticklabels(['3e4', '4e4', '5e4'], rotation=-40)\n",
    "axins.set_xticks([1, 2, 3])\n",
    "axins.yaxis.tick_right()\n",
    "axins.xaxis.tick_top()\n",
    "axins.xaxis.set_tick_params(labelsize=8)\n",
    "axins.yaxis.set_tick_params(labelsize=8)\n",
    "\n",
    "\n",
    "\n",
    "\n",
    "# plt.tight_layout()\n",
    "if save_plot:\n",
    "    plt.savefig(plot_dir + '{}_{}events_accumulated_defl_paper_combined_zoom.pdf'.format('2TeV', '1e6'), bbox_inches='tight')"
   ]
  },
  {
   "cell_type": "code",
   "execution_count": null,
   "id": "d3ae9ab2-b27e-4bdd-af1f-5bade23e8694",
   "metadata": {},
   "outputs": [],
   "source": [
    "# survival probability with E_f = 10 MeV (muon mass)\n",
    "surv_proposal_moliere = np.round(len(df_moliere[df_moliere.distances==3e3]) / len(df_moliere), 3)\n",
    "surv_proposal_highland = np.round(len(df_highland[df_highland.distances==3e3]) / len(df_highland), 3)\n",
    "surv_music = 0.779\n",
    "surv_geant4 = 0.793\n",
    "print('--- survival probability:')\n",
    "print('proposal moliere: ', surv_proposal_moliere)\n",
    "print('proposal highland: ', surv_proposal_highland)\n",
    "print('music: ', surv_music)\n",
    "print('geant4: ', surv_geant4)\n",
    "\n",
    "# mean scattered angle in degree\n",
    "mean_angle_proposal_moliere = np.round(np.mean(df_moliere.deflection[df_moliere.distances==3e3]), 2)\n",
    "mean_angle_proposal_GEANT4_moliere = np.round(np.mean(df_GEANT4_moliere.deflection[df_GEANT4_moliere.distances==3e3]), 2)\n",
    "mean_angle_proposal_highland = np.round(np.mean(df_highland.deflection[df_highland.distances==3e3]), 2)\n",
    "mean_angle_proposal_GEANT4_highland = np.round(np.mean(df_GEANT4_highland.deflection[df_GEANT4_highland.distances==3e3]), 2)\n",
    "mean_angle_music = 0.22 \n",
    "mean_angle_geant4 = 0.27\n",
    "print('\\n--- mean scattered angel in degree:')\n",
    "print('proposal vG moliere: ', mean_angle_proposal_moliere, ' ± ', np.round(np.std(df_moliere.deflection[df_moliere.distances==3e3]), 2))\n",
    "print('proposal GEANT4 moliere: ', mean_angle_proposal_GEANT4_moliere, ' ± ', np.round(np.std(df_GEANT4_moliere.deflection[df_GEANT4_moliere.distances==3e3]), 2))\n",
    "print('proposal vG highland: ', mean_angle_proposal_highland, ' ± ', np.round(np.std(df_highland.deflection[df_highland.distances==3e3]), 2))\n",
    "print('proposal GEANT4 highland: ', mean_angle_proposal_GEANT4_highland, ' ± ', np.round(np.std(df_GEANT4_highland.deflection[df_GEANT4_highland.distances==3e3]), 2))\n",
    "print('music: ', mean_angle_music)\n",
    "print('geant4: ', mean_angle_geant4)\n",
    "\n",
    "# mean survived energy in GeV\n",
    "mean_energy_proposal_moliere = np.round(np.mean(df_moliere.E_f[df_moliere.distances==3e3]), 0)\n",
    "mean_energy_proposal_highland = np.round(np.mean(df_highland.E_f[df_highland.distances==3e3]), 0)\n",
    "mean_energy_music = 323 \n",
    "mean_energy_geant4 = 317\n",
    "print('\\n--- mean survived energy in GeV:')\n",
    "print('proposal moliere: ', mean_energy_proposal_moliere, ' ± ', np.round(np.std(df_moliere.E_f[df_moliere.distances==3e3]), 0))\n",
    "print('proposal highland: ', mean_energy_proposal_highland, ' ± ', np.round(np.std(df_highland.E_f[df_highland.distances==3e3]), 0))\n",
    "print('music: ', mean_energy_music)\n",
    "print('geant4: ', mean_energy_geant4)\n",
    "\n",
    "# mean shower axis distance in meter\n",
    "mean_dist_proposal_moliere = np.round(np.mean(d_shower_moliere[df_moliere.distances==3e3]), 1)\n",
    "mean_dist_proposal_GEANT4_moliere = np.round(np.mean(d_shower_GEANT4_moliere[df_GEANT4_moliere.distances==3e3]), 1)\n",
    "mean_dist_proposal_highland = np.round(np.mean(d_shower_highland[df_highland.distances==3e3]), 1)\n",
    "mean_dist_proposal_GEANT4_highland = np.round(np.mean(d_shower_GEANT4_highland[df_GEANT4_highland.distances==3e3]), 1)\n",
    "mean_dist_music = 2.6\n",
    "mean_dist_geant4 = 3.3\n",
    "print('\\n--- mean distance to shower axis in meter:')\n",
    "print('proposal vG moliere: ', mean_dist_proposal_moliere, ' ± ', np.round(np.std(d_shower_moliere[df_moliere.distances==3e3]), 1))\n",
    "print('proposal GEANT4 moliere: ', mean_dist_proposal_GEANT4_moliere, ' ± ', np.round(np.std(d_shower_GEANT4_moliere[df_GEANT4_moliere.distances==3e3]), 1))\n",
    "print('proposal vG highland: ', mean_dist_proposal_highland, ' ± ', np.round(np.std(d_shower_highland[df_highland.distances==3e3]), 1))\n",
    "print('proposal GEANT4 highland: ', mean_dist_proposal_GEANT4_highland, ' ± ', np.round(np.std(d_shower_GEANT4_highland[df_GEANT4_highland.distances==3e3]), 1))\n",
    "print('music: ', mean_dist_music)\n",
    "print('geant4: ', mean_dist_geant4)"
   ]
  },
  {
   "cell_type": "markdown",
   "id": "b6be2c5a-ffff-4a5f-a78a-1e972857afeb",
   "metadata": {},
   "source": [
    "## Accumulated deflection fit"
   ]
  },
  {
   "cell_type": "code",
   "execution_count": 83,
   "id": "f89ffcde-d3c6-41c8-9f44-516bf27391aa",
   "metadata": {},
   "outputs": [
    {
     "name": "stdout",
     "output_type": "stream",
     "text": [
      "dict_keys(['df_14', 'df_13', 'df_10', 'df_09', 'df_04', 'df_08', 'df_03', 'df_07', 'df_02', 'df_06', 'df_01', 'df_05', 'df_11', 'df_12'])\n",
      "dict_keys(['df_12', 'df_11', 'df_10', 'df_09', 'df_04', 'df_08', 'df_03', 'df_07', 'df_02', 'df_06', 'df_01', 'df_05'])\n",
      "dict_keys(['df_10', 'df_01', 'df_09', 'df_08', 'df_04', 'df_07', 'df_03', 'df_06', 'df_02', 'df_05'])\n",
      "dict_keys(['df_01', 'df_02', 'df_08', 'df_07', 'df_04', 'df_06', 'df_03', 'df_05'])\n"
     ]
    }
   ],
   "source": [
    "# Read data E_i = 10 PeV\n",
    "df_dict_unsorted = {}\n",
    "path = 'data/total_defl_combined_moliere_10PeV/'\n",
    "for i, hdf in enumerate(sorted(os.listdir(path))):\n",
    "    df = pd.read_hdf(path + hdf, key='seed_3')\n",
    "    df_dict_unsorted['df_%02d' %(i+1)] = df\n",
    "E_f_unsorted = [mode(df_dict_unsorted[df].E_f) for df in df_dict_unsorted]\n",
    "df_dict_10P = {}\n",
    "for df in [x for _, x in sorted(zip(E_f_unsorted, df_dict_unsorted.keys()))]:\n",
    "    df_dict_10P[df] = df_dict_unsorted[df]\n",
    "print(df_dict_10P.keys())\n",
    "E_f_10P = sorted(E_f_unsorted)\n",
    "\n",
    "# Read data E_i = 1 PeV\n",
    "df_dict_unsorted = {}\n",
    "path = 'data/total_defl_combined_moliere_1PeV/'\n",
    "for i, hdf in enumerate(sorted(os.listdir(path))):\n",
    "    df = pd.read_hdf(path + hdf, key='seed_3')\n",
    "    df_dict_unsorted['df_%02d' %(i+1)] = df    \n",
    "E_f_unsorted = [mode(df_dict_unsorted[df].E_f) for df in df_dict_unsorted]\n",
    "df_dict = {}\n",
    "for df in [x for _, x in sorted(zip(E_f_unsorted, df_dict_unsorted.keys()))]:\n",
    "    df_dict[df] = df_dict_unsorted[df]\n",
    "print(df_dict.keys())\n",
    "E_f = sorted(E_f_unsorted)\n",
    "\n",
    "# Read data E_i = 100 TeV\n",
    "df_dict_unsorted = {}\n",
    "path = 'data/total_defl_combined_moliere_100TeV/'\n",
    "for i, hdf in enumerate(sorted(os.listdir(path))):\n",
    "    df = pd.read_hdf(path + hdf, key='seed_3')\n",
    "    df_dict_unsorted['df_%02d' %(i+1)] = df\n",
    "E_f_unsorted = [mode(df_dict_unsorted[df].E_f) for df in df_dict_unsorted]\n",
    "df_dict_100 = {}\n",
    "for df in [x for _, x in sorted(zip(E_f_unsorted, df_dict_unsorted.keys()))]:\n",
    "    df_dict_100[df] = df_dict_unsorted[df]\n",
    "print(df_dict_100.keys())\n",
    "E_f_100 = sorted(E_f_unsorted)\n",
    "\n",
    "# Read data E_i = 10 TeV\n",
    "df_dict_unsorted = {}\n",
    "path = 'data/total_defl_combined_moliere_10TeV/'\n",
    "for i, hdf in enumerate(sorted(os.listdir(path))):\n",
    "    df = pd.read_hdf(path + hdf, key='seed_3')\n",
    "    df_dict_unsorted['df_%02d' %(i+1)] = df \n",
    "E_f_unsorted = [mode(df_dict_unsorted[df].E_f) for df in df_dict_unsorted]\n",
    "df_dict_10 = {}\n",
    "for df in [x for _, x in sorted(zip(E_f_unsorted, df_dict_unsorted.keys()))]:\n",
    "    df_dict_10[df] = df_dict_unsorted[df]\n",
    "print(df_dict_10.keys())\n",
    "E_f_10 = sorted(E_f_unsorted)"
   ]
  },
  {
   "cell_type": "code",
   "execution_count": 84,
   "id": "303d5743-c264-40c6-918b-424cca08e845",
   "metadata": {},
   "outputs": [
    {
     "name": "stdout",
     "output_type": "stream",
     "text": [
      "10.0\n",
      "500.0\n"
     ]
    },
    {
     "data": {
      "image/png": "[encoded data removed]",
      "text/plain": [
       "<Figure size 432x288 with 1 Axes>"
      ]
     },
     "metadata": {
      "needs_background": "light"
     },
     "output_type": "display_data"
    }
   ],
   "source": [
    "bins = np.logspace(-3, 2, 100)\n",
    "plt.hist(df_dict_10P['df_10'].deflection, bins=bins, histtype='step', label=r'E\\_i = 10 PeV')\n",
    "plt.hist(df_dict['df_10'].deflection, bins=bins, histtype='step', label=r'E\\_i = 1 PeV')\n",
    "plt.hist(df_dict_100['df_08'].deflection, bins=bins, histtype='step', label=r'E\\_i = 100 TeV')\n",
    "plt.hist(df_dict_10['df_06'].deflection, bins=bins, histtype='step', label=r'E\\_i = 10 TeV')\n",
    "plt.xlabel('deflection in degree')\n",
    "plt.ylabel('counts')\n",
    "plt.xscale('log')\n",
    "plt.yscale('log')\n",
    "plt.title(r'E\\_f = 10 GeV')\n",
    "plt.legend()\n",
    "print(mode(df_dict_10P['df_10'].E_f))\n",
    "print(mode(df_dict_10['df_06'].E_f))"
   ]
  },
  {
   "cell_type": "code",
   "execution_count": 85,
   "id": "46fbf143-9f60-4da2-a70e-28309b5520e7",
   "metadata": {},
   "outputs": [
    {
     "data": {
      "text/plain": [
       "<matplotlib.legend.Legend at 0x7fda88db5128>"
      ]
     },
     "execution_count": 85,
     "metadata": {},
     "output_type": "execute_result"
    },
    {
     "data": {
      "image/png": "[encoded data removed]",
      "text/plain": [
       "<Figure size 432x288 with 1 Axes>"
      ]
     },
     "metadata": {
      "needs_background": "light"
     },
     "output_type": "display_data"
    }
   ],
   "source": [
    "bins = np.logspace(-5, 2, 100)\n",
    "plt.hist(df_dict_10P['df_03'].deflection, bins=bins, histtype='step', label=r'E\\_i = 10 PeV')\n",
    "plt.hist(df_dict['df_03'].deflection, bins=bins, histtype='step', label=r'E\\_i = 1 PeV')\n",
    "plt.hist(df_dict_100['df_02'].deflection, bins=bins, histtype='step', label=r'E\\_i = 100 TeV')\n",
    "plt.hist(df_dict_10['df_01'].deflection, bins=bins, histtype='step', label=r'E\\_i = 10 TeV')\n",
    "plt.xlabel('deflection in degree')\n",
    "plt.ylabel('counts')\n",
    "plt.xscale('log')\n",
    "plt.yscale('log')\n",
    "plt.title(r'E\\_f = 1 TeV')\n",
    "plt.legend()"
   ]
  },
  {
   "cell_type": "code",
   "execution_count": 86,
   "id": "9a51c740-3d37-4407-a833-5e5527f9cd00",
   "metadata": {},
   "outputs": [
    {
     "name": "stdout",
     "output_type": "stream",
     "text": [
      "df_14 10000000.0 1.0 95000 94942 0.9895894736842106 0.9993894736842105 1001.0\n",
      "df_13 10000000.0 5.0 95000 93946 0.9504 0.9889052631578947 1011.0\n",
      "df_10 10000000.0 10.0 55000 53579 0.9276181818181818 0.9741636363636363 1027.0\n",
      "df_09 10000000.0 50.0 55000 50969 0.8173636363636364 0.9267090909090909 1079.0\n",
      "df_04 10000000.0 100.0 57500 51418 0.7472869565217392 0.8942260869565217 1118.0\n",
      "df_08 10000000.0 500.0 65000 50406 0.48624615384615383 0.7754769230769231 1290.0\n",
      "df_03 10000000.0 1000.0 72500 51536 0.34355862068965515 0.7108413793103449 1407.0\n",
      "df_07 10000000.0 5000.0 85000 51362 0.10603529411764706 0.6042588235294117 1655.0\n",
      "df_02 10000000.0 10000.0 87500 50512 0.05739428571428572 0.57728 1732.0\n",
      "df_06 10000000.0 50000.0 142500 78654 0.012063157894736842 0.5519578947368421 1812.0\n",
      "df_01 10000000.0 100000.0 92500 50343 0.006054054054054054 0.5442486486486486 1837.0\n",
      "df_05 10000000.0 500000.0 92500 49829 0.001081081081081081 0.5386918918918919 1856.0\n",
      "df_11 10000000.0 1000000.0 95000 50605 0.0007157894736842105 0.5326842105263158 1877.0\n",
      "df_12 10000000.0 5000000.0 95000 55076 0.00016842105263157895 0.5797473684210527 1725.0\n",
      "df_12 1000000.0 1.0 55000 54967 0.9898 0.9994 1001.0\n",
      "df_11 1000000.0 5.0 55000 54366 0.9500909090909091 0.9884727272727273 1012.0\n",
      "df_10 1000000.0 10.0 55000 53620 0.9294545454545454 0.974909090909091 1026.0\n",
      "df_09 1000000.0 50.0 55000 51079 0.8173818181818182 0.9287090909090909 1077.0\n",
      "df_04 1000000.0 100.0 57500 51570 0.7492347826086957 0.8968695652173913 1115.0\n",
      "df_08 1000000.0 500.0 65000 50409 0.48427692307692305 0.7755230769230769 1289.0\n",
      "df_03 1000000.0 1000.0 72500 51487 0.34398620689655174 0.7101655172413793 1408.0\n",
      "df_07 1000000.0 5000.0 85000 51149 0.10428235294117646 0.6017529411764706 1662.0\n",
      "df_02 1000000.0 10000.0 87500 50578 0.05744 0.5780342857142857 1730.0\n",
      "df_06 1000000.0 50000.0 142500 78239 0.012 0.5490456140350877 1821.0\n",
      "df_01 1000000.0 100000.0 92500 50819 0.0057621621621621625 0.5493945945945946 1820.0\n",
      "df_05 1000000.0 500000.0 92500 54995 0.0014162162162162162 0.5945405405405405 1682.0\n",
      "df_10 100000.0 1.0 87500 87458 0.9897714285714285 0.99952 1000.0\n",
      "df_01 100000.0 5.0 87500 86478 0.9496 0.98832 1012.0\n",
      "df_09 100000.0 10.0 55000 53596 0.9272727272727272 0.9744727272727273 1026.0\n",
      "df_08 100000.0 50.0 55000 51105 0.8162181818181818 0.9291818181818182 1076.0\n",
      "df_04 100000.0 100.0 57500 51625 0.7500695652173913 0.8978260869565218 1114.0\n",
      "df_07 100000.0 500.0 65000 50337 0.48638461538461536 0.7744153846153846 1291.0\n",
      "df_03 100000.0 1000.0 72500 51584 0.34209655172413794 0.7115034482758621 1405.0\n",
      "df_06 100000.0 5000.0 85000 51193 0.10542352941176471 0.6022705882352941 1660.0\n",
      "df_02 100000.0 10000.0 87500 50713 0.05597714285714286 0.5795771428571429 1725.0\n",
      "df_05 100000.0 50000.0 142500 87406 0.013782456140350877 0.6133754385964912 1630.0\n",
      "df_01 10000.0 1.0 72500 72452 0.9894068965517241 0.9993379310344828 1001.0\n",
      "df_02 10000.0 5.0 72500 71687 0.950551724137931 0.9887862068965517 1011.0\n",
      "df_08 10000.0 10.0 55000 53643 0.9290363636363637 0.9753272727272727 1025.0\n",
      "df_07 10000.0 50.0 55000 51036 0.8165636363636364 0.9279272727272727 1078.0\n",
      "df_04 10000.0 100.0 57500 51605 0.751495652173913 0.8974782608695652 1114.0\n",
      "df_06 10000.0 500.0 65000 50459 0.4881076923076923 0.7762923076923077 1288.0\n",
      "df_03 10000.0 1000.0 72500 51602 0.34172413793103446 0.7117517241379311 1405.0\n",
      "df_05 10000.0 5000.0 85000 56814 0.11855294117647058 0.6684 1496.0\n"
     ]
    }
   ],
   "source": [
    "# 10% cut of E_min\n",
    "\n",
    "mi = 0.9\n",
    "quantile_low = 0.005 # 0.025\n",
    "quantile_high = 0.995 # 0.975\n",
    "\n",
    "# E_i = 10 PeV\n",
    "deflection_median_10P_cut_10 = []\n",
    "deflection_median_lower_10P_cut_10 = [] \n",
    "deflection_median_upper_10P_cut_10 = []\n",
    "for i,d in enumerate(df_dict_10P):\n",
    "    df = df_dict_10P[d]\n",
    "    print(d, df.E_i[0], mode(df.E_f), len(df), len(df[df.E_f > mode(df.E_f) * mi]), len(df[df.E_f == mode(df.E_f)])/len(df), len(df[df.E_f > mode(df.E_f) * mi])/len(df), np.round(1000/(len(df[df.E_f > mode(df.E_f) * mi])/len(df)))) \n",
    "    deflection_median_10P_cut_10.append(np.median(df.deflection[df.E_f > mode(df.E_f) * mi]))\n",
    "    deflection_median_lower_10P_cut_10.append(np.median(df.deflection[df.E_f > mode(df.E_f) * mi]) - np.quantile(df.deflection[df.E_f > mode(df.E_f) * mi], quantile_low)) \n",
    "    deflection_median_upper_10P_cut_10.append(np.quantile(df.deflection[df.E_f > mode(df.E_f) * mi], quantile_high) - np.median(df.deflection[df.E_f > mode(df.E_f) * mi]))\n",
    "\n",
    "# E_i = 1 PeV    \n",
    "deflection_median_1P_cut_10 = []\n",
    "deflection_median_lower_1P_cut_10 = [] \n",
    "deflection_median_upper_1P_cut_10 = []\n",
    "for d in df_dict:\n",
    "    df = df_dict[d]\n",
    "    print(d, df.E_i[0], mode(df.E_f), len(df), len(df[df.E_f > mode(df.E_f) * mi]), len(df[df.E_f == mode(df.E_f)])/len(df), len(df[df.E_f > mode(df.E_f) * mi])/len(df), np.round(1000/(len(df[df.E_f > mode(df.E_f) * mi])/len(df))))\n",
    "    deflection_median_1P_cut_10.append(np.median(df.deflection[df.E_f > mode(df.E_f) * mi]))\n",
    "    deflection_median_lower_1P_cut_10.append(np.median(df.deflection[df.E_f > mode(df.E_f) * mi]) - np.quantile(df.deflection[df.E_f > mode(df.E_f) * mi], quantile_low)) \n",
    "    deflection_median_upper_1P_cut_10.append(np.quantile(df.deflection[df.E_f > mode(df.E_f) * mi], quantile_high) - np.median(df.deflection[df.E_f > mode(df.E_f) * mi]))\n",
    "    \n",
    "# E_i = 100 TeV\n",
    "deflection_median_100_cut_10 = []\n",
    "deflection_median_lower_100_cut_10 = [] \n",
    "deflection_median_upper_100_cut_10 = []\n",
    "for d in df_dict_100:\n",
    "    df = df_dict_100[d]\n",
    "    print(d, df.E_i[0], mode(df.E_f), len(df), len(df[df.E_f > mode(df.E_f) * mi]), len(df[df.E_f == mode(df.E_f)])/len(df), len(df[df.E_f > mode(df.E_f) * mi])/len(df), np.round(1000/(len(df[df.E_f > mode(df.E_f) * mi])/len(df))))\n",
    "    deflection_median_100_cut_10.append(np.median(df.deflection[df.E_f > mode(df.E_f) * mi]))\n",
    "    deflection_median_lower_100_cut_10.append(np.median(df.deflection[df.E_f > mode(df.E_f) * mi]) - np.quantile(df.deflection[df.E_f > mode(df.E_f) * mi], quantile_low)) \n",
    "    deflection_median_upper_100_cut_10.append(np.quantile(df.deflection[df.E_f > mode(df.E_f) * mi], quantile_high) - np.median(df.deflection[df.E_f > mode(df.E_f) * mi]))\n",
    "\n",
    "# E_i = 10 TeV    \n",
    "deflection_median_10_cut_10 = []\n",
    "deflection_median_lower_10_cut_10 = [] \n",
    "deflection_median_upper_10_cut_10 = []\n",
    "for d in df_dict_10:\n",
    "    df = df_dict_10[d]\n",
    "    print(d, df.E_i[0], mode(df.E_f), len(df), len(df[df.E_f > mode(df.E_f) * mi]), len(df[df.E_f == mode(df.E_f)])/len(df), len(df[df.E_f > mode(df.E_f) * mi])/len(df), np.round(1000/(len(df[df.E_f > mode(df.E_f) * mi])/len(df))))\n",
    "    deflection_median_10_cut_10.append(np.median(df.deflection[df.E_f > mode(df.E_f) * mi]))\n",
    "    deflection_median_lower_10_cut_10.append(np.median(df.deflection[df.E_f > mode(df.E_f) * mi]) - np.quantile(df.deflection[df.E_f > mode(df.E_f) * mi], quantile_low)) \n",
    "    deflection_median_upper_10_cut_10.append(np.quantile(df.deflection[df.E_f > mode(df.E_f) * mi], quantile_high) - np.median(df.deflection[df.E_f > mode(df.E_f) * mi]))"
   ]
  },
  {
   "cell_type": "code",
   "execution_count": 87,
   "id": "632b4214-6a87-46a1-a699-455dfb254685",
   "metadata": {},
   "outputs": [
    {
     "data": {
      "image/png": "[encoded data removed]",
      "text/plain": [
       "<Figure size 432x288 with 1 Axes>"
      ]
     },
     "metadata": {
      "needs_background": "light"
     },
     "output_type": "display_data"
    }
   ],
   "source": [
    "# Neutrino Review Paper Fig. 10\n",
    "df_y = pd.read_hdf('data/y_data.hdf5')\n",
    "# y: energy transfer to nucleus --> (1-y) energy transfer to muon, E_mu = (1-y) * E_nu\n",
    "spl_nu = UnivariateSpline(df_y.neutrino_energy, df_y.exp_y_simps, s=0)\n",
    "plt.plot(df_y.neutrino_energy, spl_nu(df_y.neutrino_energy), color='orange', label=r'$\\nu$ Spline')\n",
    "\n",
    "spl_nu_bar = UnivariateSpline(df_y.neutrino_energy, df_y.exp_y_bar_simps, s=0)\n",
    "plt.plot(df_y.neutrino_energy, spl_nu_bar(df_y.neutrino_energy), color='blue', label=r'$\\bar{\\nu}$ Spline')\n",
    "\n",
    "\n",
    "plt.plot(df_y.neutrino_energy[::5], df_y.exp_y_simps[::5], 'x', color='orange', label=r'$\\nu \\ \\mathrm{CC}$')\n",
    "plt.plot(df_y.neutrino_energy[::5], df_y.exp_y_bar_simps[::5], 'x', color='blue', label=r'$\\bar{\\nu} \\ \\mathrm{CC}$')\n",
    "plt.xscale('log')\n",
    "plt.xlabel(r'$E_\\nu$ [GeV]')\n",
    "plt.ylabel(r'Expected $y$')\n",
    "plt.ylim(0., 0.6)\n",
    "plt.xlim(1e2, 1e12)\n",
    "plt.legend()\n",
    "if save_plot:\n",
    "    plt.savefig(plot_dir + 'expected_y.pdf')"
   ]
  },
  {
   "cell_type": "code",
   "execution_count": 88,
   "id": "9cb69205-86de-4000-b8c5-ec74415caed6",
   "metadata": {},
   "outputs": [
    {
     "name": "stdout",
     "output_type": "stream",
     "text": [
      "poly params:  [ 0.01755369 -0.23276124  0.09293859  0.07262962] , errors:  [0.00181377 0.0185254  0.05273772 0.04044082]\n"
     ]
    },
    {
     "data": {
      "image/png": "[encoded data removed]",
      "text/plain": [
       "<Figure size 432x288 with 1 Axes>"
      ]
     },
     "metadata": {
      "needs_background": "light"
     },
     "output_type": "display_data"
    }
   ],
   "source": [
    "### fit deflection medians\n",
    "x = np.logspace(0.1, 7, 1000)\n",
    "\n",
    "interval = str(int((quantile_high - quantile_low)*100))\n",
    "\n",
    "# E_i = 10 PeV\n",
    "plt.errorbar(E_f_10P, deflection_median_10P_cut_10, yerr=(deflection_median_lower_10P_cut_10, deflection_median_upper_10P_cut_10), fmt='.', color='orange', alpha=0.5, label=r'median$\\;|\\;'+interval+'\\,\\%$ CI, $E_\\mathrm{i} = 10\\,$PeV')\n",
    "plt.fill_between(E_f_10P, np.array(deflection_median_10P_cut_10)-np.array(deflection_median_lower_10P_cut_10), np.array(deflection_median_10P_cut_10) + np.array(deflection_median_upper_10P_cut_10), alpha=0.1, color='orange')\n",
    "# E_i = 1 PeV\n",
    "plt.errorbar(E_f, deflection_median_1P_cut_10, yerr=(deflection_median_lower_1P_cut_10, deflection_median_upper_1P_cut_10), fmt='.', color='yellow', alpha=0.5, label=r'median$\\;|\\;'+interval+'\\,\\%$ CI, $E_\\mathrm{i} = 1\\,$PeV')\n",
    "plt.fill_between(E_f, np.array(deflection_median_1P_cut_10)-np.array(deflection_median_lower_1P_cut_10), np.array(deflection_median_1P_cut_10) + np.array(deflection_median_upper_1P_cut_10), alpha=0.1, color='yellow')\n",
    "# E_i = 100 TeV\n",
    "plt.errorbar(E_f_100, deflection_median_100_cut_10, yerr=(deflection_median_lower_100_cut_10, deflection_median_upper_100_cut_10), fmt='.', color='red', alpha=0.5, label=r'median$\\;|\\;'+interval+'\\,\\%$ CI, $E_\\mathrm{i} = 100\\,$TeV')\n",
    "plt.fill_between(E_f_100, np.array(deflection_median_100_cut_10)-np.array(deflection_median_lower_100_cut_10), np.array(deflection_median_100_cut_10) + np.array(deflection_median_upper_100_cut_10), alpha=0.1, color='red')\n",
    "# E_i = 10 TeV\n",
    "plt.errorbar(E_f_10, deflection_median_10_cut_10, yerr=(deflection_median_lower_10_cut_10, deflection_median_upper_10_cut_10), fmt='.', color='green', alpha=0.8, label=r'median$\\;|\\;'+interval+'\\,\\%$ CI, $E_\\mathrm{i} = 10\\,$TeV')\n",
    "plt.fill_between(E_f_10, np.array(deflection_median_10_cut_10)-np.array(deflection_median_lower_10_cut_10), np.array(deflection_median_10_cut_10) + np.array(deflection_median_upper_10_cut_10), alpha=0.1, color='green')\n",
    "\n",
    "###### comparison to current neutrino telescopes ##########  \n",
    "ARCA = pd.read_csv('angular_resolution/ARCA.csv', sep=';', decimal=',', names=['E', 'theta'])\n",
    "ARCA_high = pd.read_csv('angular_resolution/ARCA_high.csv', sep=';', decimal=',', names=['E', 'theta'])\n",
    "ARCA_low = pd.read_csv('angular_resolution/ARCA_low.csv', sep=';', decimal=',', names=['E', 'theta'])\n",
    "\n",
    "# rescale neutrino energy to muon energy\n",
    "def rescale_neutrino_E_to_muon_E(x, splines=None, no_rescale=False):\n",
    "    if not no_rescale:    \n",
    "        if splines == None:\n",
    "            # naive rescale\n",
    "            return x * 0.8\n",
    "        else:\n",
    "            return (1 - splines(x)) * x\n",
    "    else:\n",
    "        print('no rescale')\n",
    "        return x\n",
    "    \n",
    "    \n",
    "# IceCube 2021, https://arxiv.org/abs/2103.16931 (median angular resolution of muon reconstruction as function of\n",
    "# muon energy)\n",
    "IceCube_median_error_E = [3154.6222956675642, 31393.67119012529, 318535.5398366218, 3139367.1190125225]\n",
    "IceCube_median_error_theta = [0.3132923103706559, 0.23583164894478967, 0.1696125188412025, 0.147416292664677]\n",
    "plt.plot(IceCube_median_error_E, IceCube_median_error_theta, '-', color='cyan', label='IceCube Abbasi et al. 2021')\n",
    "\n",
    "# ARCA 2021 2107.13050 (angular resolution as function of neutrino energy) preliminary\n",
    "plt.plot(rescale_neutrino_E_to_muon_E(10**ARCA.E, splines=spl_nu), 10**ARCA.theta, '-', color='blue', label='ARCA preliminary (rescale)')\n",
    "plt.fill_between(rescale_neutrino_E_to_muon_E(10**ARCA_low.E, splines=spl_nu), 10**ARCA_low.theta, 10**ARCA_high.theta, alpha=0.2, color='blue')\n",
    "\n",
    "# kinematic angle read from KM3NeT 2016\n",
    "# kinematic_angle = pd.read_csv('data/kinematic_muon_neutrino_angle_KM3NeT.csv', sep=';', decimal=',', names=['E', 'theta'])\n",
    "# plt.plot(rescale_neutrino_E_to_muon_E(kinematic_angle.E, splines=spl_nu), kinematic_angle.theta, '.', label=r'$\\mu$ -- $\\nu$ kinematic angle (rescale)') # scattering angle KM3NeT')\n",
    "\n",
    "# kinematic anlge reade from KM3NeT/ARCA 2021\n",
    "kinematic_angle_low = pd.read_csv('data/mu_nu_kinematic_ARCA_2021/Low.csv', sep=';', decimal=',', names=['E', 'theta'])\n",
    "kinematic_angle_mid = pd.read_csv('data/mu_nu_kinematic_ARCA_2021/mid.csv', sep=';', decimal=',', names=['E', 'theta'])\n",
    "kinematic_angle_high = pd.read_csv('data/mu_nu_kinematic_ARCA_2021/High.csv', sep=';', decimal=',', names=['E', 'theta'])\n",
    "plt.plot(rescale_neutrino_E_to_muon_E(10**kinematic_angle_mid.E, splines=spl_nu), 10**kinematic_angle_mid.theta, '-.', color='black', alpha=0.3, label=r'$\\mu$ -- $\\nu$ kinematic angle (rescale)') # scattering angle KM3NeT')\n",
    "# plt.fill_between(rescale_neutrino_E_to_muon_E(10**kinematic_angle_low.E, splines=spl_nu), 10**kinematic_angle_low.theta, 10**kinematic_angle_high.theta[:-2], alpha=0.2, color='black')\n",
    "plt.fill(np.append(rescale_neutrino_E_to_muon_E(10**kinematic_angle_low.E, splines=spl_nu), rescale_neutrino_E_to_muon_E(10**kinematic_angle_high.E, splines=spl_nu)[::-1]), \n",
    "         np.append(10**kinematic_angle_low.theta, 10**kinematic_angle_high.theta[::-1]), \n",
    "         alpha=0.2, color='black')\n",
    "\n",
    "\n",
    "# polynom fit\n",
    "def poly(x, a, b, c, d):\n",
    "    return a * x**3 + b * x**2 + c * x + d\n",
    "\n",
    "# E_i = 10 PeV\n",
    "params, cov = curve_fit(poly, np.log10(E_f_10P), np.log10(deflection_median_10P_cut_10))\n",
    "errors = np.sqrt(np.diag(cov))\n",
    "print('poly params: ', params, ', errors: ', errors)\n",
    "x = np.logspace(-0.1, 6.8, 1000)\n",
    "plt.plot(x, np.power(10, poly(np.log10(x), *params)), '--', color='orange', alpha=1, label='fit medians')\n",
    "\n",
    "\n",
    "plt.xscale('log')\n",
    "plt.yscale('log')\n",
    "plt.ylabel(r'$\\theta_{\\mathrm{acc}}\\,/\\,$°')\n",
    "plt.xlabel(r'$E_{\\mathrm{f,\\,min}}\\,/\\,$GeV')\n",
    "plt.xlim(right=1e7)\n",
    "plt.ylim(4e-6, 10)\n",
    "plt.grid(linestyle='--', alpha=0.3)\n",
    "plt.legend(fontsize=9.5, loc='lower left')\n",
    "plt.tight_layout()\n",
    "if save_plot:\n",
    "    plt.savefig(plot_dir + 'fit_median_defl_cut_10percent_only_poly_new_resolution_rescale_no_icecube_paper_final.pdf', bbox_inches='tight')"
   ]
  },
  {
   "cell_type": "code",
   "execution_count": 89,
   "id": "446c719d-8b65-4a9d-bd74-783f5e5eebb4",
   "metadata": {},
   "outputs": [
    {
     "name": "stdout",
     "output_type": "stream",
     "text": [
      "poly3 params:  [ 0.01755369 -0.23276124  0.09293859  0.07262962] , errors:  [0.00181377 0.0185254  0.05273772 0.04044082]\n"
     ]
    },
    {
     "data": {
      "image/png": "[encoded data removed]",
      "text/plain": [
       "<Figure size 432x288 with 1 Axes>"
      ]
     },
     "metadata": {
      "needs_background": "light"
     },
     "output_type": "display_data"
    }
   ],
   "source": [
    "### fit deflection medians\n",
    "x = np.logspace(0.1, 7, 1000)\n",
    "\n",
    "interval = str(int((quantile_high - quantile_low)*100))\n",
    "\n",
    "# E_i = 10 PeV\n",
    "plt.errorbar(E_f_10P, deflection_median_10P_cut_10, yerr=(deflection_median_lower_10P_cut_10, deflection_median_upper_10P_cut_10), fmt='.', color='orange', alpha=0.5, label=r'median$\\;|\\;'+interval+'\\,\\%$ CI, $E_\\mathrm{i} = 10\\,$PeV')\n",
    "plt.fill_between(E_f_10P, np.array(deflection_median_10P_cut_10)-np.array(deflection_median_lower_10P_cut_10), np.array(deflection_median_10P_cut_10) + np.array(deflection_median_upper_10P_cut_10), alpha=0.1, color='orange')\n",
    "# E_i = 1 PeV\n",
    "plt.errorbar(E_f, deflection_median_1P_cut_10, yerr=(deflection_median_lower_1P_cut_10, deflection_median_upper_1P_cut_10), fmt='.', color='yellow', alpha=0.5, label=r'median$\\;|\\;'+interval+'\\,\\%$ CI, $E_\\mathrm{i} = 1\\,$PeV')\n",
    "plt.fill_between(E_f, np.array(deflection_median_1P_cut_10)-np.array(deflection_median_lower_1P_cut_10), np.array(deflection_median_1P_cut_10) + np.array(deflection_median_upper_1P_cut_10), alpha=0.1, color='yellow')\n",
    "# E_i = 100 TeV\n",
    "plt.errorbar(E_f_100, deflection_median_100_cut_10, yerr=(deflection_median_lower_100_cut_10, deflection_median_upper_100_cut_10), fmt='.', color='red', alpha=0.5, label=r'median$\\;|\\;'+interval+'\\,\\%$ CI, $E_\\mathrm{i} = 100\\,$TeV')\n",
    "plt.fill_between(E_f_100, np.array(deflection_median_100_cut_10)-np.array(deflection_median_lower_100_cut_10), np.array(deflection_median_100_cut_10) + np.array(deflection_median_upper_100_cut_10), alpha=0.1, color='red')\n",
    "# E_i = 10 TeV\n",
    "plt.errorbar(E_f_10, deflection_median_10_cut_10, yerr=(deflection_median_lower_10_cut_10, deflection_median_upper_10_cut_10), fmt='.', color='green', alpha=0.8, label=r'median$\\;|\\;'+interval+'\\,\\%$ CI, $E_\\mathrm{i} = 10\\,$TeV')\n",
    "plt.fill_between(E_f_10, np.array(deflection_median_10_cut_10)-np.array(deflection_median_lower_10_cut_10), np.array(deflection_median_10_cut_10) + np.array(deflection_median_upper_10_cut_10), alpha=0.1, color='green')\n",
    "\n",
    "\n",
    "# rescale neutrino energy to muon energy\n",
    "def rescale_neutrino_E_to_muon_E(x, splines=None, no_rescale=False):\n",
    "    if not no_rescale:    \n",
    "        if splines == None:\n",
    "            # naive rescale\n",
    "            return x * 0.8\n",
    "        else:\n",
    "            return (1 - splines(x)) * x\n",
    "    else:\n",
    "        print('no rescale')\n",
    "        return x\n",
    "    \n",
    "###### comparison to current neutrino telescopes ##########      \n",
    "    \n",
    "    \n",
    "# IceCube 2021, https://arxiv.org/abs/2103.16931 (median angular resolution of muon reconstruction as function of\n",
    "# muon energy)\n",
    "IceCube_median_error_E = [3154.6222956675642, 31393.67119012529, 318535.5398366218, 3139367.1190125225]\n",
    "IceCube_median_error_theta = [0.3132923103706559, 0.23583164894478967, 0.1696125188412025, 0.147416292664677]\n",
    "plt.plot(IceCube_median_error_E, IceCube_median_error_theta, '-', color='cyan', label='IceCube 2021')\n",
    "\n",
    "# ARCA 2021 2107.13050 (angular resolution as function of neutrino energy) preliminary\n",
    "ARCA = pd.read_csv('angular_resolution/ARCA.csv', sep=';', decimal=',', names=['E', 'theta'])\n",
    "ARCA_high = pd.read_csv('angular_resolution/ARCA_high.csv', sep=';', decimal=',', names=['E', 'theta'])\n",
    "ARCA_low = pd.read_csv('angular_resolution/ARCA_low.csv', sep=';', decimal=',', names=['E', 'theta'])\n",
    "\n",
    "plt.plot(rescale_neutrino_E_to_muon_E(10**ARCA.E, splines=spl_nu), 10**ARCA.theta, '-', color='blue', label='ARCA 2021 (rescale)')\n",
    "plt.fill_between(rescale_neutrino_E_to_muon_E(10**ARCA_low.E, splines=spl_nu), 10**ARCA_low.theta, 10**ARCA_high.theta, alpha=0.2, color='blue')\n",
    "\n",
    "# ORCA 2021\n",
    "ORCA = pd.read_csv('data/ORCA_resolution/ORCA_nu_mu_resolution.csv', sep=';', decimal=',', names=['E', 'theta'])\n",
    "plt.plot(rescale_neutrino_E_to_muon_E(ORCA.E, splines=spl_nu), ORCA.theta, '--', color='blue', label='ORCA 2021 (rescale)')\n",
    "\n",
    "# Baikal 2019 (also published in paper of 2021 2106.06288v2)\n",
    "# plt.plot(rescale_neutrino_E_to_muon_E(100*1e3, splines=spl_nu), 0.5, '^', markersize=4, color='black', label='Baikal 2019 (rescale)') # for track length > 500 meter and E_nu > 10 GeV\n",
    "\n",
    "# Baikal 2021 ICRC Proceedings (2ns time resolution)\n",
    "Baikal = pd.read_csv('angular_resolution/Baikal_2021_ICRC_resolution.csv', sep=';', decimal=',', names=['E', 'theta'])\n",
    "plt.plot(Baikal.E*1e3, Baikal.theta, '--', color='purple', label='Baikal-GVD 2021')\n",
    "\n",
    "# ANTARES 2019\n",
    "plt.plot(rescale_neutrino_E_to_muon_E(100*1e3, splines=spl_nu), 0.4, 'o', markersize=4, color='black', label='ANTARES 2019 (rescale)')\n",
    "\n",
    "# Kamiokande 2008\n",
    "plt.plot(5, 4.3, 's', markersize=4, color='black', label='SuperKamiokande 2008')\n",
    "\n",
    "\n",
    "\n",
    "# kinematic angle read from KM3NeT 2016\n",
    "# kinematic_angle = pd.read_csv('data/kinematic_muon_neutrino_angle_KM3NeT.csv', sep=';', decimal=',', names=['E', 'theta'])\n",
    "# plt.plot(rescale_neutrino_E_to_muon_E(kinematic_angle.E, splines=spl_nu), kinematic_angle.theta, '.', label=r'$\\mu$ -- $\\nu$ kinematic angle (rescale)') # scattering angle KM3NeT')\n",
    "\n",
    "# kinematic anlge reade from KM3NeT/ARCA 2021\n",
    "kinematic_angle_low = pd.read_csv('data/mu_nu_kinematic_ARCA_2021/Low.csv', sep=';', decimal=',', names=['E', 'theta'])\n",
    "kinematic_angle_mid = pd.read_csv('data/mu_nu_kinematic_ARCA_2021/mid.csv', sep=';', decimal=',', names=['E', 'theta'])\n",
    "kinematic_angle_high = pd.read_csv('data/mu_nu_kinematic_ARCA_2021/High.csv', sep=';', decimal=',', names=['E', 'theta'])\n",
    "plt.plot(rescale_neutrino_E_to_muon_E(10**kinematic_angle_mid.E, splines=spl_nu), 10**kinematic_angle_mid.theta, '-.', color='black', alpha=0.3, label=r'$\\mu$ -- $\\nu$ kinematic angle (rescale)') # scattering angle KM3NeT')\n",
    "# plt.fill_between(rescale_neutrino_E_to_muon_E(10**kinematic_angle_low.E, splines=spl_nu), 10**kinematic_angle_low.theta, 10**kinematic_angle_high.theta[:-2], alpha=0.2, color='black')\n",
    "plt.fill(np.append(rescale_neutrino_E_to_muon_E(10**kinematic_angle_low.E, splines=spl_nu), rescale_neutrino_E_to_muon_E(10**kinematic_angle_high.E, splines=spl_nu)[::-1]), \n",
    "         np.append(10**kinematic_angle_low.theta, 10**kinematic_angle_high.theta[::-1]), \n",
    "         alpha=0.2, color='black')\n",
    "\n",
    "\n",
    "\n",
    "\n",
    "# Neutrino Review Paper, ref 114\n",
    "def get_mean_theta(E):\n",
    "    '''\n",
    "    Parameters\n",
    "    ----------\n",
    "        E: neutrino energy in TeV\n",
    "    Returns\n",
    "    -------\n",
    "        mean_theta: mean scattering angle in degree\n",
    "        \n",
    "    '''\n",
    "    return 0.7 / E**0.6\n",
    "\n",
    "x = np.logspace(0.9, 6.8, 1000)\n",
    "# plt.plot(x, get_mean_theta(x/1e3), '--', color='black', label='approx')\n",
    "\n",
    "\n",
    "# polynom fit\n",
    "def poly3(x, a, b, c, d):\n",
    "    return a * x**3 + b * x**2 + c * x + d\n",
    "\n",
    "\n",
    "# E_i = 10 PeV\n",
    "params, cov = curve_fit(poly3, np.log10(E_f_10P), np.log10(deflection_median_10P_cut_10))\n",
    "errors = np.sqrt(np.diag(cov))\n",
    "print('poly3 params: ', params, ', errors: ', errors)\n",
    "x = np.logspace(-0.1, 6.8, 1000)\n",
    "plt.plot(x, np.power(10, poly3(np.log10(x), 0.0176, -0.2328, 0.0929, 0.0726)), '--', color='orange', alpha=1, label=r'fit medians')\n",
    "# plt.plot(x, np.power(10, poly3(np.log10(x), *params)), '--', color='orange', alpha=1, label=r'fit medians')\n",
    "\n",
    "\n",
    "plt.xscale('log')\n",
    "plt.yscale('log')\n",
    "plt.ylabel(r'$\\theta_{\\mathrm{acc}}\\,/\\,$deg')\n",
    "plt.xlabel(r'$E_{\\mathrm{f,\\,min}}\\,/\\,$GeV')\n",
    "plt.xlim(0.4, right=1e7)\n",
    "plt.ylim(4e-6, 35)\n",
    "plt.grid(linestyle='--', alpha=0.3)\n",
    "plt.legend(fontsize=9, bbox_to_anchor=(0.95, 1.45), ncol=2)\n",
    "# plt.tight_layout()\n",
    "if save_plot:\n",
    "    plt.savefig(plot_dir + 'fit_median_defl_cut_10percent_only_poly_new_resolution_rescale_no_icecube_paper_final_all.pdf', bbox_inches='tight')"
   ]
  },
  {
   "cell_type": "code",
   "execution_count": 90,
   "id": "363b21ee-e439-451e-bca0-cade5d1f7d38",
   "metadata": {},
   "outputs": [
    {
     "name": "stdout",
     "output_type": "stream",
     "text": [
      "E_f = 1.0 GeV, med(d) = 1.3604512699338573 ° - 0.09348865637831044 ° + 7.378990178508948 °\n",
      "E_f = 5.0 GeV, med(d) = 0.952614025178979 ° - 0.07241613029626577 ° + 4.231052257911954 °\n",
      "E_f = 10.0 GeV, med(d) = 0.7927173824614776 ° - 0.06266604679238187 ° + 3.2025132624680874 °\n",
      "E_f = 50.0 GeV, med(d) = 0.4213334170461231 ° - 0.03426295003829231 ° + 1.6793007595677616 °\n",
      "E_f = 100.0 GeV, med(d) = 0.2920281231686144 ° - 0.023112507596441883 ° + 1.1004824808132316 °\n",
      "E_f = 500.0 GeV, med(d) = 0.10172736431524004 ° - 0.008322687744973094 ° + 0.3860179217859109 °\n",
      "E_f = 1000.0 GeV, med(d) = 0.059217068634979365 ° - 0.004351063361567531 ° + 0.22863251777741087 °\n",
      "E_f = 5000.0 GeV, med(d) = 0.014164233999297645 ° - 0.0009931354686591458 ° + 0.057766544713231664 °\n",
      "E_f = 10000.0 GeV, med(d) = 0.0073551899251443785 ° - 0.0005207970596731901 ° + 0.02876267534113692 °\n",
      "E_f = 50000.0 GeV, med(d) = 0.0015315073912256488 ° - 0.0001104749293626493 ° + 0.006007785879973593 °\n",
      "E_f = 100000.0 GeV, med(d) = 0.0007899436563681644 ° - 5.514409968798965e-05 ° + 0.0031071657099069894 °\n",
      "E_f = 500000.0 GeV, med(d) = 0.0001583629292163158 ° - 1.1642979824325862e-05 ° + 0.0006138016363072509 °\n"
     ]
    }
   ],
   "source": [
    "# print median values for E_i = 1 PeV with lower and upper 95% limits, (use E_f = 500 GeV in abstract)\n",
    "for i, e,d in zip(range(len(E_f)), E_f, deflection_median_1P_cut_10):\n",
    "    print('E_f = {} GeV, med(d) = {} ° - {} ° + {} °'.format(e, d, d-deflection_median_lower_1P_cut_10[i], d+deflection_median_upper_1P_cut_10[i]))"
   ]
  },
  {
   "cell_type": "code",
   "execution_count": 91,
   "id": "f260b830-ab7e-4b02-a69e-131c346e44db",
   "metadata": {},
   "outputs": [
    {
     "name": "stdout",
     "output_type": "stream",
     "text": [
      "E_f = 1.0 GeV, med(d) = 1.3692637468908377 ° - 0.09650045078236835 ° + 7.470849746498546 °\n",
      "E_f = 5.0 GeV, med(d) = 0.9499004224251834 ° - 0.07071901422770234 ° + 4.232217954241385 °\n",
      "E_f = 10.0 GeV, med(d) = 0.7851982662633762 ° - 0.06464677614829986 ° + 3.3041133529422804 °\n",
      "E_f = 50.0 GeV, med(d) = 0.4197928379862475 ° - 0.03487441559181076 ° + 1.717451206099142 °\n",
      "E_f = 100.0 GeV, med(d) = 0.2918227434510286 ° - 0.02442936856619483 ° + 1.1509109780653937 °\n",
      "E_f = 500.0 GeV, med(d) = 0.10171876251803692 ° - 0.007752182798684706 ° + 0.40870668785506226 °\n",
      "E_f = 1000.0 GeV, med(d) = 0.05989772929347026 ° - 0.004833692094351626 ° + 0.23075756253478172 °\n",
      "E_f = 5000.0 GeV, med(d) = 0.013339616622416735 ° - 0.0009397200839092662 ° + 0.05300148084316003 °\n"
     ]
    }
   ],
   "source": [
    "# print median values for E_i = 10 TeV with lower and upper 95% limits, (use E_f = 500 GeV in abstract)\n",
    "for i, e,d in zip(range(len(E_f)), E_f, deflection_median_10_cut_10):\n",
    "    print('E_f = {} GeV, med(d) = {} ° - {} ° + {} °'.format(e, d, d-deflection_median_lower_10_cut_10[i], d+deflection_median_upper_10_cut_10[i]))"
   ]
  },
  {
   "cell_type": "code",
   "execution_count": 92,
   "id": "3b078872-81b9-4558-9310-3300ca74bb9c",
   "metadata": {},
   "outputs": [
    {
     "name": "stdout",
     "output_type": "stream",
     "text": [
      "median dist:  17521.549791812235\n",
      "low dist 95%:  8039.545665632053\n",
      "high dist 95%:  26518.59826374591\n"
     ]
    },
    {
     "data": {
      "image/png": "[encoded data removed]",
      "text/plain": [
       "<Figure size 432x288 with 1 Axes>"
      ]
     },
     "metadata": {
      "needs_background": "light"
     },
     "output_type": "display_data"
    }
   ],
   "source": [
    "# Get distances for E_i = 1 PeV to E_f = 500 GeV (for abstract info)\n",
    "\n",
    "mi = 0.9\n",
    "median_dist_1_500 = np.median(df_dict['df_08'].distances[df_dict['df_08'].E_f > mi * 500])\n",
    "print('median dist: ', median_dist_1_500)\n",
    "low_dist_1_500 = np.quantile(df_dict['df_08'].distances[df_dict['df_08'].E_f > mi * 500], 0.025)\n",
    "print('low dist 95%: ', low_dist_1_500)\n",
    "high_dist_1_500 = np.quantile(df_dict['df_08'].distances[df_dict['df_08'].E_f > mi * 500], 0.975) # - median_dist_1_500\n",
    "print('high dist 95%: ', high_dist_1_500)\n",
    "\n",
    "plt.hist(df_dict['df_08'].distances[df_dict['df_08'].E_f > mi * 500], histtype='step', label='median')\n",
    "plt.vlines(low_dist_1_500, 0, 13e3, color='orange', label='low 95%')\n",
    "plt.vlines(high_dist_1_500, 0, 13e3, color='green', label='high 95%')\n",
    "plt.yscale('log')\n",
    "plt.ylabel('counts')\n",
    "plt.xlabel('propagation distance in meter')\n",
    "plt.legend()\n",
    "plt.title(r'$E_i = 1$ PeV, $E_f = 500$ GeV')\n",
    "plt.tight_layout()\n",
    "if save_plot:\n",
    "    plt.savefig(plot_dir + 'distance_1PeV_500GeV.pdf')"
   ]
  },
  {
   "cell_type": "code",
   "execution_count": 93,
   "id": "0a9bf39c-1daf-456f-bdb2-e3bd50acd879",
   "metadata": {},
   "outputs": [
    {
     "data": {
      "text/plain": [
       "array([-0.40087482, -0.19993   ,  0.47171264,  0.68293802, -0.09817561,\n",
       "       -0.4024428 ,  0.13951024, -0.63143214,  0.10429377, -0.07257024,\n",
       "        0.40159722, -0.12536046], dtype=float128)"
      ]
     },
     "execution_count": 93,
     "metadata": {},
     "output_type": "execute_result"
    }
   ],
   "source": [
    "# Check deviation between water and ice simulation ---> less than 1% deviation\n",
    "deflection_median_10P_cut_10_water = np.array([\n",
    "                     0.79150338217522568093,\n",
    "                     0.42027063875051527748,\n",
    "                     0.2932342756713901575,\n",
    "                     0.1012175759191841121,\n",
    "                     0.059028678121102240653,\n",
    "                     0.014155812831099963241,\n",
    "                     0.0073208573158286867227,\n",
    "                     0.0015401160779994301778,\n",
    "                     0.00077872394269746531866,\n",
    "                     0.00017512560410630505606,\n",
    "                     0.000100290243100752244415,\n",
    "                     3.8162822474097349672e-05])\n",
    "water_ice_deviation = (deflection_median_10P_cut_10[2:] - deflection_median_10P_cut_10_water) / deflection_median_10P_cut_10[2:] * 100 # values in percent\n",
    "water_ice_deviation"
   ]
  },
  {
   "cell_type": "code",
   "execution_count": null,
   "id": "bd2289ef-4fa5-4aed-b5cd-6f2bb30069d3",
   "metadata": {},
   "outputs": [],
   "source": [
    "Achtung! Für Wasser fehlen noch die Simulationen für 1 GeV und 5 GeV"
   ]
  },
  {
   "cell_type": "markdown",
   "id": "38267ab9-a1b3-4158-8679-0c794cc294c2",
   "metadata": {},
   "source": [
    "## distance plot"
   ]
  },
  {
   "cell_type": "code",
   "execution_count": 97,
   "id": "2558ce5f-cc49-4f79-9c87-a33bf75f32b2",
   "metadata": {},
   "outputs": [
    {
     "name": "stdout",
     "output_type": "stream",
     "text": [
      "df_14 10000000.0 1.0 95000 94942 0.9895894736842106 0.9993894736842105 1001.0\n",
      "df_13 10000000.0 5.0 95000 93946 0.9504 0.9889052631578947 1011.0\n",
      "df_10 10000000.0 10.0 55000 53579 0.9276181818181818 0.9741636363636363 1027.0\n",
      "df_09 10000000.0 50.0 55000 50969 0.8173636363636364 0.9267090909090909 1079.0\n",
      "df_04 10000000.0 100.0 57500 51418 0.7472869565217392 0.8942260869565217 1118.0\n",
      "df_08 10000000.0 500.0 65000 50406 0.48624615384615383 0.7754769230769231 1290.0\n",
      "df_03 10000000.0 1000.0 72500 51536 0.34355862068965515 0.7108413793103449 1407.0\n",
      "df_07 10000000.0 5000.0 85000 51362 0.10603529411764706 0.6042588235294117 1655.0\n",
      "df_02 10000000.0 10000.0 87500 50512 0.05739428571428572 0.57728 1732.0\n",
      "df_06 10000000.0 50000.0 142500 78654 0.012063157894736842 0.5519578947368421 1812.0\n",
      "df_01 10000000.0 100000.0 92500 50343 0.006054054054054054 0.5442486486486486 1837.0\n",
      "df_05 10000000.0 500000.0 92500 49829 0.001081081081081081 0.5386918918918919 1856.0\n",
      "df_11 10000000.0 1000000.0 95000 50605 0.0007157894736842105 0.5326842105263158 1877.0\n",
      "df_12 10000000.0 5000000.0 95000 55076 0.00016842105263157895 0.5797473684210527 1725.0\n",
      "df_12 1000000.0 1.0 55000 54967 0.9898 0.9994 1001.0\n",
      "df_11 1000000.0 5.0 55000 54366 0.9500909090909091 0.9884727272727273 1012.0\n",
      "df_10 1000000.0 10.0 55000 53620 0.9294545454545454 0.974909090909091 1026.0\n",
      "df_09 1000000.0 50.0 55000 51079 0.8173818181818182 0.9287090909090909 1077.0\n",
      "df_04 1000000.0 100.0 57500 51570 0.7492347826086957 0.8968695652173913 1115.0\n",
      "df_08 1000000.0 500.0 65000 50409 0.48427692307692305 0.7755230769230769 1289.0\n",
      "df_03 1000000.0 1000.0 72500 51487 0.34398620689655174 0.7101655172413793 1408.0\n",
      "df_07 1000000.0 5000.0 85000 51149 0.10428235294117646 0.6017529411764706 1662.0\n",
      "df_02 1000000.0 10000.0 87500 50578 0.05744 0.5780342857142857 1730.0\n",
      "df_06 1000000.0 50000.0 142500 78239 0.012 0.5490456140350877 1821.0\n",
      "df_01 1000000.0 100000.0 92500 50819 0.0057621621621621625 0.5493945945945946 1820.0\n",
      "df_05 1000000.0 500000.0 92500 54995 0.0014162162162162162 0.5945405405405405 1682.0\n",
      "df_10 100000.0 1.0 87500 87458 0.9897714285714285 0.99952 1000.0\n",
      "df_01 100000.0 5.0 87500 86478 0.9496 0.98832 1012.0\n",
      "df_09 100000.0 10.0 55000 53596 0.9272727272727272 0.9744727272727273 1026.0\n",
      "df_08 100000.0 50.0 55000 51105 0.8162181818181818 0.9291818181818182 1076.0\n",
      "df_04 100000.0 100.0 57500 51625 0.7500695652173913 0.8978260869565218 1114.0\n",
      "df_07 100000.0 500.0 65000 50337 0.48638461538461536 0.7744153846153846 1291.0\n",
      "df_03 100000.0 1000.0 72500 51584 0.34209655172413794 0.7115034482758621 1405.0\n",
      "df_06 100000.0 5000.0 85000 51193 0.10542352941176471 0.6022705882352941 1660.0\n",
      "df_02 100000.0 10000.0 87500 50713 0.05597714285714286 0.5795771428571429 1725.0\n",
      "df_05 100000.0 50000.0 142500 87406 0.013782456140350877 0.6133754385964912 1630.0\n",
      "df_01 10000.0 1.0 72500 72452 0.9894068965517241 0.9993379310344828 1001.0\n",
      "df_02 10000.0 5.0 72500 71687 0.950551724137931 0.9887862068965517 1011.0\n",
      "df_08 10000.0 10.0 55000 53643 0.9290363636363637 0.9753272727272727 1025.0\n",
      "df_07 10000.0 50.0 55000 51036 0.8165636363636364 0.9279272727272727 1078.0\n",
      "df_04 10000.0 100.0 57500 51605 0.751495652173913 0.8974782608695652 1114.0\n",
      "df_06 10000.0 500.0 65000 50459 0.4881076923076923 0.7762923076923077 1288.0\n",
      "df_03 10000.0 1000.0 72500 51602 0.34172413793103446 0.7117517241379311 1405.0\n",
      "df_05 10000.0 5000.0 85000 56814 0.11855294117647058 0.6684 1496.0\n"
     ]
    }
   ],
   "source": [
    "# 10% cut of E_min\n",
    "\n",
    "mi = 0.9\n",
    "quantile_low = 0.005 # 0.025\n",
    "quantile_high = 0.995 # 0.975\n",
    "\n",
    "# E_i = 10 PeV\n",
    "distances_median_10P_cut_10 = []\n",
    "distances_median_lower_10P_cut_10 = [] \n",
    "distances_median_upper_10P_cut_10 = []\n",
    "for i,d in enumerate(df_dict_10P):\n",
    "    df = df_dict_10P[d]\n",
    "    print(d, df.E_i[0], mode(df.E_f), len(df), len(df[df.E_f > mode(df.E_f) * mi]), len(df[df.E_f == mode(df.E_f)])/len(df), len(df[df.E_f > mode(df.E_f) * mi])/len(df), np.round(1000/(len(df[df.E_f > mode(df.E_f) * mi])/len(df)))) \n",
    "    distances_median_10P_cut_10.append(np.median(df.distances[df.E_f > mode(df.E_f) * mi]))\n",
    "    distances_median_lower_10P_cut_10.append(np.median(df.distances[df.E_f > mode(df.E_f) * mi]) - np.quantile(df.distances[df.E_f > mode(df.E_f) * mi], quantile_low)) \n",
    "    distances_median_upper_10P_cut_10.append(np.quantile(df.distances[df.E_f > mode(df.E_f) * mi], quantile_high) - np.median(df.distances[df.E_f > mode(df.E_f) * mi]))\n",
    "\n",
    "    \n",
    "\n",
    "# E_i = 1 PeV    \n",
    "distances_median_1P_cut_10 = []\n",
    "distances_median_lower_1P_cut_10 = [] \n",
    "distances_median_upper_1P_cut_10 = []\n",
    "for d in df_dict:\n",
    "    df = df_dict[d]\n",
    "    print(d, df.E_i[0], mode(df.E_f), len(df), len(df[df.E_f > mode(df.E_f) * mi]), len(df[df.E_f == mode(df.E_f)])/len(df), len(df[df.E_f > mode(df.E_f) * mi])/len(df), np.round(1000/(len(df[df.E_f > mode(df.E_f) * mi])/len(df))))\n",
    "    distances_median_1P_cut_10.append(np.median(df.distances[df.E_f > mode(df.E_f) * mi]))\n",
    "    distances_median_lower_1P_cut_10.append(np.median(df.distances[df.E_f > mode(df.E_f) * mi]) - np.quantile(df.distances[df.E_f > mode(df.E_f) * mi], quantile_low)) \n",
    "    distances_median_upper_1P_cut_10.append(np.quantile(df.distances[df.E_f > mode(df.E_f) * mi], quantile_high) - np.median(df.distances[df.E_f > mode(df.E_f) * mi]))\n",
    "    \n",
    "# E_i = 100 TeV\n",
    "distances_median_100_cut_10 = []\n",
    "distances_median_lower_100_cut_10 = [] \n",
    "distances_median_upper_100_cut_10 = []\n",
    "for d in df_dict_100:\n",
    "    df = df_dict_100[d]\n",
    "    print(d, df.E_i[0], mode(df.E_f), len(df), len(df[df.E_f > mode(df.E_f) * mi]), len(df[df.E_f == mode(df.E_f)])/len(df), len(df[df.E_f > mode(df.E_f) * mi])/len(df), np.round(1000/(len(df[df.E_f > mode(df.E_f) * mi])/len(df))))\n",
    "    distances_median_100_cut_10.append(np.median(df.distances[df.E_f > mode(df.E_f) * mi]))\n",
    "    distances_median_lower_100_cut_10.append(np.median(df.distances[df.E_f > mode(df.E_f) * mi]) - np.quantile(df.distances[df.E_f > mode(df.E_f) * mi], quantile_low)) \n",
    "    distances_median_upper_100_cut_10.append(np.quantile(df.distances[df.E_f > mode(df.E_f) * mi], quantile_high) - np.median(df.distances[df.E_f > mode(df.E_f) * mi]))\n",
    "\n",
    "# E_i = 10 TeV    \n",
    "distances_median_10_cut_10 = []\n",
    "distances_median_lower_10_cut_10 = [] \n",
    "distances_median_upper_10_cut_10 = []\n",
    "for d in df_dict_10:\n",
    "    df = df_dict_10[d]\n",
    "    print(d, df.E_i[0], mode(df.E_f), len(df), len(df[df.E_f > mode(df.E_f) * mi]), len(df[df.E_f == mode(df.E_f)])/len(df), len(df[df.E_f > mode(df.E_f) * mi])/len(df), np.round(1000/(len(df[df.E_f > mode(df.E_f) * mi])/len(df))))\n",
    "    distances_median_10_cut_10.append(np.median(df.distances[df.E_f > mode(df.E_f) * mi]))\n",
    "    distances_median_lower_10_cut_10.append(np.median(df.distances[df.E_f > mode(df.E_f) * mi]) - np.quantile(df.distances[df.E_f > mode(df.E_f) * mi], quantile_low)) \n",
    "    distances_median_upper_10_cut_10.append(np.quantile(df.distances[df.E_f > mode(df.E_f) * mi], quantile_high) - np.median(df.distances[df.E_f > mode(df.E_f) * mi]))"
   ]
  },
  {
   "cell_type": "code",
   "execution_count": 103,
   "id": "f5df9ee8-4a8f-473e-a2d6-7277f341afa2",
   "metadata": {},
   "outputs": [
    {
     "data": {
      "image/png": "[encoded data removed]",
      "text/plain": [
       "<Figure size 432x288 with 1 Axes>"
      ]
     },
     "metadata": {
      "needs_background": "light"
     },
     "output_type": "display_data"
    }
   ],
   "source": [
    "### fit deflection medians\n",
    "x = np.logspace(0.1, 7, 1000)\n",
    "\n",
    "interval = str(int((quantile_high - quantile_low)*100))\n",
    "\n",
    "# E_i = 10 PeV\n",
    "plt.errorbar(E_f_10P, distances_median_10P_cut_10, yerr=(distances_median_lower_10P_cut_10, distances_median_upper_10P_cut_10), fmt='.', color='orange', alpha=0.5, label=r'median$\\;|\\;'+interval+'\\,\\%$ CI, $E_\\mathrm{i} = 10\\,$PeV')\n",
    "plt.fill_between(E_f_10P, np.array(distances_median_10P_cut_10)-np.array(distances_median_lower_10P_cut_10), np.array(distances_median_10P_cut_10) + np.array(distances_median_upper_10P_cut_10), alpha=0.1, color='orange')\n",
    "# E_i = 1 PeV\n",
    "plt.errorbar(E_f, distances_median_1P_cut_10, yerr=(distances_median_lower_1P_cut_10, distances_median_upper_1P_cut_10), fmt='.', color='yellow', alpha=0.5, label=r'median$\\;|\\;'+interval+'\\,\\%$ CI, $E_\\mathrm{i} = 1\\,$PeV')\n",
    "plt.fill_between(E_f, np.array(distances_median_1P_cut_10)-np.array(distances_median_lower_1P_cut_10), np.array(distances_median_1P_cut_10) + np.array(distances_median_upper_1P_cut_10), alpha=0.1, color='yellow')\n",
    "# E_i = 100 TeV\n",
    "plt.errorbar(E_f_100, distances_median_100_cut_10, yerr=(distances_median_lower_100_cut_10, distances_median_upper_100_cut_10), fmt='.', color='red', alpha=0.5, label=r'median$\\;|\\;'+interval+'\\,\\%$ CI, $E_\\mathrm{i} = 100\\,$TeV')\n",
    "plt.fill_between(E_f_100, np.array(distances_median_100_cut_10)-np.array(distances_median_lower_100_cut_10), np.array(distances_median_100_cut_10) + np.array(distances_median_upper_100_cut_10), alpha=0.1, color='red')\n",
    "# E_i = 10 TeV\n",
    "plt.errorbar(E_f_10, distances_median_10_cut_10, yerr=(distances_median_lower_10_cut_10, distances_median_upper_10_cut_10), fmt='.', color='green', alpha=0.8, label=r'median$\\;|\\;'+interval+'\\,\\%$ CI, $E_\\mathrm{i} = 10\\,$TeV')\n",
    "plt.fill_between(E_f_10, np.array(distances_median_10_cut_10)-np.array(distances_median_lower_10_cut_10), np.array(distances_median_10_cut_10) + np.array(distances_median_upper_10_cut_10), alpha=0.1, color='green')\n",
    "\n",
    "\n",
    "  \n",
    "    \n",
    "\n",
    "\n",
    "\n",
    "\n",
    "plt.xscale('log')\n",
    "plt.yscale('log')\n",
    "plt.ylabel(r'$d\\,/\\,$m')\n",
    "plt.xlabel(r'$E_{\\mathrm{f,\\,min}}\\,/\\,$GeV')\n",
    "plt.xlim(0.4, right=1e7)\n",
    "plt.grid(linestyle='--', alpha=0.3)\n",
    "plt.legend(fontsize=9, bbox_to_anchor=(1., 1.2), ncol=2)\n",
    "# plt.tight_layout()\n",
    "if save_plot:\n",
    "    plt.savefig(plot_dir + 'fit_median_defl_cut_10percent_only_poly_new_resolution_rescale_no_icecube_paper_final_all_distances.pdf', bbox_inches='tight')"
   ]
  },
  {
   "cell_type": "code",
   "execution_count": 107,
   "id": "82737d75-4faa-4e09-8a34-b7cf5638b576",
   "metadata": {},
   "outputs": [
    {
     "data": {
      "text/plain": [
       "[<matplotlib.lines.Line2D at 0x7fdc50df2f28>]"
      ]
     },
     "execution_count": 107,
     "metadata": {},
     "output_type": "execute_result"
    },
    {
     "data": {
      "image/png": "[encoded data removed]",
      "text/plain": [
       "<Figure size 432x288 with 1 Axes>"
      ]
     },
     "metadata": {
      "needs_background": "light"
     },
     "output_type": "display_data"
    }
   ],
   "source": [
    "plt.plot(distances_median_10_cut_10[-1], deflection_median_10_cut_10[-1], 'x', label='E_i = 10 TeV, E_f = 5 TeV')"
   ]
  },
  {
   "cell_type": "code",
   "execution_count": null,
   "id": "14d45e4e-2498-4648-8483-43537b18e5f2",
   "metadata": {},
   "outputs": [],
   "source": []
  },
  {
   "cell_type": "markdown",
   "id": "18ebe62a-333d-4490-be81-51f456991a52",
   "metadata": {
    "tags": []
   },
   "source": [
    "# calculate kinematic angle"
   ]
  },
  {
   "cell_type": "code",
   "execution_count": null,
   "id": "6af9a31b-23d9-4578-8db2-5ac0ca6880eb",
   "metadata": {},
   "outputs": [],
   "source": [
    "def computeFinalStateAngles(E_total, x, y, M_N):\n",
    "    '''\n",
    "    Parameters\n",
    "    ----------\n",
    "    E_total: total neutrino energy (E_i = E_total, E_f = E1)\n",
    "    x: (4 * E_i * E_f * np.sin(theta)**2) / (2 * m_p * (E_i - E_f)) (Bjorken)\n",
    "    y: expected energy transfer (Bjorken)\n",
    "    M_N: mass of nucleon\n",
    "    '''\n",
    "    muon_mass = 105.66 / 1e3\n",
    "    theta1 = 0\n",
    "    theta2 = 0\n",
    "    m1 = muon_mass\n",
    "    E1 = (1 - y) * E_total\n",
    "    kE1sq = E1**2 - m1**2\n",
    "    cos_theta1 = (E1 - x*y*M_N - (m1**2)/2 * E_total) / np.sqrt(kE1sq)\n",
    "    kE1 = np.sqrt(kE1sq)\n",
    "    theta1 = np.arccos(cos_theta1)\n",
    "    p_long = E_total - kE1*cos_theta1\n",
    "    p_trans = kE1 * np.sin(theta1)\n",
    "    theta2 = np.arctan(p_trans/p_long)\n",
    "    return theta1, theta2\n",
    "\n",
    "E_total = 1e2 # GeV\n",
    "# x = \n",
    "y = spl_nu(E_total)\n",
    "# M_N = \n",
    "# computeFinalStateAngles(E_total, x, y, M_N)"
   ]
  },
  {
   "cell_type": "code",
   "execution_count": null,
   "id": "a6ba5481-4eaa-4130-a8ab-ab4b0f53771a",
   "metadata": {},
   "outputs": [],
   "source": [
    "def computeScatteringAngleANIS(E_nu, x, y, M_N):\n",
    "    cos_theta = 1 - x*y*M_N / ((1-y) * E_nu)\n",
    "    return np.arccos(cos_theta)"
   ]
  },
  {
   "cell_type": "code",
   "execution_count": null,
   "id": "8e8ece59-c567-446d-9885-6e501a85e2b1",
   "metadata": {},
   "outputs": [],
   "source": []
  }
 ],
 "metadata": {
  "kernelspec": {
   "display_name": "Python 3",
   "language": "python",
   "name": "python3"
  },
  "language_info": {
   "codemirror_mode": {
    "name": "ipython",
    "version": 3
   },
   "file_extension": ".py",
   "mimetype": "text/x-python",
   "name": "python",
   "nbconvert_exporter": "python",
   "pygments_lexer": "ipython3",
   "version": "3.6.8"
  }
 },
 "nbformat": 4,
 "nbformat_minor": 5
}
