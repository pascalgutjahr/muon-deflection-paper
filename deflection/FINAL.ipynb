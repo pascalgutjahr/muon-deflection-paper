{
 "cells": [
  {
   "cell_type": "markdown",
   "id": "50b69262-74e7-4b3b-9fec-97ea5611b46d",
   "metadata": {},
   "source": [
    "# THIS IS THE FINAL NOTEBOOK THAT MAKES ALL PLOTS USED IN THE PAPER --> data are stored on Vollmond"
   ]
  },
  {
   "cell_type": "code",
   "execution_count": 1,
   "id": "b3b25438-075e-4862-87b7-f9ee7ee99487",
   "metadata": {},
   "outputs": [],
   "source": [
    "# Imports\n",
    "import numpy as np\n",
    "import matplotlib.pyplot as plt \n",
    "import matplotlib as mpl\n",
    "import os \n",
    "import pandas as pd\n",
    "from scipy.optimize import curve_fit\n",
    "from scipy.interpolate import UnivariateSpline\n",
    "from statistics import mode\n",
    "from matplotlib import cm\n",
    "from iteration_utilities import flatten\n",
    "from mpl_toolkits.axes_grid1.inset_locator import inset_axes\n",
    "from matplotlib.ticker import MultipleLocator\n",
    "import matplotlib.ticker"
   ]
  },
  {
   "cell_type": "code",
   "execution_count": 2,
   "id": "b43300af-35ea-48d0-8c11-416150ddf0b9",
   "metadata": {},
   "outputs": [],
   "source": [
    "save_plot = True\n",
    "\n",
    "plot_dir = 'plots/FINAL/'\n",
    "os.system('mkdir -p {}'.format(plot_dir))\n",
    "\n",
    "colors = {\n",
    "    'brems': cm.tab10(0),\n",
    "    'nuclint': cm.tab10(1), \n",
    "    'epair': cm.tab10(2),\n",
    "    'ioniz': cm.tab10(3) \n",
    "}\n"
   ]
  },
  {
   "cell_type": "markdown",
   "id": "09786c26-1be9-4377-b25e-6cf59d20bd5a",
   "metadata": {},
   "source": [
    "### Paper style"
   ]
  },
  {
   "cell_type": "code",
   "execution_count": 3,
   "id": "0637b29d-adca-4918-bb94-92a7bb075f8b",
   "metadata": {},
   "outputs": [],
   "source": [
    "plt.rcParams.update({\n",
    "    \"text.usetex\": True,\n",
    "    \"font.size\": 12,\n",
    "    \"font.family\": \"serif\",\n",
    "#     \"font.serif\": \"Times\",\n",
    "    'axes.labelsize': 12,\n",
    "    \"legend.fontsize\":11,\n",
    "    \"font.sans-serif\": [\"Helvetica\"],\n",
    "#    \"text.latex.preamble\": [r'\"\\usepackage{amsmath}\"'],\n",
    "})\n"
   ]
  },
  {
   "cell_type": "markdown",
   "id": "1eac35b9-3195-4a77-b14e-c860bd238c55",
   "metadata": {},
   "source": [
    "## Deflection per interaction plot"
   ]
  },
  {
   "cell_type": "code",
   "execution_count": null,
   "id": "3f50238e-fc69-47dd-adaf-90925d386d12",
   "metadata": {},
   "outputs": [],
   "source": [
    "# Read data\n",
    "# save deflections of each interaction type for final paper notebook, using van Ginneken\n",
    "\n",
    "brems_defl_vG_ex = list(flatten(pd.read_hdf('plots/deflection_along_sampling/' + 'FINAL_defl_along_sampling_1PeV_1TeV_1000events.hdf5', key='brems_defl_vG_ex').values))\n",
    "nuclint_defl_vG_ex = list(flatten(pd.read_hdf('plots/deflection_along_sampling/' + 'FINAL_defl_along_sampling_1PeV_1TeV_1000events.hdf5', key='nuclint_defl_vG_ex').values))\n",
    "epair_defl_default_ex = list(flatten(pd.read_hdf('plots/deflection_along_sampling/' + 'FINAL_defl_along_sampling_1PeV_1TeV_1000events.hdf5', key='epair_defl_default_ex').values))\n",
    "ioniz_defl_default_ex = list(flatten(pd.read_hdf('plots/deflection_along_sampling/' + 'FINAL_defl_along_sampling_1PeV_1TeV_1000events.hdf5', key='ioniz_defl_default_ex').values))\n",
    "\n",
    "df_moliere = pd.read_hdf('plots/deflection_along_sampling/' + 'FINAL_defl_along_sampling_1PeV_1TeV_1000events.hdf5', key='cont_moliere')\n",
    "df_highland = pd.read_hdf('plots/deflection_along_sampling/' + 'FINAL_defl_along_sampling_1PeV_1TeV_1000events.hdf5', key='cont_highland')"
   ]
  },
  {
   "cell_type": "code",
   "execution_count": null,
   "id": "ffa46881-e74b-40b8-b2a6-a2f82c83c174",
   "metadata": {},
   "outputs": [],
   "source": [
    "bins = np.logspace(-9, 1, 61)\n",
    "\n",
    "plt.hist(np.rad2deg(brems_defl_vG_ex), bins=bins, histtype='step', color=colors['brems'], label='Brems')\n",
    "plt.hist(np.rad2deg(nuclint_defl_vG_ex), bins=bins, histtype='step', color=colors['nuclint'], label='Nuclint')\n",
    "plt.hist(np.rad2deg(epair_defl_default_ex), bins=bins, histtype='step', color=colors['epair'], label='Epair')\n",
    "plt.hist(np.rad2deg(ioniz_defl_default_ex), bins=bins, histtype='step', color=colors['ioniz'], label='Ioniz')\n",
    "\n",
    "plt.hist(np.rad2deg(df_moliere.cont_moliere), bins=bins, histtype='step', color='pink', label='Molière')\n",
    "plt.hist(np.rad2deg(df_highland.cont_highland), bins=bins, histtype='step', color='gray', label='Highland')\n",
    "\n",
    "\n",
    "\n",
    "# total with moliere\n",
    "total_defl_vG_cont = list(flatten([brems_defl_vG_ex, nuclint_defl_vG_ex, epair_defl_default_ex, ioniz_defl_default_ex, df_moliere.cont_moliere]))\n",
    "plt.hist(np.rad2deg(total_defl_vG_cont), bins=bins, histtype='step', color='black', label='Total')\n",
    "\n",
    "total_defl_vG = list(flatten([brems_defl_vG_ex, nuclint_defl_vG_ex, epair_defl_default_ex, ioniz_defl_default_ex])) \n",
    "\n",
    "print('median brems: ', np.median(np.rad2deg(brems_defl_vG_ex)), ', low 95%: {}, high 95: {}'.format(np.quantile(np.rad2deg(brems_defl_vG_ex), 0.025), np.quantile(np.rad2deg(brems_defl_vG_ex), 0.975)))\n",
    "print('median nuclint: ', np.median(np.rad2deg(nuclint_defl_vG_ex)), ', low 95%: {}, high 95: {}'.format(np.quantile(np.rad2deg(nuclint_defl_vG_ex), 0.025), np.quantile(np.rad2deg(nuclint_defl_vG_ex), 0.975)))\n",
    "print('median epair: ', np.median(np.rad2deg(epair_defl_default_ex)), ', low 95%: {}, high 95: {}'.format(np.quantile(np.rad2deg(epair_defl_default_ex), 0.025), np.quantile(np.rad2deg(epair_defl_default_ex), 0.975)))\n",
    "print('median ioniz: ', np.median(np.rad2deg(ioniz_defl_default_ex)), ', low 95%: {}, high 95: {}'.format(np.quantile(np.rad2deg(ioniz_defl_default_ex), 0.025), np.quantile(np.rad2deg(ioniz_defl_default_ex), 0.975)))\n",
    "print('median total: ', np.median(np.rad2deg(total_defl_vG)), ', low 95%: {}, high 95: {}'.format(np.quantile(np.rad2deg(total_defl_vG), 0.025), np.quantile(np.rad2deg(total_defl_vG), 0.975)))\n",
    "print('median total cont: ', np.median(np.rad2deg(total_defl_vG_cont)), ', low 95%: {}, high 95: {}'.format(np.quantile(np.rad2deg(total_defl_vG_cont), 0.025), np.quantile(np.rad2deg(total_defl_vG_cont), 0.975)))\n",
    "print('median moliere: ', np.median(np.rad2deg(df_moliere.cont_moliere)), ', low 95%: {}, high 95: {}'.format(np.quantile(np.rad2deg(df_moliere.cont_moliere), 0.025), np.quantile(np.rad2deg(df_moliere.cont_moliere), 0.975)))\n",
    "print('median highland: ', np.median(np.rad2deg(df_highland.cont_highland)), ', low 95%: {}, high 95: {}'.format(np.quantile(np.rad2deg(df_highland.cont_highland), 0.025), np.quantile(np.rad2deg(df_highland.cont_highland), 0.975)))\n",
    "\n",
    "plt.xscale('log')\n",
    "plt.yscale('log')\n",
    "plt.xlabel(r'$\\theta\\,/\\,$°')\n",
    "plt.ylabel('Counts')\n",
    "plt.legend(loc='upper right')\n",
    "plt.tight_layout()\n",
    "if save_plot:\n",
    "    plt.savefig(plot_dir + '1PeV_1TeV_1000events_deflection_along_sampling.pdf')\n",
    "\n",
    "# ratio of zeros\n",
    "print('ratio of zeros (extern): ', np.sum(np.array(total_defl_vG)==0)/len(total_defl_vG))"
   ]
  },
  {
   "cell_type": "code",
   "execution_count": null,
   "id": "2a785cf5-5261-4e57-9e27-6108a7a7c91b",
   "metadata": {},
   "outputs": [],
   "source": [
    "bins = np.logspace(-9, 1, 61)\n",
    "\n",
    "fig, ax = plt.subplots()\n",
    "\n",
    "ax.hist(np.rad2deg(brems_defl_vG_ex), bins=bins, histtype='step', color=colors['brems'], label='Brems')\n",
    "ax.hist(np.rad2deg(nuclint_defl_vG_ex), bins=bins, histtype='step', color=colors['nuclint'], label='Nuclint')\n",
    "ax.hist(np.rad2deg(epair_defl_default_ex), bins=bins, histtype='step', color=colors['epair'], label='Epair')\n",
    "ax.hist(np.rad2deg(ioniz_defl_default_ex), bins=bins, histtype='step', color=colors['ioniz'], label='Ioniz')\n",
    "\n",
    "ax.hist(np.rad2deg(df_moliere.cont_moliere), bins=bins, histtype='step', color='pink', label='MSM')\n",
    "ax.hist(np.rad2deg(df_highland.cont_highland), bins=bins, histtype='step', color='gray', label='MSH')\n",
    "\n",
    "\n",
    "\n",
    "# total with moliere\n",
    "total_defl_vG_cont = list(flatten([brems_defl_vG_ex, nuclint_defl_vG_ex, epair_defl_default_ex, ioniz_defl_default_ex, df_moliere.cont_moliere]))\n",
    "ax.hist(np.rad2deg(total_defl_vG_cont), bins=bins, histtype='step', color='black', label='Total')\n",
    "\n",
    "total_defl_vG = list(flatten([brems_defl_vG_ex, nuclint_defl_vG_ex, epair_defl_default_ex, ioniz_defl_default_ex])) \n",
    "\n",
    "print('median brems: ', np.median(np.rad2deg(brems_defl_vG_ex)), ', low 95%: {}, high 95: {}'.format(np.quantile(np.rad2deg(brems_defl_vG_ex), 0.025), np.quantile(np.rad2deg(brems_defl_vG_ex), 0.975)))\n",
    "print('median nuclint: ', np.median(np.rad2deg(nuclint_defl_vG_ex)), ', low 95%: {}, high 95: {}'.format(np.quantile(np.rad2deg(nuclint_defl_vG_ex), 0.025), np.quantile(np.rad2deg(nuclint_defl_vG_ex), 0.975)))\n",
    "print('median epair: ', np.median(np.rad2deg(epair_defl_default_ex)), ', low 95%: {}, high 95: {}'.format(np.quantile(np.rad2deg(epair_defl_default_ex), 0.025), np.quantile(np.rad2deg(epair_defl_default_ex), 0.975)))\n",
    "print('median ioniz: ', np.median(np.rad2deg(ioniz_defl_default_ex)), ', low 95%: {}, high 95: {}'.format(np.quantile(np.rad2deg(ioniz_defl_default_ex), 0.025), np.quantile(np.rad2deg(ioniz_defl_default_ex), 0.975)))\n",
    "print('median total: ', np.median(np.rad2deg(total_defl_vG)), ', low 95%: {}, high 95: {}'.format(np.quantile(np.rad2deg(total_defl_vG), 0.025), np.quantile(np.rad2deg(total_defl_vG), 0.975)))\n",
    "print('median total cont: ', np.median(np.rad2deg(total_defl_vG_cont)), ', low 95%: {}, high 95: {}'.format(np.quantile(np.rad2deg(total_defl_vG_cont), 0.025), np.quantile(np.rad2deg(total_defl_vG_cont), 0.975)))\n",
    "print('median moliere: ', np.median(np.rad2deg(df_moliere.cont_moliere)), ', low 95%: {}, high 95: {}'.format(np.quantile(np.rad2deg(df_moliere.cont_moliere), 0.025), np.quantile(np.rad2deg(df_moliere.cont_moliere), 0.975)))\n",
    "print('median highland: ', np.median(np.rad2deg(df_highland.cont_highland)), ', low 95%: {}, high 95: {}'.format(np.quantile(np.rad2deg(df_highland.cont_highland), 0.025), np.quantile(np.rad2deg(df_highland.cont_highland), 0.975)))\n",
    "\n",
    "\n",
    "ax.set_xscale('log')\n",
    "ax.set_yscale('log')\n",
    "ax.set_xlabel(r'$\\theta\\,/\\,$deg')\n",
    "ax.set_ylabel('Counts')\n",
    "locmaj = matplotlib.ticker.LogLocator(base=10,numticks=12) \n",
    "ax.xaxis.set_major_locator(locmaj)\n",
    "locmin = matplotlib.ticker.LogLocator(base=10.0,subs=(0.2,0.3, 0.4, 0.5, 0.6, 0.7, 0.8, 0.9),numticks=12)\n",
    "ax.xaxis.set_minor_locator(locmin)\n",
    "ax.xaxis.set_minor_formatter(matplotlib.ticker.NullFormatter())\n",
    "plt.legend(loc='upper right')\n",
    "plt.tight_layout()\n",
    "if save_plot:\n",
    "    plt.savefig(plot_dir + '1PeV_1TeV_1000events_deflection_along_sampling_minorticks.pdf')\n",
    "\n",
    "# ratio of zeros\n",
    "print('ratio of zeros (extern): ', np.sum(np.array(total_defl_vG)==0)/len(total_defl_vG))"
   ]
  },
  {
   "cell_type": "markdown",
   "id": "b88b3197-f3c7-4748-a493-7f2ba4f2cd77",
   "metadata": {},
   "source": [
    "## Attwood data comparison "
   ]
  },
  {
   "cell_type": "code",
   "execution_count": null,
   "id": "3e98d668-54be-4775-88a9-e481d75326f9",
   "metadata": {},
   "outputs": [],
   "source": [
    "Attwood_data = pd.read_csv('data/attwood/attwood_true_data.txt',sep='\\s+', names=['upper_bin_edge', 'data', 'data_unc', 'G4', 'G4_unc'], engine='python', skiprows=1, skipfooter=1)\n",
    "\n",
    "full_data = {}\n",
    "for key in Attwood_data:\n",
    "    if 'bin' in key:\n",
    "        full_data[key] = [-b for b in Attwood_data[key][::-1]]\n",
    "    else:\n",
    "        full_data[key] = [b for b in Attwood_data[key][::-1]]\n",
    "    for b in Attwood_data[key]:\n",
    "        full_data[key].append(b)\n",
    "        \n",
    "ATTWOOD = pd.DataFrame()\n",
    "ATTWOOD['upper_bin_edge'] = full_data['upper_bin_edge']\n",
    "ATTWOOD['data'] = full_data['data']\n",
    "ATTWOOD['data_unc'] = full_data['data_unc']\n",
    "ATTWOOD['G4'] = full_data['G4']\n",
    "ATTWOOD['G4_unc'] = full_data['G4_unc']\n",
    "\n",
    "hist_binning = ATTWOOD.upper_bin_edge\n",
    "\n",
    "bin_mids = []\n",
    "# bin_mids = [ATTWOOD.upper_bin_edge[0] - abs(ATTWOOD.upper_bin_edge[1] - ATTWOOD.upper_bin_edge[0])/2]\n",
    "bin_mids_h = [ATTWOOD.upper_bin_edge[i] + abs(ATTWOOD.upper_bin_edge[i+1] - ATTWOOD.upper_bin_edge[i])/2 for i in range(len(ATTWOOD)-1)] \n",
    "for b in bin_mids_h:\n",
    "    bin_mids.append(b)\n",
    "# bin_mids.append(ATTWOOD.upper_bin_edge.values[-1] + abs(ATTWOOD.upper_bin_edge.values[-1] - ATTWOOD.upper_bin_edge.values[-2])/2 )\n",
    "\n",
    "ATTWOOD = ATTWOOD.drop(10, axis=0)\n",
    "ATTWOOD['bin_mids'] = bin_mids"
   ]
  },
  {
   "cell_type": "code",
   "execution_count": null,
   "id": "6fb108de-1cc4-4596-9db8-2ae31a5cd2e7",
   "metadata": {},
   "outputs": [],
   "source": [
    "df_01 = pd.read_hdf('data/attwood_199MeV_hydrogen/attwood_run_01.hdf5') # v_cut = 1e-5\n",
    "df_02 = pd.read_hdf('data/attwood_199MeV_hydrogen/attwood_run_02.hdf5') # v_cut = 1e-5 only Moliere\n",
    "df_03 = pd.read_hdf('data/attwood_199MeV_hydrogen/attwood_run_03.hdf5') # v_cut = 1e-3\n",
    "\n",
    "# distance should be 10.9 cm\n",
    "print(np.unique(df_01.distances))\n",
    "print(np.unique(df_02.distances))\n",
    "print(np.unique(df_03.distances))\n",
    "\n",
    "df_01 = df_01[df_01.distances == 0.109]\n",
    "df_02 = df_02[df_02.distances == 0.109]\n",
    "df_03 = df_03[df_03.distances == 0.109]"
   ]
  },
  {
   "cell_type": "code",
   "execution_count": null,
   "id": "a6c530ce-835a-4b12-838d-9117c05a676e",
   "metadata": {},
   "outputs": [],
   "source": [
    "df_dict_01 = {}\n",
    "for seed in np.unique(df_01.rnd_seed):\n",
    "    key = \"df_{}\".format(int(seed))\n",
    "    df_dict_01[key] = df_01[df_01.rnd_seed == seed]\n",
    "    \n",
    "df_dict_02 = {}\n",
    "for seed in np.unique(df_02.rnd_seed):\n",
    "    key = \"df_{}\".format(int(seed))\n",
    "    df_dict_02[key] = df_02[df_02.rnd_seed == seed]\n",
    "    \n",
    "df_dict_03 = {}\n",
    "for seed in np.unique(df_03.rnd_seed):\n",
    "    key = \"df_{}\".format(int(seed))\n",
    "    df_dict_03[key] = df_03[df_03.rnd_seed == seed]\n",
    "    \n",
    "hist_data_n_01 = []\n",
    "bins = hist_binning\n",
    "for df in df_dict_01:\n",
    "    n, x = np.histogram(df_dict_01[df].y_dir_f, bins=bins, density=True)\n",
    "    hist_data_n_01.append(n)\n",
    "    hist_data_n_mean_01 = np.mean(hist_data_n_01, axis=0)\n",
    "hist_data_n_std_01 = np.std(hist_data_n_01, axis=0)\n",
    "hist_data_n_median_01 = np.median(hist_data_n_01, axis=0)\n",
    "\n",
    "hist_data_n_02 = []\n",
    "for df in df_dict_02:\n",
    "    n, x = np.histogram(df_dict_02[df].y_dir_f, bins=bins, density=True)\n",
    "    hist_data_n_02.append(n)\n",
    "    hist_data_n_mean_02 = np.mean(hist_data_n_02, axis=0)\n",
    "hist_data_n_std_02 = np.std(hist_data_n_02, axis=0)\n",
    "hist_data_n_median_02 = np.median(hist_data_n_02, axis=0)\n",
    "\n",
    "hist_data_n_03 = []\n",
    "for df in df_dict_03:\n",
    "    n, x = np.histogram(df_dict_03[df].y_dir_f, bins=bins, density=True)\n",
    "    hist_data_n_03.append(n)\n",
    "    hist_data_n_mean_03 = np.mean(hist_data_n_03, axis=0)\n",
    "hist_data_n_std_03 = np.std(hist_data_n_03, axis=0)\n",
    "hist_data_n_median_03 = np.median(hist_data_n_03, axis=0)"
   ]
  },
  {
   "cell_type": "code",
   "execution_count": null,
   "id": "4ddea043-3c0d-4c05-9d0d-ad62833565c2",
   "metadata": {},
   "outputs": [],
   "source": [
    "# Geant4 selfmade\n",
    "data = pd.read_csv('Geant4/data/data_attwood.txt', sep=r'\\s*,\\s*', engine='python')\n",
    "print(data)\n",
    "nn, x = np.histogram(data.py, bins=bins, density=True)\n",
    "nn"
   ]
  },
  {
   "cell_type": "code",
   "execution_count": null,
   "id": "6806ec20-db78-4e82-ab36-4402c7e9f1ca",
   "metadata": {},
   "outputs": [],
   "source": [
    "\n",
    "plt.hist(data.px, bins=bins, histtype='step', density=True, label='G4 x')\n",
    "plt.hist(data.py, bins=bins, histtype='step', density=True, label='G4 y')\n",
    "\n",
    "\n",
    "# attwood data\n",
    "plt.errorbar(ATTWOOD.bin_mids, ATTWOOD.data, fmt='o', color='black', alpha=0.9, yerr=ATTWOOD.data_unc, xerr=ATTWOOD.upper_bin_edge - ATTWOOD.bin_mids, label='ATTWOOD')\n",
    "plt.errorbar(ATTWOOD.bin_mids, ATTWOOD.G4, fmt='.', color='black', alpha=0.9, yerr=ATTWOOD.G4_unc, xerr=ATTWOOD.upper_bin_edge - ATTWOOD.bin_mids, label='Geant4')\n",
    "\n",
    "# run 03\n",
    "plt.errorbar(ATTWOOD.bin_mids, hist_data_n_mean_03, fmt='.', yerr=hist_data_n_std_03, xerr=ATTWOOD.upper_bin_edge - ATTWOOD.bin_mids, label='v = 1e-3')\n",
    "# plt.errorbar(ATTWOOD.bin_mids, hist_data_n_median_03, fmt='.', \n",
    "#              yerr=[hist_data_n_median_03-np.quantile(hist_data_n_03, 0.159, axis=0), np.quantile(hist_data_n_03, 0.841, axis=0)-hist_data_n_median_03],\n",
    "#              xerr=ATTWOOD.upper_bin_edge - ATTWOOD.bin_mids,\n",
    "#             label='median+68%')\n",
    "\n",
    "# run 01\n",
    "plt.errorbar(ATTWOOD.bin_mids, hist_data_n_mean_01, fmt='.', yerr=hist_data_n_std_01, xerr=ATTWOOD.upper_bin_edge - ATTWOOD.bin_mids, label='v = 1e-5')\n",
    "# plt.errorbar(ATTWOOD.bin_mids, hist_data_n_median_01, fmt='.', \n",
    "#              yerr=[hist_data_n_median_01-np.quantile(hist_data_n_01, 0.159, axis=0), np.quantile(hist_data_n_01, 0.841, axis=0)-hist_data_n_median_01],\n",
    "#              xerr=ATTWOOD.upper_bin_edge - ATTWOOD.bin_mids,\n",
    "#             label='median+68%')\n",
    "\n",
    "# run 02\n",
    "plt.errorbar(ATTWOOD.bin_mids, hist_data_n_mean_02, fmt='.', yerr=hist_data_n_std_02, xerr=ATTWOOD.upper_bin_edge - ATTWOOD.bin_mids, label='v = 1e-5 Mol.')\n",
    "# plt.errorbar(ATTWOOD.bin_mids, hist_data_n_median_02, fmt='.', \n",
    "#              yerr=[hist_data_n_median_02-np.quantile(hist_data_n_02, 0.159, axis=0), np.quantile(hist_data_n_02, 0.841, axis=0)-hist_data_n_median_02],\n",
    "#              xerr=ATTWOOD.upper_bin_edge - ATTWOOD.bin_mids,\n",
    "#             label='median+68%')\n",
    "\n",
    "plt.yscale('log')\n",
    "plt.xlabel(r'$\\theta_{\\mathrm{y}}\\,/\\,$rad')\n",
    "plt.ylabel('Normalized counts')\n",
    "plt.legend()\n",
    "plt.tight_layout()\n",
    "plt.savefig(plot_dir + 'attwood_comparison_moliere_199MeV_final_multi_mean.pdf', bbox_inches='tight')"
   ]
  },
  {
   "cell_type": "code",
   "execution_count": null,
   "id": "ed4befb9-1141-4fa4-b120-08b9bfca373a",
   "metadata": {},
   "outputs": [],
   "source": [
    "# attwood data\n",
    "plt.errorbar(np.rad2deg(ATTWOOD.bin_mids), ATTWOOD.data, fmt='o', color='black', alpha=0.9, yerr=ATTWOOD.data_unc, xerr=np.rad2deg(ATTWOOD.upper_bin_edge - ATTWOOD.bin_mids), label='Attwood')\n",
    "plt.errorbar(np.rad2deg(ATTWOOD.bin_mids), ATTWOOD.G4, fmt='^', color='black', alpha=0.9, yerr=ATTWOOD.G4_unc, xerr=np.rad2deg(ATTWOOD.upper_bin_edge - ATTWOOD.bin_mids), label=r'\\textsc{Geant4}')\n",
    "\n",
    "# run 03\n",
    "# plt.errorbar(ATTWOOD.bin_mids, hist_data_n_mean_03, fmt='.', yerr=hist_data_n_std_03, xerr=ATTWOOD.upper_bin_edge - ATTWOOD.bin_mids, label='v = 1e-3')\n",
    "# plt.errorbar(ATTWOOD.bin_mids, hist_data_n_median_03, fmt='.', \n",
    "#              yerr=[hist_data_n_median_03-np.quantile(hist_data_n_03, 0.159, axis=0), np.quantile(hist_data_n_03, 0.841, axis=0)-hist_data_n_median_03],\n",
    "#              xerr=ATTWOOD.upper_bin_edge - ATTWOOD.bin_mids,\n",
    "#             label='median+68%')\n",
    "\n",
    "# run 01\n",
    "plt.errorbar(np.rad2deg(ATTWOOD.bin_mids), hist_data_n_mean_01, fmt='.', yerr=hist_data_n_std_01, xerr=np.rad2deg(ATTWOOD.upper_bin_edge - ATTWOOD.bin_mids), label=r'\\raggedleft PROPOSAL')\n",
    "# plt.errorbar(ATTWOOD.bin_mids, hist_data_n_median_01, fmt='.', \n",
    "#              yerr=[hist_data_n_median_01-np.quantile(hist_data_n_01, 0.159, axis=0), np.quantile(hist_data_n_01, 0.841, axis=0)-hist_data_n_median_01],\n",
    "#              xerr=ATTWOOD.upper_bin_edge - ATTWOOD.bin_mids,\n",
    "#             label='median+68%')\n",
    "\n",
    "# run 02\n",
    "plt.errorbar(np.rad2deg(ATTWOOD.bin_mids), hist_data_n_mean_02, fmt='.', yerr=hist_data_n_std_02, xerr=np.rad2deg(ATTWOOD.upper_bin_edge - ATTWOOD.bin_mids), label=r'\\raggedleft PROPOSAL \\newline MSM only')\n",
    "# plt.errorbar(ATTWOOD.bin_mids, hist_data_n_median_02, fmt='.', \n",
    "#              yerr=[hist_data_n_median_02-np.quantile(hist_data_n_02, 0.159, axis=0), np.quantile(hist_data_n_02, 0.841, axis=0)-hist_data_n_median_02],\n",
    "#              xerr=ATTWOOD.upper_bin_edge - ATTWOOD.bin_mids,\n",
    "#             label='median+68%')\n",
    "\n",
    "plt.yscale('log')\n",
    "plt.xlabel(r'$\\theta_{\\mathrm{y}}\\,/\\,$deg')\n",
    "plt.ylabel('Counts')\n",
    "plt.minorticks_on()\n",
    "plt.legend(fontsize=12)\n",
    "plt.tight_layout()\n",
    "plt.savefig(plot_dir + 'attwood_comparison_moliere_199MeV_final_multi_mean_deg.pdf', bbox_inches='tight')"
   ]
  },
  {
   "cell_type": "markdown",
   "id": "3e98e438-341f-4ece-af5d-0c86a3700f03",
   "metadata": {},
   "source": [
    "### Attwood ratio plot"
   ]
  },
  {
   "cell_type": "code",
   "execution_count": null,
   "id": "ae31e167-6fdd-4b2a-9e99-73eac9de2c09",
   "metadata": {},
   "outputs": [],
   "source": [
    "a = 105.7\n",
    "b = 199 \n",
    "c = np.sqrt(b**2 - a**2)\n",
    "c"
   ]
  },
  {
   "cell_type": "code",
   "execution_count": null,
   "id": "debeedc2-af51-48f8-8871-925fff97a353",
   "metadata": {},
   "outputs": [],
   "source": [
    "np.sqrt(7301**2 - 105.7**2)"
   ]
  },
  {
   "cell_type": "code",
   "execution_count": null,
   "id": "d4d592bc-631e-4fd3-bfc2-0c4f6878a7ca",
   "metadata": {},
   "outputs": [],
   "source": [
    "# attwood data\n",
    "f, (ax0, ax1) = plt.subplots(2, 1, sharex=True, gridspec_kw={'height_ratios': [4, 1]})\n",
    "ax0.errorbar(np.rad2deg(ATTWOOD.bin_mids), ATTWOOD.data, fmt='o', color='black', alpha=0.9, yerr=ATTWOOD.data_unc, xerr=np.rad2deg(ATTWOOD.upper_bin_edge - ATTWOOD.bin_mids), label='Attwood')\n",
    "ax0.errorbar(np.rad2deg(ATTWOOD.bin_mids), ATTWOOD.G4, fmt='^', color='black', alpha=0.9, yerr=ATTWOOD.G4_unc, xerr=np.rad2deg(ATTWOOD.upper_bin_edge - ATTWOOD.bin_mids), label=r'\\textsc{Geant4}')\n",
    "\n",
    "\n",
    "# run 01\n",
    "ax0.errorbar(np.rad2deg(ATTWOOD.bin_mids), hist_data_n_mean_01, fmt='.', yerr=hist_data_n_std_01, xerr=np.rad2deg(ATTWOOD.upper_bin_edge - ATTWOOD.bin_mids), label=r'\\raggedleft PROPOSAL')\n",
    "\n",
    "# run 02\n",
    "ax0.errorbar(np.rad2deg(ATTWOOD.bin_mids), hist_data_n_mean_02, fmt='.', yerr=hist_data_n_std_02, xerr=np.rad2deg(ATTWOOD.upper_bin_edge - ATTWOOD.bin_mids), label=r'\\raggedleft PROPOSAL \\newline MSM only')\n",
    "\n",
    "ax0.set_yscale('log')\n",
    "ax0.set_ylabel('Counts')\n",
    "ax0.minorticks_on()\n",
    "ax0.legend(bbox_to_anchor=(1,1), fontsize=12)\n",
    "ax0.set_xlim(-7, 7)\n",
    "\n",
    "\n",
    "ax1.plot(np.linspace(-7, 7, 100), np.ones(100), '--', color='grey')\n",
    "ax1.plot(np.rad2deg(ATTWOOD.bin_mids), ATTWOOD.data/ATTWOOD.G4, color='black')\n",
    "ax1.plot(np.rad2deg(ATTWOOD.bin_mids), ATTWOOD.data/hist_data_n_mean_01)#, color='blue')\n",
    "ax1.plot(np.rad2deg(ATTWOOD.bin_mids), ATTWOOD.data/hist_data_n_mean_02)#, color='orange')\n",
    "ax1.set_xlabel(r'$\\theta_{\\mathrm{y}}\\,/\\,$deg')\n",
    "ax1.set_ylabel('Data/MC')\n",
    "\n",
    "f.tight_layout() # plt.subplots_adjust(hspace=0)\n",
    "f.savefig(plot_dir + 'attwood_comparison_moliere_199MeV_final_multi_mean_deg_ratio.pdf', bbox_inches='tight')"
   ]
  },
  {
   "cell_type": "markdown",
   "id": "5495ef5a-a35f-4ea8-8392-f7aca9baa3f6",
   "metadata": {},
   "source": [
    "## Check Attwood Geant4 PhysicsLists"
   ]
  },
  {
   "cell_type": "code",
   "execution_count": null,
   "id": "cae4b688-3fa3-42e6-8151-c22599c977c0",
   "metadata": {},
   "outputs": [],
   "source": [
    "bins = hist_binning\n",
    "\n",
    "data = pd.read_csv('Geant4/data/attwood/data_n2.txt', sep=r'\\s*,\\s*', engine='python') # QBBC.hh\n",
    "print(np.unique(data.z))\n",
    "data = data[data.z == 109]\n",
    "print(data)\n",
    "\n",
    "# get x and y directions\n",
    "px = data['px'].values\n",
    "py = data['py'].values\n",
    "\n",
    "# append zeros for decaying muons to set correct array length\n",
    "px = np.append(px, np.zeros(16))\n",
    "py = np.append(py, np.zeros(16))\n",
    "\n",
    "# reshape arrays to get single data sets\n",
    "px_shaped = px.reshape(int(len(px)/100000), 100000)\n",
    "py_shaped = py.reshape(int(len(py)/100000), 100000)\n",
    "\n",
    "# get binnend means and stds\n",
    "hist_data_n_G4_x = []\n",
    "for px in px_shaped:\n",
    "    n, x = np.histogram(px, bins=bins, density=True)\n",
    "    hist_data_n_G4_x.append(n)\n",
    "hist_data_n_mean_G4_x = np.mean(hist_data_n_G4_x, axis=0)\n",
    "hist_data_n_std_G4_x = np.std(hist_data_n_G4_x, axis=0)\n",
    "\n",
    "hist_data_n_G4_y = []\n",
    "for py in py_shaped:\n",
    "    n, x = np.histogram(py, bins=bins, density=True)\n",
    "    hist_data_n_G4_y.append(n)\n",
    "hist_data_n_mean_G4_y = np.mean(hist_data_n_G4_y, axis=0)\n",
    "hist_data_n_std_G4_y = np.std(hist_data_n_G4_y, axis=0)\n",
    "\n",
    "data_2 = pd.read_csv('Geant4/data/attwood/data_2_n2.txt', sep=r'\\s*,\\s*', engine='python') # QBBC.hh\n",
    "print(np.unique(data_2.z))\n",
    "data_2 = data_2[data_2.z == 109]\n",
    "print(data_2)\n",
    "\n",
    "# get x and y directions\n",
    "px = data_2['px'].values\n",
    "py = data_2['py'].values\n",
    "\n",
    "# append zeros for decaying muons to set correct array length\n",
    "px = np.append(px, np.zeros(16))\n",
    "py = np.append(py, np.zeros(16))\n",
    "\n",
    "# reshape arrays to get single data sets\n",
    "px_shaped = px.reshape(int(len(px)/100000), 100000)\n",
    "py_shaped = py.reshape(int(len(py)/100000), 100000)\n",
    "\n",
    "# get binnend means and stds\n",
    "hist_data_n_G4_x_2 = []\n",
    "for px in px_shaped:\n",
    "    n, x = np.histogram(px, bins=bins, density=True)\n",
    "    hist_data_n_G4_x_2.append(n)\n",
    "hist_data_n_mean_G4_x_2 = np.mean(hist_data_n_G4_x_2, axis=0)\n",
    "hist_data_n_std_G4_x_2 = np.std(hist_data_n_G4_x_2, axis=0)\n",
    "\n",
    "hist_data_n_G4_y_2 = []\n",
    "for py in py_shaped:\n",
    "    n, x = np.histogram(py, bins=bins, density=True)\n",
    "    hist_data_n_G4_y_2.append(n)\n",
    "hist_data_n_mean_G4_y_2 = np.mean(hist_data_n_G4_y_2, axis=0)\n",
    "hist_data_n_std_G4_y_2 = np.std(hist_data_n_G4_y_2, axis=0)\n",
    "\n",
    "data_3 = pd.read_csv('Geant4/data/attwood/data_3_n2.txt', sep=r'\\s*,\\s*', engine='python') # QBBC.hh\n",
    "print(np.unique(data_3.z))\n",
    "data_3 = data_3[data_3.z == 109]\n",
    "print(data_3)\n",
    "\n",
    "# get x and y directions\n",
    "px = data_3['px'].values\n",
    "py = data_3['py'].values\n",
    "\n",
    "# append zeros for decaying muons to set correct array length\n",
    "px = np.append(px, np.zeros(16))\n",
    "py = np.append(py, np.zeros(16))\n",
    "\n",
    "# reshape arrays to get single data sets\n",
    "px_shaped = px.reshape(int(len(px)/100000), 100000)\n",
    "py_shaped = py.reshape(int(len(py)/100000), 100000)\n",
    "\n",
    "# get binnend means and stds\n",
    "hist_data_n_G4_x_3 = []\n",
    "for px in px_shaped:\n",
    "    n, x = np.histogram(px, bins=bins, density=True)\n",
    "    hist_data_n_G4_x_3.append(n)\n",
    "hist_data_n_mean_G4_x_3 = np.mean(hist_data_n_G4_x_3, axis=0)\n",
    "hist_data_n_std_G4_x_3 = np.std(hist_data_n_G4_x_3, axis=0)\n",
    "\n",
    "hist_data_n_G4_y_3 = []\n",
    "for py in py_shaped:\n",
    "    n, x = np.histogram(py, bins=bins, density=True)\n",
    "    hist_data_n_G4_y_3.append(n)\n",
    "hist_data_n_mean_G4_y_3 = np.mean(hist_data_n_G4_y_3, axis=0)\n",
    "hist_data_n_std_G4_y_3 = np.std(hist_data_n_G4_y_3, axis=0)"
   ]
  },
  {
   "cell_type": "code",
   "execution_count": null,
   "id": "17ea988e-2f51-4583-b470-f8008ee965cb",
   "metadata": {},
   "outputs": [],
   "source": [
    "np.rad2deg(data.py)"
   ]
  },
  {
   "cell_type": "code",
   "execution_count": null,
   "id": "d2e9149a-7761-4d39-b1ab-ea5fce622923",
   "metadata": {},
   "outputs": [],
   "source": [
    "# attwood data\n",
    "f, (ax0, ax1) = plt.subplots(2, 1, sharex=True, gridspec_kw={'height_ratios': [4, 1]})\n",
    "ax0.errorbar(np.rad2deg(ATTWOOD.bin_mids), ATTWOOD.data, fmt='o', color='black', alpha=0.9, yerr=ATTWOOD.data_unc, xerr=np.rad2deg(ATTWOOD.upper_bin_edge - ATTWOOD.bin_mids), label='Attwood')\n",
    "ax0.errorbar(np.rad2deg(ATTWOOD.bin_mids), ATTWOOD.G4, fmt='^', color='black', alpha=0.9, yerr=ATTWOOD.G4_unc, xerr=np.rad2deg(ATTWOOD.upper_bin_edge - ATTWOOD.bin_mids), label=r'\\textsc{Geant4}')\n",
    "\n",
    "# Geant4 selfmade\n",
    "# ax0.errorbar(np.rad2deg(ATTWOOD.bin_mids), hist_data_n_mean_G4_y, fmt='.', yerr=hist_data_n_std_G4_y, xerr=np.rad2deg(ATTWOOD.upper_bin_edge - ATTWOOD.bin_mids), color='purple', label='Geant4')\n",
    "# ax0.errorbar(np.rad2deg(ATTWOOD.bin_mids), hist_data_n_mean_G4_y_2, fmt='.', yerr=hist_data_n_std_G4_y_2, xerr=np.rad2deg(ATTWOOD.upper_bin_edge - ATTWOOD.bin_mids), color='red', label='Geant4 2')\n",
    "ax0.errorbar(np.rad2deg(ATTWOOD.bin_mids), hist_data_n_mean_G4_y_3, fmt='.', yerr=hist_data_n_std_G4_y_3, xerr=np.rad2deg(ATTWOOD.upper_bin_edge - ATTWOOD.bin_mids), color='blue', label='Geant4 3')\n",
    "\n",
    "# run 01\n",
    "ax0.errorbar(np.rad2deg(ATTWOOD.bin_mids), hist_data_n_mean_01, fmt='.', yerr=hist_data_n_std_01, xerr=np.rad2deg(ATTWOOD.upper_bin_edge - ATTWOOD.bin_mids), label=r'\\raggedleft PROPOSAL')\n",
    "\n",
    "# run 02\n",
    "ax0.errorbar(np.rad2deg(ATTWOOD.bin_mids), hist_data_n_mean_02, fmt='.', yerr=hist_data_n_std_02, xerr=np.rad2deg(ATTWOOD.upper_bin_edge - ATTWOOD.bin_mids), label=r'\\raggedleft PROPOSAL \\newline MSM only')\n",
    "\n",
    "ax0.hist(np.rad2deg(data.py), bins=np.rad2deg(bins), weights=np.ones(len(data.py))/len(data.py), histtype='step')\n",
    "\n",
    "ax0.set_yscale('log')\n",
    "ax0.set_ylabel('Counts')\n",
    "ax0.minorticks_on()\n",
    "ax0.legend(bbox_to_anchor=(1,1), fontsize=12)\n",
    "ax0.set_xlim(-7, 7)\n",
    "\n",
    "\n",
    "ax1.plot(np.linspace(-7, 7, 100), np.ones(100), '--', color='grey')\n",
    "ax1.plot(np.rad2deg(ATTWOOD.bin_mids), ATTWOOD.data/ATTWOOD.G4, color='black')\n",
    "ax1.plot(np.rad2deg(ATTWOOD.bin_mids), ATTWOOD.data/hist_data_n_mean_01)#, color='blue')\n",
    "ax1.plot(np.rad2deg(ATTWOOD.bin_mids), ATTWOOD.data/hist_data_n_mean_02)#, color='orange')\n",
    "ax1.plot(np.rad2deg(ATTWOOD.bin_mids), ATTWOOD.data/hist_data_n_mean_G4_y_3, color='blue')\n",
    "ax1.set_xlabel(r'$\\theta_{\\mathrm{y}}\\,/\\,$deg')\n",
    "ax1.set_ylabel('Data/MC')\n",
    "\n",
    "f.tight_layout() # plt.subplots_adjust(hspace=0)\n",
    "f.savefig(plot_dir + 'attwood_comparison_moliere_199MeV_final_multi_mean_deg_ratio_PhysicsLists.pdf', bbox_inches='tight')"
   ]
  },
  {
   "cell_type": "code",
   "execution_count": null,
   "id": "fc02825a-61e7-4ece-a026-b82adce60029",
   "metadata": {},
   "outputs": [],
   "source": [
    "# attwood data\n",
    "f, (ax0, ax1) = plt.subplots(2, 1, sharex=True, gridspec_kw={'height_ratios': [4, 1]})\n",
    "ax0.errorbar(ATTWOOD.bin_mids, ATTWOOD.data, fmt='o', color='black', alpha=0.9, yerr=ATTWOOD.data_unc, xerr=ATTWOOD.upper_bin_edge - ATTWOOD.bin_mids, label='Attwood')\n",
    "ax0.errorbar(ATTWOOD.bin_mids, ATTWOOD.G4, fmt='^', color='black', alpha=0.9, yerr=ATTWOOD.G4_unc, xerr=ATTWOOD.upper_bin_edge - ATTWOOD.bin_mids, label=r'\\textsc{Geant4}')\n",
    "\n",
    "ax0.hist(data.py, bins=bins, density=True, histtype='step')\n",
    "\n",
    "ax0.set_yscale('log')\n",
    "ax0.set_ylabel('Counts')\n",
    "ax0.minorticks_on()\n",
    "ax0.legend(bbox_to_anchor=(1,1), fontsize=12)\n",
    "\n",
    "\n",
    "ax1.plot(ATTWOOD.bin_mids, ATTWOOD.data/ATTWOOD.G4, color='black')\n",
    "ax1.plot(ATTWOOD.bin_mids, ATTWOOD.data/hist_data_n_mean_01)#, color='blue')\n",
    "ax1.plot(ATTWOOD.bin_mids, ATTWOOD.data/hist_data_n_mean_02)#, color='orange')\n",
    "ax1.plot(ATTWOOD.bin_mids, ATTWOOD.data/hist_data_n_mean_G4_y_3, color='blue')\n",
    "ax1.set_xlabel(r'$\\theta_{\\mathrm{y}}\\,/\\,$deg')\n",
    "ax1.set_ylabel('Data/MC')\n",
    "\n",
    "f.tight_layout() # plt.subplots_adjust(hspace=0)\n",
    "# f.savefig(plot_dir + 'attwood_comparison_moliere_199MeV_final_multi_mean_deg_ratio_PhysicsLists.pdf', bbox_inches='tight')"
   ]
  },
  {
   "cell_type": "code",
   "execution_count": null,
   "id": "77b78897-012a-4e2f-a23c-81efb6e66843",
   "metadata": {},
   "outputs": [],
   "source": []
  },
  {
   "cell_type": "markdown",
   "id": "bb75f096-c615-4bd5-9d71-749534e98151",
   "metadata": {},
   "source": [
    "# Akimenko data comparison"
   ]
  },
  {
   "cell_type": "code",
   "execution_count": null,
   "id": "cc74f5e3-f128-46aa-979f-6ac0b798cea8",
   "metadata": {},
   "outputs": [],
   "source": [
    "AKIMENKO = pd.read_csv('data/akimenko/Akimenko_true_data.txt', sep='\\s+', names=['angle_low', 'angle_high', 'counts'], skiprows=1)\n",
    "df_01 = pd.read_hdf('data/akimenko_7301MeV_copper/akimenko_run_01.hdf5') # v_cut = 1e-5\n",
    "df_02 = pd.read_hdf('data/akimenko_7301MeV_copper/akimenko_run_02.hdf5') # v_cut = 1e-5 only Moliere\n",
    "df_03 = pd.read_hdf('data/akimenko_7301MeV_copper/akimenko_run_03.hdf5') # v_cut = 1e-3\n",
    "df_04 = pd.read_hdf('data/akimenko_7301MeV_copper/akimenko_run_04.hdf5') # v_cut = 1e-3 only Moliere\n",
    "df_05 = pd.read_hdf('data/akimenko_7301MeV_copper/akimenko_run_04.hdf5') # v_cut = 0.05, e_cut = 500 MeV\n",
    "\n",
    "# distance should be 1.44 cm\n",
    "print(np.unique(df_01.distances))\n",
    "print(np.unique(df_02.distances))\n",
    "print(np.unique(df_03.distances))\n",
    "print(np.unique(df_04.distances))\n",
    "print(np.unique(df_05.distances))\n",
    "\n",
    "df_01 = df_01[df_01.distances == 0.0144]\n",
    "df_02 = df_02[df_02.distances == 0.0144]\n",
    "df_03 = df_03[df_03.distances == 0.0144]\n",
    "df_04 = df_04[df_04.distances == 0.0144]\n",
    "df_05 = df_05[df_05.distances == 0.0144]"
   ]
  },
  {
   "cell_type": "code",
   "execution_count": null,
   "id": "0027ee73-c877-4636-bb2e-0f95322a52d7",
   "metadata": {},
   "outputs": [],
   "source": [
    "df_dict_01 = {}\n",
    "for seed in np.unique(df_01.rnd_seed):\n",
    "    key = \"df_{}\".format(int(seed))\n",
    "    df_dict_01[key] = df_01[df_01.rnd_seed == seed]\n",
    "    \n",
    "df_dict_02 = {}\n",
    "for seed in np.unique(df_02.rnd_seed):\n",
    "    key = \"df_{}\".format(int(seed))\n",
    "    df_dict_02[key] = df_02[df_02.rnd_seed == seed]\n",
    "    \n",
    "df_dict_03 = {}\n",
    "for seed in np.unique(df_03.rnd_seed):\n",
    "    key = \"df_{}\".format(int(seed))\n",
    "    df_dict_03[key] = df_03[df_03.rnd_seed == seed]\n",
    "    \n",
    "df_dict_04 = {}\n",
    "for seed in np.unique(df_04.rnd_seed):\n",
    "    key = \"df_{}\".format(int(seed))\n",
    "    df_dict_04[key] = df_04[df_04.rnd_seed == seed]\n",
    "    \n",
    "df_dict_05 = {}\n",
    "for seed in np.unique(df_05.rnd_seed):\n",
    "    key = \"df_{}\".format(int(seed))\n",
    "    df_dict_05[key] = df_05[df_05.rnd_seed == seed]"
   ]
  },
  {
   "cell_type": "code",
   "execution_count": null,
   "id": "d98644ff-17d4-40b4-81f5-69cf005b14a3",
   "metadata": {},
   "outputs": [],
   "source": [
    "bin_mids = [AKIMENKO.angle_low[i] - (AKIMENKO.angle_low[i] - AKIMENKO.angle_low[i+1])/2 for i in range(len(AKIMENKO)-1)]\n",
    "bin_mids.append(AKIMENKO.angle_low.values[-1] - (AKIMENKO.angle_low.values[-1] - AKIMENKO.angle_high.values[-1])/2)"
   ]
  },
  {
   "cell_type": "code",
   "execution_count": null,
   "id": "8c9fc6c3-97da-41c7-8492-47ee351b06e1",
   "metadata": {},
   "outputs": [],
   "source": [
    "hist_data_n_01 = []\n",
    "bins = np.append(AKIMENKO.angle_low.values/1000, AKIMENKO.angle_high.values[-1]/1000)\n",
    "for df in df_dict_01:\n",
    "    n, x = np.histogram(df_dict_01[df].y_dir_f, bins=bins)\n",
    "    hist_data_n_01.append(n)\n",
    "hist_data_n_mean_01 = np.mean(hist_data_n_01, axis=0)\n",
    "hist_data_n_std_01 = np.std(hist_data_n_01, axis=0)\n",
    "hist_data_n_median_01 = np.median(hist_data_n_01, axis=0)\n",
    "\n",
    "hist_data_n_02 = []\n",
    "for df in df_dict_02:\n",
    "    n, x = np.histogram(df_dict_02[df].y_dir_f, bins=bins)\n",
    "    hist_data_n_02.append(n)\n",
    "hist_data_n_mean_02 = np.mean(hist_data_n_02, axis=0)\n",
    "hist_data_n_std_02 = np.std(hist_data_n_02, axis=0)\n",
    "hist_data_n_median_02 = np.median(hist_data_n_02, axis=0)\n",
    "\n",
    "hist_data_n_03 = []\n",
    "for df in df_dict_03:\n",
    "    n, x = np.histogram(df_dict_03[df].y_dir_f, bins=bins)\n",
    "    hist_data_n_03.append(n)\n",
    "hist_data_n_mean_03 = np.mean(hist_data_n_03, axis=0)\n",
    "hist_data_n_std_03 = np.std(hist_data_n_03, axis=0)\n",
    "hist_data_n_median_03 = np.median(hist_data_n_03, axis=0)\n",
    "\n",
    "hist_data_n_04 = []\n",
    "for df in df_dict_04:\n",
    "    n, x = np.histogram(df_dict_04[df].y_dir_f, bins=bins)\n",
    "    hist_data_n_04.append(n)\n",
    "hist_data_n_mean_04 = np.mean(hist_data_n_04, axis=0)\n",
    "hist_data_n_std_04 = np.std(hist_data_n_04, axis=0)\n",
    "hist_data_n_median_04 = np.median(hist_data_n_04, axis=0)\n",
    "\n",
    "hist_data_n_05 = []\n",
    "for df in df_dict_05:\n",
    "    n, x = np.histogram(df_dict_05[df].y_dir_f, bins=bins)\n",
    "    hist_data_n_05.append(n)\n",
    "hist_data_n_mean_05 = np.mean(hist_data_n_05, axis=0)\n",
    "hist_data_n_std_05 = np.std(hist_data_n_05, axis=0)\n",
    "hist_data_n_median_05 = np.median(hist_data_n_05, axis=0)"
   ]
  },
  {
   "cell_type": "code",
   "execution_count": null,
   "id": "84ba1305-ae42-4061-baff-7a4bab71cf8d",
   "metadata": {},
   "outputs": [],
   "source": [
    "# akimenko data\n",
    "plt.errorbar(bin_mids, AKIMENKO.counts, fmt='o', color='black', alpha=0.9, yerr=np.sqrt(AKIMENKO.counts), xerr=AKIMENKO.angle_low-bin_mids, label='Akimenko')\n",
    "\n",
    "# run 03\n",
    "# plt.errorbar(bin_mids, hist_data_n_mean_03, fmt='.', yerr=hist_data_n_std_03, xerr=AKIMENKO.angle_low-bin_mids, label='v = 1e-3')\n",
    "# plt.errorbar(bin_mids, hist_data_n_median_03, fmt='.', \n",
    "#              yerr=[hist_data_n_median_03-np.quantile(hist_data_n_03, 0.159, axis=0), np.quantile(hist_data_n_03, 0.841, axis=0)-hist_data_n_median_03],\n",
    "#              xerr=AKIMENKO.angle_low-bin_mids,\n",
    "#             label='median+68%')\n",
    "\n",
    "# run 01\n",
    "plt.errorbar(bin_mids, hist_data_n_mean_01, fmt='.', yerr=hist_data_n_std_01, xerr=AKIMENKO.angle_low-bin_mids, label='v = 1e-5')\n",
    "# plt.errorbar(bin_mids, hist_data_n_median_01, fmt='.', \n",
    "#              yerr=[hist_data_n_median_01-np.quantile(hist_data_n_01, 0.159, axis=0), np.quantile(hist_data_n_01, 0.841, axis=0)-hist_data_n_median_01],\n",
    "#              xerr=AKIMENKO.angle_low-bin_mids,\n",
    "#             label='median+68%')\n",
    "\n",
    "# run 04\n",
    "# plt.errorbar(bin_mids, hist_data_n_mean_04, fmt='.', yerr=hist_data_n_std_04, xerr=AKIMENKO.angle_low-bin_mids, label='v = 1e-3 Mol.')\n",
    "# plt.errorbar(bin_mids, hist_data_n_median_04, fmt='.', \n",
    "#              yerr=[hist_data_n_median_04-np.quantile(hist_data_n_04, 0.159, axis=0), np.quantile(hist_data_n_04, 0.841, axis=0)-hist_data_n_median_04],\n",
    "#              xerr=AKIMENKO.angle_low-bin_mids,\n",
    "#             label='median+68%')\n",
    "\n",
    "# run 02\n",
    "plt.errorbar(bin_mids, hist_data_n_mean_02, fmt='.', yerr=hist_data_n_std_02, xerr=AKIMENKO.angle_low-bin_mids, label='v = 1e-5 Mol.')\n",
    "# plt.errorbar(bin_mids, hist_data_n_median_02, fmt='.', \n",
    "#              yerr=[hist_data_n_median_02-np.quantile(hist_data_n_02, 0.159, axis=0), np.quantile(hist_data_n_02, 0.841, axis=0)-hist_data_n_median_02],\n",
    "#              xerr=AKIMENKO.angle_low-bin_mids,\n",
    "#             label='median+68%')\n",
    "\n",
    "# run 05\n",
    "# plt.errorbar(bin_mids, hist_data_n_mean_05, fmt='.', yerr=hist_data_n_std_05, xerr=AKIMENKO.angle_low-bin_mids, label='v = 1e-5, e = 500')\n",
    "# plt.errorbar(bin_mids, hist_data_n_median_05, fmt='.', \n",
    "#              yerr=[hist_data_n_median_05-np.quantile(hist_data_n_05, 0.159, axis=0), np.quantile(hist_data_n_05, 0.841, axis=0)-hist_data_n_median_05],\n",
    "#              xerr=AKIMENKO.angle_low-bin_mids,\n",
    "#             label='median+68%')\n",
    "\n",
    "plt.yscale('log')\n",
    "plt.xlabel(r'$\\theta_{\\mathrm{y}}\\,/\\,$mrad')\n",
    "plt.ylabel('Counts')\n",
    "plt.legend()\n",
    "plt.tight_layout()\n",
    "plt.savefig(plot_dir + 'akimenko_comparison_moliere_E7301MeV_final_multi_mean.pdf', bbox_inches='tight')"
   ]
  },
  {
   "cell_type": "code",
   "execution_count": null,
   "id": "61227670-2bdb-424f-b09c-5e4d67ac1380",
   "metadata": {},
   "outputs": [],
   "source": [
    "# akimenko data\n",
    "plt.errorbar(np.rad2deg(bin_mids)/1e3, AKIMENKO.counts, fmt='o', color='black', alpha=0.9, yerr=np.sqrt(AKIMENKO.counts), xerr=np.rad2deg(AKIMENKO.angle_low-bin_mids)/1e3, label='Akimenko')\n",
    "\n",
    "# run 03\n",
    "# plt.errorbar(bin_mids, hist_data_n_mean_03, fmt='.', yerr=hist_data_n_std_03, xerr=AKIMENKO.angle_low-bin_mids, label='v = 1e-3')\n",
    "# plt.errorbar(bin_mids, hist_data_n_median_03, fmt='.', \n",
    "#              yerr=[hist_data_n_median_03-np.quantile(hist_data_n_03, 0.159, axis=0), np.quantile(hist_data_n_03, 0.841, axis=0)-hist_data_n_median_03],\n",
    "#              xerr=AKIMENKO.angle_low-bin_mids,\n",
    "#             label='median+68%')\n",
    "\n",
    "# run 01\n",
    "plt.errorbar(np.rad2deg(bin_mids)/1e3, hist_data_n_mean_01, fmt='.', yerr=hist_data_n_std_01, xerr=np.rad2deg(AKIMENKO.angle_low-bin_mids)/1e3, label=r'\\raggedleft PROPOSAL \\newline')\n",
    "# plt.errorbar(bin_mids, hist_data_n_median_01, fmt='.', \n",
    "#              yerr=[hist_data_n_median_01-np.quantile(hist_data_n_01, 0.159, axis=0), np.quantile(hist_data_n_01, 0.841, axis=0)-hist_data_n_median_01],\n",
    "#              xerr=AKIMENKO.angle_low-bin_mids,\n",
    "#             label='median+68%')\n",
    "\n",
    "# run 04\n",
    "# plt.errorbar(bin_mids, hist_data_n_mean_04, fmt='.', yerr=hist_data_n_std_04, xerr=AKIMENKO.angle_low-bin_mids, label='v = 1e-3 Mol.')\n",
    "# plt.errorbar(bin_mids, hist_data_n_median_04, fmt='.', \n",
    "#              yerr=[hist_data_n_median_04-np.quantile(hist_data_n_04, 0.159, axis=0), np.quantile(hist_data_n_04, 0.841, axis=0)-hist_data_n_median_04],\n",
    "#              xerr=AKIMENKO.angle_low-bin_mids,\n",
    "#             label='median+68%')\n",
    "\n",
    "# run 02\n",
    "plt.errorbar(np.rad2deg(bin_mids)/1e3, hist_data_n_mean_02, fmt='.', yerr=hist_data_n_std_02, xerr=np.rad2deg(AKIMENKO.angle_low-bin_mids)/1e3, label=r'\\raggedleft PROPOSAL \\newline MSM only')\n",
    "# plt.errorbar(bin_mids, hist_data_n_median_02, fmt='.', \n",
    "#              yerr=[hist_data_n_median_02-np.quantile(hist_data_n_02, 0.159, axis=0), np.quantile(hist_data_n_02, 0.841, axis=0)-hist_data_n_median_02],\n",
    "#              xerr=AKIMENKO.angle_low-bin_mids,\n",
    "#             label='median+68%')\n",
    "\n",
    "# run 05\n",
    "# plt.errorbar(bin_mids, hist_data_n_mean_05, fmt='.', yerr=hist_data_n_std_05, xerr=AKIMENKO.angle_low-bin_mids, label='v = 1e-5, e = 500')\n",
    "# plt.errorbar(bin_mids, hist_data_n_median_05, fmt='.', \n",
    "#              yerr=[hist_data_n_median_05-np.quantile(hist_data_n_05, 0.159, axis=0), np.quantile(hist_data_n_05, 0.841, axis=0)-hist_data_n_median_05],\n",
    "#              xerr=AKIMENKO.angle_low-bin_mids,\n",
    "#             label='median+68%')\n",
    "\n",
    "plt.yscale('log')\n",
    "plt.xlabel(r'$\\theta_{\\mathrm{y}}\\,/\\,$deg')\n",
    "plt.ylabel('Counts')\n",
    "plt.legend(fontsize=12)\n",
    "plt.minorticks_on()\n",
    "plt.tight_layout()\n",
    "plt.savefig(plot_dir + 'akimenko_comparison_moliere_E7301MeV_final_multi_mean_deg.pdf', bbox_inches='tight')"
   ]
  },
  {
   "cell_type": "markdown",
   "id": "f88e18ff-d934-4f33-9191-a1aba04625f8",
   "metadata": {},
   "source": [
    "### Akimenko ratio plot"
   ]
  },
  {
   "cell_type": "code",
   "execution_count": null,
   "id": "f9e947cf-3e5d-4d89-bdbf-9b68a6cc2a6a",
   "metadata": {},
   "outputs": [],
   "source": [
    "# akimenko data\n",
    "f, (ax0, ax1) = plt.subplots(2, 1, sharex=True, gridspec_kw={'height_ratios': [4, 1]})\n",
    "\n",
    "ax0.errorbar(np.rad2deg(bin_mids)/1e3, AKIMENKO.counts, fmt='o', color='black', alpha=0.9, yerr=np.sqrt(AKIMENKO.counts), xerr=np.rad2deg(AKIMENKO.angle_low-bin_mids)/1e3, label='Akimenko')\n",
    "# run 01\n",
    "ax0.errorbar(np.rad2deg(bin_mids)/1e3, hist_data_n_mean_01, fmt='.', yerr=hist_data_n_std_01, xerr=np.rad2deg(AKIMENKO.angle_low-bin_mids)/1e3, label=r'\\raggedleft PROPOSAL \\newline')\n",
    "# run 02\n",
    "ax0.errorbar(np.rad2deg(bin_mids)/1e3, hist_data_n_mean_02, fmt='.', yerr=hist_data_n_std_02, xerr=np.rad2deg(AKIMENKO.angle_low-bin_mids)/1e3, label=r'\\raggedleft PROPOSAL \\newline MSM only')\n",
    "\n",
    "ax0.set_yscale('log')\n",
    "ax0.set_ylabel('Counts')\n",
    "ax0.legend(fontsize=12)\n",
    "ax0.minorticks_on()\n",
    "ax0.set_xlim(-1.2, 1.2)\n",
    "\n",
    "\n",
    "ax1.plot(np.linspace(-1.2, 1.2, 100), np.ones(100), '--', color='grey')\n",
    "ax1.plot(np.rad2deg(bin_mids)/1e3, AKIMENKO.counts/hist_data_n_mean_01)#, color='blue')\n",
    "ax1.plot(np.rad2deg(bin_mids)/1e3, AKIMENKO.counts/hist_data_n_mean_02)#, color='orange')\n",
    "ax1.set_xlabel(r'$\\theta_{\\mathrm{y}}\\,/\\,$deg')\n",
    "ax1.set_ylabel('Data/MC')\n",
    "ax1.set_xlabel(r'$\\theta_{\\mathrm{y}}\\,/\\,$deg')\n",
    "\n",
    "f.tight_layout()\n",
    "f.savefig(plot_dir + 'akimenko_comparison_moliere_E7301MeV_final_multi_mean_deg_ratio.pdf', bbox_inches='tight')"
   ]
  },
  {
   "cell_type": "code",
   "execution_count": null,
   "id": "258cda4a-2c0f-4b89-af09-c2f52bf16e4d",
   "metadata": {
    "tags": []
   },
   "outputs": [],
   "source": [
    "data = pd.read_csv('Geant4/data/akimenko/data_n10.txt', sep=r'\\s*,\\s*', engine='python') # QBBC.hh\n",
    "print(np.unique(data.z))\n",
    "data = data[data.z == 14.4]\n",
    "print(data)\n",
    "\n",
    "# get x and y directions\n",
    "px = data['px'].values\n",
    "py = data['py'].values\n",
    "\n",
    "# reshape arrays to get single data sets\n",
    "px_shaped = px.reshape(int(len(px)/31125), 31125)\n",
    "py_shaped = py.reshape(int(len(py)/31125), 31125)\n",
    "\n",
    "# get binnend means and stds\n",
    "hist_data_n_G4_x = []\n",
    "for px in px_shaped:\n",
    "    n, x = np.histogram(px, bins=bins)\n",
    "    hist_data_n_G4_x.append(n)\n",
    "hist_data_n_mean_G4_x = np.mean(hist_data_n_G4_x, axis=0)\n",
    "hist_data_n_std_G4_x = np.std(hist_data_n_G4_x, axis=0)\n",
    "\n",
    "hist_data_n_G4_y = []\n",
    "for py in py_shaped:\n",
    "    n, x = np.histogram(py, bins=bins)\n",
    "    hist_data_n_G4_y.append(n)\n",
    "hist_data_n_mean_G4_y = np.mean(hist_data_n_G4_y, axis=0)\n",
    "hist_data_n_std_G4_y = np.std(hist_data_n_G4_y, axis=0)\n",
    "\n",
    "# akimenko data\n",
    "f, (ax0, ax1) = plt.subplots(2, 1, sharex=True, gridspec_kw={'height_ratios': [4, 1]})\n",
    "\n",
    "ax0.errorbar(np.rad2deg(bin_mids)/1e3, AKIMENKO.counts, fmt='o', color='black', alpha=0.9, yerr=np.sqrt(AKIMENKO.counts), xerr=np.rad2deg(AKIMENKO.angle_low-bin_mids)/1e3, label='Akimenko')\n",
    "\n",
    "# Geant4\n",
    "ax0.errorbar(np.rad2deg(bin_mids)/1e3, hist_data_n_mean_G4_y, fmt='.', yerr=hist_data_n_std_G4_y, xerr=np.rad2deg(AKIMENKO.angle_low-bin_mids)/1e3, color='purple', label=r'Geant4')\n",
    "\n",
    "\n",
    "# run 01\n",
    "ax0.errorbar(np.rad2deg(bin_mids)/1e3, hist_data_n_mean_01, fmt='.', yerr=hist_data_n_std_01, xerr=np.rad2deg(AKIMENKO.angle_low-bin_mids)/1e3, label=r'\\raggedleft PROPOSAL \\newline')\n",
    "# run 02\n",
    "ax0.errorbar(np.rad2deg(bin_mids)/1e3, hist_data_n_mean_02, fmt='.', yerr=hist_data_n_std_02, xerr=np.rad2deg(AKIMENKO.angle_low-bin_mids)/1e3, label=r'\\raggedleft PROPOSAL \\newline MSM only')\n",
    "\n",
    "ax0.set_yscale('log')\n",
    "ax0.set_ylabel('Counts')\n",
    "ax0.legend(fontsize=11)\n",
    "ax0.minorticks_on()\n",
    "ax0.set_xlim(-1.2, 1.2)\n",
    "\n",
    "\n",
    "ax1.plot(np.linspace(-1.2, 1.2, 100), np.ones(100), '--', color='grey')\n",
    "ax1.plot(np.rad2deg(bin_mids)/1e3, AKIMENKO.counts/hist_data_n_mean_G4_y, color='purple')\n",
    "ax1.plot(np.rad2deg(bin_mids)/1e3, AKIMENKO.counts/hist_data_n_mean_01)#, color='blue')\n",
    "ax1.plot(np.rad2deg(bin_mids)/1e3, AKIMENKO.counts/hist_data_n_mean_02)#, color='orange')\n",
    "ax1.set_xlabel(r'$\\theta_{\\mathrm{y}}\\,/\\,$deg')\n",
    "ax1.set_ylabel('Data/MC')\n",
    "ax1.set_xlabel(r'$\\theta_{\\mathrm{y}}\\,/\\,$deg')\n",
    "ax1.set_ylim(0.25, 3)\n",
    "\n",
    "f.tight_layout()\n",
    "f.savefig(plot_dir + 'akimenko_comparison_moliere_E7301MeV_final_multi_mean_deg_ratio_G4_v1_final.pdf', bbox_inches='tight')"
   ]
  },
  {
   "cell_type": "code",
   "execution_count": null,
   "id": "2157b66e-29e2-4dda-8870-8be3aaf579e2",
   "metadata": {},
   "outputs": [],
   "source": [
    "data = pd.read_csv('Geant4/data/akimenko/data_2_n10.txt', sep=r'\\s*,\\s*', engine='python') \n",
    "print(np.unique(data.z))\n",
    "data = data[data.z == 14.4]\n",
    "print(data)\n",
    "\n",
    "# get x and y directions\n",
    "px = data['px'].values\n",
    "py = data['py'].values\n",
    "\n",
    "# reshape arrays to get single data sets\n",
    "px_shaped = px.reshape(int(len(px)/31125), 31125)\n",
    "py_shaped = py.reshape(int(len(py)/31125), 31125)\n",
    "\n",
    "# get binnend means and stds\n",
    "hist_data_n_G4_x = []\n",
    "for px in px_shaped:\n",
    "    n, x = np.histogram(px, bins=bins)\n",
    "    hist_data_n_G4_x.append(n)\n",
    "hist_data_n_mean_G4_x = np.mean(hist_data_n_G4_x, axis=0)\n",
    "hist_data_n_std_G4_x = np.std(hist_data_n_G4_x, axis=0)\n",
    "\n",
    "hist_data_n_G4_y = []\n",
    "for py in py_shaped:\n",
    "    n, x = np.histogram(py, bins=bins)\n",
    "    hist_data_n_G4_y.append(n)\n",
    "hist_data_n_mean_G4_y = np.mean(hist_data_n_G4_y, axis=0)\n",
    "hist_data_n_std_G4_y = np.std(hist_data_n_G4_y, axis=0)\n",
    "\n",
    "# akimenko data\n",
    "f, (ax0, ax1) = plt.subplots(2, 1, sharex=True, gridspec_kw={'height_ratios': [4, 1]})\n",
    "\n",
    "ax0.errorbar(np.rad2deg(bin_mids)/1e3, AKIMENKO.counts, fmt='o', color='black', alpha=0.9, yerr=np.sqrt(AKIMENKO.counts), xerr=np.rad2deg(AKIMENKO.angle_low-bin_mids)/1e3, label='Akimenko')\n",
    "\n",
    "# Geant4\n",
    "ax0.errorbar(np.rad2deg(bin_mids)/1e3, hist_data_n_mean_G4_y, fmt='.', yerr=hist_data_n_std_G4_y, xerr=np.rad2deg(AKIMENKO.angle_low-bin_mids)/1e3, color='purple', label=r'Geant4')\n",
    "\n",
    "# run 01\n",
    "ax0.errorbar(np.rad2deg(bin_mids)/1e3, hist_data_n_mean_01, fmt='.', yerr=hist_data_n_std_01, xerr=np.rad2deg(AKIMENKO.angle_low-bin_mids)/1e3, label=r'\\raggedleft PROPOSAL \\newline')\n",
    "# run 02\n",
    "ax0.errorbar(np.rad2deg(bin_mids)/1e3, hist_data_n_mean_02, fmt='.', yerr=hist_data_n_std_02, xerr=np.rad2deg(AKIMENKO.angle_low-bin_mids)/1e3, label=r'\\raggedleft PROPOSAL \\newline MSM only')\n",
    "\n",
    "ax0.set_yscale('log')\n",
    "ax0.set_ylabel('Counts')\n",
    "ax0.legend(fontsize=12)\n",
    "ax0.minorticks_on()\n",
    "ax0.set_xlim(-1.2, 1.2)\n",
    "\n",
    "\n",
    "ax1.plot(np.linspace(-1.2, 1.2, 100), np.ones(100), '--', color='grey')\n",
    "ax1.plot(np.rad2deg(bin_mids)/1e3, AKIMENKO.counts/hist_data_n_mean_G4_y, color='purple')\n",
    "ax1.plot(np.rad2deg(bin_mids)/1e3, AKIMENKO.counts/hist_data_n_mean_01)#, color='blue')\n",
    "ax1.plot(np.rad2deg(bin_mids)/1e3, AKIMENKO.counts/hist_data_n_mean_02)#, color='orange')\n",
    "ax1.set_xlabel(r'$\\theta_{\\mathrm{y}}\\,/\\,$deg')\n",
    "ax1.set_ylabel('Data/MC')\n",
    "ax1.set_xlabel(r'$\\theta_{\\mathrm{y}}\\,/\\,$deg')\n",
    "ax1.set_ylim(0.25, 3)\n",
    "\n",
    "f.tight_layout()\n",
    "f.savefig(plot_dir + 'akimenko_comparison_moliere_E7301MeV_final_multi_mean_deg_ratio_G4_v2.pdf', bbox_inches='tight')"
   ]
  },
  {
   "cell_type": "markdown",
   "id": "a4544618-b969-40bd-8db6-960fca6e617e",
   "metadata": {
    "tags": []
   },
   "source": [
    "## Check Akimenko Geant4 PhysicsLists"
   ]
  },
  {
   "cell_type": "code",
   "execution_count": null,
   "id": "e79f5030-7060-4075-9ac1-1c4b3617fac5",
   "metadata": {},
   "outputs": [],
   "source": [
    "data = pd.read_csv('Geant4/data/akimenko/data_n10.txt', sep=r'\\s*,\\s*', engine='python') # QBBC.hh\n",
    "print(np.unique(data.z))\n",
    "data = data[data.z == 14.4]\n",
    "print(data)\n",
    "\n",
    "# get x and y directions\n",
    "px = data['px'].values\n",
    "py = data['py'].values\n",
    "\n",
    "# reshape arrays to get single data sets\n",
    "px_shaped = px.reshape(int(len(px)/31125), 31125)\n",
    "py_shaped = py.reshape(int(len(py)/31125), 31125)\n",
    "\n",
    "# get binnend means and stds\n",
    "hist_data_n_G4_x = []\n",
    "for px in px_shaped:\n",
    "    n, x = np.histogram(px, bins=bins)\n",
    "    hist_data_n_G4_x.append(n)\n",
    "hist_data_n_mean_G4_x = np.mean(hist_data_n_G4_x, axis=0)\n",
    "hist_data_n_std_G4_x = np.std(hist_data_n_G4_x, axis=0)\n",
    "\n",
    "hist_data_n_G4_y = []\n",
    "for py in py_shaped:\n",
    "    n, x = np.histogram(py, bins=bins)\n",
    "    hist_data_n_G4_y.append(n)\n",
    "hist_data_n_mean_G4_y = np.mean(hist_data_n_G4_y, axis=0)\n",
    "hist_data_n_std_G4_y = np.std(hist_data_n_G4_y, axis=0)\n",
    "\n",
    "data_2 = pd.read_csv('Geant4/data/akimenko/data_2_n10.txt', sep=r'\\s*,\\s*', engine='python') # QBBC.hh\n",
    "print(np.unique(data_2.z))\n",
    "data_2 = data_2[data_2.z == 14.4]\n",
    "print(data_2)\n",
    "\n",
    "# get x and y directions\n",
    "px = data_2['px'].values\n",
    "py = data_2['py'].values\n",
    "\n",
    "# reshape arrays to get single data sets\n",
    "px_shaped = px.reshape(int(len(px)/31125), 31125)\n",
    "py_shaped = py.reshape(int(len(py)/31125), 31125)\n",
    "\n",
    "# get binnend means and stds\n",
    "hist_data_n_G4_x_2 = []\n",
    "for px in px_shaped:\n",
    "    n, x = np.histogram(px, bins=bins)\n",
    "    hist_data_n_G4_x_2.append(n)\n",
    "hist_data_n_mean_G4_x_2 = np.mean(hist_data_n_G4_x_2, axis=0)\n",
    "hist_data_n_std_G4_x_2 = np.std(hist_data_n_G4_x_2, axis=0)\n",
    "\n",
    "hist_data_n_G4_y_2 = []\n",
    "for py in py_shaped:\n",
    "    n, x = np.histogram(py, bins=bins)\n",
    "    hist_data_n_G4_y_2.append(n)\n",
    "hist_data_n_mean_G4_y_2 = np.mean(hist_data_n_G4_y_2, axis=0)\n",
    "hist_data_n_std_G4_y_2 = np.std(hist_data_n_G4_y_2, axis=0)\n",
    "\n",
    "data_3 = pd.read_csv('Geant4/data/akimenko/data_3_n10.txt', sep=r'\\s*,\\s*', engine='python') # FTFP_BERT.hh\n",
    "print(np.unique(data_3.z))\n",
    "data_3 = data_3[data_3.z == 14.4]\n",
    "print(data_3)\n",
    "\n",
    "# get x and y directions\n",
    "px = data_3['px'].values\n",
    "py = data_3['py'].values\n",
    "\n",
    "# reshape arrays to get single data sets\n",
    "px_shaped = px.reshape(int(len(px)/31125), 31125)\n",
    "py_shaped = py.reshape(int(len(py)/31125), 31125)\n",
    "\n",
    "# get binnend means and stds\n",
    "hist_data_n_G4_x_3 = []\n",
    "for px in px_shaped:\n",
    "    n, x = np.histogram(px, bins=bins)\n",
    "    hist_data_n_G4_x_3.append(n)\n",
    "hist_data_n_mean_G4_x_3 = np.mean(hist_data_n_G4_x_3, axis=0)\n",
    "hist_data_n_std_G4_x_3 = np.std(hist_data_n_G4_x_3, axis=0)\n",
    "\n",
    "hist_data_n_G4_y_3 = []\n",
    "for py in py_shaped:\n",
    "    n, x = np.histogram(py, bins=bins)\n",
    "    hist_data_n_G4_y_3.append(n)\n",
    "hist_data_n_mean_G4_y_3 = np.mean(hist_data_n_G4_y_3, axis=0)\n",
    "hist_data_n_std_G4_y_3 = np.std(hist_data_n_G4_y_3, axis=0)\n",
    "\n",
    "data_4 = pd.read_csv('Geant4/data/akimenko/data_4_n10.txt', sep=r'\\s*,\\s*', engine='python') # QBBC.hh\n",
    "print(np.unique(data_4.z))\n",
    "data_4 = data_4[data_4.z == 14.4]\n",
    "print(data_4)\n",
    "\n",
    "# get x and y directions\n",
    "px = data_4['px'].values\n",
    "py = data_4['py'].values\n",
    "\n",
    "# reshape arrays to get single data sets\n",
    "px_shaped = px.reshape(int(len(px)/31125), 31125)\n",
    "py_shaped = py.reshape(int(len(py)/31125), 31125)\n",
    "\n",
    "# get binnend means and stds\n",
    "hist_data_n_G4_x_4 = []\n",
    "for px in px_shaped:\n",
    "    n, x = np.histogram(px, bins=bins)\n",
    "    hist_data_n_G4_x_4.append(n)\n",
    "hist_data_n_mean_G4_x_4 = np.mean(hist_data_n_G4_x_4, axis=0)\n",
    "hist_data_n_std_G4_x_4 = np.std(hist_data_n_G4_x_4, axis=0)\n",
    "\n",
    "hist_data_n_G4_y_4 = []\n",
    "for py in py_shaped:\n",
    "    n, x = np.histogram(py, bins=bins)\n",
    "    hist_data_n_G4_y_4.append(n)\n",
    "hist_data_n_mean_G4_y_4 = np.mean(hist_data_n_G4_y_4, axis=0)\n",
    "hist_data_n_std_G4_y_4 = np.std(hist_data_n_G4_y_4, axis=0)"
   ]
  },
  {
   "cell_type": "code",
   "execution_count": null,
   "id": "b99518fc-b7b9-4593-9bcf-283cbc2807da",
   "metadata": {},
   "outputs": [],
   "source": [
    "# Geant4\n",
    "\n",
    "# akimenko data\n",
    "f, (ax0, ax1) = plt.subplots(2, 1, sharex=True, gridspec_kw={'height_ratios': [4, 1]})\n",
    "\n",
    "ax0.errorbar(np.rad2deg(bin_mids)/1e3, AKIMENKO.counts, fmt='o', color='black', alpha=0.9, yerr=np.sqrt(AKIMENKO.counts), xerr=np.rad2deg(AKIMENKO.angle_low-bin_mids)/1e3, label='Akimenko')\n",
    "\n",
    "# Geant4\n",
    "\n",
    "ax0.errorbar(np.rad2deg(bin_mids)/1e3, hist_data_n_mean_G4_y, fmt='.', yerr=hist_data_n_std_G4_y, xerr=np.rad2deg(AKIMENKO.angle_low-bin_mids)/1e3, color='purple', label=r'Geant4')\n",
    "ax0.errorbar(np.rad2deg(bin_mids)/1e3, hist_data_n_mean_G4_y_2, fmt='.', yerr=hist_data_n_std_G4_y_2, xerr=np.rad2deg(AKIMENKO.angle_low-bin_mids)/1e3, color='red', label=r'Geant4 2')\n",
    "ax0.errorbar(np.rad2deg(bin_mids)/1e3, hist_data_n_mean_G4_y_3, fmt='.', yerr=hist_data_n_std_G4_y_3, xerr=np.rad2deg(AKIMENKO.angle_low-bin_mids)/1e3, color='blue', label=r'Geant4 3')\n",
    "ax0.errorbar(np.rad2deg(bin_mids)/1e3, hist_data_n_mean_G4_y_4, fmt='.', yerr=hist_data_n_std_G4_y_4, xerr=np.rad2deg(AKIMENKO.angle_low-bin_mids)/1e3, color='cyan', label=r'Geant4 4')\n",
    "\n",
    "\n",
    "ax0.set_yscale('log')\n",
    "ax0.set_ylabel('Counts')\n",
    "ax0.legend(fontsize=12)\n",
    "ax0.minorticks_on()\n",
    "ax0.set_xlim(-1.2, 1.2)\n",
    "\n",
    "\n",
    "ax1.plot(np.linspace(-1.2, 1.2, 100), np.ones(100), '--', color='grey')\n",
    "ax1.plot(np.rad2deg(bin_mids)/1e3, AKIMENKO.counts/hist_data_n_mean_G4_y, color='purple')\n",
    "ax1.plot(np.rad2deg(bin_mids)/1e3, AKIMENKO.counts/hist_data_n_mean_G4_y_2, color='red')\n",
    "ax1.plot(np.rad2deg(bin_mids)/1e3, AKIMENKO.counts/hist_data_n_mean_G4_y_3, color='blue')\n",
    "ax1.plot(np.rad2deg(bin_mids)/1e3, AKIMENKO.counts/hist_data_n_mean_G4_y_4, color='cyan')\n",
    "ax1.set_xlabel(r'$\\theta_{\\mathrm{y}}\\,/\\,$deg')\n",
    "ax1.set_ylabel('Data/MC')\n",
    "ax1.set_xlabel(r'$\\theta_{\\mathrm{y}}\\,/\\,$deg')\n",
    "ax1.set_ylim(0.25, 3)\n",
    "\n",
    "f.tight_layout()\n",
    "f.savefig(plot_dir + 'akimenko_comparison_moliere_E7301MeV_final_multi_mean_deg_ratio_G4_checkPhysicsLists.pdf', bbox_inches='tight')"
   ]
  },
  {
   "cell_type": "code",
   "execution_count": null,
   "id": "be43d7b9-69bc-4bcf-8ec1-d2065309d391",
   "metadata": {},
   "outputs": [],
   "source": [
    "# Geant4\n",
    "\n",
    "# akimenko data\n",
    "f, (ax0, ax1) = plt.subplots(2, 1, sharex=True, gridspec_kw={'height_ratios': [4, 1]})\n",
    "\n",
    "ax0.errorbar(np.rad2deg(bin_mids)/1e3, AKIMENKO.counts, fmt='o', color='black', alpha=0.9, yerr=np.sqrt(AKIMENKO.counts), xerr=np.rad2deg(AKIMENKO.angle_low-bin_mids)/1e3, label='Akimenko')\n",
    "\n",
    "\n",
    "# Geant4\n",
    "ax0.errorbar(np.rad2deg(bin_mids)/1e3, hist_data_n_mean_G4_y, fmt='.', yerr=hist_data_n_std_G4_y, xerr=np.rad2deg(AKIMENKO.angle_low-bin_mids)/1e3, color='purple', label=r'Geant4')\n",
    "ax0.errorbar(np.rad2deg(bin_mids)/1e3, hist_data_n_mean_G4_y_2, fmt='.', yerr=hist_data_n_std_G4_y_2, xerr=np.rad2deg(AKIMENKO.angle_low-bin_mids)/1e3, color='red', label=r'Geant4 2')\n",
    "ax0.errorbar(np.rad2deg(bin_mids)/1e3, hist_data_n_mean_G4_y_3, fmt='.', yerr=hist_data_n_std_G4_y_3, xerr=np.rad2deg(AKIMENKO.angle_low-bin_mids)/1e3, color='blue', label=r'Geant4 3')\n",
    "ax0.errorbar(np.rad2deg(bin_mids)/1e3, hist_data_n_mean_G4_y_4, fmt='.', yerr=hist_data_n_std_G4_y_4, xerr=np.rad2deg(AKIMENKO.angle_low-bin_mids)/1e3, color='cyan', label=r'Geant4 4')\n",
    "\n",
    "\n",
    "ax0.set_yscale('log')\n",
    "ax0.set_ylabel('Counts')\n",
    "ax0.legend(fontsize=12)\n",
    "ax0.minorticks_on()\n",
    "ax0.set_xlim(-1.2, 1.2)\n",
    "\n",
    "\n",
    "ax1.plot(np.linspace(-1.2, 1.2, 100), np.ones(100), '--', color='grey')\n",
    "ax1.plot(np.rad2deg(bin_mids)/1e3, hist_data_n_mean_G4_y/hist_data_n_mean_G4_y_2, color='red')\n",
    "ax1.plot(np.rad2deg(bin_mids)/1e3, hist_data_n_mean_G4_y/hist_data_n_mean_G4_y_3, color='blue')\n",
    "ax1.plot(np.rad2deg(bin_mids)/1e3, hist_data_n_mean_G4_y/hist_data_n_mean_G4_y_4, color='cyan')\n",
    "ax1.set_xlabel(r'$\\theta_{\\mathrm{y}}\\,/\\,$deg')\n",
    "ax1.set_ylabel('MC1/MC2')\n",
    "ax1.set_xlabel(r'$\\theta_{\\mathrm{y}}\\,/\\,$deg')\n",
    "#ax1.set_ylim(0.25, 3)\n",
    "\n",
    "f.tight_layout()\n",
    "f.savefig(plot_dir + 'akimenko_comparison_moliere_E7301MeV_final_multi_mean_deg_ratio_G4_checkPhysicsLists_noData.pdf', bbox_inches='tight')"
   ]
  },
  {
   "cell_type": "markdown",
   "id": "3d09981a-effe-4a0a-b1ed-c7fae75d2a1c",
   "metadata": {
    "tags": []
   },
   "source": [
    "## GEANT4 and MUSIC comparison"
   ]
  },
  {
   "cell_type": "code",
   "execution_count": null,
   "id": "7ce70e6c-4835-4ea7-88c6-4c76bc1f9d22",
   "metadata": {},
   "outputs": [],
   "source": [
    "# Read data\n",
    "df_moliere = pd.read_hdf('data/compare_MUSIC/MUSIC_2TeV_3km_water_final.hdf5')\n",
    "df_highland = pd.read_hdf('data/compare_MUSIC/MUSIC_2TeV_3km_water_final_highland.hdf5')\n",
    "df_GEANT4_moliere = pd.read_hdf('data/compare_MUSIC/MUSIC_2TeV_3km_water_final_GEANT4.hdf5')\n",
    "df_GEANT4_highland = pd.read_hdf('data/compare_MUSIC/MUSIC_2TeV_3km_water_final_GEANT4_highland.hdf5')\n",
    "df_MUSIC = pd.read_csv('data/compare_MUSIC/MUSIC_displacement.csv', sep=';', names=['d_shower', 'counts'], decimal=',')\n",
    "df_GEANT4 = pd.read_csv('data/compare_MUSIC/Geant4_displacement.csv', sep=';', names=['d_shower', 'counts'], decimal=',')\n",
    "df_GEANT4_angle = pd.read_csv('data/compare_MUSIC/GEANT4_angle.csv', sep=';', names=['angle', 'counts'], decimal=',')\n",
    "df_MUSIC_angle = pd.read_csv('data/compare_MUSIC/MUSIC_angle.csv', sep=';', names=['angle', 'counts'], decimal=',')"
   ]
  },
  {
   "cell_type": "code",
   "execution_count": null,
   "id": "3fce5b32-2f1e-41dd-b9b7-eea5ab8b0781",
   "metadata": {},
   "outputs": [],
   "source": [
    "E_i = df_moliere.E_i[0] * 1e3 # in MeV\n",
    "E_f = mode(df_moliere.E_f) * 1e3 # in MeV \n",
    "n_events = len(df_moliere)\n",
    "print('number events: ', n_events)\n",
    "\n",
    "d_shower_moliere = np.sqrt(df_moliere.x_f**2 + df_moliere.y_f**2) / 1e2 # in meter\n",
    "d_shower_GEANT4_moliere = np.sqrt(df_GEANT4_moliere.x_f**2 + df_GEANT4_moliere.y_f**2) / 1e2 # in meter\n",
    "d_shower_highland = np.sqrt(df_highland.x_f**2 + df_highland.y_f**2) / 1e2 # in meter\n",
    "d_shower_GEANT4_highland = np.sqrt(df_GEANT4_highland.x_f**2 + df_GEANT4_highland.y_f**2) / 1e2 # in meter"
   ]
  },
  {
   "cell_type": "code",
   "execution_count": null,
   "id": "a80bdde2-86c2-48fe-ba23-b125bf0aab75",
   "metadata": {},
   "outputs": [],
   "source": [
    "# make combined plot\n",
    "\n",
    "fig, (ax1, ax2) = plt.subplots(1, 2, figsize=[6, 4.5])\n",
    "\n",
    "bins = np.linspace(0, 5, 101)\n",
    "ax1.hist(df_moliere.deflection[df_moliere.distances==3e3], bins=bins, histtype='step', label='PROPOSAL (vG, Molière)')\n",
    "ax1.hist(df_GEANT4_moliere.deflection[df_GEANT4_moliere.distances==3e3], bins=bins, histtype='step', label='PROPOSAL (Geant4, Molière)')\n",
    "ax1.hist(df_highland.deflection[df_highland.distances==3e3], bins=bins, histtype='step', label='PROPOSAL (vG, Highland)')\n",
    "ax1.hist(df_GEANT4_highland.deflection[df_GEANT4_highland.distances==3e3], bins=bins, histtype='step', color=\"pink\", label='PROPOSAL (Geant4, Highland)')\n",
    "\n",
    "ax1.set_yscale('log')\n",
    "ax1.set_xlabel(r'$\\theta_{\\mathrm{acc}}\\,/\\,$°')\n",
    "ax1.set_ylabel('Counts')\n",
    "\n",
    "\n",
    "ax1.plot(df_MUSIC_angle['angle'], df_MUSIC_angle['counts'], color='black', linewidth=0.8, label='MUSIC')\n",
    "ax1.plot(df_GEANT4_angle['angle'], df_GEANT4_angle['counts'], color='red', linewidth=0.8, label='Geant4')\n",
    "\n",
    "\n",
    "\n",
    "bins = np.linspace(0, 20, 101)\n",
    "ax2.hist(d_shower_moliere[df_moliere.distances==3e3], bins=bins, histtype='step') # , label='vG moliere')\n",
    "ax2.hist(d_shower_GEANT4_moliere[df_GEANT4_moliere.distances==3e3], bins=bins, histtype='step') # , label='GEANT4 moliere')\n",
    "ax2.hist(d_shower_highland[df_highland.distances==3e3], bins=bins, histtype='step') # , label='vG highland')\n",
    "ax2.hist(d_shower_GEANT4_highland[df_GEANT4_highland.distances==3e3], bins=bins, color='pink', histtype='step') # , label='GEANT4 highland')\n",
    "\n",
    "ax2.set_yscale('log')\n",
    "ax2.set_xlabel(r'$x\\,/\\,$m') \n",
    "ax2.set_ylabel('Counts')\n",
    "\n",
    "\n",
    "ax2.plot(df_MUSIC['d_shower'], df_MUSIC['counts'], color='black', linewidth=0.8) # , label='MUSIC')\n",
    "ax2.plot(df_GEANT4['d_shower'], df_GEANT4['counts'], color='red', linewidth=0.8) # , label='GEANT4')\n",
    "\n",
    "ax1.legend(loc='lower left', bbox_to_anchor=(-0.05, 1, 2.4, 0.2), ncol=2, mode='expand')      \n",
    "\n",
    "\n",
    "\n",
    "plt.tight_layout()\n",
    "if save_plot:\n",
    "    plt.savefig(plot_dir + '{}_{}events_accumulated_defl_paper_combined.pdf'.format('2TeV', '1e6'), bbox_inches='tight')"
   ]
  },
  {
   "cell_type": "code",
   "execution_count": null,
   "id": "aa0684e6-fbc6-4ebc-b59e-db85ea5b9052",
   "metadata": {},
   "outputs": [],
   "source": [
    "# make combined plot with zoom\n",
    "\n",
    "fig, (ax1, ax2) = plt.subplots(1, 2, figsize=(6, 4.5))\n",
    "\n",
    "bins = np.linspace(0, 5, 101)\n",
    "ax1.hist(df_moliere.deflection[df_moliere.distances==3e3], bins=bins, histtype='step', label='PROPOSAL (vG, MSM)')\n",
    "ax1.hist(df_GEANT4_moliere.deflection[df_GEANT4_moliere.distances==3e3], bins=bins, histtype='step', label=r'PROPOSAL (\\textsc{Geant4}, MSM)')\n",
    "ax1.hist(df_highland.deflection[df_highland.distances==3e3], bins=bins, histtype='step', label='PROPOSAL (vG, MSH)')\n",
    "ax1.hist(df_GEANT4_highland.deflection[df_GEANT4_highland.distances==3e3], bins=bins, histtype='step', color=\"pink\", label=r'PROPOSAL (\\textsc{Geant4}, MSH)')\n",
    "\n",
    "ax1.set_yscale('log')\n",
    "ax1.set_xlabel(r'$\\theta_{\\mathrm{acc}}\\,/\\,$deg')\n",
    "ax1.set_ylabel('Counts')\n",
    "ax1.minorticks_on()\n",
    "\n",
    "ax1.plot(df_MUSIC_angle['angle'], df_MUSIC_angle['counts'], color='black', linewidth=0.8, label='MUSIC')\n",
    "ax1.plot(df_GEANT4_angle['angle'], df_GEANT4_angle['counts'], color='red', linewidth=0.8, label=r'\\textsc{Geant4}')\n",
    "\n",
    "\n",
    "\n",
    "bins = np.linspace(0, 20, 101)\n",
    "ax2.hist(d_shower_moliere[df_moliere.distances==3e3], bins=bins, histtype='step') # , label='vG moliere')\n",
    "ax2.hist(d_shower_GEANT4_moliere[df_GEANT4_moliere.distances==3e3], bins=bins, histtype='step') # , label='GEANT4 moliere')\n",
    "ax2.hist(d_shower_highland[df_highland.distances==3e3], bins=bins, histtype='step') # , label='vG highland')\n",
    "ax2.hist(d_shower_GEANT4_highland[df_GEANT4_highland.distances==3e3], bins=bins, color='pink', histtype='step') # , label='GEANT4 highland')\n",
    "\n",
    "ax2.set_yscale('log')\n",
    "ax2.set_xlabel(r'$x\\,/\\,$m') \n",
    "# ax2.set_ylabel('counts')\n",
    "ax2.set_ylim(0.6, None)\n",
    "ax2.minorticks_on()\n",
    "\n",
    "ax2.plot(df_MUSIC['d_shower'], df_MUSIC['counts'], color='black', linewidth=0.8) # , label='MUSIC')\n",
    "ax2.plot(df_GEANT4['d_shower'], df_GEANT4['counts'], color='red', linewidth=0.8) # , label='GEANT4')\n",
    "\n",
    "ax1.legend(loc='lower left', bbox_to_anchor=(-0.19, 1, 2.45, 0.2), ncol=2, mode='expand')      \n",
    "\n",
    "\n",
    "# axins = inset_axes(ax2, loc=\"upper left\", width=1, height=1.2, bbox_to_anchor=[-1, 38], bbox_transform=ax2.transData, borderpad=0)\n",
    "axins = inset_axes(ax2, loc=\"lower left\", width=1, height=1.2, bbox_to_anchor=[-1, 0.6], bbox_transform=ax2.transData, borderpad=0)\n",
    "axins.plot(df_MUSIC['d_shower'], df_MUSIC['counts'], color='black', linewidth=0.8)\n",
    "axins.plot(df_GEANT4['d_shower'], df_GEANT4['counts'], color='red', linewidth=0.8) \n",
    "axins.hist(d_shower_moliere[df_moliere.distances==3e3], bins=bins, histtype='step')\n",
    "axins.hist(d_shower_GEANT4_moliere[df_GEANT4_moliere.distances==3e3], bins=bins, histtype='step') \n",
    "axins.hist(d_shower_highland[df_highland.distances==3e3], bins=bins, histtype='step')\n",
    "axins.hist(d_shower_GEANT4_highland[df_GEANT4_highland.distances==3e3], bins=bins, color='pink', histtype='step')\n",
    "axins.set_yscale('log')\n",
    "axins.set_xlim(0, 4)\n",
    "axins.set_ylim(2.8e4, 5.2e4)\n",
    "axins.set_yticks([3e4, 4e4, 5e4])\n",
    "axins.set_yticklabels([r'$3\\cdot 10^{4}$', r'$4\\cdot 10^{4}$', ''], rotation=-10)\n",
    "# axins.set_yticks([3e4, 4e4, 5e4])\n",
    "# axins.set_yticklabels(['3e4', '4e4', '5e4'], rotation=-40)\n",
    "axins.set_xticks([1, 2, 3])\n",
    "axins.yaxis.tick_right()\n",
    "axins.xaxis.tick_top()\n",
    "axins.xaxis.set_tick_params(labelsize=8)\n",
    "axins.yaxis.set_tick_params(labelsize=8)\n",
    "\n",
    "\n",
    "\n",
    "\n",
    "# plt.tight_layout()\n",
    "if save_plot:\n",
    "    plt.savefig(plot_dir + '{}_{}events_accumulated_defl_paper_combined_zoom.pdf'.format('2TeV', '1e6'), bbox_inches='tight')"
   ]
  },
  {
   "cell_type": "code",
   "execution_count": null,
   "id": "d3ae9ab2-b27e-4bdd-af1f-5bade23e8694",
   "metadata": {},
   "outputs": [],
   "source": [
    "# survival probability with E_f = 10 MeV (muon mass)\n",
    "surv_proposal_moliere = np.round(len(df_moliere[df_moliere.distances==3e3]) / len(df_moliere), 3)\n",
    "surv_proposal_highland = np.round(len(df_highland[df_highland.distances==3e3]) / len(df_highland), 3)\n",
    "surv_music = 0.779\n",
    "surv_geant4 = 0.793\n",
    "print('--- survival probability:')\n",
    "print('proposal moliere: ', surv_proposal_moliere)\n",
    "print('proposal highland: ', surv_proposal_highland)\n",
    "print('music: ', surv_music)\n",
    "print('geant4: ', surv_geant4)\n",
    "\n",
    "# mean scattered angle in degree\n",
    "mean_angle_proposal_moliere = np.round(np.mean(df_moliere.deflection[df_moliere.distances==3e3]), 2)\n",
    "mean_angle_proposal_GEANT4_moliere = np.round(np.mean(df_GEANT4_moliere.deflection[df_GEANT4_moliere.distances==3e3]), 2)\n",
    "mean_angle_proposal_highland = np.round(np.mean(df_highland.deflection[df_highland.distances==3e3]), 2)\n",
    "mean_angle_proposal_GEANT4_highland = np.round(np.mean(df_GEANT4_highland.deflection[df_GEANT4_highland.distances==3e3]), 2)\n",
    "mean_angle_music = 0.22 \n",
    "mean_angle_geant4 = 0.27\n",
    "print('\\n--- mean scattered angel in degree:')\n",
    "print('proposal vG moliere: ', mean_angle_proposal_moliere, ' ± ', np.round(np.std(df_moliere.deflection[df_moliere.distances==3e3]), 2))\n",
    "print('proposal GEANT4 moliere: ', mean_angle_proposal_GEANT4_moliere, ' ± ', np.round(np.std(df_GEANT4_moliere.deflection[df_GEANT4_moliere.distances==3e3]), 2))\n",
    "print('proposal vG highland: ', mean_angle_proposal_highland, ' ± ', np.round(np.std(df_highland.deflection[df_highland.distances==3e3]), 2))\n",
    "print('proposal GEANT4 highland: ', mean_angle_proposal_GEANT4_highland, ' ± ', np.round(np.std(df_GEANT4_highland.deflection[df_GEANT4_highland.distances==3e3]), 2))\n",
    "print('music: ', mean_angle_music)\n",
    "print('geant4: ', mean_angle_geant4)\n",
    "\n",
    "# mean survived energy in GeV\n",
    "mean_energy_proposal_moliere = np.round(np.mean(df_moliere.E_f[df_moliere.distances==3e3]), 0)\n",
    "mean_energy_proposal_highland = np.round(np.mean(df_highland.E_f[df_highland.distances==3e3]), 0)\n",
    "mean_energy_music = 323 \n",
    "mean_energy_geant4 = 317\n",
    "print('\\n--- mean survived energy in GeV:')\n",
    "print('proposal moliere: ', mean_energy_proposal_moliere, ' ± ', np.round(np.std(df_moliere.E_f[df_moliere.distances==3e3]), 0))\n",
    "print('proposal highland: ', mean_energy_proposal_highland, ' ± ', np.round(np.std(df_highland.E_f[df_highland.distances==3e3]), 0))\n",
    "print('music: ', mean_energy_music)\n",
    "print('geant4: ', mean_energy_geant4)\n",
    "\n",
    "# mean shower axis distance in meter\n",
    "mean_dist_proposal_moliere = np.round(np.mean(d_shower_moliere[df_moliere.distances==3e3]), 1)\n",
    "mean_dist_proposal_GEANT4_moliere = np.round(np.mean(d_shower_GEANT4_moliere[df_GEANT4_moliere.distances==3e3]), 1)\n",
    "mean_dist_proposal_highland = np.round(np.mean(d_shower_highland[df_highland.distances==3e3]), 1)\n",
    "mean_dist_proposal_GEANT4_highland = np.round(np.mean(d_shower_GEANT4_highland[df_GEANT4_highland.distances==3e3]), 1)\n",
    "mean_dist_music = 2.6\n",
    "mean_dist_geant4 = 3.3\n",
    "print('\\n--- mean distance to shower axis in meter:')\n",
    "print('proposal vG moliere: ', mean_dist_proposal_moliere, ' ± ', np.round(np.std(d_shower_moliere[df_moliere.distances==3e3]), 1))\n",
    "print('proposal GEANT4 moliere: ', mean_dist_proposal_GEANT4_moliere, ' ± ', np.round(np.std(d_shower_GEANT4_moliere[df_GEANT4_moliere.distances==3e3]), 1))\n",
    "print('proposal vG highland: ', mean_dist_proposal_highland, ' ± ', np.round(np.std(d_shower_highland[df_highland.distances==3e3]), 1))\n",
    "print('proposal GEANT4 highland: ', mean_dist_proposal_GEANT4_highland, ' ± ', np.round(np.std(d_shower_GEANT4_highland[df_GEANT4_highland.distances==3e3]), 1))\n",
    "print('music: ', mean_dist_music)\n",
    "print('geant4: ', mean_dist_geant4)"
   ]
  },
  {
   "cell_type": "markdown",
   "id": "b6be2c5a-ffff-4a5f-a78a-1e972857afeb",
   "metadata": {},
   "source": [
    "## Accumulated deflection fit"
   ]
  },
  {
   "cell_type": "code",
   "execution_count": 4,
   "id": "f89ffcde-d3c6-41c8-9f44-516bf27391aa",
   "metadata": {},
   "outputs": [
    {
     "name": "stdout",
     "output_type": "stream",
     "text": [
      "dict_keys(['df_14', 'df_13', 'df_10', 'df_09', 'df_04', 'df_08', 'df_03', 'df_07', 'df_02', 'df_06', 'df_01', 'df_05', 'df_11', 'df_12'])\n",
      "dict_keys(['df_12', 'df_11', 'df_10', 'df_09', 'df_04', 'df_08', 'df_03', 'df_07', 'df_02', 'df_06', 'df_01', 'df_05'])\n",
      "dict_keys(['df_10', 'df_01', 'df_09', 'df_08', 'df_04', 'df_07', 'df_03', 'df_06', 'df_02', 'df_05'])\n",
      "dict_keys(['df_01', 'df_02', 'df_08', 'df_07', 'df_04', 'df_06', 'df_03', 'df_05'])\n"
     ]
    }
   ],
   "source": [
    "# Read data E_i = 10 PeV\n",
    "df_dict_unsorted = {}\n",
    "path = 'data/total_defl_combined_moliere_10PeV/'\n",
    "for i, hdf in enumerate(sorted(os.listdir(path))):\n",
    "    df = pd.read_hdf(path + hdf, key='seed_3')\n",
    "    df_dict_unsorted['df_%02d' %(i+1)] = df\n",
    "E_f_unsorted = [mode(df_dict_unsorted[df].E_f) for df in df_dict_unsorted]\n",
    "df_dict_10P = {}\n",
    "for df in [x for _, x in sorted(zip(E_f_unsorted, df_dict_unsorted.keys()))]:\n",
    "    df_dict_10P[df] = df_dict_unsorted[df]\n",
    "print(df_dict_10P.keys())\n",
    "E_f_10P = sorted(E_f_unsorted)\n",
    "\n",
    "# Read data E_i = 1 PeV\n",
    "df_dict_unsorted = {}\n",
    "path = 'data/total_defl_combined_moliere_1PeV/'\n",
    "for i, hdf in enumerate(sorted(os.listdir(path))):\n",
    "    df = pd.read_hdf(path + hdf, key='seed_3')\n",
    "    df_dict_unsorted['df_%02d' %(i+1)] = df    \n",
    "E_f_unsorted = [mode(df_dict_unsorted[df].E_f) for df in df_dict_unsorted]\n",
    "df_dict = {}\n",
    "for df in [x for _, x in sorted(zip(E_f_unsorted, df_dict_unsorted.keys()))]:\n",
    "    df_dict[df] = df_dict_unsorted[df]\n",
    "print(df_dict.keys())\n",
    "E_f = sorted(E_f_unsorted)\n",
    "\n",
    "# Read data E_i = 100 TeV\n",
    "df_dict_unsorted = {}\n",
    "path = 'data/total_defl_combined_moliere_100TeV/'\n",
    "for i, hdf in enumerate(sorted(os.listdir(path))):\n",
    "    df = pd.read_hdf(path + hdf, key='seed_3')\n",
    "    df_dict_unsorted['df_%02d' %(i+1)] = df\n",
    "E_f_unsorted = [mode(df_dict_unsorted[df].E_f) for df in df_dict_unsorted]\n",
    "df_dict_100 = {}\n",
    "for df in [x for _, x in sorted(zip(E_f_unsorted, df_dict_unsorted.keys()))]:\n",
    "    df_dict_100[df] = df_dict_unsorted[df]\n",
    "print(df_dict_100.keys())\n",
    "E_f_100 = sorted(E_f_unsorted)\n",
    "\n",
    "# Read data E_i = 10 TeV\n",
    "df_dict_unsorted = {}\n",
    "path = 'data/total_defl_combined_moliere_10TeV/'\n",
    "for i, hdf in enumerate(sorted(os.listdir(path))):\n",
    "    df = pd.read_hdf(path + hdf, key='seed_3')\n",
    "    df_dict_unsorted['df_%02d' %(i+1)] = df \n",
    "E_f_unsorted = [mode(df_dict_unsorted[df].E_f) for df in df_dict_unsorted]\n",
    "df_dict_10 = {}\n",
    "for df in [x for _, x in sorted(zip(E_f_unsorted, df_dict_unsorted.keys()))]:\n",
    "    df_dict_10[df] = df_dict_unsorted[df]\n",
    "print(df_dict_10.keys())\n",
    "E_f_10 = sorted(E_f_unsorted)"
   ]
  },
  {
   "cell_type": "code",
   "execution_count": 5,
   "id": "303d5743-c264-40c6-918b-424cca08e845",
   "metadata": {},
   "outputs": [
    {
     "name": "stdout",
     "output_type": "stream",
     "text": [
      "10.0\n",
      "500.0\n"
     ]
    },
    {
     "data": {
      "image/png": "[encoded data removed]",
      "text/plain": [
       "<Figure size 432x288 with 1 Axes>"
      ]
     },
     "metadata": {
      "needs_background": "light"
     },
     "output_type": "display_data"
    }
   ],
   "source": [
    "bins = np.logspace(-3, 2, 100)\n",
    "plt.hist(df_dict_10P['df_10'].deflection, bins=bins, histtype='step', label=r'E\\_i = 10 PeV')\n",
    "plt.hist(df_dict['df_10'].deflection, bins=bins, histtype='step', label=r'E\\_i = 1 PeV')\n",
    "plt.hist(df_dict_100['df_08'].deflection, bins=bins, histtype='step', label=r'E\\_i = 100 TeV')\n",
    "plt.hist(df_dict_10['df_06'].deflection, bins=bins, histtype='step', label=r'E\\_i = 10 TeV')\n",
    "plt.xlabel('deflection in degree')\n",
    "plt.ylabel('counts')\n",
    "plt.xscale('log')\n",
    "plt.yscale('log')\n",
    "plt.title(r'E\\_f = 10 GeV')\n",
    "plt.legend()\n",
    "print(mode(df_dict_10P['df_10'].E_f))\n",
    "print(mode(df_dict_10['df_06'].E_f))"
   ]
  },
  {
   "cell_type": "code",
   "execution_count": 6,
   "id": "46fbf143-9f60-4da2-a70e-28309b5520e7",
   "metadata": {},
   "outputs": [
    {
     "data": {
      "text/plain": [
       "<matplotlib.legend.Legend at 0x7fbfa1a05278>"
      ]
     },
     "execution_count": 6,
     "metadata": {},
     "output_type": "execute_result"
    },
    {
     "data": {
      "image/png": "[encoded data removed]",
      "text/plain": [
       "<Figure size 432x288 with 1 Axes>"
      ]
     },
     "metadata": {
      "needs_background": "light"
     },
     "output_type": "display_data"
    }
   ],
   "source": [
    "bins = np.logspace(-5, 2, 100)\n",
    "plt.hist(df_dict_10P['df_03'].deflection, bins=bins, histtype='step', label=r'E\\_i = 10 PeV')\n",
    "plt.hist(df_dict['df_03'].deflection, bins=bins, histtype='step', label=r'E\\_i = 1 PeV')\n",
    "plt.hist(df_dict_100['df_02'].deflection, bins=bins, histtype='step', label=r'E\\_i = 100 TeV')\n",
    "plt.hist(df_dict_10['df_01'].deflection, bins=bins, histtype='step', label=r'E\\_i = 10 TeV')\n",
    "plt.xlabel('deflection in degree')\n",
    "plt.ylabel('counts')\n",
    "plt.xscale('log')\n",
    "plt.yscale('log')\n",
    "plt.title(r'E\\_f = 1 TeV')\n",
    "plt.legend()"
   ]
  },
  {
   "cell_type": "code",
   "execution_count": 7,
   "id": "9a51c740-3d37-4407-a833-5e5527f9cd00",
   "metadata": {},
   "outputs": [
    {
     "name": "stdout",
     "output_type": "stream",
     "text": [
      "df_14 10000000.0 1.0 95000 94942 0.9895894736842106 0.9993894736842105 1001.0\n",
      "df_13 10000000.0 5.0 95000 93946 0.9504 0.9889052631578947 1011.0\n",
      "df_10 10000000.0 10.0 55000 53579 0.9276181818181818 0.9741636363636363 1027.0\n",
      "df_09 10000000.0 50.0 55000 50969 0.8173636363636364 0.9267090909090909 1079.0\n",
      "df_04 10000000.0 100.0 57500 51418 0.7472869565217392 0.8942260869565217 1118.0\n",
      "df_08 10000000.0 500.0 65000 50406 0.48624615384615383 0.7754769230769231 1290.0\n",
      "df_03 10000000.0 1000.0 72500 51536 0.34355862068965515 0.7108413793103449 1407.0\n",
      "df_07 10000000.0 5000.0 85000 51362 0.10603529411764706 0.6042588235294117 1655.0\n",
      "df_02 10000000.0 10000.0 87500 50512 0.05739428571428572 0.57728 1732.0\n",
      "df_06 10000000.0 50000.0 142500 78654 0.012063157894736842 0.5519578947368421 1812.0\n",
      "df_01 10000000.0 100000.0 92500 50343 0.006054054054054054 0.5442486486486486 1837.0\n",
      "df_05 10000000.0 500000.0 92500 49829 0.001081081081081081 0.5386918918918919 1856.0\n",
      "df_11 10000000.0 1000000.0 95000 50605 0.0007157894736842105 0.5326842105263158 1877.0\n",
      "df_12 10000000.0 5000000.0 95000 55076 0.00016842105263157895 0.5797473684210527 1725.0\n",
      "df_12 1000000.0 1.0 55000 54967 0.9898 0.9994 1001.0\n",
      "df_11 1000000.0 5.0 55000 54366 0.9500909090909091 0.9884727272727273 1012.0\n",
      "df_10 1000000.0 10.0 55000 53620 0.9294545454545454 0.974909090909091 1026.0\n",
      "df_09 1000000.0 50.0 55000 51079 0.8173818181818182 0.9287090909090909 1077.0\n",
      "df_04 1000000.0 100.0 57500 51570 0.7492347826086957 0.8968695652173913 1115.0\n",
      "df_08 1000000.0 500.0 65000 50409 0.48427692307692305 0.7755230769230769 1289.0\n",
      "df_03 1000000.0 1000.0 72500 51487 0.34398620689655174 0.7101655172413793 1408.0\n",
      "df_07 1000000.0 5000.0 85000 51149 0.10428235294117646 0.6017529411764706 1662.0\n",
      "df_02 1000000.0 10000.0 87500 50578 0.05744 0.5780342857142857 1730.0\n",
      "df_06 1000000.0 50000.0 142500 78239 0.012 0.5490456140350877 1821.0\n",
      "df_01 1000000.0 100000.0 92500 50819 0.0057621621621621625 0.5493945945945946 1820.0\n",
      "df_05 1000000.0 500000.0 92500 54995 0.0014162162162162162 0.5945405405405405 1682.0\n",
      "df_10 100000.0 1.0 87500 87458 0.9897714285714285 0.99952 1000.0\n",
      "df_01 100000.0 5.0 87500 86478 0.9496 0.98832 1012.0\n",
      "df_09 100000.0 10.0 55000 53596 0.9272727272727272 0.9744727272727273 1026.0\n",
      "df_08 100000.0 50.0 55000 51105 0.8162181818181818 0.9291818181818182 1076.0\n",
      "df_04 100000.0 100.0 57500 51625 0.7500695652173913 0.8978260869565218 1114.0\n",
      "df_07 100000.0 500.0 65000 50337 0.48638461538461536 0.7744153846153846 1291.0\n",
      "df_03 100000.0 1000.0 72500 51584 0.34209655172413794 0.7115034482758621 1405.0\n",
      "df_06 100000.0 5000.0 85000 51193 0.10542352941176471 0.6022705882352941 1660.0\n",
      "df_02 100000.0 10000.0 87500 50713 0.05597714285714286 0.5795771428571429 1725.0\n",
      "df_05 100000.0 50000.0 142500 87406 0.013782456140350877 0.6133754385964912 1630.0\n",
      "df_01 10000.0 1.0 72500 72452 0.9894068965517241 0.9993379310344828 1001.0\n",
      "df_02 10000.0 5.0 72500 71687 0.950551724137931 0.9887862068965517 1011.0\n",
      "df_08 10000.0 10.0 55000 53643 0.9290363636363637 0.9753272727272727 1025.0\n",
      "df_07 10000.0 50.0 55000 51036 0.8165636363636364 0.9279272727272727 1078.0\n",
      "df_04 10000.0 100.0 57500 51605 0.751495652173913 0.8974782608695652 1114.0\n",
      "df_06 10000.0 500.0 65000 50459 0.4881076923076923 0.7762923076923077 1288.0\n",
      "df_03 10000.0 1000.0 72500 51602 0.34172413793103446 0.7117517241379311 1405.0\n",
      "df_05 10000.0 5000.0 85000 56814 0.11855294117647058 0.6684 1496.0\n"
     ]
    }
   ],
   "source": [
    "# 10% cut of E_min\n",
    "\n",
    "mi = 0.9\n",
    "quantile_low = 0.005 # 0.025\n",
    "quantile_high = 0.995 # 0.975\n",
    "\n",
    "# E_i = 10 PeV\n",
    "deflection_median_10P_cut_10 = []\n",
    "deflection_median_lower_10P_cut_10 = [] \n",
    "deflection_median_upper_10P_cut_10 = []\n",
    "for i,d in enumerate(df_dict_10P):\n",
    "    df = df_dict_10P[d]\n",
    "    print(d, df.E_i[0], mode(df.E_f), len(df), len(df[df.E_f > mode(df.E_f) * mi]), len(df[df.E_f == mode(df.E_f)])/len(df), len(df[df.E_f > mode(df.E_f) * mi])/len(df), np.round(1000/(len(df[df.E_f > mode(df.E_f) * mi])/len(df)))) \n",
    "    deflection_median_10P_cut_10.append(np.median(df.deflection[df.E_f > mode(df.E_f) * mi]))\n",
    "    deflection_median_lower_10P_cut_10.append(np.median(df.deflection[df.E_f > mode(df.E_f) * mi]) - np.quantile(df.deflection[df.E_f > mode(df.E_f) * mi], quantile_low)) \n",
    "    deflection_median_upper_10P_cut_10.append(np.quantile(df.deflection[df.E_f > mode(df.E_f) * mi], quantile_high) - np.median(df.deflection[df.E_f > mode(df.E_f) * mi]))\n",
    "\n",
    "# E_i = 1 PeV    \n",
    "deflection_median_1P_cut_10 = []\n",
    "deflection_median_lower_1P_cut_10 = [] \n",
    "deflection_median_upper_1P_cut_10 = []\n",
    "for d in df_dict:\n",
    "    df = df_dict[d]\n",
    "    print(d, df.E_i[0], mode(df.E_f), len(df), len(df[df.E_f > mode(df.E_f) * mi]), len(df[df.E_f == mode(df.E_f)])/len(df), len(df[df.E_f > mode(df.E_f) * mi])/len(df), np.round(1000/(len(df[df.E_f > mode(df.E_f) * mi])/len(df))))\n",
    "    deflection_median_1P_cut_10.append(np.median(df.deflection[df.E_f > mode(df.E_f) * mi]))\n",
    "    deflection_median_lower_1P_cut_10.append(np.median(df.deflection[df.E_f > mode(df.E_f) * mi]) - np.quantile(df.deflection[df.E_f > mode(df.E_f) * mi], quantile_low)) \n",
    "    deflection_median_upper_1P_cut_10.append(np.quantile(df.deflection[df.E_f > mode(df.E_f) * mi], quantile_high) - np.median(df.deflection[df.E_f > mode(df.E_f) * mi]))\n",
    "    \n",
    "# E_i = 100 TeV\n",
    "deflection_median_100_cut_10 = []\n",
    "deflection_median_lower_100_cut_10 = [] \n",
    "deflection_median_upper_100_cut_10 = []\n",
    "for d in df_dict_100:\n",
    "    df = df_dict_100[d]\n",
    "    print(d, df.E_i[0], mode(df.E_f), len(df), len(df[df.E_f > mode(df.E_f) * mi]), len(df[df.E_f == mode(df.E_f)])/len(df), len(df[df.E_f > mode(df.E_f) * mi])/len(df), np.round(1000/(len(df[df.E_f > mode(df.E_f) * mi])/len(df))))\n",
    "    deflection_median_100_cut_10.append(np.median(df.deflection[df.E_f > mode(df.E_f) * mi]))\n",
    "    deflection_median_lower_100_cut_10.append(np.median(df.deflection[df.E_f > mode(df.E_f) * mi]) - np.quantile(df.deflection[df.E_f > mode(df.E_f) * mi], quantile_low)) \n",
    "    deflection_median_upper_100_cut_10.append(np.quantile(df.deflection[df.E_f > mode(df.E_f) * mi], quantile_high) - np.median(df.deflection[df.E_f > mode(df.E_f) * mi]))\n",
    "\n",
    "# E_i = 10 TeV    \n",
    "deflection_median_10_cut_10 = []\n",
    "deflection_median_lower_10_cut_10 = [] \n",
    "deflection_median_upper_10_cut_10 = []\n",
    "for d in df_dict_10:\n",
    "    df = df_dict_10[d]\n",
    "    print(d, df.E_i[0], mode(df.E_f), len(df), len(df[df.E_f > mode(df.E_f) * mi]), len(df[df.E_f == mode(df.E_f)])/len(df), len(df[df.E_f > mode(df.E_f) * mi])/len(df), np.round(1000/(len(df[df.E_f > mode(df.E_f) * mi])/len(df))))\n",
    "    deflection_median_10_cut_10.append(np.median(df.deflection[df.E_f > mode(df.E_f) * mi]))\n",
    "    deflection_median_lower_10_cut_10.append(np.median(df.deflection[df.E_f > mode(df.E_f) * mi]) - np.quantile(df.deflection[df.E_f > mode(df.E_f) * mi], quantile_low)) \n",
    "    deflection_median_upper_10_cut_10.append(np.quantile(df.deflection[df.E_f > mode(df.E_f) * mi], quantile_high) - np.median(df.deflection[df.E_f > mode(df.E_f) * mi]))"
   ]
  },
  {
   "cell_type": "code",
   "execution_count": 8,
   "id": "632b4214-6a87-46a1-a699-455dfb254685",
   "metadata": {},
   "outputs": [
    {
     "data": {
      "image/png": "[encoded data removed]",
      "text/plain": [
       "<Figure size 432x288 with 1 Axes>"
      ]
     },
     "metadata": {
      "needs_background": "light"
     },
     "output_type": "display_data"
    }
   ],
   "source": [
    "# Neutrino Review Paper Fig. 10\n",
    "df_y = pd.read_hdf('data/y_data.hdf5')\n",
    "# y: energy transfer to nucleus --> (1-y) energy transfer to muon, E_mu = (1-y) * E_nu\n",
    "spl_nu = UnivariateSpline(df_y.neutrino_energy, df_y.exp_y_simps, s=0)\n",
    "plt.plot(df_y.neutrino_energy, spl_nu(df_y.neutrino_energy), color='orange', label=r'$\\nu$ Spline')\n",
    "\n",
    "spl_nu_bar = UnivariateSpline(df_y.neutrino_energy, df_y.exp_y_bar_simps, s=0)\n",
    "plt.plot(df_y.neutrino_energy, spl_nu_bar(df_y.neutrino_energy), color='blue', label=r'$\\bar{\\nu}$ Spline')\n",
    "\n",
    "\n",
    "plt.plot(df_y.neutrino_energy[::5], df_y.exp_y_simps[::5], 'x', color='orange', label=r'$\\nu \\ \\mathrm{CC}$')\n",
    "plt.plot(df_y.neutrino_energy[::5], df_y.exp_y_bar_simps[::5], 'x', color='blue', label=r'$\\bar{\\nu} \\ \\mathrm{CC}$')\n",
    "plt.xscale('log')\n",
    "plt.xlabel(r'$E_\\nu$ [GeV]')\n",
    "plt.ylabel(r'Expected $y$')\n",
    "plt.ylim(0., 0.6)\n",
    "plt.xlim(1e2, 1e12)\n",
    "plt.legend()\n",
    "if save_plot:\n",
    "    plt.savefig(plot_dir + 'expected_y.pdf')"
   ]
  },
  {
   "cell_type": "code",
   "execution_count": 9,
   "id": "9cb69205-86de-4000-b8c5-ec74415caed6",
   "metadata": {},
   "outputs": [
    {
     "name": "stdout",
     "output_type": "stream",
     "text": [
      "poly params:  [ 0.01755369 -0.23276124  0.09293859  0.07262962] , errors:  [0.00181377 0.0185254  0.05273772 0.04044082]\n"
     ]
    },
    {
     "data": {
      "image/png": "[encoded data removed]",
      "text/plain": [
       "<Figure size 432x288 with 1 Axes>"
      ]
     },
     "metadata": {
      "needs_background": "light"
     },
     "output_type": "display_data"
    }
   ],
   "source": [
    "### fit deflection medians\n",
    "x = np.logspace(0.1, 7, 1000)\n",
    "\n",
    "interval = str(int((quantile_high - quantile_low)*100))\n",
    "\n",
    "# E_i = 10 PeV\n",
    "plt.errorbar(E_f_10P, deflection_median_10P_cut_10, yerr=(deflection_median_lower_10P_cut_10, deflection_median_upper_10P_cut_10), fmt='.', color='orange', alpha=0.5, label=r'median$\\;|\\;'+interval+'\\,\\%$ CI, $E_\\mathrm{i} = 10\\,$PeV')\n",
    "plt.fill_between(E_f_10P, np.array(deflection_median_10P_cut_10)-np.array(deflection_median_lower_10P_cut_10), np.array(deflection_median_10P_cut_10) + np.array(deflection_median_upper_10P_cut_10), alpha=0.1, color='orange')\n",
    "# E_i = 1 PeV\n",
    "plt.errorbar(E_f, deflection_median_1P_cut_10, yerr=(deflection_median_lower_1P_cut_10, deflection_median_upper_1P_cut_10), fmt='.', color='yellow', alpha=0.5, label=r'median$\\;|\\;'+interval+'\\,\\%$ CI, $E_\\mathrm{i} = 1\\,$PeV')\n",
    "plt.fill_between(E_f, np.array(deflection_median_1P_cut_10)-np.array(deflection_median_lower_1P_cut_10), np.array(deflection_median_1P_cut_10) + np.array(deflection_median_upper_1P_cut_10), alpha=0.1, color='yellow')\n",
    "# E_i = 100 TeV\n",
    "plt.errorbar(E_f_100, deflection_median_100_cut_10, yerr=(deflection_median_lower_100_cut_10, deflection_median_upper_100_cut_10), fmt='.', color='red', alpha=0.5, label=r'median$\\;|\\;'+interval+'\\,\\%$ CI, $E_\\mathrm{i} = 100\\,$TeV')\n",
    "plt.fill_between(E_f_100, np.array(deflection_median_100_cut_10)-np.array(deflection_median_lower_100_cut_10), np.array(deflection_median_100_cut_10) + np.array(deflection_median_upper_100_cut_10), alpha=0.1, color='red')\n",
    "# E_i = 10 TeV\n",
    "plt.errorbar(E_f_10, deflection_median_10_cut_10, yerr=(deflection_median_lower_10_cut_10, deflection_median_upper_10_cut_10), fmt='.', color='green', alpha=0.8, label=r'median$\\;|\\;'+interval+'\\,\\%$ CI, $E_\\mathrm{i} = 10\\,$TeV')\n",
    "plt.fill_between(E_f_10, np.array(deflection_median_10_cut_10)-np.array(deflection_median_lower_10_cut_10), np.array(deflection_median_10_cut_10) + np.array(deflection_median_upper_10_cut_10), alpha=0.1, color='green')\n",
    "\n",
    "###### comparison to current neutrino telescopes ##########  \n",
    "ARCA = pd.read_csv('angular_resolution/ARCA.csv', sep=';', decimal=',', names=['E', 'theta'])\n",
    "ARCA_high = pd.read_csv('angular_resolution/ARCA_high.csv', sep=';', decimal=',', names=['E', 'theta'])\n",
    "ARCA_low = pd.read_csv('angular_resolution/ARCA_low.csv', sep=';', decimal=',', names=['E', 'theta'])\n",
    "\n",
    "# rescale neutrino energy to muon energy\n",
    "def rescale_neutrino_E_to_muon_E(x, splines=None, no_rescale=False):\n",
    "    if not no_rescale:    \n",
    "        if splines == None:\n",
    "            # naive rescale\n",
    "            return x * 0.8\n",
    "        else:\n",
    "            return (1 - splines(x)) * x\n",
    "    else:\n",
    "        print('no rescale')\n",
    "        return x\n",
    "    \n",
    "    \n",
    "# IceCube 2021, https://arxiv.org/abs/2103.16931 (median angular resolution of muon reconstruction as function of\n",
    "# muon energy)\n",
    "IceCube_median_error_E = [3154.6222956675642, 31393.67119012529, 318535.5398366218, 3139367.1190125225]\n",
    "IceCube_median_error_theta = [0.3132923103706559, 0.23583164894478967, 0.1696125188412025, 0.147416292664677]\n",
    "plt.plot(IceCube_median_error_E, IceCube_median_error_theta, '-', color='cyan', label='IceCube Abbasi et al. 2021')\n",
    "\n",
    "# ARCA 2021 2107.13050 (angular resolution as function of neutrino energy) preliminary\n",
    "plt.plot(rescale_neutrino_E_to_muon_E(10**ARCA.E, splines=spl_nu), 10**ARCA.theta, '-', color='blue', label='ARCA preliminary (rescale)')\n",
    "plt.fill_between(rescale_neutrino_E_to_muon_E(10**ARCA_low.E, splines=spl_nu), 10**ARCA_low.theta, 10**ARCA_high.theta, alpha=0.2, color='blue')\n",
    "\n",
    "# kinematic angle read from KM3NeT 2016\n",
    "# kinematic_angle = pd.read_csv('data/kinematic_muon_neutrino_angle_KM3NeT.csv', sep=';', decimal=',', names=['E', 'theta'])\n",
    "# plt.plot(rescale_neutrino_E_to_muon_E(kinematic_angle.E, splines=spl_nu), kinematic_angle.theta, '.', label=r'$\\mu$ -- $\\nu$ kinematic angle (rescale)') # scattering angle KM3NeT')\n",
    "\n",
    "# kinematic anlge reade from KM3NeT/ARCA 2021\n",
    "kinematic_angle_low = pd.read_csv('data/mu_nu_kinematic_ARCA_2021/Low.csv', sep=';', decimal=',', names=['E', 'theta'])\n",
    "kinematic_angle_mid = pd.read_csv('data/mu_nu_kinematic_ARCA_2021/mid.csv', sep=';', decimal=',', names=['E', 'theta'])\n",
    "kinematic_angle_high = pd.read_csv('data/mu_nu_kinematic_ARCA_2021/High.csv', sep=';', decimal=',', names=['E', 'theta'])\n",
    "plt.plot(rescale_neutrino_E_to_muon_E(10**kinematic_angle_mid.E, splines=spl_nu), 10**kinematic_angle_mid.theta, '-.', color='black', alpha=0.3, label=r'$\\mu$ -- $\\nu$ kinematic angle (rescale)') # scattering angle KM3NeT')\n",
    "# plt.fill_between(rescale_neutrino_E_to_muon_E(10**kinematic_angle_low.E, splines=spl_nu), 10**kinematic_angle_low.theta, 10**kinematic_angle_high.theta[:-2], alpha=0.2, color='black')\n",
    "plt.fill(np.append(rescale_neutrino_E_to_muon_E(10**kinematic_angle_low.E, splines=spl_nu), rescale_neutrino_E_to_muon_E(10**kinematic_angle_high.E, splines=spl_nu)[::-1]), \n",
    "         np.append(10**kinematic_angle_low.theta, 10**kinematic_angle_high.theta[::-1]), \n",
    "         alpha=0.2, color='black')\n",
    "\n",
    "\n",
    "# polynom fit\n",
    "def poly(x, a, b, c, d):\n",
    "    return a * x**3 + b * x**2 + c * x + d\n",
    "\n",
    "# E_i = 10 PeV\n",
    "params, cov = curve_fit(poly, np.log10(E_f_10P), np.log10(deflection_median_10P_cut_10))\n",
    "errors = np.sqrt(np.diag(cov))\n",
    "print('poly params: ', params, ', errors: ', errors)\n",
    "x = np.logspace(-0.1, 6.8, 1000)\n",
    "plt.plot(x, np.power(10, poly(np.log10(x), *params)), '--', color='orange', alpha=1, label='fit medians')\n",
    "\n",
    "\n",
    "plt.xscale('log')\n",
    "plt.yscale('log')\n",
    "plt.ylabel(r'$\\theta_{\\mathrm{acc}}\\,/\\,$°')\n",
    "plt.xlabel(r'$E_{\\mathrm{f,\\,min}}\\,/\\,$GeV')\n",
    "plt.xlim(right=1e7)\n",
    "plt.ylim(4e-6, 10)\n",
    "plt.grid(linestyle='--', alpha=0.3)\n",
    "plt.legend(fontsize=9.5, loc='lower left')\n",
    "plt.tight_layout()\n",
    "if save_plot:\n",
    "    plt.savefig(plot_dir + 'fit_median_defl_cut_10percent_only_poly_new_resolution_rescale_no_icecube_paper_final.pdf', bbox_inches='tight')"
   ]
  },
  {
   "cell_type": "code",
   "execution_count": 10,
   "id": "446c719d-8b65-4a9d-bd74-783f5e5eebb4",
   "metadata": {},
   "outputs": [
    {
     "name": "stdout",
     "output_type": "stream",
     "text": [
      "poly3 params:  [ 0.01755369 -0.23276124  0.09293859  0.07262962] , errors:  [0.00181377 0.0185254  0.05273772 0.04044082]\n"
     ]
    },
    {
     "data": {
      "image/png": "[encoded data removed]",
      "text/plain": [
       "<Figure size 432x288 with 1 Axes>"
      ]
     },
     "metadata": {
      "needs_background": "light"
     },
     "output_type": "display_data"
    }
   ],
   "source": [
    "### fit deflection medians\n",
    "x = np.logspace(0.1, 7, 1000)\n",
    "\n",
    "interval = str(int((quantile_high - quantile_low)*100))\n",
    "\n",
    "# E_i = 10 PeV\n",
    "plt.errorbar(E_f_10P, deflection_median_10P_cut_10, yerr=(deflection_median_lower_10P_cut_10, deflection_median_upper_10P_cut_10), fmt='.', color='orange', alpha=0.5, label=r'median$\\;|\\;'+interval+'\\,\\%$ CI, $E_\\mathrm{i} = 10\\,$PeV')\n",
    "plt.fill_between(E_f_10P, np.array(deflection_median_10P_cut_10)-np.array(deflection_median_lower_10P_cut_10), np.array(deflection_median_10P_cut_10) + np.array(deflection_median_upper_10P_cut_10), alpha=0.1, color='orange')\n",
    "# E_i = 1 PeV\n",
    "plt.errorbar(E_f, deflection_median_1P_cut_10, yerr=(deflection_median_lower_1P_cut_10, deflection_median_upper_1P_cut_10), fmt='.', color='yellow', alpha=0.5, label=r'median$\\;|\\;'+interval+'\\,\\%$ CI, $E_\\mathrm{i} = 1\\,$PeV')\n",
    "plt.fill_between(E_f, np.array(deflection_median_1P_cut_10)-np.array(deflection_median_lower_1P_cut_10), np.array(deflection_median_1P_cut_10) + np.array(deflection_median_upper_1P_cut_10), alpha=0.1, color='yellow')\n",
    "# E_i = 100 TeV\n",
    "plt.errorbar(E_f_100, deflection_median_100_cut_10, yerr=(deflection_median_lower_100_cut_10, deflection_median_upper_100_cut_10), fmt='.', color='red', alpha=0.5, label=r'median$\\;|\\;'+interval+'\\,\\%$ CI, $E_\\mathrm{i} = 100\\,$TeV')\n",
    "plt.fill_between(E_f_100, np.array(deflection_median_100_cut_10)-np.array(deflection_median_lower_100_cut_10), np.array(deflection_median_100_cut_10) + np.array(deflection_median_upper_100_cut_10), alpha=0.1, color='red')\n",
    "# E_i = 10 TeV\n",
    "plt.errorbar(E_f_10, deflection_median_10_cut_10, yerr=(deflection_median_lower_10_cut_10, deflection_median_upper_10_cut_10), fmt='.', color='green', alpha=0.8, label=r'median$\\;|\\;'+interval+'\\,\\%$ CI, $E_\\mathrm{i} = 10\\,$TeV')\n",
    "plt.fill_between(E_f_10, np.array(deflection_median_10_cut_10)-np.array(deflection_median_lower_10_cut_10), np.array(deflection_median_10_cut_10) + np.array(deflection_median_upper_10_cut_10), alpha=0.1, color='green')\n",
    "\n",
    "\n",
    "# rescale neutrino energy to muon energy\n",
    "def rescale_neutrino_E_to_muon_E(x, splines=None, no_rescale=False):\n",
    "    if not no_rescale:    \n",
    "        if splines == None:\n",
    "            # naive rescale\n",
    "            return x * 0.8\n",
    "        else:\n",
    "            return (1 - splines(x)) * x\n",
    "    else:\n",
    "        print('no rescale')\n",
    "        return x\n",
    "    \n",
    "###### comparison to current neutrino telescopes ##########      \n",
    "    \n",
    "    \n",
    "# IceCube 2021, https://arxiv.org/abs/2103.16931 (median angular resolution of muon reconstruction as function of\n",
    "# muon energy)\n",
    "IceCube_median_error_E = [3154.6222956675642, 31393.67119012529, 318535.5398366218, 3139367.1190125225]\n",
    "IceCube_median_error_theta = [0.3132923103706559, 0.23583164894478967, 0.1696125188412025, 0.147416292664677]\n",
    "plt.plot(IceCube_median_error_E, IceCube_median_error_theta, '-', color='cyan', label='IceCube 2021')\n",
    "\n",
    "# ARCA 2021 2107.13050 (angular resolution as function of neutrino energy) preliminary\n",
    "ARCA = pd.read_csv('angular_resolution/ARCA.csv', sep=';', decimal=',', names=['E', 'theta'])\n",
    "ARCA_high = pd.read_csv('angular_resolution/ARCA_high.csv', sep=';', decimal=',', names=['E', 'theta'])\n",
    "ARCA_low = pd.read_csv('angular_resolution/ARCA_low.csv', sep=';', decimal=',', names=['E', 'theta'])\n",
    "\n",
    "plt.plot(rescale_neutrino_E_to_muon_E(10**ARCA.E, splines=spl_nu), 10**ARCA.theta, '-', color='blue', label='ARCA 2021 (rescale)')\n",
    "plt.fill_between(rescale_neutrino_E_to_muon_E(10**ARCA_low.E, splines=spl_nu), 10**ARCA_low.theta, 10**ARCA_high.theta, alpha=0.2, color='blue')\n",
    "\n",
    "# ORCA 2021\n",
    "ORCA = pd.read_csv('data/ORCA_resolution/ORCA_nu_mu_resolution.csv', sep=';', decimal=',', names=['E', 'theta'])\n",
    "plt.plot(rescale_neutrino_E_to_muon_E(ORCA.E, splines=spl_nu), ORCA.theta, '--', color='blue', label='ORCA 2021 (rescale)')\n",
    "\n",
    "# Baikal 2019 (also published in paper of 2021 2106.06288v2)\n",
    "# plt.plot(rescale_neutrino_E_to_muon_E(100*1e3, splines=spl_nu), 0.5, '^', markersize=4, color='black', label='Baikal 2019 (rescale)') # for track length > 500 meter and E_nu > 10 GeV\n",
    "\n",
    "# Baikal 2021 ICRC Proceedings (2ns time resolution)\n",
    "Baikal = pd.read_csv('angular_resolution/Baikal_2021_ICRC_resolution.csv', sep=';', decimal=',', names=['E', 'theta'])\n",
    "plt.plot(Baikal.E*1e3, Baikal.theta, '--', color='purple', label='Baikal-GVD 2021')\n",
    "\n",
    "# ANTARES 2019\n",
    "plt.plot(rescale_neutrino_E_to_muon_E(100*1e3, splines=spl_nu), 0.4, 'o', markersize=4, color='black', label='ANTARES 2019 (rescale)')\n",
    "\n",
    "# Kamiokande 2008\n",
    "plt.plot(5, 4.3, 's', markersize=4, color='black', label='SuperKamiokande 2008')\n",
    "\n",
    "\n",
    "\n",
    "# kinematic angle read from KM3NeT 2016\n",
    "# kinematic_angle = pd.read_csv('data/kinematic_muon_neutrino_angle_KM3NeT.csv', sep=';', decimal=',', names=['E', 'theta'])\n",
    "# plt.plot(rescale_neutrino_E_to_muon_E(kinematic_angle.E, splines=spl_nu), kinematic_angle.theta, '.', label=r'$\\mu$ -- $\\nu$ kinematic angle (rescale)') # scattering angle KM3NeT')\n",
    "\n",
    "# kinematic anlge reade from KM3NeT/ARCA 2021\n",
    "kinematic_angle_low = pd.read_csv('data/mu_nu_kinematic_ARCA_2021/Low.csv', sep=';', decimal=',', names=['E', 'theta'])\n",
    "kinematic_angle_mid = pd.read_csv('data/mu_nu_kinematic_ARCA_2021/mid.csv', sep=';', decimal=',', names=['E', 'theta'])\n",
    "kinematic_angle_high = pd.read_csv('data/mu_nu_kinematic_ARCA_2021/High.csv', sep=';', decimal=',', names=['E', 'theta'])\n",
    "plt.plot(rescale_neutrino_E_to_muon_E(10**kinematic_angle_mid.E, splines=spl_nu), 10**kinematic_angle_mid.theta, '-.', color='black', alpha=0.3, label=r'$\\mu$ -- $\\nu$ kinematic angle (rescale)') # scattering angle KM3NeT')\n",
    "# plt.fill_between(rescale_neutrino_E_to_muon_E(10**kinematic_angle_low.E, splines=spl_nu), 10**kinematic_angle_low.theta, 10**kinematic_angle_high.theta[:-2], alpha=0.2, color='black')\n",
    "plt.fill(np.append(rescale_neutrino_E_to_muon_E(10**kinematic_angle_low.E, splines=spl_nu), rescale_neutrino_E_to_muon_E(10**kinematic_angle_high.E, splines=spl_nu)[::-1]), \n",
    "         np.append(10**kinematic_angle_low.theta, 10**kinematic_angle_high.theta[::-1]), \n",
    "         alpha=0.2, color='black')\n",
    "\n",
    "\n",
    "\n",
    "\n",
    "# Neutrino Review Paper, ref 114\n",
    "def get_mean_theta(E):\n",
    "    '''\n",
    "    Parameters\n",
    "    ----------\n",
    "        E: neutrino energy in TeV\n",
    "    Returns\n",
    "    -------\n",
    "        mean_theta: mean scattering angle in degree\n",
    "        \n",
    "    '''\n",
    "    return 0.7 / E**0.6\n",
    "\n",
    "x = np.logspace(0.9, 6.8, 1000)\n",
    "# plt.plot(x, get_mean_theta(x/1e3), '--', color='black', label='approx')\n",
    "\n",
    "\n",
    "# polynom fit\n",
    "def poly3(x, a, b, c, d):\n",
    "    return a * x**3 + b * x**2 + c * x + d\n",
    "\n",
    "\n",
    "# E_i = 10 PeV\n",
    "params, cov = curve_fit(poly3, np.log10(E_f_10P), np.log10(deflection_median_10P_cut_10))\n",
    "errors = np.sqrt(np.diag(cov))\n",
    "print('poly3 params: ', params, ', errors: ', errors)\n",
    "x = np.logspace(-0.1, 6.8, 1000)\n",
    "plt.plot(x, np.power(10, poly3(np.log10(x), 0.0176, -0.2328, 0.0929, 0.0726)), '--', color='orange', alpha=1, label=r'fit medians')\n",
    "# plt.plot(x, np.power(10, poly3(np.log10(x), *params)), '--', color='orange', alpha=1, label=r'fit medians')\n",
    "\n",
    "\n",
    "plt.xscale('log')\n",
    "plt.yscale('log')\n",
    "plt.ylabel(r'$\\theta_{\\mathrm{acc}}\\,/\\,$deg')\n",
    "plt.xlabel(r'$E_{\\mathrm{f,\\,min}}\\,/\\,$GeV')\n",
    "plt.xlim(0.4, right=1e7)\n",
    "plt.ylim(4e-6, 35)\n",
    "plt.grid(linestyle='--', alpha=0.3)\n",
    "plt.legend(fontsize=9, bbox_to_anchor=(0.95, 1.45), ncol=2)\n",
    "# plt.tight_layout()\n",
    "if save_plot:\n",
    "    plt.savefig(plot_dir + 'fit_median_defl_cut_10percent_only_poly_new_resolution_rescale_no_icecube_paper_final_all.pdf', bbox_inches='tight')"
   ]
  },
  {
   "cell_type": "code",
   "execution_count": 11,
   "id": "adafad82-a8c0-418d-99d2-d6d8b3417503",
   "metadata": {},
   "outputs": [
    {
     "name": "stdout",
     "output_type": "stream",
     "text": [
      "E_f = 1.0 GeV, med(d) = 1.364041048724775 ° - 0.09627269840768218 ° + 7.331349630101591 °\n",
      "E_f = 5.0 GeV, med(d) = 0.9483466383808535 ° - 0.07360734914014869 ° + 4.130654607514239 °\n",
      "E_f = 10.0 GeV, med(d) = 0.7883431131638773 ° - 0.06382703361896126 ° + 3.3103430001380896 °\n",
      "E_f = 50.0 GeV, med(d) = 0.41943206823138385 ° - 0.03408535884144743 ° + 1.64789505415372 °\n",
      "E_f = 100.0 GeV, med(d) = 0.29462405458308 ° - 0.023876545839217993 ° + 1.1721507350932456 °\n",
      "E_f = 500.0 GeV, med(d) = 0.10191358252554378 ° - 0.008132355978278048 ° + 0.39237911602154857 °\n",
      "E_f = 1000.0 GeV, med(d) = 0.05897078319674996 ° - 0.004366235243838372 ° + 0.2265673598690066 °\n",
      "E_f = 5000.0 GeV, med(d) = 0.01409907212991769 ° - 0.001003013972709401 ° + 0.05415132431137967 °\n",
      "E_f = 10000.0 GeV, med(d) = 0.007331084929658684 ° - 0.000545047677492148 ° + 0.02832079988852077 °\n",
      "E_f = 50000.0 GeV, med(d) = 0.0015304523102997465 ° - 0.00011257509224775426 ° + 0.006227747679178137 °\n",
      "E_f = 100000.0 GeV, med(d) = 0.0007795369512058841 ° - 5.833823179578464e-05 ° + 0.0031355607669477517 °\n",
      "E_f = 500000.0 GeV, med(d) = 0.00017499860720059573 ° - 1.2842965655995288e-05 ° + 0.0006529409330728785 °\n",
      "E_f = 1000000.0 GeV, med(d) = 0.00010069462993110386 ° - 7.778248095798992e-06 ° + 0.0003654995270944709 °\n",
      "E_f = 5000000.0 GeV, med(d) = 3.8115041282862345e-05 ° - 2.9575586669421963e-06 ° + 0.00012474776161254617 °\n"
     ]
    }
   ],
   "source": [
    "# print median values for E_i = 10 PeV with lower and upper 99% limits, (use E_f = 500 GeV in abstract)\n",
    "for i, e,d in zip(range(len(E_f_10P)), E_f_10P, deflection_median_10P_cut_10):\n",
    "    print('E_f = {} GeV, med(d) = {} ° - {} ° + {} °'.format(e, d, d-deflection_median_lower_10P_cut_10[i], d+deflection_median_upper_10P_cut_10[i]))"
   ]
  },
  {
   "cell_type": "code",
   "execution_count": 12,
   "id": "363b21ee-e439-451e-bca0-cade5d1f7d38",
   "metadata": {},
   "outputs": [
    {
     "name": "stdout",
     "output_type": "stream",
     "text": [
      "E_f = 1.0 GeV, med(d) = 1.3604512699338573 ° - 0.09348865637831044 ° + 7.378990178508948 °\n",
      "E_f = 5.0 GeV, med(d) = 0.952614025178979 ° - 0.07241613029626577 ° + 4.231052257911954 °\n",
      "E_f = 10.0 GeV, med(d) = 0.7927173824614776 ° - 0.06266604679238187 ° + 3.2025132624680874 °\n",
      "E_f = 50.0 GeV, med(d) = 0.4213334170461231 ° - 0.03426295003829231 ° + 1.6793007595677616 °\n",
      "E_f = 100.0 GeV, med(d) = 0.2920281231686144 ° - 0.023112507596441883 ° + 1.1004824808132316 °\n",
      "E_f = 500.0 GeV, med(d) = 0.10172736431524004 ° - 0.008322687744973094 ° + 0.3860179217859109 °\n",
      "E_f = 1000.0 GeV, med(d) = 0.059217068634979365 ° - 0.004351063361567531 ° + 0.22863251777741087 °\n",
      "E_f = 5000.0 GeV, med(d) = 0.014164233999297645 ° - 0.0009931354686591458 ° + 0.057766544713231664 °\n",
      "E_f = 10000.0 GeV, med(d) = 0.0073551899251443785 ° - 0.0005207970596731901 ° + 0.02876267534113692 °\n",
      "E_f = 50000.0 GeV, med(d) = 0.0015315073912256488 ° - 0.0001104749293626493 ° + 0.006007785879973593 °\n",
      "E_f = 100000.0 GeV, med(d) = 0.0007899436563681644 ° - 5.514409968798965e-05 ° + 0.0031071657099069894 °\n",
      "E_f = 500000.0 GeV, med(d) = 0.0001583629292163158 ° - 1.1642979824325862e-05 ° + 0.0006138016363072509 °\n"
     ]
    }
   ],
   "source": [
    "# print median values for E_i = 1 PeV with lower and upper 99% limits, (use E_f = 500 GeV in abstract)\n",
    "for i, e,d in zip(range(len(E_f)), E_f, deflection_median_1P_cut_10):\n",
    "    print('E_f = {} GeV, med(d) = {} ° - {} ° + {} °'.format(e, d, d-deflection_median_lower_1P_cut_10[i], d+deflection_median_upper_1P_cut_10[i]))"
   ]
  },
  {
   "cell_type": "code",
   "execution_count": 13,
   "id": "cab642ee-5a15-4157-ba1a-1c0ffb24952d",
   "metadata": {},
   "outputs": [
    {
     "name": "stdout",
     "output_type": "stream",
     "text": [
      "E_f = 1.0 GeV, med(d) = 1.3677510390308334 ° - 0.09651636591581537 ° + 7.747106525090764 °\n",
      "E_f = 5.0 GeV, med(d) = 0.9521872441135538 ° - 0.07408810786370403 ° + 4.267688150459365 °\n",
      "E_f = 10.0 GeV, med(d) = 0.7890031135911947 ° - 0.06534433416272417 ° + 3.2796198479205345 °\n",
      "E_f = 50.0 GeV, med(d) = 0.4178958157229755 ° - 0.03460918507161658 ° + 1.6476655065931827 °\n",
      "E_f = 100.0 GeV, med(d) = 0.29121980446429074 ° - 0.02382313164963726 ° + 1.1770604364552761 °\n",
      "E_f = 500.0 GeV, med(d) = 0.1016657353651767 ° - 0.00762801745086842 ° + 0.4057052055791805 °\n",
      "E_f = 1000.0 GeV, med(d) = 0.05923446633451403 ° - 0.004419420231858856 ° + 0.24664927969227118 °\n",
      "E_f = 5000.0 GeV, med(d) = 0.014237944057245346 ° - 0.001007804593172922 ° + 0.05539177074079725 °\n",
      "E_f = 10000.0 GeV, med(d) = 0.007366987354957324 ° - 0.0005111855172908399 ° + 0.029493188412227027 °\n",
      "E_f = 50000.0 GeV, med(d) = 0.0014601538819728776 ° - 0.00010907747345909102 ° + 0.0057037560404964265 °\n"
     ]
    }
   ],
   "source": [
    "# print median values for E_i = 100 TeV with lower and upper 99% limits, (use E_f = 500 GeV in abstract)\n",
    "for i, e,d in zip(range(len(E_f_100)), E_f_100, deflection_median_100_cut_10):\n",
    "    print('E_f = {} GeV, med(d) = {} ° - {} ° + {} °'.format(e, d, d-deflection_median_lower_100_cut_10[i], d+deflection_median_upper_100_cut_10[i]))"
   ]
  },
  {
   "cell_type": "code",
   "execution_count": 14,
   "id": "f260b830-ab7e-4b02-a69e-131c346e44db",
   "metadata": {},
   "outputs": [
    {
     "name": "stdout",
     "output_type": "stream",
     "text": [
      "E_f = 1.0 GeV, med(d) = 1.3692637468908377 ° - 0.09650045078236835 ° + 7.470849746498546 °\n",
      "E_f = 5.0 GeV, med(d) = 0.9499004224251834 ° - 0.07071901422770234 ° + 4.232217954241385 °\n",
      "E_f = 10.0 GeV, med(d) = 0.7851982662633762 ° - 0.06464677614829986 ° + 3.3041133529422804 °\n",
      "E_f = 50.0 GeV, med(d) = 0.4197928379862475 ° - 0.03487441559181076 ° + 1.717451206099142 °\n",
      "E_f = 100.0 GeV, med(d) = 0.2918227434510286 ° - 0.02442936856619483 ° + 1.1509109780653937 °\n",
      "E_f = 500.0 GeV, med(d) = 0.10171876251803692 ° - 0.007752182798684706 ° + 0.40870668785506226 °\n",
      "E_f = 1000.0 GeV, med(d) = 0.05989772929347026 ° - 0.004833692094351626 ° + 0.23075756253478172 °\n",
      "E_f = 5000.0 GeV, med(d) = 0.013339616622416735 ° - 0.0009397200839092662 ° + 0.05300148084316003 °\n"
     ]
    }
   ],
   "source": [
    "# print median values for E_i = 10 TeV with lower and upper 99% limits, (use E_f = 500 GeV in abstract)\n",
    "for i, e,d in zip(range(len(E_f_10)), E_f_10, deflection_median_10_cut_10):\n",
    "    print('E_f = {} GeV, med(d) = {} ° - {} ° + {} °'.format(e, d, d-deflection_median_lower_10_cut_10[i], d+deflection_median_upper_10_cut_10[i]))"
   ]
  },
  {
   "cell_type": "code",
   "execution_count": 15,
   "id": "f6e263dc-12d2-422c-91da-66f72fd4cee5",
   "metadata": {},
   "outputs": [
    {
     "data": {
      "text/plain": [
       "0.00511"
      ]
     },
     "execution_count": 15,
     "metadata": {},
     "output_type": "execute_result"
    }
   ],
   "source": [
    "0.000511 * 1e1"
   ]
  },
  {
   "cell_type": "code",
   "execution_count": 16,
   "id": "3b078872-81b9-4558-9310-3300ca74bb9c",
   "metadata": {},
   "outputs": [
    {
     "name": "stdout",
     "output_type": "stream",
     "text": [
      "median dist:  17521.549791812235\n",
      "low dist 95%:  8039.545665632053\n",
      "high dist 95%:  26518.59826374591\n"
     ]
    },
    {
     "data": {
      "image/png": "[encoded data removed]",
      "text/plain": [
       "<Figure size 432x288 with 1 Axes>"
      ]
     },
     "metadata": {
      "needs_background": "light"
     },
     "output_type": "display_data"
    }
   ],
   "source": [
    "# Get distances for E_i = 1 PeV to E_f = 500 GeV (for abstract info)\n",
    "\n",
    "mi = 0.9\n",
    "median_dist_1_500 = np.median(df_dict['df_08'].distances[df_dict['df_08'].E_f > mi * 500])\n",
    "print('median dist: ', median_dist_1_500)\n",
    "low_dist_1_500 = np.quantile(df_dict['df_08'].distances[df_dict['df_08'].E_f > mi * 500], 0.025)\n",
    "print('low dist 95%: ', low_dist_1_500)\n",
    "high_dist_1_500 = np.quantile(df_dict['df_08'].distances[df_dict['df_08'].E_f > mi * 500], 0.975) # - median_dist_1_500\n",
    "print('high dist 95%: ', high_dist_1_500)\n",
    "\n",
    "plt.hist(df_dict['df_08'].distances[df_dict['df_08'].E_f > mi * 500], histtype='step', label='median')\n",
    "plt.vlines(low_dist_1_500, 0, 13e3, color='orange', label='low 95%')\n",
    "plt.vlines(high_dist_1_500, 0, 13e3, color='green', label='high 95%')\n",
    "plt.yscale('log')\n",
    "plt.ylabel('counts')\n",
    "plt.xlabel('propagation distance in meter')\n",
    "plt.legend()\n",
    "plt.title(r'$E_i = 1$ PeV, $E_f = 500$ GeV')\n",
    "plt.tight_layout()\n",
    "if save_plot:\n",
    "    plt.savefig(plot_dir + 'distance_1PeV_500GeV.pdf')"
   ]
  },
  {
   "cell_type": "code",
   "execution_count": 17,
   "id": "0a9bf39c-1daf-456f-bdb2-e3bd50acd879",
   "metadata": {},
   "outputs": [
    {
     "data": {
      "text/plain": [
       "array([-0.40087482, -0.19993   ,  0.47171264,  0.68293802, -0.09817561,\n",
       "       -0.4024428 ,  0.13951024, -0.63143214,  0.10429377, -0.07257024,\n",
       "        0.40159722, -0.12536046], dtype=float128)"
      ]
     },
     "execution_count": 17,
     "metadata": {},
     "output_type": "execute_result"
    }
   ],
   "source": [
    "# Check deviation between water and ice simulation ---> less than 1% deviation\n",
    "deflection_median_10P_cut_10_water = np.array([\n",
    "                     0.79150338217522568093,\n",
    "                     0.42027063875051527748,\n",
    "                     0.2932342756713901575,\n",
    "                     0.1012175759191841121,\n",
    "                     0.059028678121102240653,\n",
    "                     0.014155812831099963241,\n",
    "                     0.0073208573158286867227,\n",
    "                     0.0015401160779994301778,\n",
    "                     0.00077872394269746531866,\n",
    "                     0.00017512560410630505606,\n",
    "                     0.000100290243100752244415,\n",
    "                     3.8162822474097349672e-05])\n",
    "water_ice_deviation = (deflection_median_10P_cut_10[2:] - deflection_median_10P_cut_10_water) / deflection_median_10P_cut_10[2:] * 100 # values in percent\n",
    "water_ice_deviation"
   ]
  },
  {
   "cell_type": "code",
   "execution_count": 18,
   "id": "bd2289ef-4fa5-4aed-b5cd-6f2bb30069d3",
   "metadata": {},
   "outputs": [
    {
     "ename": "SyntaxError",
     "evalue": "invalid syntax (<ipython-input-18-65621fd38476>, line 1)",
     "output_type": "error",
     "traceback": [
      "\u001b[0;36m  File \u001b[0;32m\"<ipython-input-18-65621fd38476>\"\u001b[0;36m, line \u001b[0;32m1\u001b[0m\n\u001b[0;31m    Achtung! Für Wasser fehlen noch die Simulationen für 1 GeV und 5 GeV\u001b[0m\n\u001b[0m           ^\u001b[0m\n\u001b[0;31mSyntaxError\u001b[0m\u001b[0;31m:\u001b[0m invalid syntax\n"
     ]
    }
   ],
   "source": [
    "Achtung! Für Wasser fehlen noch die Simulationen für 1 GeV und 5 GeV"
   ]
  },
  {
   "cell_type": "markdown",
   "id": "38267ab9-a1b3-4158-8679-0c794cc294c2",
   "metadata": {},
   "source": [
    "## distance plot"
   ]
  },
  {
   "cell_type": "code",
   "execution_count": 19,
   "id": "2558ce5f-cc49-4f79-9c87-a33bf75f32b2",
   "metadata": {},
   "outputs": [
    {
     "name": "stdout",
     "output_type": "stream",
     "text": [
      "df_14 10000000.0 1.0 95000 94942 0.9895894736842106 0.9993894736842105 1001.0\n",
      "df_13 10000000.0 5.0 95000 93946 0.9504 0.9889052631578947 1011.0\n",
      "df_10 10000000.0 10.0 55000 53579 0.9276181818181818 0.9741636363636363 1027.0\n",
      "df_09 10000000.0 50.0 55000 50969 0.8173636363636364 0.9267090909090909 1079.0\n",
      "df_04 10000000.0 100.0 57500 51418 0.7472869565217392 0.8942260869565217 1118.0\n",
      "df_08 10000000.0 500.0 65000 50406 0.48624615384615383 0.7754769230769231 1290.0\n",
      "df_03 10000000.0 1000.0 72500 51536 0.34355862068965515 0.7108413793103449 1407.0\n",
      "df_07 10000000.0 5000.0 85000 51362 0.10603529411764706 0.6042588235294117 1655.0\n",
      "df_02 10000000.0 10000.0 87500 50512 0.05739428571428572 0.57728 1732.0\n",
      "df_06 10000000.0 50000.0 142500 78654 0.012063157894736842 0.5519578947368421 1812.0\n",
      "df_01 10000000.0 100000.0 92500 50343 0.006054054054054054 0.5442486486486486 1837.0\n",
      "df_05 10000000.0 500000.0 92500 49829 0.001081081081081081 0.5386918918918919 1856.0\n",
      "df_11 10000000.0 1000000.0 95000 50605 0.0007157894736842105 0.5326842105263158 1877.0\n",
      "df_12 10000000.0 5000000.0 95000 55076 0.00016842105263157895 0.5797473684210527 1725.0\n",
      "df_12 1000000.0 1.0 55000 54967 0.9898 0.9994 1001.0\n",
      "df_11 1000000.0 5.0 55000 54366 0.9500909090909091 0.9884727272727273 1012.0\n",
      "df_10 1000000.0 10.0 55000 53620 0.9294545454545454 0.974909090909091 1026.0\n",
      "df_09 1000000.0 50.0 55000 51079 0.8173818181818182 0.9287090909090909 1077.0\n",
      "df_04 1000000.0 100.0 57500 51570 0.7492347826086957 0.8968695652173913 1115.0\n",
      "df_08 1000000.0 500.0 65000 50409 0.48427692307692305 0.7755230769230769 1289.0\n",
      "df_03 1000000.0 1000.0 72500 51487 0.34398620689655174 0.7101655172413793 1408.0\n",
      "df_07 1000000.0 5000.0 85000 51149 0.10428235294117646 0.6017529411764706 1662.0\n",
      "df_02 1000000.0 10000.0 87500 50578 0.05744 0.5780342857142857 1730.0\n",
      "df_06 1000000.0 50000.0 142500 78239 0.012 0.5490456140350877 1821.0\n",
      "df_01 1000000.0 100000.0 92500 50819 0.0057621621621621625 0.5493945945945946 1820.0\n",
      "df_05 1000000.0 500000.0 92500 54995 0.0014162162162162162 0.5945405405405405 1682.0\n",
      "df_10 100000.0 1.0 87500 87458 0.9897714285714285 0.99952 1000.0\n",
      "df_01 100000.0 5.0 87500 86478 0.9496 0.98832 1012.0\n",
      "df_09 100000.0 10.0 55000 53596 0.9272727272727272 0.9744727272727273 1026.0\n",
      "df_08 100000.0 50.0 55000 51105 0.8162181818181818 0.9291818181818182 1076.0\n",
      "df_04 100000.0 100.0 57500 51625 0.7500695652173913 0.8978260869565218 1114.0\n",
      "df_07 100000.0 500.0 65000 50337 0.48638461538461536 0.7744153846153846 1291.0\n",
      "df_03 100000.0 1000.0 72500 51584 0.34209655172413794 0.7115034482758621 1405.0\n",
      "df_06 100000.0 5000.0 85000 51193 0.10542352941176471 0.6022705882352941 1660.0\n",
      "df_02 100000.0 10000.0 87500 50713 0.05597714285714286 0.5795771428571429 1725.0\n",
      "df_05 100000.0 50000.0 142500 87406 0.013782456140350877 0.6133754385964912 1630.0\n",
      "df_01 10000.0 1.0 72500 72452 0.9894068965517241 0.9993379310344828 1001.0\n",
      "df_02 10000.0 5.0 72500 71687 0.950551724137931 0.9887862068965517 1011.0\n",
      "df_08 10000.0 10.0 55000 53643 0.9290363636363637 0.9753272727272727 1025.0\n",
      "df_07 10000.0 50.0 55000 51036 0.8165636363636364 0.9279272727272727 1078.0\n",
      "df_04 10000.0 100.0 57500 51605 0.751495652173913 0.8974782608695652 1114.0\n",
      "df_06 10000.0 500.0 65000 50459 0.4881076923076923 0.7762923076923077 1288.0\n",
      "df_03 10000.0 1000.0 72500 51602 0.34172413793103446 0.7117517241379311 1405.0\n",
      "df_05 10000.0 5000.0 85000 56814 0.11855294117647058 0.6684 1496.0\n"
     ]
    }
   ],
   "source": [
    "# 10% cut of E_min\n",
    "\n",
    "mi = 0.9\n",
    "quantile_low = 0.005 # 0.025\n",
    "quantile_high = 0.995 # 0.975\n",
    "\n",
    "# E_i = 10 PeV\n",
    "distances_median_10P_cut_10 = []\n",
    "distances_median_lower_10P_cut_10 = [] \n",
    "distances_median_upper_10P_cut_10 = []\n",
    "for i,d in enumerate(df_dict_10P):\n",
    "    df = df_dict_10P[d]\n",
    "    print(d, df.E_i[0], mode(df.E_f), len(df), len(df[df.E_f > mode(df.E_f) * mi]), len(df[df.E_f == mode(df.E_f)])/len(df), len(df[df.E_f > mode(df.E_f) * mi])/len(df), np.round(1000/(len(df[df.E_f > mode(df.E_f) * mi])/len(df)))) \n",
    "    distances_median_10P_cut_10.append(np.median(df.distances[df.E_f > mode(df.E_f) * mi]))\n",
    "    distances_median_lower_10P_cut_10.append(np.median(df.distances[df.E_f > mode(df.E_f) * mi]) - np.quantile(df.distances[df.E_f > mode(df.E_f) * mi], quantile_low)) \n",
    "    distances_median_upper_10P_cut_10.append(np.quantile(df.distances[df.E_f > mode(df.E_f) * mi], quantile_high) - np.median(df.distances[df.E_f > mode(df.E_f) * mi]))\n",
    "\n",
    "    \n",
    "\n",
    "# E_i = 1 PeV    \n",
    "distances_median_1P_cut_10 = []\n",
    "distances_median_lower_1P_cut_10 = [] \n",
    "distances_median_upper_1P_cut_10 = []\n",
    "for d in df_dict:\n",
    "    df = df_dict[d]\n",
    "    print(d, df.E_i[0], mode(df.E_f), len(df), len(df[df.E_f > mode(df.E_f) * mi]), len(df[df.E_f == mode(df.E_f)])/len(df), len(df[df.E_f > mode(df.E_f) * mi])/len(df), np.round(1000/(len(df[df.E_f > mode(df.E_f) * mi])/len(df))))\n",
    "    distances_median_1P_cut_10.append(np.median(df.distances[df.E_f > mode(df.E_f) * mi]))\n",
    "    distances_median_lower_1P_cut_10.append(np.median(df.distances[df.E_f > mode(df.E_f) * mi]) - np.quantile(df.distances[df.E_f > mode(df.E_f) * mi], quantile_low)) \n",
    "    distances_median_upper_1P_cut_10.append(np.quantile(df.distances[df.E_f > mode(df.E_f) * mi], quantile_high) - np.median(df.distances[df.E_f > mode(df.E_f) * mi]))\n",
    "    \n",
    "# E_i = 100 TeV\n",
    "distances_median_100_cut_10 = []\n",
    "distances_median_lower_100_cut_10 = [] \n",
    "distances_median_upper_100_cut_10 = []\n",
    "for d in df_dict_100:\n",
    "    df = df_dict_100[d]\n",
    "    print(d, df.E_i[0], mode(df.E_f), len(df), len(df[df.E_f > mode(df.E_f) * mi]), len(df[df.E_f == mode(df.E_f)])/len(df), len(df[df.E_f > mode(df.E_f) * mi])/len(df), np.round(1000/(len(df[df.E_f > mode(df.E_f) * mi])/len(df))))\n",
    "    distances_median_100_cut_10.append(np.median(df.distances[df.E_f > mode(df.E_f) * mi]))\n",
    "    distances_median_lower_100_cut_10.append(np.median(df.distances[df.E_f > mode(df.E_f) * mi]) - np.quantile(df.distances[df.E_f > mode(df.E_f) * mi], quantile_low)) \n",
    "    distances_median_upper_100_cut_10.append(np.quantile(df.distances[df.E_f > mode(df.E_f) * mi], quantile_high) - np.median(df.distances[df.E_f > mode(df.E_f) * mi]))\n",
    "\n",
    "# E_i = 10 TeV    \n",
    "distances_median_10_cut_10 = []\n",
    "distances_median_lower_10_cut_10 = [] \n",
    "distances_median_upper_10_cut_10 = []\n",
    "for d in df_dict_10:\n",
    "    df = df_dict_10[d]\n",
    "    print(d, df.E_i[0], mode(df.E_f), len(df), len(df[df.E_f > mode(df.E_f) * mi]), len(df[df.E_f == mode(df.E_f)])/len(df), len(df[df.E_f > mode(df.E_f) * mi])/len(df), np.round(1000/(len(df[df.E_f > mode(df.E_f) * mi])/len(df))))\n",
    "    distances_median_10_cut_10.append(np.median(df.distances[df.E_f > mode(df.E_f) * mi]))\n",
    "    distances_median_lower_10_cut_10.append(np.median(df.distances[df.E_f > mode(df.E_f) * mi]) - np.quantile(df.distances[df.E_f > mode(df.E_f) * mi], quantile_low)) \n",
    "    distances_median_upper_10_cut_10.append(np.quantile(df.distances[df.E_f > mode(df.E_f) * mi], quantile_high) - np.median(df.distances[df.E_f > mode(df.E_f) * mi]))"
   ]
  },
  {
   "cell_type": "code",
   "execution_count": 20,
   "id": "f5df9ee8-4a8f-473e-a2d6-7277f341afa2",
   "metadata": {},
   "outputs": [
    {
     "data": {
      "image/png": "[encoded data removed]",
      "text/plain": [
       "<Figure size 432x288 with 1 Axes>"
      ]
     },
     "metadata": {
      "needs_background": "light"
     },
     "output_type": "display_data"
    }
   ],
   "source": [
    "### fit deflection medians\n",
    "x = np.logspace(0.1, 7, 1000)\n",
    "\n",
    "interval = str(int((quantile_high - quantile_low)*100))\n",
    "\n",
    "# E_i = 10 PeV\n",
    "plt.errorbar(E_f_10P, distances_median_10P_cut_10, yerr=(distances_median_lower_10P_cut_10, distances_median_upper_10P_cut_10), fmt='.', color='orange', alpha=0.5, label=r'median$\\;|\\;'+interval+'\\,\\%$ CI, $E_\\mathrm{i} = 10\\,$PeV')\n",
    "plt.fill_between(E_f_10P, np.array(distances_median_10P_cut_10)-np.array(distances_median_lower_10P_cut_10), np.array(distances_median_10P_cut_10) + np.array(distances_median_upper_10P_cut_10), alpha=0.1, color='orange')\n",
    "# E_i = 1 PeV\n",
    "plt.errorbar(E_f, distances_median_1P_cut_10, yerr=(distances_median_lower_1P_cut_10, distances_median_upper_1P_cut_10), fmt='.', color='yellow', alpha=0.5, label=r'median$\\;|\\;'+interval+'\\,\\%$ CI, $E_\\mathrm{i} = 1\\,$PeV')\n",
    "plt.fill_between(E_f, np.array(distances_median_1P_cut_10)-np.array(distances_median_lower_1P_cut_10), np.array(distances_median_1P_cut_10) + np.array(distances_median_upper_1P_cut_10), alpha=0.1, color='yellow')\n",
    "# E_i = 100 TeV\n",
    "plt.errorbar(E_f_100, distances_median_100_cut_10, yerr=(distances_median_lower_100_cut_10, distances_median_upper_100_cut_10), fmt='.', color='red', alpha=0.5, label=r'median$\\;|\\;'+interval+'\\,\\%$ CI, $E_\\mathrm{i} = 100\\,$TeV')\n",
    "plt.fill_between(E_f_100, np.array(distances_median_100_cut_10)-np.array(distances_median_lower_100_cut_10), np.array(distances_median_100_cut_10) + np.array(distances_median_upper_100_cut_10), alpha=0.1, color='red')\n",
    "# E_i = 10 TeV\n",
    "plt.errorbar(E_f_10, distances_median_10_cut_10, yerr=(distances_median_lower_10_cut_10, distances_median_upper_10_cut_10), fmt='.', color='green', alpha=0.8, label=r'median$\\;|\\;'+interval+'\\,\\%$ CI, $E_\\mathrm{i} = 10\\,$TeV')\n",
    "plt.fill_between(E_f_10, np.array(distances_median_10_cut_10)-np.array(distances_median_lower_10_cut_10), np.array(distances_median_10_cut_10) + np.array(distances_median_upper_10_cut_10), alpha=0.1, color='green')\n",
    "\n",
    "\n",
    "  \n",
    "    \n",
    "plt.hlines(distances_median_10_cut_10[-1]-distances_median_lower_10_cut_10[-1], 1, 1e7)\n",
    "plt.hlines(distances_median_10_cut_10[-1]+distances_median_upper_10_cut_10[-1], 1, 1e7)\n",
    "\n",
    "\n",
    "\n",
    "plt.xscale('log')\n",
    "plt.yscale('log')\n",
    "plt.ylabel(r'$d\\,/\\,$m')\n",
    "plt.xlabel(r'$E_{\\mathrm{f,\\,min}}\\,/\\,$GeV')\n",
    "plt.xlim(0.4, right=1e7)\n",
    "plt.grid(linestyle='--', alpha=0.3)\n",
    "plt.legend(fontsize=9, bbox_to_anchor=(1., 1.2), ncol=2)\n",
    "# plt.tight_layout()\n",
    "if save_plot:\n",
    "    plt.savefig(plot_dir + 'fit_median_defl_cut_10percent_only_poly_new_resolution_rescale_no_icecube_paper_final_all_distances.pdf', bbox_inches='tight')"
   ]
  },
  {
   "cell_type": "code",
   "execution_count": 21,
   "id": "82737d75-4faa-4e09-8a34-b7cf5638b576",
   "metadata": {},
   "outputs": [
    {
     "name": "stdout",
     "output_type": "stream",
     "text": [
      "the higher the initial energy, the longer the propagation distance, but the total deflection depends only on the final muon energy\n"
     ]
    },
    {
     "data": {
      "image/png": "[encoded data removed]",
      "text/plain": [
       "<Figure size 432x288 with 1 Axes>"
      ]
     },
     "metadata": {
      "needs_background": "light"
     },
     "output_type": "display_data"
    }
   ],
   "source": [
    "d_10TeV_5TeV = [distances_median_10_cut_10[-1]-distances_median_lower_10_cut_10[-1], distances_median_10_cut_10[-1], distances_median_10_cut_10[-1]+distances_median_upper_10_cut_10[-1]]\n",
    "defl_10TeV_5TeV = [deflection_median_10_cut_10[-1]-deflection_median_lower_10_cut_10[-1], deflection_median_10_cut_10[-1], deflection_median_10_cut_10[-1]+deflection_median_upper_10_cut_10[-1]]\n",
    "plt.plot(d_10TeV_5TeV, defl_10TeV_5TeV, 'o--', label=r'$E_i = 10$ TeV, $E_f = 5$ TeV')\n",
    "\n",
    "d_100TeV_5TeV = [distances_median_100_cut_10[-3]-distances_median_lower_100_cut_10[-3], distances_median_100_cut_10[-3], distances_median_100_cut_10[-3]+distances_median_upper_100_cut_10[-3]]\n",
    "defl_100TeV_5TeV = [deflection_median_100_cut_10[-3]-deflection_median_lower_100_cut_10[-3], deflection_median_100_cut_10[-3], deflection_median_100_cut_10[-3]+deflection_median_upper_100_cut_10[-3]]\n",
    "plt.plot(d_100TeV_5TeV, defl_100TeV_5TeV, 'o--', label=r'$E_i = 100$ TeV, $E_f = 5$ TeV')\n",
    "\n",
    "d_1PeV_5TeV = [distances_median_1P_cut_10[-5]-distances_median_lower_1P_cut_10[-5], distances_median_1P_cut_10[-5], distances_median_1P_cut_10[-5]+distances_median_upper_1P_cut_10[-5]]\n",
    "defl_1PeV_5TeV = [deflection_median_1P_cut_10[-5]-deflection_median_lower_1P_cut_10[-5], deflection_median_1P_cut_10[-5], deflection_median_1P_cut_10[-5]+deflection_median_upper_1P_cut_10[-5]]\n",
    "plt.plot(d_1PeV_5TeV, defl_1PeV_5TeV, 'o--', label=r'$E_i = 1$ PeV, $E_f = 5$ TeV')\n",
    "\n",
    "d_10PeV_5TeV = [distances_median_10P_cut_10[-7]-distances_median_lower_10P_cut_10[-7], distances_median_10P_cut_10[-7], distances_median_10P_cut_10[-7]+distances_median_upper_10P_cut_10[-7]]\n",
    "defl_10PeV_5TeV = [deflection_median_10P_cut_10[-7]-deflection_median_lower_10P_cut_10[-7], deflection_median_10P_cut_10[-7], deflection_median_10P_cut_10[-7]+deflection_median_upper_10P_cut_10[-7]]\n",
    "plt.plot(d_10PeV_5TeV, defl_10PeV_5TeV, 'o--', label=r'$E_i = 10$ PeV, $E_f = 5$ TeV')\n",
    "\n",
    "\n",
    "plt.yscale('log')\n",
    "plt.xlabel('propagation distance in m')\n",
    "plt.ylabel('deflection in degree')\n",
    "plt.legend()\n",
    "print('the higher the initial energy, the longer the propagation distance, but the total deflection depends only on \\\n",
    "the final muon energy')"
   ]
  },
  {
   "cell_type": "code",
   "execution_count": 22,
   "id": "14d45e4e-2498-4648-8483-43537b18e5f2",
   "metadata": {},
   "outputs": [
    {
     "data": {
      "text/plain": [
       "<matplotlib.legend.Legend at 0x7fc1bf433f60>"
      ]
     },
     "execution_count": 22,
     "metadata": {},
     "output_type": "execute_result"
    },
    {
     "data": {
      "image/png": "[encoded data removed]",
      "text/plain": [
       "<Figure size 432x288 with 1 Axes>"
      ]
     },
     "metadata": {
      "needs_background": "light"
     },
     "output_type": "display_data"
    }
   ],
   "source": [
    "plt.plot(distances_median_10_cut_10, deflection_median_10_cut_10, 'x', label=r'$E_i = 10$ TeV, $E_f < E_i$')\n",
    "plt.plot(distances_median_100_cut_10, deflection_median_100_cut_10, 'x', label=r'$E_i = 100$ TeV, $E_f < E_i$')\n",
    "plt.plot(distances_median_1P_cut_10, deflection_median_1P_cut_10, 'x', label=r'$E_i = 1$ PeV, $E_f < E_i$')\n",
    "plt.plot(distances_median_10P_cut_10, deflection_median_10P_cut_10, 'x', label=r'$E_i = 10$ PeV, $E_f < E_i$')\n",
    "plt.yscale('log')\n",
    "plt.xlabel('propagation distance in m')\n",
    "plt.ylabel('deflection in degree')\n",
    "plt.legend()"
   ]
  },
  {
   "cell_type": "code",
   "execution_count": 154,
   "id": "3186a966-d1b6-4afc-b59a-124b09a4fb2f",
   "metadata": {},
   "outputs": [
    {
     "name": "stdout",
     "output_type": "stream",
     "text": [
      "E_f = 1.0 GeV, med(d) = 23.748702005775957 km - 9.09723223671143 km + 37.78564304455197 km\n",
      "E_f = 5.0 GeV, med(d) = 23.76409759556561 km - 8.986780123967877 km + 37.621585312229946 km\n",
      "E_f = 10.0 GeV, med(d) = 23.76276007652559 km - 9.153733521203089 km + 37.7922644976993 km\n",
      "E_f = 50.0 GeV, med(d) = 23.652432796945202 km - 9.068864437692818 km + 37.55354770585037 km\n",
      "E_f = 100.0 GeV, med(d) = 23.47375690298274 km - 8.999391312020517 km + 37.248604723202774 km\n",
      "E_f = 500.0 GeV, med(d) = 22.55873086033471 km - 8.325440483034715 km + 36.30220422952631 km\n",
      "E_f = 1000.0 GeV, med(d) = 21.796768250158813 km - 7.645075590773198 km + 35.44658015542664 km\n",
      "E_f = 5000.0 GeV, med(d) = 18.962709291645975 km - 6.157221508138479 km + 31.601746668053885 km\n",
      "E_f = 10000.0 GeV, med(d) = 17.396123048564483 km - 5.113291192290988 km + 29.44232507116777 km\n",
      "E_f = 50000.0 GeV, med(d) = 13.583812962441302 km - 3.2484684065953444 km + 23.961083542969508 km\n",
      "E_f = 100000.0 GeV, med(d) = 11.946253735177969 km - 2.4903575130722966 km + 21.38402531907095 km\n",
      "E_f = 500000.0 GeV, med(d) = 8.162468806021659 km - 1.1119913950552982 km + 15.344102287984692 km\n",
      "E_f = 1000000.0 GeV, med(d) = 6.53687162474063 km - 0.6418566403054902 km + 12.434814080329444 km\n",
      "E_f = 5000000.0 GeV, med(d) = 2.5523297953681023 km - 0.13277276639728644 km + 4.959958397315227 km\n"
     ]
    }
   ],
   "source": [
    "# print median values for E_i = 10 PeV with lower and upper 99% limits, (use E_f = 500 GeV in abstract)\n",
    "for i, e,d in zip(range(len(E_f_10P)), E_f_10P, distances_median_10P_cut_10):\n",
    "    print('E_f = {} GeV, med(d) = {} km - {} km + {} km'.format(e, d/1e3, (d-distances_median_lower_10P_cut_10[i])/1e3, (d+distances_median_upper_10P_cut_10[i])/1e3))"
   ]
  },
  {
   "cell_type": "code",
   "execution_count": 155,
   "id": "5afa1c0b-d0fa-4ca5-b14e-45a248085379",
   "metadata": {},
   "outputs": [
    {
     "name": "stdout",
     "output_type": "stream",
     "text": [
      "E_f = 1.0 GeV, med(d) = 18.725034305179445 km - 6.0487705960209315 km + 30.36153178618533 km\n",
      "E_f = 5.0 GeV, med(d) = 18.738177625056785 km - 5.974921130420256 km + 30.26416682756743 km\n",
      "E_f = 10.0 GeV, med(d) = 18.693247262192834 km - 6.190138414880145 km + 30.14740333480693 km\n",
      "E_f = 50.0 GeV, med(d) = 18.53183600732742 km - 6.082010763354159 km + 30.035041508072528 km\n",
      "E_f = 100.0 GeV, med(d) = 18.39354692716551 km - 6.023324397452785 km + 29.86549158752454 km\n",
      "E_f = 500.0 GeV, med(d) = 17.521549791812234 km - 5.4358769502069535 km + 28.8647816220318 km\n",
      "E_f = 1000.0 GeV, med(d) = 16.774363169032817 km - 4.847402268852366 km + 27.92581181034106 km\n",
      "E_f = 5000.0 GeV, med(d) = 13.939015824377327 km - 3.38169679907237 km + 23.984876427742634 km\n",
      "E_f = 10000.0 GeV, med(d) = 12.377015787017266 km - 2.5993750963747297 km + 21.781089426349347 km\n",
      "E_f = 50000.0 GeV, med(d) = 8.56491141217275 km - 1.1578889049662702 km + 15.666229308052321 km\n",
      "E_f = 100000.0 GeV, med(d) = 6.892465697226101 km - 0.7259186976857845 km + 12.79698731076082 km\n",
      "E_f = 500000.0 GeV, med(d) = 2.6697735312492274 km - 0.16221144076149904 km + 5.040697974481295 km\n"
     ]
    }
   ],
   "source": [
    "# print median values for E_i = 1 PeV with lower and upper 99% limits, (use E_f = 500 GeV in abstract)\n",
    "for i, e,d in zip(range(len(E_f)), E_f, distances_median_1P_cut_10):\n",
    "    print('E_f = {} GeV, med(d) = {} km - {} km + {} km'.format(e, d/1e3, (d-distances_median_lower_1P_cut_10[i])/1e3, (d+distances_median_upper_1P_cut_10[i])/1e3))"
   ]
  },
  {
   "cell_type": "code",
   "execution_count": 156,
   "id": "f2c93e09-7e2c-4433-baa5-1a3b43d6350d",
   "metadata": {},
   "outputs": [
    {
     "name": "stdout",
     "output_type": "stream",
     "text": [
      "E_f = 1.0 GeV, med(d) = 13.450435972349634 km - 3.598765321052244 km + 21.890341893765186 km\n",
      "E_f = 5.0 GeV, med(d) = 13.409565054797799 km - 3.476752603364546 km + 21.897535800121 km\n",
      "E_f = 10.0 GeV, med(d) = 13.375835810839972 km - 3.6220914089637937 km + 21.8838966028423 km\n",
      "E_f = 50.0 GeV, med(d) = 13.238340317257114 km - 3.5827358311106563 km + 21.65341129473489 km\n",
      "E_f = 100.0 GeV, med(d) = 13.099834343250542 km - 3.5397830443595413 km + 21.5505787009474 km\n",
      "E_f = 500.0 GeV, med(d) = 12.21693219008709 km - 2.871808762296894 km + 20.469602285610467 km\n",
      "E_f = 1000.0 GeV, med(d) = 11.46083136974409 km - 2.377936436356997 km + 19.36784382298262 km\n",
      "E_f = 5000.0 GeV, med(d) = 8.58168323880294 km - 1.1977066292750678 km + 15.19209035606172 km\n",
      "E_f = 10000.0 GeV, med(d) = 7.027840814684232 km - 0.7643326473349753 km + 12.658337020940737 km\n",
      "E_f = 50000.0 GeV, med(d) = 2.7480443955296203 km - 0.1681770664238261 km + 5.019567644014373 km\n"
     ]
    }
   ],
   "source": [
    "# print median values for E_i = 100 TeV with lower and upper 99% limits, (use E_f = 500 GeV in abstract)\n",
    "for i, e,d in zip(range(len(E_f_100)), E_f_100, distances_median_100_cut_10):\n",
    "    print('E_f = {} GeV, med(d) = {} km - {} km + {} km'.format(e, d/1e3, (d-distances_median_lower_100_cut_10[i])/1e3, (d+distances_median_upper_100_cut_10[i])/1e3))"
   ]
  },
  {
   "cell_type": "code",
   "execution_count": 157,
   "id": "d37a10e4-aa51-4550-864d-efb1f2769111",
   "metadata": {},
   "outputs": [
    {
     "name": "stdout",
     "output_type": "stream",
     "text": [
      "E_f = 1.0 GeV, med(d) = 7.91321255491458 km - 1.6507532585195923 km + 12.200319263655327 km\n",
      "E_f = 5.0 GeV, med(d) = 7.892400236924168 km - 1.6283030297665955 km + 12.177838839214365 km\n",
      "E_f = 10.0 GeV, med(d) = 7.841359342389708 km - 1.5791778109764836 km + 12.127968151382781 km\n",
      "E_f = 50.0 GeV, med(d) = 7.718958977971143 km - 1.4763644127335511 km + 11.976463316160467 km\n",
      "E_f = 100.0 GeV, med(d) = 7.5489967969251985 km - 1.4624666782492906 km + 11.802449725689105 km\n",
      "E_f = 500.0 GeV, med(d) = 6.68103149761912 km - 1.0064235804521622 km + 10.667822248820903 km\n",
      "E_f = 1000.0 GeV, med(d) = 5.857159295326079 km - 0.7788511924191753 km + 9.540316671130258 km\n",
      "E_f = 5000.0 GeV, med(d) = 2.5404123464967423 km - 0.17435389110568303 km + 4.2819917815645345 km\n"
     ]
    }
   ],
   "source": [
    "# print median values for E_i = 10 TeV with lower and upper 99% limits, (use E_f = 500 GeV in abstract)\n",
    "for i, e,d in zip(range(len(E_f_10)), E_f_10, distances_median_10_cut_10):\n",
    "    print('E_f = {} GeV, med(d) = {} km - {} km + {} km'.format(e, d/1e3, (d-distances_median_lower_10_cut_10[i])/1e3, (d+distances_median_upper_10_cut_10[i])/1e3))"
   ]
  },
  {
   "cell_type": "markdown",
   "id": "36e44e79-10a1-4633-a077-853a62771a2e",
   "metadata": {},
   "source": [
    "## analyze deflection for a very short propagation distance at high energies"
   ]
  },
  {
   "cell_type": "code",
   "execution_count": 23,
   "id": "f5dc670e-74fc-4ec7-a306-9154cf96d3b5",
   "metadata": {},
   "outputs": [
    {
     "name": "stdout",
     "output_type": "stream",
     "text": [
      "E_i = 100 TeV, E_f =  10.0  TeV\n"
     ]
    },
    {
     "data": {
      "image/png": "[encoded data removed]",
      "text/plain": [
       "<Figure size 432x288 with 2 Axes>"
      ]
     },
     "metadata": {
      "needs_background": "light"
     },
     "output_type": "display_data"
    }
   ],
   "source": [
    "key = 'df_02'\n",
    "\n",
    "bins = (np.logspace(2, 4.3, 30), np.logspace(-5, 0, 30))\n",
    "plt.hist2d(df_dict_100[key].distances[df_dict_100[key].E_f > 0.9 * mode(df_dict_100[key].E_f)], \n",
    "           df_dict_100[key].deflection[df_dict_100[key].E_f > 0.9 * mode(df_dict_100[key].E_f)],\n",
    "           bins=bins, cmin=1, norm=mpl.colors.LogNorm())\n",
    "plt.xscale('log')\n",
    "plt.yscale('log')\n",
    "plt.xlabel('propagation distance in meter')\n",
    "plt.ylabel('deflection in degree')\n",
    "plt.colorbar()\n",
    "plt.title(r'$E_i = 100$ TeV, $E_f = {}$ TeV'.format(mode(df_dict_100[key].E_f)/1e3))\n",
    "print('E_i = 100 TeV, E_f = ', mode(df_dict_100[key].E_f)/1e3, ' TeV')"
   ]
  },
  {
   "cell_type": "code",
   "execution_count": 24,
   "id": "a1e3f4e0-5685-4c67-8845-d5a997df2d6b",
   "metadata": {},
   "outputs": [
    {
     "name": "stdout",
     "output_type": "stream",
     "text": [
      "E_i = 100 TeV, E_f =  0.005  TeV\n"
     ]
    },
    {
     "data": {
      "image/png": "[encoded data removed]",
      "text/plain": [
       "<Figure size 432x288 with 2 Axes>"
      ]
     },
     "metadata": {
      "needs_background": "light"
     },
     "output_type": "display_data"
    }
   ],
   "source": [
    "key = 'df_01'\n",
    "\n",
    "bins = (np.logspace(2, 4.5, 30), np.logspace(-3, 2, 30))\n",
    "plt.hist2d(df_dict_100[key].distances[df_dict_100[key].E_f > 0.9 * mode(df_dict_100[key].E_f)], \n",
    "           df_dict_100[key].deflection[df_dict_100[key].E_f > 0.9 * mode(df_dict_100[key].E_f)],\n",
    "           bins=bins, cmin=1, norm=mpl.colors.LogNorm())\n",
    "plt.xscale('log')\n",
    "plt.yscale('log')\n",
    "plt.xlabel('propagation distance in meter')\n",
    "plt.ylabel('deflection in degree')\n",
    "plt.colorbar()\n",
    "plt.title(r'$E_i = 100$ TeV, $E_f = {}$ TeV'.format(mode(df_dict_100[key].E_f)/1e3))\n",
    "print('E_i = 100 TeV, E_f = ', mode(df_dict_100[key].E_f)/1e3, ' TeV')"
   ]
  },
  {
   "cell_type": "code",
   "execution_count": 25,
   "id": "02d4df16-8c1c-4c16-8e34-f161ec4397b3",
   "metadata": {
    "tags": []
   },
   "outputs": [
    {
     "name": "stdout",
     "output_type": "stream",
     "text": [
      "E_i = 100 TeV, E_f =  1.0  TeV\n"
     ]
    },
    {
     "data": {
      "image/png": "[encoded data removed]",
      "text/plain": [
       "<Figure size 432x288 with 2 Axes>"
      ]
     },
     "metadata": {
      "needs_background": "light"
     },
     "output_type": "display_data"
    }
   ],
   "source": [
    "key = 'df_03'\n",
    "\n",
    "bins = (np.logspace(2, 4.5, 30), np.logspace(-4, 1, 30))\n",
    "plt.hist2d(df_dict_100[key].distances[df_dict_100[key].E_f > 0.9 * mode(df_dict_100[key].E_f)], \n",
    "           df_dict_100[key].deflection[df_dict_100[key].E_f > 0.9 * mode(df_dict_100[key].E_f)],\n",
    "           bins=bins, cmin=1, norm=mpl.colors.LogNorm())\n",
    "plt.xscale('log')\n",
    "plt.yscale('log')\n",
    "plt.xlabel('propagation distance in meter')\n",
    "plt.ylabel('deflection in degree')\n",
    "plt.colorbar()\n",
    "plt.title(r'$E_i = 100$ TeV, $E_f = {}$ TeV'.format(mode(df_dict_100[key].E_f)/1e3))\n",
    "print('E_i = 100 TeV, E_f = ', mode(df_dict_100[key].E_f)/1e3, ' TeV')"
   ]
  },
  {
   "cell_type": "markdown",
   "id": "bba2bafe-f2cc-4f60-9ac2-dd8ddb18bb36",
   "metadata": {},
   "source": [
    "## deflection as function of energy and distance"
   ]
  },
  {
   "cell_type": "code",
   "execution_count": 26,
   "id": "c2525cb1-937e-47f4-993b-50268dbeacc2",
   "metadata": {},
   "outputs": [
    {
     "data": {
      "text/html": [
       "<div>\n",
       "<style scoped>\n",
       "    .dataframe tbody tr th:only-of-type {\n",
       "        vertical-align: middle;\n",
       "    }\n",
       "\n",
       "    .dataframe tbody tr th {\n",
       "        vertical-align: top;\n",
       "    }\n",
       "\n",
       "    .dataframe thead th {\n",
       "        text-align: right;\n",
       "    }\n",
       "</style>\n",
       "<table border=\"1\" class=\"dataframe\">\n",
       "  <thead>\n",
       "    <tr style=\"text-align: right;\">\n",
       "      <th></th>\n",
       "      <th>E_i</th>\n",
       "      <th>E_f</th>\n",
       "      <th>distances</th>\n",
       "      <th>deflection</th>\n",
       "      <th>x_dir_i</th>\n",
       "      <th>y_dir_i</th>\n",
       "      <th>z_dir_i</th>\n",
       "      <th>x_i</th>\n",
       "      <th>y_i</th>\n",
       "      <th>z_i</th>\n",
       "      <th>x_f</th>\n",
       "      <th>y_f</th>\n",
       "      <th>z_f</th>\n",
       "    </tr>\n",
       "  </thead>\n",
       "  <tbody>\n",
       "    <tr>\n",
       "      <th>0</th>\n",
       "      <td>1000000.0</td>\n",
       "      <td>804.044474</td>\n",
       "      <td>16705.590076</td>\n",
       "      <td>0.089600</td>\n",
       "      <td>0.0</td>\n",
       "      <td>0.0</td>\n",
       "      <td>1.0</td>\n",
       "      <td>0.0</td>\n",
       "      <td>0.0</td>\n",
       "      <td>0.0</td>\n",
       "      <td>276.410830</td>\n",
       "      <td>140.761727</td>\n",
       "      <td>1.670559e+06</td>\n",
       "    </tr>\n",
       "    <tr>\n",
       "      <th>1</th>\n",
       "      <td>1000000.0</td>\n",
       "      <td>429.053432</td>\n",
       "      <td>16667.627440</td>\n",
       "      <td>0.051016</td>\n",
       "      <td>0.0</td>\n",
       "      <td>0.0</td>\n",
       "      <td>1.0</td>\n",
       "      <td>0.0</td>\n",
       "      <td>0.0</td>\n",
       "      <td>0.0</td>\n",
       "      <td>40.004964</td>\n",
       "      <td>95.991237</td>\n",
       "      <td>1.666763e+06</td>\n",
       "    </tr>\n",
       "    <tr>\n",
       "      <th>2</th>\n",
       "      <td>1000000.0</td>\n",
       "      <td>806.975284</td>\n",
       "      <td>22335.080639</td>\n",
       "      <td>0.052130</td>\n",
       "      <td>0.0</td>\n",
       "      <td>0.0</td>\n",
       "      <td>1.0</td>\n",
       "      <td>0.0</td>\n",
       "      <td>0.0</td>\n",
       "      <td>0.0</td>\n",
       "      <td>-133.564637</td>\n",
       "      <td>67.376622</td>\n",
       "      <td>2.233508e+06</td>\n",
       "    </tr>\n",
       "    <tr>\n",
       "      <th>3</th>\n",
       "      <td>1000000.0</td>\n",
       "      <td>764.787055</td>\n",
       "      <td>20154.571102</td>\n",
       "      <td>0.070448</td>\n",
       "      <td>0.0</td>\n",
       "      <td>0.0</td>\n",
       "      <td>1.0</td>\n",
       "      <td>0.0</td>\n",
       "      <td>0.0</td>\n",
       "      <td>0.0</td>\n",
       "      <td>-223.335759</td>\n",
       "      <td>51.756591</td>\n",
       "      <td>2.015457e+06</td>\n",
       "    </tr>\n",
       "    <tr>\n",
       "      <th>4</th>\n",
       "      <td>1000000.0</td>\n",
       "      <td>662.782782</td>\n",
       "      <td>9186.171147</td>\n",
       "      <td>0.017255</td>\n",
       "      <td>0.0</td>\n",
       "      <td>0.0</td>\n",
       "      <td>1.0</td>\n",
       "      <td>0.0</td>\n",
       "      <td>0.0</td>\n",
       "      <td>0.0</td>\n",
       "      <td>-9.414595</td>\n",
       "      <td>-0.513590</td>\n",
       "      <td>9.186171e+05</td>\n",
       "    </tr>\n",
       "    <tr>\n",
       "      <th>...</th>\n",
       "      <td>...</td>\n",
       "      <td>...</td>\n",
       "      <td>...</td>\n",
       "      <td>...</td>\n",
       "      <td>...</td>\n",
       "      <td>...</td>\n",
       "      <td>...</td>\n",
       "      <td>...</td>\n",
       "      <td>...</td>\n",
       "      <td>...</td>\n",
       "      <td>...</td>\n",
       "      <td>...</td>\n",
       "      <td>...</td>\n",
       "    </tr>\n",
       "    <tr>\n",
       "      <th>72495</th>\n",
       "      <td>1000000.0</td>\n",
       "      <td>725.297809</td>\n",
       "      <td>13757.593203</td>\n",
       "      <td>0.018465</td>\n",
       "      <td>0.0</td>\n",
       "      <td>0.0</td>\n",
       "      <td>1.0</td>\n",
       "      <td>0.0</td>\n",
       "      <td>0.0</td>\n",
       "      <td>0.0</td>\n",
       "      <td>-38.792698</td>\n",
       "      <td>-3.460359</td>\n",
       "      <td>1.375759e+06</td>\n",
       "    </tr>\n",
       "    <tr>\n",
       "      <th>72496</th>\n",
       "      <td>1000000.0</td>\n",
       "      <td>842.812882</td>\n",
       "      <td>21715.326356</td>\n",
       "      <td>0.074449</td>\n",
       "      <td>0.0</td>\n",
       "      <td>0.0</td>\n",
       "      <td>1.0</td>\n",
       "      <td>0.0</td>\n",
       "      <td>0.0</td>\n",
       "      <td>0.0</td>\n",
       "      <td>-25.111527</td>\n",
       "      <td>23.582942</td>\n",
       "      <td>2.171533e+06</td>\n",
       "    </tr>\n",
       "    <tr>\n",
       "      <th>72497</th>\n",
       "      <td>1000000.0</td>\n",
       "      <td>101.841855</td>\n",
       "      <td>20054.292608</td>\n",
       "      <td>0.156202</td>\n",
       "      <td>0.0</td>\n",
       "      <td>0.0</td>\n",
       "      <td>1.0</td>\n",
       "      <td>0.0</td>\n",
       "      <td>0.0</td>\n",
       "      <td>0.0</td>\n",
       "      <td>-15.396054</td>\n",
       "      <td>44.026993</td>\n",
       "      <td>2.005429e+06</td>\n",
       "    </tr>\n",
       "    <tr>\n",
       "      <th>72498</th>\n",
       "      <td>1000000.0</td>\n",
       "      <td>1000.000000</td>\n",
       "      <td>14222.375519</td>\n",
       "      <td>0.143427</td>\n",
       "      <td>0.0</td>\n",
       "      <td>0.0</td>\n",
       "      <td>1.0</td>\n",
       "      <td>0.0</td>\n",
       "      <td>0.0</td>\n",
       "      <td>0.0</td>\n",
       "      <td>359.194948</td>\n",
       "      <td>-168.324308</td>\n",
       "      <td>1.422237e+06</td>\n",
       "    </tr>\n",
       "    <tr>\n",
       "      <th>72499</th>\n",
       "      <td>1000000.0</td>\n",
       "      <td>999.953021</td>\n",
       "      <td>22828.975844</td>\n",
       "      <td>0.064595</td>\n",
       "      <td>0.0</td>\n",
       "      <td>0.0</td>\n",
       "      <td>1.0</td>\n",
       "      <td>0.0</td>\n",
       "      <td>0.0</td>\n",
       "      <td>0.0</td>\n",
       "      <td>20.608889</td>\n",
       "      <td>44.853955</td>\n",
       "      <td>2.282898e+06</td>\n",
       "    </tr>\n",
       "  </tbody>\n",
       "</table>\n",
       "<p>72500 rows × 13 columns</p>\n",
       "</div>"
      ],
      "text/plain": [
       "             E_i          E_f     distances  deflection  x_dir_i  y_dir_i  \\\n",
       "0      1000000.0   804.044474  16705.590076    0.089600      0.0      0.0   \n",
       "1      1000000.0   429.053432  16667.627440    0.051016      0.0      0.0   \n",
       "2      1000000.0   806.975284  22335.080639    0.052130      0.0      0.0   \n",
       "3      1000000.0   764.787055  20154.571102    0.070448      0.0      0.0   \n",
       "4      1000000.0   662.782782   9186.171147    0.017255      0.0      0.0   \n",
       "...          ...          ...           ...         ...      ...      ...   \n",
       "72495  1000000.0   725.297809  13757.593203    0.018465      0.0      0.0   \n",
       "72496  1000000.0   842.812882  21715.326356    0.074449      0.0      0.0   \n",
       "72497  1000000.0   101.841855  20054.292608    0.156202      0.0      0.0   \n",
       "72498  1000000.0  1000.000000  14222.375519    0.143427      0.0      0.0   \n",
       "72499  1000000.0   999.953021  22828.975844    0.064595      0.0      0.0   \n",
       "\n",
       "       z_dir_i  x_i  y_i  z_i         x_f         y_f           z_f  \n",
       "0          1.0  0.0  0.0  0.0  276.410830  140.761727  1.670559e+06  \n",
       "1          1.0  0.0  0.0  0.0   40.004964   95.991237  1.666763e+06  \n",
       "2          1.0  0.0  0.0  0.0 -133.564637   67.376622  2.233508e+06  \n",
       "3          1.0  0.0  0.0  0.0 -223.335759   51.756591  2.015457e+06  \n",
       "4          1.0  0.0  0.0  0.0   -9.414595   -0.513590  9.186171e+05  \n",
       "...        ...  ...  ...  ...         ...         ...           ...  \n",
       "72495      1.0  0.0  0.0  0.0  -38.792698   -3.460359  1.375759e+06  \n",
       "72496      1.0  0.0  0.0  0.0  -25.111527   23.582942  2.171533e+06  \n",
       "72497      1.0  0.0  0.0  0.0  -15.396054   44.026993  2.005429e+06  \n",
       "72498      1.0  0.0  0.0  0.0  359.194948 -168.324308  1.422237e+06  \n",
       "72499      1.0  0.0  0.0  0.0   20.608889   44.853955  2.282898e+06  \n",
       "\n",
       "[72500 rows x 13 columns]"
      ]
     },
     "execution_count": 26,
     "metadata": {},
     "output_type": "execute_result"
    }
   ],
   "source": [
    "df_dict['df_03']"
   ]
  },
  {
   "cell_type": "code",
   "execution_count": 132,
   "id": "c28df73e-0e48-45f0-b90f-506be160dc5d",
   "metadata": {},
   "outputs": [
    {
     "data": {
      "text/plain": [
       "Text(0, 0.5, 'propagation distance in m')"
      ]
     },
     "execution_count": 132,
     "metadata": {},
     "output_type": "execute_result"
    },
    {
     "data": {
      "image/png": "[encoded data removed]",
      "text/plain": [
       "<Figure size 432x288 with 2 Axes>"
      ]
     },
     "metadata": {
      "needs_background": "light"
     },
     "output_type": "display_data"
    }
   ],
   "source": [
    "key = 'df_03'\n",
    "\n",
    "\n",
    "bins = (np.logspace(0, 3.2, 10), np.logspace(3.8, 4.5, 10))\n",
    "n = plt.hist2d(np.abs(df_dict[key].y_f), df_dict[key].distances, bins=bins) \n",
    "plt.xscale('log')\n",
    "plt.yscale('log')\n",
    "plt.colorbar()\n",
    "plt.xlabel('lateral displacement y in cm')\n",
    "plt.ylabel('propagation distance in m')"
   ]
  },
  {
   "cell_type": "code",
   "execution_count": 61,
   "id": "f0bf71b7-f9a4-421a-89a5-20834adeb85d",
   "metadata": {},
   "outputs": [
    {
     "name": "stdout",
     "output_type": "stream",
     "text": [
      "[[2.200e+01 3.300e+01 5.700e+01 7.100e+01 7.300e+01 6.800e+01 5.800e+01\n",
      "  1.700e+01 2.000e+00]\n",
      " [5.800e+01 7.200e+01 1.170e+02 1.650e+02 1.860e+02 1.600e+02 1.220e+02\n",
      "  4.600e+01 5.000e+00]\n",
      " [5.400e+01 1.240e+02 2.050e+02 3.500e+02 4.150e+02 3.870e+02 2.550e+02\n",
      "  1.180e+02 1.200e+01]\n",
      " [1.110e+02 1.940e+02 3.680e+02 5.460e+02 7.960e+02 8.130e+02 6.190e+02\n",
      "  2.320e+02 1.900e+01]\n",
      " [1.320e+02 2.780e+02 5.080e+02 9.420e+02 1.450e+03 1.684e+03 1.314e+03\n",
      "  5.270e+02 4.800e+01]\n",
      " [1.090e+02 2.460e+02 5.830e+02 1.079e+03 1.867e+03 2.560e+03 2.313e+03\n",
      "  9.090e+02 9.400e+01]\n",
      " [5.400e+01 1.310e+02 3.470e+02 6.930e+02 1.418e+03 2.302e+03 2.451e+03\n",
      "  1.238e+03 1.460e+02]\n",
      " [4.000e+00 2.200e+01 5.900e+01 1.400e+02 3.230e+02 6.430e+02 8.220e+02\n",
      "  5.060e+02 8.500e+01]\n",
      " [0.000e+00 0.000e+00 1.000e+00 6.000e+00 1.600e+01 3.100e+01 2.800e+01\n",
      "  2.900e+01 5.000e+00]]\n",
      "[1.00000000e+00 2.26754313e+00 5.14175183e+00 1.16591440e+01\n",
      " 2.64376119e+01 5.99484250e+01 1.35935639e+02 3.08239924e+02\n",
      " 6.98947321e+02 1.58489319e+03]\n",
      "[ 6309.5734448   7547.05956697  9027.25177948 10797.75162328\n",
      " 12915.49665015 15448.59147903 18478.49797422 22102.65497971\n",
      " 26437.61185749 31622.77660168]\n",
      "<matplotlib.collections.QuadMesh object at 0x7fc1a6d701d0>\n"
     ]
    }
   ],
   "source": [
    "print(n[0]) # counts\n",
    "print(n[1]) # x bins\n",
    "print(n[2]) # y bins\n",
    "print(n[3]) # object"
   ]
  },
  {
   "cell_type": "code",
   "execution_count": 104,
   "id": "994ff5c9-5d05-4a5a-a997-278d74959013",
   "metadata": {},
   "outputs": [
    {
     "name": "stdout",
     "output_type": "stream",
     "text": [
      "10 10\n",
      "9\n",
      "(9, 9)\n"
     ]
    },
    {
     "data": {
      "text/plain": [
       "Text(0, 0.5, 'propagation distance in m')"
      ]
     },
     "execution_count": 104,
     "metadata": {},
     "output_type": "execute_result"
    },
    {
     "data": {
      "image/png": "[encoded data removed]",
      "text/plain": [
       "<Figure size 432x288 with 2 Axes>"
      ]
     },
     "metadata": {
      "needs_background": "light"
     },
     "output_type": "display_data"
    }
   ],
   "source": [
    "x, y = np.meshgrid(n[1], n[2])\n",
    "print(len(x), len(y))\n",
    "z = n[0] # [:-1, :-1]\n",
    "print(len(z))\n",
    "print(np.shape(z))\n",
    "\n",
    "fig, ax = plt.subplots()\n",
    "\n",
    "c = ax.pcolormesh(x, y, z)\n",
    "ax.set_yscale('log')\n",
    "ax.set_xscale('log')\n",
    "ax.axis([x.min(), x.max(), y.min(), y.max()])\n",
    "cbar = fig.colorbar(c, ax=ax)\n",
    "cbar.ax.set_ylabel('counts')\n",
    "plt.xlabel('lateral displacement y in cm')\n",
    "plt.ylabel('propagation distance in m')"
   ]
  },
  {
   "cell_type": "code",
   "execution_count": 74,
   "id": "d48b1507-0379-4aff-a72b-851d90abfb80",
   "metadata": {},
   "outputs": [
    {
     "data": {
      "text/plain": [
       "array([[1.00000000e+00, 2.26754313e+00, 5.14175183e+00, 1.16591440e+01,\n",
       "        2.64376119e+01, 5.99484250e+01, 1.35935639e+02, 3.08239924e+02,\n",
       "        6.98947321e+02, 1.58489319e+03],\n",
       "       [1.00000000e+00, 2.26754313e+00, 5.14175183e+00, 1.16591440e+01,\n",
       "        2.64376119e+01, 5.99484250e+01, 1.35935639e+02, 3.08239924e+02,\n",
       "        6.98947321e+02, 1.58489319e+03],\n",
       "       [1.00000000e+00, 2.26754313e+00, 5.14175183e+00, 1.16591440e+01,\n",
       "        2.64376119e+01, 5.99484250e+01, 1.35935639e+02, 3.08239924e+02,\n",
       "        6.98947321e+02, 1.58489319e+03],\n",
       "       [1.00000000e+00, 2.26754313e+00, 5.14175183e+00, 1.16591440e+01,\n",
       "        2.64376119e+01, 5.99484250e+01, 1.35935639e+02, 3.08239924e+02,\n",
       "        6.98947321e+02, 1.58489319e+03],\n",
       "       [1.00000000e+00, 2.26754313e+00, 5.14175183e+00, 1.16591440e+01,\n",
       "        2.64376119e+01, 5.99484250e+01, 1.35935639e+02, 3.08239924e+02,\n",
       "        6.98947321e+02, 1.58489319e+03],\n",
       "       [1.00000000e+00, 2.26754313e+00, 5.14175183e+00, 1.16591440e+01,\n",
       "        2.64376119e+01, 5.99484250e+01, 1.35935639e+02, 3.08239924e+02,\n",
       "        6.98947321e+02, 1.58489319e+03],\n",
       "       [1.00000000e+00, 2.26754313e+00, 5.14175183e+00, 1.16591440e+01,\n",
       "        2.64376119e+01, 5.99484250e+01, 1.35935639e+02, 3.08239924e+02,\n",
       "        6.98947321e+02, 1.58489319e+03],\n",
       "       [1.00000000e+00, 2.26754313e+00, 5.14175183e+00, 1.16591440e+01,\n",
       "        2.64376119e+01, 5.99484250e+01, 1.35935639e+02, 3.08239924e+02,\n",
       "        6.98947321e+02, 1.58489319e+03],\n",
       "       [1.00000000e+00, 2.26754313e+00, 5.14175183e+00, 1.16591440e+01,\n",
       "        2.64376119e+01, 5.99484250e+01, 1.35935639e+02, 3.08239924e+02,\n",
       "        6.98947321e+02, 1.58489319e+03],\n",
       "       [1.00000000e+00, 2.26754313e+00, 5.14175183e+00, 1.16591440e+01,\n",
       "        2.64376119e+01, 5.99484250e+01, 1.35935639e+02, 3.08239924e+02,\n",
       "        6.98947321e+02, 1.58489319e+03]])"
      ]
     },
     "execution_count": 74,
     "metadata": {},
     "output_type": "execute_result"
    }
   ],
   "source": [
    "x # displacement"
   ]
  },
  {
   "cell_type": "code",
   "execution_count": 76,
   "id": "a2420166-f4e8-4772-b460-d45c246b6d19",
   "metadata": {},
   "outputs": [
    {
     "data": {
      "text/plain": [
       "array([[ 6309.5734448 ,  6309.5734448 ,  6309.5734448 ,  6309.5734448 ,\n",
       "         6309.5734448 ,  6309.5734448 ,  6309.5734448 ,  6309.5734448 ,\n",
       "         6309.5734448 ,  6309.5734448 ],\n",
       "       [ 7547.05956697,  7547.05956697,  7547.05956697,  7547.05956697,\n",
       "         7547.05956697,  7547.05956697,  7547.05956697,  7547.05956697,\n",
       "         7547.05956697,  7547.05956697],\n",
       "       [ 9027.25177948,  9027.25177948,  9027.25177948,  9027.25177948,\n",
       "         9027.25177948,  9027.25177948,  9027.25177948,  9027.25177948,\n",
       "         9027.25177948,  9027.25177948],\n",
       "       [10797.75162328, 10797.75162328, 10797.75162328, 10797.75162328,\n",
       "        10797.75162328, 10797.75162328, 10797.75162328, 10797.75162328,\n",
       "        10797.75162328, 10797.75162328],\n",
       "       [12915.49665015, 12915.49665015, 12915.49665015, 12915.49665015,\n",
       "        12915.49665015, 12915.49665015, 12915.49665015, 12915.49665015,\n",
       "        12915.49665015, 12915.49665015],\n",
       "       [15448.59147903, 15448.59147903, 15448.59147903, 15448.59147903,\n",
       "        15448.59147903, 15448.59147903, 15448.59147903, 15448.59147903,\n",
       "        15448.59147903, 15448.59147903],\n",
       "       [18478.49797422, 18478.49797422, 18478.49797422, 18478.49797422,\n",
       "        18478.49797422, 18478.49797422, 18478.49797422, 18478.49797422,\n",
       "        18478.49797422, 18478.49797422],\n",
       "       [22102.65497971, 22102.65497971, 22102.65497971, 22102.65497971,\n",
       "        22102.65497971, 22102.65497971, 22102.65497971, 22102.65497971,\n",
       "        22102.65497971, 22102.65497971],\n",
       "       [26437.61185749, 26437.61185749, 26437.61185749, 26437.61185749,\n",
       "        26437.61185749, 26437.61185749, 26437.61185749, 26437.61185749,\n",
       "        26437.61185749, 26437.61185749],\n",
       "       [31622.77660168, 31622.77660168, 31622.77660168, 31622.77660168,\n",
       "        31622.77660168, 31622.77660168, 31622.77660168, 31622.77660168,\n",
       "        31622.77660168, 31622.77660168]])"
      ]
     },
     "execution_count": 76,
     "metadata": {},
     "output_type": "execute_result"
    }
   ],
   "source": [
    "y # propagations distance"
   ]
  },
  {
   "cell_type": "code",
   "execution_count": 133,
   "id": "3d6b0aa4-5263-41f9-aa2b-e86f9272484f",
   "metadata": {},
   "outputs": [
    {
     "data": {
      "text/plain": [
       "array([ 6309.5734448 ,  7547.05956697,  9027.25177948, 10797.75162328,\n",
       "       12915.49665015, 15448.59147903, 18478.49797422, 22102.65497971,\n",
       "       26437.61185749, 31622.77660168])"
      ]
     },
     "execution_count": 133,
     "metadata": {},
     "output_type": "execute_result"
    }
   ],
   "source": [
    "y_uni = np.unique(y)\n",
    "y_uni"
   ]
  },
  {
   "cell_type": "code",
   "execution_count": 134,
   "id": "69838298-3f7d-4407-b282-aea3d0cb6870",
   "metadata": {},
   "outputs": [
    {
     "data": {
      "text/plain": [
       "array([1.00000000e+00, 2.26754313e+00, 5.14175183e+00, 1.16591440e+01,\n",
       "       2.64376119e+01, 5.99484250e+01, 1.35935639e+02, 3.08239924e+02,\n",
       "       6.98947321e+02, 1.58489319e+03])"
      ]
     },
     "execution_count": 134,
     "metadata": {},
     "output_type": "execute_result"
    }
   ],
   "source": [
    "x_uni = np.unique(x)\n",
    "x_uni"
   ]
  },
  {
   "cell_type": "code",
   "execution_count": 128,
   "id": "5a64c204-c682-4ade-b095-3b9dccab0cb0",
   "metadata": {},
   "outputs": [
    {
     "name": "stdout",
     "output_type": "stream",
     "text": [
      "10 10\n",
      "9\n",
      "(9, 9)\n"
     ]
    },
    {
     "data": {
      "text/plain": [
       "<matplotlib.colorbar.Colorbar at 0x7fc12fded668>"
      ]
     },
     "execution_count": 128,
     "metadata": {},
     "output_type": "execute_result"
    },
    {
     "data": {
      "image/png": "[encoded data removed]",
      "text/plain": [
       "<Figure size 432x288 with 2 Axes>"
      ]
     },
     "metadata": {
      "needs_background": "light"
     },
     "output_type": "display_data"
    }
   ],
   "source": [
    "key = 'df_03'\n",
    "\n",
    "defl_med = []\n",
    "for i_y in range(len(y_uni)-1):\n",
    "    defl_med_per_y = []\n",
    "    for i_x in range(len(x_uni)-1):\n",
    "        d = df_dict[key].deflection[(np.abs(df_dict[key].y_f) > x_uni[i_x]) & (np.abs(df_dict[key].y_f) < x_uni[i_x+1])\n",
    "                                  & (df_dict[key].distances > y_uni[i_y]) & (df_dict[key].distances < y_uni[i_y+1])].values\n",
    "        if len(d) != 0:\n",
    "            defl_med_per_y.append(np.median(d))\n",
    "        else:\n",
    "            defl_med_per_y.append(0)\n",
    "    defl_med.append(defl_med_per_y)\n",
    "    \n",
    "x, y = np.meshgrid(n[1], n[2])\n",
    "print(len(x), len(y))\n",
    "z = n[0] # [:-1, :-1]\n",
    "print(len(z))\n",
    "print(np.shape(z))\n",
    "\n",
    "fig, ax = plt.subplots()\n",
    "\n",
    "c = ax.pcolormesh(x, y, defl_med, norm=mpl.colors.LogNorm())\n",
    "ax.set_yscale('log')\n",
    "ax.set_xscale('log')\n",
    "ax.axis([x.min(), x.max(), y.min(), y.max()])\n",
    "fig.colorbar(c, ax=ax)"
   ]
  },
  {
   "cell_type": "code",
   "execution_count": null,
   "id": "5189ce3f-c97e-431e-ba02-84916dfff960",
   "metadata": {},
   "outputs": [],
   "source": []
  },
  {
   "cell_type": "code",
   "execution_count": 141,
   "id": "632a3095-9914-4a92-8379-d6fa618d7b96",
   "metadata": {},
   "outputs": [
    {
     "name": "stdout",
     "output_type": "stream",
     "text": [
      "10 10\n",
      "9\n",
      "(9, 9)\n"
     ]
    },
    {
     "data": {
      "text/plain": [
       "Text(0, 0.5, 'propagation distance in m')"
      ]
     },
     "execution_count": 141,
     "metadata": {},
     "output_type": "execute_result"
    },
    {
     "data": {
      "image/png": "[encoded data removed]",
      "text/plain": [
       "<Figure size 432x288 with 2 Axes>"
      ]
     },
     "metadata": {
      "needs_background": "light"
     },
     "output_type": "display_data"
    }
   ],
   "source": [
    "key = 'df_03'\n",
    "\n",
    "x_dis = []\n",
    "for i_y in range(len(y_uni)-1):\n",
    "    x_dis_per_y = []\n",
    "    for i_x in range(len(x_uni)-1):\n",
    "        d = df_dict[key].x_f[(np.abs(df_dict[key].y_f) >= x_uni[i_x]) & (np.abs(df_dict[key].y_f) < x_uni[i_x+1])\n",
    "                                  & (df_dict[key].distances >= y_uni[i_y]) & (df_dict[key].distances < y_uni[i_y+1])].values\n",
    "        if len(d) != 0:\n",
    "            x_dis_per_y.append(np.median(np.abs(d)))\n",
    "        else:\n",
    "            x_dis_per_y.append(0)\n",
    "    x_dis.append(x_dis_per_y)\n",
    "    \n",
    "x, y = np.meshgrid(n[1], n[2])\n",
    "print(len(x), len(y))\n",
    "z = n[0] # [:-1, :-1]\n",
    "print(len(z))\n",
    "print(np.shape(z))\n",
    "\n",
    "fig, ax = plt.subplots()\n",
    "\n",
    "c = ax.pcolormesh(x, y, x_dis, norm=mpl.colors.LogNorm())\n",
    "ax.set_yscale('log')\n",
    "ax.set_xscale('log')\n",
    "ax.axis([x.min(), x.max(), y.min(), y.max()])\n",
    "cbar = fig.colorbar(c, ax=ax)\n",
    "cbar.ax.set_ylabel('median of lateral displacement x in cm')\n",
    "plt.xlabel('lateral displacement y in cm')\n",
    "plt.ylabel('propagation distance in m')"
   ]
  },
  {
   "cell_type": "code",
   "execution_count": 142,
   "id": "2d5aebab-3b1a-4da3-8053-965c9ab64e18",
   "metadata": {},
   "outputs": [
    {
     "name": "stdout",
     "output_type": "stream",
     "text": [
      "100\n"
     ]
    },
    {
     "data": {
      "text/plain": [
       "<matplotlib.colorbar.Colorbar at 0x7fc12f764ba8>"
      ]
     },
     "execution_count": 142,
     "metadata": {},
     "output_type": "execute_result"
    },
    {
     "data": {
      "image/png": "[encoded data removed]",
      "text/plain": [
       "<Figure size 432x288 with 2 Axes>"
      ]
     },
     "metadata": {
      "needs_background": "light"
     },
     "output_type": "display_data"
    }
   ],
   "source": [
    "# generate 2 2d grids for the x & y bounds\n",
    "x, y = np.meshgrid(np.linspace(-3, 3, 100), np.linspace(-1, 1, 100))\n",
    "print(len(x))\n",
    "\n",
    "z = (1 - x / 2. + x ** 5 + y ** 3) * np.exp(-x ** 2 - y ** 2) \n",
    "# x and y are bounds, so z should be the value *inside* those bounds.\n",
    "# Therefore, remove the last value from the z array.\n",
    "z = z[:-1, :-1]\n",
    "z_min, z_max = -np.abs(z).max(), np.abs(z).max()\n",
    "\n",
    "fig, ax = plt.subplots()\n",
    "\n",
    "c = ax.pcolormesh(x, y, z, cmap='RdBu', vmin=z_min, vmax=z_max)\n",
    "ax.set_title('pcolormesh')\n",
    "# set the limits of the plot to the limits of the data\n",
    "ax.axis([x.min(), x.max(), y.min(), y.max()])\n",
    "fig.colorbar(c, ax=ax)"
   ]
  },
  {
   "cell_type": "code",
   "execution_count": 147,
   "id": "5fbe03e8-3c40-46ac-8a29-decb5d8f2718",
   "metadata": {},
   "outputs": [
    {
     "data": {
      "text/plain": [
       "array([[-3.        , -2.93939394, -2.87878788, ...,  2.87878788,\n",
       "         2.93939394,  3.        ],\n",
       "       [-3.        , -2.93939394, -2.87878788, ...,  2.87878788,\n",
       "         2.93939394,  3.        ],\n",
       "       [-3.        , -2.93939394, -2.87878788, ...,  2.87878788,\n",
       "         2.93939394,  3.        ],\n",
       "       ...,\n",
       "       [-3.        , -2.93939394, -2.87878788, ...,  2.87878788,\n",
       "         2.93939394,  3.        ],\n",
       "       [-3.        , -2.93939394, -2.87878788, ...,  2.87878788,\n",
       "         2.93939394,  3.        ],\n",
       "       [-3.        , -2.93939394, -2.87878788, ...,  2.87878788,\n",
       "         2.93939394,  3.        ]])"
      ]
     },
     "execution_count": 147,
     "metadata": {},
     "output_type": "execute_result"
    }
   ],
   "source": [
    "x"
   ]
  },
  {
   "cell_type": "code",
   "execution_count": 145,
   "id": "10fb325b-634f-438c-9b10-3a22e10bae93",
   "metadata": {},
   "outputs": [
    {
     "data": {
      "text/plain": [
       "array([-3.        , -2.93939394, -2.87878788, -2.81818182, -2.75757576,\n",
       "       -2.6969697 , -2.63636364, -2.57575758, -2.51515152, -2.45454545,\n",
       "       -2.39393939, -2.33333333, -2.27272727, -2.21212121, -2.15151515,\n",
       "       -2.09090909, -2.03030303, -1.96969697, -1.90909091, -1.84848485,\n",
       "       -1.78787879, -1.72727273, -1.66666667, -1.60606061, -1.54545455,\n",
       "       -1.48484848, -1.42424242, -1.36363636, -1.3030303 , -1.24242424,\n",
       "       -1.18181818, -1.12121212, -1.06060606, -1.        , -0.93939394,\n",
       "       -0.87878788, -0.81818182, -0.75757576, -0.6969697 , -0.63636364,\n",
       "       -0.57575758, -0.51515152, -0.45454545, -0.39393939, -0.33333333,\n",
       "       -0.27272727, -0.21212121, -0.15151515, -0.09090909, -0.03030303,\n",
       "        0.03030303,  0.09090909,  0.15151515,  0.21212121,  0.27272727,\n",
       "        0.33333333,  0.39393939,  0.45454545,  0.51515152,  0.57575758,\n",
       "        0.63636364,  0.6969697 ,  0.75757576,  0.81818182,  0.87878788,\n",
       "        0.93939394,  1.        ,  1.06060606,  1.12121212,  1.18181818,\n",
       "        1.24242424,  1.3030303 ,  1.36363636,  1.42424242,  1.48484848,\n",
       "        1.54545455,  1.60606061,  1.66666667,  1.72727273,  1.78787879,\n",
       "        1.84848485,  1.90909091,  1.96969697,  2.03030303,  2.09090909,\n",
       "        2.15151515,  2.21212121,  2.27272727,  2.33333333,  2.39393939,\n",
       "        2.45454545,  2.51515152,  2.57575758,  2.63636364,  2.6969697 ,\n",
       "        2.75757576,  2.81818182,  2.87878788,  2.93939394,  3.        ])"
      ]
     },
     "execution_count": 145,
     "metadata": {},
     "output_type": "execute_result"
    }
   ],
   "source": [
    "x[0]"
   ]
  },
  {
   "cell_type": "code",
   "execution_count": 144,
   "id": "5cba10b0-008d-4b50-947f-bb03e49a2930",
   "metadata": {},
   "outputs": [
    {
     "data": {
      "text/plain": [
       "array([[-1.        , -1.        , -1.        , ..., -1.        ,\n",
       "        -1.        , -1.        ],\n",
       "       [-0.97979798, -0.97979798, -0.97979798, ..., -0.97979798,\n",
       "        -0.97979798, -0.97979798],\n",
       "       [-0.95959596, -0.95959596, -0.95959596, ..., -0.95959596,\n",
       "        -0.95959596, -0.95959596],\n",
       "       ...,\n",
       "       [ 0.95959596,  0.95959596,  0.95959596, ...,  0.95959596,\n",
       "         0.95959596,  0.95959596],\n",
       "       [ 0.97979798,  0.97979798,  0.97979798, ...,  0.97979798,\n",
       "         0.97979798,  0.97979798],\n",
       "       [ 1.        ,  1.        ,  1.        , ...,  1.        ,\n",
       "         1.        ,  1.        ]])"
      ]
     },
     "execution_count": 144,
     "metadata": {},
     "output_type": "execute_result"
    }
   ],
   "source": [
    "y"
   ]
  },
  {
   "cell_type": "code",
   "execution_count": 146,
   "id": "a44118a3-ee95-4fcf-95e5-294b07c847ed",
   "metadata": {},
   "outputs": [
    {
     "data": {
      "text/plain": [
       "(100, 100)"
      ]
     },
     "execution_count": 146,
     "metadata": {},
     "output_type": "execute_result"
    }
   ],
   "source": [
    "np.shape(x)"
   ]
  },
  {
   "cell_type": "markdown",
   "id": "18ebe62a-333d-4490-be81-51f456991a52",
   "metadata": {
    "tags": []
   },
   "source": [
    "# calculate kinematic angle"
   ]
  },
  {
   "cell_type": "code",
   "execution_count": null,
   "id": "6af9a31b-23d9-4578-8db2-5ac0ca6880eb",
   "metadata": {},
   "outputs": [],
   "source": [
    "def computeFinalStateAngles(E_total, x, y, M_N):\n",
    "    '''\n",
    "    Parameters\n",
    "    ----------\n",
    "    E_total: total neutrino energy (E_i = E_total, E_f = E1)\n",
    "    x: (4 * E_i * E_f * np.sin(theta)**2) / (2 * m_p * (E_i - E_f)) (Bjorken)\n",
    "    y: expected energy transfer (Bjorken)\n",
    "    M_N: mass of nucleon\n",
    "    '''\n",
    "    muon_mass = 105.66 / 1e3\n",
    "    theta1 = 0\n",
    "    theta2 = 0\n",
    "    m1 = muon_mass\n",
    "    E1 = (1 - y) * E_total\n",
    "    kE1sq = E1**2 - m1**2\n",
    "    cos_theta1 = (E1 - x*y*M_N - (m1**2)/2 * E_total) / np.sqrt(kE1sq)\n",
    "    kE1 = np.sqrt(kE1sq)\n",
    "    theta1 = np.arccos(cos_theta1)\n",
    "    p_long = E_total - kE1*cos_theta1\n",
    "    p_trans = kE1 * np.sin(theta1)\n",
    "    theta2 = np.arctan(p_trans/p_long)\n",
    "    return theta1, theta2\n",
    "\n",
    "E_total = 1e2 # GeV\n",
    "# x = \n",
    "y = spl_nu(E_total)\n",
    "# M_N = \n",
    "# computeFinalStateAngles(E_total, x, y, M_N)"
   ]
  },
  {
   "cell_type": "code",
   "execution_count": null,
   "id": "a6ba5481-4eaa-4130-a8ab-ab4b0f53771a",
   "metadata": {},
   "outputs": [],
   "source": [
    "def computeScatteringAngleANIS(E_nu, x, y, M_N):\n",
    "    cos_theta = 1 - x*y*M_N / ((1-y) * E_nu)\n",
    "    return np.arccos(cos_theta)"
   ]
  },
  {
   "cell_type": "code",
   "execution_count": null,
   "id": "8e8ece59-c567-446d-9885-6e501a85e2b1",
   "metadata": {},
   "outputs": [],
   "source": []
  }
 ],
 "metadata": {
  "kernelspec": {
   "display_name": "Python 3",
   "language": "python",
   "name": "python3"
  },
  "language_info": {
   "codemirror_mode": {
    "name": "ipython",
    "version": 3
   },
   "file_extension": ".py",
   "mimetype": "text/x-python",
   "name": "python",
   "nbconvert_exporter": "python",
   "pygments_lexer": "ipython3",
   "version": "3.6.8"
  }
 },
 "nbformat": 4,
 "nbformat_minor": 5
}
