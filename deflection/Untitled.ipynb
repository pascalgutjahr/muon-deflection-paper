{
 "cells": [
  {
   "cell_type": "code",
   "execution_count": null,
   "id": "8e00aed6",
   "metadata": {},
   "outputs": [],
   "source": [
    "1. vergleiche highland scattering mit moliere\n",
    "2. stelle in der propagation m_scat und stochastic deflection einmal an und einmal aus --> vgl.\n",
    "3. erstelle nicht nur einen plot mit der Winkelablenkung sondern auch einen plot der Abweichung zur Schauerachse\n",
    "4. speichere dazu die Position des Teilchens mit ab"
   ]
  },
  {
   "cell_type": "code",
   "execution_count": null,
   "id": "7fc53f9f",
   "metadata": {},
   "outputs": [],
   "source": []
  }
 ],
 "metadata": {
  "kernelspec": {
   "display_name": "Python 3 (ipykernel)",
   "language": "python",
   "name": "python3"
  },
  "language_info": {
   "codemirror_mode": {
    "name": "ipython",
    "version": 3
   },
   "file_extension": ".py",
   "mimetype": "text/x-python",
   "name": "python",
   "nbconvert_exporter": "python",
   "pygments_lexer": "ipython3",
   "version": "3.8.2"
  }
 },
 "nbformat": 4,
 "nbformat_minor": 5
}
