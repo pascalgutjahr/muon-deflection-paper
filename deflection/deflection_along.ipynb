{
 "cells": [
  {
   "cell_type": "code",
   "execution_count": 1,
   "id": "967c7d48-a5bb-48ac-934e-390735f9e972",
   "metadata": {},
   "outputs": [],
   "source": [
    "import pandas as pd \n",
    "import numpy as np \n",
    "import matplotlib.pyplot as plt \n",
    "import os \n",
    "from tqdm import tqdm"
   ]
  },
  {
   "cell_type": "code",
   "execution_count": 2,
   "id": "f8d17c05-526a-4eeb-8c40-6c45e0034c49",
   "metadata": {},
   "outputs": [
    {
     "data": {
      "text/plain": [
       "0"
      ]
     },
     "execution_count": 2,
     "metadata": {},
     "output_type": "execute_result"
    }
   ],
   "source": [
    "save_plot = False\n",
    "\n",
    "# currentNotebook = ipyparams.notebook_name[:len(ipyparams.notebook_name)-6] # get name of currect notebook\n",
    "# assert currentNotebook != '', \"no notebook name, run cell again\"\n",
    "\n",
    "currentNotebook = \"deflection_along\"\n",
    "\n",
    "plot_dir = 'plots/{}/'.format(currentNotebook)\n",
    "os.system('mkdir -p {}'.format(plot_dir))\n",
    "\n",
    "df_dir = 'data/{}/'.format(currentNotebook)\n",
    "os.system('mkdir -p {}'.format(df_dir))"
   ]
  },
  {
   "cell_type": "code",
   "execution_count": 3,
   "id": "488b737a-6610-447a-acaa-bc6a607010a7",
   "metadata": {},
   "outputs": [
    {
     "name": "stderr",
     "output_type": "stream",
     "text": [
      "100%|██████████| 5/5 [00:00<00:00,  8.55it/s]\n"
     ]
    }
   ],
   "source": [
    "data_along_track_01 = {\n",
    "        'along_defl_stoch': None,\n",
    "        'along_defl_cont': None,\n",
    "        'along_defl_type': None,\n",
    "        'along_defl_angle_stoch': None,\n",
    "        'along_defl_angle_cont': None,   \n",
    "    }\n",
    "\n",
    "for key in tqdm(data_along_track_01.keys()):\n",
    "    df_ = pd.read_hdf('data/data_along/data_along_deflection_along_01.hdf5', key='seed_3_{}'.format(key))\n",
    "    data_along_track_01[key] = df_[df_.keys()[0]].to_numpy()\n",
    "    df_01 = pd.read_hdf('data/data_along/data_along_deflection_along_01.hdf5', key='seed_3')    "
   ]
  },
  {
   "cell_type": "code",
   "execution_count": 4,
   "id": "1768df7b-ca4f-43d7-910a-fdad38e20c3d",
   "metadata": {},
   "outputs": [
    {
     "data": {
      "text/plain": [
       "394"
      ]
     },
     "execution_count": 4,
     "metadata": {},
     "output_type": "execute_result"
    }
   ],
   "source": [
    "np.sum(df_01.E_f == 1e3)"
   ]
  },
  {
   "cell_type": "code",
   "execution_count": 5,
   "id": "dbe64559-0e28-42c6-86b4-120718307ef5",
   "metadata": {},
   "outputs": [
    {
     "name": "stderr",
     "output_type": "stream",
     "text": [
      "100%|██████████| 4/4 [00:00<00:00, 10.83it/s]\n"
     ]
    },
    {
     "data": {
      "image/png": "[encoded data removed]",
      "text/plain": [
       "<Figure size 432x288 with 1 Axes>"
      ]
     },
     "metadata": {
      "needs_background": "light"
     },
     "output_type": "display_data"
    }
   ],
   "source": [
    "types_reverse = {\n",
    "            '-1': 'track length too short',\n",
    "            '0': 'cont',\n",
    "            '1': 'epair',\n",
    "            '2': 'brems',\n",
    "            '3': 'nuclInt',\n",
    "            '4': 'ioniz',\n",
    "            '5': 'decay'\n",
    "    }\n",
    "\n",
    "stoch_defl = data_along_track_01['along_defl_stoch']\n",
    "stoch_types = data_along_track_01['along_defl_type'][(data_along_track_01['along_defl_type']!=0)]\n",
    "bins = np.logspace(-13, 0, 50)\n",
    "for i,typ in enumerate(tqdm(np.unique(stoch_types))):\n",
    "    plt.hist(np.deg2rad(stoch_defl[stoch_types==typ]), \\\n",
    "             bins=bins, histtype='step', label=types_reverse[str(typ)])\n",
    "plt.hist(np.deg2rad(data_along_track_01['along_defl_stoch']), color='black', histtype='step', bins=bins, label='all events')\n",
    "plt.xscale('log')\n",
    "plt.yscale('log')\n",
    "plt.xlabel('zenith diff in rad')\n",
    "plt.ylabel('counts')\n",
    "plt.legend()\n",
    "plt.tight_layout()\n",
    "# if save_plot:\n",
    "    \n",
    "    # plt.savefig(plot_dir + '1PeV_10TeV_defl_zenith_rad_diff_for_eacht_type_{}events_{}.pdf'.format(n_events, param_name)) "
   ]
  },
  {
   "cell_type": "code",
   "execution_count": 6,
   "id": "18265d76-7332-4e6c-8afc-734dc610dcf7",
   "metadata": {},
   "outputs": [
    {
     "name": "stdout",
     "output_type": "stream",
     "text": [
      "6.254269844201323052e-07\n"
     ]
    },
    {
     "data": {
      "image/png": "[encoded data removed]",
      "text/plain": [
       "<Figure size 432x288 with 1 Axes>"
      ]
     },
     "metadata": {
      "needs_background": "light"
     },
     "output_type": "display_data"
    }
   ],
   "source": [
    "angles_stoch = data_along_track_01['along_defl_angle_stoch']\n",
    "angles_cont = data_along_track_01['along_defl_angle_cont']\n",
    "plt.hist(np.deg2rad(angles_stoch), bins=bins, histtype='step', label='stoch')\n",
    "plt.hist(np.deg2rad(angles_cont), bins=bins, histtype='step', label='m_scat')\n",
    "plt.xscale('log')\n",
    "plt.yscale('log')\n",
    "plt.xlabel('deflection in rad')\n",
    "plt.legend()\n",
    "print(np.min(angles_stoch[angles_stoch!=0]))"
   ]
  },
  {
   "cell_type": "code",
   "execution_count": null,
   "id": "177df1d2-cb78-4120-aba9-4acf30deb54f",
   "metadata": {},
   "outputs": [],
   "source": []
  }
 ],
 "metadata": {
  "kernelspec": {
   "display_name": "Python 3 (ipykernel)",
   "language": "python",
   "name": "python3"
  },
  "language_info": {
   "codemirror_mode": {
    "name": "ipython",
    "version": 3
   },
   "file_extension": ".py",
   "mimetype": "text/x-python",
   "name": "python",
   "nbconvert_exporter": "python",
   "pygments_lexer": "ipython3",
   "version": "3.8.2"
  }
 },
 "nbformat": 4,
 "nbformat_minor": 5
}
